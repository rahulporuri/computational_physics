{
 "metadata": {
  "name": ""
 },
 "nbformat": 3,
 "nbformat_minor": 0,
 "worksheets": [
  {
   "cells": [
    {
     "cell_type": "code",
     "collapsed": false,
     "input": [
      "import numpy as np\n",
      "import matplotlib.pyplot as plt\n",
      "%matplotlib inline"
     ],
     "language": "python",
     "metadata": {},
     "outputs": [],
     "prompt_number": 12
    },
    {
     "cell_type": "code",
     "collapsed": false,
     "input": [
      "iterations = 100\n",
      "#global y\n",
      "y = 1.\n",
      "#global dy\n",
      "dy = 0.\n",
      "h = 0.05 # step size\n",
      "w = 1. # omega or the time period\n",
      "ylist = []\n",
      "dylist = []\n",
      "ylist.append(y)\n",
      "dylist.append(dy)\n",
      "#k1, k2, K1, K2 = 0, 0, 0, 0"
     ],
     "language": "python",
     "metadata": {},
     "outputs": [],
     "prompt_number": 41
    },
    {
     "cell_type": "code",
     "collapsed": false,
     "input": [
      "def k_update():\n",
      "    k1 = dy # y update\n",
      "    K1 = -y # dy update\n",
      "    k2 = dy + K1*h # y update\n",
      "    K2 = -(y+h)# dy update\n",
      "\n",
      "def system_update():\n",
      "    global y\n",
      "    global dy\n",
      "    y += h*(k1+k2)/2.\n",
      "    dy += h*(K1+K2)/2.\n",
      "\n",
      "for i in xrange(iterations):\n",
      "    #k_update()\n",
      "    k1 = dy # y update\n",
      "    K1 = -y # dy update\n",
      "    k2 = dy + K1*h # y update\n",
      "    K2 = -(y+h)# dy update    \n",
      "    #print k1, k2, K1, K2\n",
      "    y += h*(k1+k2)/2.\n",
      "    dy += h*(K1+K2)/2.\n",
      "    #system_update()\n",
      "    #y += h*(k1+k2)/2.\n",
      "    #dy += h*(K1+K2)/2.\n",
      "    ylist.append(y)\n",
      "    dylist.append(dy)"
     ],
     "language": "python",
     "metadata": {},
     "outputs": [],
     "prompt_number": 43
    },
    {
     "cell_type": "code",
     "collapsed": false,
     "input": [
      "plt.plot(ylist)"
     ],
     "language": "python",
     "metadata": {},
     "outputs": [
      {
       "metadata": {},
       "output_type": "pyout",
       "prompt_number": 44,
       "text": [
        "[<matplotlib.lines.Line2D at 0xb15142cc>]"
       ]
      },
      {
       "metadata": {},
       "output_type": "display_data",
       "png": "[encoded data removed]",
       "text": [
        "<matplotlib.figure.Figure at 0xb12efe8c>"
       ]
      }
     ],
     "prompt_number": 44
    },
    {
     "cell_type": "code",
     "collapsed": false,
     "input": [],
     "language": "python",
     "metadata": {},
     "outputs": []
    }
   ],
   "metadata": {}
  }
 ]
}