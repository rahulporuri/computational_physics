{
 "metadata": {
  "name": ""
 },
 "nbformat": 3,
 "nbformat_minor": 0,
 "worksheets": [
  {
   "cells": [
    {
     "cell_type": "code",
     "collapsed": false,
     "input": [
      "import numpy as np\n",
      "import matplotlib.pyplot as plt\n",
      "%matplotlib inline"
     ],
     "language": "python",
     "metadata": {},
     "outputs": [],
     "prompt_number": 2
    },
    {
     "cell_type": "code",
     "collapsed": false,
     "input": [
      "iterations = 100\n",
      "#global y\n",
      "y = 1.\n",
      "#global dy\n",
      "dy = 0.\n",
      "h = 0.1 # step size\n",
      "w = 1. # omega or the time period\n",
      "#k1, k2, K1, K2 = 0, 0, 0, 0"
     ],
     "language": "python",
     "metadata": {},
     "outputs": [],
     "prompt_number": 72
    },
    {
     "cell_type": "code",
     "collapsed": false,
     "input": [
      "rk2ylist = []\n",
      "rk2dylist = []\n",
      "rk2ylist.append(y)\n",
      "rk2dylist.append(dy)"
     ],
     "language": "python",
     "metadata": {},
     "outputs": [],
     "prompt_number": 79
    },
    {
     "cell_type": "code",
     "collapsed": false,
     "input": [
      "rk2y = 1.\n",
      "rk2dy= 0.\n",
      "for i in xrange(iterations):\n",
      "    #k_update()\n",
      "    rk2k1 = rk2dy # y update\n",
      "    rk2K1 = -rk2y # dy update\n",
      "    rk2k2 = rk2dy + rk2K1*h # y update\n",
      "    rk2K2 = -(rk2y+h)# dy update    \n",
      "    #print k1, k2, K1, K2\n",
      "    rk2y += h*(rk2k1+rk2k2)/2.\n",
      "    rk2dy += h*(rk2K1+rk2K2)/2.\n",
      "    #system_update()\n",
      "    #y += h*(k1+k2)/2.\n",
      "    #dy += h*(K1+K2)/2.\n",
      "    rk2ylist.append(rk2y)\n",
      "    rk2dylist.append(rk2dy)"
     ],
     "language": "python",
     "metadata": {},
     "outputs": [],
     "prompt_number": 80
    },
    {
     "cell_type": "code",
     "collapsed": false,
     "input": [
      "plt.plot(ylist,'o',dylist,'x')"
     ],
     "language": "python",
     "metadata": {},
     "outputs": [
      {
       "metadata": {},
       "output_type": "pyout",
       "prompt_number": 71,
       "text": [
        "[<matplotlib.lines.Line2D at 0xb153f22c>,\n",
        " <matplotlib.lines.Line2D at 0xb153f66c>]"
       ]
      },
      {
       "metadata": {},
       "output_type": "display_data",
       "png": "[encoded data removed]",
       "text": [
        "<matplotlib.figure.Figure at 0xb1584c2c>"
       ]
      }
     ],
     "prompt_number": 71
    },
    {
     "cell_type": "markdown",
     "metadata": {},
     "source": [
      "> now, to compare how the different rk methods i.e 2,3,4 match up against one another."
     ]
    },
    {
     "cell_type": "code",
     "collapsed": false,
     "input": [
      "rk4ylist = []\n",
      "rk4dylist = []\n",
      "rk4ylist.append(y)\n",
      "rk4dylist.append(dy)"
     ],
     "language": "python",
     "metadata": {},
     "outputs": [],
     "prompt_number": 73
    },
    {
     "cell_type": "code",
     "collapsed": false,
     "input": [
      "y = 1.\n",
      "dy = 0."
     ],
     "language": "python",
     "metadata": {},
     "outputs": [],
     "prompt_number": 74
    },
    {
     "cell_type": "code",
     "collapsed": false,
     "input": [
      "for i in xrange(iterations):\n",
      "    #k_update()\n",
      "    k1 = dy # y update\n",
      "    K1 = -y # dy update\n",
      "    k2 = dy + K1*h/2. # y update\n",
      "    K2 = -(y+h/2.)# dy update    \n",
      "    k3 = dy + K2*h/2. # y update\n",
      "    K3 = -(y+h/2.)# dy update\n",
      "    k4 = dy + K3*h # y update\n",
      "    K4 = -(y+h)# dy update\n",
      "    #print k1, k2, K1, K2\n",
      "    y += h*(k1+2*k2+2*k3+k4)/6.\n",
      "    dy += h*(K1+K2+K3+K4)/6.\n",
      "    #system_update()\n",
      "    #y += h*(k1+k2)/2.\n",
      "    #dy += h*(K1+K2)/2.\n",
      "    rk4ylist.append(y)\n",
      "    rk4dylist.append(dy)"
     ],
     "language": "python",
     "metadata": {},
     "outputs": [],
     "prompt_number": 75
    },
    {
     "cell_type": "code",
     "collapsed": false,
     "input": [
      "plt.plot(ylist,'o',dylist,'x')"
     ],
     "language": "python",
     "metadata": {},
     "outputs": [
      {
       "metadata": {},
       "output_type": "pyout",
       "prompt_number": 76,
       "text": [
        "[<matplotlib.lines.Line2D at 0xb1518b2c>,\n",
        " <matplotlib.lines.Line2D at 0xb151884c>]"
       ]
      },
      {
       "metadata": {},
       "output_type": "display_data",
       "png": "[encoded data removed]",
       "text": [
        "<matplotlib.figure.Figure at 0xb155298c>"
       ]
      }
     ],
     "prompt_number": 76
    },
    {
     "cell_type": "code",
     "collapsed": false,
     "input": [
      "print len(rk2ylist), len(rk4ylist)"
     ],
     "language": "python",
     "metadata": {},
     "outputs": [
      {
       "output_type": "stream",
       "stream": "stdout",
       "text": [
        "101 101\n"
       ]
      }
     ],
     "prompt_number": 83
    },
    {
     "cell_type": "code",
     "collapsed": false,
     "input": [
      "temp = np.asarray(rk2ylist) - np.asarray(rk4ylist)\n",
      "plt.plot(temp)"
     ],
     "language": "python",
     "metadata": {},
     "outputs": [
      {
       "metadata": {},
       "output_type": "pyout",
       "prompt_number": 84,
       "text": [
        "[<matplotlib.lines.Line2D at 0xaeeab0ac>]"
       ]
      },
      {
       "metadata": {},
       "output_type": "display_data",
       "png": "[encoded data removed]",
       "text": [
        "<matplotlib.figure.Figure at 0xb1432c0c>"
       ]
      }
     ],
     "prompt_number": 84
    },
    {
     "cell_type": "markdown",
     "metadata": {},
     "source": [
      "anharmonic oscillator\n",
      "===\n",
      "$$-m\\frac{d^2x}{dt^2} -10\\frac{x}{|x|} +5\\cos(\\omega t) = 0$$"
     ]
    },
    {
     "cell_type": "code",
     "collapsed": false,
     "input": [],
     "language": "python",
     "metadata": {},
     "outputs": []
    },
    {
     "cell_type": "markdown",
     "metadata": {},
     "source": [
      "example problem\n",
      "==="
     ]
    },
    {
     "cell_type": "markdown",
     "metadata": {},
     "source": [
      "$$\\frac{dy}{dx} + 0.6y = 10exp(-{\\frac{(x-a)^2}{2(0.075)^2}})$$"
     ]
    },
    {
     "cell_type": "code",
     "collapsed": false,
     "input": [
      "def f(x,y):\n",
      "    return 10*np.exp(-(x-2)**2/(2*(0.075**2))) - 0.6*y"
     ],
     "language": "python",
     "metadata": {},
     "outputs": [],
     "prompt_number": 2
    },
    {
     "cell_type": "markdown",
     "metadata": {},
     "source": [
      "RK4, step size = 0.1, range 0-4, 40 steps\n",
      "==="
     ]
    },
    {
     "cell_type": "code",
     "collapsed": false,
     "input": [
      "h = 0.1\n",
      "x0 = 0\n",
      "y0 = 0.5\n",
      "xlist = []\n",
      "xlist.append(x0)\n",
      "ylist = []\n",
      "ylist.append(y0)\n",
      "xi = x0\n",
      "yi = y0\n",
      "for i in xrange(40):\n",
      "    k1 = f(xi,yi)\n",
      "    k2 = f(xi+h/2,yi+k1*h/2)\n",
      "    k3 = f(xi+h/2,yi+k2*h/2)\n",
      "    k4 = f(xi+h,yi+k3*h)\n",
      "    xi += h\n",
      "    yi += (k1+2*k2+2*k3+k4)*h/6\n",
      "    xlist.append(xi)\n",
      "    ylist.append(yi)"
     ],
     "language": "python",
     "metadata": {},
     "outputs": [],
     "prompt_number": 11
    },
    {
     "cell_type": "code",
     "collapsed": false,
     "input": [
      "plt.plot(xlist,ylist)"
     ],
     "language": "python",
     "metadata": {},
     "outputs": [
      {
       "metadata": {},
       "output_type": "pyout",
       "prompt_number": 13,
       "text": [
        "[<matplotlib.lines.Line2D at 0xb13e118c>]"
       ]
      },
      {
       "metadata": {},
       "output_type": "display_data",
       "png": "[encoded data removed]",
       "text": [
        "<matplotlib.figure.Figure at 0xb15a46ec>"
       ]
      }
     ],
     "prompt_number": 13
    },
    {
     "cell_type": "markdown",
     "metadata": {},
     "source": [
      "RK4, step size = 0.01, range 0-4, 400 steps\n",
      "==="
     ]
    },
    {
     "cell_type": "code",
     "collapsed": false,
     "input": [
      "h = 0.01\n",
      "x0 = 0\n",
      "y0 = 0.5\n",
      "xlist = []\n",
      "xlist.append(x0)\n",
      "ylist = []\n",
      "ylist.append(y0)\n",
      "xi = x0\n",
      "yi = y0\n",
      "for i in xrange(400):\n",
      "    k1 = f(xi,yi)\n",
      "    k2 = f(xi+h/2,yi+k1*h/2)\n",
      "    k3 = f(xi+h/2,yi+k2*h/2)\n",
      "    k4 = f(xi+h,yi+k3*h)\n",
      "    xi += h\n",
      "    yi += (k1+2*k2+2*k3+k4)*h/6\n",
      "    xlist.append(xi)\n",
      "    ylist.append(yi)"
     ],
     "language": "python",
     "metadata": {},
     "outputs": [],
     "prompt_number": 14
    },
    {
     "cell_type": "code",
     "collapsed": false,
     "input": [
      "plt.plot(xlist,ylist)"
     ],
     "language": "python",
     "metadata": {},
     "outputs": [
      {
       "metadata": {},
       "output_type": "pyout",
       "prompt_number": 15,
       "text": [
        "[<matplotlib.lines.Line2D at 0xb159a36c>]"
       ]
      },
      {
       "metadata": {},
       "output_type": "display_data",
       "png": "[encoded data removed]",
       "text": [
        "<matplotlib.figure.Figure at 0xb15b944c>"
       ]
      }
     ],
     "prompt_number": 15
    },
    {
     "cell_type": "markdown",
     "metadata": {},
     "source": [
      "RK4, step size = 0.001, range 0-4, 4000 steps\n",
      "==="
     ]
    },
    {
     "cell_type": "code",
     "collapsed": false,
     "input": [
      "h = 0.001\n",
      "x0 = 0\n",
      "y0 = 0.5\n",
      "rk4xlist = []\n",
      "rk4xlist.append(x0)\n",
      "rk4ylist = []\n",
      "rk4ylist.append(y0)\n",
      "xi = x0\n",
      "yi = y0\n",
      "for i in xrange(4000):\n",
      "    k1 = f(xi,yi)\n",
      "    k2 = f(xi+h/2,yi+k1*h/2)\n",
      "    k3 = f(xi+h/2,yi+k2*h/2)\n",
      "    k4 = f(xi+h,yi+k3*h)\n",
      "    xi += h\n",
      "    yi += (k1+2*k2+2*k3+k4)*h/6\n",
      "    rk4xlist.append(xi)\n",
      "    rk4ylist.append(yi)"
     ],
     "language": "python",
     "metadata": {},
     "outputs": [],
     "prompt_number": 22
    },
    {
     "cell_type": "code",
     "collapsed": false,
     "input": [
      "plt.plot(rk4xlist,rk4ylist)"
     ],
     "language": "python",
     "metadata": {},
     "outputs": [
      {
       "metadata": {},
       "output_type": "pyout",
       "prompt_number": 24,
       "text": [
        "[<matplotlib.lines.Line2D at 0xb153290c>]"
       ]
      },
      {
       "metadata": {},
       "output_type": "display_data",
       "png": "[encoded data removed]",
       "text": [
        "<matplotlib.figure.Figure at 0xb13f218c>"
       ]
      }
     ],
     "prompt_number": 24
    },
    {
     "cell_type": "markdown",
     "metadata": {},
     "source": [
      "RK5, step size = 0.001, range 0-4, 4000 steps\n",
      "==="
     ]
    },
    {
     "cell_type": "code",
     "collapsed": false,
     "input": [
      "h = 0.001\n",
      "x0 = 0\n",
      "y0 = 0.5\n",
      "rk5xlist = []\n",
      "rk5xlist.append(x0)\n",
      "rk5ylist = []\n",
      "rk5ylist.append(y0)\n",
      "xi = x0\n",
      "yi = y0\n",
      "for i in xrange(4000):\n",
      "    k1 = f(xi,yi)\n",
      "    k2 = f(xi+h/4,yi+k1*h/4)\n",
      "    k3 = f(xi+h/4,yi+k1*h/8+k2*h/8)\n",
      "    k4 = f(xi+h/2,yi-k2*h/2+k3*h)\n",
      "    k5 = f(xi+3*h/4,yi+3*k1*h/16+9*k4*h/16)\n",
      "    k6 = f(xi+h,yi+(-3*k1*h+2*k2*h+12*k3*h-12*k4*h+8*k5*h)/7)\n",
      "    xi += h\n",
      "    yi += (7*k1+32*k3+12*k4+32*k5+7*k6)*h/90\n",
      "    rk5xlist.append(xi)\n",
      "    rk5ylist.append(yi)"
     ],
     "language": "python",
     "metadata": {},
     "outputs": [],
     "prompt_number": 20
    },
    {
     "cell_type": "code",
     "collapsed": false,
     "input": [
      "plt.plot(rk5xlist,rk5ylist)"
     ],
     "language": "python",
     "metadata": {},
     "outputs": [
      {
       "metadata": {},
       "output_type": "pyout",
       "prompt_number": 21,
       "text": [
        "[<matplotlib.lines.Line2D at 0xb177b68c>]"
       ]
      },
      {
       "metadata": {},
       "output_type": "display_data",
       "png": "[encoded data removed]",
       "text": [
        "<matplotlib.figure.Figure at 0xb144c34c>"
       ]
      }
     ],
     "prompt_number": 21
    },
    {
     "cell_type": "markdown",
     "metadata": {},
     "source": [
      "comparing the difference between rk4 and rk5 estimates\n",
      "==="
     ]
    },
    {
     "cell_type": "code",
     "collapsed": false,
     "input": [
      "xtemp = np.asarray(rk5xlist)-np.asarray(rk4xlist)\n",
      "ytemp = np.asarray(rk5ylist)-np.asarray(rk4ylist)\n",
      "plt.plot(np.asarray(rk5xlist),ytemp)\n",
      "# difference in the estimation of the function value using rk4 and rk5 methods with same step size, 0.001"
     ],
     "language": "python",
     "metadata": {},
     "outputs": [
      {
       "metadata": {},
       "output_type": "pyout",
       "prompt_number": 29,
       "text": [
        "[<matplotlib.lines.Line2D at 0xb153a02c>]"
       ]
      },
      {
       "metadata": {},
       "output_type": "display_data",
       "png": "[encoded data removed]",
       "text": [
        "<matplotlib.figure.Figure at 0xb1508bec>"
       ]
      }
     ],
     "prompt_number": 29
    },
    {
     "cell_type": "markdown",
     "metadata": {},
     "source": [
      "adaptive rk4-rk5 method\n",
      "==="
     ]
    },
    {
     "cell_type": "code",
     "collapsed": false,
     "input": [
      "h = 0.001\n",
      "x0 = 0\n",
      "y0 = 0.5\n",
      "# x-array\n",
      "xlist = []\n",
      "xlist.append(x0)\n",
      "# y-arrays\n",
      "adapRK5ylist = []\n",
      "adapRK5ylist.append(y0)\n",
      "adapRK4ylist = []\n",
      "adapRK4ylist.append(y0)\n",
      "xi = x0\n",
      "adapRK4yi = y0\n",
      "adapRK5yi = y0\n",
      "#rk4 estimate\n",
      "for i in xrange(4000):\n",
      "    k1 = f(xi,adapRK4yi)\n",
      "    k2 = f(xi +h/5 ,adapRK4yi +k1*h/5)\n",
      "    k3 = f(xi +3*h/10 ,adapRK4yi +(3*k1/40 +9*k2/40)*h)\n",
      "    k4 = f(xi +3*h/5 ,adapRK4yi +(3*k1/10 -9*k2/10 +6*k3/5)*h)\n",
      "    k5 = f(xi +h ,adapRK4yi +(-11*k1/54 +5*k2/2 -70*k3/27 +35*k4/27)*h)\n",
      "    k6 = f(xi +7*h/8 ,adapRK4yi +(1631*k1/55296 +175*k2/512 +575*k3/13824 +44275*k4/110592 +253*k5/4096)*h)\n",
      "    xi += h\n",
      "    xlist.append(xi)\n",
      "    adapRK4yi += (37*k1/378 +250*k3/621 +125*k4/594 +512*k6/1771)*h\n",
      "    adapRK4ylist.append(adapRK4yi)\n",
      "#rk5 estimate\n",
      "xi = x0\n",
      "for i in xrange(4000):\n",
      "    k1 = f(xi,adapRK5yi)\n",
      "    k2 = f(xi +h/5 ,adapRK5yi +k1*h/5)\n",
      "    k3 = f(xi +3*h/10 ,adapRK5yi +(3*k1/40 +9*k2/40)*h)\n",
      "    k4 = f(xi +3*h/5 ,adapRK5yi +(3*k1/10 -9*k2/10 +6*k3/5)*h)\n",
      "    k5 = f(xi +h ,adapRK5yi +(-11*k1/54 +5*k2/2 -70*k3/27 +35*k4/27)*h)\n",
      "    k6 = f(xi +7*h/8 ,adapRK5yi +(1631*k1/55296 +175*k2/512 +575*k3/13824 +44275*k4/110592 +253*k5/4096)*h)\n",
      "    xi += h\n",
      "    xlist.append(xi)\n",
      "    adapRK5yi += (2825*k1/27648 +18575*k3/48384 +13525*k4/55296 +277*k5/14336 +k6/4)*h\n",
      "    adapRK5ylist.append(adapRK5yi)"
     ],
     "language": "python",
     "metadata": {},
     "outputs": [],
     "prompt_number": 34
    },
    {
     "cell_type": "markdown",
     "metadata": {},
     "source": [
      "difference in function value estimate with  rk4 and rk5 methods for adaptive RK\n",
      "==="
     ]
    },
    {
     "cell_type": "code",
     "collapsed": false,
     "input": [
      "#xtemp = np.asarray(rk5xlist)-np.asarray(xlist)\n",
      "ytemp = np.asarray(adapRK5ylist)-np.asarray(adapRK4ylist)\n",
      "plt.plot(ytemp)\n",
      "# difference in the estimation of the function value using rk4 and rk5 methods with same step size, 0.001"
     ],
     "language": "python",
     "metadata": {},
     "outputs": [
      {
       "metadata": {},
       "output_type": "pyout",
       "prompt_number": 38,
       "text": [
        "[<matplotlib.lines.Line2D at 0xaee07a6c>]"
       ]
      },
      {
       "metadata": {},
       "output_type": "display_data",
       "png": "[encoded data removed]",
       "text": [
        "<matplotlib.figure.Figure at 0xb1555b8c>"
       ]
      }
     ],
     "prompt_number": 38
    },
    {
     "cell_type": "code",
     "collapsed": false,
     "input": [],
     "language": "python",
     "metadata": {},
     "outputs": []
    }
   ],
   "metadata": {}
  }
 ]
}