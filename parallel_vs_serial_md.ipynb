{
 "metadata": {
  "name": ""
 },
 "nbformat": 3,
 "nbformat_minor": 0,
 "worksheets": [
  {
   "cells": [
    {
     "cell_type": "code",
     "collapsed": false,
     "input": [
      "import multiprocessing as mp\n",
      "import random\n",
      "import string\n",
      "import numpy as np\n",
      "\n",
      "import time\n",
      "from scipy.constants import nano, pico, N_A, m_p, milli, micro\n",
      "import scipy.spatial.distance as spd\n",
      "\n",
      "# Define an output queue\n",
      "output = mp.Queue()\n",
      "\"\"\"\n",
      "# define a example function\n",
      "def rand_string(length, output):\n",
      "    Generates a random string of numbers, lower- and uppercase chars.\n",
      "    rand_str = ''.join(random.choice(\n",
      "                    string.ascii_lowercase\n",
      "                    + string.ascii_uppercase\n",
      "                    + string.digits)\n",
      "               for i in range(length))\n",
      "    output.put(rand_str)\"\"\"\n",
      "\n",
      "n = 400 # number of atoms in the system\n",
      "#e = sigma = 1.\n",
      "system = np.zeros([n,2,2])\n",
      "# initialization\n",
      "for i in xrange(n):\n",
      "    system[i][0][0] = i%20 + 15 # positions in a 3X3 lattice\n",
      "    system[i][0][1] = i/20 + 15 # 3 is the square root of 9. if n is changed, so should this value!\n",
      "    system[i][1] = np.array([np.random.normal(),np.random.normal()])\n",
      "\n",
      "force = np.zeros([n,2])\n",
      "    \n",
      "def lennard_jones(r):\n",
      "    return (2*(1./r)**13 - (1./r)**7)*milli\n",
      "    \n",
      "def update_force(site):\n",
      "    pxdot = 0\n",
      "    pydot = 0\n",
      "    for j in xrange(len(system)):\n",
      "        if j != site :\n",
      "            r = spd.euclidean(system[site][0],system[j][0])\n",
      "            theta = np.arctan((system[j][0][1] - system[site][0][1])/(system[j][0][0] - system[site][0][0]))\n",
      "            theta = theta*180/np.pi\n",
      "            pxdot += lennard_jones(r)*np.cos(theta)\n",
      "            pydot += lennard_jones(r)*np.sin(theta)\n",
      "    return np.array([pxdot, pydot])\n",
      "\n",
      "def parallel_force_update():\n",
      "    pool = mp.Pool(processes=4)\n",
      "    results = [pool.apply_async(update_force, args=(i,)) for i in range(399)]\n",
      "    for i in xrange(len(results)):\n",
      "        results[i] = results[i].get()\n",
      "    results = np.asarray(results, dtype = float)\n",
      "    \n",
      "force = np.zeros([n,2])\n",
      "\n",
      "def update_forces():\n",
      "    for i in xrange(len(system)):\n",
      "        pxdot = 0\n",
      "        pydot = 0\n",
      "        for j in xrange(len(system)):\n",
      "            if j != i :\n",
      "                r = spd.euclidean(system[i][0],system[j][0])\n",
      "                theta = np.arctan((system[j][0][1] - system[i][0][1])/(system[j][0][0] - system[i][0][0]))\n",
      "                theta = theta*180/np.pi\n",
      "                pxdot += lennard_jones(r)*np.cos(theta)\n",
      "                pydot += lennard_jones(r)*np.sin(theta)\n",
      "        force[i] = np.array([pxdot, pydot])\n",
      "    return force"
     ],
     "language": "python",
     "metadata": {},
     "outputs": [],
     "prompt_number": 39
    },
    {
     "cell_type": "code",
     "collapsed": false,
     "input": [
      "%timeit parallel_force_update()"
     ],
     "language": "python",
     "metadata": {},
     "outputs": [
      {
       "output_type": "stream",
       "stream": "stderr",
       "text": [
        "-c:43: RuntimeWarning: divide by zero encountered in double_scalars\n",
        "-c:43: RuntimeWarning: divide by zero encountered in double_scalars\n",
        "-c:43: RuntimeWarning: divide by zero encountered in double_scalars\n",
        "-c:43: RuntimeWarning: divide by zero encountered in double_scalars\n"
       ]
      },
      {
       "output_type": "stream",
       "stream": "stderr",
       "text": [
        "-c:43: RuntimeWarning: divide by zero encountered in double_scalars\n",
        "-c:43: RuntimeWarning: divide by zero encountered in double_scalars\n",
        "-c:43: RuntimeWarning: divide by zero encountered in double_scalars\n",
        "-c:43: RuntimeWarning: divide by zero encountered in double_scalars\n"
       ]
      },
      {
       "output_type": "stream",
       "stream": "stderr",
       "text": [
        "-c:43: RuntimeWarning: divide by zero encountered in double_scalars\n",
        "-c:43: RuntimeWarning: divide by zero encountered in double_scalars\n",
        "-c:43: RuntimeWarning: divide by zero encountered in double_scalars\n",
        "-c:43: RuntimeWarning: divide by zero encountered in double_scalars\n"
       ]
      },
      {
       "output_type": "stream",
       "stream": "stdout",
       "text": [
        "1 loops, best of 3: 4.01 s per loop\n"
       ]
      },
      {
       "output_type": "stream",
       "stream": "stderr",
       "text": [
        "-c:43: RuntimeWarning: divide by zero encountered in double_scalars\n",
        "-c:43: RuntimeWarning: divide by zero encountered in double_scalars\n",
        "-c:43: RuntimeWarning: divide by zero encountered in double_scalars\n",
        "-c:43: RuntimeWarning: divide by zero encountered in double_scalars\n"
       ]
      }
     ],
     "prompt_number": 42
    },
    {
     "cell_type": "code",
     "collapsed": false,
     "input": [
      "%timeit update_forces()"
     ],
     "language": "python",
     "metadata": {},
     "outputs": [
      {
       "output_type": "stream",
       "stream": "stdout",
       "text": [
        "1 loops, best of 3: 8.93 s per loop\n"
       ]
      }
     ],
     "prompt_number": 41
    },
    {
     "cell_type": "code",
     "collapsed": false,
     "input": [],
     "language": "python",
     "metadata": {},
     "outputs": []
    }
   ],
   "metadata": {}
  }
 ]
}