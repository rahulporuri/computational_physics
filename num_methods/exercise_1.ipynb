{
 "metadata": {
  "name": ""
 },
 "nbformat": 3,
 "nbformat_minor": 0,
 "worksheets": [
  {
   "cells": [
    {
     "cell_type": "markdown",
     "metadata": {},
     "source": [
      "precision & errors \n",
      "====="
     ]
    },
    {
     "cell_type": "code",
     "collapsed": false,
     "input": [
      "e  = 1.0\n",
      "while 1+e != 1:\n",
      "    e = e/10\n",
      "else:\n",
      "    print e"
     ],
     "language": "python",
     "metadata": {},
     "outputs": [
      {
       "output_type": "stream",
       "stream": "stdout",
       "text": [
        "1e-16\n"
       ]
      }
     ],
     "prompt_number": 27
    },
    {
     "cell_type": "code",
     "collapsed": false,
     "input": [
      "def f(x):\n",
      "    return x*x\n",
      "\n",
      "x = np.linspace(1,10,10)\n",
      "e = 1.0\n",
      "for xx in x:\n",
      "    while f(xx+e) != f(xx):\n",
      "        e = e/10\n",
      "    else:\n",
      "        print e, xx"
     ],
     "language": "python",
     "metadata": {},
     "outputs": [
      {
       "output_type": "stream",
       "stream": "stdout",
       "text": [
        "1e-16 1.0\n",
        "1e-16 2.0\n",
        "1e-16 3.0\n",
        "1e-16 4.0\n",
        "1e-16 5.0\n",
        "1e-16 6.0\n",
        "1e-16 7.0\n",
        "1e-16 8.0\n",
        "1e-16 9.0\n",
        "1e-16 10.0\n"
       ]
      }
     ],
     "prompt_number": 61
    },
    {
     "cell_type": "code",
     "collapsed": false,
     "input": [
      "def f(x):\n",
      "    return np.exp(x)\n",
      "\n",
      "e = 1.0\n",
      "while f(xx+e) != f(xx):\n",
      "    e = e/10\n",
      "else:\n",
      "    print e"
     ],
     "language": "python",
     "metadata": {},
     "outputs": [
      {
       "output_type": "stream",
       "stream": "stdout",
       "text": [
        "1e-16\n"
       ]
      }
     ],
     "prompt_number": 30
    },
    {
     "cell_type": "markdown",
     "metadata": {},
     "source": [
      "integer to binary conversion\n",
      "==="
     ]
    },
    {
     "cell_type": "code",
     "collapsed": false,
     "input": [
      "#var = input()\n",
      "for var in xrange(1,20):\n",
      "    print var\n",
      "    binary = []\n",
      "    while var > 0:\n",
      "        temp = var - 2*(var/2)\n",
      "        binary.append(temp)\n",
      "        var = var/2\n",
      "    else:\n",
      "        #print binary\n",
      "        binary.reverse()\n",
      "        print binary"
     ],
     "language": "python",
     "metadata": {},
     "outputs": [
      {
       "output_type": "stream",
       "stream": "stdout",
       "text": [
        "1\n",
        "[1]\n",
        "2\n",
        "[1, 0]\n",
        "3\n",
        "[1, 1]\n",
        "4\n",
        "[1, 0, 0]\n",
        "5\n",
        "[1, 0, 1]\n",
        "6\n",
        "[1, 1, 0]\n",
        "7\n",
        "[1, 1, 1]\n",
        "8\n",
        "[1, 0, 0, 0]\n",
        "9\n",
        "[1, 0, 0, 1]\n",
        "10\n",
        "[1, 0, 1, 0]\n",
        "11\n",
        "[1, 0, 1, 1]\n",
        "12\n",
        "[1, 1, 0, 0]\n",
        "13\n",
        "[1, 1, 0, 1]\n",
        "14\n",
        "[1, 1, 1, 0]\n",
        "15\n",
        "[1, 1, 1, 1]\n",
        "16\n",
        "[1, 0, 0, 0, 0]\n",
        "17\n",
        "[1, 0, 0, 0, 1]\n",
        "18\n",
        "[1, 0, 0, 1, 0]\n",
        "19\n",
        "[1, 0, 0, 1, 1]\n"
       ]
      }
     ],
     "prompt_number": 149
    },
    {
     "cell_type": "markdown",
     "metadata": {},
     "source": [
      "n factorial\n",
      "========"
     ]
    },
    {
     "cell_type": "code",
     "collapsed": false,
     "input": [
      "#var = map(int, raw_input())[0]\n",
      "temp = 1\n",
      "for var in xrange(1,10):\n",
      "    temp = 1\n",
      "    while var != 1:\n",
      "        temp = temp*var\n",
      "        var = var-1\n",
      "    else:\n",
      "        print temp"
     ],
     "language": "python",
     "metadata": {},
     "outputs": [
      {
       "output_type": "stream",
       "stream": "stdout",
       "text": [
        "1\n",
        "2\n",
        "6\n",
        "24\n",
        "120\n",
        "720\n",
        "5040\n",
        "40320\n",
        "362880\n"
       ]
      }
     ],
     "prompt_number": 94
    },
    {
     "cell_type": "markdown",
     "metadata": {},
     "source": [
      "quadratic roots\n",
      "===="
     ]
    },
    {
     "cell_type": "code",
     "collapsed": false,
     "input": [
      "a = 1\n",
      "b = 1\n",
      "c = []\n",
      "for i in xrange(1,15):\n",
      "    c.append(1.0/np.power(10,i))\n",
      "    \n",
      "def f(x):\n",
      "    return a*x*x + b*x + c\n",
      "\n",
      "x = []\n",
      "y = []\n",
      "for i in xrange(len(c)):\n",
      "    x.append(np.roots([a,b,c[i]])[0])\n",
      "    y.append(np.roots([a,b,c[i]])[1])"
     ],
     "language": "python",
     "metadata": {},
     "outputs": [],
     "prompt_number": 54
    },
    {
     "cell_type": "code",
     "collapsed": false,
     "input": [
      "print c, \"\\n\", x, \"\\n\", y"
     ],
     "language": "python",
     "metadata": {},
     "outputs": [
      {
       "output_type": "stream",
       "stream": "stdout",
       "text": [
        "[0.1, 0.01, 0.001, 0.0001, 1e-05, 1e-06, 1e-07, 1e-08, 1e-09, -4.656612873077393e-10, -4.656612873077393e-10, -4.656612873077393e-10, -4.656612873077393e-10, -4.656612873077393e-10] \n",
        "[-0.8872983346207417, -0.9898979485566356, -0.99899899799498593, -0.99989998999799945, -0.99998999989999804, -0.99999899999899999, -0.99999989999998995, -0.99999998999999995, -0.99999999900000003, -1.0000000004656613, -1.0000000004656613, -1.0000000004656613, -1.0000000004656613, -1.0000000004656613] \n",
        "[-0.11270166537925831, -0.010102051443364381, -0.0010010020050140421, -0.00010001000200050015, -1.0000100002000051e-05, -1.000001000002e-06, -1.0000001000000199e-07, -1.0000000100000002e-08, -1.000000001e-09, 4.6566128709089882e-10, 4.6566128709089882e-10, 4.6566128709089882e-10, 4.6566128709089882e-10, 4.6566128709089882e-10]\n"
       ]
      }
     ],
     "prompt_number": 55
    },
    {
     "cell_type": "code",
     "collapsed": false,
     "input": [
      "%matplotlib inline\n",
      "plt.hold(True)\n",
      "plt.plot(x)\n",
      "#plt.plot(y)"
     ],
     "language": "python",
     "metadata": {},
     "outputs": [
      {
       "metadata": {},
       "output_type": "pyout",
       "prompt_number": 60,
       "text": [
        "[<matplotlib.lines.Line2D at 0xb11ce9ac>]"
       ]
      },
      {
       "metadata": {},
       "output_type": "display_data",
       "png": "[encoded data removed]",
       "text": [
        "<matplotlib.figure.Figure at 0xb116782c>"
       ]
      }
     ],
     "prompt_number": 60
    },
    {
     "cell_type": "code",
     "collapsed": false,
     "input": [],
     "language": "python",
     "metadata": {},
     "outputs": []
    }
   ],
   "metadata": {}
  }
 ]
}