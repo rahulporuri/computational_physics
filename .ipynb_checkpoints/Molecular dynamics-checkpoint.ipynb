{
 "metadata": {
  "name": ""
 },
 "nbformat": 3,
 "nbformat_minor": 0,
 "worksheets": [
  {
   "cells": [
    {
     "cell_type": "raw",
     "metadata": {},
     "source": [
      "first we initialize the position and momentum of the particles\n",
      "then we define an interaction potential u(r), in our case the lennard-jones potantial, and we calculate the force on particles due to a lennard-jones potential. this force is a function of r, the distance between two objects.\n",
      "\n",
      "for particle i,\n",
      "    we calculate the distances r_ij\n",
      "    we calculate the angles theta_ij\n",
      "    we measure the forces by calling the function for the values r_ij\n",
      "    we take the x, y components of these forces using cos & sin theta_ij and save them in 2 arrays i.e force in the x direction and force in the y direction. either we save them in an array and then add them up or keep adding pxdot and pydot having initialized them properly on the fly.\n",
      "we do this for all particles and save the total force pxdot and pydot for each of these particles in 2 arrays.\n",
      "\n",
      "we now update the momentum using the velocity verlet method, using the forces pxdot and pydot for px and py correspondingly. mind you, this is to be done for all particles at once. do not update the particle momenta or positions in the i loop!\n",
      "\n",
      "!! one cycle would therefore contain distance and angle measurement, force measurement and components for all particles in the system followed by an update to the positions and momenta of all particles at once !!"
     ]
    },
    {
     "cell_type": "code",
     "collapsed": false,
     "input": [
      "import numpy as np\n",
      "import matplotlib.pyplot as plt\n",
      "%matplotlib inline"
     ],
     "language": "python",
     "metadata": {},
     "outputs": [],
     "prompt_number": 2
    },
    {
     "cell_type": "code",
     "collapsed": false,
     "input": [
      "atoms = np.zeros([9,2,2])\n",
      "# atoms[i] refers to the ith particle\n",
      "# atoms[i][0] refers to the particle's x,y positions : atoms[i][0][0], atoms[i][0][1]\n",
      "# atoms[i][1] refers to the particle's x,y momenta : atoms[i][1][0], atoms[i][1][1]"
     ],
     "language": "python",
     "metadata": {},
     "outputs": [],
     "prompt_number": 86
    },
    {
     "cell_type": "code",
     "collapsed": false,
     "input": [
      "for i in xrange(9):\n",
      "    atoms[i][0][0] = i%3\n",
      "    atoms[i][0][1] = i/3\n",
      "    atoms[i][1][0] = 1\n",
      "    atoms[i][1][1] = 1"
     ],
     "language": "python",
     "metadata": {},
     "outputs": [],
     "prompt_number": 95
    },
    {
     "cell_type": "code",
     "collapsed": false,
     "input": [
      "# for a potential [(alpha/r)^6-(alpha/r)^12], the force is the negative derivative of this potential.\n",
      "def force(r):\n",
      "    return np.power(((-12*sigma)/r),13) + np.power(((6*sigma)/r),7)/sigma"
     ],
     "language": "python",
     "metadata": {},
     "outputs": [],
     "prompt_number": 88
    },
    {
     "cell_type": "code",
     "collapsed": false,
     "input": [
      "forcex = np.zeros(len(atoms))\n",
      "forcey = np.zeros(len(atoms))\n",
      "\n",
      "sigma = 1./np.power(10,4)\n",
      "\n",
      "for i in xrange(len(atoms)):\n",
      "#    rij = []\n",
      "#    thetaij = []\n",
      "    pxdot = 0\n",
      "    pydot = 0\n",
      "    for j in xrange(len(atoms)):\n",
      "        if j != i :\n",
      "            r = np.sqrt(np.power((atoms[i][0][0] - atoms[j][0][0]),2) + np.power((atoms[i][0][1] - atoms[j][0][1]),2))\n",
      "            theta = np.arctan((atoms[j][0][1] - atoms[i][0][1])/(atoms[j][0][0] - atoms[i][0][0]))\n",
      "            #print i, j\n",
      "            #print \"distance\", r\n",
      "            #print \"angle\", theta, theta*180/np.pi\n",
      "            #note that theta is now in radians and has to be converted to degrees before being used in np.cos or np.sin\n",
      "    #        rij.append(r)\n",
      "    #        thetaij.append(theta)\n",
      "            theta = theta*180/np.pi\n",
      "            pxdot += force(r/np.power(10,3))*np.cos(theta)\n",
      "            pydot += force(r/np.power(10,3))*np.sin(theta)\n",
      "    forcex[i] = pxdot\n",
      "    forcey[i] = pydot"
     ],
     "language": "python",
     "metadata": {},
     "outputs": [],
     "prompt_number": 96
    },
    {
     "cell_type": "code",
     "collapsed": false,
     "input": [
      "forcex, forcey"
     ],
     "language": "python",
     "metadata": {},
     "outputs": [
      {
       "metadata": {},
       "output_type": "pyout",
       "prompt_number": 97,
       "text": [
        "(array([ 163.80549806,  444.37730669,  163.80549806,   56.29506415,\n",
        "        348.94159355,   56.29506415,  163.80549806,  444.37730669,\n",
        "        163.80549806]),\n",
        " array([  2.65328082e+02,   2.42650696e+02,   2.19973311e+02,\n",
        "         2.83106871e-14,   2.48689958e-14,   0.00000000e+00,\n",
        "        -2.65328082e+02,  -2.42650696e+02,  -2.19973311e+02]))"
       ]
      }
     ],
     "prompt_number": 97
    },
    {
     "cell_type": "code",
     "collapsed": false,
     "input": [
      "step = 1./np.power(10,2)\n",
      "for i in xrange(len(atoms)):\n",
      "    # first momentum half step\n",
      "    atoms[i][1][0] = atoms[i][1][0] + forcex[i]*step/2 # px update\n",
      "    atoms[i][1][1] = atoms[i][1][1] + forcey[i]*step/2 # py update\n",
      "    # position update full step\n",
      "    atoms[i][0][0] = atoms[i][0][0] + atoms[i][1][0]*step # px update\n",
      "    atoms[i][0][1] = atoms[i][0][1] + atoms[i][1][1]*step # py update\n",
      "    # second momentum half step\n",
      "    atoms[i][1][0] = atoms[i][1][0] + forcex[i]*step/2 # px update\n",
      "    atoms[i][1][1] = atoms[i][1][1] + forcey[i]*step/2 # py update"
     ],
     "language": "python",
     "metadata": {},
     "outputs": [],
     "prompt_number": 98
    },
    {
     "cell_type": "code",
     "collapsed": false,
     "input": [
      "atoms"
     ],
     "language": "python",
     "metadata": {},
     "outputs": [
      {
       "metadata": {},
       "output_type": "pyout",
       "prompt_number": 99,
       "text": [
        "array([[[ 0.01819027,  0.0232664 ],\n",
        "        [ 2.63805498,  3.65328082]],\n",
        "\n",
        "       [[ 1.03221887,  0.02213253],\n",
        "        [ 5.44377307,  3.42650696]],\n",
        "\n",
        "       [[ 2.01819027,  0.02099867],\n",
        "        [ 2.63805498,  3.19973311]],\n",
        "\n",
        "       [[ 0.01281475,  1.01      ],\n",
        "        [ 1.56295064,  1.        ]],\n",
        "\n",
        "       [[ 1.02744708,  1.01      ],\n",
        "        [ 4.48941594,  1.        ]],\n",
        "\n",
        "       [[ 2.01281475,  1.01      ],\n",
        "        [ 1.56295064,  1.        ]],\n",
        "\n",
        "       [[ 0.01819027,  1.9967336 ],\n",
        "        [ 2.63805498, -1.65328082]],\n",
        "\n",
        "       [[ 1.03221887,  1.99786747],\n",
        "        [ 5.44377307, -1.42650696]],\n",
        "\n",
        "       [[ 2.01819027,  1.99900133],\n",
        "        [ 2.63805498, -1.19973311]]])"
       ]
      }
     ],
     "prompt_number": 99
    },
    {
     "cell_type": "code",
     "collapsed": false,
     "input": [],
     "language": "python",
     "metadata": {},
     "outputs": []
    }
   ],
   "metadata": {}
  }
 ]
}