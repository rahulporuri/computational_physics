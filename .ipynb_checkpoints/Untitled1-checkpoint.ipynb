{
 "metadata": {
  "name": ""
 },
 "nbformat": 3,
 "nbformat_minor": 0,
 "worksheets": [
  {
   "cells": [
    {
     "cell_type": "code",
     "collapsed": false,
     "input": [
      "import scipy.spatial.distance as spd\n",
      "import matplotlib.pyplot as plt\n",
      "%matplotlib inline\n",
      "import numpy as np\n",
      "import time\n",
      "# used to compare energy before and after a move\n",
      "# we assumed that epsilon and alpha are 1\n",
      "def local_energy(site):\n",
      "    local_sum = 0\n",
      "    for i in xrange(len(system)):\n",
      "        if site != i:\n",
      "            dist = spd.euclidean(system[site],system[i])\n",
      "            local_sum += -((1/dist)**12-(1/dist)**6)\n",
      "    return local_sum\n",
      "\n",
      "# total energy of the system\n",
      "def system_energy():\n",
      "    total_sum = 0\n",
      "    for i in xrange(len(system)):\n",
      "        total_sum += local_energy(i)\n",
      "    return total_sum\n",
      "\n",
      "def radial_number_density():\n",
      "    rad_dist = []\n",
      "    for i in xrange(len(system)):\n",
      "        for j in xrange(len(system)):\n",
      "            if i != j:\n",
      "                temp = spd.euclidean(system[i],system[j])\n",
      "                rad_dist.append(temp)\n",
      "    return rad_dist\n",
      "\n",
      "n = 400 # number of particles\n",
      "# initializing the system\n",
      "# the atoms occupy a square of size 10X10\n",
      "system = np.zeros([n,2])\n",
      "for i in xrange(len(system)):\n",
      "    system[i][0] = i%20 # np.sqrt(n) wont work as it will return a float\n",
      "    system[i][1] = i/20 # we need an integer denominator for this to work!\n",
      "\n",
      "global_energy = []\n",
      "accepted_moves = 0\n",
      "\n",
      "#plt.subplot(131)\n",
      "radial_dist_before = radial_number_density()\n",
      "#anarray = np.asarray(alist)\n",
      "#plt.hist(anarray,10);\n",
      "\n",
      "T = 1.\n",
      "# T = np.array([5.,5./2,1./1./2,1./10])\n",
      "beta = 1./T\n",
      "# B = 1./T\n",
      "#for beta in B:\n",
      "time_per_loop = []\n",
      "for looptime in xrange(1000):\n",
      "    start_time = time.time()\n",
      "    site = np.random.choice(np.arange(n)) # atom to be moved\n",
      "    # this atom can now move in the range (-alpha,alpha) in x & y\n",
      "    #xmove = np.random.choice(np.array([-2.,-5./3,-4./3,-1,-2./3,-1./3,0,1./3,2./3,1.,4./3,5./3,2.]))\n",
      "    #ymove = np.random.choice(np.array([-2.,-5./3,-4./3,-1,-2./3,-1./3,0,1./3,2./3,1.,4./3,5./3,2.]))\n",
      "    xmove = np.random.choice(np.array([0,1./3,2./3,1.,4./3,5./3,2.]))\n",
      "    ymove = np.random.choice(np.array([0,1./3,2./3,1.,4./3,5./3,2.]))\n",
      "    #xmove = np.random.choice(np.array([0.,1.,2.,3.,4.]))\n",
      "    #ymove = np.random.choice(np.array([0.,1.,2.,3.,4.]))\n",
      "    pre_move_e = local_energy(site)\n",
      "    system[site] = system[site] + np.array([xmove,ymove])\n",
      "    if system[site][0] > 30 :\n",
      "        system[site][0] = system[site][0]%30\n",
      "    #if system[site][0] < 0 :\n",
      "    #    system[site][0] = system[site][0]%100\n",
      "    if system[site][1] > 30 :\n",
      "        system[site][1] = system[site][1]%30\n",
      "    #if system[site][1] < 0 :\n",
      "    #    system[site][1] = system[site][1]%100\n",
      "    post_move_e = local_energy(site)\n",
      "    if post_move_e - pre_move_e < 0:\n",
      "        global_energy.append(system_energy())\n",
      "        accepted_moves += 1\n",
      "        print \"yes\"\n",
      "    else :\n",
      "        temp = np.random.random()\n",
      "        if temp < np.exp(-beta*(post_move_e - pre_move_e)):\n",
      "            global_energy.append(system_energy())\n",
      "            accepted_moves += 1\n",
      "            print \"barely yes\"\n",
      "        else :\n",
      "            system[site] = system[site] - np.array([xmove,ymove])\n",
      "            global_energy.append(system_energy())\n",
      "            print \"nyooo!!!!\"\n",
      "    print \"we're done with the mc loop %f\" % (time.time()-start_time)\n",
      "    time_per_loop.append(time.time()-start_time)\n",
      "# we get global_energy, accepted moves as the outputs here.\n",
      "#plt.subplot(132)\n",
      "radial_dist_after = radial_number_density()\n",
      "#anarray = np.asarray(alist)\n",
      "#plt.hist(anarray,10);\n",
      "#plt.subplot(133)\n",
      "#plt.plot(global_energy)\n",
      "#print \"we're done with plotting routine %f\" % (time.time()-start_time)\n",
      "print \"accepted_moves\", accepted_moves"
     ],
     "language": "python",
     "metadata": {},
     "outputs": [
      {
       "output_type": "stream",
       "stream": "stdout",
       "text": [
        "yes\n",
        "we're done with the mc loop 7.540733\n",
        "yes"
       ]
      },
      {
       "output_type": "stream",
       "stream": "stdout",
       "text": [
        "\n",
        "we're done with the mc loop 5.782312\n",
        "yes"
       ]
      },
      {
       "output_type": "stream",
       "stream": "stdout",
       "text": [
        "\n",
        "we're done with the mc loop 7.439022\n",
        "yes"
       ]
      },
      {
       "output_type": "stream",
       "stream": "stdout",
       "text": [
        "\n",
        "we're done with the mc loop 7.346425\n",
        "yes"
       ]
      },
      {
       "output_type": "stream",
       "stream": "stdout",
       "text": [
        "\n",
        "we're done with the mc loop 7.362946\n",
        "yes"
       ]
      },
      {
       "output_type": "stream",
       "stream": "stdout",
       "text": [
        "\n",
        "we're done with the mc loop 7.817872\n",
        "yes"
       ]
      },
      {
       "output_type": "stream",
       "stream": "stdout",
       "text": [
        "\n",
        "we're done with the mc loop 9.267065\n",
        "yes"
       ]
      },
      {
       "output_type": "stream",
       "stream": "stdout",
       "text": [
        "\n",
        "we're done with the mc loop 9.263690\n",
        "nyooo!!!!"
       ]
      },
      {
       "output_type": "stream",
       "stream": "stdout",
       "text": [
        "\n",
        "we're done with the mc loop 9.274417\n",
        "yes"
       ]
      },
      {
       "output_type": "stream",
       "stream": "stdout",
       "text": [
        "\n",
        "we're done with the mc loop 8.685855\n",
        "yes"
       ]
      },
      {
       "output_type": "stream",
       "stream": "stdout",
       "text": [
        "\n",
        "we're done with the mc loop 5.781334\n",
        "yes"
       ]
      },
      {
       "output_type": "stream",
       "stream": "stdout",
       "text": [
        "\n",
        "we're done with the mc loop 8.091565\n",
        "yes"
       ]
      },
      {
       "output_type": "stream",
       "stream": "stdout",
       "text": [
        "\n",
        "we're done with the mc loop 7.281504\n",
        "yes"
       ]
      },
      {
       "output_type": "stream",
       "stream": "stdout",
       "text": [
        "\n",
        "we're done with the mc loop 7.285362\n",
        "yes"
       ]
      },
      {
       "output_type": "stream",
       "stream": "stdout",
       "text": [
        "\n",
        "we're done with the mc loop 8.034200\n",
        "nyooo!!!!"
       ]
      },
      {
       "output_type": "stream",
       "stream": "stdout",
       "text": [
        "\n",
        "we're done with the mc loop 9.252084\n",
        "yes"
       ]
      },
      {
       "output_type": "stream",
       "stream": "stdout",
       "text": [
        "\n",
        "we're done with the mc loop 8.183772\n",
        "nyooo!!!!"
       ]
      },
      {
       "output_type": "stream",
       "stream": "stdout",
       "text": [
        "\n",
        "we're done with the mc loop 8.729865\n",
        "nyooo!!!!"
       ]
      },
      {
       "output_type": "stream",
       "stream": "stdout",
       "text": [
        "\n",
        "we're done with the mc loop 10.021109\n",
        "nyooo!!!!"
       ]
      },
      {
       "output_type": "stream",
       "stream": "stdout",
       "text": [
        "\n",
        "we're done with the mc loop 8.070629\n",
        "yes"
       ]
      },
      {
       "output_type": "stream",
       "stream": "stdout",
       "text": [
        "\n",
        "we're done with the mc loop 8.546466\n",
        "yes"
       ]
      },
      {
       "output_type": "stream",
       "stream": "stdout",
       "text": [
        "\n",
        "we're done with the mc loop 9.929984\n",
        "yes"
       ]
      },
      {
       "output_type": "stream",
       "stream": "stdout",
       "text": [
        "\n",
        "we're done with the mc loop 9.019647\n",
        "yes"
       ]
      },
      {
       "output_type": "stream",
       "stream": "stdout",
       "text": [
        "\n",
        "we're done with the mc loop 6.440690\n",
        "yes"
       ]
      },
      {
       "output_type": "stream",
       "stream": "stdout",
       "text": [
        "\n",
        "we're done with the mc loop 9.250816\n",
        "yes"
       ]
      },
      {
       "output_type": "stream",
       "stream": "stdout",
       "text": [
        "\n",
        "we're done with the mc loop 8.843503\n",
        "nyooo!!!!"
       ]
      },
      {
       "output_type": "stream",
       "stream": "stdout",
       "text": [
        "\n",
        "we're done with the mc loop 7.590732\n",
        "yes"
       ]
      },
      {
       "output_type": "stream",
       "stream": "stdout",
       "text": [
        "\n",
        "we're done with the mc loop 7.375478\n",
        "yes"
       ]
      },
      {
       "output_type": "stream",
       "stream": "stdout",
       "text": [
        "\n",
        "we're done with the mc loop 7.636384\n",
        "yes"
       ]
      },
      {
       "output_type": "stream",
       "stream": "stdout",
       "text": [
        "\n",
        "we're done with the mc loop 8.146533\n",
        "nyooo!!!!"
       ]
      },
      {
       "output_type": "stream",
       "stream": "stdout",
       "text": [
        "\n",
        "we're done with the mc loop 7.345734\n",
        "barely yes"
       ]
      },
      {
       "output_type": "stream",
       "stream": "stdout",
       "text": [
        "\n",
        "we're done with the mc loop 7.303199\n",
        "yes"
       ]
      },
      {
       "output_type": "stream",
       "stream": "stdout",
       "text": [
        "\n",
        "we're done with the mc loop 7.370839\n",
        "yes"
       ]
      },
      {
       "output_type": "stream",
       "stream": "stdout",
       "text": [
        "\n",
        "we're done with the mc loop 7.379156\n",
        "yes"
       ]
      },
      {
       "output_type": "stream",
       "stream": "stdout",
       "text": [
        "\n",
        "we're done with the mc loop 8.474897\n",
        "yes"
       ]
      },
      {
       "output_type": "stream",
       "stream": "stdout",
       "text": [
        "\n",
        "we're done with the mc loop 9.271929\n",
        "yes"
       ]
      },
      {
       "output_type": "stream",
       "stream": "stdout",
       "text": [
        "\n",
        "we're done with the mc loop 9.278001\n",
        "nyooo!!!!"
       ]
      },
      {
       "output_type": "stream",
       "stream": "stdout",
       "text": [
        "\n",
        "we're done with the mc loop 9.261701\n",
        "nyooo!!!!"
       ]
      },
      {
       "output_type": "stream",
       "stream": "stdout",
       "text": [
        "\n",
        "we're done with the mc loop 9.279529\n",
        "yes"
       ]
      },
      {
       "output_type": "stream",
       "stream": "stdout",
       "text": [
        "\n",
        "we're done with the mc loop 9.296288\n",
        "yes"
       ]
      },
      {
       "output_type": "stream",
       "stream": "stdout",
       "text": [
        "\n",
        "we're done with the mc loop 9.277682\n",
        "yes"
       ]
      },
      {
       "output_type": "stream",
       "stream": "stdout",
       "text": [
        "\n",
        "we're done with the mc loop 9.296111\n",
        "nyooo!!!!"
       ]
      },
      {
       "output_type": "stream",
       "stream": "stdout",
       "text": [
        "\n",
        "we're done with the mc loop 9.290898\n",
        "yes"
       ]
      },
      {
       "output_type": "stream",
       "stream": "stdout",
       "text": [
        "\n",
        "we're done with the mc loop 9.249907\n",
        "yes"
       ]
      },
      {
       "output_type": "stream",
       "stream": "stdout",
       "text": [
        "\n",
        "we're done with the mc loop 9.270735\n",
        "yes"
       ]
      },
      {
       "output_type": "stream",
       "stream": "stdout",
       "text": [
        "\n",
        "we're done with the mc loop 9.282030\n",
        "barely yes"
       ]
      },
      {
       "output_type": "stream",
       "stream": "stdout",
       "text": [
        "\n",
        "we're done with the mc loop 9.250911\n",
        "yes"
       ]
      },
      {
       "output_type": "stream",
       "stream": "stdout",
       "text": [
        "\n",
        "we're done with the mc loop 9.266958\n",
        "yes"
       ]
      },
      {
       "output_type": "stream",
       "stream": "stdout",
       "text": [
        "\n",
        "we're done with the mc loop 9.283772\n",
        "nyooo!!!!"
       ]
      },
      {
       "output_type": "stream",
       "stream": "stdout",
       "text": [
        "\n",
        "we're done with the mc loop 9.276527\n",
        "yes"
       ]
      },
      {
       "output_type": "stream",
       "stream": "stdout",
       "text": [
        "\n",
        "we're done with the mc loop 9.286787\n",
        "yes"
       ]
      },
      {
       "output_type": "stream",
       "stream": "stdout",
       "text": [
        "\n",
        "we're done with the mc loop 9.284596\n",
        "yes"
       ]
      },
      {
       "output_type": "stream",
       "stream": "stdout",
       "text": [
        "\n",
        "we're done with the mc loop 9.275902\n",
        "nyooo!!!!"
       ]
      },
      {
       "output_type": "stream",
       "stream": "stdout",
       "text": [
        "\n",
        "we're done with the mc loop 9.279064\n",
        "yes"
       ]
      },
      {
       "output_type": "stream",
       "stream": "stdout",
       "text": [
        "\n",
        "we're done with the mc loop 6.729150\n",
        "yes"
       ]
      },
      {
       "output_type": "stream",
       "stream": "stdout",
       "text": [
        "\n",
        "we're done with the mc loop 5.538854\n",
        "nyooo!!!!"
       ]
      },
      {
       "output_type": "stream",
       "stream": "stdout",
       "text": [
        "\n",
        "we're done with the mc loop 5.548928\n",
        "yes"
       ]
      },
      {
       "output_type": "stream",
       "stream": "stdout",
       "text": [
        "\n",
        "we're done with the mc loop 9.795378\n",
        "nyooo!!!!"
       ]
      },
      {
       "output_type": "stream",
       "stream": "stdout",
       "text": [
        "\n",
        "we're done with the mc loop 7.136810\n",
        "yes"
       ]
      },
      {
       "output_type": "stream",
       "stream": "stdout",
       "text": [
        "\n",
        "we're done with the mc loop 7.325426\n",
        "yes"
       ]
      },
      {
       "output_type": "stream",
       "stream": "stdout",
       "text": [
        "\n",
        "we're done with the mc loop 8.384433\n",
        "yes"
       ]
      },
      {
       "output_type": "stream",
       "stream": "stdout",
       "text": [
        "\n",
        "we're done with the mc loop 8.286372\n",
        "yes"
       ]
      },
      {
       "output_type": "stream",
       "stream": "stdout",
       "text": [
        "\n",
        "we're done with the mc loop 7.311450\n",
        "nyooo!!!!"
       ]
      },
      {
       "output_type": "stream",
       "stream": "stdout",
       "text": [
        "\n",
        "we're done with the mc loop 7.377447\n",
        "nyooo!!!!"
       ]
      },
      {
       "output_type": "stream",
       "stream": "stdout",
       "text": [
        "\n",
        "we're done with the mc loop 7.402615\n",
        "yes"
       ]
      },
      {
       "output_type": "stream",
       "stream": "stdout",
       "text": [
        "\n",
        "we're done with the mc loop 5.574311\n",
        "yes"
       ]
      },
      {
       "output_type": "stream",
       "stream": "stdout",
       "text": [
        "\n",
        "we're done with the mc loop 7.485756\n",
        "yes"
       ]
      },
      {
       "output_type": "stream",
       "stream": "stdout",
       "text": [
        "\n",
        "we're done with the mc loop 7.295956\n",
        "yes"
       ]
      },
      {
       "output_type": "stream",
       "stream": "stdout",
       "text": [
        "\n",
        "we're done with the mc loop 6.257114\n",
        "yes"
       ]
      },
      {
       "output_type": "stream",
       "stream": "stdout",
       "text": [
        "\n",
        "we're done with the mc loop 6.377398\n",
        "yes"
       ]
      },
      {
       "output_type": "stream",
       "stream": "stdout",
       "text": [
        "\n",
        "we're done with the mc loop 7.294242\n",
        "yes"
       ]
      },
      {
       "output_type": "stream",
       "stream": "stdout",
       "text": [
        "\n",
        "we're done with the mc loop 7.301500\n",
        "yes"
       ]
      },
      {
       "output_type": "stream",
       "stream": "stdout",
       "text": [
        "\n",
        "we're done with the mc loop 9.540840\n",
        "nyooo!!!!"
       ]
      },
      {
       "output_type": "stream",
       "stream": "stdout",
       "text": [
        "\n",
        "we're done with the mc loop 8.336970\n",
        "nyooo!!!!"
       ]
      },
      {
       "output_type": "stream",
       "stream": "stdout",
       "text": [
        "\n",
        "we're done with the mc loop 11.174839\n",
        "yes"
       ]
      },
      {
       "output_type": "stream",
       "stream": "stdout",
       "text": [
        "\n",
        "we're done with the mc loop 10.415587\n",
        "yes"
       ]
      },
      {
       "output_type": "stream",
       "stream": "stdout",
       "text": [
        "\n",
        "we're done with the mc loop 8.874583\n",
        "yes"
       ]
      },
      {
       "output_type": "stream",
       "stream": "stdout",
       "text": [
        "\n",
        "we're done with the mc loop 9.777362\n",
        "yes"
       ]
      },
      {
       "output_type": "stream",
       "stream": "stdout",
       "text": [
        "\n",
        "we're done with the mc loop 9.343725\n",
        "yes"
       ]
      },
      {
       "output_type": "stream",
       "stream": "stdout",
       "text": [
        "\n",
        "we're done with the mc loop 10.639781\n",
        "nyooo!!!!"
       ]
      },
      {
       "output_type": "stream",
       "stream": "stdout",
       "text": [
        "\n",
        "we're done with the mc loop 7.846132\n",
        "yes"
       ]
      },
      {
       "output_type": "stream",
       "stream": "stdout",
       "text": [
        "\n",
        "we're done with the mc loop 9.724817\n",
        "yes"
       ]
      },
      {
       "output_type": "stream",
       "stream": "stdout",
       "text": [
        "\n",
        "we're done with the mc loop 9.248298\n",
        "yes"
       ]
      },
      {
       "output_type": "stream",
       "stream": "stdout",
       "text": [
        "\n",
        "we're done with the mc loop 9.775423\n",
        "nyooo!!!!"
       ]
      },
      {
       "output_type": "stream",
       "stream": "stdout",
       "text": [
        "\n",
        "we're done with the mc loop 10.331786\n",
        "yes"
       ]
      },
      {
       "output_type": "stream",
       "stream": "stdout",
       "text": [
        "\n",
        "we're done with the mc loop 11.369211\n",
        "yes"
       ]
      },
      {
       "output_type": "stream",
       "stream": "stdout",
       "text": [
        "\n",
        "we're done with the mc loop 9.375793\n",
        "barely yes"
       ]
      },
      {
       "output_type": "stream",
       "stream": "stdout",
       "text": [
        "\n",
        "we're done with the mc loop 8.969289\n",
        "yes"
       ]
      },
      {
       "output_type": "stream",
       "stream": "stdout",
       "text": [
        "\n",
        "we're done with the mc loop 8.955027\n",
        "yes"
       ]
      },
      {
       "output_type": "stream",
       "stream": "stdout",
       "text": [
        "\n",
        "we're done with the mc loop 10.646245\n",
        "yes"
       ]
      },
      {
       "output_type": "stream",
       "stream": "stdout",
       "text": [
        "\n",
        "we're done with the mc loop 11.502741\n",
        "nyooo!!!!"
       ]
      },
      {
       "output_type": "stream",
       "stream": "stdout",
       "text": [
        "\n",
        "we're done with the mc loop 9.895929\n",
        "nyooo!!!!"
       ]
      },
      {
       "output_type": "stream",
       "stream": "stdout",
       "text": [
        "\n",
        "we're done with the mc loop 11.556653\n",
        "yes"
       ]
      },
      {
       "output_type": "stream",
       "stream": "stdout",
       "text": [
        "\n",
        "we're done with the mc loop 11.284026\n",
        "barely yes"
       ]
      },
      {
       "output_type": "stream",
       "stream": "stdout",
       "text": [
        "\n",
        "we're done with the mc loop 11.382145\n",
        "yes"
       ]
      },
      {
       "output_type": "stream",
       "stream": "stdout",
       "text": [
        "\n",
        "we're done with the mc loop 10.302006\n",
        "yes"
       ]
      },
      {
       "output_type": "stream",
       "stream": "stdout",
       "text": [
        "\n",
        "we're done with the mc loop 9.108227\n",
        "yes"
       ]
      },
      {
       "output_type": "stream",
       "stream": "stdout",
       "text": [
        "\n",
        "we're done with the mc loop 11.232480\n",
        "yes"
       ]
      },
      {
       "output_type": "stream",
       "stream": "stdout",
       "text": [
        "\n",
        "we're done with the mc loop 9.501971\n",
        "barely yes"
       ]
      },
      {
       "output_type": "stream",
       "stream": "stdout",
       "text": [
        "\n",
        "we're done with the mc loop 9.289540\n",
        "nyooo!!!!"
       ]
      },
      {
       "output_type": "stream",
       "stream": "stdout",
       "text": [
        "\n",
        "we're done with the mc loop 11.210302\n",
        "yes"
       ]
      },
      {
       "output_type": "stream",
       "stream": "stdout",
       "text": [
        "\n",
        "we're done with the mc loop 12.276435\n",
        "yes"
       ]
      },
      {
       "output_type": "stream",
       "stream": "stdout",
       "text": [
        "\n",
        "we're done with the mc loop 12.316149\n",
        "yes"
       ]
      },
      {
       "output_type": "stream",
       "stream": "stdout",
       "text": [
        "\n",
        "we're done with the mc loop 11.216229\n",
        "barely yes"
       ]
      },
      {
       "output_type": "stream",
       "stream": "stdout",
       "text": [
        "\n",
        "we're done with the mc loop 12.607461\n",
        "yes"
       ]
      },
      {
       "output_type": "stream",
       "stream": "stdout",
       "text": [
        "\n",
        "we're done with the mc loop 12.410830\n",
        "yes"
       ]
      },
      {
       "output_type": "stream",
       "stream": "stdout",
       "text": [
        "\n",
        "we're done with the mc loop 9.647412\n",
        "nyooo!!!!"
       ]
      },
      {
       "output_type": "stream",
       "stream": "stdout",
       "text": [
        "\n",
        "we're done with the mc loop 11.339315\n",
        "nyooo!!!!"
       ]
      },
      {
       "output_type": "stream",
       "stream": "stdout",
       "text": [
        "\n",
        "we're done with the mc loop 11.257103\n",
        "yes"
       ]
      },
      {
       "output_type": "stream",
       "stream": "stdout",
       "text": [
        "\n",
        "we're done with the mc loop 13.525743\n",
        "yes"
       ]
      },
      {
       "output_type": "stream",
       "stream": "stdout",
       "text": [
        "\n",
        "we're done with the mc loop 10.575053\n",
        "yes"
       ]
      },
      {
       "output_type": "stream",
       "stream": "stdout",
       "text": [
        "\n",
        "we're done with the mc loop 10.938807\n",
        "nyooo!!!!"
       ]
      },
      {
       "output_type": "stream",
       "stream": "stdout",
       "text": [
        "\n",
        "we're done with the mc loop 12.522425\n",
        "nyooo!!!!"
       ]
      },
      {
       "output_type": "stream",
       "stream": "stdout",
       "text": [
        "\n",
        "we're done with the mc loop 13.204868\n",
        "yes"
       ]
      },
      {
       "output_type": "stream",
       "stream": "stdout",
       "text": [
        "\n",
        "we're done with the mc loop 12.630880\n",
        "nyooo!!!!"
       ]
      },
      {
       "output_type": "stream",
       "stream": "stdout",
       "text": [
        "\n",
        "we're done with the mc loop 11.924673\n",
        "yes"
       ]
      },
      {
       "output_type": "stream",
       "stream": "stdout",
       "text": [
        "\n",
        "we're done with the mc loop 11.281506\n",
        "yes"
       ]
      },
      {
       "output_type": "stream",
       "stream": "stdout",
       "text": [
        "\n",
        "we're done with the mc loop 9.259107\n",
        "yes"
       ]
      },
      {
       "output_type": "stream",
       "stream": "stdout",
       "text": [
        "\n",
        "we're done with the mc loop 11.767820\n",
        "yes"
       ]
      },
      {
       "output_type": "stream",
       "stream": "stdout",
       "text": [
        "\n",
        "we're done with the mc loop 11.622376\n",
        "yes"
       ]
      },
      {
       "output_type": "stream",
       "stream": "stdout",
       "text": [
        "\n",
        "we're done with the mc loop 13.500123\n",
        "yes"
       ]
      },
      {
       "output_type": "stream",
       "stream": "stdout",
       "text": [
        "\n",
        "we're done with the mc loop 9.996312\n",
        "nyooo!!!!"
       ]
      },
      {
       "output_type": "stream",
       "stream": "stdout",
       "text": [
        "\n",
        "we're done with the mc loop 7.818316\n",
        "yes"
       ]
      },
      {
       "output_type": "stream",
       "stream": "stdout",
       "text": [
        "\n",
        "we're done with the mc loop 10.636413\n",
        "barely yes"
       ]
      },
      {
       "output_type": "stream",
       "stream": "stdout",
       "text": [
        "\n",
        "we're done with the mc loop 8.092736\n",
        "barely yes"
       ]
      },
      {
       "output_type": "stream",
       "stream": "stdout",
       "text": [
        "\n",
        "we're done with the mc loop 11.537949\n",
        "yes"
       ]
      },
      {
       "output_type": "stream",
       "stream": "stdout",
       "text": [
        "\n",
        "we're done with the mc loop 11.290364\n",
        "yes"
       ]
      },
      {
       "output_type": "stream",
       "stream": "stdout",
       "text": [
        "\n",
        "we're done with the mc loop 7.623132\n",
        "yes"
       ]
      },
      {
       "output_type": "stream",
       "stream": "stdout",
       "text": [
        "\n",
        "we're done with the mc loop 10.328744\n",
        "yes"
       ]
      },
      {
       "output_type": "stream",
       "stream": "stdout",
       "text": [
        "\n",
        "we're done with the mc loop 8.723003\n",
        "yes"
       ]
      },
      {
       "output_type": "stream",
       "stream": "stdout",
       "text": [
        "\n",
        "we're done with the mc loop 8.409317\n",
        "nyooo!!!!"
       ]
      },
      {
       "output_type": "stream",
       "stream": "stdout",
       "text": [
        "\n",
        "we're done with the mc loop 8.497915\n",
        "yes"
       ]
      },
      {
       "output_type": "stream",
       "stream": "stdout",
       "text": [
        "\n",
        "we're done with the mc loop 8.731780\n",
        "barely yes"
       ]
      },
      {
       "output_type": "stream",
       "stream": "stdout",
       "text": [
        "\n",
        "we're done with the mc loop 7.777739\n",
        "yes"
       ]
      },
      {
       "output_type": "stream",
       "stream": "stdout",
       "text": [
        "\n",
        "we're done with the mc loop 9.454472\n",
        "yes"
       ]
      },
      {
       "output_type": "stream",
       "stream": "stdout",
       "text": [
        "\n",
        "we're done with the mc loop 7.464428\n",
        "yes"
       ]
      },
      {
       "output_type": "stream",
       "stream": "stdout",
       "text": [
        "\n",
        "we're done with the mc loop 9.568213\n",
        "yes"
       ]
      },
      {
       "output_type": "stream",
       "stream": "stdout",
       "text": [
        "\n",
        "we're done with the mc loop 8.086686\n",
        "barely yes"
       ]
      },
      {
       "output_type": "stream",
       "stream": "stdout",
       "text": [
        "\n",
        "we're done with the mc loop 9.203180\n",
        "yes"
       ]
      },
      {
       "output_type": "stream",
       "stream": "stdout",
       "text": [
        "\n",
        "we're done with the mc loop 7.912979\n",
        "yes"
       ]
      },
      {
       "output_type": "stream",
       "stream": "stdout",
       "text": [
        "\n",
        "we're done with the mc loop 9.086784\n",
        "yes"
       ]
      },
      {
       "output_type": "stream",
       "stream": "stdout",
       "text": [
        "\n",
        "we're done with the mc loop 8.291695\n",
        "yes"
       ]
      },
      {
       "output_type": "stream",
       "stream": "stdout",
       "text": [
        "\n",
        "we're done with the mc loop 10.343180\n",
        "yes"
       ]
      },
      {
       "output_type": "stream",
       "stream": "stdout",
       "text": [
        "\n",
        "we're done with the mc loop 10.326440\n",
        "yes"
       ]
      },
      {
       "output_type": "stream",
       "stream": "stdout",
       "text": [
        "\n",
        "we're done with the mc loop 8.364073\n",
        "yes"
       ]
      },
      {
       "output_type": "stream",
       "stream": "stdout",
       "text": [
        "\n",
        "we're done with the mc loop 8.750339\n",
        "nyooo!!!!"
       ]
      },
      {
       "output_type": "stream",
       "stream": "stdout",
       "text": [
        "\n",
        "we're done with the mc loop 10.018510\n",
        "nyooo!!!!"
       ]
      },
      {
       "output_type": "stream",
       "stream": "stdout",
       "text": [
        "\n",
        "we're done with the mc loop 9.191873\n",
        "nyooo!!!!"
       ]
      },
      {
       "output_type": "stream",
       "stream": "stdout",
       "text": [
        "\n",
        "we're done with the mc loop 7.661152\n",
        "yes"
       ]
      },
      {
       "output_type": "stream",
       "stream": "stdout",
       "text": [
        "\n",
        "we're done with the mc loop 9.800452\n",
        "yes"
       ]
      },
      {
       "output_type": "stream",
       "stream": "stdout",
       "text": [
        "\n",
        "we're done with the mc loop 7.433603\n",
        "nyooo!!!!"
       ]
      },
      {
       "output_type": "stream",
       "stream": "stdout",
       "text": [
        "\n",
        "we're done with the mc loop 9.436975\n",
        "yes"
       ]
      },
      {
       "output_type": "stream",
       "stream": "stdout",
       "text": [
        "\n",
        "we're done with the mc loop 7.457783\n",
        "yes"
       ]
      },
      {
       "output_type": "stream",
       "stream": "stdout",
       "text": [
        "\n",
        "we're done with the mc loop 10.102271\n",
        "barely yes"
       ]
      },
      {
       "output_type": "stream",
       "stream": "stdout",
       "text": [
        "\n",
        "we're done with the mc loop 7.437511\n",
        "yes"
       ]
      },
      {
       "output_type": "stream",
       "stream": "stdout",
       "text": [
        "\n",
        "we're done with the mc loop 9.547901\n",
        "nyooo!!!!"
       ]
      },
      {
       "output_type": "stream",
       "stream": "stdout",
       "text": [
        "\n",
        "we're done with the mc loop 8.366786\n",
        "yes"
       ]
      },
      {
       "output_type": "stream",
       "stream": "stdout",
       "text": [
        "\n",
        "we're done with the mc loop 9.014061\n",
        "nyooo!!!!"
       ]
      },
      {
       "output_type": "stream",
       "stream": "stdout",
       "text": [
        "\n",
        "we're done with the mc loop 8.800299\n",
        "nyooo!!!!"
       ]
      },
      {
       "output_type": "stream",
       "stream": "stdout",
       "text": [
        "\n",
        "we're done with the mc loop 9.979253\n",
        "yes"
       ]
      },
      {
       "output_type": "stream",
       "stream": "stdout",
       "text": [
        "\n",
        "we're done with the mc loop 11.845152\n",
        "yes"
       ]
      },
      {
       "output_type": "stream",
       "stream": "stdout",
       "text": [
        "\n",
        "we're done with the mc loop 10.207865\n",
        "yes"
       ]
      },
      {
       "output_type": "stream",
       "stream": "stdout",
       "text": [
        "\n",
        "we're done with the mc loop 11.692192\n",
        "nyooo!!!!"
       ]
      },
      {
       "output_type": "stream",
       "stream": "stdout",
       "text": [
        "\n",
        "we're done with the mc loop 12.826558\n",
        "yes"
       ]
      },
      {
       "output_type": "stream",
       "stream": "stdout",
       "text": [
        "\n",
        "we're done with the mc loop 15.312075\n",
        "nyooo!!!!"
       ]
      },
      {
       "output_type": "stream",
       "stream": "stdout",
       "text": [
        "\n",
        "we're done with the mc loop 13.091108\n",
        "nyooo!!!!"
       ]
      },
      {
       "output_type": "stream",
       "stream": "stdout",
       "text": [
        "\n",
        "we're done with the mc loop 9.723592\n",
        "yes"
       ]
      },
      {
       "output_type": "stream",
       "stream": "stdout",
       "text": [
        "\n",
        "we're done with the mc loop 10.019581\n",
        "nyooo!!!!"
       ]
      },
      {
       "output_type": "stream",
       "stream": "stdout",
       "text": [
        "\n",
        "we're done with the mc loop 9.188243\n",
        "nyooo!!!!"
       ]
      },
      {
       "output_type": "stream",
       "stream": "stdout",
       "text": [
        "\n",
        "we're done with the mc loop 9.199863\n",
        "yes"
       ]
      },
      {
       "output_type": "stream",
       "stream": "stdout",
       "text": [
        "\n",
        "we're done with the mc loop 9.188425\n",
        "nyooo!!!!"
       ]
      },
      {
       "output_type": "stream",
       "stream": "stdout",
       "text": [
        "\n",
        "we're done with the mc loop 9.205703\n",
        "yes"
       ]
      },
      {
       "output_type": "stream",
       "stream": "stdout",
       "text": [
        "\n",
        "we're done with the mc loop 9.872628\n",
        "nyooo!!!!"
       ]
      },
      {
       "output_type": "stream",
       "stream": "stdout",
       "text": [
        "\n",
        "we're done with the mc loop 10.259911\n",
        "yes"
       ]
      },
      {
       "output_type": "stream",
       "stream": "stdout",
       "text": [
        "\n",
        "we're done with the mc loop 9.162322\n",
        "nyooo!!!!"
       ]
      },
      {
       "output_type": "stream",
       "stream": "stdout",
       "text": [
        "\n",
        "we're done with the mc loop 8.544719\n",
        "yes"
       ]
      },
      {
       "output_type": "stream",
       "stream": "stdout",
       "text": [
        "\n",
        "we're done with the mc loop 10.321126\n",
        "nyooo!!!!"
       ]
      },
      {
       "output_type": "stream",
       "stream": "stdout",
       "text": [
        "\n",
        "we're done with the mc loop 9.201921\n",
        "yes"
       ]
      },
      {
       "output_type": "stream",
       "stream": "stdout",
       "text": [
        "\n",
        "we're done with the mc loop 10.539753\n",
        "nyooo!!!!"
       ]
      },
      {
       "output_type": "stream",
       "stream": "stdout",
       "text": [
        "\n",
        "we're done with the mc loop 9.486442\n",
        "nyooo!!!!"
       ]
      },
      {
       "output_type": "stream",
       "stream": "stdout",
       "text": [
        "\n",
        "we're done with the mc loop 9.053782\n",
        "nyooo!!!!"
       ]
      },
      {
       "output_type": "stream",
       "stream": "stdout",
       "text": [
        "\n",
        "we're done with the mc loop 7.808444\n",
        "yes"
       ]
      },
      {
       "output_type": "stream",
       "stream": "stdout",
       "text": [
        "\n",
        "we're done with the mc loop 11.124188\n",
        "yes"
       ]
      },
      {
       "output_type": "stream",
       "stream": "stdout",
       "text": [
        "\n",
        "we're done with the mc loop 13.223310\n",
        "yes"
       ]
      },
      {
       "output_type": "stream",
       "stream": "stdout",
       "text": [
        "\n",
        "we're done with the mc loop 9.962305\n",
        "yes"
       ]
      },
      {
       "output_type": "stream",
       "stream": "stdout",
       "text": [
        "\n",
        "we're done with the mc loop 11.024899\n",
        "nyooo!!!!"
       ]
      },
      {
       "output_type": "stream",
       "stream": "stdout",
       "text": [
        "\n",
        "we're done with the mc loop 9.467551\n",
        "yes"
       ]
      },
      {
       "output_type": "stream",
       "stream": "stdout",
       "text": [
        "\n",
        "we're done with the mc loop 7.603229\n",
        "barely yes"
       ]
      },
      {
       "output_type": "stream",
       "stream": "stdout",
       "text": [
        "\n",
        "we're done with the mc loop 9.275611\n",
        "yes"
       ]
      },
      {
       "output_type": "stream",
       "stream": "stdout",
       "text": [
        "\n",
        "we're done with the mc loop 7.969724\n",
        "yes"
       ]
      },
      {
       "output_type": "stream",
       "stream": "stdout",
       "text": [
        "\n",
        "we're done with the mc loop 9.516299\n",
        "yes"
       ]
      },
      {
       "output_type": "stream",
       "stream": "stdout",
       "text": [
        "\n",
        "we're done with the mc loop 7.731129\n",
        "yes"
       ]
      },
      {
       "output_type": "stream",
       "stream": "stdout",
       "text": [
        "\n",
        "we're done with the mc loop 9.511431\n",
        "yes"
       ]
      },
      {
       "output_type": "stream",
       "stream": "stdout",
       "text": [
        "\n",
        "we're done with the mc loop 7.607254\n",
        "yes"
       ]
      },
      {
       "output_type": "stream",
       "stream": "stdout",
       "text": [
        "\n",
        "we're done with the mc loop 9.583686\n",
        "nyooo!!!!"
       ]
      },
      {
       "output_type": "stream",
       "stream": "stdout",
       "text": [
        "\n",
        "we're done with the mc loop 7.824486\n",
        "yes"
       ]
      },
      {
       "output_type": "stream",
       "stream": "stdout",
       "text": [
        "\n",
        "we're done with the mc loop 9.642111\n",
        "nyooo!!!!"
       ]
      },
      {
       "output_type": "stream",
       "stream": "stdout",
       "text": [
        "\n",
        "we're done with the mc loop 7.668383\n",
        "yes"
       ]
      },
      {
       "output_type": "stream",
       "stream": "stdout",
       "text": [
        "\n",
        "we're done with the mc loop 9.780911\n",
        "yes"
       ]
      },
      {
       "output_type": "stream",
       "stream": "stdout",
       "text": [
        "\n",
        "we're done with the mc loop 7.529290\n",
        "nyooo!!!!"
       ]
      },
      {
       "output_type": "stream",
       "stream": "stdout",
       "text": [
        "\n",
        "we're done with the mc loop 9.200338\n",
        "yes"
       ]
      },
      {
       "output_type": "stream",
       "stream": "stdout",
       "text": [
        "\n",
        "we're done with the mc loop 7.719647\n",
        "yes"
       ]
      },
      {
       "output_type": "stream",
       "stream": "stdout",
       "text": [
        "\n",
        "we're done with the mc loop 9.374406\n",
        "yes"
       ]
      },
      {
       "output_type": "stream",
       "stream": "stdout",
       "text": [
        "\n",
        "we're done with the mc loop 7.431716\n",
        "nyooo!!!!"
       ]
      },
      {
       "output_type": "stream",
       "stream": "stdout",
       "text": [
        "\n",
        "we're done with the mc loop 8.835418\n",
        "barely yes"
       ]
      },
      {
       "output_type": "stream",
       "stream": "stdout",
       "text": [
        "\n",
        "we're done with the mc loop 8.383316\n",
        "yes"
       ]
      },
      {
       "output_type": "stream",
       "stream": "stdout",
       "text": [
        "\n",
        "we're done with the mc loop 9.729578\n",
        "yes"
       ]
      },
      {
       "output_type": "stream",
       "stream": "stdout",
       "text": [
        "\n",
        "we're done with the mc loop 7.726548\n",
        "yes"
       ]
      },
      {
       "output_type": "stream",
       "stream": "stdout",
       "text": [
        "\n",
        "we're done with the mc loop 9.599770\n",
        "yes"
       ]
      },
      {
       "output_type": "stream",
       "stream": "stdout",
       "text": [
        "\n",
        "we're done with the mc loop 7.559008\n",
        "nyooo!!!!"
       ]
      },
      {
       "output_type": "stream",
       "stream": "stdout",
       "text": [
        "\n",
        "we're done with the mc loop 9.637360\n",
        "nyooo!!!!"
       ]
      },
      {
       "output_type": "stream",
       "stream": "stdout",
       "text": [
        "\n",
        "we're done with the mc loop 12.275311\n",
        "nyooo!!!!"
       ]
      },
      {
       "output_type": "stream",
       "stream": "stdout",
       "text": [
        "\n",
        "we're done with the mc loop 12.875406\n",
        "yes"
       ]
      },
      {
       "output_type": "stream",
       "stream": "stdout",
       "text": [
        "\n",
        "we're done with the mc loop 11.666071\n",
        "yes"
       ]
      },
      {
       "output_type": "stream",
       "stream": "stdout",
       "text": [
        "\n",
        "we're done with the mc loop 9.604159\n",
        "yes"
       ]
      },
      {
       "output_type": "stream",
       "stream": "stdout",
       "text": [
        "\n",
        "we're done with the mc loop 7.758409\n",
        "yes"
       ]
      },
      {
       "output_type": "stream",
       "stream": "stdout",
       "text": [
        "\n",
        "we're done with the mc loop 8.246542\n",
        "barely yes"
       ]
      },
      {
       "output_type": "stream",
       "stream": "stdout",
       "text": [
        "\n",
        "we're done with the mc loop 8.811371\n",
        "nyooo!!!!"
       ]
      },
      {
       "output_type": "stream",
       "stream": "stdout",
       "text": [
        "\n",
        "we're done with the mc loop 7.541219\n",
        "yes"
       ]
      },
      {
       "output_type": "stream",
       "stream": "stdout",
       "text": [
        "\n",
        "we're done with the mc loop 9.403265\n",
        "nyooo!!!!"
       ]
      },
      {
       "output_type": "stream",
       "stream": "stdout",
       "text": [
        "\n",
        "we're done with the mc loop 10.693504\n",
        "yes"
       ]
      },
      {
       "output_type": "stream",
       "stream": "stdout",
       "text": [
        "\n",
        "we're done with the mc loop 11.668327\n",
        "yes"
       ]
      },
      {
       "output_type": "stream",
       "stream": "stdout",
       "text": [
        "\n",
        "we're done with the mc loop 7.432462\n",
        "yes"
       ]
      },
      {
       "output_type": "stream",
       "stream": "stdout",
       "text": [
        "\n",
        "we're done with the mc loop 8.935394\n",
        "yes"
       ]
      },
      {
       "output_type": "stream",
       "stream": "stdout",
       "text": [
        "\n",
        "we're done with the mc loop 12.600916\n",
        "yes"
       ]
      },
      {
       "output_type": "stream",
       "stream": "stdout",
       "text": [
        "\n",
        "we're done with the mc loop 12.504322\n",
        "yes"
       ]
      },
      {
       "output_type": "stream",
       "stream": "stdout",
       "text": [
        "\n",
        "we're done with the mc loop 7.788926\n",
        "yes"
       ]
      },
      {
       "output_type": "stream",
       "stream": "stdout",
       "text": [
        "\n",
        "we're done with the mc loop 9.433840\n",
        "nyooo!!!!"
       ]
      },
      {
       "output_type": "stream",
       "stream": "stdout",
       "text": [
        "\n",
        "we're done with the mc loop 7.897590\n",
        "yes"
       ]
      },
      {
       "output_type": "stream",
       "stream": "stdout",
       "text": [
        "\n",
        "we're done with the mc loop 8.390777\n",
        "yes"
       ]
      },
      {
       "output_type": "stream",
       "stream": "stdout",
       "text": [
        "\n",
        "we're done with the mc loop 7.434242\n",
        "yes"
       ]
      },
      {
       "output_type": "stream",
       "stream": "stdout",
       "text": [
        "\n",
        "we're done with the mc loop 9.350006\n",
        "yes"
       ]
      },
      {
       "output_type": "stream",
       "stream": "stdout",
       "text": [
        "\n",
        "we're done with the mc loop 11.825959\n",
        "yes"
       ]
      },
      {
       "output_type": "stream",
       "stream": "stdout",
       "text": [
        "\n",
        "we're done with the mc loop 7.621740\n",
        "nyooo!!!!"
       ]
      },
      {
       "output_type": "stream",
       "stream": "stdout",
       "text": [
        "\n",
        "we're done with the mc loop 7.514151\n",
        "barely yes"
       ]
      },
      {
       "output_type": "stream",
       "stream": "stdout",
       "text": [
        "\n",
        "we're done with the mc loop 8.747349\n",
        "nyooo!!!!"
       ]
      },
      {
       "output_type": "stream",
       "stream": "stdout",
       "text": [
        "\n",
        "we're done with the mc loop 7.894298\n",
        "yes"
       ]
      },
      {
       "output_type": "stream",
       "stream": "stdout",
       "text": [
        "\n",
        "we're done with the mc loop 7.665409\n",
        "yes"
       ]
      },
      {
       "output_type": "stream",
       "stream": "stdout",
       "text": [
        "\n",
        "we're done with the mc loop 9.013546\n",
        "nyooo!!!!"
       ]
      },
      {
       "output_type": "stream",
       "stream": "stdout",
       "text": [
        "\n",
        "we're done with the mc loop 7.513461\n",
        "yes"
       ]
      },
      {
       "output_type": "stream",
       "stream": "stdout",
       "text": [
        "\n",
        "we're done with the mc loop 9.754160\n",
        "nyooo!!!!"
       ]
      },
      {
       "output_type": "stream",
       "stream": "stdout",
       "text": [
        "\n",
        "we're done with the mc loop 7.537407\n",
        "yes"
       ]
      },
      {
       "output_type": "stream",
       "stream": "stdout",
       "text": [
        "\n",
        "we're done with the mc loop 8.811088\n",
        "nyooo!!!!"
       ]
      },
      {
       "output_type": "stream",
       "stream": "stdout",
       "text": [
        "\n",
        "we're done with the mc loop 8.874573\n",
        "yes"
       ]
      },
      {
       "output_type": "stream",
       "stream": "stdout",
       "text": [
        "\n",
        "we're done with the mc loop 13.762020\n",
        "yes"
       ]
      },
      {
       "output_type": "stream",
       "stream": "stdout",
       "text": [
        "\n",
        "we're done with the mc loop 9.490783\n",
        "yes"
       ]
      },
      {
       "output_type": "stream",
       "stream": "stdout",
       "text": [
        "\n",
        "we're done with the mc loop 9.067997\n",
        "yes"
       ]
      },
      {
       "output_type": "stream",
       "stream": "stdout",
       "text": [
        "\n",
        "we're done with the mc loop 7.438157\n",
        "nyooo!!!!"
       ]
      },
      {
       "output_type": "stream",
       "stream": "stdout",
       "text": [
        "\n",
        "we're done with the mc loop 8.267932\n",
        "nyooo!!!!"
       ]
      },
      {
       "output_type": "stream",
       "stream": "stdout",
       "text": [
        "\n",
        "we're done with the mc loop 8.592313\n",
        "yes"
       ]
      },
      {
       "output_type": "stream",
       "stream": "stdout",
       "text": [
        "\n",
        "we're done with the mc loop 7.329386\n",
        "nyooo!!!!"
       ]
      },
      {
       "output_type": "stream",
       "stream": "stdout",
       "text": [
        "\n",
        "we're done with the mc loop 10.349903\n",
        "yes"
       ]
      },
      {
       "output_type": "stream",
       "stream": "stdout",
       "text": [
        "\n",
        "we're done with the mc loop 12.518461\n",
        "yes"
       ]
      },
      {
       "output_type": "stream",
       "stream": "stdout",
       "text": [
        "\n",
        "we're done with the mc loop 8.175128\n",
        "nyooo!!!!"
       ]
      },
      {
       "output_type": "stream",
       "stream": "stdout",
       "text": [
        "\n",
        "we're done with the mc loop 8.862157\n",
        "yes"
       ]
      },
      {
       "output_type": "stream",
       "stream": "stdout",
       "text": [
        "\n",
        "we're done with the mc loop 7.588272\n",
        "yes"
       ]
      },
      {
       "output_type": "stream",
       "stream": "stdout",
       "text": [
        "\n",
        "we're done with the mc loop 8.819629\n",
        "yes"
       ]
      },
      {
       "output_type": "stream",
       "stream": "stdout",
       "text": [
        "\n",
        "we're done with the mc loop 7.982397\n",
        "yes"
       ]
      },
      {
       "output_type": "stream",
       "stream": "stdout",
       "text": [
        "\n",
        "we're done with the mc loop 7.458044\n",
        "barely yes"
       ]
      },
      {
       "output_type": "stream",
       "stream": "stdout",
       "text": [
        "\n",
        "we're done with the mc loop 9.222833\n",
        "yes"
       ]
      },
      {
       "output_type": "stream",
       "stream": "stdout",
       "text": [
        "\n",
        "we're done with the mc loop 7.449807\n",
        "yes"
       ]
      },
      {
       "output_type": "stream",
       "stream": "stdout",
       "text": [
        "\n",
        "we're done with the mc loop 9.442855\n",
        "yes"
       ]
      },
      {
       "output_type": "stream",
       "stream": "stdout",
       "text": [
        "\n",
        "we're done with the mc loop 7.419307\n",
        "nyooo!!!!"
       ]
      },
      {
       "output_type": "stream",
       "stream": "stdout",
       "text": [
        "\n",
        "we're done with the mc loop 9.640973\n",
        "nyooo!!!!"
       ]
      },
      {
       "output_type": "stream",
       "stream": "stdout",
       "text": [
        "\n",
        "we're done with the mc loop 8.218100\n",
        "nyooo!!!!"
       ]
      },
      {
       "output_type": "stream",
       "stream": "stdout",
       "text": [
        "\n",
        "we're done with the mc loop 10.575983\n",
        "nyooo!!!!"
       ]
      },
      {
       "output_type": "stream",
       "stream": "stdout",
       "text": [
        "\n",
        "we're done with the mc loop 9.183585\n",
        "yes"
       ]
      },
      {
       "output_type": "stream",
       "stream": "stdout",
       "text": [
        "\n",
        "we're done with the mc loop 9.194297\n",
        "nyooo!!!!"
       ]
      },
      {
       "output_type": "stream",
       "stream": "stdout",
       "text": [
        "\n",
        "we're done with the mc loop 9.158203\n",
        "nyooo!!!!"
       ]
      },
      {
       "output_type": "stream",
       "stream": "stdout",
       "text": [
        "\n",
        "we're done with the mc loop 9.183815\n",
        "nyooo!!!!"
       ]
      },
      {
       "output_type": "stream",
       "stream": "stdout",
       "text": [
        "\n",
        "we're done with the mc loop 8.537676\n",
        "yes"
       ]
      },
      {
       "output_type": "stream",
       "stream": "stdout",
       "text": [
        "\n",
        "we're done with the mc loop 7.873824\n",
        "yes"
       ]
      },
      {
       "output_type": "stream",
       "stream": "stdout",
       "text": [
        "\n",
        "we're done with the mc loop 8.810088\n",
        "nyooo!!!!"
       ]
      },
      {
       "output_type": "stream",
       "stream": "stdout",
       "text": [
        "\n",
        "we're done with the mc loop 10.051893\n",
        "nyooo!!!!"
       ]
      },
      {
       "output_type": "stream",
       "stream": "stdout",
       "text": [
        "\n",
        "we're done with the mc loop 7.467726\n",
        "yes"
       ]
      },
      {
       "output_type": "stream",
       "stream": "stdout",
       "text": [
        "\n",
        "we're done with the mc loop 9.579057\n",
        "nyooo!!!!"
       ]
      },
      {
       "output_type": "stream",
       "stream": "stdout",
       "text": [
        "\n",
        "we're done with the mc loop 8.736386\n",
        "yes"
       ]
      },
      {
       "output_type": "stream",
       "stream": "stdout",
       "text": [
        "\n",
        "we're done with the mc loop 9.187809\n",
        "nyooo!!!!"
       ]
      },
      {
       "output_type": "stream",
       "stream": "stdout",
       "text": [
        "\n",
        "we're done with the mc loop 9.177934\n",
        "barely yes"
       ]
      },
      {
       "output_type": "stream",
       "stream": "stdout",
       "text": [
        "\n",
        "we're done with the mc loop 8.952661\n",
        "nyooo!!!!"
       ]
      },
      {
       "output_type": "stream",
       "stream": "stdout",
       "text": [
        "\n",
        "we're done with the mc loop 8.528721\n",
        "nyooo!!!!"
       ]
      },
      {
       "output_type": "stream",
       "stream": "stdout",
       "text": [
        "\n",
        "we're done with the mc loop 9.646278\n",
        "nyooo!!!!"
       ]
      },
      {
       "output_type": "stream",
       "stream": "stdout",
       "text": [
        "\n",
        "we're done with the mc loop 7.731172\n",
        "yes"
       ]
      },
      {
       "output_type": "stream",
       "stream": "stdout",
       "text": [
        "\n",
        "we're done with the mc loop 10.042474\n",
        "yes"
       ]
      },
      {
       "output_type": "stream",
       "stream": "stdout",
       "text": [
        "\n",
        "we're done with the mc loop 9.175704\n",
        "yes"
       ]
      },
      {
       "output_type": "stream",
       "stream": "stdout",
       "text": [
        "\n",
        "we're done with the mc loop 9.204876\n",
        "nyooo!!!!"
       ]
      },
      {
       "output_type": "stream",
       "stream": "stdout",
       "text": [
        "\n",
        "we're done with the mc loop 9.179504\n",
        "yes"
       ]
      },
      {
       "output_type": "stream",
       "stream": "stdout",
       "text": [
        "\n",
        "we're done with the mc loop 9.201240\n",
        "yes"
       ]
      },
      {
       "output_type": "stream",
       "stream": "stdout",
       "text": [
        "\n",
        "we're done with the mc loop 9.197574\n",
        "yes"
       ]
      },
      {
       "output_type": "stream",
       "stream": "stdout",
       "text": [
        "\n",
        "we're done with the mc loop 8.521342\n",
        "nyooo!!!!"
       ]
      },
      {
       "output_type": "stream",
       "stream": "stdout",
       "text": [
        "\n",
        "we're done with the mc loop 8.383874\n",
        "yes"
       ]
      },
      {
       "output_type": "stream",
       "stream": "stdout",
       "text": [
        "\n",
        "we're done with the mc loop 8.570414\n",
        "yes"
       ]
      },
      {
       "output_type": "stream",
       "stream": "stdout",
       "text": [
        "\n",
        "we're done with the mc loop 7.694038\n",
        "yes"
       ]
      },
      {
       "output_type": "stream",
       "stream": "stdout",
       "text": [
        "\n",
        "we're done with the mc loop 8.982070\n",
        "nyooo!!!!"
       ]
      },
      {
       "output_type": "stream",
       "stream": "stdout",
       "text": [
        "\n",
        "we're done with the mc loop 7.387179\n",
        "nyooo!!!!"
       ]
      },
      {
       "output_type": "stream",
       "stream": "stdout",
       "text": [
        "\n",
        "we're done with the mc loop 9.812170\n",
        "yes"
       ]
      },
      {
       "output_type": "stream",
       "stream": "stdout",
       "text": [
        "\n",
        "we're done with the mc loop 11.958359\n",
        "nyooo!!!!"
       ]
      },
      {
       "output_type": "stream",
       "stream": "stdout",
       "text": [
        "\n",
        "we're done with the mc loop 9.610058\n",
        "nyooo!!!!"
       ]
      },
      {
       "output_type": "stream",
       "stream": "stdout",
       "text": [
        "\n",
        "we're done with the mc loop 7.328881\n",
        "yes"
       ]
      },
      {
       "output_type": "stream",
       "stream": "stdout",
       "text": [
        "\n",
        "we're done with the mc loop 7.876064\n",
        "yes"
       ]
      },
      {
       "output_type": "stream",
       "stream": "stdout",
       "text": [
        "\n",
        "we're done with the mc loop 13.603697\n",
        "yes"
       ]
      },
      {
       "output_type": "stream",
       "stream": "stdout",
       "text": [
        "\n",
        "we're done with the mc loop 7.702134\n",
        "yes"
       ]
      },
      {
       "output_type": "stream",
       "stream": "stdout",
       "text": [
        "\n",
        "we're done with the mc loop 7.398251\n",
        "nyooo!!!!"
       ]
      },
      {
       "output_type": "stream",
       "stream": "stdout",
       "text": [
        "\n",
        "we're done with the mc loop 9.153659\n",
        "barely yes"
       ]
      },
      {
       "output_type": "stream",
       "stream": "stdout",
       "text": [
        "\n",
        "we're done with the mc loop 7.469744\n",
        "yes"
       ]
      },
      {
       "output_type": "stream",
       "stream": "stdout",
       "text": [
        "\n",
        "we're done with the mc loop 9.579505\n",
        "yes"
       ]
      },
      {
       "output_type": "stream",
       "stream": "stdout",
       "text": [
        "\n",
        "we're done with the mc loop 7.469806\n",
        "nyooo!!!!"
       ]
      },
      {
       "output_type": "stream",
       "stream": "stdout",
       "text": [
        "\n",
        "we're done with the mc loop 12.016145\n",
        "nyooo!!!!"
       ]
      },
      {
       "output_type": "stream",
       "stream": "stdout",
       "text": [
        "\n",
        "we're done with the mc loop 10.648659\n",
        "nyooo!!!!"
       ]
      },
      {
       "output_type": "stream",
       "stream": "stdout",
       "text": [
        "\n",
        "we're done with the mc loop 12.161597\n",
        "nyooo!!!!"
       ]
      },
      {
       "output_type": "stream",
       "stream": "stdout",
       "text": [
        "\n",
        "we're done with the mc loop 7.775218\n",
        "nyooo!!!!"
       ]
      },
      {
       "output_type": "stream",
       "stream": "stdout",
       "text": [
        "\n",
        "we're done with the mc loop 11.080918\n",
        "yes"
       ]
      },
      {
       "output_type": "stream",
       "stream": "stdout",
       "text": [
        "\n",
        "we're done with the mc loop 9.184417\n",
        "nyooo!!!!"
       ]
      },
      {
       "output_type": "stream",
       "stream": "stdout",
       "text": [
        "\n",
        "we're done with the mc loop 11.071192\n",
        "yes"
       ]
      },
      {
       "output_type": "stream",
       "stream": "stdout",
       "text": [
        "\n",
        "we're done with the mc loop 7.449494\n",
        "nyooo!!!!"
       ]
      },
      {
       "output_type": "stream",
       "stream": "stdout",
       "text": [
        "\n",
        "we're done with the mc loop 7.353254\n",
        "yes"
       ]
      },
      {
       "output_type": "stream",
       "stream": "stdout",
       "text": [
        "\n",
        "we're done with the mc loop 9.220900\n",
        "nyooo!!!!"
       ]
      },
      {
       "output_type": "stream",
       "stream": "stdout",
       "text": [
        "\n",
        "we're done with the mc loop 7.459197\n",
        "yes"
       ]
      },
      {
       "output_type": "stream",
       "stream": "stdout",
       "text": [
        "\n",
        "we're done with the mc loop 9.341183\n",
        "barely yes"
       ]
      },
      {
       "output_type": "stream",
       "stream": "stdout",
       "text": [
        "\n",
        "we're done with the mc loop 7.386409\n",
        "yes"
       ]
      },
      {
       "output_type": "stream",
       "stream": "stdout",
       "text": [
        "\n",
        "we're done with the mc loop 9.656144\n",
        "yes"
       ]
      },
      {
       "output_type": "stream",
       "stream": "stdout",
       "text": [
        "\n",
        "we're done with the mc loop 9.196634\n",
        "nyooo!!!!"
       ]
      },
      {
       "output_type": "stream",
       "stream": "stdout",
       "text": [
        "\n",
        "we're done with the mc loop 7.684359\n",
        "yes"
       ]
      },
      {
       "output_type": "stream",
       "stream": "stdout",
       "text": [
        "\n",
        "we're done with the mc loop 9.421514\n",
        "yes"
       ]
      },
      {
       "output_type": "stream",
       "stream": "stdout",
       "text": [
        "\n",
        "we're done with the mc loop 7.689561\n",
        "yes"
       ]
      },
      {
       "output_type": "stream",
       "stream": "stdout",
       "text": [
        "\n",
        "we're done with the mc loop 9.624647\n",
        "nyooo!!!!"
       ]
      },
      {
       "output_type": "stream",
       "stream": "stdout",
       "text": [
        "\n",
        "we're done with the mc loop 7.472902\n",
        "nyooo!!!!"
       ]
      },
      {
       "output_type": "stream",
       "stream": "stdout",
       "text": [
        "\n",
        "we're done with the mc loop 9.394064\n",
        "yes"
       ]
      },
      {
       "output_type": "stream",
       "stream": "stdout",
       "text": [
        "\n",
        "we're done with the mc loop 7.369000\n",
        "nyooo!!!!"
       ]
      },
      {
       "output_type": "stream",
       "stream": "stdout",
       "text": [
        "\n",
        "we're done with the mc loop 8.859245\n",
        "yes"
       ]
      },
      {
       "output_type": "stream",
       "stream": "stdout",
       "text": [
        "\n",
        "we're done with the mc loop 7.947871\n",
        "yes"
       ]
      },
      {
       "output_type": "stream",
       "stream": "stdout",
       "text": [
        "\n",
        "we're done with the mc loop 9.765699\n",
        "nyooo!!!!"
       ]
      },
      {
       "output_type": "stream",
       "stream": "stdout",
       "text": [
        "\n",
        "we're done with the mc loop 9.187807\n",
        "nyooo!!!!"
       ]
      },
      {
       "output_type": "stream",
       "stream": "stdout",
       "text": [
        "\n",
        "we're done with the mc loop 9.200764\n",
        "yes"
       ]
      },
      {
       "output_type": "stream",
       "stream": "stdout",
       "text": [
        "\n",
        "we're done with the mc loop 9.167419\n",
        "yes"
       ]
      },
      {
       "output_type": "stream",
       "stream": "stdout",
       "text": [
        "\n",
        "we're done with the mc loop 9.186326\n",
        "yes"
       ]
      },
      {
       "output_type": "stream",
       "stream": "stdout",
       "text": [
        "\n",
        "we're done with the mc loop 9.177409\n",
        "yes"
       ]
      },
      {
       "output_type": "stream",
       "stream": "stdout",
       "text": [
        "\n",
        "we're done with the mc loop 9.170692\n",
        "yes"
       ]
      },
      {
       "output_type": "stream",
       "stream": "stdout",
       "text": [
        "\n",
        "we're done with the mc loop 8.848028\n",
        "nyooo!!!!"
       ]
      },
      {
       "output_type": "stream",
       "stream": "stdout",
       "text": [
        "\n",
        "we're done with the mc loop 7.530456\n",
        "yes"
       ]
      },
      {
       "output_type": "stream",
       "stream": "stdout",
       "text": [
        "\n",
        "we're done with the mc loop 10.186868\n",
        "yes"
       ]
      },
      {
       "output_type": "stream",
       "stream": "stdout",
       "text": [
        "\n",
        "we're done with the mc loop 12.528013\n",
        "nyooo!!!!"
       ]
      },
      {
       "output_type": "stream",
       "stream": "stdout",
       "text": [
        "\n",
        "we're done with the mc loop 9.168216\n",
        "nyooo!!!!"
       ]
      },
      {
       "output_type": "stream",
       "stream": "stdout",
       "text": [
        "\n",
        "we're done with the mc loop 7.738398\n",
        "yes"
       ]
      },
      {
       "output_type": "stream",
       "stream": "stdout",
       "text": [
        "\n",
        "we're done with the mc loop 9.234354\n",
        "nyooo!!!!"
       ]
      },
      {
       "output_type": "stream",
       "stream": "stdout",
       "text": [
        "\n",
        "we're done with the mc loop 7.861731\n",
        "yes"
       ]
      },
      {
       "output_type": "stream",
       "stream": "stdout",
       "text": [
        "\n",
        "we're done with the mc loop 8.369739\n",
        "nyooo!!!!"
       ]
      },
      {
       "output_type": "stream",
       "stream": "stdout",
       "text": [
        "\n",
        "we're done with the mc loop 8.801754\n",
        "nyooo!!!!"
       ]
      },
      {
       "output_type": "stream",
       "stream": "stdout",
       "text": [
        "\n",
        "we're done with the mc loop 10.626592\n",
        "nyooo!!!!"
       ]
      },
      {
       "output_type": "stream",
       "stream": "stdout",
       "text": [
        "\n",
        "we're done with the mc loop 10.761628\n",
        "yes"
       ]
      },
      {
       "output_type": "stream",
       "stream": "stdout",
       "text": [
        "\n",
        "we're done with the mc loop 8.319583\n",
        "nyooo!!!!"
       ]
      },
      {
       "output_type": "stream",
       "stream": "stdout",
       "text": [
        "\n",
        "we're done with the mc loop 10.033154\n",
        "nyooo!!!!"
       ]
      },
      {
       "output_type": "stream",
       "stream": "stdout",
       "text": [
        "\n",
        "we're done with the mc loop 7.335375\n",
        "barely yes"
       ]
      },
      {
       "output_type": "stream",
       "stream": "stdout",
       "text": [
        "\n",
        "we're done with the mc loop 8.199920\n",
        "yes"
       ]
      },
      {
       "output_type": "stream",
       "stream": "stdout",
       "text": [
        "\n",
        "we're done with the mc loop 8.604885\n",
        "nyooo!!!!"
       ]
      },
      {
       "output_type": "stream",
       "stream": "stdout",
       "text": [
        "\n",
        "we're done with the mc loop 7.531129\n",
        "yes"
       ]
      },
      {
       "output_type": "stream",
       "stream": "stdout",
       "text": [
        "\n",
        "we're done with the mc loop 9.258130\n",
        "nyooo!!!!"
       ]
      },
      {
       "output_type": "stream",
       "stream": "stdout",
       "text": [
        "\n",
        "we're done with the mc loop 7.591487\n",
        "yes"
       ]
      },
      {
       "output_type": "stream",
       "stream": "stdout",
       "text": [
        "\n",
        "we're done with the mc loop 9.050874\n",
        "nyooo!!!!"
       ]
      },
      {
       "output_type": "stream",
       "stream": "stdout",
       "text": [
        "\n",
        "we're done with the mc loop 7.366491\n",
        "nyooo!!!!"
       ]
      },
      {
       "output_type": "stream",
       "stream": "stdout",
       "text": [
        "\n",
        "we're done with the mc loop 9.264955\n",
        "barely yes"
       ]
      },
      {
       "output_type": "stream",
       "stream": "stdout",
       "text": [
        "\n",
        "we're done with the mc loop 7.459320\n",
        "yes"
       ]
      },
      {
       "output_type": "stream",
       "stream": "stdout",
       "text": [
        "\n",
        "we're done with the mc loop 9.339955\n",
        "nyooo!!!!"
       ]
      },
      {
       "output_type": "stream",
       "stream": "stdout",
       "text": [
        "\n",
        "we're done with the mc loop 7.714405\n",
        "nyooo!!!!"
       ]
      },
      {
       "output_type": "stream",
       "stream": "stdout",
       "text": [
        "\n",
        "we're done with the mc loop 8.917579\n",
        "yes"
       ]
      },
      {
       "output_type": "stream",
       "stream": "stdout",
       "text": [
        "\n",
        "we're done with the mc loop 7.879047\n",
        "nyooo!!!!"
       ]
      },
      {
       "output_type": "stream",
       "stream": "stdout",
       "text": [
        "\n",
        "we're done with the mc loop 8.387956\n",
        "yes"
       ]
      },
      {
       "output_type": "stream",
       "stream": "stdout",
       "text": [
        "\n",
        "we're done with the mc loop 8.618564\n",
        "nyooo!!!!"
       ]
      },
      {
       "output_type": "stream",
       "stream": "stdout",
       "text": [
        "\n",
        "we're done with the mc loop 11.887489\n",
        "yes"
       ]
      },
      {
       "output_type": "stream",
       "stream": "stdout",
       "text": [
        "\n",
        "we're done with the mc loop 8.983575\n",
        "yes"
       ]
      },
      {
       "output_type": "stream",
       "stream": "stdout",
       "text": [
        "\n",
        "we're done with the mc loop 7.748765\n",
        "barely yes"
       ]
      },
      {
       "output_type": "stream",
       "stream": "stdout",
       "text": [
        "\n",
        "we're done with the mc loop 7.673670\n",
        "nyooo!!!!"
       ]
      },
      {
       "output_type": "stream",
       "stream": "stdout",
       "text": [
        "\n",
        "we're done with the mc loop 9.107069\n",
        "yes"
       ]
      },
      {
       "output_type": "stream",
       "stream": "stdout",
       "text": [
        "\n",
        "we're done with the mc loop 8.266173\n",
        "yes"
       ]
      },
      {
       "output_type": "stream",
       "stream": "stdout",
       "text": [
        "\n",
        "we're done with the mc loop 7.731077\n",
        "yes"
       ]
      },
      {
       "output_type": "stream",
       "stream": "stdout",
       "text": [
        "\n",
        "we're done with the mc loop 9.521298\n",
        "nyooo!!!!"
       ]
      },
      {
       "output_type": "stream",
       "stream": "stdout",
       "text": [
        "\n",
        "we're done with the mc loop 7.455954\n",
        "nyooo!!!!"
       ]
      },
      {
       "output_type": "stream",
       "stream": "stdout",
       "text": [
        "\n",
        "we're done with the mc loop 9.405110\n",
        "nyooo!!!!"
       ]
      },
      {
       "output_type": "stream",
       "stream": "stdout",
       "text": [
        "\n",
        "we're done with the mc loop 9.364684\n",
        "yes"
       ]
      },
      {
       "output_type": "stream",
       "stream": "stdout",
       "text": [
        "\n",
        "we're done with the mc loop 9.178986\n",
        "yes"
       ]
      },
      {
       "output_type": "stream",
       "stream": "stdout",
       "text": [
        "\n",
        "we're done with the mc loop 8.051242\n",
        "nyooo!!!!"
       ]
      },
      {
       "output_type": "stream",
       "stream": "stdout",
       "text": [
        "\n",
        "we're done with the mc loop 8.912798\n",
        "yes"
       ]
      },
      {
       "output_type": "stream",
       "stream": "stdout",
       "text": [
        "\n",
        "we're done with the mc loop 8.772662\n",
        "yes"
       ]
      },
      {
       "output_type": "stream",
       "stream": "stdout",
       "text": [
        "\n",
        "we're done with the mc loop 8.506570\n",
        "nyooo!!!!"
       ]
      },
      {
       "output_type": "stream",
       "stream": "stdout",
       "text": [
        "\n",
        "we're done with the mc loop 9.040689\n",
        "nyooo!!!!"
       ]
      },
      {
       "output_type": "stream",
       "stream": "stdout",
       "text": [
        "\n",
        "we're done with the mc loop 8.151223\n",
        "yes"
       ]
      },
      {
       "output_type": "stream",
       "stream": "stdout",
       "text": [
        "\n",
        "we're done with the mc loop 9.487073\n",
        "nyooo!!!!"
       ]
      },
      {
       "output_type": "stream",
       "stream": "stdout",
       "text": [
        "\n",
        "we're done with the mc loop 8.939839\n",
        "yes"
       ]
      },
      {
       "output_type": "stream",
       "stream": "stdout",
       "text": [
        "\n",
        "we're done with the mc loop 9.177479\n",
        "yes"
       ]
      },
      {
       "output_type": "stream",
       "stream": "stdout",
       "text": [
        "\n",
        "we're done with the mc loop 9.197159\n",
        "nyooo!!!!"
       ]
      },
      {
       "output_type": "stream",
       "stream": "stdout",
       "text": [
        "\n",
        "we're done with the mc loop 8.915867\n",
        "yes"
       ]
      },
      {
       "output_type": "stream",
       "stream": "stdout",
       "text": [
        "\n",
        "we're done with the mc loop 7.774190\n",
        "yes"
       ]
      },
      {
       "output_type": "stream",
       "stream": "stdout",
       "text": [
        "\n",
        "we're done with the mc loop 9.458442\n",
        "yes"
       ]
      },
      {
       "output_type": "stream",
       "stream": "stdout",
       "text": [
        "\n",
        "we're done with the mc loop 8.057108\n",
        "yes"
       ]
      },
      {
       "output_type": "stream",
       "stream": "stdout",
       "text": [
        "\n",
        "we're done with the mc loop 9.091751\n",
        "nyooo!!!!"
       ]
      },
      {
       "output_type": "stream",
       "stream": "stdout",
       "text": [
        "\n",
        "we're done with the mc loop 8.076541\n",
        "yes"
       ]
      },
      {
       "output_type": "stream",
       "stream": "stdout",
       "text": [
        "\n",
        "we're done with the mc loop 9.093990\n",
        "yes"
       ]
      },
      {
       "output_type": "stream",
       "stream": "stdout",
       "text": [
        "\n",
        "we're done with the mc loop 9.779587\n",
        "nyooo!!!!"
       ]
      },
      {
       "output_type": "stream",
       "stream": "stdout",
       "text": [
        "\n",
        "we're done with the mc loop 9.184663\n",
        "nyooo!!!!"
       ]
      },
      {
       "output_type": "stream",
       "stream": "stdout",
       "text": [
        "\n",
        "we're done with the mc loop 7.896284\n",
        "nyooo!!!!"
       ]
      },
      {
       "output_type": "stream",
       "stream": "stdout",
       "text": [
        "\n",
        "we're done with the mc loop 9.485365\n",
        "barely yes"
       ]
      },
      {
       "output_type": "stream",
       "stream": "stdout",
       "text": [
        "\n",
        "we're done with the mc loop 8.153595\n",
        "nyooo!!!!"
       ]
      },
      {
       "output_type": "stream",
       "stream": "stdout",
       "text": [
        "\n",
        "we're done with the mc loop 10.518084\n",
        "yes"
       ]
      },
      {
       "output_type": "stream",
       "stream": "stdout",
       "text": [
        "\n",
        "we're done with the mc loop 9.188153\n",
        "nyooo!!!!"
       ]
      },
      {
       "output_type": "stream",
       "stream": "stdout",
       "text": [
        "\n",
        "we're done with the mc loop 9.180492\n",
        "nyooo!!!!"
       ]
      },
      {
       "output_type": "stream",
       "stream": "stdout",
       "text": [
        "\n",
        "we're done with the mc loop 9.200363\n",
        "yes"
       ]
      },
      {
       "output_type": "stream",
       "stream": "stdout",
       "text": [
        "\n",
        "we're done with the mc loop 9.165585\n",
        "nyooo!!!!"
       ]
      },
      {
       "output_type": "stream",
       "stream": "stdout",
       "text": [
        "\n",
        "we're done with the mc loop 8.233936\n",
        "nyooo!!!!"
       ]
      },
      {
       "output_type": "stream",
       "stream": "stdout",
       "text": [
        "\n",
        "we're done with the mc loop 7.540272\n",
        "nyooo!!!!"
       ]
      },
      {
       "output_type": "stream",
       "stream": "stdout",
       "text": [
        "\n",
        "we're done with the mc loop 10.418556\n",
        "nyooo!!!!"
       ]
      },
      {
       "output_type": "stream",
       "stream": "stdout",
       "text": [
        "\n",
        "we're done with the mc loop 11.023566\n",
        "yes"
       ]
      },
      {
       "output_type": "stream",
       "stream": "stdout",
       "text": [
        "\n",
        "we're done with the mc loop 10.153633\n",
        "nyooo!!!!"
       ]
      },
      {
       "output_type": "stream",
       "stream": "stdout",
       "text": [
        "\n",
        "we're done with the mc loop 12.420887\n",
        "yes"
       ]
      },
      {
       "output_type": "stream",
       "stream": "stdout",
       "text": [
        "\n",
        "we're done with the mc loop 12.603575\n",
        "nyooo!!!!"
       ]
      },
      {
       "output_type": "stream",
       "stream": "stdout",
       "text": [
        "\n",
        "we're done with the mc loop 12.261470\n",
        "yes"
       ]
      },
      {
       "output_type": "stream",
       "stream": "stdout",
       "text": [
        "\n",
        "we're done with the mc loop 7.559948\n",
        "nyooo!!!!"
       ]
      },
      {
       "output_type": "stream",
       "stream": "stdout",
       "text": [
        "\n",
        "we're done with the mc loop 11.385680\n",
        "yes"
       ]
      },
      {
       "output_type": "stream",
       "stream": "stdout",
       "text": [
        "\n",
        "we're done with the mc loop 10.889381\n",
        "yes"
       ]
      },
      {
       "output_type": "stream",
       "stream": "stdout",
       "text": [
        "\n",
        "we're done with the mc loop 7.998810\n",
        "yes"
       ]
      },
      {
       "output_type": "stream",
       "stream": "stdout",
       "text": [
        "\n",
        "we're done with the mc loop 8.532232\n",
        "yes"
       ]
      },
      {
       "output_type": "stream",
       "stream": "stdout",
       "text": [
        "\n",
        "we're done with the mc loop 7.670046\n",
        "nyooo!!!!"
       ]
      },
      {
       "output_type": "stream",
       "stream": "stdout",
       "text": [
        "\n",
        "we're done with the mc loop 10.043714\n",
        "nyooo!!!!"
       ]
      },
      {
       "output_type": "stream",
       "stream": "stdout",
       "text": [
        "\n",
        "we're done with the mc loop 9.173749\n",
        "nyooo!!!!"
       ]
      },
      {
       "output_type": "stream",
       "stream": "stdout",
       "text": [
        "\n",
        "we're done with the mc loop 8.067366\n",
        "yes"
       ]
      },
      {
       "output_type": "stream",
       "stream": "stdout",
       "text": [
        "\n",
        "we're done with the mc loop 9.571499\n",
        "yes"
       ]
      },
      {
       "output_type": "stream",
       "stream": "stdout",
       "text": [
        "\n",
        "we're done with the mc loop 9.186144\n",
        "yes"
       ]
      },
      {
       "output_type": "stream",
       "stream": "stdout",
       "text": [
        "\n",
        "we're done with the mc loop 9.185849\n",
        "nyooo!!!!"
       ]
      },
      {
       "output_type": "stream",
       "stream": "stdout",
       "text": [
        "\n",
        "we're done with the mc loop 7.872665\n",
        "nyooo!!!!"
       ]
      },
      {
       "output_type": "stream",
       "stream": "stdout",
       "text": [
        "\n",
        "we're done with the mc loop 9.346274\n",
        "yes"
       ]
      },
      {
       "output_type": "stream",
       "stream": "stdout",
       "text": [
        "\n",
        "we're done with the mc loop 8.569644\n",
        "nyooo!!!!"
       ]
      },
      {
       "output_type": "stream",
       "stream": "stdout",
       "text": [
        "\n",
        "we're done with the mc loop 8.848603\n",
        "nyooo!!!!"
       ]
      },
      {
       "output_type": "stream",
       "stream": "stdout",
       "text": [
        "\n",
        "we're done with the mc loop 12.236142\n",
        "nyooo!!!!"
       ]
      },
      {
       "output_type": "stream",
       "stream": "stdout",
       "text": [
        "\n",
        "we're done with the mc loop 8.490676\n",
        "yes"
       ]
      },
      {
       "output_type": "stream",
       "stream": "stdout",
       "text": [
        "\n",
        "we're done with the mc loop 9.453385\n",
        "barely yes"
       ]
      },
      {
       "output_type": "stream",
       "stream": "stdout",
       "text": [
        "\n",
        "we're done with the mc loop 8.943484\n",
        "yes"
       ]
      },
      {
       "output_type": "stream",
       "stream": "stdout",
       "text": [
        "\n",
        "we're done with the mc loop 9.189148\n",
        "nyooo!!!!"
       ]
      },
      {
       "output_type": "stream",
       "stream": "stdout",
       "text": [
        "\n",
        "we're done with the mc loop 7.629286\n",
        "yes"
       ]
      },
      {
       "output_type": "stream",
       "stream": "stdout",
       "text": [
        "\n",
        "we're done with the mc loop 10.029851\n",
        "nyooo!!!!"
       ]
      },
      {
       "output_type": "stream",
       "stream": "stdout",
       "text": [
        "\n",
        "we're done with the mc loop 11.428596\n",
        "yes"
       ]
      },
      {
       "output_type": "stream",
       "stream": "stdout",
       "text": [
        "\n",
        "we're done with the mc loop 11.179586\n",
        "nyooo!!!!"
       ]
      },
      {
       "output_type": "stream",
       "stream": "stdout",
       "text": [
        "\n",
        "we're done with the mc loop 7.554408\n",
        "nyooo!!!!"
       ]
      },
      {
       "output_type": "stream",
       "stream": "stdout",
       "text": [
        "\n",
        "we're done with the mc loop 9.490472\n",
        "nyooo!!!!"
       ]
      },
      {
       "output_type": "stream",
       "stream": "stdout",
       "text": [
        "\n",
        "we're done with the mc loop 7.306924\n",
        "nyooo!!!!"
       ]
      },
      {
       "output_type": "stream",
       "stream": "stdout",
       "text": [
        "\n",
        "we're done with the mc loop 9.431342\n",
        "nyooo!!!!"
       ]
      },
      {
       "output_type": "stream",
       "stream": "stdout",
       "text": [
        "\n",
        "we're done with the mc loop 7.793568\n",
        "yes"
       ]
      },
      {
       "output_type": "stream",
       "stream": "stdout",
       "text": [
        "\n",
        "we're done with the mc loop 9.454136\n",
        "nyooo!!!!"
       ]
      },
      {
       "output_type": "stream",
       "stream": "stdout",
       "text": [
        "\n",
        "we're done with the mc loop 6.762244\n",
        "nyooo!!!!"
       ]
      },
      {
       "output_type": "stream",
       "stream": "stdout",
       "text": [
        "\n",
        "we're done with the mc loop 9.329629\n",
        "nyooo!!!!"
       ]
      },
      {
       "output_type": "stream",
       "stream": "stdout",
       "text": [
        "\n",
        "we're done with the mc loop 7.432494\n",
        "nyooo!!!!"
       ]
      },
      {
       "output_type": "stream",
       "stream": "stdout",
       "text": [
        "\n",
        "we're done with the mc loop 9.614368\n",
        "nyooo!!!!"
       ]
      },
      {
       "output_type": "stream",
       "stream": "stdout",
       "text": [
        "\n",
        "we're done with the mc loop 7.507361\n",
        "nyooo!!!!"
       ]
      },
      {
       "output_type": "stream",
       "stream": "stdout",
       "text": [
        "\n",
        "we're done with the mc loop 9.445640\n",
        "nyooo!!!!"
       ]
      },
      {
       "output_type": "stream",
       "stream": "stdout",
       "text": [
        "\n",
        "we're done with the mc loop 7.561117\n",
        "nyooo!!!!"
       ]
      },
      {
       "output_type": "stream",
       "stream": "stdout",
       "text": [
        "\n",
        "we're done with the mc loop 9.518038\n",
        "nyooo!!!!"
       ]
      },
      {
       "output_type": "stream",
       "stream": "stdout",
       "text": [
        "\n",
        "we're done with the mc loop 7.586896\n",
        "nyooo!!!!"
       ]
      },
      {
       "output_type": "stream",
       "stream": "stdout",
       "text": [
        "\n",
        "we're done with the mc loop 9.454285\n",
        "yes"
       ]
      },
      {
       "output_type": "stream",
       "stream": "stdout",
       "text": [
        "\n",
        "we're done with the mc loop 7.461754\n",
        "nyooo!!!!"
       ]
      },
      {
       "output_type": "stream",
       "stream": "stdout",
       "text": [
        "\n",
        "we're done with the mc loop 9.439256\n",
        "yes"
       ]
      },
      {
       "output_type": "stream",
       "stream": "stdout",
       "text": [
        "\n",
        "we're done with the mc loop 7.512987\n",
        "nyooo!!!!"
       ]
      },
      {
       "output_type": "stream",
       "stream": "stdout",
       "text": [
        "\n",
        "we're done with the mc loop 9.311501\n",
        "nyooo!!!!"
       ]
      },
      {
       "output_type": "stream",
       "stream": "stdout",
       "text": [
        "\n",
        "we're done with the mc loop 7.547344\n",
        "nyooo!!!!"
       ]
      },
      {
       "output_type": "stream",
       "stream": "stdout",
       "text": [
        "\n",
        "we're done with the mc loop 9.419927\n",
        "yes"
       ]
      },
      {
       "output_type": "stream",
       "stream": "stdout",
       "text": [
        "\n",
        "we're done with the mc loop 7.877984\n",
        "nyooo!!!!"
       ]
      },
      {
       "output_type": "stream",
       "stream": "stdout",
       "text": [
        "\n",
        "we're done with the mc loop 10.518600\n",
        "yes"
       ]
      },
      {
       "output_type": "stream",
       "stream": "stdout",
       "text": [
        "\n",
        "we're done with the mc loop 9.174104\n",
        "yes"
       ]
      },
      {
       "output_type": "stream",
       "stream": "stdout",
       "text": [
        "\n",
        "we're done with the mc loop 9.189314\n",
        "nyooo!!!!"
       ]
      },
      {
       "output_type": "stream",
       "stream": "stdout",
       "text": [
        "\n",
        "we're done with the mc loop 9.161909\n",
        "yes"
       ]
      },
      {
       "output_type": "stream",
       "stream": "stdout",
       "text": [
        "\n",
        "we're done with the mc loop 9.205145\n",
        "nyooo!!!!"
       ]
      },
      {
       "output_type": "stream",
       "stream": "stdout",
       "text": [
        "\n",
        "we're done with the mc loop 7.920646\n",
        "nyooo!!!!"
       ]
      },
      {
       "output_type": "stream",
       "stream": "stdout",
       "text": [
        "\n",
        "we're done with the mc loop 8.731387\n",
        "yes"
       ]
      },
      {
       "output_type": "stream",
       "stream": "stdout",
       "text": [
        "\n",
        "we're done with the mc loop 9.179108\n",
        "barely yes"
       ]
      },
      {
       "output_type": "stream",
       "stream": "stdout",
       "text": [
        "\n",
        "we're done with the mc loop 9.198572\n",
        "yes"
       ]
      },
      {
       "output_type": "stream",
       "stream": "stdout",
       "text": [
        "\n",
        "we're done with the mc loop 9.173283\n",
        "nyooo!!!!"
       ]
      },
      {
       "output_type": "stream",
       "stream": "stdout",
       "text": [
        "\n",
        "we're done with the mc loop 9.205908\n",
        "yes"
       ]
      },
      {
       "output_type": "stream",
       "stream": "stdout",
       "text": [
        "\n",
        "we're done with the mc loop 7.599698\n",
        "nyooo!!!!"
       ]
      },
      {
       "output_type": "stream",
       "stream": "stdout",
       "text": [
        "\n",
        "we're done with the mc loop 8.481808\n",
        "nyooo!!!!"
       ]
      },
      {
       "output_type": "stream",
       "stream": "stdout",
       "text": [
        "\n",
        "we're done with the mc loop 7.278273\n",
        "nyooo!!!!"
       ]
      },
      {
       "output_type": "stream",
       "stream": "stdout",
       "text": [
        "\n",
        "we're done with the mc loop 6.924770\n",
        "nyooo!!!!"
       ]
      },
      {
       "output_type": "stream",
       "stream": "stdout",
       "text": [
        "\n",
        "we're done with the mc loop 7.177978\n",
        "nyooo!!!!"
       ]
      },
      {
       "output_type": "stream",
       "stream": "stdout",
       "text": [
        "\n",
        "we're done with the mc loop 8.633882\n",
        "yes"
       ]
      },
      {
       "output_type": "stream",
       "stream": "stdout",
       "text": [
        "\n",
        "we're done with the mc loop 6.964008\n",
        "nyooo!!!!"
       ]
      },
      {
       "output_type": "stream",
       "stream": "stdout",
       "text": [
        "\n",
        "we're done with the mc loop 6.971472\n",
        "nyooo!!!!"
       ]
      },
      {
       "output_type": "stream",
       "stream": "stdout",
       "text": [
        "\n",
        "we're done with the mc loop 8.207177\n",
        "nyooo!!!!"
       ]
      },
      {
       "output_type": "stream",
       "stream": "stdout",
       "text": [
        "\n",
        "we're done with the mc loop 7.547478\n",
        "nyooo!!!!"
       ]
      },
      {
       "output_type": "stream",
       "stream": "stdout",
       "text": [
        "\n",
        "we're done with the mc loop 6.962514\n",
        "nyooo!!!!"
       ]
      },
      {
       "output_type": "stream",
       "stream": "stdout",
       "text": [
        "\n",
        "we're done with the mc loop 7.135434\n",
        "nyooo!!!!"
       ]
      },
      {
       "output_type": "stream",
       "stream": "stdout",
       "text": [
        "\n",
        "we're done with the mc loop 8.948293\n",
        "nyooo!!!!"
       ]
      },
      {
       "output_type": "stream",
       "stream": "stdout",
       "text": [
        "\n",
        "we're done with the mc loop 7.307958\n",
        "yes"
       ]
      },
      {
       "output_type": "stream",
       "stream": "stdout",
       "text": [
        "\n",
        "we're done with the mc loop 7.341421\n",
        "nyooo!!!!"
       ]
      },
      {
       "output_type": "stream",
       "stream": "stdout",
       "text": [
        "\n",
        "we're done with the mc loop 7.033928\n",
        "nyooo!!!!"
       ]
      },
      {
       "output_type": "stream",
       "stream": "stdout",
       "text": [
        "\n",
        "we're done with the mc loop 7.464263\n",
        "yes"
       ]
      },
      {
       "output_type": "stream",
       "stream": "stdout",
       "text": [
        "\n",
        "we're done with the mc loop 8.366677\n",
        "nyooo!!!!"
       ]
      },
      {
       "output_type": "stream",
       "stream": "stdout",
       "text": [
        "\n",
        "we're done with the mc loop 6.962205\n",
        "yes"
       ]
      },
      {
       "output_type": "stream",
       "stream": "stdout",
       "text": [
        "\n",
        "we're done with the mc loop 7.055415\n",
        "nyooo!!!!"
       ]
      },
      {
       "output_type": "stream",
       "stream": "stdout",
       "text": [
        "\n",
        "we're done with the mc loop 8.098453\n",
        "yes"
       ]
      },
      {
       "output_type": "stream",
       "stream": "stdout",
       "text": [
        "\n",
        "we're done with the mc loop 7.650346\n",
        "yes"
       ]
      },
      {
       "output_type": "stream",
       "stream": "stdout",
       "text": [
        "\n",
        "we're done with the mc loop 6.986583\n",
        "nyooo!!!!"
       ]
      },
      {
       "output_type": "stream",
       "stream": "stdout",
       "text": [
        "\n",
        "we're done with the mc loop 7.480253\n",
        "nyooo!!!!"
       ]
      },
      {
       "output_type": "stream",
       "stream": "stdout",
       "text": [
        "\n",
        "we're done with the mc loop 10.419756\n",
        "yes"
       ]
      },
      {
       "output_type": "stream",
       "stream": "stdout",
       "text": [
        "\n",
        "we're done with the mc loop 8.063429\n",
        "yes"
       ]
      },
      {
       "output_type": "stream",
       "stream": "stdout",
       "text": [
        "\n",
        "we're done with the mc loop 7.082077\n",
        "yes"
       ]
      },
      {
       "output_type": "stream",
       "stream": "stdout",
       "text": [
        "\n",
        "we're done with the mc loop 7.046895\n",
        "nyooo!!!!"
       ]
      },
      {
       "output_type": "stream",
       "stream": "stdout",
       "text": [
        "\n",
        "we're done with the mc loop 7.433230\n",
        "barely yes"
       ]
      },
      {
       "output_type": "stream",
       "stream": "stdout",
       "text": [
        "\n",
        "we're done with the mc loop 8.342419\n",
        "nyooo!!!!"
       ]
      },
      {
       "output_type": "stream",
       "stream": "stdout",
       "text": [
        "\n",
        "we're done with the mc loop 9.179273\n",
        "nyooo!!!!"
       ]
      },
      {
       "output_type": "stream",
       "stream": "stdout",
       "text": [
        "\n",
        "we're done with the mc loop 9.177708\n",
        "nyooo!!!!"
       ]
      },
      {
       "output_type": "stream",
       "stream": "stdout",
       "text": [
        "\n",
        "we're done with the mc loop 9.186736\n",
        "nyooo!!!!"
       ]
      },
      {
       "output_type": "stream",
       "stream": "stdout",
       "text": [
        "\n",
        "we're done with the mc loop 9.185234\n",
        "nyooo!!!!"
       ]
      },
      {
       "output_type": "stream",
       "stream": "stdout",
       "text": [
        "\n",
        "we're done with the mc loop 8.036516\n",
        "yes"
       ]
      },
      {
       "output_type": "stream",
       "stream": "stdout",
       "text": [
        "\n",
        "we're done with the mc loop 6.865127\n",
        "yes"
       ]
      },
      {
       "output_type": "stream",
       "stream": "stdout",
       "text": [
        "\n",
        "we're done with the mc loop 8.187314\n",
        "yes"
       ]
      },
      {
       "output_type": "stream",
       "stream": "stdout",
       "text": [
        "\n",
        "we're done with the mc loop 7.524629\n",
        "yes"
       ]
      },
      {
       "output_type": "stream",
       "stream": "stdout",
       "text": [
        "\n",
        "we're done with the mc loop 6.954516\n",
        "nyooo!!!!"
       ]
      },
      {
       "output_type": "stream",
       "stream": "stdout",
       "text": [
        "\n",
        "we're done with the mc loop 7.007747\n",
        "nyooo!!!!"
       ]
      },
      {
       "output_type": "stream",
       "stream": "stdout",
       "text": [
        "\n",
        "we're done with the mc loop 8.964068\n",
        "yes"
       ]
      },
      {
       "output_type": "stream",
       "stream": "stdout",
       "text": [
        "\n",
        "we're done with the mc loop 7.984748\n",
        "nyooo!!!!"
       ]
      },
      {
       "output_type": "stream",
       "stream": "stdout",
       "text": [
        "\n",
        "we're done with the mc loop 9.181013\n",
        "yes"
       ]
      },
      {
       "output_type": "stream",
       "stream": "stdout",
       "text": [
        "\n",
        "we're done with the mc loop 9.169186\n",
        "nyooo!!!!"
       ]
      },
      {
       "output_type": "stream",
       "stream": "stdout",
       "text": [
        "\n",
        "we're done with the mc loop 9.190268\n",
        "nyooo!!!!"
       ]
      },
      {
       "output_type": "stream",
       "stream": "stdout",
       "text": [
        "\n",
        "we're done with the mc loop 7.715326\n",
        "nyooo!!!!"
       ]
      },
      {
       "output_type": "stream",
       "stream": "stdout",
       "text": [
        "\n",
        "we're done with the mc loop 9.503177\n",
        "yes"
       ]
      },
      {
       "output_type": "stream",
       "stream": "stdout",
       "text": [
        "\n",
        "we're done with the mc loop 10.903997\n",
        "nyooo!!!!"
       ]
      },
      {
       "output_type": "stream",
       "stream": "stdout",
       "text": [
        "\n",
        "we're done with the mc loop 10.830596\n",
        "yes"
       ]
      },
      {
       "output_type": "stream",
       "stream": "stdout",
       "text": [
        "\n",
        "we're done with the mc loop 9.179005\n",
        "yes"
       ]
      },
      {
       "output_type": "stream",
       "stream": "stdout",
       "text": [
        "\n",
        "we're done with the mc loop 10.767021\n",
        "nyooo!!!!"
       ]
      },
      {
       "output_type": "stream",
       "stream": "stdout",
       "text": [
        "\n",
        "we're done with the mc loop 10.151451\n",
        "yes"
       ]
      },
      {
       "output_type": "stream",
       "stream": "stdout",
       "text": [
        "\n",
        "we're done with the mc loop 9.111253\n",
        "nyooo!!!!"
       ]
      },
      {
       "output_type": "stream",
       "stream": "stdout",
       "text": [
        "\n",
        "we're done with the mc loop 7.813580\n",
        "nyooo!!!!"
       ]
      },
      {
       "output_type": "stream",
       "stream": "stdout",
       "text": [
        "\n",
        "we're done with the mc loop 6.838114\n",
        "nyooo!!!!"
       ]
      },
      {
       "output_type": "stream",
       "stream": "stdout",
       "text": [
        "\n",
        "we're done with the mc loop 6.950891\n",
        "yes"
       ]
      },
      {
       "output_type": "stream",
       "stream": "stdout",
       "text": [
        "\n",
        "we're done with the mc loop 7.003113\n",
        "nyooo!!!!"
       ]
      },
      {
       "output_type": "stream",
       "stream": "stdout",
       "text": [
        "\n",
        "we're done with the mc loop 8.624584\n",
        "nyooo!!!!"
       ]
      },
      {
       "output_type": "stream",
       "stream": "stdout",
       "text": [
        "\n",
        "we're done with the mc loop 8.057744\n",
        "yes"
       ]
      },
      {
       "output_type": "stream",
       "stream": "stdout",
       "text": [
        "\n",
        "we're done with the mc loop 9.199866\n",
        "yes"
       ]
      },
      {
       "output_type": "stream",
       "stream": "stdout",
       "text": [
        "\n",
        "we're done with the mc loop 9.199507\n",
        "yes"
       ]
      },
      {
       "output_type": "stream",
       "stream": "stdout",
       "text": [
        "\n",
        "we're done with the mc loop 9.176459\n",
        "yes"
       ]
      },
      {
       "output_type": "stream",
       "stream": "stdout",
       "text": [
        "\n",
        "we're done with the mc loop 9.190178\n",
        "yes"
       ]
      },
      {
       "output_type": "stream",
       "stream": "stdout",
       "text": [
        "\n",
        "we're done with the mc loop 9.196585\n",
        "yes"
       ]
      },
      {
       "output_type": "stream",
       "stream": "stdout",
       "text": [
        "\n",
        "we're done with the mc loop 9.159782\n",
        "nyooo!!!!"
       ]
      },
      {
       "output_type": "stream",
       "stream": "stdout",
       "text": [
        "\n",
        "we're done with the mc loop 9.184987\n",
        "nyooo!!!!"
       ]
      },
      {
       "output_type": "stream",
       "stream": "stdout",
       "text": [
        "\n",
        "we're done with the mc loop 9.183534\n",
        "barely yes"
       ]
      },
      {
       "output_type": "stream",
       "stream": "stdout",
       "text": [
        "\n",
        "we're done with the mc loop 7.633529\n",
        "nyooo!!!!"
       ]
      },
      {
       "output_type": "stream",
       "stream": "stdout",
       "text": [
        "\n",
        "we're done with the mc loop 7.042255\n",
        "nyooo!!!!"
       ]
      },
      {
       "output_type": "stream",
       "stream": "stdout",
       "text": [
        "\n",
        "we're done with the mc loop 8.995261\n",
        "yes"
       ]
      },
      {
       "output_type": "stream",
       "stream": "stdout",
       "text": [
        "\n",
        "we're done with the mc loop 6.895009\n",
        "nyooo!!!!"
       ]
      },
      {
       "output_type": "stream",
       "stream": "stdout",
       "text": [
        "\n",
        "we're done with the mc loop 7.074284\n",
        "nyooo!!!!"
       ]
      },
      {
       "output_type": "stream",
       "stream": "stdout",
       "text": [
        "\n",
        "we're done with the mc loop 7.390571\n",
        "nyooo!!!!"
       ]
      },
      {
       "output_type": "stream",
       "stream": "stdout",
       "text": [
        "\n",
        "we're done with the mc loop 8.395421\n",
        "nyooo!!!!"
       ]
      },
      {
       "output_type": "stream",
       "stream": "stdout",
       "text": [
        "\n",
        "we're done with the mc loop 6.888451\n",
        "nyooo!!!!"
       ]
      },
      {
       "output_type": "stream",
       "stream": "stdout",
       "text": [
        "\n",
        "we're done with the mc loop 6.973766\n",
        "nyooo!!!!"
       ]
      },
      {
       "output_type": "stream",
       "stream": "stdout",
       "text": [
        "\n",
        "we're done with the mc loop 6.986603\n",
        "nyooo!!!!"
       ]
      },
      {
       "output_type": "stream",
       "stream": "stdout",
       "text": [
        "\n",
        "we're done with the mc loop 8.581813\n",
        "nyooo!!!!"
       ]
      },
      {
       "output_type": "stream",
       "stream": "stdout",
       "text": [
        "\n",
        "we're done with the mc loop 7.177971\n",
        "nyooo!!!!"
       ]
      },
      {
       "output_type": "stream",
       "stream": "stdout",
       "text": [
        "\n",
        "we're done with the mc loop 6.811966\n",
        "nyooo!!!!"
       ]
      },
      {
       "output_type": "stream",
       "stream": "stdout",
       "text": [
        "\n",
        "we're done with the mc loop 7.819254\n",
        "yes"
       ]
      },
      {
       "output_type": "stream",
       "stream": "stdout",
       "text": [
        "\n",
        "we're done with the mc loop 8.044980\n",
        "barely yes"
       ]
      },
      {
       "output_type": "stream",
       "stream": "stdout",
       "text": [
        "\n",
        "we're done with the mc loop 6.942923\n",
        "yes"
       ]
      },
      {
       "output_type": "stream",
       "stream": "stdout",
       "text": [
        "\n",
        "we're done with the mc loop 7.010813\n",
        "nyooo!!!!"
       ]
      },
      {
       "output_type": "stream",
       "stream": "stdout",
       "text": [
        "\n",
        "we're done with the mc loop 8.859856\n",
        "nyooo!!!!"
       ]
      },
      {
       "output_type": "stream",
       "stream": "stdout",
       "text": [
        "\n",
        "we're done with the mc loop 7.192317\n",
        "nyooo!!!!"
       ]
      },
      {
       "output_type": "stream",
       "stream": "stdout",
       "text": [
        "\n",
        "we're done with the mc loop 10.012644\n",
        "yes"
       ]
      },
      {
       "output_type": "stream",
       "stream": "stdout",
       "text": [
        "\n",
        "we're done with the mc loop 9.178211\n",
        "barely yes"
       ]
      },
      {
       "output_type": "stream",
       "stream": "stdout",
       "text": [
        "\n",
        "we're done with the mc loop 9.177848\n",
        "nyooo!!!!"
       ]
      },
      {
       "output_type": "stream",
       "stream": "stdout",
       "text": [
        "\n",
        "we're done with the mc loop 9.175991\n",
        "barely yes"
       ]
      },
      {
       "output_type": "stream",
       "stream": "stdout",
       "text": [
        "\n",
        "we're done with the mc loop 9.181321\n",
        "yes"
       ]
      },
      {
       "output_type": "stream",
       "stream": "stdout",
       "text": [
        "\n",
        "we're done with the mc loop 9.167000\n",
        "nyooo!!!!"
       ]
      },
      {
       "output_type": "stream",
       "stream": "stdout",
       "text": [
        "\n",
        "we're done with the mc loop 9.177093\n",
        "yes"
       ]
      },
      {
       "output_type": "stream",
       "stream": "stdout",
       "text": [
        "\n",
        "we're done with the mc loop 9.199166\n",
        "nyooo!!!!"
       ]
      },
      {
       "output_type": "stream",
       "stream": "stdout",
       "text": [
        "\n",
        "we're done with the mc loop 9.158255\n",
        "nyooo!!!!"
       ]
      },
      {
       "output_type": "stream",
       "stream": "stdout",
       "text": [
        "\n",
        "we're done with the mc loop 7.564601\n",
        "barely yes"
       ]
      },
      {
       "output_type": "stream",
       "stream": "stdout",
       "text": [
        "\n",
        "we're done with the mc loop 7.011042\n",
        "nyooo!!!!"
       ]
      },
      {
       "output_type": "stream",
       "stream": "stdout",
       "text": [
        "\n",
        "we're done with the mc loop 7.109995\n",
        "nyooo!!!!"
       ]
      },
      {
       "output_type": "stream",
       "stream": "stdout",
       "text": [
        "\n",
        "we're done with the mc loop 8.353875\n",
        "yes"
       ]
      },
      {
       "output_type": "stream",
       "stream": "stdout",
       "text": [
        "\n",
        "we're done with the mc loop 7.392290\n",
        "nyooo!!!!"
       ]
      },
      {
       "output_type": "stream",
       "stream": "stdout",
       "text": [
        "\n",
        "we're done with the mc loop 7.086734\n",
        "nyooo!!!!"
       ]
      },
      {
       "output_type": "stream",
       "stream": "stdout",
       "text": [
        "\n",
        "we're done with the mc loop 7.358598\n",
        "nyooo!!!!"
       ]
      },
      {
       "output_type": "stream",
       "stream": "stdout",
       "text": [
        "\n",
        "we're done with the mc loop 8.381668\n",
        "nyooo!!!!"
       ]
      },
      {
       "output_type": "stream",
       "stream": "stdout",
       "text": [
        "\n",
        "we're done with the mc loop 6.988252\n",
        "nyooo!!!!"
       ]
      },
      {
       "output_type": "stream",
       "stream": "stdout",
       "text": [
        "\n",
        "we're done with the mc loop 9.792729\n",
        "yes"
       ]
      },
      {
       "output_type": "stream",
       "stream": "stdout",
       "text": [
        "\n",
        "we're done with the mc loop 7.900880\n",
        "yes"
       ]
      },
      {
       "output_type": "stream",
       "stream": "stdout",
       "text": [
        "\n",
        "we're done with the mc loop 7.741895\n",
        "nyooo!!!!"
       ]
      },
      {
       "output_type": "stream",
       "stream": "stdout",
       "text": [
        "\n",
        "we're done with the mc loop 7.963684\n",
        "nyooo!!!!"
       ]
      },
      {
       "output_type": "stream",
       "stream": "stdout",
       "text": [
        "\n",
        "we're done with the mc loop 6.919306\n",
        "nyooo!!!!"
       ]
      },
      {
       "output_type": "stream",
       "stream": "stdout",
       "text": [
        "\n",
        "we're done with the mc loop 6.924465\n",
        "nyooo!!!!"
       ]
      },
      {
       "output_type": "stream",
       "stream": "stdout",
       "text": [
        "\n",
        "we're done with the mc loop 8.128411\n",
        "barely yes"
       ]
      },
      {
       "output_type": "stream",
       "stream": "stdout",
       "text": [
        "\n",
        "we're done with the mc loop 11.338661\n",
        "nyooo!!!!"
       ]
      },
      {
       "output_type": "stream",
       "stream": "stdout",
       "text": [
        "\n",
        "we're done with the mc loop 11.911017\n",
        "nyooo!!!!"
       ]
      },
      {
       "output_type": "stream",
       "stream": "stdout",
       "text": [
        "\n",
        "we're done with the mc loop 6.941759\n",
        "nyooo!!!!"
       ]
      },
      {
       "output_type": "stream",
       "stream": "stdout",
       "text": [
        "\n",
        "we're done with the mc loop 6.818066\n",
        "yes"
       ]
      },
      {
       "output_type": "stream",
       "stream": "stdout",
       "text": [
        "\n",
        "we're done with the mc loop 11.353260\n",
        "barely yes"
       ]
      },
      {
       "output_type": "stream",
       "stream": "stdout",
       "text": [
        "\n",
        "we're done with the mc loop 9.169083\n",
        "yes"
       ]
      },
      {
       "output_type": "stream",
       "stream": "stdout",
       "text": [
        "\n",
        "we're done with the mc loop 8.456904\n",
        "nyooo!!!!"
       ]
      },
      {
       "output_type": "stream",
       "stream": "stdout",
       "text": [
        "\n",
        "we're done with the mc loop 6.783056\n",
        "nyooo!!!!"
       ]
      },
      {
       "output_type": "stream",
       "stream": "stdout",
       "text": [
        "\n",
        "we're done with the mc loop 7.942759\n",
        "yes"
       ]
      },
      {
       "output_type": "stream",
       "stream": "stdout",
       "text": [
        "\n",
        "we're done with the mc loop 7.649149\n",
        "yes"
       ]
      },
      {
       "output_type": "stream",
       "stream": "stdout",
       "text": [
        "\n",
        "we're done with the mc loop 6.934250\n",
        "yes"
       ]
      },
      {
       "output_type": "stream",
       "stream": "stdout",
       "text": [
        "\n",
        "we're done with the mc loop 6.957454\n",
        "nyooo!!!!"
       ]
      },
      {
       "output_type": "stream",
       "stream": "stdout",
       "text": [
        "\n",
        "we're done with the mc loop 7.332900\n",
        "yes"
       ]
      },
      {
       "output_type": "stream",
       "stream": "stdout",
       "text": [
        "\n",
        "we're done with the mc loop 8.266061\n",
        "yes"
       ]
      },
      {
       "output_type": "stream",
       "stream": "stdout",
       "text": [
        "\n",
        "we're done with the mc loop 6.996430\n",
        "nyooo!!!!"
       ]
      },
      {
       "output_type": "stream",
       "stream": "stdout",
       "text": [
        "\n",
        "we're done with the mc loop 6.913731\n",
        "barely yes"
       ]
      },
      {
       "output_type": "stream",
       "stream": "stdout",
       "text": [
        "\n",
        "we're done with the mc loop 7.984568\n",
        "barely yes"
       ]
      },
      {
       "output_type": "stream",
       "stream": "stdout",
       "text": [
        "\n",
        "we're done with the mc loop 7.706566\n",
        "nyooo!!!!"
       ]
      },
      {
       "output_type": "stream",
       "stream": "stdout",
       "text": [
        "\n",
        "we're done with the mc loop 7.010139\n",
        "nyooo!!!!"
       ]
      },
      {
       "output_type": "stream",
       "stream": "stdout",
       "text": [
        "\n",
        "we're done with the mc loop 7.143850\n",
        "nyooo!!!!"
       ]
      },
      {
       "output_type": "stream",
       "stream": "stdout",
       "text": [
        "\n",
        "we're done with the mc loop 8.635764\n",
        "yes"
       ]
      },
      {
       "output_type": "stream",
       "stream": "stdout",
       "text": [
        "\n",
        "we're done with the mc loop 6.911508\n",
        "nyooo!!!!"
       ]
      },
      {
       "output_type": "stream",
       "stream": "stdout",
       "text": [
        "\n",
        "we're done with the mc loop 6.928599\n",
        "yes"
       ]
      },
      {
       "output_type": "stream",
       "stream": "stdout",
       "text": [
        "\n",
        "we're done with the mc loop 8.384815\n",
        "nyooo!!!!"
       ]
      },
      {
       "output_type": "stream",
       "stream": "stdout",
       "text": [
        "\n",
        "we're done with the mc loop 7.485034\n",
        "nyooo!!!!"
       ]
      },
      {
       "output_type": "stream",
       "stream": "stdout",
       "text": [
        "\n",
        "we're done with the mc loop 6.951891\n",
        "yes"
       ]
      },
      {
       "output_type": "stream",
       "stream": "stdout",
       "text": [
        "\n",
        "we're done with the mc loop 7.364075\n",
        "yes"
       ]
      },
      {
       "output_type": "stream",
       "stream": "stdout",
       "text": [
        "\n",
        "we're done with the mc loop 8.180496\n",
        "yes"
       ]
      },
      {
       "output_type": "stream",
       "stream": "stdout",
       "text": [
        "\n",
        "we're done with the mc loop 7.019797\n",
        "nyooo!!!!"
       ]
      },
      {
       "output_type": "stream",
       "stream": "stdout",
       "text": [
        "\n",
        "we're done with the mc loop 6.986425\n",
        "nyooo!!!!"
       ]
      },
      {
       "output_type": "stream",
       "stream": "stdout",
       "text": [
        "\n",
        "we're done with the mc loop 8.458565\n",
        "nyooo!!!!"
       ]
      },
      {
       "output_type": "stream",
       "stream": "stdout",
       "text": [
        "\n",
        "we're done with the mc loop 7.380502\n",
        "nyooo!!!!"
       ]
      },
      {
       "output_type": "stream",
       "stream": "stdout",
       "text": [
        "\n",
        "we're done with the mc loop 6.966904\n",
        "nyooo!!!!"
       ]
      },
      {
       "output_type": "stream",
       "stream": "stdout",
       "text": [
        "\n",
        "we're done with the mc loop 7.082587\n",
        "nyooo!!!!"
       ]
      },
      {
       "output_type": "stream",
       "stream": "stdout",
       "text": [
        "\n",
        "we're done with the mc loop 8.492293\n",
        "yes"
       ]
      },
      {
       "output_type": "stream",
       "stream": "stdout",
       "text": [
        "\n",
        "we're done with the mc loop 7.265139\n",
        "yes"
       ]
      },
      {
       "output_type": "stream",
       "stream": "stdout",
       "text": [
        "\n",
        "we're done with the mc loop 7.048463\n",
        "yes"
       ]
      },
      {
       "output_type": "stream",
       "stream": "stdout",
       "text": [
        "\n",
        "we're done with the mc loop 8.639207\n",
        "nyooo!!!!"
       ]
      },
      {
       "output_type": "stream",
       "stream": "stdout",
       "text": [
        "\n",
        "we're done with the mc loop 6.998477\n",
        "nyooo!!!!"
       ]
      },
      {
       "output_type": "stream",
       "stream": "stdout",
       "text": [
        "\n",
        "we're done with the mc loop 7.017765\n",
        "yes"
       ]
      },
      {
       "output_type": "stream",
       "stream": "stdout",
       "text": [
        "\n",
        "we're done with the mc loop 7.395889\n",
        "yes"
       ]
      },
      {
       "output_type": "stream",
       "stream": "stdout",
       "text": [
        "\n",
        "we're done with the mc loop 8.142167\n",
        "yes"
       ]
      },
      {
       "output_type": "stream",
       "stream": "stdout",
       "text": [
        "\n",
        "we're done with the mc loop 6.965463\n",
        "nyooo!!!!"
       ]
      },
      {
       "output_type": "stream",
       "stream": "stdout",
       "text": [
        "\n",
        "we're done with the mc loop 7.041619\n",
        "nyooo!!!!"
       ]
      },
      {
       "output_type": "stream",
       "stream": "stdout",
       "text": [
        "\n",
        "we're done with the mc loop 8.574366\n",
        "yes"
       ]
      },
      {
       "output_type": "stream",
       "stream": "stdout",
       "text": [
        "\n",
        "we're done with the mc loop 7.124361\n",
        "nyooo!!!!"
       ]
      },
      {
       "output_type": "stream",
       "stream": "stdout",
       "text": [
        "\n",
        "we're done with the mc loop 7.062329\n",
        "yes"
       ]
      },
      {
       "output_type": "stream",
       "stream": "stdout",
       "text": [
        "\n",
        "we're done with the mc loop 8.639308\n",
        "nyooo!!!!"
       ]
      },
      {
       "output_type": "stream",
       "stream": "stdout",
       "text": [
        "\n",
        "we're done with the mc loop 7.519648\n",
        "nyooo!!!!"
       ]
      },
      {
       "output_type": "stream",
       "stream": "stdout",
       "text": [
        "\n",
        "we're done with the mc loop 6.973833\n",
        "nyooo!!!!"
       ]
      },
      {
       "output_type": "stream",
       "stream": "stdout",
       "text": [
        "\n",
        "we're done with the mc loop 11.855110\n",
        "yes"
       ]
      },
      {
       "output_type": "stream",
       "stream": "stdout",
       "text": [
        "\n",
        "we're done with the mc loop 11.592904\n",
        "nyooo!!!!"
       ]
      },
      {
       "output_type": "stream",
       "stream": "stdout",
       "text": [
        "\n",
        "we're done with the mc loop 11.642280\n",
        "nyooo!!!!"
       ]
      },
      {
       "output_type": "stream",
       "stream": "stdout",
       "text": [
        "\n",
        "we're done with the mc loop 9.160442\n",
        "nyooo!!!!"
       ]
      },
      {
       "output_type": "stream",
       "stream": "stdout",
       "text": [
        "\n",
        "we're done with the mc loop 10.761810\n",
        "barely yes"
       ]
      },
      {
       "output_type": "stream",
       "stream": "stdout",
       "text": [
        "\n",
        "we're done with the mc loop 7.449707\n",
        "nyooo!!!!"
       ]
      },
      {
       "output_type": "stream",
       "stream": "stdout",
       "text": [
        "\n",
        "we're done with the mc loop 8.035775\n",
        "nyooo!!!!"
       ]
      },
      {
       "output_type": "stream",
       "stream": "stdout",
       "text": [
        "\n",
        "we're done with the mc loop 7.422067\n",
        "yes"
       ]
      },
      {
       "output_type": "stream",
       "stream": "stdout",
       "text": [
        "\n",
        "we're done with the mc loop 8.082995\n",
        "yes"
       ]
      },
      {
       "output_type": "stream",
       "stream": "stdout",
       "text": [
        "\n",
        "we're done with the mc loop 9.185272\n",
        "nyooo!!!!"
       ]
      },
      {
       "output_type": "stream",
       "stream": "stdout",
       "text": [
        "\n",
        "we're done with the mc loop 7.260871\n",
        "nyooo!!!!"
       ]
      },
      {
       "output_type": "stream",
       "stream": "stdout",
       "text": [
        "\n",
        "we're done with the mc loop 8.415285\n",
        "yes"
       ]
      },
      {
       "output_type": "stream",
       "stream": "stdout",
       "text": [
        "\n",
        "we're done with the mc loop 6.961004\n",
        "nyooo!!!!"
       ]
      },
      {
       "output_type": "stream",
       "stream": "stdout",
       "text": [
        "\n",
        "we're done with the mc loop 8.448646\n",
        "nyooo!!!!"
       ]
      },
      {
       "output_type": "stream",
       "stream": "stdout",
       "text": [
        "\n",
        "we're done with the mc loop 11.666317\n",
        "nyooo!!!!"
       ]
      },
      {
       "output_type": "stream",
       "stream": "stdout",
       "text": [
        "\n",
        "we're done with the mc loop 9.186373\n",
        "nyooo!!!!"
       ]
      },
      {
       "output_type": "stream",
       "stream": "stdout",
       "text": [
        "\n",
        "we're done with the mc loop 9.187674\n",
        "nyooo!!!!"
       ]
      },
      {
       "output_type": "stream",
       "stream": "stdout",
       "text": [
        "\n",
        "we're done with the mc loop 10.825306\n",
        "yes"
       ]
      },
      {
       "output_type": "stream",
       "stream": "stdout",
       "text": [
        "\n",
        "we're done with the mc loop 8.355812\n",
        "nyooo!!!!"
       ]
      },
      {
       "output_type": "stream",
       "stream": "stdout",
       "text": [
        "\n",
        "we're done with the mc loop 8.086065\n",
        "nyooo!!!!"
       ]
      },
      {
       "output_type": "stream",
       "stream": "stdout",
       "text": [
        "\n",
        "we're done with the mc loop 6.956611\n",
        "yes"
       ]
      },
      {
       "output_type": "stream",
       "stream": "stdout",
       "text": [
        "\n",
        "we're done with the mc loop 6.943143\n",
        "yes"
       ]
      },
      {
       "output_type": "stream",
       "stream": "stdout",
       "text": [
        "\n",
        "we're done with the mc loop 7.350819\n",
        "nyooo!!!!"
       ]
      },
      {
       "output_type": "stream",
       "stream": "stdout",
       "text": [
        "\n",
        "we're done with the mc loop 8.185934\n",
        "yes"
       ]
      },
      {
       "output_type": "stream",
       "stream": "stdout",
       "text": [
        "\n",
        "we're done with the mc loop 7.917546\n",
        "nyooo!!!!"
       ]
      },
      {
       "output_type": "stream",
       "stream": "stdout",
       "text": [
        "\n",
        "we're done with the mc loop 9.188104\n",
        "nyooo!!!!"
       ]
      },
      {
       "output_type": "stream",
       "stream": "stdout",
       "text": [
        "\n",
        "we're done with the mc loop 7.552900\n",
        "nyooo!!!!"
       ]
      },
      {
       "output_type": "stream",
       "stream": "stdout",
       "text": [
        "\n",
        "we're done with the mc loop 9.667820\n",
        "nyooo!!!!"
       ]
      },
      {
       "output_type": "stream",
       "stream": "stdout",
       "text": [
        "\n",
        "we're done with the mc loop 8.039715\n",
        "nyooo!!!!"
       ]
      },
      {
       "output_type": "stream",
       "stream": "stdout",
       "text": [
        "\n",
        "we're done with the mc loop 7.674200\n",
        "nyooo!!!!"
       ]
      },
      {
       "output_type": "stream",
       "stream": "stdout",
       "text": [
        "\n",
        "we're done with the mc loop 9.985623\n",
        "nyooo!!!!"
       ]
      },
      {
       "output_type": "stream",
       "stream": "stdout",
       "text": [
        "\n",
        "we're done with the mc loop 9.108553\n",
        "nyooo!!!!"
       ]
      },
      {
       "output_type": "stream",
       "stream": "stdout",
       "text": [
        "\n",
        "we're done with the mc loop 12.379006\n",
        "nyooo!!!!"
       ]
      },
      {
       "output_type": "stream",
       "stream": "stdout",
       "text": [
        "\n",
        "we're done with the mc loop 9.166615\n",
        "nyooo!!!!"
       ]
      },
      {
       "output_type": "stream",
       "stream": "stdout",
       "text": [
        "\n",
        "we're done with the mc loop 9.220902\n",
        "nyooo!!!!"
       ]
      },
      {
       "output_type": "stream",
       "stream": "stdout",
       "text": [
        "\n",
        "we're done with the mc loop 9.070410\n",
        "nyooo!!!!"
       ]
      },
      {
       "output_type": "stream",
       "stream": "stdout",
       "text": [
        "\n",
        "we're done with the mc loop 7.813797\n",
        "nyooo!!!!"
       ]
      },
      {
       "output_type": "stream",
       "stream": "stdout",
       "text": [
        "\n",
        "we're done with the mc loop 8.288066\n",
        "yes"
       ]
      },
      {
       "output_type": "stream",
       "stream": "stdout",
       "text": [
        "\n",
        "we're done with the mc loop 10.349708\n",
        "nyooo!!!!"
       ]
      },
      {
       "output_type": "stream",
       "stream": "stdout",
       "text": [
        "\n",
        "we're done with the mc loop 8.933368\n",
        "yes"
       ]
      },
      {
       "output_type": "stream",
       "stream": "stdout",
       "text": [
        "\n",
        "we're done with the mc loop 8.017293\n",
        "nyooo!!!!"
       ]
      },
      {
       "output_type": "stream",
       "stream": "stdout",
       "text": [
        "\n",
        "we're done with the mc loop 10.783593\n",
        "nyooo!!!!"
       ]
      },
      {
       "output_type": "stream",
       "stream": "stdout",
       "text": [
        "\n",
        "we're done with the mc loop 7.354866\n",
        "nyooo!!!!"
       ]
      },
      {
       "output_type": "stream",
       "stream": "stdout",
       "text": [
        "\n",
        "we're done with the mc loop 10.873111\n",
        "nyooo!!!!"
       ]
      },
      {
       "output_type": "stream",
       "stream": "stdout",
       "text": [
        "\n",
        "we're done with the mc loop 8.279120\n",
        "yes"
       ]
      },
      {
       "output_type": "stream",
       "stream": "stdout",
       "text": [
        "\n",
        "we're done with the mc loop 9.309020\n",
        "nyooo!!!!"
       ]
      },
      {
       "output_type": "stream",
       "stream": "stdout",
       "text": [
        "\n",
        "we're done with the mc loop 10.677704\n",
        "nyooo!!!!"
       ]
      },
      {
       "output_type": "stream",
       "stream": "stdout",
       "text": [
        "\n",
        "we're done with the mc loop 7.522108\n",
        "yes"
       ]
      },
      {
       "output_type": "stream",
       "stream": "stdout",
       "text": [
        "\n",
        "we're done with the mc loop 12.134480\n",
        "nyooo!!!!"
       ]
      },
      {
       "output_type": "stream",
       "stream": "stdout",
       "text": [
        "\n",
        "we're done with the mc loop 9.295862\n",
        "nyooo!!!!"
       ]
      },
      {
       "output_type": "stream",
       "stream": "stdout",
       "text": [
        "\n",
        "we're done with the mc loop 8.103892\n",
        "nyooo!!!!"
       ]
      },
      {
       "output_type": "stream",
       "stream": "stdout",
       "text": [
        "\n",
        "we're done with the mc loop 8.351679\n",
        "nyooo!!!!"
       ]
      },
      {
       "output_type": "stream",
       "stream": "stdout",
       "text": [
        "\n",
        "we're done with the mc loop 9.219285\n",
        "nyooo!!!!"
       ]
      },
      {
       "output_type": "stream",
       "stream": "stdout",
       "text": [
        "\n",
        "we're done with the mc loop 9.121629\n",
        "nyooo!!!!"
       ]
      },
      {
       "output_type": "stream",
       "stream": "stdout",
       "text": [
        "\n",
        "we're done with the mc loop 9.671271\n",
        "nyooo!!!!"
       ]
      },
      {
       "output_type": "stream",
       "stream": "stdout",
       "text": [
        "\n",
        "we're done with the mc loop 7.775843\n",
        "barely yes"
       ]
      },
      {
       "output_type": "stream",
       "stream": "stdout",
       "text": [
        "\n",
        "we're done with the mc loop 8.705759\n",
        "nyooo!!!!"
       ]
      },
      {
       "output_type": "stream",
       "stream": "stdout",
       "text": [
        "\n",
        "we're done with the mc loop 8.744946\n",
        "nyooo!!!!"
       ]
      },
      {
       "output_type": "stream",
       "stream": "stdout",
       "text": [
        "\n",
        "we're done with the mc loop 8.963450\n",
        "nyooo!!!!"
       ]
      },
      {
       "output_type": "stream",
       "stream": "stdout",
       "text": [
        "\n",
        "we're done with the mc loop 7.735851\n",
        "barely yes"
       ]
      },
      {
       "output_type": "stream",
       "stream": "stdout",
       "text": [
        "\n",
        "we're done with the mc loop 9.380464\n",
        "nyooo!!!!"
       ]
      },
      {
       "output_type": "stream",
       "stream": "stdout",
       "text": [
        "\n",
        "we're done with the mc loop 10.512876\n",
        "nyooo!!!!"
       ]
      },
      {
       "output_type": "stream",
       "stream": "stdout",
       "text": [
        "\n",
        "we're done with the mc loop 7.860860\n",
        "nyooo!!!!"
       ]
      },
      {
       "output_type": "stream",
       "stream": "stdout",
       "text": [
        "\n",
        "we're done with the mc loop 7.658976\n",
        "nyooo!!!!"
       ]
      },
      {
       "output_type": "stream",
       "stream": "stdout",
       "text": [
        "\n",
        "we're done with the mc loop 8.631883\n",
        "nyooo!!!!"
       ]
      },
      {
       "output_type": "stream",
       "stream": "stdout",
       "text": [
        "\n",
        "we're done with the mc loop 10.852521\n",
        "nyooo!!!!"
       ]
      },
      {
       "output_type": "stream",
       "stream": "stdout",
       "text": [
        "\n",
        "we're done with the mc loop 7.938101\n",
        "nyooo!!!!"
       ]
      },
      {
       "output_type": "stream",
       "stream": "stdout",
       "text": [
        "\n",
        "we're done with the mc loop 8.441397\n",
        "nyooo!!!!"
       ]
      },
      {
       "output_type": "stream",
       "stream": "stdout",
       "text": [
        "\n",
        "we're done with the mc loop 7.962073\n",
        "nyooo!!!!"
       ]
      },
      {
       "output_type": "stream",
       "stream": "stdout",
       "text": [
        "\n",
        "we're done with the mc loop 8.662402\n",
        "nyooo!!!!"
       ]
      },
      {
       "output_type": "stream",
       "stream": "stdout",
       "text": [
        "\n",
        "we're done with the mc loop 7.844486\n",
        "nyooo!!!!"
       ]
      },
      {
       "output_type": "stream",
       "stream": "stdout",
       "text": [
        "\n",
        "we're done with the mc loop 7.504681\n",
        "nyooo!!!!"
       ]
      },
      {
       "output_type": "stream",
       "stream": "stdout",
       "text": [
        "\n",
        "we're done with the mc loop 9.199352\n",
        "yes"
       ]
      },
      {
       "output_type": "stream",
       "stream": "stdout",
       "text": [
        "\n",
        "we're done with the mc loop 8.683494\n",
        "nyooo!!!!"
       ]
      },
      {
       "output_type": "stream",
       "stream": "stdout",
       "text": [
        "\n",
        "we're done with the mc loop 9.178823\n",
        "nyooo!!!!"
       ]
      },
      {
       "output_type": "stream",
       "stream": "stdout",
       "text": [
        "\n",
        "we're done with the mc loop 9.313754\n",
        "nyooo!!!!"
       ]
      },
      {
       "output_type": "stream",
       "stream": "stdout",
       "text": [
        "\n",
        "we're done with the mc loop 8.273626\n",
        "yes"
       ]
      },
      {
       "output_type": "stream",
       "stream": "stdout",
       "text": [
        "\n",
        "we're done with the mc loop 8.228517\n",
        "nyooo!!!!"
       ]
      },
      {
       "output_type": "stream",
       "stream": "stdout",
       "text": [
        "\n",
        "we're done with the mc loop 11.129883\n",
        "nyooo!!!!"
       ]
      },
      {
       "output_type": "stream",
       "stream": "stdout",
       "text": [
        "\n",
        "we're done with the mc loop 10.382438\n",
        "nyooo!!!!"
       ]
      },
      {
       "output_type": "stream",
       "stream": "stdout",
       "text": [
        "\n",
        "we're done with the mc loop 8.732349\n",
        "nyooo!!!!"
       ]
      },
      {
       "output_type": "stream",
       "stream": "stdout",
       "text": [
        "\n",
        "we're done with the mc loop 11.019876\n",
        "nyooo!!!!"
       ]
      },
      {
       "output_type": "stream",
       "stream": "stdout",
       "text": [
        "\n",
        "we're done with the mc loop 7.549750\n",
        "nyooo!!!!"
       ]
      },
      {
       "output_type": "stream",
       "stream": "stdout",
       "text": [
        "\n",
        "we're done with the mc loop 9.100909\n",
        "nyooo!!!!"
       ]
      },
      {
       "output_type": "stream",
       "stream": "stdout",
       "text": [
        "\n",
        "we're done with the mc loop 7.591903\n",
        "yes"
       ]
      },
      {
       "output_type": "stream",
       "stream": "stdout",
       "text": [
        "\n",
        "we're done with the mc loop 9.122107\n",
        "nyooo!!!!"
       ]
      },
      {
       "output_type": "stream",
       "stream": "stdout",
       "text": [
        "\n",
        "we're done with the mc loop 10.767617\n",
        "nyooo!!!!"
       ]
      },
      {
       "output_type": "stream",
       "stream": "stdout",
       "text": [
        "\n",
        "we're done with the mc loop 8.308360\n",
        "nyooo!!!!"
       ]
      },
      {
       "output_type": "stream",
       "stream": "stdout",
       "text": [
        "\n",
        "we're done with the mc loop 8.978809\n",
        "nyooo!!!!"
       ]
      },
      {
       "output_type": "stream",
       "stream": "stdout",
       "text": [
        "\n",
        "we're done with the mc loop 8.210291\n",
        "nyooo!!!!"
       ]
      },
      {
       "output_type": "stream",
       "stream": "stdout",
       "text": [
        "\n",
        "we're done with the mc loop 8.692060\n",
        "yes"
       ]
      },
      {
       "output_type": "stream",
       "stream": "stdout",
       "text": [
        "\n",
        "we're done with the mc loop 8.413951\n",
        "nyooo!!!!"
       ]
      },
      {
       "output_type": "stream",
       "stream": "stdout",
       "text": [
        "\n",
        "we're done with the mc loop 8.221362\n",
        "nyooo!!!!"
       ]
      },
      {
       "output_type": "stream",
       "stream": "stdout",
       "text": [
        "\n",
        "we're done with the mc loop 8.655036\n",
        "nyooo!!!!"
       ]
      },
      {
       "output_type": "stream",
       "stream": "stdout",
       "text": [
        "\n",
        "we're done with the mc loop 9.454529\n",
        "nyooo!!!!"
       ]
      },
      {
       "output_type": "stream",
       "stream": "stdout",
       "text": [
        "\n",
        "we're done with the mc loop 7.831041\n",
        "yes"
       ]
      },
      {
       "output_type": "stream",
       "stream": "stdout",
       "text": [
        "\n",
        "we're done with the mc loop 9.969500\n",
        "nyooo!!!!"
       ]
      },
      {
       "output_type": "stream",
       "stream": "stdout",
       "text": [
        "\n",
        "we're done with the mc loop 12.821718\n",
        "nyooo!!!!"
       ]
      },
      {
       "output_type": "stream",
       "stream": "stdout",
       "text": [
        "\n",
        "we're done with the mc loop 9.365366\n",
        "nyooo!!!!"
       ]
      },
      {
       "output_type": "stream",
       "stream": "stdout",
       "text": [
        "\n",
        "we're done with the mc loop 9.225079\n",
        "nyooo!!!!"
       ]
      },
      {
       "output_type": "stream",
       "stream": "stdout",
       "text": [
        "\n",
        "we're done with the mc loop 8.538576\n",
        "yes"
       ]
      },
      {
       "output_type": "stream",
       "stream": "stdout",
       "text": [
        "\n",
        "we're done with the mc loop 9.200361\n",
        "nyooo!!!!"
       ]
      },
      {
       "output_type": "stream",
       "stream": "stdout",
       "text": [
        "\n",
        "we're done with the mc loop 9.236867\n",
        "yes"
       ]
      },
      {
       "output_type": "stream",
       "stream": "stdout",
       "text": [
        "\n",
        "we're done with the mc loop 9.264662\n",
        "nyooo!!!!"
       ]
      },
      {
       "output_type": "stream",
       "stream": "stdout",
       "text": [
        "\n",
        "we're done with the mc loop 9.182012\n",
        "nyooo!!!!"
       ]
      },
      {
       "output_type": "stream",
       "stream": "stdout",
       "text": [
        "\n",
        "we're done with the mc loop 9.182681\n",
        "nyooo!!!!"
       ]
      },
      {
       "output_type": "stream",
       "stream": "stdout",
       "text": [
        "\n",
        "we're done with the mc loop 9.196284\n",
        "nyooo!!!!"
       ]
      },
      {
       "output_type": "stream",
       "stream": "stdout",
       "text": [
        "\n",
        "we're done with the mc loop 8.743368\n",
        "yes"
       ]
      },
      {
       "output_type": "stream",
       "stream": "stdout",
       "text": [
        "\n",
        "we're done with the mc loop 8.181481\n",
        "nyooo!!!!"
       ]
      },
      {
       "output_type": "stream",
       "stream": "stdout",
       "text": [
        "\n",
        "we're done with the mc loop 9.267692\n",
        "yes"
       ]
      },
      {
       "output_type": "stream",
       "stream": "stdout",
       "text": [
        "\n",
        "we're done with the mc loop 9.229998\n",
        "nyooo!!!!"
       ]
      },
      {
       "output_type": "stream",
       "stream": "stdout",
       "text": [
        "\n",
        "we're done with the mc loop 8.921427\n",
        "yes"
       ]
      },
      {
       "output_type": "stream",
       "stream": "stdout",
       "text": [
        "\n",
        "we're done with the mc loop 7.663414\n",
        "yes"
       ]
      },
      {
       "output_type": "stream",
       "stream": "stdout",
       "text": [
        "\n",
        "we're done with the mc loop 9.069023\n",
        "nyooo!!!!"
       ]
      },
      {
       "output_type": "stream",
       "stream": "stdout",
       "text": [
        "\n",
        "we're done with the mc loop 8.003803\n",
        "yes"
       ]
      },
      {
       "output_type": "stream",
       "stream": "stdout",
       "text": [
        "\n",
        "we're done with the mc loop 9.531248\n",
        "nyooo!!!!"
       ]
      },
      {
       "output_type": "stream",
       "stream": "stdout",
       "text": [
        "\n",
        "we're done with the mc loop 9.725301\n",
        "nyooo!!!!"
       ]
      },
      {
       "output_type": "stream",
       "stream": "stdout",
       "text": [
        "\n",
        "we're done with the mc loop 10.826521\n",
        "nyooo!!!!"
       ]
      },
      {
       "output_type": "stream",
       "stream": "stdout",
       "text": [
        "\n",
        "we're done with the mc loop 11.890605\n",
        "nyooo!!!!"
       ]
      },
      {
       "output_type": "stream",
       "stream": "stdout",
       "text": [
        "\n",
        "we're done with the mc loop 13.454782\n",
        "nyooo!!!!"
       ]
      },
      {
       "output_type": "stream",
       "stream": "stdout",
       "text": [
        "\n",
        "we're done with the mc loop 7.670382\n",
        "nyooo!!!!"
       ]
      },
      {
       "output_type": "stream",
       "stream": "stdout",
       "text": [
        "\n",
        "we're done with the mc loop 9.504810\n",
        "yes"
       ]
      },
      {
       "output_type": "stream",
       "stream": "stdout",
       "text": [
        "\n",
        "we're done with the mc loop 8.068964\n",
        "nyooo!!!!"
       ]
      },
      {
       "output_type": "stream",
       "stream": "stdout",
       "text": [
        "\n",
        "we're done with the mc loop 8.466977\n",
        "nyooo!!!!"
       ]
      },
      {
       "output_type": "stream",
       "stream": "stdout",
       "text": [
        "\n",
        "we're done with the mc loop 7.412067\n",
        "yes"
       ]
      },
      {
       "output_type": "stream",
       "stream": "stdout",
       "text": [
        "\n",
        "we're done with the mc loop 7.340786\n",
        "nyooo!!!!"
       ]
      },
      {
       "output_type": "stream",
       "stream": "stdout",
       "text": [
        "\n",
        "we're done with the mc loop 7.435370\n",
        "nyooo!!!!"
       ]
      },
      {
       "output_type": "stream",
       "stream": "stdout",
       "text": [
        "\n",
        "we're done with the mc loop 7.431157\n",
        "nyooo!!!!"
       ]
      },
      {
       "output_type": "stream",
       "stream": "stdout",
       "text": [
        "\n",
        "we're done with the mc loop 7.339430\n",
        "yes"
       ]
      },
      {
       "output_type": "stream",
       "stream": "stdout",
       "text": [
        "\n",
        "we're done with the mc loop 8.042032\n",
        "nyooo!!!!"
       ]
      },
      {
       "output_type": "stream",
       "stream": "stdout",
       "text": [
        "\n",
        "we're done with the mc loop 7.664703\n",
        "yes"
       ]
      },
      {
       "output_type": "stream",
       "stream": "stdout",
       "text": [
        "\n",
        "we're done with the mc loop 7.570534\n",
        "nyooo!!!!"
       ]
      },
      {
       "output_type": "stream",
       "stream": "stdout",
       "text": [
        "\n",
        "we're done with the mc loop 9.216790\n",
        "nyooo!!!!"
       ]
      },
      {
       "output_type": "stream",
       "stream": "stdout",
       "text": [
        "\n",
        "we're done with the mc loop 9.190308\n",
        "nyooo!!!!"
       ]
      },
      {
       "output_type": "stream",
       "stream": "stdout",
       "text": [
        "\n",
        "we're done with the mc loop 9.169450\n",
        "nyooo!!!!"
       ]
      },
      {
       "output_type": "stream",
       "stream": "stdout",
       "text": [
        "\n",
        "we're done with the mc loop 7.768214\n",
        "nyooo!!!!"
       ]
      },
      {
       "output_type": "stream",
       "stream": "stdout",
       "text": [
        "\n",
        "we're done with the mc loop 7.323493\n",
        "yes"
       ]
      },
      {
       "output_type": "stream",
       "stream": "stdout",
       "text": [
        "\n",
        "we're done with the mc loop 7.338191\n",
        "nyooo!!!!"
       ]
      },
      {
       "output_type": "stream",
       "stream": "stdout",
       "text": [
        "\n",
        "we're done with the mc loop 7.325430\n",
        "yes"
       ]
      },
      {
       "output_type": "stream",
       "stream": "stdout",
       "text": [
        "\n",
        "we're done with the mc loop 6.571118\n",
        "nyooo!!!!"
       ]
      },
      {
       "output_type": "stream",
       "stream": "stdout",
       "text": [
        "\n",
        "we're done with the mc loop 8.211222\n",
        "nyooo!!!!"
       ]
      },
      {
       "output_type": "stream",
       "stream": "stdout",
       "text": [
        "\n",
        "we're done with the mc loop 7.832550\n",
        "nyooo!!!!"
       ]
      },
      {
       "output_type": "stream",
       "stream": "stdout",
       "text": [
        "\n",
        "we're done with the mc loop 7.392306\n",
        "nyooo!!!!"
       ]
      },
      {
       "output_type": "stream",
       "stream": "stdout",
       "text": [
        "\n",
        "we're done with the mc loop 7.214086\n",
        "nyooo!!!!"
       ]
      },
      {
       "output_type": "stream",
       "stream": "stdout",
       "text": [
        "\n",
        "we're done with the mc loop 7.390701\n",
        "nyooo!!!!"
       ]
      },
      {
       "output_type": "stream",
       "stream": "stdout",
       "text": [
        "\n",
        "we're done with the mc loop 8.491075\n",
        "nyooo!!!!"
       ]
      },
      {
       "output_type": "stream",
       "stream": "stdout",
       "text": [
        "\n",
        "we're done with the mc loop 9.162912\n",
        "nyooo!!!!"
       ]
      },
      {
       "output_type": "stream",
       "stream": "stdout",
       "text": [
        "\n",
        "we're done with the mc loop 9.184086\n",
        "nyooo!!!!"
       ]
      },
      {
       "output_type": "stream",
       "stream": "stdout",
       "text": [
        "\n",
        "we're done with the mc loop 9.092939\n",
        "nyooo!!!!"
       ]
      },
      {
       "output_type": "stream",
       "stream": "stdout",
       "text": [
        "\n",
        "we're done with the mc loop 5.592842\n",
        "barely yes"
       ]
      },
      {
       "output_type": "stream",
       "stream": "stdout",
       "text": [
        "\n",
        "we're done with the mc loop 7.468127\n",
        "yes"
       ]
      },
      {
       "output_type": "stream",
       "stream": "stdout",
       "text": [
        "\n",
        "we're done with the mc loop 7.776304\n",
        "nyooo!!!!"
       ]
      },
      {
       "output_type": "stream",
       "stream": "stdout",
       "text": [
        "\n",
        "we're done with the mc loop 7.267508\n",
        "nyooo!!!!"
       ]
      },
      {
       "output_type": "stream",
       "stream": "stdout",
       "text": [
        "\n",
        "we're done with the mc loop 7.296733\n",
        "nyooo!!!!"
       ]
      },
      {
       "output_type": "stream",
       "stream": "stdout",
       "text": [
        "\n",
        "we're done with the mc loop 7.420238\n",
        "nyooo!!!!"
       ]
      },
      {
       "output_type": "stream",
       "stream": "stdout",
       "text": [
        "\n",
        "we're done with the mc loop 8.974631\n",
        "nyooo!!!!"
       ]
      },
      {
       "output_type": "stream",
       "stream": "stdout",
       "text": [
        "\n",
        "we're done with the mc loop 9.195676\n",
        "nyooo!!!!"
       ]
      },
      {
       "output_type": "stream",
       "stream": "stdout",
       "text": [
        "\n",
        "we're done with the mc loop 9.193142\n",
        "nyooo!!!!"
       ]
      },
      {
       "output_type": "stream",
       "stream": "stdout",
       "text": [
        "\n",
        "we're done with the mc loop 9.171754\n",
        "nyooo!!!!"
       ]
      },
      {
       "output_type": "stream",
       "stream": "stdout",
       "text": [
        "\n",
        "we're done with the mc loop 9.180212\n",
        "nyooo!!!!"
       ]
      },
      {
       "output_type": "stream",
       "stream": "stdout",
       "text": [
        "\n",
        "we're done with the mc loop 9.188291\n",
        "nyooo!!!!"
       ]
      },
      {
       "output_type": "stream",
       "stream": "stdout",
       "text": [
        "\n",
        "we're done with the mc loop 9.168807\n",
        "nyooo!!!!"
       ]
      },
      {
       "output_type": "stream",
       "stream": "stdout",
       "text": [
        "\n",
        "we're done with the mc loop 9.188315\n",
        "nyooo!!!!"
       ]
      },
      {
       "output_type": "stream",
       "stream": "stdout",
       "text": [
        "\n",
        "we're done with the mc loop 8.179110\n",
        "nyooo!!!!"
       ]
      },
      {
       "output_type": "stream",
       "stream": "stdout",
       "text": [
        "\n",
        "we're done with the mc loop 9.171546\n",
        "nyooo!!!!"
       ]
      },
      {
       "output_type": "stream",
       "stream": "stdout",
       "text": [
        "\n",
        "we're done with the mc loop 9.151435\n",
        "nyooo!!!!"
       ]
      },
      {
       "output_type": "stream",
       "stream": "stdout",
       "text": [
        "\n",
        "we're done with the mc loop 9.183262\n",
        "nyooo!!!!"
       ]
      },
      {
       "output_type": "stream",
       "stream": "stdout",
       "text": [
        "\n",
        "we're done with the mc loop 9.169602\n",
        "barely yes"
       ]
      },
      {
       "output_type": "stream",
       "stream": "stdout",
       "text": [
        "\n",
        "we're done with the mc loop 9.182805\n",
        "nyooo!!!!"
       ]
      },
      {
       "output_type": "stream",
       "stream": "stdout",
       "text": [
        "\n",
        "we're done with the mc loop 7.392418\n",
        "barely yes"
       ]
      },
      {
       "output_type": "stream",
       "stream": "stdout",
       "text": [
        "\n",
        "we're done with the mc loop 7.764001\n",
        "nyooo!!!!"
       ]
      },
      {
       "output_type": "stream",
       "stream": "stdout",
       "text": [
        "\n",
        "we're done with the mc loop 5.653410\n",
        "nyooo!!!!"
       ]
      },
      {
       "output_type": "stream",
       "stream": "stdout",
       "text": [
        "\n",
        "we're done with the mc loop 7.329411\n",
        "nyooo!!!!"
       ]
      },
      {
       "output_type": "stream",
       "stream": "stdout",
       "text": [
        "\n",
        "we're done with the mc loop 7.404432\n",
        "nyooo!!!!"
       ]
      },
      {
       "output_type": "stream",
       "stream": "stdout",
       "text": [
        "\n",
        "we're done with the mc loop 7.350623\n",
        "nyooo!!!!"
       ]
      },
      {
       "output_type": "stream",
       "stream": "stdout",
       "text": [
        "\n",
        "we're done with the mc loop 7.780778\n",
        "yes"
       ]
      },
      {
       "output_type": "stream",
       "stream": "stdout",
       "text": [
        "\n",
        "we're done with the mc loop 7.555396\n",
        "nyooo!!!!"
       ]
      },
      {
       "output_type": "stream",
       "stream": "stdout",
       "text": [
        "\n",
        "we're done with the mc loop 8.021925\n",
        "nyooo!!!!"
       ]
      },
      {
       "output_type": "stream",
       "stream": "stdout",
       "text": [
        "\n",
        "we're done with the mc loop 8.373789\n",
        "yes"
       ]
      },
      {
       "output_type": "stream",
       "stream": "stdout",
       "text": [
        "\n",
        "we're done with the mc loop 5.563270\n",
        "nyooo!!!!"
       ]
      },
      {
       "output_type": "stream",
       "stream": "stdout",
       "text": [
        "\n",
        "we're done with the mc loop 7.388204\n",
        "nyooo!!!!"
       ]
      },
      {
       "output_type": "stream",
       "stream": "stdout",
       "text": [
        "\n",
        "we're done with the mc loop 8.372680\n",
        "nyooo!!!!"
       ]
      },
      {
       "output_type": "stream",
       "stream": "stdout",
       "text": [
        "\n",
        "we're done with the mc loop 6.965201\n",
        "yes"
       ]
      },
      {
       "output_type": "stream",
       "stream": "stdout",
       "text": [
        "\n",
        "we're done with the mc loop 9.112251\n",
        "yes"
       ]
      },
      {
       "output_type": "stream",
       "stream": "stdout",
       "text": [
        "\n",
        "we're done with the mc loop 7.490762\n",
        "yes"
       ]
      },
      {
       "output_type": "stream",
       "stream": "stdout",
       "text": [
        "\n",
        "we're done with the mc loop 7.443098\n",
        "yes"
       ]
      },
      {
       "output_type": "stream",
       "stream": "stdout",
       "text": [
        "\n",
        "we're done with the mc loop 9.208763\n",
        "yes"
       ]
      },
      {
       "output_type": "stream",
       "stream": "stdout",
       "text": [
        "\n",
        "we're done with the mc loop 7.353411\n",
        "nyooo!!!!"
       ]
      },
      {
       "output_type": "stream",
       "stream": "stdout",
       "text": [
        "\n",
        "we're done with the mc loop 8.706099\n",
        "nyooo!!!!"
       ]
      },
      {
       "output_type": "stream",
       "stream": "stdout",
       "text": [
        "\n",
        "we're done with the mc loop 8.589885\n",
        "yes"
       ]
      },
      {
       "output_type": "stream",
       "stream": "stdout",
       "text": [
        "\n",
        "we're done with the mc loop 5.558251\n",
        "nyooo!!!!"
       ]
      },
      {
       "output_type": "stream",
       "stream": "stdout",
       "text": [
        "\n",
        "we're done with the mc loop 7.420051\n",
        "nyooo!!!!"
       ]
      },
      {
       "output_type": "stream",
       "stream": "stdout",
       "text": [
        "\n",
        "we're done with the mc loop 9.976227\n",
        "nyooo!!!!"
       ]
      },
      {
       "output_type": "stream",
       "stream": "stdout",
       "text": [
        "\n",
        "we're done with the mc loop 7.272518\n",
        "nyooo!!!!"
       ]
      },
      {
       "output_type": "stream",
       "stream": "stdout",
       "text": [
        "\n",
        "we're done with the mc loop 8.746350\n",
        "nyooo!!!!"
       ]
      },
      {
       "output_type": "stream",
       "stream": "stdout",
       "text": [
        "\n",
        "we're done with the mc loop 5.544851\n",
        "nyooo!!!!"
       ]
      },
      {
       "output_type": "stream",
       "stream": "stdout",
       "text": [
        "\n",
        "we're done with the mc loop 7.280745\n",
        "nyooo!!!!"
       ]
      },
      {
       "output_type": "stream",
       "stream": "stdout",
       "text": [
        "\n",
        "we're done with the mc loop 7.695853\n",
        "nyooo!!!!"
       ]
      },
      {
       "output_type": "stream",
       "stream": "stdout",
       "text": [
        "\n",
        "we're done with the mc loop 10.175614\n",
        "yes"
       ]
      },
      {
       "output_type": "stream",
       "stream": "stdout",
       "text": [
        "\n",
        "we're done with the mc loop 9.295622\n",
        "nyooo!!!!"
       ]
      },
      {
       "output_type": "stream",
       "stream": "stdout",
       "text": [
        "\n",
        "we're done with the mc loop 9.269220\n",
        "yes"
       ]
      },
      {
       "output_type": "stream",
       "stream": "stdout",
       "text": [
        "\n",
        "we're done with the mc loop 7.293728\n",
        "yes"
       ]
      },
      {
       "output_type": "stream",
       "stream": "stdout",
       "text": [
        "\n",
        "we're done with the mc loop 8.787512\n",
        "nyooo!!!!"
       ]
      },
      {
       "output_type": "stream",
       "stream": "stdout",
       "text": [
        "\n",
        "we're done with the mc loop 9.279039\n",
        "yes"
       ]
      },
      {
       "output_type": "stream",
       "stream": "stdout",
       "text": [
        "\n",
        "we're done with the mc loop 9.289563\n",
        "nyooo!!!!"
       ]
      },
      {
       "output_type": "stream",
       "stream": "stdout",
       "text": [
        "\n",
        "we're done with the mc loop 6.318762\n",
        "nyooo!!!!"
       ]
      },
      {
       "output_type": "stream",
       "stream": "stdout",
       "text": [
        "\n",
        "we're done with the mc loop 7.960848\n",
        "nyooo!!!!"
       ]
      },
      {
       "output_type": "stream",
       "stream": "stdout",
       "text": [
        "\n",
        "we're done with the mc loop 8.622233\n",
        "barely yes"
       ]
      },
      {
       "output_type": "stream",
       "stream": "stdout",
       "text": [
        "\n",
        "we're done with the mc loop 7.476822\n",
        "nyooo!!!!"
       ]
      },
      {
       "output_type": "stream",
       "stream": "stdout",
       "text": [
        "\n",
        "we're done with the mc loop 7.374675\n",
        "yes"
       ]
      },
      {
       "output_type": "stream",
       "stream": "stdout",
       "text": [
        "\n",
        "we're done with the mc loop 6.781675\n",
        "nyooo!!!!"
       ]
      },
      {
       "output_type": "stream",
       "stream": "stdout",
       "text": [
        "\n",
        "we're done with the mc loop 8.122381\n",
        "nyooo!!!!"
       ]
      },
      {
       "output_type": "stream",
       "stream": "stdout",
       "text": [
        "\n",
        "we're done with the mc loop 7.501942\n",
        "nyooo!!!!"
       ]
      },
      {
       "output_type": "stream",
       "stream": "stdout",
       "text": [
        "\n",
        "we're done with the mc loop 6.678376\n",
        "nyooo!!!!"
       ]
      },
      {
       "output_type": "stream",
       "stream": "stdout",
       "text": [
        "\n",
        "we're done with the mc loop 9.770402\n",
        "nyooo!!!!"
       ]
      },
      {
       "output_type": "stream",
       "stream": "stdout",
       "text": [
        "\n",
        "we're done with the mc loop 7.474232\n",
        "nyooo!!!!"
       ]
      },
      {
       "output_type": "stream",
       "stream": "stdout",
       "text": [
        "\n",
        "we're done with the mc loop 7.247790\n",
        "yes"
       ]
      },
      {
       "output_type": "stream",
       "stream": "stdout",
       "text": [
        "\n",
        "we're done with the mc loop 7.418026\n",
        "nyooo!!!!"
       ]
      },
      {
       "output_type": "stream",
       "stream": "stdout",
       "text": [
        "\n",
        "we're done with the mc loop 5.657168\n",
        "nyooo!!!!"
       ]
      },
      {
       "output_type": "stream",
       "stream": "stdout",
       "text": [
        "\n",
        "we're done with the mc loop 8.456597\n",
        "nyooo!!!!"
       ]
      },
      {
       "output_type": "stream",
       "stream": "stdout",
       "text": [
        "\n",
        "we're done with the mc loop 9.956179\n",
        "nyooo!!!!"
       ]
      },
      {
       "output_type": "stream",
       "stream": "stdout",
       "text": [
        "\n",
        "we're done with the mc loop 8.320357\n",
        "yes"
       ]
      },
      {
       "output_type": "stream",
       "stream": "stdout",
       "text": [
        "\n",
        "we're done with the mc loop 7.391859\n",
        "yes"
       ]
      },
      {
       "output_type": "stream",
       "stream": "stdout",
       "text": [
        "\n",
        "we're done with the mc loop 7.474804\n",
        "nyooo!!!!"
       ]
      },
      {
       "output_type": "stream",
       "stream": "stdout",
       "text": [
        "\n",
        "we're done with the mc loop 7.696692\n",
        "nyooo!!!!"
       ]
      },
      {
       "output_type": "stream",
       "stream": "stdout",
       "text": [
        "\n",
        "we're done with the mc loop 8.725008\n",
        "nyooo!!!!"
       ]
      },
      {
       "output_type": "stream",
       "stream": "stdout",
       "text": [
        "\n",
        "we're done with the mc loop 7.862408\n",
        "yes"
       ]
      },
      {
       "output_type": "stream",
       "stream": "stdout",
       "text": [
        "\n",
        "we're done with the mc loop 7.737063\n",
        "nyooo!!!!"
       ]
      },
      {
       "output_type": "stream",
       "stream": "stdout",
       "text": [
        "\n",
        "we're done with the mc loop 12.160880\n",
        "nyooo!!!!"
       ]
      },
      {
       "output_type": "stream",
       "stream": "stdout",
       "text": [
        "\n",
        "we're done with the mc loop 12.372678\n",
        "nyooo!!!!"
       ]
      },
      {
       "output_type": "stream",
       "stream": "stdout",
       "text": [
        "\n",
        "we're done with the mc loop 12.520266\n",
        "yes"
       ]
      },
      {
       "output_type": "stream",
       "stream": "stdout",
       "text": [
        "\n",
        "we're done with the mc loop 10.582484\n",
        "yes"
       ]
      },
      {
       "output_type": "stream",
       "stream": "stdout",
       "text": [
        "\n",
        "we're done with the mc loop 9.742596\n",
        "yes"
       ]
      },
      {
       "output_type": "stream",
       "stream": "stdout",
       "text": [
        "\n",
        "we're done with the mc loop 8.060188\n",
        "nyooo!!!!"
       ]
      },
      {
       "output_type": "stream",
       "stream": "stdout",
       "text": [
        "\n",
        "we're done with the mc loop 7.931944\n",
        "nyooo!!!!"
       ]
      },
      {
       "output_type": "stream",
       "stream": "stdout",
       "text": [
        "\n",
        "we're done with the mc loop 10.419170\n",
        "nyooo!!!!"
       ]
      },
      {
       "output_type": "stream",
       "stream": "stdout",
       "text": [
        "\n",
        "we're done with the mc loop 8.928824\n",
        "yes"
       ]
      },
      {
       "output_type": "stream",
       "stream": "stdout",
       "text": [
        "\n",
        "we're done with the mc loop 8.577095\n",
        "nyooo!!!!"
       ]
      },
      {
       "output_type": "stream",
       "stream": "stdout",
       "text": [
        "\n",
        "we're done with the mc loop 7.890080\n",
        "yes"
       ]
      },
      {
       "output_type": "stream",
       "stream": "stdout",
       "text": [
        "\n",
        "we're done with the mc loop 11.493017\n",
        "nyooo!!!!"
       ]
      },
      {
       "output_type": "stream",
       "stream": "stdout",
       "text": [
        "\n",
        "we're done with the mc loop 12.056752\n",
        "nyooo!!!!"
       ]
      },
      {
       "output_type": "stream",
       "stream": "stdout",
       "text": [
        "\n",
        "we're done with the mc loop 11.977361\n",
        "yes"
       ]
      },
      {
       "output_type": "stream",
       "stream": "stdout",
       "text": [
        "\n",
        "we're done with the mc loop 11.765460\n",
        "nyooo!!!!"
       ]
      },
      {
       "output_type": "stream",
       "stream": "stdout",
       "text": [
        "\n",
        "we're done with the mc loop 9.753439\n",
        "yes"
       ]
      },
      {
       "output_type": "stream",
       "stream": "stdout",
       "text": [
        "\n",
        "we're done with the mc loop 11.663709\n",
        "nyooo!!!!"
       ]
      },
      {
       "output_type": "stream",
       "stream": "stdout",
       "text": [
        "\n",
        "we're done with the mc loop 12.751735\n",
        "nyooo!!!!"
       ]
      },
      {
       "output_type": "stream",
       "stream": "stdout",
       "text": [
        "\n",
        "we're done with the mc loop 13.342378\n",
        "nyooo!!!!"
       ]
      },
      {
       "output_type": "stream",
       "stream": "stdout",
       "text": [
        "\n",
        "we're done with the mc loop 13.472055\n",
        "barely yes"
       ]
      },
      {
       "output_type": "stream",
       "stream": "stdout",
       "text": [
        "\n",
        "we're done with the mc loop 10.589537\n",
        "yes"
       ]
      },
      {
       "output_type": "stream",
       "stream": "stdout",
       "text": [
        "\n",
        "we're done with the mc loop 12.755041\n",
        "nyooo!!!!"
       ]
      },
      {
       "output_type": "stream",
       "stream": "stdout",
       "text": [
        "\n",
        "we're done with the mc loop 8.463925\n",
        "yes"
       ]
      },
      {
       "output_type": "stream",
       "stream": "stdout",
       "text": [
        "\n",
        "we're done with the mc loop 11.745578\n",
        "nyooo!!!!"
       ]
      },
      {
       "output_type": "stream",
       "stream": "stdout",
       "text": [
        "\n",
        "we're done with the mc loop 14.458701\n",
        "nyooo!!!!"
       ]
      },
      {
       "output_type": "stream",
       "stream": "stdout",
       "text": [
        "\n",
        "we're done with the mc loop 9.083290\n",
        "nyooo!!!!"
       ]
      },
      {
       "output_type": "stream",
       "stream": "stdout",
       "text": [
        "\n",
        "we're done with the mc loop 12.509697\n",
        "nyooo!!!!"
       ]
      },
      {
       "output_type": "stream",
       "stream": "stdout",
       "text": [
        "\n",
        "we're done with the mc loop 14.619633\n",
        "barely yes"
       ]
      },
      {
       "output_type": "stream",
       "stream": "stdout",
       "text": [
        "\n",
        "we're done with the mc loop 8.469171\n",
        "nyooo!!!!"
       ]
      },
      {
       "output_type": "stream",
       "stream": "stdout",
       "text": [
        "\n",
        "we're done with the mc loop 11.116754\n",
        "nyooo!!!!"
       ]
      },
      {
       "output_type": "stream",
       "stream": "stdout",
       "text": [
        "\n",
        "we're done with the mc loop 12.739903\n",
        "nyooo!!!!"
       ]
      },
      {
       "output_type": "stream",
       "stream": "stdout",
       "text": [
        "\n",
        "we're done with the mc loop 13.324590\n",
        "nyooo!!!!"
       ]
      },
      {
       "output_type": "stream",
       "stream": "stdout",
       "text": [
        "\n",
        "we're done with the mc loop 12.487322\n",
        "nyooo!!!!"
       ]
      },
      {
       "output_type": "stream",
       "stream": "stdout",
       "text": [
        "\n",
        "we're done with the mc loop 11.947465\n",
        "yes"
       ]
      },
      {
       "output_type": "stream",
       "stream": "stdout",
       "text": [
        "\n",
        "we're done with the mc loop 13.444001\n",
        "nyooo!!!!"
       ]
      },
      {
       "output_type": "stream",
       "stream": "stdout",
       "text": [
        "\n",
        "we're done with the mc loop 11.498786\n",
        "yes"
       ]
      },
      {
       "output_type": "stream",
       "stream": "stdout",
       "text": [
        "\n",
        "we're done with the mc loop 13.098700\n",
        "nyooo!!!!"
       ]
      },
      {
       "output_type": "stream",
       "stream": "stdout",
       "text": [
        "\n",
        "we're done with the mc loop 11.701680\n",
        "nyooo!!!!"
       ]
      },
      {
       "output_type": "stream",
       "stream": "stdout",
       "text": [
        "\n",
        "we're done with the mc loop 11.061875\n",
        "nyooo!!!!"
       ]
      },
      {
       "output_type": "stream",
       "stream": "stdout",
       "text": [
        "\n",
        "we're done with the mc loop 12.547860\n",
        "nyooo!!!!"
       ]
      },
      {
       "output_type": "stream",
       "stream": "stdout",
       "text": [
        "\n",
        "we're done with the mc loop 11.684051\n",
        "barely yes"
       ]
      },
      {
       "output_type": "stream",
       "stream": "stdout",
       "text": [
        "\n",
        "we're done with the mc loop 12.381222\n",
        "yes"
       ]
      },
      {
       "output_type": "stream",
       "stream": "stdout",
       "text": [
        "\n",
        "we're done with the mc loop 11.467295\n",
        "nyooo!!!!"
       ]
      },
      {
       "output_type": "stream",
       "stream": "stdout",
       "text": [
        "\n",
        "we're done with the mc loop 8.757381\n",
        "nyooo!!!!"
       ]
      },
      {
       "output_type": "stream",
       "stream": "stdout",
       "text": [
        "\n",
        "we're done with the mc loop 12.244458\n",
        "yes"
       ]
      },
      {
       "output_type": "stream",
       "stream": "stdout",
       "text": [
        "\n",
        "we're done with the mc loop 8.864559\n",
        "nyooo!!!!"
       ]
      },
      {
       "output_type": "stream",
       "stream": "stdout",
       "text": [
        "\n",
        "we're done with the mc loop 8.720297\n",
        "nyooo!!!!"
       ]
      },
      {
       "output_type": "stream",
       "stream": "stdout",
       "text": [
        "\n",
        "we're done with the mc loop 9.781083\n",
        "nyooo!!!!"
       ]
      },
      {
       "output_type": "stream",
       "stream": "stdout",
       "text": [
        "\n",
        "we're done with the mc loop 8.599594\n",
        "nyooo!!!!"
       ]
      },
      {
       "output_type": "stream",
       "stream": "stdout",
       "text": [
        "\n",
        "we're done with the mc loop 9.870635\n",
        "nyooo!!!!"
       ]
      },
      {
       "output_type": "stream",
       "stream": "stdout",
       "text": [
        "\n",
        "we're done with the mc loop 11.314972\n",
        "nyooo!!!!"
       ]
      },
      {
       "output_type": "stream",
       "stream": "stdout",
       "text": [
        "\n",
        "we're done with the mc loop 13.422171\n",
        "nyooo!!!!"
       ]
      },
      {
       "output_type": "stream",
       "stream": "stdout",
       "text": [
        "\n",
        "we're done with the mc loop 12.604826\n",
        "nyooo!!!!"
       ]
      },
      {
       "output_type": "stream",
       "stream": "stdout",
       "text": [
        "\n",
        "we're done with the mc loop 13.103826\n",
        "barely yes"
       ]
      },
      {
       "output_type": "stream",
       "stream": "stdout",
       "text": [
        "\n",
        "we're done with the mc loop 12.498687\n",
        "nyooo!!!!"
       ]
      },
      {
       "output_type": "stream",
       "stream": "stdout",
       "text": [
        "\n",
        "we're done with the mc loop 11.056562\n",
        "nyooo!!!!"
       ]
      },
      {
       "output_type": "stream",
       "stream": "stdout",
       "text": [
        "\n",
        "we're done with the mc loop 9.495200\n",
        "yes"
       ]
      },
      {
       "output_type": "stream",
       "stream": "stdout",
       "text": [
        "\n",
        "we're done with the mc loop 8.105980\n",
        "nyooo!!!!"
       ]
      },
      {
       "output_type": "stream",
       "stream": "stdout",
       "text": [
        "\n",
        "we're done with the mc loop 10.757948\n",
        "nyooo!!!!"
       ]
      },
      {
       "output_type": "stream",
       "stream": "stdout",
       "text": [
        "\n",
        "we're done with the mc loop 11.258893\n",
        "nyooo!!!!"
       ]
      },
      {
       "output_type": "stream",
       "stream": "stdout",
       "text": [
        "\n",
        "we're done with the mc loop 13.142254\n",
        "nyooo!!!!"
       ]
      },
      {
       "output_type": "stream",
       "stream": "stdout",
       "text": [
        "\n",
        "we're done with the mc loop 13.440705\n",
        "nyooo!!!!"
       ]
      },
      {
       "output_type": "stream",
       "stream": "stdout",
       "text": [
        "\n",
        "we're done with the mc loop 8.688815\n",
        "nyooo!!!!"
       ]
      },
      {
       "output_type": "stream",
       "stream": "stdout",
       "text": [
        "\n",
        "we're done with the mc loop 11.579163\n",
        "nyooo!!!!"
       ]
      },
      {
       "output_type": "stream",
       "stream": "stdout",
       "text": [
        "\n",
        "we're done with the mc loop 12.698273\n",
        "yes"
       ]
      },
      {
       "output_type": "stream",
       "stream": "stdout",
       "text": [
        "\n",
        "we're done with the mc loop 11.618016\n",
        "nyooo!!!!"
       ]
      },
      {
       "output_type": "stream",
       "stream": "stdout",
       "text": [
        "\n",
        "we're done with the mc loop 10.514111\n",
        "nyooo!!!!"
       ]
      },
      {
       "output_type": "stream",
       "stream": "stdout",
       "text": [
        "\n",
        "we're done with the mc loop 11.920476\n",
        "nyooo!!!!"
       ]
      },
      {
       "output_type": "stream",
       "stream": "stdout",
       "text": [
        "\n",
        "we're done with the mc loop 12.719058\n",
        "nyooo!!!!"
       ]
      },
      {
       "output_type": "stream",
       "stream": "stdout",
       "text": [
        "\n",
        "we're done with the mc loop 11.474301\n",
        "nyooo!!!!"
       ]
      },
      {
       "output_type": "stream",
       "stream": "stdout",
       "text": [
        "\n",
        "we're done with the mc loop 13.249700\n",
        "yes"
       ]
      },
      {
       "output_type": "stream",
       "stream": "stdout",
       "text": [
        "\n",
        "we're done with the mc loop 14.253921\n",
        "nyooo!!!!"
       ]
      },
      {
       "output_type": "stream",
       "stream": "stdout",
       "text": [
        "\n",
        "we're done with the mc loop 12.925233\n",
        "nyooo!!!!"
       ]
      },
      {
       "output_type": "stream",
       "stream": "stdout",
       "text": [
        "\n",
        "we're done with the mc loop 11.812592\n",
        "nyooo!!!!"
       ]
      },
      {
       "output_type": "stream",
       "stream": "stdout",
       "text": [
        "\n",
        "we're done with the mc loop 13.172600\n",
        "nyooo!!!!"
       ]
      },
      {
       "output_type": "stream",
       "stream": "stdout",
       "text": [
        "\n",
        "we're done with the mc loop 11.812338\n",
        "yes"
       ]
      },
      {
       "output_type": "stream",
       "stream": "stdout",
       "text": [
        "\n",
        "we're done with the mc loop 11.378377\n",
        "nyooo!!!!"
       ]
      },
      {
       "output_type": "stream",
       "stream": "stdout",
       "text": [
        "\n",
        "we're done with the mc loop 11.799384\n",
        "nyooo!!!!"
       ]
      },
      {
       "output_type": "stream",
       "stream": "stdout",
       "text": [
        "\n",
        "we're done with the mc loop 14.520689\n",
        "nyooo!!!!"
       ]
      },
      {
       "output_type": "stream",
       "stream": "stdout",
       "text": [
        "\n",
        "we're done with the mc loop 12.265776\n",
        "nyooo!!!!"
       ]
      },
      {
       "output_type": "stream",
       "stream": "stdout",
       "text": [
        "\n",
        "we're done with the mc loop 11.224557\n",
        "yes"
       ]
      },
      {
       "output_type": "stream",
       "stream": "stdout",
       "text": [
        "\n",
        "we're done with the mc loop 10.087129\n",
        "nyooo!!!!"
       ]
      },
      {
       "output_type": "stream",
       "stream": "stdout",
       "text": [
        "\n",
        "we're done with the mc loop 9.012033\n",
        "nyooo!!!!"
       ]
      },
      {
       "output_type": "stream",
       "stream": "stdout",
       "text": [
        "\n",
        "we're done with the mc loop 12.642020\n",
        "nyooo!!!!"
       ]
      },
      {
       "output_type": "stream",
       "stream": "stdout",
       "text": [
        "\n",
        "we're done with the mc loop 14.182369\n",
        "nyooo!!!!"
       ]
      },
      {
       "output_type": "stream",
       "stream": "stdout",
       "text": [
        "\n",
        "we're done with the mc loop 14.651808\n",
        "nyooo!!!!"
       ]
      },
      {
       "output_type": "stream",
       "stream": "stdout",
       "text": [
        "\n",
        "we're done with the mc loop 13.487106\n",
        "nyooo!!!!"
       ]
      },
      {
       "output_type": "stream",
       "stream": "stdout",
       "text": [
        "\n",
        "we're done with the mc loop 13.476402\n",
        "nyooo!!!!"
       ]
      },
      {
       "output_type": "stream",
       "stream": "stdout",
       "text": [
        "\n",
        "we're done with the mc loop 15.143570\n",
        "nyooo!!!!"
       ]
      },
      {
       "output_type": "stream",
       "stream": "stdout",
       "text": [
        "\n",
        "we're done with the mc loop 12.006127\n",
        "nyooo!!!!"
       ]
      },
      {
       "output_type": "stream",
       "stream": "stdout",
       "text": [
        "\n",
        "we're done with the mc loop 12.884262\n",
        "nyooo!!!!"
       ]
      },
      {
       "output_type": "stream",
       "stream": "stdout",
       "text": [
        "\n",
        "we're done with the mc loop 15.002186\n",
        "nyooo!!!!"
       ]
      },
      {
       "output_type": "stream",
       "stream": "stdout",
       "text": [
        "\n",
        "we're done with the mc loop 13.108652\n",
        "nyooo!!!!"
       ]
      },
      {
       "output_type": "stream",
       "stream": "stdout",
       "text": [
        "\n",
        "we're done with the mc loop 13.708578\n",
        "nyooo!!!!"
       ]
      },
      {
       "output_type": "stream",
       "stream": "stdout",
       "text": [
        "\n",
        "we're done with the mc loop 10.417829\n",
        "nyooo!!!!"
       ]
      },
      {
       "output_type": "stream",
       "stream": "stdout",
       "text": [
        "\n",
        "we're done with the mc loop 12.804472\n",
        "nyooo!!!!"
       ]
      },
      {
       "output_type": "stream",
       "stream": "stdout",
       "text": [
        "\n",
        "we're done with the mc loop 15.753579\n",
        "nyooo!!!!"
       ]
      },
      {
       "output_type": "stream",
       "stream": "stdout",
       "text": [
        "\n",
        "we're done with the mc loop 13.454843\n",
        "yes"
       ]
      },
      {
       "output_type": "stream",
       "stream": "stdout",
       "text": [
        "\n",
        "we're done with the mc loop 12.248547\n",
        "nyooo!!!!"
       ]
      },
      {
       "output_type": "stream",
       "stream": "stdout",
       "text": [
        "\n",
        "we're done with the mc loop 14.340463\n",
        "nyooo!!!!"
       ]
      },
      {
       "output_type": "stream",
       "stream": "stdout",
       "text": [
        "\n",
        "we're done with the mc loop 14.163203\n",
        "nyooo!!!!"
       ]
      },
      {
       "output_type": "stream",
       "stream": "stdout",
       "text": [
        "\n",
        "we're done with the mc loop 13.363051\n",
        "yes"
       ]
      },
      {
       "output_type": "stream",
       "stream": "stdout",
       "text": [
        "\n",
        "we're done with the mc loop 11.563443\n",
        "yes"
       ]
      },
      {
       "output_type": "stream",
       "stream": "stdout",
       "text": [
        "\n",
        "we're done with the mc loop 7.928092\n",
        "nyooo!!!!"
       ]
      },
      {
       "output_type": "stream",
       "stream": "stdout",
       "text": [
        "\n",
        "we're done with the mc loop 8.044385\n",
        "nyooo!!!!"
       ]
      },
      {
       "output_type": "stream",
       "stream": "stdout",
       "text": [
        "\n",
        "we're done with the mc loop 13.859995\n",
        "nyooo!!!!"
       ]
      },
      {
       "output_type": "stream",
       "stream": "stdout",
       "text": [
        "\n",
        "we're done with the mc loop 9.948566\n",
        "nyooo!!!!"
       ]
      },
      {
       "output_type": "stream",
       "stream": "stdout",
       "text": [
        "\n",
        "we're done with the mc loop 9.782345\n",
        "nyooo!!!!"
       ]
      },
      {
       "output_type": "stream",
       "stream": "stdout",
       "text": [
        "\n",
        "we're done with the mc loop 9.692192\n",
        "nyooo!!!!"
       ]
      },
      {
       "output_type": "stream",
       "stream": "stdout",
       "text": [
        "\n",
        "we're done with the mc loop 10.680306\n",
        "nyooo!!!!"
       ]
      },
      {
       "output_type": "stream",
       "stream": "stdout",
       "text": [
        "\n",
        "we're done with the mc loop 8.435735\n",
        "nyooo!!!!"
       ]
      },
      {
       "output_type": "stream",
       "stream": "stdout",
       "text": [
        "\n",
        "we're done with the mc loop 8.466254\n",
        "nyooo!!!!"
       ]
      },
      {
       "output_type": "stream",
       "stream": "stdout",
       "text": [
        "\n",
        "we're done with the mc loop 7.894421\n",
        "yes"
       ]
      },
      {
       "output_type": "stream",
       "stream": "stdout",
       "text": [
        "\n",
        "we're done with the mc loop 9.600820\n",
        "nyooo!!!!"
       ]
      },
      {
       "output_type": "stream",
       "stream": "stdout",
       "text": [
        "\n",
        "we're done with the mc loop 7.794091\n",
        "nyooo!!!!"
       ]
      },
      {
       "output_type": "stream",
       "stream": "stdout",
       "text": [
        "\n",
        "we're done with the mc loop 9.570298\n",
        "nyooo!!!!"
       ]
      },
      {
       "output_type": "stream",
       "stream": "stdout",
       "text": [
        "\n",
        "we're done with the mc loop 7.532166\n",
        "nyooo!!!!"
       ]
      },
      {
       "output_type": "stream",
       "stream": "stdout",
       "text": [
        "\n",
        "we're done with the mc loop 8.847870\n",
        "yes"
       ]
      },
      {
       "output_type": "stream",
       "stream": "stdout",
       "text": [
        "\n",
        "we're done with the mc loop 9.903852\n",
        "barely yes"
       ]
      },
      {
       "output_type": "stream",
       "stream": "stdout",
       "text": [
        "\n",
        "we're done with the mc loop 9.190973\n",
        "nyooo!!!!"
       ]
      },
      {
       "output_type": "stream",
       "stream": "stdout",
       "text": [
        "\n",
        "we're done with the mc loop 9.198038\n",
        "yes"
       ]
      },
      {
       "output_type": "stream",
       "stream": "stdout",
       "text": [
        "\n",
        "we're done with the mc loop 8.602124\n",
        "nyooo!!!!"
       ]
      },
      {
       "output_type": "stream",
       "stream": "stdout",
       "text": [
        "\n",
        "we're done with the mc loop 7.594035\n",
        "yes"
       ]
      },
      {
       "output_type": "stream",
       "stream": "stdout",
       "text": [
        "\n",
        "we're done with the mc loop 9.248315\n",
        "nyooo!!!!"
       ]
      },
      {
       "output_type": "stream",
       "stream": "stdout",
       "text": [
        "\n",
        "we're done with the mc loop 7.032310\n",
        "nyooo!!!!"
       ]
      },
      {
       "output_type": "stream",
       "stream": "stdout",
       "text": [
        "\n",
        "we're done with the mc loop 6.971461\n",
        "nyooo!!!!"
       ]
      },
      {
       "output_type": "stream",
       "stream": "stdout",
       "text": [
        "\n",
        "we're done with the mc loop 7.887483\n",
        "nyooo!!!!"
       ]
      },
      {
       "output_type": "stream",
       "stream": "stdout",
       "text": [
        "\n",
        "we're done with the mc loop 7.867982\n",
        "barely yes"
       ]
      },
      {
       "output_type": "stream",
       "stream": "stdout",
       "text": [
        "\n",
        "we're done with the mc loop 7.013883\n",
        "yes"
       ]
      },
      {
       "output_type": "stream",
       "stream": "stdout",
       "text": [
        "\n",
        "we're done with the mc loop 6.974282\n",
        "nyooo!!!!"
       ]
      },
      {
       "output_type": "stream",
       "stream": "stdout",
       "text": [
        "\n",
        "we're done with the mc loop 6.936762\n",
        "nyooo!!!!"
       ]
      },
      {
       "output_type": "stream",
       "stream": "stdout",
       "text": [
        "\n",
        "we're done with the mc loop 6.923523\n",
        "nyooo!!!!"
       ]
      },
      {
       "output_type": "stream",
       "stream": "stdout",
       "text": [
        "\n",
        "we're done with the mc loop 8.544086\n",
        "nyooo!!!!"
       ]
      },
      {
       "output_type": "stream",
       "stream": "stdout",
       "text": [
        "\n",
        "we're done with the mc loop 7.474652\n",
        "nyooo!!!!"
       ]
      },
      {
       "output_type": "stream",
       "stream": "stdout",
       "text": [
        "\n",
        "we're done with the mc loop 7.134204\n",
        "nyooo!!!!"
       ]
      },
      {
       "output_type": "stream",
       "stream": "stdout",
       "text": [
        "\n",
        "we're done with the mc loop 9.808389\n",
        "nyooo!!!!"
       ]
      },
      {
       "output_type": "stream",
       "stream": "stdout",
       "text": [
        "\n",
        "we're done with the mc loop 10.796990\n",
        "accepted_moves"
       ]
      },
      {
       "output_type": "stream",
       "stream": "stdout",
       "text": [
        " 449\n"
       ]
      }
     ],
     "prompt_number": 7
    },
    {
     "cell_type": "code",
     "collapsed": false,
     "input": [
      "plt.subplot(121)\n",
      "anarray = np.asarray(radial_dist_before)\n",
      "plt.hist(anarray,10);\n",
      "plt.subplot(122)\n",
      "anotherarray = np.asarray(radial_dist_after)\n",
      "plt.hist(anotherarray,10);"
     ],
     "language": "python",
     "metadata": {},
     "outputs": [
      {
       "metadata": {},
       "output_type": "display_data",
       "png": "[encoded data removed]",
       "text": [
        "<matplotlib.figure.Figure at 0xb4cca44c>"
       ]
      }
     ],
     "prompt_number": 8
    },
    {
     "cell_type": "code",
     "collapsed": false,
     "input": [
      "plt.plot(global_energy)"
     ],
     "language": "python",
     "metadata": {},
     "outputs": [
      {
       "metadata": {},
       "output_type": "pyout",
       "prompt_number": 9,
       "text": [
        "[<matplotlib.lines.Line2D at 0xaffa160c>]"
       ]
      },
      {
       "metadata": {},
       "output_type": "display_data",
       "png": "[encoded data removed]",
       "text": [
        "<matplotlib.figure.Figure at 0xafe56d0c>"
       ]
      }
     ],
     "prompt_number": 9
    },
    {
     "cell_type": "code",
     "collapsed": false,
     "input": [],
     "language": "python",
     "metadata": {},
     "outputs": []
    }
   ],
   "metadata": {}
  }
 ]
}