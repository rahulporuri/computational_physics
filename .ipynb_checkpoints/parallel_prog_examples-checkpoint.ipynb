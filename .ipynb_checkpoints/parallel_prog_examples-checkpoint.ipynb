{
 "metadata": {
  "name": ""
 },
 "nbformat": 3,
 "nbformat_minor": 0,
 "worksheets": [
  {
   "cells": [
    {
     "cell_type": "markdown",
     "metadata": {},
     "source": [
      "http://sebastianraschka.com/Articles/2014_multiprocessing_intro.html\n",
      "\n",
      "https://docs.python.org/dev/library/multiprocessing.html"
     ]
    },
    {
     "cell_type": "code",
     "collapsed": false,
     "input": [
      "import multiprocessing as mp\n",
      "import random\n",
      "import string\n",
      "import numpy as np"
     ],
     "language": "python",
     "metadata": {},
     "outputs": [],
     "prompt_number": 1
    },
    {
     "cell_type": "code",
     "collapsed": false,
     "input": [
      "def lj_force(x):\n",
      "    return (2*(1./x)**13-(1./x)**7)"
     ],
     "language": "python",
     "metadata": {},
     "outputs": [],
     "prompt_number": 2
    },
    {
     "cell_type": "code",
     "collapsed": false,
     "input": [
      "pool = mp.Pool(processes=4)\n",
      "results = [pool.apply(lj_force, args=(x,)) for x in range(1,7)]\n",
      "print(results)"
     ],
     "language": "python",
     "metadata": {},
     "outputs": [
      {
       "output_type": "stream",
       "stream": "stdout",
       "text": [
        "[1.0, -0.007568359375, -0.0004559929198788449, -6.1005353927612305e-05, -1.2798361600000004e-05, -3.5720919533714294e-06]\n"
       ]
      }
     ],
     "prompt_number": 3
    },
    {
     "cell_type": "code",
     "collapsed": false,
     "input": [
      "dist = np.array([0,1,2,3,4,5,6,7,8])\n",
      "def lj_force(x):\n",
      "    return (2*(1./dist[x])**13-(1./dist[x])**7)\n",
      "pool = mp.Pool(processes=4)\n",
      "results = [pool.apply(lj_force, args=(x,)) for x in range(1,7)]\n",
      "print(results)"
     ],
     "language": "python",
     "metadata": {},
     "outputs": [
      {
       "output_type": "stream",
       "stream": "stdout",
       "text": [
        "[1.0, -0.007568359375, -0.0004559929198788449, -6.1005353927612305e-05, -1.2798361600000004e-05, -3.5720919533714294e-06]\n"
       ]
      }
     ],
     "prompt_number": 4
    },
    {
     "cell_type": "code",
     "collapsed": false,
     "input": [
      "from scipy.constants import nano, pico, N_A, m_p, milli, micro\n",
      "import scipy.spatial.distance as spd\n",
      "import numpy as np\n",
      "import time"
     ],
     "language": "python",
     "metadata": {},
     "outputs": [],
     "prompt_number": 5
    },
    {
     "cell_type": "code",
     "collapsed": false,
     "input": [
      "n = 400 # number of atoms in the system\n",
      "#e = sigma = 1.\n",
      "system = np.zeros([n,2,2])\n",
      "# initialization\n",
      "for i in xrange(n):\n",
      "    system[i][0][0] = i%20 +15# positions in a 3X3 lattice\n",
      "    system[i][0][1] = i/20 +15 # 3 is the square root of 9. if n is changed, so should this value!\n",
      "    system[i][1] = np.array([np.random.normal(),np.random.normal()])"
     ],
     "language": "python",
     "metadata": {},
     "outputs": [],
     "prompt_number": 6
    },
    {
     "cell_type": "code",
     "collapsed": false,
     "input": [
      "def lj_force_sum(i):\n",
      "    iforces = 0\n",
      "    for j in xrange(len(system)):\n",
      "        if i != j:\n",
      "            temp = spd.euclidean(system[i][0],system[j][0])\n",
      "            iforces += 2*(1./temp)**13-(1./temp)**7\n",
      "    return iforces"
     ],
     "language": "python",
     "metadata": {},
     "outputs": [],
     "prompt_number": 7
    },
    {
     "cell_type": "code",
     "collapsed": false,
     "input": [
      "def lennard_jones(r):\n",
      "    return (2*(1./r)**13 - (1./r)**7)*milli\n",
      "\n",
      "def update_force(i):\n",
      "    pxdot = 0\n",
      "    pydot = 0\n",
      "    for j in xrange(len(system)):\n",
      "        if j != i :\n",
      "            r = spd.euclidean(system[i][0],system[j][0])\n",
      "            theta = np.arctan((system[j][0][1] - system[i][0][1])/(system[j][0][0] - system[i][0][0]))\n",
      "            theta = theta*180/np.pi\n",
      "            pxdot += lennard_jones(r)*np.cos(theta)\n",
      "            pydot += lennard_jones(r)*np.sin(theta)\n",
      "    return np.array([pxdot, pydot])"
     ],
     "language": "python",
     "metadata": {},
     "outputs": [],
     "prompt_number": 8
    },
    {
     "cell_type": "code",
     "collapsed": false,
     "input": [
      "start_time = time.time()\n",
      "pool = mp.Pool(processes=3)\n",
      "results = [pool.apply(update_force, args=(i,)) for i in range(399)]\n",
      "print time.time()-start_time\n",
      "#print(results)"
     ],
     "language": "python",
     "metadata": {},
     "outputs": [
      {
       "output_type": "stream",
       "stream": "stdout",
       "text": [
        "11.0007920265\n"
       ]
      },
      {
       "output_type": "stream",
       "stream": "stderr",
       "text": [
        "-c:10: RuntimeWarning: divide by zero encountered in double_scalars\n",
        "-c:10: RuntimeWarning: divide by zero encountered in double_scalars\n",
        "-c:10: RuntimeWarning: divide by zero encountered in double_scalars\n"
       ]
      }
     ],
     "prompt_number": 9
    },
    {
     "cell_type": "code",
     "collapsed": false,
     "input": [
      "alist = []\n",
      "start_time = time.time()\n",
      "for i in xrange(len(system)):\n",
      "    alist.append(update_force(i))\n",
      "print time.time()-start_time"
     ],
     "language": "python",
     "metadata": {},
     "outputs": [
      {
       "output_type": "stream",
       "stream": "stdout",
       "text": [
        "8.54602313042\n"
       ]
      }
     ],
     "prompt_number": 18
    },
    {
     "cell_type": "code",
     "collapsed": false,
     "input": [
      "#alist"
     ],
     "language": "python",
     "metadata": {},
     "outputs": [],
     "prompt_number": 10
    },
    {
     "cell_type": "code",
     "collapsed": false,
     "input": [
      "#np.asarray(alist)"
     ],
     "language": "python",
     "metadata": {},
     "outputs": [],
     "prompt_number": 11
    },
    {
     "cell_type": "code",
     "collapsed": false,
     "input": [
      "start_time = time.time()\n",
      "pool = mp.Pool(processes=4)\n",
      "results = [pool.apply_async(update_force, args=(i,)) for i in range(399)]\n",
      "output = [p.get() for p in results]\n",
      "print time.time()-start_time\n",
      "#print(output)"
     ],
     "language": "python",
     "metadata": {},
     "outputs": [
      {
       "output_type": "stream",
       "stream": "stdout",
       "text": [
        "4.18861508369\n"
       ]
      },
      {
       "output_type": "stream",
       "stream": "stderr",
       "text": [
        "-c:10: RuntimeWarning: divide by zero encountered in double_scalars\n",
        "-c:10: RuntimeWarning: divide by zero encountered in double_scalars\n",
        "-c:10: RuntimeWarning: divide by zero encountered in double_scalars\n",
        "-c:10: RuntimeWarning: divide by zero encountered in double_scalars\n"
       ]
      }
     ],
     "prompt_number": 12
    },
    {
     "cell_type": "code",
     "collapsed": false,
     "input": [],
     "language": "python",
     "metadata": {},
     "outputs": []
    }
   ],
   "metadata": {}
  }
 ]
}