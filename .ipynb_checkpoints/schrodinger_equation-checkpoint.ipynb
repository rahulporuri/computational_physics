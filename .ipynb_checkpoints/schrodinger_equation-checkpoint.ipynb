{
 "metadata": {
  "name": ""
 },
 "nbformat": 3,
 "nbformat_minor": 0,
 "worksheets": [
  {
   "cells": [
    {
     "cell_type": "markdown",
     "metadata": {},
     "source": [
      "$$HC = ESC$$\n",
      "\n",
      "$$HUC' = ESUC'$$\n",
      "\n",
      "$$U^\\dagger HUC' = EU^\\dagger SUC'$$\n",
      "\n",
      "we choose the U matrix in such that $U^\\dagger SU$ becomes the identity matrix $I$ and therefore\n",
      "\n",
      "$$H'C' = EC'$$\n",
      "where $H' = U^\\dagger HU$"
     ]
    },
    {
     "cell_type": "code",
     "collapsed": false,
     "input": [
      "import numpy as np\n",
      "import matplotlib.pyplot as plt\n",
      "%matplotlib inline\n",
      "\n",
      "def wave_fn(x,k,m):\n",
      "    return k*(1-x**2)*x**m\n",
      "\n",
      "N = 20; # number of eigen vectors to solve\n",
      "\n",
      "H = np.zeros([N,N])\n",
      "S = np.zeros([N,N])\n",
      "\n",
      "# initiating the H and S matrices.\n",
      "for i in xrange(N):\n",
      "    for j in xrange(N):\n",
      "        if ((i+j)%2==0):\n",
      "            H[i][j] = -8.0*(1.0-i-j-2*i*j)/((i+j+3)*(i+j+1)*(i+j-1))\n",
      "            S[i][j] = 2.0/(i+j+5) - 4.0/(i+j+3) + 2.0/(i+j+1)\n",
      "\n",
      "# converting H & S from array format to matrix format, for convenience.\n",
      "H = np.matrix(H)\n",
      "S = np.matrix(S)\n",
      "\n",
      "a = np.linalg.linalg.eig(S)[0] # the eigenvalues of S \n",
      "A = np.lib.twodim_base.eye(N) # a diagonal matrix of size NXN\n",
      "for i in xrange(N) :\n",
      "    A[i][i] = a[i]\n",
      "\n",
      "A1 = np.linalg.inv(A)\n",
      "A2 = np.sqrt(A1)\n",
      "U = A2*a\n",
      "Hdash = np.matrix.transpose(U)*H*U\n",
      "Cdash = eig(Hdash)[0]\n",
      "\n",
      "x = np.linspace(-1,1)\n",
      "soln = np.zeros(size(x))\n",
      "for i in xrange(N):\n",
      "    soln += wave_fn(x,Cdash[i],i)\n",
      "    \n",
      "plt.plot(soln)\n",
      "#plt.show()"
     ],
     "language": "python",
     "metadata": {},
     "outputs": [
      {
       "metadata": {},
       "output_type": "pyout",
       "prompt_number": 37,
       "text": [
        "[<matplotlib.lines.Line2D at 0xa8f49dec>]"
       ]
      },
      {
       "metadata": {},
       "output_type": "display_data",
       "png": "[encoded data removed]",
       "text": [
        "<matplotlib.figure.Figure at 0xa8f8d22c>"
       ]
      }
     ],
     "prompt_number": 37
    },
    {
     "cell_type": "code",
     "collapsed": false,
     "input": [],
     "language": "python",
     "metadata": {},
     "outputs": []
    }
   ],
   "metadata": {}
  }
 ]
}