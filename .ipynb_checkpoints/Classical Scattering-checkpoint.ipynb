{
 "metadata": {
  "name": ""
 },
 "nbformat": 3,
 "nbformat_minor": 0,
 "worksheets": [
  {
   "cells": [
    {
     "cell_type": "markdown",
     "metadata": {},
     "source": [
      "Numerical solution to Classical Scattering\n",
      "==============\n",
      "\n",
      "$$dr/dt = (2/m)^{1/2}*[E-V-l*l/(2*m*r*r)]^{1/2}$$\n",
      "$$\\theta = \\pi - 2*(l/(2*m)^{1/2})\\int_{0}^{1/r_m}(...)$$"
     ]
    },
    {
     "cell_type": "markdown",
     "metadata": {},
     "source": [
      "we will first study the $\\theta$ dependence on s - distance from the x-axis, then it's dependence on energy of the deflected particle and finally it's dependence on the mass of the deflected particle. also, we will study scattering for a central potential $k/r$ and later for a potential of the type $\\alpha e^{-kr}$\n",
      "\n",
      "1. plot $r_m$ vs s\n",
      "2. plot $\\theta$ vs s \n",
      "3. plot $\\sigma(\\Omega)$ vs s\n",
      "4. plot $\\theta$ vs s for multiple values of energy E and mass m!"
     ]
    },
    {
     "cell_type": "code",
     "collapsed": false,
     "input": [],
     "language": "python",
     "metadata": {},
     "outputs": []
    },
    {
     "cell_type": "code",
     "collapsed": false,
     "input": [
      "import matplotlib.pyplot as plt\n",
      "import scipy.integrate as spyint\n",
      "import numpy as np\n",
      "%matplotlib inline\n",
      "\n",
      "def func(u,s):\n",
      "    return (s/(1-(k*u)/E-(s*s)*(u*u))**0.5)\n",
      "\n",
      "m = 1.67262178*1e-27 #mass of proton in kg\n",
      "q = 1.60217657*1e-19 #charge of proton in coulombs\n",
      "k = q*q*9e+09\n",
      "\n",
      "#E = q*1e+03\n",
      "#v = np.sqrt(2*E/m)\n",
      "v = 3e+05\n",
      "E = (1.0/2.0)*m*v*v\n",
      "\n",
      "dist = np.linspace(1e-15,1e-10,100)\n",
      "theta = np.zeros(len(dist))\n",
      "r_m_array = np.zeros(len(dist))"
     ],
     "language": "python",
     "metadata": {},
     "outputs": [],
     "prompt_number": 156
    },
    {
     "cell_type": "code",
     "collapsed": false,
     "input": [
      "for i in xrange(len(dist)):\n",
      "    s = dist[i]\n",
      "    l = m*s*v\n",
      "    \n",
      "    coeff = [E, -k, -(l*l)/(2*m)]\n",
      "    r_m = np.roots(coeff)[0]\n",
      "    \n",
      "    b = 1/r_m\n",
      "    psi = spyint.quadrature(func, 0, b, args= [s], maxiter=50)[0]\n",
      "    \n",
      "    I = np.pi - 2*psi\n",
      "    theta[i] = I\n",
      "    r_m_array[i] = r_m"
     ],
     "language": "python",
     "metadata": {},
     "outputs": [
      {
       "output_type": "stream",
       "stream": "stderr",
       "text": [
        "/usr/lib/python2.7/dist-packages/scipy/integrate/quadrature.py:178: AccuracyWarning: maxiter (50) exceeded. Latest difference = 1.134810e-07\n",
        "  AccuracyWarning)\n",
        "/usr/lib/python2.7/dist-packages/scipy/integrate/quadrature.py:178: AccuracyWarning: maxiter (50) exceeded. Latest difference = 1.000274e-04\n",
        "  AccuracyWarning)\n"
       ]
      },
      {
       "output_type": "stream",
       "stream": "stderr",
       "text": [
        "/usr/lib/python2.7/dist-packages/scipy/integrate/quadrature.py:178: AccuracyWarning: maxiter (50) exceeded. Latest difference = 1.548460e-04\n",
        "  AccuracyWarning)\n",
        "/usr/lib/python2.7/dist-packages/scipy/integrate/quadrature.py:178: AccuracyWarning: maxiter (50) exceeded. Latest difference = 1.823742e-04\n",
        "  AccuracyWarning)\n"
       ]
      },
      {
       "output_type": "stream",
       "stream": "stderr",
       "text": [
        "/usr/lib/python2.7/dist-packages/scipy/integrate/quadrature.py:178: AccuracyWarning: maxiter (50) exceeded. Latest difference = 1.978004e-04\n",
        "  AccuracyWarning)\n",
        "/usr/lib/python2.7/dist-packages/scipy/integrate/quadrature.py:178: AccuracyWarning: maxiter (50) exceeded. Latest difference = 2.074279e-04\n",
        "  AccuracyWarning)\n"
       ]
      },
      {
       "output_type": "stream",
       "stream": "stderr",
       "text": [
        "/usr/lib/python2.7/dist-packages/scipy/integrate/quadrature.py:178: AccuracyWarning: maxiter (50) exceeded. Latest difference = 2.139420e-04\n",
        "  AccuracyWarning)\n",
        "/usr/lib/python2.7/dist-packages/scipy/integrate/quadrature.py:178: AccuracyWarning: maxiter (50) exceeded. Latest difference = 2.186194e-04\n",
        "  AccuracyWarning)\n"
       ]
      },
      {
       "output_type": "stream",
       "stream": "stderr",
       "text": [
        "/usr/lib/python2.7/dist-packages/scipy/integrate/quadrature.py:178: AccuracyWarning: maxiter (50) exceeded. Latest difference = 2.221317e-04\n",
        "  AccuracyWarning)\n",
        "/usr/lib/python2.7/dist-packages/scipy/integrate/quadrature.py:178: AccuracyWarning: maxiter (50) exceeded. Latest difference = 2.248616e-04\n",
        "  AccuracyWarning)\n"
       ]
      },
      {
       "output_type": "stream",
       "stream": "stderr",
       "text": [
        "/usr/lib/python2.7/dist-packages/scipy/integrate/quadrature.py:178: AccuracyWarning: maxiter (50) exceeded. Latest difference = 2.270424e-04\n",
        "  AccuracyWarning)\n",
        "/usr/lib/python2.7/dist-packages/scipy/integrate/quadrature.py:178: AccuracyWarning: maxiter (50) exceeded. Latest difference = 2.288233e-04\n",
        "  AccuracyWarning)\n"
       ]
      },
      {
       "output_type": "stream",
       "stream": "stderr",
       "text": [
        "/usr/lib/python2.7/dist-packages/scipy/integrate/quadrature.py:178: AccuracyWarning: maxiter (50) exceeded. Latest difference = 2.303046e-04\n",
        "  AccuracyWarning)\n",
        "/usr/lib/python2.7/dist-packages/scipy/integrate/quadrature.py:178: AccuracyWarning: maxiter (50) exceeded. Latest difference = 2.315555e-04\n",
        "  AccuracyWarning)\n"
       ]
      },
      {
       "output_type": "stream",
       "stream": "stderr",
       "text": [
        "/usr/lib/python2.7/dist-packages/scipy/integrate/quadrature.py:178: AccuracyWarning: maxiter (50) exceeded. Latest difference = 2.326258e-04\n",
        "  AccuracyWarning)\n",
        "/usr/lib/python2.7/dist-packages/scipy/integrate/quadrature.py:178: AccuracyWarning: maxiter (50) exceeded. Latest difference = 2.335517e-04\n",
        "  AccuracyWarning)\n"
       ]
      },
      {
       "output_type": "stream",
       "stream": "stderr",
       "text": [
        "/usr/lib/python2.7/dist-packages/scipy/integrate/quadrature.py:178: AccuracyWarning: maxiter (50) exceeded. Latest difference = 2.343605e-04\n",
        "  AccuracyWarning)\n",
        "/usr/lib/python2.7/dist-packages/scipy/integrate/quadrature.py:178: AccuracyWarning: maxiter (50) exceeded. Latest difference = 2.350730e-04\n",
        "  AccuracyWarning)\n"
       ]
      },
      {
       "output_type": "stream",
       "stream": "stderr",
       "text": [
        "/usr/lib/python2.7/dist-packages/scipy/integrate/quadrature.py:178: AccuracyWarning: maxiter (50) exceeded. Latest difference = 2.357055e-04\n",
        "  AccuracyWarning)\n",
        "/usr/lib/python2.7/dist-packages/scipy/integrate/quadrature.py:178: AccuracyWarning: maxiter (50) exceeded. Latest difference = 2.362706e-04\n",
        "  AccuracyWarning)\n"
       ]
      },
      {
       "output_type": "stream",
       "stream": "stderr",
       "text": [
        "/usr/lib/python2.7/dist-packages/scipy/integrate/quadrature.py:178: AccuracyWarning: maxiter (50) exceeded. Latest difference = 2.367786e-04\n",
        "  AccuracyWarning)\n",
        "/usr/lib/python2.7/dist-packages/scipy/integrate/quadrature.py:178: AccuracyWarning: maxiter (50) exceeded. Latest difference = 2.372377e-04\n",
        "  AccuracyWarning)\n"
       ]
      },
      {
       "output_type": "stream",
       "stream": "stderr",
       "text": [
        "/usr/lib/python2.7/dist-packages/scipy/integrate/quadrature.py:178: AccuracyWarning: maxiter (50) exceeded. Latest difference = 2.376546e-04\n",
        "  AccuracyWarning)\n",
        "/usr/lib/python2.7/dist-packages/scipy/integrate/quadrature.py:178: AccuracyWarning: maxiter (50) exceeded. Latest difference = 2.380348e-04\n",
        "  AccuracyWarning)\n"
       ]
      },
      {
       "output_type": "stream",
       "stream": "stderr",
       "text": [
        "/usr/lib/python2.7/dist-packages/scipy/integrate/quadrature.py:178: AccuracyWarning: maxiter (50) exceeded. Latest difference = 2.383830e-04\n",
        "  AccuracyWarning)\n",
        "/usr/lib/python2.7/dist-packages/scipy/integrate/quadrature.py:178: AccuracyWarning: maxiter (50) exceeded. Latest difference = 2.387031e-04\n",
        "  AccuracyWarning)\n"
       ]
      },
      {
       "output_type": "stream",
       "stream": "stderr",
       "text": [
        "/usr/lib/python2.7/dist-packages/scipy/integrate/quadrature.py:178: AccuracyWarning: maxiter (50) exceeded. Latest difference = 2.389983e-04\n",
        "  AccuracyWarning)\n",
        "/usr/lib/python2.7/dist-packages/scipy/integrate/quadrature.py:178: AccuracyWarning: maxiter (50) exceeded. Latest difference = 2.392714e-04\n",
        "  AccuracyWarning)\n"
       ]
      },
      {
       "output_type": "stream",
       "stream": "stderr",
       "text": [
        "/usr/lib/python2.7/dist-packages/scipy/integrate/quadrature.py:178: AccuracyWarning: maxiter (50) exceeded. Latest difference = 2.395248e-04\n",
        "  AccuracyWarning)\n",
        "/usr/lib/python2.7/dist-packages/scipy/integrate/quadrature.py:178: AccuracyWarning: maxiter (50) exceeded. Latest difference = 2.397606e-04\n",
        "  AccuracyWarning)\n"
       ]
      },
      {
       "output_type": "stream",
       "stream": "stderr",
       "text": [
        "/usr/lib/python2.7/dist-packages/scipy/integrate/quadrature.py:178: AccuracyWarning: maxiter (50) exceeded. Latest difference = 2.399805e-04\n",
        "  AccuracyWarning)\n",
        "/usr/lib/python2.7/dist-packages/scipy/integrate/quadrature.py:178: AccuracyWarning: maxiter (50) exceeded. Latest difference = 2.401861e-04\n",
        "  AccuracyWarning)\n"
       ]
      },
      {
       "output_type": "stream",
       "stream": "stderr",
       "text": [
        "/usr/lib/python2.7/dist-packages/scipy/integrate/quadrature.py:178: AccuracyWarning: maxiter (50) exceeded. Latest difference = 2.403787e-04\n",
        "  AccuracyWarning)\n",
        "/usr/lib/python2.7/dist-packages/scipy/integrate/quadrature.py:178: AccuracyWarning: maxiter (50) exceeded. Latest difference = 2.405596e-04\n",
        "  AccuracyWarning)\n"
       ]
      },
      {
       "output_type": "stream",
       "stream": "stderr",
       "text": [
        "/usr/lib/python2.7/dist-packages/scipy/integrate/quadrature.py:178: AccuracyWarning: maxiter (50) exceeded. Latest difference = 2.407297e-04\n",
        "  AccuracyWarning)\n",
        "/usr/lib/python2.7/dist-packages/scipy/integrate/quadrature.py:178: AccuracyWarning: maxiter (50) exceeded. Latest difference = 2.408900e-04\n",
        "  AccuracyWarning)\n"
       ]
      },
      {
       "output_type": "stream",
       "stream": "stderr",
       "text": [
        "/usr/lib/python2.7/dist-packages/scipy/integrate/quadrature.py:178: AccuracyWarning: maxiter (50) exceeded. Latest difference = 2.410413e-04\n",
        "  AccuracyWarning)\n",
        "/usr/lib/python2.7/dist-packages/scipy/integrate/quadrature.py:178: AccuracyWarning: maxiter (50) exceeded. Latest difference = 2.411844e-04\n",
        "  AccuracyWarning)\n"
       ]
      },
      {
       "output_type": "stream",
       "stream": "stderr",
       "text": [
        "/usr/lib/python2.7/dist-packages/scipy/integrate/quadrature.py:178: AccuracyWarning: maxiter (50) exceeded. Latest difference = 2.413199e-04\n",
        "  AccuracyWarning)\n",
        "/usr/lib/python2.7/dist-packages/scipy/integrate/quadrature.py:178: AccuracyWarning: maxiter (50) exceeded. Latest difference = 2.414484e-04\n",
        "  AccuracyWarning)\n"
       ]
      },
      {
       "output_type": "stream",
       "stream": "stderr",
       "text": [
        "/usr/lib/python2.7/dist-packages/scipy/integrate/quadrature.py:178: AccuracyWarning: maxiter (50) exceeded. Latest difference = 2.415705e-04\n",
        "  AccuracyWarning)\n",
        "/usr/lib/python2.7/dist-packages/scipy/integrate/quadrature.py:178: AccuracyWarning: maxiter (50) exceeded. Latest difference = 2.416865e-04\n",
        "  AccuracyWarning)\n"
       ]
      },
      {
       "output_type": "stream",
       "stream": "stderr",
       "text": [
        "/usr/lib/python2.7/dist-packages/scipy/integrate/quadrature.py:178: AccuracyWarning: maxiter (50) exceeded. Latest difference = 2.417970e-04\n",
        "  AccuracyWarning)\n",
        "/usr/lib/python2.7/dist-packages/scipy/integrate/quadrature.py:178: AccuracyWarning: maxiter (50) exceeded. Latest difference = 2.419022e-04\n",
        "  AccuracyWarning)\n"
       ]
      },
      {
       "output_type": "stream",
       "stream": "stderr",
       "text": [
        "/usr/lib/python2.7/dist-packages/scipy/integrate/quadrature.py:178: AccuracyWarning: maxiter (50) exceeded. Latest difference = 2.420027e-04\n",
        "  AccuracyWarning)\n",
        "/usr/lib/python2.7/dist-packages/scipy/integrate/quadrature.py:178: AccuracyWarning: maxiter (50) exceeded. Latest difference = 2.420987e-04\n",
        "  AccuracyWarning)\n"
       ]
      },
      {
       "output_type": "stream",
       "stream": "stderr",
       "text": [
        "/usr/lib/python2.7/dist-packages/scipy/integrate/quadrature.py:178: AccuracyWarning: maxiter (50) exceeded. Latest difference = 2.421905e-04\n",
        "  AccuracyWarning)\n",
        "/usr/lib/python2.7/dist-packages/scipy/integrate/quadrature.py:178: AccuracyWarning: maxiter (50) exceeded. Latest difference = 2.422783e-04\n",
        "  AccuracyWarning)\n"
       ]
      },
      {
       "output_type": "stream",
       "stream": "stderr",
       "text": [
        "/usr/lib/python2.7/dist-packages/scipy/integrate/quadrature.py:178: AccuracyWarning: maxiter (50) exceeded. Latest difference = 2.423624e-04\n",
        "  AccuracyWarning)\n",
        "/usr/lib/python2.7/dist-packages/scipy/integrate/quadrature.py:178: AccuracyWarning: maxiter (50) exceeded. Latest difference = 2.424431e-04\n",
        "  AccuracyWarning)\n"
       ]
      },
      {
       "output_type": "stream",
       "stream": "stderr",
       "text": [
        "/usr/lib/python2.7/dist-packages/scipy/integrate/quadrature.py:178: AccuracyWarning: maxiter (50) exceeded. Latest difference = 2.425206e-04\n",
        "  AccuracyWarning)\n",
        "/usr/lib/python2.7/dist-packages/scipy/integrate/quadrature.py:178: AccuracyWarning: maxiter (50) exceeded. Latest difference = 2.425950e-04\n",
        "  AccuracyWarning)\n"
       ]
      },
      {
       "output_type": "stream",
       "stream": "stderr",
       "text": [
        "/usr/lib/python2.7/dist-packages/scipy/integrate/quadrature.py:178: AccuracyWarning: maxiter (50) exceeded. Latest difference = 2.426665e-04\n",
        "  AccuracyWarning)\n",
        "/usr/lib/python2.7/dist-packages/scipy/integrate/quadrature.py:178: AccuracyWarning: maxiter (50) exceeded. Latest difference = 2.427353e-04\n",
        "  AccuracyWarning)\n"
       ]
      },
      {
       "output_type": "stream",
       "stream": "stderr",
       "text": [
        "/usr/lib/python2.7/dist-packages/scipy/integrate/quadrature.py:178: AccuracyWarning: maxiter (50) exceeded. Latest difference = 2.428015e-04\n",
        "  AccuracyWarning)\n",
        "/usr/lib/python2.7/dist-packages/scipy/integrate/quadrature.py:178: AccuracyWarning: maxiter (50) exceeded. Latest difference = 2.428653e-04\n",
        "  AccuracyWarning)\n"
       ]
      },
      {
       "output_type": "stream",
       "stream": "stderr",
       "text": [
        "/usr/lib/python2.7/dist-packages/scipy/integrate/quadrature.py:178: AccuracyWarning: maxiter (50) exceeded. Latest difference = 2.429269e-04\n",
        "  AccuracyWarning)\n",
        "/usr/lib/python2.7/dist-packages/scipy/integrate/quadrature.py:178: AccuracyWarning: maxiter (50) exceeded. Latest difference = 2.429862e-04\n",
        "  AccuracyWarning)\n"
       ]
      },
      {
       "output_type": "stream",
       "stream": "stderr",
       "text": [
        "/usr/lib/python2.7/dist-packages/scipy/integrate/quadrature.py:178: AccuracyWarning: maxiter (50) exceeded. Latest difference = 2.430435e-04\n",
        "  AccuracyWarning)\n",
        "/usr/lib/python2.7/dist-packages/scipy/integrate/quadrature.py:178: AccuracyWarning: maxiter (50) exceeded. Latest difference = 2.430988e-04\n",
        "  AccuracyWarning)\n"
       ]
      },
      {
       "output_type": "stream",
       "stream": "stderr",
       "text": [
        "/usr/lib/python2.7/dist-packages/scipy/integrate/quadrature.py:178: AccuracyWarning: maxiter (50) exceeded. Latest difference = 2.431523e-04\n",
        "  AccuracyWarning)\n",
        "/usr/lib/python2.7/dist-packages/scipy/integrate/quadrature.py:178: AccuracyWarning: maxiter (50) exceeded. Latest difference = 2.432041e-04\n",
        "  AccuracyWarning)\n"
       ]
      },
      {
       "output_type": "stream",
       "stream": "stderr",
       "text": [
        "/usr/lib/python2.7/dist-packages/scipy/integrate/quadrature.py:178: AccuracyWarning: maxiter (50) exceeded. Latest difference = 2.432541e-04\n",
        "  AccuracyWarning)\n",
        "/usr/lib/python2.7/dist-packages/scipy/integrate/quadrature.py:178: AccuracyWarning: maxiter (50) exceeded. Latest difference = 2.433025e-04\n",
        "  AccuracyWarning)\n"
       ]
      },
      {
       "output_type": "stream",
       "stream": "stderr",
       "text": [
        "/usr/lib/python2.7/dist-packages/scipy/integrate/quadrature.py:178: AccuracyWarning: maxiter (50) exceeded. Latest difference = 2.433495e-04\n",
        "  AccuracyWarning)\n",
        "/usr/lib/python2.7/dist-packages/scipy/integrate/quadrature.py:178: AccuracyWarning: maxiter (50) exceeded. Latest difference = 2.433949e-04\n",
        "  AccuracyWarning)\n"
       ]
      },
      {
       "output_type": "stream",
       "stream": "stderr",
       "text": [
        "/usr/lib/python2.7/dist-packages/scipy/integrate/quadrature.py:178: AccuracyWarning: maxiter (50) exceeded. Latest difference = 2.434390e-04\n",
        "  AccuracyWarning)\n",
        "/usr/lib/python2.7/dist-packages/scipy/integrate/quadrature.py:178: AccuracyWarning: maxiter (50) exceeded. Latest difference = 2.434818e-04\n",
        "  AccuracyWarning)\n"
       ]
      },
      {
       "output_type": "stream",
       "stream": "stderr",
       "text": [
        "/usr/lib/python2.7/dist-packages/scipy/integrate/quadrature.py:178: AccuracyWarning: maxiter (50) exceeded. Latest difference = 2.435233e-04\n",
        "  AccuracyWarning)\n",
        "/usr/lib/python2.7/dist-packages/scipy/integrate/quadrature.py:178: AccuracyWarning: maxiter (50) exceeded. Latest difference = 2.435636e-04\n",
        "  AccuracyWarning)\n"
       ]
      },
      {
       "output_type": "stream",
       "stream": "stderr",
       "text": [
        "/usr/lib/python2.7/dist-packages/scipy/integrate/quadrature.py:178: AccuracyWarning: maxiter (50) exceeded. Latest difference = 2.436027e-04\n",
        "  AccuracyWarning)\n",
        "/usr/lib/python2.7/dist-packages/scipy/integrate/quadrature.py:178: AccuracyWarning: maxiter (50) exceeded. Latest difference = 2.436408e-04\n",
        "  AccuracyWarning)\n"
       ]
      },
      {
       "output_type": "stream",
       "stream": "stderr",
       "text": [
        "/usr/lib/python2.7/dist-packages/scipy/integrate/quadrature.py:178: AccuracyWarning: maxiter (50) exceeded. Latest difference = 2.436777e-04\n",
        "  AccuracyWarning)\n",
        "/usr/lib/python2.7/dist-packages/scipy/integrate/quadrature.py:178: AccuracyWarning: maxiter (50) exceeded. Latest difference = 2.437137e-04\n",
        "  AccuracyWarning)\n"
       ]
      },
      {
       "output_type": "stream",
       "stream": "stderr",
       "text": [
        "/usr/lib/python2.7/dist-packages/scipy/integrate/quadrature.py:178: AccuracyWarning: maxiter (50) exceeded. Latest difference = 2.437486e-04\n",
        "  AccuracyWarning)\n",
        "/usr/lib/python2.7/dist-packages/scipy/integrate/quadrature.py:178: AccuracyWarning: maxiter (50) exceeded. Latest difference = 2.437827e-04\n",
        "  AccuracyWarning)\n"
       ]
      },
      {
       "output_type": "stream",
       "stream": "stderr",
       "text": [
        "/usr/lib/python2.7/dist-packages/scipy/integrate/quadrature.py:178: AccuracyWarning: maxiter (50) exceeded. Latest difference = 2.438158e-04\n",
        "  AccuracyWarning)\n",
        "/usr/lib/python2.7/dist-packages/scipy/integrate/quadrature.py:178: AccuracyWarning: maxiter (50) exceeded. Latest difference = 2.438481e-04\n",
        "  AccuracyWarning)\n"
       ]
      },
      {
       "output_type": "stream",
       "stream": "stderr",
       "text": [
        "/usr/lib/python2.7/dist-packages/scipy/integrate/quadrature.py:178: AccuracyWarning: maxiter (50) exceeded. Latest difference = 2.438795e-04\n",
        "  AccuracyWarning)\n",
        "/usr/lib/python2.7/dist-packages/scipy/integrate/quadrature.py:178: AccuracyWarning: maxiter (50) exceeded. Latest difference = 2.439102e-04\n",
        "  AccuracyWarning)\n"
       ]
      },
      {
       "output_type": "stream",
       "stream": "stderr",
       "text": [
        "/usr/lib/python2.7/dist-packages/scipy/integrate/quadrature.py:178: AccuracyWarning: maxiter (50) exceeded. Latest difference = 2.439400e-04\n",
        "  AccuracyWarning)\n",
        "/usr/lib/python2.7/dist-packages/scipy/integrate/quadrature.py:178: AccuracyWarning: maxiter (50) exceeded. Latest difference = 2.439692e-04\n",
        "  AccuracyWarning)\n"
       ]
      },
      {
       "output_type": "stream",
       "stream": "stderr",
       "text": [
        "/usr/lib/python2.7/dist-packages/scipy/integrate/quadrature.py:178: AccuracyWarning: maxiter (50) exceeded. Latest difference = 2.439976e-04\n",
        "  AccuracyWarning)\n",
        "/usr/lib/python2.7/dist-packages/scipy/integrate/quadrature.py:178: AccuracyWarning: maxiter (50) exceeded. Latest difference = 2.440253e-04\n",
        "  AccuracyWarning)\n"
       ]
      },
      {
       "output_type": "stream",
       "stream": "stderr",
       "text": [
        "/usr/lib/python2.7/dist-packages/scipy/integrate/quadrature.py:178: AccuracyWarning: maxiter (50) exceeded. Latest difference = 2.440524e-04\n",
        "  AccuracyWarning)\n",
        "/usr/lib/python2.7/dist-packages/scipy/integrate/quadrature.py:178: AccuracyWarning: maxiter (50) exceeded. Latest difference = 2.440788e-04\n",
        "  AccuracyWarning)\n"
       ]
      },
      {
       "output_type": "stream",
       "stream": "stderr",
       "text": [
        "/usr/lib/python2.7/dist-packages/scipy/integrate/quadrature.py:178: AccuracyWarning: maxiter (50) exceeded. Latest difference = 2.441046e-04\n",
        "  AccuracyWarning)\n",
        "/usr/lib/python2.7/dist-packages/scipy/integrate/quadrature.py:178: AccuracyWarning: maxiter (50) exceeded. Latest difference = 2.441298e-04\n",
        "  AccuracyWarning)\n"
       ]
      },
      {
       "output_type": "stream",
       "stream": "stderr",
       "text": [
        "/usr/lib/python2.7/dist-packages/scipy/integrate/quadrature.py:178: AccuracyWarning: maxiter (50) exceeded. Latest difference = 2.441545e-04\n",
        "  AccuracyWarning)\n",
        "/usr/lib/python2.7/dist-packages/scipy/integrate/quadrature.py:178: AccuracyWarning: maxiter (50) exceeded. Latest difference = 2.441786e-04\n",
        "  AccuracyWarning)\n"
       ]
      },
      {
       "output_type": "stream",
       "stream": "stderr",
       "text": [
        "/usr/lib/python2.7/dist-packages/scipy/integrate/quadrature.py:178: AccuracyWarning: maxiter (50) exceeded. Latest difference = 2.442021e-04\n",
        "  AccuracyWarning)\n",
        "/usr/lib/python2.7/dist-packages/scipy/integrate/quadrature.py:178: AccuracyWarning: maxiter (50) exceeded. Latest difference = 2.442251e-04\n",
        "  AccuracyWarning)\n"
       ]
      },
      {
       "output_type": "stream",
       "stream": "stderr",
       "text": [
        "/usr/lib/python2.7/dist-packages/scipy/integrate/quadrature.py:178: AccuracyWarning: maxiter (50) exceeded. Latest difference = 2.442477e-04\n",
        "  AccuracyWarning)\n",
        "/usr/lib/python2.7/dist-packages/scipy/integrate/quadrature.py:178: AccuracyWarning: maxiter (50) exceeded. Latest difference = 2.442697e-04\n",
        "  AccuracyWarning)\n"
       ]
      },
      {
       "output_type": "stream",
       "stream": "stderr",
       "text": [
        "/usr/lib/python2.7/dist-packages/scipy/integrate/quadrature.py:178: AccuracyWarning: maxiter (50) exceeded. Latest difference = 2.442913e-04\n",
        "  AccuracyWarning)\n",
        "/usr/lib/python2.7/dist-packages/scipy/integrate/quadrature.py:178: AccuracyWarning: maxiter (50) exceeded. Latest difference = 2.443124e-04\n",
        "  AccuracyWarning)\n"
       ]
      },
      {
       "output_type": "stream",
       "stream": "stderr",
       "text": [
        "/usr/lib/python2.7/dist-packages/scipy/integrate/quadrature.py:178: AccuracyWarning: maxiter (50) exceeded. Latest difference = 2.443331e-04\n",
        "  AccuracyWarning)\n",
        "/usr/lib/python2.7/dist-packages/scipy/integrate/quadrature.py:178: AccuracyWarning: maxiter (50) exceeded. Latest difference = 2.443533e-04\n",
        "  AccuracyWarning)\n"
       ]
      },
      {
       "output_type": "stream",
       "stream": "stderr",
       "text": [
        "/usr/lib/python2.7/dist-packages/scipy/integrate/quadrature.py:178: AccuracyWarning: maxiter (50) exceeded. Latest difference = 2.443731e-04\n",
        "  AccuracyWarning)\n",
        "/usr/lib/python2.7/dist-packages/scipy/integrate/quadrature.py:178: AccuracyWarning: maxiter (50) exceeded. Latest difference = 2.443926e-04\n",
        "  AccuracyWarning)\n"
       ]
      }
     ],
     "prompt_number": 157
    },
    {
     "cell_type": "code",
     "collapsed": false,
     "input": [
      "#print len(r_m_array), len(dist)\n",
      "plt.plot(dist, r_m_array)\n",
      "plt.show()"
     ],
     "language": "python",
     "metadata": {},
     "outputs": [
      {
       "metadata": {},
       "output_type": "display_data",
       "png": "[encoded data removed]",
       "text": [
        "<matplotlib.figure.Figure at 0xafd4de0c>"
       ]
      }
     ],
     "prompt_number": 158
    },
    {
     "cell_type": "code",
     "collapsed": false,
     "input": [
      "plt.plot(dist*1e9,theta)\n",
      "plt.show()"
     ],
     "language": "python",
     "metadata": {},
     "outputs": [
      {
       "metadata": {},
       "output_type": "display_data",
       "png": "[encoded data removed]",
       "text": [
        "<matplotlib.figure.Figure at 0xaf9a682c>"
       ]
      }
     ],
     "prompt_number": 159
    },
    {
     "cell_type": "code",
     "collapsed": false,
     "input": [
      "delta_dist = dist[2] - dist[3]\n",
      "diff = np.gradient(theta,delta_dist)\n",
      "\n",
      "c = s/np.sin(theta)\n",
      "sigma = c/np.abs(diff)\n",
      "sigma_theory = (k/(8*E*E*sin(theta/2)))**2"
     ],
     "language": "python",
     "metadata": {},
     "outputs": [],
     "prompt_number": 160
    },
    {
     "cell_type": "code",
     "collapsed": false,
     "input": [
      "plt.hold(True)\n",
      "plt.semilogy(theta,sigma)\n",
      "plt.semilogy(theta,sigma_theory)\n",
      "\n",
      "plt.ylabel(r'$\\sigma$ (in $m^{-2}$)')\n",
      "plt.xlabel(r'$\\theta$ (in rads)')\n",
      "plt.title(r'Classical Scaterring')\n",
      "plt.legend(['Numerical Result','Theoretical Result'],loc=7)\n",
      "plt.show()"
     ],
     "language": "python",
     "metadata": {},
     "outputs": [
      {
       "metadata": {},
       "output_type": "display_data",
       "png": "[encoded data removed]",
       "text": [
        "<matplotlib.figure.Figure at 0xafd1762c>"
       ]
      }
     ],
     "prompt_number": 161
    },
    {
     "cell_type": "code",
     "collapsed": false,
     "input": [
      "V = np.linspace(3e+03, 3e+05,3)\n",
      "plt.hold(True)\n",
      "for v in V:\n",
      "    for i in xrange(len(dist)):\n",
      "        s = dist[i]\n",
      "        E = (1.0/2.0)*m*v*v\n",
      "        l = m*s*v\n",
      "        \n",
      "        coeff = [E, -k, -(l*l)/(2*m)]\n",
      "        r_m = np.roots(coeff)[0]\n",
      "        \n",
      "        b = 1/r_m\n",
      "        psi = spyint.quadrature(func, 0, b, args= [s], maxiter=50)[0]\n",
      "        \n",
      "        I = np.pi - 2*psi\n",
      "        theta[i] = I\n",
      "        \n",
      "    plt.plot(dist*1e9,theta)    \n",
      "    theta = np.zeros(len(dist))"
     ],
     "language": "python",
     "metadata": {},
     "outputs": [
      {
       "output_type": "stream",
       "stream": "stderr",
       "text": [
        "/usr/lib/python2.7/dist-packages/scipy/integrate/quadrature.py:178: AccuracyWarning: maxiter (50) exceeded. Latest difference = 2.293657e-08\n",
        "  AccuracyWarning)\n",
        "/usr/lib/python2.7/dist-packages/scipy/integrate/quadrature.py:178: AccuracyWarning: maxiter (50) exceeded. Latest difference = 3.439918e-08\n",
        "  AccuracyWarning)\n"
       ]
      },
      {
       "output_type": "stream",
       "stream": "stderr",
       "text": [
        "/usr/lib/python2.7/dist-packages/scipy/integrate/quadrature.py:178: AccuracyWarning: maxiter (50) exceeded. Latest difference = 4.586180e-08\n",
        "  AccuracyWarning)\n",
        "/usr/lib/python2.7/dist-packages/scipy/integrate/quadrature.py:178: AccuracyWarning: maxiter (50) exceeded. Latest difference = 5.732441e-08\n",
        "  AccuracyWarning)\n"
       ]
      },
      {
       "output_type": "stream",
       "stream": "stderr",
       "text": [
        "/usr/lib/python2.7/dist-packages/scipy/integrate/quadrature.py:178: AccuracyWarning: maxiter (50) exceeded. Latest difference = 6.878702e-08\n",
        "  AccuracyWarning)\n",
        "/usr/lib/python2.7/dist-packages/scipy/integrate/quadrature.py:178: AccuracyWarning: maxiter (50) exceeded. Latest difference = 8.024963e-08\n",
        "  AccuracyWarning)\n"
       ]
      },
      {
       "output_type": "stream",
       "stream": "stderr",
       "text": [
        "/usr/lib/python2.7/dist-packages/scipy/integrate/quadrature.py:178: AccuracyWarning: maxiter (50) exceeded. Latest difference = 9.171224e-08\n",
        "  AccuracyWarning)\n",
        "/usr/lib/python2.7/dist-packages/scipy/integrate/quadrature.py:178: AccuracyWarning: maxiter (50) exceeded. Latest difference = 1.031748e-07\n",
        "  AccuracyWarning)\n"
       ]
      },
      {
       "output_type": "stream",
       "stream": "stderr",
       "text": [
        "/usr/lib/python2.7/dist-packages/scipy/integrate/quadrature.py:178: AccuracyWarning: maxiter (50) exceeded. Latest difference = 1.146375e-07\n",
        "  AccuracyWarning)\n",
        "/usr/lib/python2.7/dist-packages/scipy/integrate/quadrature.py:178: AccuracyWarning: maxiter (50) exceeded. Latest difference = 1.261001e-07\n",
        "  AccuracyWarning)\n"
       ]
      },
      {
       "output_type": "stream",
       "stream": "stderr",
       "text": [
        "/usr/lib/python2.7/dist-packages/scipy/integrate/quadrature.py:178: AccuracyWarning: maxiter (50) exceeded. Latest difference = 1.375627e-07\n",
        "  AccuracyWarning)\n",
        "/usr/lib/python2.7/dist-packages/scipy/integrate/quadrature.py:178: AccuracyWarning: maxiter (50) exceeded. Latest difference = 1.490253e-07\n",
        "  AccuracyWarning)\n"
       ]
      },
      {
       "output_type": "stream",
       "stream": "stderr",
       "text": [
        "/usr/lib/python2.7/dist-packages/scipy/integrate/quadrature.py:178: AccuracyWarning: maxiter (50) exceeded. Latest difference = 1.604879e-07\n",
        "  AccuracyWarning)\n",
        "/usr/lib/python2.7/dist-packages/scipy/integrate/quadrature.py:178: AccuracyWarning: maxiter (50) exceeded. Latest difference = 1.719505e-07\n",
        "  AccuracyWarning)\n"
       ]
      },
      {
       "output_type": "stream",
       "stream": "stderr",
       "text": [
        "/usr/lib/python2.7/dist-packages/scipy/integrate/quadrature.py:178: AccuracyWarning: maxiter (50) exceeded. Latest difference = 1.834131e-07\n",
        "  AccuracyWarning)\n",
        "/usr/lib/python2.7/dist-packages/scipy/integrate/quadrature.py:178: AccuracyWarning: maxiter (50) exceeded. Latest difference = 1.948757e-07\n",
        "  AccuracyWarning)\n"
       ]
      },
      {
       "output_type": "stream",
       "stream": "stderr",
       "text": [
        "/usr/lib/python2.7/dist-packages/scipy/integrate/quadrature.py:178: AccuracyWarning: maxiter (50) exceeded. Latest difference = 2.063383e-07\n",
        "  AccuracyWarning)\n",
        "/usr/lib/python2.7/dist-packages/scipy/integrate/quadrature.py:178: AccuracyWarning: maxiter (50) exceeded. Latest difference = 2.178009e-07\n",
        "  AccuracyWarning)\n"
       ]
      },
      {
       "output_type": "stream",
       "stream": "stderr",
       "text": [
        "/usr/lib/python2.7/dist-packages/scipy/integrate/quadrature.py:178: AccuracyWarning: maxiter (50) exceeded. Latest difference = 2.292634e-07\n",
        "  AccuracyWarning)\n",
        "/usr/lib/python2.7/dist-packages/scipy/integrate/quadrature.py:178: AccuracyWarning: maxiter (50) exceeded. Latest difference = 2.407260e-07\n",
        "  AccuracyWarning)\n"
       ]
      },
      {
       "output_type": "stream",
       "stream": "stderr",
       "text": [
        "/usr/lib/python2.7/dist-packages/scipy/integrate/quadrature.py:178: AccuracyWarning: maxiter (50) exceeded. Latest difference = 2.521886e-07\n",
        "  AccuracyWarning)\n",
        "/usr/lib/python2.7/dist-packages/scipy/integrate/quadrature.py:178: AccuracyWarning: maxiter (50) exceeded. Latest difference = 2.636512e-07\n",
        "  AccuracyWarning)\n"
       ]
      },
      {
       "output_type": "stream",
       "stream": "stderr",
       "text": [
        "/usr/lib/python2.7/dist-packages/scipy/integrate/quadrature.py:178: AccuracyWarning: maxiter (50) exceeded. Latest difference = 2.751138e-07\n",
        "  AccuracyWarning)\n",
        "/usr/lib/python2.7/dist-packages/scipy/integrate/quadrature.py:178: AccuracyWarning: maxiter (50) exceeded. Latest difference = 2.865764e-07\n",
        "  AccuracyWarning)\n"
       ]
      },
      {
       "output_type": "stream",
       "stream": "stderr",
       "text": [
        "/usr/lib/python2.7/dist-packages/scipy/integrate/quadrature.py:178: AccuracyWarning: maxiter (50) exceeded. Latest difference = 2.980389e-07\n",
        "  AccuracyWarning)\n",
        "/usr/lib/python2.7/dist-packages/scipy/integrate/quadrature.py:178: AccuracyWarning: maxiter (50) exceeded. Latest difference = 3.095015e-07\n",
        "  AccuracyWarning)\n"
       ]
      },
      {
       "output_type": "stream",
       "stream": "stderr",
       "text": [
        "/usr/lib/python2.7/dist-packages/scipy/integrate/quadrature.py:178: AccuracyWarning: maxiter (50) exceeded. Latest difference = 3.209641e-07\n",
        "  AccuracyWarning)\n",
        "/usr/lib/python2.7/dist-packages/scipy/integrate/quadrature.py:178: AccuracyWarning: maxiter (50) exceeded. Latest difference = 3.324267e-07\n",
        "  AccuracyWarning)\n"
       ]
      },
      {
       "output_type": "stream",
       "stream": "stderr",
       "text": [
        "/usr/lib/python2.7/dist-packages/scipy/integrate/quadrature.py:178: AccuracyWarning: maxiter (50) exceeded. Latest difference = 3.438892e-07\n",
        "  AccuracyWarning)\n",
        "/usr/lib/python2.7/dist-packages/scipy/integrate/quadrature.py:178: AccuracyWarning: maxiter (50) exceeded. Latest difference = 3.553518e-07\n",
        "  AccuracyWarning)\n"
       ]
      },
      {
       "output_type": "stream",
       "stream": "stderr",
       "text": [
        "/usr/lib/python2.7/dist-packages/scipy/integrate/quadrature.py:178: AccuracyWarning: maxiter (50) exceeded. Latest difference = 3.668143e-07\n",
        "  AccuracyWarning)\n",
        "/usr/lib/python2.7/dist-packages/scipy/integrate/quadrature.py:178: AccuracyWarning: maxiter (50) exceeded. Latest difference = 3.782769e-07\n",
        "  AccuracyWarning)\n"
       ]
      },
      {
       "output_type": "stream",
       "stream": "stderr",
       "text": [
        "/usr/lib/python2.7/dist-packages/scipy/integrate/quadrature.py:178: AccuracyWarning: maxiter (50) exceeded. Latest difference = 3.897394e-07\n",
        "  AccuracyWarning)\n",
        "/usr/lib/python2.7/dist-packages/scipy/integrate/quadrature.py:178: AccuracyWarning: maxiter (50) exceeded. Latest difference = 4.012020e-07\n",
        "  AccuracyWarning)\n"
       ]
      },
      {
       "output_type": "stream",
       "stream": "stderr",
       "text": [
        "/usr/lib/python2.7/dist-packages/scipy/integrate/quadrature.py:178: AccuracyWarning: maxiter (50) exceeded. Latest difference = 4.126645e-07\n",
        "  AccuracyWarning)\n",
        "/usr/lib/python2.7/dist-packages/scipy/integrate/quadrature.py:178: AccuracyWarning: maxiter (50) exceeded. Latest difference = 4.241271e-07\n",
        "  AccuracyWarning)\n"
       ]
      },
      {
       "output_type": "stream",
       "stream": "stderr",
       "text": [
        "/usr/lib/python2.7/dist-packages/scipy/integrate/quadrature.py:178: AccuracyWarning: maxiter (50) exceeded. Latest difference = 4.355896e-07\n",
        "  AccuracyWarning)\n",
        "/usr/lib/python2.7/dist-packages/scipy/integrate/quadrature.py:178: AccuracyWarning: maxiter (50) exceeded. Latest difference = 4.470521e-07\n",
        "  AccuracyWarning)\n"
       ]
      },
      {
       "output_type": "stream",
       "stream": "stderr",
       "text": [
        "/usr/lib/python2.7/dist-packages/scipy/integrate/quadrature.py:178: AccuracyWarning: maxiter (50) exceeded. Latest difference = 4.585147e-07\n",
        "  AccuracyWarning)\n",
        "/usr/lib/python2.7/dist-packages/scipy/integrate/quadrature.py:178: AccuracyWarning: maxiter (50) exceeded. Latest difference = 4.699772e-07\n",
        "  AccuracyWarning)\n"
       ]
      },
      {
       "output_type": "stream",
       "stream": "stderr",
       "text": [
        "/usr/lib/python2.7/dist-packages/scipy/integrate/quadrature.py:178: AccuracyWarning: maxiter (50) exceeded. Latest difference = 4.814397e-07\n",
        "  AccuracyWarning)\n",
        "/usr/lib/python2.7/dist-packages/scipy/integrate/quadrature.py:178: AccuracyWarning: maxiter (50) exceeded. Latest difference = 4.929022e-07\n",
        "  AccuracyWarning)\n"
       ]
      },
      {
       "output_type": "stream",
       "stream": "stderr",
       "text": [
        "/usr/lib/python2.7/dist-packages/scipy/integrate/quadrature.py:178: AccuracyWarning: maxiter (50) exceeded. Latest difference = 5.043647e-07\n",
        "  AccuracyWarning)\n",
        "/usr/lib/python2.7/dist-packages/scipy/integrate/quadrature.py:178: AccuracyWarning: maxiter (50) exceeded. Latest difference = 5.158272e-07\n",
        "  AccuracyWarning)\n"
       ]
      },
      {
       "output_type": "stream",
       "stream": "stderr",
       "text": [
        "/usr/lib/python2.7/dist-packages/scipy/integrate/quadrature.py:178: AccuracyWarning: maxiter (50) exceeded. Latest difference = 5.272897e-07\n",
        "  AccuracyWarning)\n",
        "/usr/lib/python2.7/dist-packages/scipy/integrate/quadrature.py:178: AccuracyWarning: maxiter (50) exceeded. Latest difference = 5.387522e-07\n",
        "  AccuracyWarning)\n"
       ]
      },
      {
       "output_type": "stream",
       "stream": "stderr",
       "text": [
        "/usr/lib/python2.7/dist-packages/scipy/integrate/quadrature.py:178: AccuracyWarning: maxiter (50) exceeded. Latest difference = 5.502147e-07\n",
        "  AccuracyWarning)\n",
        "/usr/lib/python2.7/dist-packages/scipy/integrate/quadrature.py:178: AccuracyWarning: maxiter (50) exceeded. Latest difference = 5.616772e-07\n",
        "  AccuracyWarning)\n"
       ]
      },
      {
       "output_type": "stream",
       "stream": "stderr",
       "text": [
        "/usr/lib/python2.7/dist-packages/scipy/integrate/quadrature.py:178: AccuracyWarning: maxiter (50) exceeded. Latest difference = 5.731396e-07\n",
        "  AccuracyWarning)\n",
        "/usr/lib/python2.7/dist-packages/scipy/integrate/quadrature.py:178: AccuracyWarning: maxiter (50) exceeded. Latest difference = 5.846021e-07\n",
        "  AccuracyWarning)\n"
       ]
      },
      {
       "output_type": "stream",
       "stream": "stderr",
       "text": [
        "/usr/lib/python2.7/dist-packages/scipy/integrate/quadrature.py:178: AccuracyWarning: maxiter (50) exceeded. Latest difference = 5.960646e-07\n",
        "  AccuracyWarning)\n",
        "/usr/lib/python2.7/dist-packages/scipy/integrate/quadrature.py:178: AccuracyWarning: maxiter (50) exceeded. Latest difference = 6.075270e-07\n",
        "  AccuracyWarning)\n"
       ]
      },
      {
       "output_type": "stream",
       "stream": "stderr",
       "text": [
        "/usr/lib/python2.7/dist-packages/scipy/integrate/quadrature.py:178: AccuracyWarning: maxiter (50) exceeded. Latest difference = 6.189895e-07\n",
        "  AccuracyWarning)\n",
        "/usr/lib/python2.7/dist-packages/scipy/integrate/quadrature.py:178: AccuracyWarning: maxiter (50) exceeded. Latest difference = 6.304519e-07\n",
        "  AccuracyWarning)\n"
       ]
      },
      {
       "output_type": "stream",
       "stream": "stderr",
       "text": [
        "/usr/lib/python2.7/dist-packages/scipy/integrate/quadrature.py:178: AccuracyWarning: maxiter (50) exceeded. Latest difference = 6.419144e-07\n",
        "  AccuracyWarning)\n",
        "/usr/lib/python2.7/dist-packages/scipy/integrate/quadrature.py:178: AccuracyWarning: maxiter (50) exceeded. Latest difference = 6.533768e-07\n",
        "  AccuracyWarning)\n"
       ]
      },
      {
       "output_type": "stream",
       "stream": "stderr",
       "text": [
        "/usr/lib/python2.7/dist-packages/scipy/integrate/quadrature.py:178: AccuracyWarning: maxiter (50) exceeded. Latest difference = 6.648392e-07\n",
        "  AccuracyWarning)\n",
        "/usr/lib/python2.7/dist-packages/scipy/integrate/quadrature.py:178: AccuracyWarning: maxiter (50) exceeded. Latest difference = 6.763017e-07\n",
        "  AccuracyWarning)\n"
       ]
      },
      {
       "output_type": "stream",
       "stream": "stderr",
       "text": [
        "/usr/lib/python2.7/dist-packages/scipy/integrate/quadrature.py:178: AccuracyWarning: maxiter (50) exceeded. Latest difference = 6.877641e-07\n",
        "  AccuracyWarning)\n",
        "/usr/lib/python2.7/dist-packages/scipy/integrate/quadrature.py:178: AccuracyWarning: maxiter (50) exceeded. Latest difference = 6.992265e-07\n",
        "  AccuracyWarning)\n"
       ]
      },
      {
       "output_type": "stream",
       "stream": "stderr",
       "text": [
        "/usr/lib/python2.7/dist-packages/scipy/integrate/quadrature.py:178: AccuracyWarning: maxiter (50) exceeded. Latest difference = 7.106889e-07\n",
        "  AccuracyWarning)\n",
        "/usr/lib/python2.7/dist-packages/scipy/integrate/quadrature.py:178: AccuracyWarning: maxiter (50) exceeded. Latest difference = 7.221513e-07\n",
        "  AccuracyWarning)\n"
       ]
      },
      {
       "output_type": "stream",
       "stream": "stderr",
       "text": [
        "/usr/lib/python2.7/dist-packages/scipy/integrate/quadrature.py:178: AccuracyWarning: maxiter (50) exceeded. Latest difference = 7.336137e-07\n",
        "  AccuracyWarning)\n",
        "/usr/lib/python2.7/dist-packages/scipy/integrate/quadrature.py:178: AccuracyWarning: maxiter (50) exceeded. Latest difference = 7.450760e-07\n",
        "  AccuracyWarning)\n"
       ]
      },
      {
       "output_type": "stream",
       "stream": "stderr",
       "text": [
        "/usr/lib/python2.7/dist-packages/scipy/integrate/quadrature.py:178: AccuracyWarning: maxiter (50) exceeded. Latest difference = 7.565384e-07\n",
        "  AccuracyWarning)\n",
        "/usr/lib/python2.7/dist-packages/scipy/integrate/quadrature.py:178: AccuracyWarning: maxiter (50) exceeded. Latest difference = 7.680008e-07\n",
        "  AccuracyWarning)\n"
       ]
      },
      {
       "output_type": "stream",
       "stream": "stderr",
       "text": [
        "/usr/lib/python2.7/dist-packages/scipy/integrate/quadrature.py:178: AccuracyWarning: maxiter (50) exceeded. Latest difference = 7.794631e-07\n",
        "  AccuracyWarning)\n",
        "/usr/lib/python2.7/dist-packages/scipy/integrate/quadrature.py:178: AccuracyWarning: maxiter (50) exceeded. Latest difference = 7.909255e-07\n",
        "  AccuracyWarning)\n"
       ]
      },
      {
       "output_type": "stream",
       "stream": "stderr",
       "text": [
        "/usr/lib/python2.7/dist-packages/scipy/integrate/quadrature.py:178: AccuracyWarning: maxiter (50) exceeded. Latest difference = 8.023878e-07\n",
        "  AccuracyWarning)\n",
        "/usr/lib/python2.7/dist-packages/scipy/integrate/quadrature.py:178: AccuracyWarning: maxiter (50) exceeded. Latest difference = 8.138502e-07\n",
        "  AccuracyWarning)\n"
       ]
      },
      {
       "output_type": "stream",
       "stream": "stderr",
       "text": [
        "/usr/lib/python2.7/dist-packages/scipy/integrate/quadrature.py:178: AccuracyWarning: maxiter (50) exceeded. Latest difference = 8.253125e-07\n",
        "  AccuracyWarning)\n",
        "/usr/lib/python2.7/dist-packages/scipy/integrate/quadrature.py:178: AccuracyWarning: maxiter (50) exceeded. Latest difference = 8.367748e-07\n",
        "  AccuracyWarning)\n"
       ]
      },
      {
       "output_type": "stream",
       "stream": "stderr",
       "text": [
        "/usr/lib/python2.7/dist-packages/scipy/integrate/quadrature.py:178: AccuracyWarning: maxiter (50) exceeded. Latest difference = 8.482371e-07\n",
        "  AccuracyWarning)\n",
        "/usr/lib/python2.7/dist-packages/scipy/integrate/quadrature.py:178: AccuracyWarning: maxiter (50) exceeded. Latest difference = 8.596994e-07\n",
        "  AccuracyWarning)\n"
       ]
      },
      {
       "output_type": "stream",
       "stream": "stderr",
       "text": [
        "/usr/lib/python2.7/dist-packages/scipy/integrate/quadrature.py:178: AccuracyWarning: maxiter (50) exceeded. Latest difference = 8.711617e-07\n",
        "  AccuracyWarning)\n",
        "/usr/lib/python2.7/dist-packages/scipy/integrate/quadrature.py:178: AccuracyWarning: maxiter (50) exceeded. Latest difference = 8.826240e-07\n",
        "  AccuracyWarning)\n"
       ]
      },
      {
       "output_type": "stream",
       "stream": "stderr",
       "text": [
        "/usr/lib/python2.7/dist-packages/scipy/integrate/quadrature.py:178: AccuracyWarning: maxiter (50) exceeded. Latest difference = 8.940863e-07\n",
        "  AccuracyWarning)\n",
        "/usr/lib/python2.7/dist-packages/scipy/integrate/quadrature.py:178: AccuracyWarning: maxiter (50) exceeded. Latest difference = 9.055486e-07\n",
        "  AccuracyWarning)\n"
       ]
      },
      {
       "output_type": "stream",
       "stream": "stderr",
       "text": [
        "/usr/lib/python2.7/dist-packages/scipy/integrate/quadrature.py:178: AccuracyWarning: maxiter (50) exceeded. Latest difference = 9.170108e-07\n",
        "  AccuracyWarning)\n",
        "/usr/lib/python2.7/dist-packages/scipy/integrate/quadrature.py:178: AccuracyWarning: maxiter (50) exceeded. Latest difference = 9.284731e-07\n",
        "  AccuracyWarning)\n"
       ]
      },
      {
       "output_type": "stream",
       "stream": "stderr",
       "text": [
        "/usr/lib/python2.7/dist-packages/scipy/integrate/quadrature.py:178: AccuracyWarning: maxiter (50) exceeded. Latest difference = 9.399353e-07\n",
        "  AccuracyWarning)\n",
        "/usr/lib/python2.7/dist-packages/scipy/integrate/quadrature.py:178: AccuracyWarning: maxiter (50) exceeded. Latest difference = 9.513975e-07\n",
        "  AccuracyWarning)\n"
       ]
      },
      {
       "output_type": "stream",
       "stream": "stderr",
       "text": [
        "/usr/lib/python2.7/dist-packages/scipy/integrate/quadrature.py:178: AccuracyWarning: maxiter (50) exceeded. Latest difference = 9.628598e-07\n",
        "  AccuracyWarning)\n",
        "/usr/lib/python2.7/dist-packages/scipy/integrate/quadrature.py:178: AccuracyWarning: maxiter (50) exceeded. Latest difference = 9.743220e-07\n",
        "  AccuracyWarning)\n"
       ]
      },
      {
       "output_type": "stream",
       "stream": "stderr",
       "text": [
        "/usr/lib/python2.7/dist-packages/scipy/integrate/quadrature.py:178: AccuracyWarning: maxiter (50) exceeded. Latest difference = 9.857842e-07\n",
        "  AccuracyWarning)\n",
        "/usr/lib/python2.7/dist-packages/scipy/integrate/quadrature.py:178: AccuracyWarning: maxiter (50) exceeded. Latest difference = 9.972464e-07\n",
        "  AccuracyWarning)\n"
       ]
      },
      {
       "output_type": "stream",
       "stream": "stderr",
       "text": [
        "/usr/lib/python2.7/dist-packages/scipy/integrate/quadrature.py:178: AccuracyWarning: maxiter (50) exceeded. Latest difference = 1.008709e-06\n",
        "  AccuracyWarning)\n",
        "/usr/lib/python2.7/dist-packages/scipy/integrate/quadrature.py:178: AccuracyWarning: maxiter (50) exceeded. Latest difference = 1.020171e-06\n",
        "  AccuracyWarning)\n"
       ]
      },
      {
       "output_type": "stream",
       "stream": "stderr",
       "text": [
        "/usr/lib/python2.7/dist-packages/scipy/integrate/quadrature.py:178: AccuracyWarning: maxiter (50) exceeded. Latest difference = 1.031633e-06\n",
        "  AccuracyWarning)\n",
        "/usr/lib/python2.7/dist-packages/scipy/integrate/quadrature.py:178: AccuracyWarning: maxiter (50) exceeded. Latest difference = 1.043095e-06\n",
        "  AccuracyWarning)\n"
       ]
      },
      {
       "output_type": "stream",
       "stream": "stderr",
       "text": [
        "/usr/lib/python2.7/dist-packages/scipy/integrate/quadrature.py:178: AccuracyWarning: maxiter (50) exceeded. Latest difference = 1.054557e-06\n",
        "  AccuracyWarning)\n",
        "/usr/lib/python2.7/dist-packages/scipy/integrate/quadrature.py:178: AccuracyWarning: maxiter (50) exceeded. Latest difference = 1.066019e-06\n",
        "  AccuracyWarning)\n"
       ]
      },
      {
       "output_type": "stream",
       "stream": "stderr",
       "text": [
        "/usr/lib/python2.7/dist-packages/scipy/integrate/quadrature.py:178: AccuracyWarning: maxiter (50) exceeded. Latest difference = 1.077481e-06\n",
        "  AccuracyWarning)\n",
        "/usr/lib/python2.7/dist-packages/scipy/integrate/quadrature.py:178: AccuracyWarning: maxiter (50) exceeded. Latest difference = 1.088944e-06\n",
        "  AccuracyWarning)\n"
       ]
      },
      {
       "output_type": "stream",
       "stream": "stderr",
       "text": [
        "/usr/lib/python2.7/dist-packages/scipy/integrate/quadrature.py:178: AccuracyWarning: maxiter (50) exceeded. Latest difference = 1.100406e-06\n",
        "  AccuracyWarning)\n",
        "/usr/lib/python2.7/dist-packages/scipy/integrate/quadrature.py:178: AccuracyWarning: maxiter (50) exceeded. Latest difference = 1.111868e-06\n",
        "  AccuracyWarning)\n"
       ]
      },
      {
       "output_type": "stream",
       "stream": "stderr",
       "text": [
        "/usr/lib/python2.7/dist-packages/scipy/integrate/quadrature.py:178: AccuracyWarning: maxiter (50) exceeded. Latest difference = 1.123330e-06\n",
        "  AccuracyWarning)\n",
        "/usr/lib/python2.7/dist-packages/scipy/integrate/quadrature.py:178: AccuracyWarning: maxiter (50) exceeded. Latest difference = 1.134792e-06\n",
        "  AccuracyWarning)\n"
       ]
      },
      {
       "output_type": "stream",
       "stream": "stderr",
       "text": [
        "/usr/lib/python2.7/dist-packages/scipy/integrate/quadrature.py:178: AccuracyWarning: maxiter (50) exceeded. Latest difference = 2.894049e-08\n",
        "  AccuracyWarning)\n",
        "/usr/lib/python2.7/dist-packages/scipy/integrate/quadrature.py:178: AccuracyWarning: maxiter (50) exceeded. Latest difference = 2.895722e-05\n",
        "  AccuracyWarning)\n"
       ]
      },
      {
       "output_type": "stream",
       "stream": "stderr",
       "text": [
        "/usr/lib/python2.7/dist-packages/scipy/integrate/quadrature.py:178: AccuracyWarning: maxiter (50) exceeded. Latest difference = 5.618569e-05\n",
        "  AccuracyWarning)\n",
        "/usr/lib/python2.7/dist-packages/scipy/integrate/quadrature.py:178: AccuracyWarning: maxiter (50) exceeded. Latest difference = 8.052971e-05\n",
        "  AccuracyWarning)\n"
       ]
      },
      {
       "output_type": "stream",
       "stream": "stderr",
       "text": [
        "/usr/lib/python2.7/dist-packages/scipy/integrate/quadrature.py:178: AccuracyWarning: maxiter (50) exceeded. Latest difference = 1.015002e-04\n",
        "  AccuracyWarning)\n",
        "/usr/lib/python2.7/dist-packages/scipy/integrate/quadrature.py:178: AccuracyWarning: maxiter (50) exceeded. Latest difference = 1.191610e-04\n",
        "  AccuracyWarning)\n"
       ]
      },
      {
       "output_type": "stream",
       "stream": "stderr",
       "text": [
        "/usr/lib/python2.7/dist-packages/scipy/integrate/quadrature.py:178: AccuracyWarning: maxiter (50) exceeded. Latest difference = 1.338762e-04\n",
        "  AccuracyWarning)\n",
        "/usr/lib/python2.7/dist-packages/scipy/integrate/quadrature.py:178: AccuracyWarning: maxiter (50) exceeded. Latest difference = 1.461087e-04\n",
        "  AccuracyWarning)\n"
       ]
      },
      {
       "output_type": "stream",
       "stream": "stderr",
       "text": [
        "/usr/lib/python2.7/dist-packages/scipy/integrate/quadrature.py:178: AccuracyWarning: maxiter (50) exceeded. Latest difference = 1.563077e-04\n",
        "  AccuracyWarning)\n",
        "/usr/lib/python2.7/dist-packages/scipy/integrate/quadrature.py:178: AccuracyWarning: maxiter (50) exceeded. Latest difference = 1.648622e-04\n",
        "  AccuracyWarning)\n"
       ]
      },
      {
       "output_type": "stream",
       "stream": "stderr",
       "text": [
        "/usr/lib/python2.7/dist-packages/scipy/integrate/quadrature.py:178: AccuracyWarning: maxiter (50) exceeded. Latest difference = 1.720914e-04\n",
        "  AccuracyWarning)\n",
        "/usr/lib/python2.7/dist-packages/scipy/integrate/quadrature.py:178: AccuracyWarning: maxiter (50) exceeded. Latest difference = 1.782506e-04\n",
        "  AccuracyWarning)\n"
       ]
      },
      {
       "output_type": "stream",
       "stream": "stderr",
       "text": [
        "/usr/lib/python2.7/dist-packages/scipy/integrate/quadrature.py:178: AccuracyWarning: maxiter (50) exceeded. Latest difference = 1.835410e-04\n",
        "  AccuracyWarning)\n",
        "/usr/lib/python2.7/dist-packages/scipy/integrate/quadrature.py:178: AccuracyWarning: maxiter (50) exceeded. Latest difference = 1.881213e-04\n",
        "  AccuracyWarning)\n"
       ]
      },
      {
       "output_type": "stream",
       "stream": "stderr",
       "text": [
        "/usr/lib/python2.7/dist-packages/scipy/integrate/quadrature.py:178: AccuracyWarning: maxiter (50) exceeded. Latest difference = 1.921168e-04\n",
        "  AccuracyWarning)\n",
        "/usr/lib/python2.7/dist-packages/scipy/integrate/quadrature.py:178: AccuracyWarning: maxiter (50) exceeded. Latest difference = 1.956267e-04\n",
        "  AccuracyWarning)\n"
       ]
      },
      {
       "output_type": "stream",
       "stream": "stderr",
       "text": [
        "/usr/lib/python2.7/dist-packages/scipy/integrate/quadrature.py:178: AccuracyWarning: maxiter (50) exceeded. Latest difference = 1.987304e-04\n",
        "  AccuracyWarning)\n",
        "/usr/lib/python2.7/dist-packages/scipy/integrate/quadrature.py:178: AccuracyWarning: maxiter (50) exceeded. Latest difference = 2.014914e-04\n",
        "  AccuracyWarning)\n"
       ]
      },
      {
       "output_type": "stream",
       "stream": "stderr",
       "text": [
        "/usr/lib/python2.7/dist-packages/scipy/integrate/quadrature.py:178: AccuracyWarning: maxiter (50) exceeded. Latest difference = 2.039614e-04\n",
        "  AccuracyWarning)\n",
        "/usr/lib/python2.7/dist-packages/scipy/integrate/quadrature.py:178: AccuracyWarning: maxiter (50) exceeded. Latest difference = 2.061825e-04\n",
        "  AccuracyWarning)\n"
       ]
      },
      {
       "output_type": "stream",
       "stream": "stderr",
       "text": [
        "/usr/lib/python2.7/dist-packages/scipy/integrate/quadrature.py:178: AccuracyWarning: maxiter (50) exceeded. Latest difference = 2.081894e-04\n",
        "  AccuracyWarning)\n",
        "/usr/lib/python2.7/dist-packages/scipy/integrate/quadrature.py:178: AccuracyWarning: maxiter (50) exceeded. Latest difference = 2.100108e-04\n",
        "  AccuracyWarning)\n"
       ]
      },
      {
       "output_type": "stream",
       "stream": "stderr",
       "text": [
        "/usr/lib/python2.7/dist-packages/scipy/integrate/quadrature.py:178: AccuracyWarning: maxiter (50) exceeded. Latest difference = 2.116706e-04\n",
        "  AccuracyWarning)\n",
        "/usr/lib/python2.7/dist-packages/scipy/integrate/quadrature.py:178: AccuracyWarning: maxiter (50) exceeded. Latest difference = 2.131888e-04\n",
        "  AccuracyWarning)\n"
       ]
      },
      {
       "output_type": "stream",
       "stream": "stderr",
       "text": [
        "/usr/lib/python2.7/dist-packages/scipy/integrate/quadrature.py:178: AccuracyWarning: maxiter (50) exceeded. Latest difference = 2.145825e-04\n",
        "  AccuracyWarning)\n",
        "/usr/lib/python2.7/dist-packages/scipy/integrate/quadrature.py:178: AccuracyWarning: maxiter (50) exceeded. Latest difference = 2.158659e-04\n",
        "  AccuracyWarning)\n"
       ]
      },
      {
       "output_type": "stream",
       "stream": "stderr",
       "text": [
        "/usr/lib/python2.7/dist-packages/scipy/integrate/quadrature.py:178: AccuracyWarning: maxiter (50) exceeded. Latest difference = 2.170516e-04\n",
        "  AccuracyWarning)\n",
        "/usr/lib/python2.7/dist-packages/scipy/integrate/quadrature.py:178: AccuracyWarning: maxiter (50) exceeded. Latest difference = 2.181500e-04\n",
        "  AccuracyWarning)\n"
       ]
      },
      {
       "output_type": "stream",
       "stream": "stderr",
       "text": [
        "/usr/lib/python2.7/dist-packages/scipy/integrate/quadrature.py:178: AccuracyWarning: maxiter (50) exceeded. Latest difference = 2.191702e-04\n",
        "  AccuracyWarning)\n",
        "/usr/lib/python2.7/dist-packages/scipy/integrate/quadrature.py:178: AccuracyWarning: maxiter (50) exceeded. Latest difference = 2.201202e-04\n",
        "  AccuracyWarning)\n"
       ]
      },
      {
       "output_type": "stream",
       "stream": "stderr",
       "text": [
        "/usr/lib/python2.7/dist-packages/scipy/integrate/quadrature.py:178: AccuracyWarning: maxiter (50) exceeded. Latest difference = 2.210069e-04\n",
        "  AccuracyWarning)\n",
        "/usr/lib/python2.7/dist-packages/scipy/integrate/quadrature.py:178: AccuracyWarning: maxiter (50) exceeded. Latest difference = 2.218364e-04\n",
        "  AccuracyWarning)\n"
       ]
      },
      {
       "output_type": "stream",
       "stream": "stderr",
       "text": [
        "/usr/lib/python2.7/dist-packages/scipy/integrate/quadrature.py:178: AccuracyWarning: maxiter (50) exceeded. Latest difference = 2.226138e-04\n",
        "  AccuracyWarning)\n",
        "/usr/lib/python2.7/dist-packages/scipy/integrate/quadrature.py:178: AccuracyWarning: maxiter (50) exceeded. Latest difference = 2.233440e-04\n",
        "  AccuracyWarning)\n"
       ]
      },
      {
       "output_type": "stream",
       "stream": "stderr",
       "text": [
        "/usr/lib/python2.7/dist-packages/scipy/integrate/quadrature.py:178: AccuracyWarning: maxiter (50) exceeded. Latest difference = 2.240310e-04\n",
        "  AccuracyWarning)\n",
        "/usr/lib/python2.7/dist-packages/scipy/integrate/quadrature.py:178: AccuracyWarning: maxiter (50) exceeded. Latest difference = 2.246786e-04\n",
        "  AccuracyWarning)\n"
       ]
      },
      {
       "output_type": "stream",
       "stream": "stderr",
       "text": [
        "/usr/lib/python2.7/dist-packages/scipy/integrate/quadrature.py:178: AccuracyWarning: maxiter (50) exceeded. Latest difference = 2.252899e-04\n",
        "  AccuracyWarning)\n",
        "/usr/lib/python2.7/dist-packages/scipy/integrate/quadrature.py:178: AccuracyWarning: maxiter (50) exceeded. Latest difference = 2.258679e-04\n",
        "  AccuracyWarning)\n"
       ]
      },
      {
       "output_type": "stream",
       "stream": "stderr",
       "text": [
        "/usr/lib/python2.7/dist-packages/scipy/integrate/quadrature.py:178: AccuracyWarning: maxiter (50) exceeded. Latest difference = 2.264153e-04\n",
        "  AccuracyWarning)\n",
        "/usr/lib/python2.7/dist-packages/scipy/integrate/quadrature.py:178: AccuracyWarning: maxiter (50) exceeded. Latest difference = 2.269344e-04\n",
        "  AccuracyWarning)\n"
       ]
      },
      {
       "output_type": "stream",
       "stream": "stderr",
       "text": [
        "/usr/lib/python2.7/dist-packages/scipy/integrate/quadrature.py:178: AccuracyWarning: maxiter (50) exceeded. Latest difference = 2.274273e-04\n",
        "  AccuracyWarning)\n",
        "/usr/lib/python2.7/dist-packages/scipy/integrate/quadrature.py:178: AccuracyWarning: maxiter (50) exceeded. Latest difference = 2.278959e-04\n",
        "  AccuracyWarning)\n"
       ]
      },
      {
       "output_type": "stream",
       "stream": "stderr",
       "text": [
        "/usr/lib/python2.7/dist-packages/scipy/integrate/quadrature.py:178: AccuracyWarning: maxiter (50) exceeded. Latest difference = 2.283419e-04\n",
        "  AccuracyWarning)\n",
        "/usr/lib/python2.7/dist-packages/scipy/integrate/quadrature.py:178: AccuracyWarning: maxiter (50) exceeded. Latest difference = 2.287671e-04\n",
        "  AccuracyWarning)\n"
       ]
      },
      {
       "output_type": "stream",
       "stream": "stderr",
       "text": [
        "/usr/lib/python2.7/dist-packages/scipy/integrate/quadrature.py:178: AccuracyWarning: maxiter (50) exceeded. Latest difference = 2.291727e-04\n",
        "  AccuracyWarning)\n",
        "/usr/lib/python2.7/dist-packages/scipy/integrate/quadrature.py:178: AccuracyWarning: maxiter (50) exceeded. Latest difference = 2.295600e-04\n",
        "  AccuracyWarning)\n"
       ]
      },
      {
       "output_type": "stream",
       "stream": "stderr",
       "text": [
        "/usr/lib/python2.7/dist-packages/scipy/integrate/quadrature.py:178: AccuracyWarning: maxiter (50) exceeded. Latest difference = 2.299304e-04\n",
        "  AccuracyWarning)\n",
        "/usr/lib/python2.7/dist-packages/scipy/integrate/quadrature.py:178: AccuracyWarning: maxiter (50) exceeded. Latest difference = 2.302848e-04\n",
        "  AccuracyWarning)\n"
       ]
      },
      {
       "output_type": "stream",
       "stream": "stderr",
       "text": [
        "/usr/lib/python2.7/dist-packages/scipy/integrate/quadrature.py:178: AccuracyWarning: maxiter (50) exceeded. Latest difference = 2.306243e-04\n",
        "  AccuracyWarning)\n",
        "/usr/lib/python2.7/dist-packages/scipy/integrate/quadrature.py:178: AccuracyWarning: maxiter (50) exceeded. Latest difference = 2.309497e-04\n",
        "  AccuracyWarning)\n"
       ]
      },
      {
       "output_type": "stream",
       "stream": "stderr",
       "text": [
        "/usr/lib/python2.7/dist-packages/scipy/integrate/quadrature.py:178: AccuracyWarning: maxiter (50) exceeded. Latest difference = 2.312620e-04\n",
        "  AccuracyWarning)\n",
        "/usr/lib/python2.7/dist-packages/scipy/integrate/quadrature.py:178: AccuracyWarning: maxiter (50) exceeded. Latest difference = 2.315619e-04\n",
        "  AccuracyWarning)\n"
       ]
      },
      {
       "output_type": "stream",
       "stream": "stderr",
       "text": [
        "/usr/lib/python2.7/dist-packages/scipy/integrate/quadrature.py:178: AccuracyWarning: maxiter (50) exceeded. Latest difference = 2.318501e-04\n",
        "  AccuracyWarning)\n",
        "/usr/lib/python2.7/dist-packages/scipy/integrate/quadrature.py:178: AccuracyWarning: maxiter (50) exceeded. Latest difference = 2.321273e-04\n",
        "  AccuracyWarning)\n"
       ]
      },
      {
       "output_type": "stream",
       "stream": "stderr",
       "text": [
        "/usr/lib/python2.7/dist-packages/scipy/integrate/quadrature.py:178: AccuracyWarning: maxiter (50) exceeded. Latest difference = 2.323942e-04\n",
        "  AccuracyWarning)\n",
        "/usr/lib/python2.7/dist-packages/scipy/integrate/quadrature.py:178: AccuracyWarning: maxiter (50) exceeded. Latest difference = 2.326512e-04\n",
        "  AccuracyWarning)\n"
       ]
      },
      {
       "output_type": "stream",
       "stream": "stderr",
       "text": [
        "/usr/lib/python2.7/dist-packages/scipy/integrate/quadrature.py:178: AccuracyWarning: maxiter (50) exceeded. Latest difference = 2.328989e-04\n",
        "  AccuracyWarning)\n",
        "/usr/lib/python2.7/dist-packages/scipy/integrate/quadrature.py:178: AccuracyWarning: maxiter (50) exceeded. Latest difference = 2.331378e-04\n",
        "  AccuracyWarning)\n"
       ]
      },
      {
       "output_type": "stream",
       "stream": "stderr",
       "text": [
        "/usr/lib/python2.7/dist-packages/scipy/integrate/quadrature.py:178: AccuracyWarning: maxiter (50) exceeded. Latest difference = 2.333684e-04\n",
        "  AccuracyWarning)\n",
        "/usr/lib/python2.7/dist-packages/scipy/integrate/quadrature.py:178: AccuracyWarning: maxiter (50) exceeded. Latest difference = 2.335910e-04\n",
        "  AccuracyWarning)\n"
       ]
      },
      {
       "output_type": "stream",
       "stream": "stderr",
       "text": [
        "/usr/lib/python2.7/dist-packages/scipy/integrate/quadrature.py:178: AccuracyWarning: maxiter (50) exceeded. Latest difference = 2.338062e-04\n",
        "  AccuracyWarning)\n",
        "/usr/lib/python2.7/dist-packages/scipy/integrate/quadrature.py:178: AccuracyWarning: maxiter (50) exceeded. Latest difference = 2.340142e-04\n",
        "  AccuracyWarning)\n"
       ]
      },
      {
       "output_type": "stream",
       "stream": "stderr",
       "text": [
        "/usr/lib/python2.7/dist-packages/scipy/integrate/quadrature.py:178: AccuracyWarning: maxiter (50) exceeded. Latest difference = 2.342154e-04\n",
        "  AccuracyWarning)\n",
        "/usr/lib/python2.7/dist-packages/scipy/integrate/quadrature.py:178: AccuracyWarning: maxiter (50) exceeded. Latest difference = 2.344102e-04\n",
        "  AccuracyWarning)\n"
       ]
      },
      {
       "output_type": "stream",
       "stream": "stderr",
       "text": [
        "/usr/lib/python2.7/dist-packages/scipy/integrate/quadrature.py:178: AccuracyWarning: maxiter (50) exceeded. Latest difference = 2.345988e-04\n",
        "  AccuracyWarning)\n",
        "/usr/lib/python2.7/dist-packages/scipy/integrate/quadrature.py:178: AccuracyWarning: maxiter (50) exceeded. Latest difference = 2.347815e-04\n",
        "  AccuracyWarning)\n"
       ]
      },
      {
       "output_type": "stream",
       "stream": "stderr",
       "text": [
        "/usr/lib/python2.7/dist-packages/scipy/integrate/quadrature.py:178: AccuracyWarning: maxiter (50) exceeded. Latest difference = 2.349586e-04\n",
        "  AccuracyWarning)\n",
        "/usr/lib/python2.7/dist-packages/scipy/integrate/quadrature.py:178: AccuracyWarning: maxiter (50) exceeded. Latest difference = 2.351303e-04\n",
        "  AccuracyWarning)\n"
       ]
      },
      {
       "output_type": "stream",
       "stream": "stderr",
       "text": [
        "/usr/lib/python2.7/dist-packages/scipy/integrate/quadrature.py:178: AccuracyWarning: maxiter (50) exceeded. Latest difference = 2.352970e-04\n",
        "  AccuracyWarning)\n",
        "/usr/lib/python2.7/dist-packages/scipy/integrate/quadrature.py:178: AccuracyWarning: maxiter (50) exceeded. Latest difference = 2.354588e-04\n",
        "  AccuracyWarning)\n"
       ]
      },
      {
       "output_type": "stream",
       "stream": "stderr",
       "text": [
        "/usr/lib/python2.7/dist-packages/scipy/integrate/quadrature.py:178: AccuracyWarning: maxiter (50) exceeded. Latest difference = 2.356158e-04\n",
        "  AccuracyWarning)\n",
        "/usr/lib/python2.7/dist-packages/scipy/integrate/quadrature.py:178: AccuracyWarning: maxiter (50) exceeded. Latest difference = 2.357684e-04\n",
        "  AccuracyWarning)\n"
       ]
      },
      {
       "output_type": "stream",
       "stream": "stderr",
       "text": [
        "/usr/lib/python2.7/dist-packages/scipy/integrate/quadrature.py:178: AccuracyWarning: maxiter (50) exceeded. Latest difference = 2.359168e-04\n",
        "  AccuracyWarning)\n",
        "/usr/lib/python2.7/dist-packages/scipy/integrate/quadrature.py:178: AccuracyWarning: maxiter (50) exceeded. Latest difference = 2.360610e-04\n",
        "  AccuracyWarning)\n"
       ]
      },
      {
       "output_type": "stream",
       "stream": "stderr",
       "text": [
        "/usr/lib/python2.7/dist-packages/scipy/integrate/quadrature.py:178: AccuracyWarning: maxiter (50) exceeded. Latest difference = 2.362012e-04\n",
        "  AccuracyWarning)\n",
        "/usr/lib/python2.7/dist-packages/scipy/integrate/quadrature.py:178: AccuracyWarning: maxiter (50) exceeded. Latest difference = 2.363377e-04\n",
        "  AccuracyWarning)\n"
       ]
      },
      {
       "output_type": "stream",
       "stream": "stderr",
       "text": [
        "/usr/lib/python2.7/dist-packages/scipy/integrate/quadrature.py:178: AccuracyWarning: maxiter (50) exceeded. Latest difference = 2.364705e-04\n",
        "  AccuracyWarning)\n",
        "/usr/lib/python2.7/dist-packages/scipy/integrate/quadrature.py:178: AccuracyWarning: maxiter (50) exceeded. Latest difference = 2.365999e-04\n",
        "  AccuracyWarning)\n"
       ]
      },
      {
       "output_type": "stream",
       "stream": "stderr",
       "text": [
        "/usr/lib/python2.7/dist-packages/scipy/integrate/quadrature.py:178: AccuracyWarning: maxiter (50) exceeded. Latest difference = 2.367259e-04\n",
        "  AccuracyWarning)\n",
        "/usr/lib/python2.7/dist-packages/scipy/integrate/quadrature.py:178: AccuracyWarning: maxiter (50) exceeded. Latest difference = 2.368486e-04\n",
        "  AccuracyWarning)\n"
       ]
      },
      {
       "output_type": "stream",
       "stream": "stderr",
       "text": [
        "/usr/lib/python2.7/dist-packages/scipy/integrate/quadrature.py:178: AccuracyWarning: maxiter (50) exceeded. Latest difference = 2.369683e-04\n",
        "  AccuracyWarning)\n",
        "/usr/lib/python2.7/dist-packages/scipy/integrate/quadrature.py:178: AccuracyWarning: maxiter (50) exceeded. Latest difference = 2.370850e-04\n",
        "  AccuracyWarning)\n"
       ]
      },
      {
       "output_type": "stream",
       "stream": "stderr",
       "text": [
        "/usr/lib/python2.7/dist-packages/scipy/integrate/quadrature.py:178: AccuracyWarning: maxiter (50) exceeded. Latest difference = 2.371988e-04\n",
        "  AccuracyWarning)\n",
        "/usr/lib/python2.7/dist-packages/scipy/integrate/quadrature.py:178: AccuracyWarning: maxiter (50) exceeded. Latest difference = 2.373098e-04\n",
        "  AccuracyWarning)\n"
       ]
      },
      {
       "output_type": "stream",
       "stream": "stderr",
       "text": [
        "/usr/lib/python2.7/dist-packages/scipy/integrate/quadrature.py:178: AccuracyWarning: maxiter (50) exceeded. Latest difference = 2.374181e-04\n",
        "  AccuracyWarning)\n",
        "/usr/lib/python2.7/dist-packages/scipy/integrate/quadrature.py:178: AccuracyWarning: maxiter (50) exceeded. Latest difference = 2.375239e-04\n",
        "  AccuracyWarning)\n"
       ]
      },
      {
       "output_type": "stream",
       "stream": "stderr",
       "text": [
        "/usr/lib/python2.7/dist-packages/scipy/integrate/quadrature.py:178: AccuracyWarning: maxiter (50) exceeded. Latest difference = 2.376272e-04\n",
        "  AccuracyWarning)\n",
        "/usr/lib/python2.7/dist-packages/scipy/integrate/quadrature.py:178: AccuracyWarning: maxiter (50) exceeded. Latest difference = 2.377281e-04\n",
        "  AccuracyWarning)\n"
       ]
      },
      {
       "output_type": "stream",
       "stream": "stderr",
       "text": [
        "/usr/lib/python2.7/dist-packages/scipy/integrate/quadrature.py:178: AccuracyWarning: maxiter (50) exceeded. Latest difference = 2.378266e-04\n",
        "  AccuracyWarning)\n",
        "/usr/lib/python2.7/dist-packages/scipy/integrate/quadrature.py:178: AccuracyWarning: maxiter (50) exceeded. Latest difference = 2.379230e-04\n",
        "  AccuracyWarning)\n"
       ]
      },
      {
       "output_type": "stream",
       "stream": "stderr",
       "text": [
        "/usr/lib/python2.7/dist-packages/scipy/integrate/quadrature.py:178: AccuracyWarning: maxiter (50) exceeded. Latest difference = 2.380171e-04\n",
        "  AccuracyWarning)\n",
        "/usr/lib/python2.7/dist-packages/scipy/integrate/quadrature.py:178: AccuracyWarning: maxiter (50) exceeded. Latest difference = 2.381092e-04\n",
        "  AccuracyWarning)\n"
       ]
      },
      {
       "output_type": "stream",
       "stream": "stderr",
       "text": [
        "/usr/lib/python2.7/dist-packages/scipy/integrate/quadrature.py:178: AccuracyWarning: maxiter (50) exceeded. Latest difference = 2.381992e-04\n",
        "  AccuracyWarning)\n",
        "/usr/lib/python2.7/dist-packages/scipy/integrate/quadrature.py:178: AccuracyWarning: maxiter (50) exceeded. Latest difference = 2.382873e-04\n",
        "  AccuracyWarning)\n"
       ]
      },
      {
       "output_type": "stream",
       "stream": "stderr",
       "text": [
        "/usr/lib/python2.7/dist-packages/scipy/integrate/quadrature.py:178: AccuracyWarning: maxiter (50) exceeded. Latest difference = 2.383735e-04\n",
        "  AccuracyWarning)\n",
        "/usr/lib/python2.7/dist-packages/scipy/integrate/quadrature.py:178: AccuracyWarning: maxiter (50) exceeded. Latest difference = 2.384579e-04\n",
        "  AccuracyWarning)\n"
       ]
      },
      {
       "output_type": "stream",
       "stream": "stderr",
       "text": [
        "/usr/lib/python2.7/dist-packages/scipy/integrate/quadrature.py:178: AccuracyWarning: maxiter (50) exceeded. Latest difference = 2.385405e-04\n",
        "  AccuracyWarning)\n",
        "/usr/lib/python2.7/dist-packages/scipy/integrate/quadrature.py:178: AccuracyWarning: maxiter (50) exceeded. Latest difference = 2.386213e-04\n",
        "  AccuracyWarning)\n"
       ]
      },
      {
       "output_type": "stream",
       "stream": "stderr",
       "text": [
        "/usr/lib/python2.7/dist-packages/scipy/integrate/quadrature.py:178: AccuracyWarning: maxiter (50) exceeded. Latest difference = 2.387005e-04\n",
        "  AccuracyWarning)\n",
        "/usr/lib/python2.7/dist-packages/scipy/integrate/quadrature.py:178: AccuracyWarning: maxiter (50) exceeded. Latest difference = 2.387781e-04\n",
        "  AccuracyWarning)\n"
       ]
      },
      {
       "metadata": {},
       "output_type": "display_data",
       "png": "[encoded data removed]",
       "text": [
        "<matplotlib.figure.Figure at 0xb666e58c>"
       ]
      }
     ],
     "prompt_number": 166
    },
    {
     "cell_type": "code",
     "collapsed": false,
     "input": [
      "m_p = 1.67262178*1e-27 #mass of proton in kg\n",
      "M = np.linspace(m_p*1e-03, m_p,2)\n",
      "plt.hold(True)\n",
      "for m in M:\n",
      "    for i in xrange(len(dist)):\n",
      "        s = dist[i]\n",
      "        E = (1.0/2.0)*m*v*v\n",
      "        l = m*s*v\n",
      "        \n",
      "        coeff = [E, -k, -(l*l)/(2*m)]\n",
      "        r_m = np.roots(coeff)[0]\n",
      "        \n",
      "        b = 1/r_m\n",
      "        psi = spyint.quadrature(func, 0, b, args= [s], maxiter=50)[0]\n",
      "        \n",
      "        I = np.pi - 2*psi\n",
      "        theta[i] = I\n",
      "        \n",
      "    plt.plot(dist*1e9,theta)    \n",
      "    theta = np.zeros(len(dist))"
     ],
     "language": "python",
     "metadata": {},
     "outputs": [
      {
       "output_type": "stream",
       "stream": "stderr",
       "text": [
        "/usr/lib/python2.7/dist-packages/scipy/integrate/quadrature.py:178: AccuracyWarning: maxiter (50) exceeded. Latest difference = 1.147396e-07\n",
        "  AccuracyWarning)\n",
        "/usr/lib/python2.7/dist-packages/scipy/integrate/quadrature.py:178: AccuracyWarning: maxiter (50) exceeded. Latest difference = 2.293656e-07\n",
        "  AccuracyWarning)\n"
       ]
      },
      {
       "output_type": "stream",
       "stream": "stderr",
       "text": [
        "/usr/lib/python2.7/dist-packages/scipy/integrate/quadrature.py:178: AccuracyWarning: maxiter (50) exceeded. Latest difference = 3.439914e-07\n",
        "  AccuracyWarning)\n",
        "/usr/lib/python2.7/dist-packages/scipy/integrate/quadrature.py:178: AccuracyWarning: maxiter (50) exceeded. Latest difference = 4.586168e-07\n",
        "  AccuracyWarning)\n"
       ]
      },
      {
       "output_type": "stream",
       "stream": "stderr",
       "text": [
        "/usr/lib/python2.7/dist-packages/scipy/integrate/quadrature.py:178: AccuracyWarning: maxiter (50) exceeded. Latest difference = 5.732418e-07\n",
        "  AccuracyWarning)\n",
        "/usr/lib/python2.7/dist-packages/scipy/integrate/quadrature.py:178: AccuracyWarning: maxiter (50) exceeded. Latest difference = 6.878662e-07\n",
        "  AccuracyWarning)\n"
       ]
      },
      {
       "output_type": "stream",
       "stream": "stderr",
       "text": [
        "/usr/lib/python2.7/dist-packages/scipy/integrate/quadrature.py:178: AccuracyWarning: maxiter (50) exceeded. Latest difference = 8.024900e-07\n",
        "  AccuracyWarning)\n",
        "/usr/lib/python2.7/dist-packages/scipy/integrate/quadrature.py:178: AccuracyWarning: maxiter (50) exceeded. Latest difference = 9.171129e-07\n",
        "  AccuracyWarning)\n"
       ]
      },
      {
       "output_type": "stream",
       "stream": "stderr",
       "text": [
        "/usr/lib/python2.7/dist-packages/scipy/integrate/quadrature.py:178: AccuracyWarning: maxiter (50) exceeded. Latest difference = 1.031735e-06\n",
        "  AccuracyWarning)\n",
        "/usr/lib/python2.7/dist-packages/scipy/integrate/quadrature.py:178: AccuracyWarning: maxiter (50) exceeded. Latest difference = 1.146356e-06\n",
        "  AccuracyWarning)\n"
       ]
      },
      {
       "output_type": "stream",
       "stream": "stderr",
       "text": [
        "/usr/lib/python2.7/dist-packages/scipy/integrate/quadrature.py:178: AccuracyWarning: maxiter (50) exceeded. Latest difference = 1.260976e-06\n",
        "  AccuracyWarning)\n",
        "/usr/lib/python2.7/dist-packages/scipy/integrate/quadrature.py:178: AccuracyWarning: maxiter (50) exceeded. Latest difference = 1.375595e-06\n",
        "  AccuracyWarning)\n"
       ]
      },
      {
       "output_type": "stream",
       "stream": "stderr",
       "text": [
        "/usr/lib/python2.7/dist-packages/scipy/integrate/quadrature.py:178: AccuracyWarning: maxiter (50) exceeded. Latest difference = 1.490212e-06\n",
        "  AccuracyWarning)\n",
        "/usr/lib/python2.7/dist-packages/scipy/integrate/quadrature.py:178: AccuracyWarning: maxiter (50) exceeded. Latest difference = 1.604828e-06\n",
        "  AccuracyWarning)\n"
       ]
      },
      {
       "output_type": "stream",
       "stream": "stderr",
       "text": [
        "/usr/lib/python2.7/dist-packages/scipy/integrate/quadrature.py:178: AccuracyWarning: maxiter (50) exceeded. Latest difference = 1.719442e-06\n",
        "  AccuracyWarning)\n",
        "/usr/lib/python2.7/dist-packages/scipy/integrate/quadrature.py:178: AccuracyWarning: maxiter (50) exceeded. Latest difference = 1.834055e-06\n",
        "  AccuracyWarning)\n"
       ]
      },
      {
       "output_type": "stream",
       "stream": "stderr",
       "text": [
        "/usr/lib/python2.7/dist-packages/scipy/integrate/quadrature.py:178: AccuracyWarning: maxiter (50) exceeded. Latest difference = 1.948666e-06\n",
        "  AccuracyWarning)\n",
        "/usr/lib/python2.7/dist-packages/scipy/integrate/quadrature.py:178: AccuracyWarning: maxiter (50) exceeded. Latest difference = 2.063275e-06\n",
        "  AccuracyWarning)\n"
       ]
      },
      {
       "output_type": "stream",
       "stream": "stderr",
       "text": [
        "/usr/lib/python2.7/dist-packages/scipy/integrate/quadrature.py:178: AccuracyWarning: maxiter (50) exceeded. Latest difference = 2.177882e-06\n",
        "  AccuracyWarning)\n",
        "/usr/lib/python2.7/dist-packages/scipy/integrate/quadrature.py:178: AccuracyWarning: maxiter (50) exceeded. Latest difference = 2.292487e-06\n",
        "  AccuracyWarning)\n"
       ]
      },
      {
       "output_type": "stream",
       "stream": "stderr",
       "text": [
        "/usr/lib/python2.7/dist-packages/scipy/integrate/quadrature.py:178: AccuracyWarning: maxiter (50) exceeded. Latest difference = 2.407090e-06\n",
        "  AccuracyWarning)\n",
        "/usr/lib/python2.7/dist-packages/scipy/integrate/quadrature.py:178: AccuracyWarning: maxiter (50) exceeded. Latest difference = 2.521690e-06\n",
        "  AccuracyWarning)\n"
       ]
      },
      {
       "output_type": "stream",
       "stream": "stderr",
       "text": [
        "/usr/lib/python2.7/dist-packages/scipy/integrate/quadrature.py:178: AccuracyWarning: maxiter (50) exceeded. Latest difference = 2.636288e-06\n",
        "  AccuracyWarning)\n",
        "/usr/lib/python2.7/dist-packages/scipy/integrate/quadrature.py:178: AccuracyWarning: maxiter (50) exceeded. Latest difference = 2.750883e-06\n",
        "  AccuracyWarning)\n"
       ]
      },
      {
       "output_type": "stream",
       "stream": "stderr",
       "text": [
        "/usr/lib/python2.7/dist-packages/scipy/integrate/quadrature.py:178: AccuracyWarning: maxiter (50) exceeded. Latest difference = 2.865476e-06\n",
        "  AccuracyWarning)\n",
        "/usr/lib/python2.7/dist-packages/scipy/integrate/quadrature.py:178: AccuracyWarning: maxiter (50) exceeded. Latest difference = 2.980065e-06\n",
        "  AccuracyWarning)\n"
       ]
      },
      {
       "output_type": "stream",
       "stream": "stderr",
       "text": [
        "/usr/lib/python2.7/dist-packages/scipy/integrate/quadrature.py:178: AccuracyWarning: maxiter (50) exceeded. Latest difference = 3.094652e-06\n",
        "  AccuracyWarning)\n",
        "/usr/lib/python2.7/dist-packages/scipy/integrate/quadrature.py:178: AccuracyWarning: maxiter (50) exceeded. Latest difference = 3.209236e-06\n",
        "  AccuracyWarning)\n"
       ]
      },
      {
       "output_type": "stream",
       "stream": "stderr",
       "text": [
        "/usr/lib/python2.7/dist-packages/scipy/integrate/quadrature.py:178: AccuracyWarning: maxiter (50) exceeded. Latest difference = 3.323817e-06\n",
        "  AccuracyWarning)\n",
        "/usr/lib/python2.7/dist-packages/scipy/integrate/quadrature.py:178: AccuracyWarning: maxiter (50) exceeded. Latest difference = 3.438395e-06\n",
        "  AccuracyWarning)\n"
       ]
      },
      {
       "output_type": "stream",
       "stream": "stderr",
       "text": [
        "/usr/lib/python2.7/dist-packages/scipy/integrate/quadrature.py:178: AccuracyWarning: maxiter (50) exceeded. Latest difference = 3.552969e-06\n",
        "  AccuracyWarning)\n",
        "/usr/lib/python2.7/dist-packages/scipy/integrate/quadrature.py:178: AccuracyWarning: maxiter (50) exceeded. Latest difference = 3.667539e-06\n",
        "  AccuracyWarning)\n"
       ]
      },
      {
       "output_type": "stream",
       "stream": "stderr",
       "text": [
        "/usr/lib/python2.7/dist-packages/scipy/integrate/quadrature.py:178: AccuracyWarning: maxiter (50) exceeded. Latest difference = 3.782107e-06\n",
        "  AccuracyWarning)\n",
        "/usr/lib/python2.7/dist-packages/scipy/integrate/quadrature.py:178: AccuracyWarning: maxiter (50) exceeded. Latest difference = 3.896670e-06\n",
        "  AccuracyWarning)\n"
       ]
      },
      {
       "output_type": "stream",
       "stream": "stderr",
       "text": [
        "/usr/lib/python2.7/dist-packages/scipy/integrate/quadrature.py:178: AccuracyWarning: maxiter (50) exceeded. Latest difference = 4.011230e-06\n",
        "  AccuracyWarning)\n",
        "/usr/lib/python2.7/dist-packages/scipy/integrate/quadrature.py:178: AccuracyWarning: maxiter (50) exceeded. Latest difference = 4.125785e-06\n",
        "  AccuracyWarning)\n"
       ]
      },
      {
       "output_type": "stream",
       "stream": "stderr",
       "text": [
        "/usr/lib/python2.7/dist-packages/scipy/integrate/quadrature.py:178: AccuracyWarning: maxiter (50) exceeded. Latest difference = 4.240337e-06\n",
        "  AccuracyWarning)\n",
        "/usr/lib/python2.7/dist-packages/scipy/integrate/quadrature.py:178: AccuracyWarning: maxiter (50) exceeded. Latest difference = 4.354885e-06\n",
        "  AccuracyWarning)\n"
       ]
      },
      {
       "output_type": "stream",
       "stream": "stderr",
       "text": [
        "/usr/lib/python2.7/dist-packages/scipy/integrate/quadrature.py:178: AccuracyWarning: maxiter (50) exceeded. Latest difference = 4.469428e-06\n",
        "  AccuracyWarning)\n",
        "/usr/lib/python2.7/dist-packages/scipy/integrate/quadrature.py:178: AccuracyWarning: maxiter (50) exceeded. Latest difference = 4.583967e-06\n",
        "  AccuracyWarning)\n"
       ]
      },
      {
       "output_type": "stream",
       "stream": "stderr",
       "text": [
        "/usr/lib/python2.7/dist-packages/scipy/integrate/quadrature.py:178: AccuracyWarning: maxiter (50) exceeded. Latest difference = 4.698502e-06\n",
        "  AccuracyWarning)\n",
        "/usr/lib/python2.7/dist-packages/scipy/integrate/quadrature.py:178: AccuracyWarning: maxiter (50) exceeded. Latest difference = 4.813032e-06\n",
        "  AccuracyWarning)\n"
       ]
      },
      {
       "output_type": "stream",
       "stream": "stderr",
       "text": [
        "/usr/lib/python2.7/dist-packages/scipy/integrate/quadrature.py:178: AccuracyWarning: maxiter (50) exceeded. Latest difference = 4.927557e-06\n",
        "  AccuracyWarning)\n",
        "/usr/lib/python2.7/dist-packages/scipy/integrate/quadrature.py:178: AccuracyWarning: maxiter (50) exceeded. Latest difference = 5.042077e-06\n",
        "  AccuracyWarning)\n"
       ]
      },
      {
       "output_type": "stream",
       "stream": "stderr",
       "text": [
        "/usr/lib/python2.7/dist-packages/scipy/integrate/quadrature.py:178: AccuracyWarning: maxiter (50) exceeded. Latest difference = 5.156593e-06\n",
        "  AccuracyWarning)\n",
        "/usr/lib/python2.7/dist-packages/scipy/integrate/quadrature.py:178: AccuracyWarning: maxiter (50) exceeded. Latest difference = 5.271104e-06\n",
        "  AccuracyWarning)\n"
       ]
      },
      {
       "output_type": "stream",
       "stream": "stderr",
       "text": [
        "/usr/lib/python2.7/dist-packages/scipy/integrate/quadrature.py:178: AccuracyWarning: maxiter (50) exceeded. Latest difference = 5.385609e-06\n",
        "  AccuracyWarning)\n",
        "/usr/lib/python2.7/dist-packages/scipy/integrate/quadrature.py:178: AccuracyWarning: maxiter (50) exceeded. Latest difference = 5.500109e-06\n",
        "  AccuracyWarning)\n"
       ]
      },
      {
       "output_type": "stream",
       "stream": "stderr",
       "text": [
        "/usr/lib/python2.7/dist-packages/scipy/integrate/quadrature.py:178: AccuracyWarning: maxiter (50) exceeded. Latest difference = 5.614604e-06\n",
        "  AccuracyWarning)\n",
        "/usr/lib/python2.7/dist-packages/scipy/integrate/quadrature.py:178: AccuracyWarning: maxiter (50) exceeded. Latest difference = 5.729094e-06\n",
        "  AccuracyWarning)\n"
       ]
      },
      {
       "output_type": "stream",
       "stream": "stderr",
       "text": [
        "/usr/lib/python2.7/dist-packages/scipy/integrate/quadrature.py:178: AccuracyWarning: maxiter (50) exceeded. Latest difference = 5.843577e-06\n",
        "  AccuracyWarning)\n",
        "/usr/lib/python2.7/dist-packages/scipy/integrate/quadrature.py:178: AccuracyWarning: maxiter (50) exceeded. Latest difference = 5.958055e-06\n",
        "  AccuracyWarning)\n"
       ]
      },
      {
       "output_type": "stream",
       "stream": "stderr",
       "text": [
        "/usr/lib/python2.7/dist-packages/scipy/integrate/quadrature.py:178: AccuracyWarning: maxiter (50) exceeded. Latest difference = 6.072528e-06\n",
        "  AccuracyWarning)\n",
        "/usr/lib/python2.7/dist-packages/scipy/integrate/quadrature.py:178: AccuracyWarning: maxiter (50) exceeded. Latest difference = 6.186994e-06\n",
        "  AccuracyWarning)\n"
       ]
      },
      {
       "output_type": "stream",
       "stream": "stderr",
       "text": [
        "/usr/lib/python2.7/dist-packages/scipy/integrate/quadrature.py:178: AccuracyWarning: maxiter (50) exceeded. Latest difference = 6.301455e-06\n",
        "  AccuracyWarning)\n",
        "/usr/lib/python2.7/dist-packages/scipy/integrate/quadrature.py:178: AccuracyWarning: maxiter (50) exceeded. Latest difference = 6.415909e-06\n",
        "  AccuracyWarning)\n"
       ]
      },
      {
       "output_type": "stream",
       "stream": "stderr",
       "text": [
        "/usr/lib/python2.7/dist-packages/scipy/integrate/quadrature.py:178: AccuracyWarning: maxiter (50) exceeded. Latest difference = 6.530357e-06\n",
        "  AccuracyWarning)\n",
        "/usr/lib/python2.7/dist-packages/scipy/integrate/quadrature.py:178: AccuracyWarning: maxiter (50) exceeded. Latest difference = 6.644799e-06\n",
        "  AccuracyWarning)\n"
       ]
      },
      {
       "output_type": "stream",
       "stream": "stderr",
       "text": [
        "/usr/lib/python2.7/dist-packages/scipy/integrate/quadrature.py:178: AccuracyWarning: maxiter (50) exceeded. Latest difference = 6.759234e-06\n",
        "  AccuracyWarning)\n",
        "/usr/lib/python2.7/dist-packages/scipy/integrate/quadrature.py:178: AccuracyWarning: maxiter (50) exceeded. Latest difference = 6.873663e-06\n",
        "  AccuracyWarning)\n"
       ]
      },
      {
       "output_type": "stream",
       "stream": "stderr",
       "text": [
        "/usr/lib/python2.7/dist-packages/scipy/integrate/quadrature.py:178: AccuracyWarning: maxiter (50) exceeded. Latest difference = 6.988085e-06\n",
        "  AccuracyWarning)\n",
        "/usr/lib/python2.7/dist-packages/scipy/integrate/quadrature.py:178: AccuracyWarning: maxiter (50) exceeded. Latest difference = 7.102500e-06\n",
        "  AccuracyWarning)\n"
       ]
      },
      {
       "output_type": "stream",
       "stream": "stderr",
       "text": [
        "/usr/lib/python2.7/dist-packages/scipy/integrate/quadrature.py:178: AccuracyWarning: maxiter (50) exceeded. Latest difference = 7.216908e-06\n",
        "  AccuracyWarning)\n",
        "/usr/lib/python2.7/dist-packages/scipy/integrate/quadrature.py:178: AccuracyWarning: maxiter (50) exceeded. Latest difference = 7.331309e-06\n",
        "  AccuracyWarning)\n"
       ]
      },
      {
       "output_type": "stream",
       "stream": "stderr",
       "text": [
        "/usr/lib/python2.7/dist-packages/scipy/integrate/quadrature.py:178: AccuracyWarning: maxiter (50) exceeded. Latest difference = 7.445704e-06\n",
        "  AccuracyWarning)\n",
        "/usr/lib/python2.7/dist-packages/scipy/integrate/quadrature.py:178: AccuracyWarning: maxiter (50) exceeded. Latest difference = 7.560090e-06\n",
        "  AccuracyWarning)\n"
       ]
      },
      {
       "output_type": "stream",
       "stream": "stderr",
       "text": [
        "/usr/lib/python2.7/dist-packages/scipy/integrate/quadrature.py:178: AccuracyWarning: maxiter (50) exceeded. Latest difference = 7.674470e-06\n",
        "  AccuracyWarning)\n",
        "/usr/lib/python2.7/dist-packages/scipy/integrate/quadrature.py:178: AccuracyWarning: maxiter (50) exceeded. Latest difference = 7.788842e-06\n",
        "  AccuracyWarning)\n"
       ]
      },
      {
       "output_type": "stream",
       "stream": "stderr",
       "text": [
        "/usr/lib/python2.7/dist-packages/scipy/integrate/quadrature.py:178: AccuracyWarning: maxiter (50) exceeded. Latest difference = 7.903207e-06\n",
        "  AccuracyWarning)\n",
        "/usr/lib/python2.7/dist-packages/scipy/integrate/quadrature.py:178: AccuracyWarning: maxiter (50) exceeded. Latest difference = 8.017564e-06\n",
        "  AccuracyWarning)\n"
       ]
      },
      {
       "output_type": "stream",
       "stream": "stderr",
       "text": [
        "/usr/lib/python2.7/dist-packages/scipy/integrate/quadrature.py:178: AccuracyWarning: maxiter (50) exceeded. Latest difference = 8.131913e-06\n",
        "  AccuracyWarning)\n",
        "/usr/lib/python2.7/dist-packages/scipy/integrate/quadrature.py:178: AccuracyWarning: maxiter (50) exceeded. Latest difference = 8.246254e-06\n",
        "  AccuracyWarning)\n"
       ]
      },
      {
       "output_type": "stream",
       "stream": "stderr",
       "text": [
        "/usr/lib/python2.7/dist-packages/scipy/integrate/quadrature.py:178: AccuracyWarning: maxiter (50) exceeded. Latest difference = 8.360587e-06\n",
        "  AccuracyWarning)\n",
        "/usr/lib/python2.7/dist-packages/scipy/integrate/quadrature.py:178: AccuracyWarning: maxiter (50) exceeded. Latest difference = 8.474912e-06\n",
        "  AccuracyWarning)\n"
       ]
      },
      {
       "output_type": "stream",
       "stream": "stderr",
       "text": [
        "/usr/lib/python2.7/dist-packages/scipy/integrate/quadrature.py:178: AccuracyWarning: maxiter (50) exceeded. Latest difference = 8.589229e-06\n",
        "  AccuracyWarning)\n",
        "/usr/lib/python2.7/dist-packages/scipy/integrate/quadrature.py:178: AccuracyWarning: maxiter (50) exceeded. Latest difference = 8.703538e-06\n",
        "  AccuracyWarning)\n"
       ]
      },
      {
       "output_type": "stream",
       "stream": "stderr",
       "text": [
        "/usr/lib/python2.7/dist-packages/scipy/integrate/quadrature.py:178: AccuracyWarning: maxiter (50) exceeded. Latest difference = 8.817838e-06\n",
        "  AccuracyWarning)\n",
        "/usr/lib/python2.7/dist-packages/scipy/integrate/quadrature.py:178: AccuracyWarning: maxiter (50) exceeded. Latest difference = 8.932129e-06\n",
        "  AccuracyWarning)\n"
       ]
      },
      {
       "output_type": "stream",
       "stream": "stderr",
       "text": [
        "/usr/lib/python2.7/dist-packages/scipy/integrate/quadrature.py:178: AccuracyWarning: maxiter (50) exceeded. Latest difference = 9.046412e-06\n",
        "  AccuracyWarning)\n",
        "/usr/lib/python2.7/dist-packages/scipy/integrate/quadrature.py:178: AccuracyWarning: maxiter (50) exceeded. Latest difference = 9.160686e-06\n",
        "  AccuracyWarning)\n"
       ]
      },
      {
       "output_type": "stream",
       "stream": "stderr",
       "text": [
        "/usr/lib/python2.7/dist-packages/scipy/integrate/quadrature.py:178: AccuracyWarning: maxiter (50) exceeded. Latest difference = 9.274951e-06\n",
        "  AccuracyWarning)\n",
        "/usr/lib/python2.7/dist-packages/scipy/integrate/quadrature.py:178: AccuracyWarning: maxiter (50) exceeded. Latest difference = 9.389207e-06\n",
        "  AccuracyWarning)\n"
       ]
      },
      {
       "output_type": "stream",
       "stream": "stderr",
       "text": [
        "/usr/lib/python2.7/dist-packages/scipy/integrate/quadrature.py:178: AccuracyWarning: maxiter (50) exceeded. Latest difference = 9.503454e-06\n",
        "  AccuracyWarning)\n",
        "/usr/lib/python2.7/dist-packages/scipy/integrate/quadrature.py:178: AccuracyWarning: maxiter (50) exceeded. Latest difference = 9.617692e-06\n",
        "  AccuracyWarning)\n"
       ]
      },
      {
       "output_type": "stream",
       "stream": "stderr",
       "text": [
        "/usr/lib/python2.7/dist-packages/scipy/integrate/quadrature.py:178: AccuracyWarning: maxiter (50) exceeded. Latest difference = 9.731921e-06\n",
        "  AccuracyWarning)\n",
        "/usr/lib/python2.7/dist-packages/scipy/integrate/quadrature.py:178: AccuracyWarning: maxiter (50) exceeded. Latest difference = 9.846140e-06\n",
        "  AccuracyWarning)\n"
       ]
      },
      {
       "output_type": "stream",
       "stream": "stderr",
       "text": [
        "/usr/lib/python2.7/dist-packages/scipy/integrate/quadrature.py:178: AccuracyWarning: maxiter (50) exceeded. Latest difference = 9.960350e-06\n",
        "  AccuracyWarning)\n",
        "/usr/lib/python2.7/dist-packages/scipy/integrate/quadrature.py:178: AccuracyWarning: maxiter (50) exceeded. Latest difference = 1.007455e-05\n",
        "  AccuracyWarning)\n"
       ]
      },
      {
       "output_type": "stream",
       "stream": "stderr",
       "text": [
        "/usr/lib/python2.7/dist-packages/scipy/integrate/quadrature.py:178: AccuracyWarning: maxiter (50) exceeded. Latest difference = 1.018874e-05\n",
        "  AccuracyWarning)\n",
        "/usr/lib/python2.7/dist-packages/scipy/integrate/quadrature.py:178: AccuracyWarning: maxiter (50) exceeded. Latest difference = 1.030292e-05\n",
        "  AccuracyWarning)\n"
       ]
      },
      {
       "output_type": "stream",
       "stream": "stderr",
       "text": [
        "/usr/lib/python2.7/dist-packages/scipy/integrate/quadrature.py:178: AccuracyWarning: maxiter (50) exceeded. Latest difference = 1.041709e-05\n",
        "  AccuracyWarning)\n",
        "/usr/lib/python2.7/dist-packages/scipy/integrate/quadrature.py:178: AccuracyWarning: maxiter (50) exceeded. Latest difference = 1.053125e-05\n",
        "  AccuracyWarning)\n"
       ]
      },
      {
       "output_type": "stream",
       "stream": "stderr",
       "text": [
        "/usr/lib/python2.7/dist-packages/scipy/integrate/quadrature.py:178: AccuracyWarning: maxiter (50) exceeded. Latest difference = 1.064540e-05\n",
        "  AccuracyWarning)\n",
        "/usr/lib/python2.7/dist-packages/scipy/integrate/quadrature.py:178: AccuracyWarning: maxiter (50) exceeded. Latest difference = 1.075954e-05\n",
        "  AccuracyWarning)\n"
       ]
      },
      {
       "output_type": "stream",
       "stream": "stderr",
       "text": [
        "/usr/lib/python2.7/dist-packages/scipy/integrate/quadrature.py:178: AccuracyWarning: maxiter (50) exceeded. Latest difference = 1.087367e-05\n",
        "  AccuracyWarning)\n",
        "/usr/lib/python2.7/dist-packages/scipy/integrate/quadrature.py:178: AccuracyWarning: maxiter (50) exceeded. Latest difference = 1.098779e-05\n",
        "  AccuracyWarning)\n"
       ]
      },
      {
       "output_type": "stream",
       "stream": "stderr",
       "text": [
        "/usr/lib/python2.7/dist-packages/scipy/integrate/quadrature.py:178: AccuracyWarning: maxiter (50) exceeded. Latest difference = 1.110190e-05\n",
        "  AccuracyWarning)\n",
        "/usr/lib/python2.7/dist-packages/scipy/integrate/quadrature.py:178: AccuracyWarning: maxiter (50) exceeded. Latest difference = 1.121599e-05\n",
        "  AccuracyWarning)\n"
       ]
      },
      {
       "output_type": "stream",
       "stream": "stderr",
       "text": [
        "/usr/lib/python2.7/dist-packages/scipy/integrate/quadrature.py:178: AccuracyWarning: maxiter (50) exceeded. Latest difference = 1.133008e-05\n",
        "  AccuracyWarning)\n"
       ]
      },
      {
       "metadata": {},
       "output_type": "display_data",
       "png": "[encoded data removed]",
       "text": [
        "<matplotlib.figure.Figure at 0xb00fdbcc>"
       ]
      }
     ],
     "prompt_number": 162
    },
    {
     "cell_type": "code",
     "collapsed": false,
     "input": [],
     "language": "python",
     "metadata": {},
     "outputs": []
    }
   ],
   "metadata": {}
  }
 ]
}