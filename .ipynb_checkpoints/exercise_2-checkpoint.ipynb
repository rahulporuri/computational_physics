{
 "metadata": {
  "name": ""
 },
 "nbformat": 3,
 "nbformat_minor": 0,
 "worksheets": [
  {
   "cells": [
    {
     "cell_type": "markdown",
     "metadata": {},
     "source": [
      "summing series\n",
      "===="
     ]
    },
    {
     "cell_type": "code",
     "collapsed": false,
     "input": [
      "import numpy as np\n",
      "import time\n",
      "sup = []\n",
      "for i in xrange(1,9):\n",
      "    temp = 0\n",
      "    start_time = time.time()\n",
      "    for j in xrange(1,np.power(10,i)):\n",
      "       temp += 1.0/j\n",
      "    sup.append(temp)\n",
      "    print \"--- %s seconds to compute sum till 10 power %s\" %(time.time() - start_time), %i"
     ],
     "language": "python",
     "metadata": {},
     "outputs": [
      {
       "output_type": "stream",
       "stream": "stdout",
       "text": [
        "--- 0.00116205215454 seconds ---\n",
        "--- 0.00161218643188 seconds ---\n",
        "--- 0.00386214256287 seconds ---\n",
        "--- 0.0245220661163 seconds ---\n",
        "--- 0.163347959518 seconds ---"
       ]
      },
      {
       "output_type": "stream",
       "stream": "stdout",
       "text": [
        "\n",
        "--- 1.31109905243 seconds ---"
       ]
      },
      {
       "output_type": "stream",
       "stream": "stdout",
       "text": [
        "\n",
        "--- 12.5030059814 seconds ---"
       ]
      },
      {
       "output_type": "stream",
       "stream": "stdout",
       "text": [
        "\n",
        "--- 125.884307146 seconds ---"
       ]
      },
      {
       "output_type": "stream",
       "stream": "stdout",
       "text": [
        "\n"
       ]
      }
     ],
     "prompt_number": 46
    },
    {
     "cell_type": "code",
     "collapsed": false,
     "input": [
      "import numpy as np\n",
      "import time\n",
      "sdown = []\n",
      "for i in xrange(1,8):\n",
      "    temp = 0\n",
      "    start_time = time.time()\n",
      "    for j in xrange(1,np.power(10,i)):\n",
      "       temp += 1.0/(np.power(10,i)-j)\n",
      "    sdown.append(temp)\n",
      "    print \"---%s seconds ---\" %(time.time() - start_time)"
     ],
     "language": "python",
     "metadata": {},
     "outputs": [
      {
       "output_type": "stream",
       "stream": "stdout",
       "text": [
        "---0.000452995300293 seconds ---\n",
        "---0.00282311439514 seconds ---\n",
        "---0.0334289073944 seconds ---\n",
        "---0.333340167999 seconds ---"
       ]
      },
      {
       "output_type": "stream",
       "stream": "stdout",
       "text": [
        "\n",
        "---2.68678212166 seconds ---"
       ]
      },
      {
       "output_type": "stream",
       "stream": "stdout",
       "text": [
        "\n",
        "---27.8036839962 seconds ---"
       ]
      },
      {
       "output_type": "stream",
       "stream": "stdout",
       "text": [
        "\n",
        "---273.572146893 seconds ---"
       ]
      },
      {
       "output_type": "stream",
       "stream": "stdout",
       "text": [
        "\n"
       ]
      }
     ],
     "prompt_number": 58
    },
    {
     "cell_type": "code",
     "collapsed": false,
     "input": [
      "sup = np.asarray(sup)\n",
      "sdown = np.asarray(sdown)\n",
      "e = []\n",
      "for i in xrange(len(sdown)):\n",
      "    e.append(abs(2.0*(sup[i]-sdown[i])/(sup[i]+sdown[i])))\n",
      "    \n",
      "import matplotlib.pyplot as plt\n",
      "%matplotlib inline\n",
      "plt.plot(e)"
     ],
     "language": "python",
     "metadata": {},
     "outputs": [
      {
       "metadata": {},
       "output_type": "pyout",
       "prompt_number": 78,
       "text": [
        "[<matplotlib.lines.Line2D at 0xb02f90ac>]"
       ]
      },
      {
       "metadata": {},
       "output_type": "display_data",
       "png": "[encoded data removed]",
       "text": [
        "<matplotlib.figure.Figure at 0xb1216eac>"
       ]
      }
     ],
     "prompt_number": 78
    },
    {
     "cell_type": "raw",
     "metadata": {},
     "source": [
      "implementation using while loops instead of for loops to check which is faster."
     ]
    },
    {
     "cell_type": "code",
     "collapsed": false,
     "input": [
      "import numpy as np\n",
      "import time\n",
      "sup = []\n",
      "i = 1\n",
      "while i < 5:\n",
      "    temp = 0\n",
      "    start_time = time.time()\n",
      "    j = 1\n",
      "    while j < np.power(10,i):\n",
      "        temp += 1.0/j\n",
      "        j += 1\n",
      "    i += 1\n",
      "    sup.append(temp)\n",
      "    print \"---%s seconds ---\" %(time.time() - start_time)"
     ],
     "language": "python",
     "metadata": {},
     "outputs": []
    },
    {
     "cell_type": "code",
     "collapsed": false,
     "input": [
      "import numpy as np\n",
      "import time\n",
      "sdown = []\n",
      "i = 1\n",
      "while i < 5:\n",
      "    temp = 0\n",
      "    start_time = time.time()\n",
      "    j = 1\n",
      "    while j < np.power(10,i):\n",
      "        temp += 1.0/(np.power(10,i)-j)\n",
      "        j += 1\n",
      "    i += 1\n",
      "    sdown.append(temp)\n",
      "    print \"---%s seconds ---\" %(time.time() - start_time)"
     ],
     "language": "python",
     "metadata": {},
     "outputs": []
    },
    {
     "cell_type": "code",
     "collapsed": false,
     "input": [],
     "language": "python",
     "metadata": {},
     "outputs": []
    }
   ],
   "metadata": {}
  }
 ]
}