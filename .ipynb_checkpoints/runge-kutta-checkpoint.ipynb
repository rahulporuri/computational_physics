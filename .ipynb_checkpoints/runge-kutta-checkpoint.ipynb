{
 "metadata": {
  "name": ""
 },
 "nbformat": 3,
 "nbformat_minor": 0,
 "worksheets": [
  {
   "cells": [
    {
     "cell_type": "raw",
     "metadata": {},
     "source": [
      "---> the normal way\n",
      "we have an initial position r\n",
      "for this initial position, we measure the acceleration a\n",
      "for this acceleration, we measure the velocity, which we set initially to zero!\n",
      "now we update x using this acceleration and velocity!\n",
      "\n",
      "---> the RK 2/4/N way\n",
      "we measure a,b,c,d,... coefficients which are used collectively to update x, v and a!\n",
      "\n",
      "for example : \n",
      "mxdd = -kx\n",
      "\n",
      "\n"
     ]
    },
    {
     "cell_type": "code",
     "collapsed": false,
     "input": [],
     "language": "python",
     "metadata": {},
     "outputs": []
    }
   ],
   "metadata": {}
  }
 ]
}