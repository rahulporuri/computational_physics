{
 "metadata": {
  "name": ""
 },
 "nbformat": 3,
 "nbformat_minor": 0,
 "worksheets": [
  {
   "cells": [
    {
     "cell_type": "code",
     "collapsed": false,
     "input": [
      "import scipy.spatial.distance as spd\n",
      "import matplotlib.pyplot as plt\n",
      "%matplotlib inline\n",
      "import numpy as np\n",
      "import time\n",
      "# used to compare energy before and after a move\n",
      "# we assumed that epsilon and alpha are 1\n",
      "\n",
      "e = 1.\n",
      "def local_energy(site):\n",
      "    local_sum = 0\n",
      "    for i in xrange(len(system)):\n",
      "        if site != i:\n",
      "            dist = spd.euclidean(system[site],system[i])\n",
      "            local_sum += -((1/dist)**12-(1/dist)**6)*e\n",
      "    return local_sum\n",
      "\n",
      "# total energy of the system\n",
      "def system_energy():\n",
      "    total_sum = 0\n",
      "    for i in xrange(len(system)):\n",
      "        total_sum += local_energy(i)\n",
      "    return total_sum\n",
      "\n",
      "def radial_number_density():\n",
      "    rad_dist = []\n",
      "    for i in xrange(len(system)):\n",
      "        for j in xrange(len(system)):\n",
      "            if i != j:\n",
      "                temp = spd.euclidean(system[i],system[j])\n",
      "                rad_dist.append(temp)\n",
      "    return rad_dist\n",
      "\n",
      "n = 400 # number of particles\n",
      "# initializing the system\n",
      "# the atoms occupy a square of size 10X10\n",
      "system = np.zeros([n,2])\n",
      "for i in xrange(len(system)):\n",
      "    system[i][0] = i%20 # np.sqrt(n) wont work as it will return a float\n",
      "    system[i][1] = i/20 # we need an integer denominator for this to work!\n",
      "\n",
      "global_energy = []\n",
      "global_e_cycle = system_energy()\n",
      "global_energy.append(temp)\n",
      "#print temp, \"0 energy\"\n",
      "accepted_moves = 0\n",
      "\n",
      "#plt.subplot(131)\n",
      "radial_dist_before = radial_number_density()\n",
      "#anarray = np.asarray(alist)\n",
      "#plt.hist(anarray,10);\n",
      "\n",
      "T = 1\n",
      "# T = np.array([5.,5./2,1./1./2,1./10])\n",
      "beta = 1./T\n",
      "# B = 1./T\n",
      "#for beta in B:\n",
      "time_per_loop = []\n",
      "for looptime in xrange(200):\n",
      "    start_time = time.time()\n",
      "    site = np.random.choice(np.arange(n)) # atom to be moved\n",
      "    # this atom can now move in the range (-alpha,alpha) in x & y\n",
      "    #xmove = np.random.choice(np.array([-2.,-5./3,-4./3,-1,-2./3,-1./3,0,1./3,2./3,1.,4./3,5./3,2.]))\n",
      "    #ymove = np.random.choice(np.array([-2.,-5./3,-4./3,-1,-2./3,-1./3,0,1./3,2./3,1.,4./3,5./3,2.]))\n",
      "    xmove = np.random.choice(np.array([0,1./3,2./3,1.,4./3,5./3,2.]))\n",
      "    ymove = np.random.choice(np.array([0,1./3,2./3,1.,4./3,5./3,2.]))\n",
      "    #print xmove, ymove, \"xmove, ymove\"\n",
      "    #xmove = np.random.choice(np.array([0.,1.,2.,3.,4.]))\n",
      "    #ymove = np.random.choice(np.array([0.,1.,2.,3.,4.]))\n",
      "    pre_move_e = local_energy(site)\n",
      "    #print pre_move_e, \"pre move e\"\n",
      "    system[site] = system[site] + np.array([xmove,ymove])\n",
      "    if system[site][0] > 20 :\n",
      "        system[site][0] = system[site][0]%20\n",
      "    #if system[site][0] < 0 :\n",
      "    #    system[site][0] = system[site][0]%100\n",
      "    if system[site][1] > 20 :\n",
      "        system[site][1] = system[site][1]%20\n",
      "    #if system[site][1] < 0 :\n",
      "    #    system[site][1] = system[site][1]%100\n",
      "    post_move_e = local_energy(site)\n",
      "    #print post_move_e, \"post move e\"\n",
      "    #print post_move_e-pre_move_e, \"difference\"\n",
      "    diff = post_move_e - pre_move_e\n",
      "    #print diff, \"difference in energy\", looptime, \"iteration\"\n",
      "    #temp = system_energy()\n",
      "    #temp = temp + diff\n",
      "    #print temp, \"is system energy at step\", looptime\n",
      "    #print system_energy()\n",
      "    if post_move_e - pre_move_e < 0:\n",
      "        #global_energy.append(system_energy())\n",
      "        global_e_cycle += diff\n",
      "        global_energy.append(global_e_cycle)\n",
      "        accepted_moves += 1\n",
      "        #print \"yes\"\n",
      "    else :\n",
      "        temp = np.random.random()\n",
      "        if temp < np.exp(-beta*(post_move_e - pre_move_e)):\n",
      "            global_e_cycle +=diff\n",
      "            global_energy.append(global_e_cycle)\n",
      "        #    global_energy.append(system_energy())\n",
      "            accepted_moves += 1\n",
      "        #    print \"barely yes\"\n",
      "        else :\n",
      "            system[site] = system[site] - np.array([xmove,ymove])\n",
      "            global_energy.append(global_e_cycle)\n",
      "            #print looptime\n",
      "        #    global_energy.append(system_energy())\n",
      "        #    print \"nyooo!!!!\"\n",
      "    #print \"we're done with the mc loop %f\" % (time.time()-start_time)\n",
      "    time_per_loop.append(time.time()-start_time)\n",
      "# we get global_energy, accepted moves as the outputs here.\n",
      "#plt.subplot(132)\n",
      "radial_dist_after = radial_number_density()\n",
      "#anarray = np.asarray(alist)\n",
      "#plt.hist(anarray,10);\n",
      "#plt.subplot(133)\n",
      "#plt.plot(global_energy)\n",
      "#print \"we're done with plotting routine %f\" % (time.time()-start_time)\n",
      "print \"accepted_moves\", accepted_moves"
     ],
     "language": "python",
     "metadata": {},
     "outputs": [
      {
       "output_type": "stream",
       "stream": "stdout",
       "text": [
        "accepted_moves 142\n"
       ]
      }
     ],
     "prompt_number": 48
    },
    {
     "cell_type": "code",
     "collapsed": false,
     "input": [
      "plt.plot(global_energy)"
     ],
     "language": "python",
     "metadata": {},
     "outputs": [
      {
       "metadata": {},
       "output_type": "pyout",
       "prompt_number": 49,
       "text": [
        "[<matplotlib.lines.Line2D at 0xb0e7516c>]"
       ]
      },
      {
       "metadata": {},
       "output_type": "display_data",
       "png": "[encoded data removed]",
       "text": [
        "<matplotlib.figure.Figure at 0xb0ee456c>"
       ]
      }
     ],
     "prompt_number": 49
    },
    {
     "cell_type": "code",
     "collapsed": false,
     "input": [
      "np.mean(time_per_loop)\n",
      "#start_time = time.time()\n",
      "#print system_energy()\n",
      "#print time.time() - start_time"
     ],
     "language": "python",
     "metadata": {},
     "outputs": [
      {
       "metadata": {},
       "output_type": "pyout",
       "prompt_number": 50,
       "text": [
        "0.026244132518768309"
       ]
      }
     ],
     "prompt_number": 50
    },
    {
     "cell_type": "code",
     "collapsed": false,
     "input": [
      "plt.subplot(121)\n",
      "anarray = np.asarray(radial_dist_before)\n",
      "plt.hist(anarray,10);\n",
      "plt.subplot(122)\n",
      "anotherarray = np.asarray(radial_dist_after)\n",
      "plt.hist(anotherarray,10);"
     ],
     "language": "python",
     "metadata": {},
     "outputs": [
      {
       "metadata": {},
       "output_type": "display_data",
       "png": "[encoded data removed]",
       "text": [
        "<matplotlib.figure.Figure at 0xb0fa716c>"
       ]
      }
     ],
     "prompt_number": 52
    },
    {
     "cell_type": "code",
     "collapsed": false,
     "input": [
      "x = []\n",
      "y = []\n",
      "for i in xrange(len(system)):\n",
      "    x.append(system[i][0])\n",
      "    y.append(system[i][1])\n",
      "plt.scatter(x,y);"
     ],
     "language": "python",
     "metadata": {},
     "outputs": [
      {
       "metadata": {},
       "output_type": "display_data",
       "png": "[encoded data removed]",
       "text": [
        "<matplotlib.figure.Figure at 0xb0fa724c>"
       ]
      }
     ],
     "prompt_number": 53
    },
    {
     "cell_type": "code",
     "collapsed": false,
     "input": [],
     "language": "python",
     "metadata": {},
     "outputs": []
    }
   ],
   "metadata": {}
  }
 ]
}