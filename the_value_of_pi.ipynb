{
 "metadata": {
  "name": "",
  "signature": "sha256:906c5fe97b6d9d4dd8cc3358cd8ecd11e74d0bc90d6ab565b76cef141f723148"
 },
 "nbformat": 3,
 "nbformat_minor": 0,
 "worksheets": [
  {
   "cells": [
    {
     "cell_type": "code",
     "collapsed": false,
     "input": [
      "import numpy as np\n",
      "import matplotlib.pyplot as plt\n",
      "%matplotlib inline"
     ],
     "language": "python",
     "metadata": {},
     "outputs": [],
     "prompt_number": 58
    },
    {
     "cell_type": "code",
     "collapsed": false,
     "input": [
      "a = 100\n",
      "alist = np.arange(0,a+1,1)\n",
      "anotherlist = np.zeros(iterations)\n",
      "count = 0.\n",
      "iterations = 100\n",
      "for i in xrange(iterations):\n",
      "    tempx = np.random.choice(alist)\n",
      "    tempy = np.random.choice(alist)\n",
      "    if tempx**2 + tempy**2 < (a**2)+1:\n",
      "        count += 1.\n",
      "    anotherlist[i] = count/(i+1)*4."
     ],
     "language": "python",
     "metadata": {},
     "outputs": [],
     "prompt_number": 77
    },
    {
     "cell_type": "code",
     "collapsed": false,
     "input": [
      "print anotherlist[-1]\n",
      "plt.plot(anotherlist)"
     ],
     "language": "python",
     "metadata": {},
     "outputs": [
      {
       "output_type": "stream",
       "stream": "stdout",
       "text": [
        "3.0\n"
       ]
      },
      {
       "metadata": {},
       "output_type": "pyout",
       "prompt_number": 78,
       "text": [
        "[<matplotlib.lines.Line2D at 0xa8b9f58c>]"
       ]
      },
      {
       "metadata": {},
       "output_type": "display_data",
       "png": "[encoded data removed]",
       "text": [
        "<matplotlib.figure.Figure at 0xa94e414c>"
       ]
      }
     ],
     "prompt_number": 78
    },
    {
     "cell_type": "code",
     "collapsed": false,
     "input": [
      "a = 100\n",
      "alist = np.arange(0,a+1,1)\n",
      "andanotherlist = []\n",
      "for iterations in [10+1,10**2+1,10**3+1,10**4+1,10**5+1,10**6+1]:\n",
      "    #anotherlist = np.zeros(iterations)\n",
      "    count = 0.\n",
      "    #iterations = 100\n",
      "    for i in xrange(iterations):\n",
      "        tempx = np.random.choice(alist)\n",
      "        tempy = np.random.choice(alist)\n",
      "        if tempx**2 + tempy**2 < (a**2)+1:\n",
      "            count += 1.\n",
      "        #anotherlist[i] = count/(i+1)*4.\n",
      "    andanotherlist.append(count/iterations*4.)"
     ],
     "language": "python",
     "metadata": {},
     "outputs": [],
     "prompt_number": 85
    },
    {
     "cell_type": "code",
     "collapsed": false,
     "input": [
      "plt.plot(andanotherlist,'o')"
     ],
     "language": "python",
     "metadata": {},
     "outputs": [
      {
       "metadata": {},
       "output_type": "pyout",
       "prompt_number": 86,
       "text": [
        "[<matplotlib.lines.Line2D at 0xa8a019ec>]"
       ]
      },
      {
       "metadata": {},
       "output_type": "display_data",
       "png": "[encoded data removed]",
       "text": [
        "<matplotlib.figure.Figure at 0xa8a8590c>"
       ]
      }
     ],
     "prompt_number": 86
    },
    {
     "cell_type": "code",
     "collapsed": false,
     "input": [
      "a = 1000\n",
      "alist = np.arange(0,a+1,1)\n",
      "andanotherlist = []\n",
      "for iterations in [10+1,10**2+1,10**3+1,10**4+1,10**5+1,10**6+1]:\n",
      "    #anotherlist = np.zeros(iterations)\n",
      "    count = 0.\n",
      "    #iterations = 100\n",
      "    for i in xrange(iterations):\n",
      "        tempx = np.random.choice(alist)\n",
      "        tempy = np.random.choice(alist)\n",
      "        if tempx**2 + tempy**2 < (a**2)+1:\n",
      "            count += 1.\n",
      "        #anotherlist[i] = count/(i+1)*4.\n",
      "    andanotherlist.append(count/iterations*4.)"
     ],
     "language": "python",
     "metadata": {},
     "outputs": [],
     "prompt_number": 87
    },
    {
     "cell_type": "code",
     "collapsed": false,
     "input": [
      "plt.plot(andanotherlist,'o')"
     ],
     "language": "python",
     "metadata": {},
     "outputs": [
      {
       "metadata": {},
       "output_type": "pyout",
       "prompt_number": 88,
       "text": [
        "[<matplotlib.lines.Line2D at 0xa89cffec>]"
       ]
      },
      {
       "metadata": {},
       "output_type": "display_data",
       "png": "[encoded data removed]",
       "text": [
        "<matplotlib.figure.Figure at 0xa8a5b68c>"
       ]
      }
     ],
     "prompt_number": 88
    },
    {
     "cell_type": "code",
     "collapsed": false,
     "input": [],
     "language": "python",
     "metadata": {},
     "outputs": []
    }
   ],
   "metadata": {}
  }
 ]
}