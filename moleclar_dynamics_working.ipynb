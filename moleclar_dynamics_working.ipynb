{
 "metadata": {
  "name": ""
 },
 "nbformat": 3,
 "nbformat_minor": 0,
 "worksheets": [
  {
   "cells": [
    {
     "cell_type": "code",
     "collapsed": false,
     "input": [
      "import numpy as np\n",
      "import matplotlib.pyplot as plt\n",
      "from scipy.constants import nano, pico, N_A, m_p, milli, micro\n",
      "%matplotlib inline\n",
      "import time\n",
      "import scipy.spatial.distance as spd"
     ],
     "language": "python",
     "metadata": {},
     "outputs": [],
     "prompt_number": 1
    },
    {
     "cell_type": "code",
     "collapsed": false,
     "input": [
      "n = 400 # number of atoms in the system\n",
      "#e = sigma = 1.\n",
      "system = np.zeros([n,2,2])\n",
      "# initialization\n",
      "for i in xrange(n):\n",
      "    system[i][0][0] = i%20 + 15 # positions in a 3X3 lattice\n",
      "    system[i][0][1] = i/20 + 15 # 3 is the square root of 9. if n is changed, so should this value!\n",
      "    system[i][1] = np.array([np.random.normal(),np.random.normal()])"
     ],
     "language": "python",
     "metadata": {},
     "outputs": [],
     "prompt_number": 2
    },
    {
     "cell_type": "code",
     "collapsed": false,
     "input": [
      "def update_position():\n",
      "    for i in xrange(len(system)):\n",
      "        system[i][0] += system[i][1]*step\n",
      "        if system[i][0][0] > 50:\n",
      "            system[i][0][0] = system[i][0][0]%50\n",
      "        if system[i][0][1] > 50:\n",
      "            system[i][0][0] = system[i][0][0]/50\n",
      "        if system[i][0][0] < -0:\n",
      "            system[i][0][0] = system[i][0][0]%50\n",
      "        if system[i][0][1] < -0:\n",
      "            system[i][0][1] += 50\n",
      "    return system\n",
      "\n",
      "def update_momentum():\n",
      "    for i in xrange(len(system)):\n",
      "        system[i][1] += force[i]*step/2\n",
      "    return system\n",
      "\n",
      "def lennard_jones(r):\n",
      "    return (2*(1./r)**13 - (1./r)**7)*milli\n",
      "\n",
      "force = np.zeros([n,2])\n",
      "\n",
      "def update_forces():\n",
      "    for i in xrange(len(system)):\n",
      "        pxdot = 0\n",
      "        pydot = 0\n",
      "        for j in xrange(len(system)):\n",
      "            if j != i :\n",
      "                r = spd.euclidean(system[i][0],system[j][0])\n",
      "                theta = np.arctan((system[j][0][1] - system[i][0][1])/(system[j][0][0] - system[i][0][0]))\n",
      "                theta = theta*180/np.pi\n",
      "                pxdot += lennard_jones(r)*np.cos(theta)\n",
      "                pydot += lennard_jones(r)*np.sin(theta)\n",
      "        force[i] = np.array([pxdot, pydot])\n",
      "    return force\n",
      "\n",
      "def radial_number_density():\n",
      "    rad_dist = []\n",
      "    for i in xrange(len(system)):\n",
      "        for j in xrange(len(system)):\n",
      "            if i != j:\n",
      "                temp = spd.euclidean(system[i][0],system[j][0])\n",
      "                rad_dist.append(temp)\n",
      "    return rad_dist\n",
      "\n",
      "initial_dist = radial_number_density()\n",
      "\n",
      "#step = 1./np.power(10,2) - doesnt work. NaN!!!\n",
      "step = 1.*milli # works\n",
      "#step = 1.\n",
      "total_time = time.time()\n",
      "force_step_time = []\n",
      "for timestep in range(100):\n",
      "    #start_time = time.time()\n",
      "    update_momentum()\n",
      "    #print \"first momemtum update %f\" %(time.time()-start_time)\n",
      "    #start_time = time.time()\n",
      "    update_position()\n",
      "    #print \"position update %f\" %(time.time()-start_time)\n",
      "    start_time = time.time()\n",
      "    update_forces()\n",
      "    force_step_time.append(time.time()-start_time)\n",
      "    #print \"force update %f\" %(time.time()-start_time)\n",
      "    #start_time = time.time()\n",
      "    update_momentum()\n",
      "    #print \"second momemtum update %f\" %(time.time()-start_time)\n",
      "    #print timestep\n",
      "print \"total time %f\" %(time.time()-total_time)\n",
      "final_dist = radial_number_density()"
     ],
     "language": "python",
     "metadata": {},
     "outputs": [
      {
       "output_type": "stream",
       "stream": "stdout",
       "text": [
        "total time 3229.049972\n"
       ]
      }
     ],
     "prompt_number": 15
    },
    {
     "cell_type": "code",
     "collapsed": false,
     "input": [
      "np.mean(np.asarray(force_step_time))"
     ],
     "language": "python",
     "metadata": {},
     "outputs": [
      {
       "metadata": {},
       "output_type": "pyout",
       "prompt_number": 16,
       "text": [
        "32.230867798328397"
       ]
      }
     ],
     "prompt_number": 16
    },
    {
     "cell_type": "code",
     "collapsed": false,
     "input": [
      "plt.subplot(121)\n",
      "plt.hist(initial_dist,10);\n",
      "plt.subplot(122)\n",
      "plt.hist(final_dist,10);"
     ],
     "language": "python",
     "metadata": {},
     "outputs": [
      {
       "metadata": {},
       "output_type": "display_data",
       "png": "[encoded data removed]",
       "text": [
        "<matplotlib.figure.Figure at 0xb152f7cc>"
       ]
      }
     ],
     "prompt_number": 17
    },
    {
     "cell_type": "code",
     "collapsed": false,
     "input": [
      "x = []\n",
      "y = []\n",
      "for i in xrange(len(system)):\n",
      "    x.append(system[i][0][0])\n",
      "    y.append(system[i][0][1])\n",
      "plt.scatter(x,y);\n",
      "#plt.ylim([-200,200])"
     ],
     "language": "python",
     "metadata": {},
     "outputs": [
      {
       "metadata": {},
       "output_type": "pyout",
       "prompt_number": 18,
       "text": [
        "<matplotlib.collections.PathCollection at 0xb136c8ec>"
       ]
      },
      {
       "metadata": {},
       "output_type": "display_data",
       "png": "[encoded data removed]",
       "text": [
        "<matplotlib.figure.Figure at 0xb14bfaac>"
       ]
      }
     ],
     "prompt_number": 18
    },
    {
     "cell_type": "markdown",
     "metadata": {},
     "source": [
      "parallelized code\n",
      "======="
     ]
    },
    {
     "cell_type": "code",
     "collapsed": false,
     "input": [
      "import multiprocessing as mp\n",
      "import random\n",
      "import string"
     ],
     "language": "python",
     "metadata": {},
     "outputs": [],
     "prompt_number": 6
    },
    {
     "cell_type": "code",
     "collapsed": false,
     "input": [
      "def update_position():\n",
      "    for i in xrange(len(system)):\n",
      "        system[i][0] += system[i][1]*step\n",
      "        if system[i][0][0] > 50:\n",
      "            system[i][0][0] = system[i][0][0]%50\n",
      "        if system[i][0][1] > 50:\n",
      "            system[i][0][0] = system[i][0][0]/50\n",
      "        if system[i][0][0] < -0:\n",
      "            system[i][0][0] = system[i][0][0]%50\n",
      "        if system[i][0][1] < -0:\n",
      "            system[i][0][1] += 50\n",
      "    return system\n",
      "\n",
      "def update_momentum():\n",
      "    for i in xrange(len(system)):\n",
      "        system[i][1] += force[i]*step/2\n",
      "    return system\n",
      "\n",
      "def lennard_jones(r):\n",
      "    return (2*(1./r)**13 - (1./r)**7)*milli\n",
      "\n",
      "force = np.zeros([n,2])\n",
      "\n",
      "###################################\n",
      "\n",
      "def update_force(site):\n",
      "    pxdot = 0\n",
      "    pydot = 0\n",
      "    for j in xrange(len(system)):\n",
      "        if j != site :\n",
      "            r = spd.euclidean(system[site][0],system[j][0])\n",
      "            theta = np.arctan((system[j][0][1] - system[site][0][1])/(system[j][0][0] - system[site][0][0]))\n",
      "            theta = theta*180/np.pi\n",
      "            pxdot += lennard_jones(r)*np.cos(theta)\n",
      "            pydot += lennard_jones(r)*np.sin(theta)\n",
      "    return np.array([pxdot, pydot])\n",
      "\n",
      "def parallel_force_update():\n",
      "    pool = mp.Pool(processes=4)\n",
      "    results = [pool.apply_async(update_force, args=(i,)) for i in range(399)]\n",
      "    for i in xrange(len(results)):\n",
      "        results[i] = results[i].get()\n",
      "    force = np.asarray(results, dtype = float)\n",
      "    return force\n",
      "\n",
      "###################################\n",
      "\n",
      "def radial_number_density():\n",
      "    rad_dist = []\n",
      "    for i in xrange(len(system)):\n",
      "        for j in xrange(len(system)):\n",
      "            if i != j:\n",
      "                temp = spd.euclidean(system[i][0],system[j][0])\n",
      "                rad_dist.append(temp)\n",
      "    return rad_dist\n",
      "\n",
      "initial_dist = radial_number_density()\n",
      "\n",
      "#step = 1./np.power(10,2) - doesnt work. NaN!!!\n",
      "step = 1.*milli # works\n",
      "#step = 1.\n",
      "total_time = time.time()\n",
      "force_step_time = []\n",
      "for timestep in range(100):\n",
      "    #start_time = time.time()\n",
      "    update_momentum()\n",
      "    #print \"first momemtum update %f\" %(time.time()-start_time)\n",
      "    #start_time = time.time()\n",
      "    update_position()\n",
      "    #print \"position update %f\" %(time.time()-start_time)\n",
      "    start_time = time.time()\n",
      "    parallel_force_update()\n",
      "    force_step_time.append(time.time()-start_time)\n",
      "    #print \"force update %f\" %(time.time()-start_time)\n",
      "    #start_time = time.time()\n",
      "    update_momentum()\n",
      "    #print \"second momemtum update %f\" %(time.time()-start_time)\n",
      "    #print timestep\n",
      "print \"total time %f\" %(time.time()-total_time)\n",
      "final_dist = radial_number_density()"
     ],
     "language": "python",
     "metadata": {},
     "outputs": [
      {
       "output_type": "stream",
       "stream": "stdout",
       "text": [
        "total time 219.692911\n"
       ]
      }
     ],
     "prompt_number": 11
    },
    {
     "cell_type": "code",
     "collapsed": false,
     "input": [
      "np.mean(np.asarray(force_step_time))"
     ],
     "language": "python",
     "metadata": {},
     "outputs": [
      {
       "metadata": {},
       "output_type": "pyout",
       "prompt_number": 12,
       "text": [
        "21.882663345336915"
       ]
      }
     ],
     "prompt_number": 12
    },
    {
     "cell_type": "code",
     "collapsed": false,
     "input": [
      "plt.subplot(121)\n",
      "plt.hist(initial_dist,10);\n",
      "plt.subplot(122)\n",
      "plt.hist(final_dist,10);"
     ],
     "language": "python",
     "metadata": {},
     "outputs": [
      {
       "metadata": {},
       "output_type": "display_data",
       "png": "[encoded data removed]",
       "text": [
        "<matplotlib.figure.Figure at 0xb14503ec>"
       ]
      }
     ],
     "prompt_number": 13
    },
    {
     "cell_type": "code",
     "collapsed": false,
     "input": [
      "x = []\n",
      "y = []\n",
      "for i in xrange(len(system)):\n",
      "    x.append(system[i][0][0])\n",
      "    y.append(system[i][0][1])\n",
      "plt.scatter(x,y);\n",
      "#plt.ylim([-200,200])"
     ],
     "language": "python",
     "metadata": {},
     "outputs": [
      {
       "metadata": {},
       "output_type": "pyout",
       "prompt_number": 19,
       "text": [
        "<matplotlib.collections.PathCollection at 0xb143b04c>"
       ]
      },
      {
       "metadata": {},
       "output_type": "display_data",
       "png": "[encoded data removed]",
       "text": [
        "<matplotlib.figure.Figure at 0xb13cc7ac>"
       ]
      }
     ],
     "prompt_number": 19
    },
    {
     "cell_type": "code",
     "collapsed": false,
     "input": [],
     "language": "python",
     "metadata": {},
     "outputs": []
    }
   ],
   "metadata": {}
  }
 ]
}