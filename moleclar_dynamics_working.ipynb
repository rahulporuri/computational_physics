{
 "metadata": {
  "name": ""
 },
 "nbformat": 3,
 "nbformat_minor": 0,
 "worksheets": [
  {
   "cells": [
    {
     "cell_type": "code",
     "collapsed": false,
     "input": [
      "import numpy as np\n",
      "import matplotlib.pyplot as plt\n",
      "from scipy.constants import nano, pico, N_A, m_p, milli\n",
      "%matplotlib inline\n",
      "import time\n",
      "import scipy.spatial.distance as spd"
     ],
     "language": "python",
     "metadata": {},
     "outputs": [],
     "prompt_number": 66
    },
    {
     "cell_type": "code",
     "collapsed": false,
     "input": [
      "n = 400 # number of atoms in the system\n",
      "#e = sigma = 1.\n",
      "system = np.zeros([n,2,2])\n",
      "# initialization\n",
      "for i in xrange(n):\n",
      "    system[i][0][0] = i%20 # positions in a 3X3 lattice\n",
      "    system[i][0][1] = i/20 # 3 is the square root of 9. if n is changed, so should this value!\n",
      "    #system[i][1] = np.array([0.1,0.1]) # x & y momenta = 1\n",
      "    system[i][1][0] = 0.1 # positions in a 3X3 lattice\n",
      "    system[i][1][1] = 0.1 # 3 is the square root of 9. if n is changed, so should this value!\n",
      "    \n",
      "def update_position():\n",
      "    for i in xrange(len(system)):\n",
      "        system[i][0] += system[i][1]*step\n",
      "        if system[i][0][0] > 50:\n",
      "            system[i][0][0] = system[i][0][0]%100\n",
      "        if system[i][0][1] > 50:\n",
      "            system[i][0][0] = system[i][0][0]/100\n",
      "        if system[i][0][0] < -50:\n",
      "            system[i][0][0] = system[i][0][0]%100\n",
      "        if system[i][0][1] < -50:\n",
      "            system[i][0][0] += 100\n",
      "    return system\n",
      "\n",
      "def update_momentum():\n",
      "    for i in xrange(len(system)):\n",
      "        system[i][1] += force[i]*step/2\n",
      "    return system\n",
      "\n",
      "def lennard_jones(r):\n",
      "    return (2*(1./r)**13 - (1./r)**7)*milli\n",
      "\n",
      "force = np.zeros([n,2])\n",
      "\n",
      "def update_forces():\n",
      "    for i in xrange(len(system)):\n",
      "        pxdot = 0\n",
      "        pydot = 0\n",
      "        for j in xrange(len(system)):\n",
      "            if j != i :\n",
      "                r = spd.euclidean(system[i][0],system[j][0])\n",
      "                theta = np.arctan((system[j][0][1] - system[i][0][1])/(system[j][0][0] - system[i][0][0]))\n",
      "                theta = theta*180/np.pi\n",
      "                pxdot += lennard_jones(r)*np.cos(theta)\n",
      "                pydot += lennard_jones(r)*np.sin(theta)\n",
      "        force[i] = np.array([pxdot, pydot])\n",
      "    return force\n",
      "\n",
      "def radial_number_density():\n",
      "    rad_dist = []\n",
      "    for i in xrange(len(system)):\n",
      "        for j in xrange(len(system)):\n",
      "            if i != j:\n",
      "                temp = spd.euclidean(system[i][0],system[j][0])\n",
      "                rad_dist.append(temp)\n",
      "    return rad_dist\n",
      "\n",
      "initial_dist = radial_number_density()\n",
      "\n",
      "#step = 1./np.power(10,3)\n",
      "step = 1.\n",
      "\n",
      "for timestep in range(20):\n",
      "    start_time = time.time()\n",
      "    update_momentum()\n",
      "    print \"first momemtum update %f\" %(time.time()-start_time)\n",
      "    start_time = time.time()\n",
      "    update_position()\n",
      "    print \"position update %f\" %(time.time()-start_time)\n",
      "    start_time = time.time()\n",
      "    update_forces()\n",
      "    print \"force update %f\" %(time.time()-start_time)\n",
      "    start_time = time.time()\n",
      "    update_momentum()\n",
      "    print \"second momemtum update %f\" %(time.time()-start_time)\n",
      "\n",
      "final_dist = radial_number_density()"
     ],
     "language": "python",
     "metadata": {},
     "outputs": [
      {
       "output_type": "stream",
       "stream": "stdout",
       "text": [
        "first momemtum update 0.015114\n",
        "position update 0.022016\n",
        "force update 26.868090"
       ]
      },
      {
       "output_type": "stream",
       "stream": "stdout",
       "text": [
        "\n",
        "second momemtum update 0.015884\n",
        "first momemtum update 0.018939\n",
        "position update 0.021924"
       ]
      },
      {
       "output_type": "stream",
       "stream": "stdout",
       "text": [
        "\n",
        "force update 27.699496"
       ]
      },
      {
       "output_type": "stream",
       "stream": "stdout",
       "text": [
        "\n",
        "second momemtum update 0.014746\n",
        "first momemtum update 0.012016\n",
        "position update 0.017371\n",
        "force update 29.338897"
       ]
      },
      {
       "output_type": "stream",
       "stream": "stdout",
       "text": [
        "\n",
        "second momemtum update 0.022890\n",
        "first momemtum update 0.013499\n",
        "position update 0.014470"
       ]
      },
      {
       "output_type": "stream",
       "stream": "stdout",
       "text": [
        "\n",
        "force update 25.740573"
       ]
      },
      {
       "output_type": "stream",
       "stream": "stdout",
       "text": [
        "\n",
        "second momemtum update 0.020796\n",
        "first momemtum update 0.015184\n",
        "position update 0.014469"
       ]
      },
      {
       "output_type": "stream",
       "stream": "stdout",
       "text": [
        "\n",
        "force update 25.423067"
       ]
      },
      {
       "output_type": "stream",
       "stream": "stdout",
       "text": [
        "\n",
        "second momemtum update 0.011942\n",
        "first momemtum update 0.011855\n",
        "position update 0.015821\n",
        "force update 24.942812"
       ]
      },
      {
       "output_type": "stream",
       "stream": "stdout",
       "text": [
        "\n",
        "second momemtum update 0.014786\n",
        "first momemtum update 0.016735\n",
        "position update 0.020189"
       ]
      },
      {
       "output_type": "stream",
       "stream": "stdout",
       "text": [
        "\n",
        "force update 28.414855"
       ]
      },
      {
       "output_type": "stream",
       "stream": "stdout",
       "text": [
        "\n",
        "second momemtum update 0.023674\n",
        "first momemtum update 0.023679\n",
        "position update 0.015464"
       ]
      },
      {
       "output_type": "stream",
       "stream": "stdout",
       "text": [
        "\n",
        "force update 27.931352"
       ]
      },
      {
       "output_type": "stream",
       "stream": "stdout",
       "text": [
        "\n",
        "second momemtum update 0.020891\n",
        "first momemtum update 0.022722\n",
        "position update 0.022102"
       ]
      },
      {
       "output_type": "stream",
       "stream": "stdout",
       "text": [
        "\n",
        "force update 27.514003"
       ]
      },
      {
       "output_type": "stream",
       "stream": "stdout",
       "text": [
        "\n",
        "second momemtum update 0.141853"
       ]
      },
      {
       "output_type": "stream",
       "stream": "stdout",
       "text": [
        "\n",
        "first momemtum update 0.012320\n",
        "position update 0.048689"
       ]
      },
      {
       "output_type": "stream",
       "stream": "stdout",
       "text": [
        "\n",
        "force update 23.623881"
       ]
      },
      {
       "output_type": "stream",
       "stream": "stdout",
       "text": [
        "\n",
        "second momemtum update 0.017076"
       ]
      },
      {
       "output_type": "stream",
       "stream": "stdout",
       "text": [
        "\n",
        "first momemtum update 0.064981"
       ]
      },
      {
       "output_type": "stream",
       "stream": "stdout",
       "text": [
        "\n",
        "position update 0.067591"
       ]
      },
      {
       "output_type": "stream",
       "stream": "stdout",
       "text": [
        "\n",
        "force update 25.816209"
       ]
      },
      {
       "output_type": "stream",
       "stream": "stdout",
       "text": [
        "\n",
        "second momemtum update 0.013051\n",
        "first momemtum update 0.011785\n",
        "position update 0.014431"
       ]
      },
      {
       "output_type": "stream",
       "stream": "stdout",
       "text": [
        "\n",
        "force update 27.861086"
       ]
      },
      {
       "output_type": "stream",
       "stream": "stdout",
       "text": [
        "\n",
        "second momemtum update 0.032792\n",
        "first momemtum update 0.013319\n",
        "position update 0.014760"
       ]
      },
      {
       "output_type": "stream",
       "stream": "stdout",
       "text": [
        "\n",
        "force update 28.423594"
       ]
      },
      {
       "output_type": "stream",
       "stream": "stdout",
       "text": [
        "\n",
        "second momemtum update 0.026266\n",
        "first momemtum update 0.011976\n",
        "position update 0.024601"
       ]
      },
      {
       "output_type": "stream",
       "stream": "stdout",
       "text": [
        "\n",
        "force update 28.184530"
       ]
      },
      {
       "output_type": "stream",
       "stream": "stdout",
       "text": [
        "\n",
        "second momemtum update 0.024289\n",
        "first momemtum update 0.023787\n",
        "position update 0.016470"
       ]
      },
      {
       "output_type": "stream",
       "stream": "stdout",
       "text": [
        "\n",
        "force update 28.770823"
       ]
      },
      {
       "output_type": "stream",
       "stream": "stdout",
       "text": [
        "\n",
        "second momemtum update 0.012317\n",
        "first momemtum update 0.015726\n",
        "position update 0.018515\n"
       ]
      },
      {
       "output_type": "stream",
       "stream": "stdout",
       "text": [
        "force update 30.980301\n",
        "second momemtum update 0.014743\n",
        "first momemtum update 0.011951\n",
        "position update 0.046022"
       ]
      },
      {
       "output_type": "stream",
       "stream": "stdout",
       "text": [
        "\n",
        "force update 27.889677"
       ]
      },
      {
       "output_type": "stream",
       "stream": "stdout",
       "text": [
        "\n",
        "second momemtum update 0.018492\n",
        "first momemtum update 0.015477\n",
        "position update 0.015363\n",
        "force update 27.934092"
       ]
      },
      {
       "output_type": "stream",
       "stream": "stdout",
       "text": [
        "\n",
        "second momemtum update 0.015988\n",
        "first momemtum update 0.015626\n",
        "position update 0.018034\n",
        "force update 26.354257"
       ]
      },
      {
       "output_type": "stream",
       "stream": "stdout",
       "text": [
        "\n",
        "second momemtum update 0.014519\n",
        "first momemtum update 0.018846\n",
        "position update 0.037245"
       ]
      },
      {
       "output_type": "stream",
       "stream": "stdout",
       "text": [
        "\n",
        "force update 27.082850"
       ]
      },
      {
       "output_type": "stream",
       "stream": "stdout",
       "text": [
        "\n",
        "second momemtum update 0.023082\n"
       ]
      }
     ],
     "prompt_number": 100
    },
    {
     "cell_type": "code",
     "collapsed": false,
     "input": [
      "plt.subplot(121)\n",
      "plt.hist(initial_dist,10);\n",
      "plt.subplot(122)\n",
      "plt.hist(final_dist,10);"
     ],
     "language": "python",
     "metadata": {},
     "outputs": [
      {
       "metadata": {},
       "output_type": "display_data",
       "png": "[encoded data removed]",
       "text": [
        "<matplotlib.figure.Figure at 0xb14682ac>"
       ]
      }
     ],
     "prompt_number": 102
    },
    {
     "cell_type": "code",
     "collapsed": false,
     "input": [
      "force"
     ],
     "language": "python",
     "metadata": {},
     "outputs": [
      {
       "metadata": {},
       "output_type": "pyout",
       "prompt_number": 103,
       "text": [
        "array([[ -7.45138597e-04,   7.72547717e-03],\n",
        "       [ -2.22936284e-03,   6.35360149e-03],\n",
        "       [ -1.71666002e-03,   4.34219854e-03],\n",
        "       [  2.90213358e-03,   7.04776579e-03],\n",
        "       [  6.12879615e-03,   4.71382319e-03],\n",
        "       [  6.95272947e-03,   4.98836940e-03],\n",
        "       [  6.93369309e-03,   4.91111173e-03],\n",
        "       [  6.94288477e-03,   4.91393603e-03],\n",
        "       [  6.94234258e-03,   4.91470266e-03],\n",
        "       [  6.94237114e-03,   4.91442801e-03],\n",
        "       [  6.94236924e-03,   4.91454082e-03],\n",
        "       [  6.94233957e-03,   4.91437138e-03],\n",
        "       [  6.94154438e-03,   4.91206529e-03],\n",
        "       [  6.93127838e-03,   4.89284013e-03],\n",
        "       [  6.82962909e-03,   4.88524282e-03],\n",
        "       [  4.88866186e-03,   6.09609289e-03],\n",
        "       [ -2.96997166e-03,   7.76208605e-03],\n",
        "       [ -5.48842764e-03,   4.21784620e-03],\n",
        "       [  1.18024647e-02,   8.68741358e-03],\n",
        "       [  1.17227604e-02,   5.29500496e-03],\n",
        "       [ -4.66875547e-04,   7.73728922e-03],\n",
        "       [ -1.75788357e-03,   6.57966019e-03],\n",
        "       [ -1.84839238e-03,   4.12420871e-03],\n",
        "       [  2.49393592e-03,   7.56027792e-03],\n",
        "       [  5.98652024e-03,   4.94954820e-03],\n",
        "       [  6.93968612e-03,   4.77135001e-03],\n",
        "       [  6.99069186e-03,   4.93187810e-03],\n",
        "       [  7.00186060e-03,   4.88061515e-03],\n",
        "       [  7.00162831e-03,   4.88774967e-03],\n",
        "       [  7.00164468e-03,   4.88708867e-03],\n",
        "       [  7.00164383e-03,   4.88717729e-03],\n",
        "       [  7.00165930e-03,   4.88755268e-03],\n",
        "       [  7.00132744e-03,   4.89426553e-03],\n",
        "       [  6.99362212e-03,   4.96481937e-03],\n",
        "       [  6.80169338e-03,   5.45871040e-03],\n",
        "       [  3.20119630e-03,   6.59526618e-03],\n",
        "       [ -5.88069968e-03,   6.33499190e-03],\n",
        "       [ -7.03340521e-03,   3.30543021e-03],\n",
        "       [  2.91830598e-03,   8.83980112e-03],\n",
        "       [  6.18530864e-03,   5.75605693e-03],\n",
        "       [  4.14665464e-04,  -2.55461095e-05],\n",
        "       [  1.98235890e-03,   2.01395972e-03],\n",
        "       [  8.50285618e-04,  -4.93856018e-04],\n",
        "       [  1.65162747e-03,  -2.19766304e-04],\n",
        "       [  1.98026744e-03,   2.38127615e-04],\n",
        "       [  2.12832433e-03,   1.05628926e-04],\n",
        "       [  2.18718495e-03,   2.17083316e-04],\n",
        "       [  2.18630449e-03,   1.89385958e-04],\n",
        "       [  2.18750697e-03,   1.94401569e-04],\n",
        "       [  2.18746094e-03,   1.93726936e-04],\n",
        "       [  2.18746106e-03,   1.93823637e-04],\n",
        "       [  2.18746834e-03,   1.94045832e-04],\n",
        "       [  2.18776443e-03,   1.99554269e-04],\n",
        "       [  2.19059417e-03,   2.61397903e-04],\n",
        "       [  2.16328011e-03,   6.53042613e-04],\n",
        "       [  1.41163177e-03,   1.67066843e-03],\n",
        "       [  1.14263339e-03,   3.22359345e-03],\n",
        "       [  1.46840850e-03,   2.69087133e-03],\n",
        "       [  8.89801654e-03,  -9.86472073e-03],\n",
        "       [  1.42456436e-02,  -1.44945537e-02],\n",
        "       [  9.81882207e-05,  -1.72107589e-04],\n",
        "       [  4.04890265e-03,   1.80607902e-03],\n",
        "       [  4.92980327e-04,  -1.33406215e-03],\n",
        "       [ -4.50087565e-04,   2.72536337e-05],\n",
        "       [  3.52172059e-04,   3.00481341e-04],\n",
        "       [  1.49759142e-03,  -3.53421079e-04],\n",
        "       [  2.16789369e-03,  -8.40997566e-04],\n",
        "       [  2.24296819e-03,  -5.55146547e-04],\n",
        "       [  2.24703418e-03,  -6.04912467e-04],\n",
        "       [  2.24699538e-03,  -6.00350656e-04],\n",
        "       [  2.24699879e-03,  -6.00583253e-04],\n",
        "       [  2.24695271e-03,  -6.00921479e-04],\n",
        "       [  2.24652529e-03,  -6.10009893e-04],\n",
        "       [  2.23841938e-03,  -7.10432880e-04],\n",
        "       [  2.17082735e-03,  -1.22468320e-03],\n",
        "       [  1.01560171e-03,  -1.78506138e-03],\n",
        "       [  2.22822657e-03,  -2.83236786e-03],\n",
        "       [  3.59897125e-03,  -1.52784617e-03],\n",
        "       [ -4.10748924e-03,   5.59860126e-03],\n",
        "       [ -2.53477832e-03,   1.63740098e-04],\n",
        "       [ -4.84825283e-04,   2.83804845e-03],\n",
        "       [  2.00854390e-03,   2.87436327e-04],\n",
        "       [ -1.04657985e-03,  -1.44506756e-03],\n",
        "       [  2.46646010e-04,   2.79397709e-04],\n",
        "       [  5.98011261e-04,   2.79174212e-04],\n",
        "       [  1.73516361e-03,  -2.86410677e-04],\n",
        "       [  2.14651285e-03,  -7.23933054e-04],\n",
        "       [  2.21187880e-03,  -4.93160769e-04],\n",
        "       [  2.21311385e-03,  -5.35716359e-04],\n",
        "       [  2.21328336e-03,  -5.31678511e-04],\n",
        "       [  2.21328359e-03,  -5.31873934e-04],\n",
        "       [  2.21321078e-03,  -5.32285732e-04],\n",
        "       [  2.21309316e-03,  -5.41870585e-04],\n",
        "       [  2.20835910e-03,  -6.41692225e-04],\n",
        "       [  2.17649290e-03,  -1.13700583e-03],\n",
        "       [  7.61510000e-04,  -1.67449574e-03],\n",
        "       [  1.84715200e-03,  -3.67143864e-03],\n",
        "       [  2.92779946e-03,  -2.86372407e-03],\n",
        "       [  5.20722042e-02,  -7.88200845e-03],\n",
        "       [  3.64577694e-02,   1.40053494e-04],\n",
        "       [  3.90902563e-03,   7.86469657e-03],\n",
        "       [  3.97233160e-04,   4.75597274e-05],\n",
        "       [ -1.30038311e-04,  -5.05411346e-04],\n",
        "       [  1.55663233e-03,  -3.72919551e-04],\n",
        "       [  1.75183554e-03,  -5.38824099e-04],\n",
        "       [  1.90222608e-03,  -5.64632569e-05],\n",
        "       [  2.09664169e-03,   3.73715830e-04],\n",
        "       [  2.12271325e-03,   2.23341001e-04],\n",
        "       [  2.12416978e-03,   2.42857797e-04],\n",
        "       [  2.12419677e-03,   2.40932946e-04],\n",
        "       [  2.12499858e-03,   2.40691755e-04],\n",
        "       [  2.12482271e-03,   2.40524127e-04],\n",
        "       [  2.12337504e-03,   2.24691412e-04],\n",
        "       [  2.11334891e-03,   5.30863788e-05],\n",
        "       [  1.93570305e-03,  -8.09454959e-04],\n",
        "       [ -5.73927573e-05,   1.36338160e-04],\n",
        "       [ -6.67141573e-04,  -3.08068809e-03],\n",
        "       [  7.02678352e-04,  -2.89750985e-03],\n",
        "       [  9.91166849e-03,  -2.95993640e-03],\n",
        "       [ -5.07356549e-03,   1.46441740e-03],\n",
        "       [  4.21446643e-03,   4.93614413e-03],\n",
        "       [ -4.24437824e-05,   1.07147526e-04],\n",
        "       [ -1.18973724e-04,   2.14417800e-04],\n",
        "       [  9.98398916e-04,   2.48627450e-04],\n",
        "       [  1.68432060e-03,  -3.38029151e-04],\n",
        "       [  2.04072860e-03,  -4.50112314e-04],\n",
        "       [  2.14038327e-03,  -6.15831854e-05],\n",
        "       [  2.12633147e-03,  -1.67978440e-04],\n",
        "       [  2.12068317e-03,  -1.54524220e-04],\n",
        "       [  2.11094000e-03,  -1.40406023e-04],\n",
        "       [  2.12256734e-03,  -1.39839903e-04],\n",
        "       [  2.06183929e-03,  -1.67990971e-04],\n",
        "       [  2.07312004e-03,  -2.20121725e-04],\n",
        "       [  2.12662133e-03,  -3.07016828e-04],\n",
        "       [  1.95248089e-03,  -8.10341190e-04],\n",
        "       [  7.15114007e-04,  -2.00955010e-03],\n",
        "       [ -5.39021106e-04,  -1.50119779e-03],\n",
        "       [  5.29575136e-03,  -1.66647471e-02],\n",
        "       [  8.36740844e-03,  -4.24251215e-02],\n",
        "       [  2.58120897e-03,  -2.62170907e-02],\n",
        "       [  3.15454558e-03,  -2.57863699e-03],\n",
        "       [ -2.84134781e-03,   2.88688499e-04],\n",
        "       [ -6.06718577e-04,  -7.59829282e-03],\n",
        "       [ -1.04439849e-05,  -5.72105246e-03],\n",
        "       [  8.65057354e-03,  -4.65916151e-03],\n",
        "       [  1.34337505e-03,  -3.70602209e-03],\n",
        "       [ -2.36582270e-03,  -6.71353709e-03],\n",
        "       [  7.88179911e-03,  -1.24538216e-03],\n",
        "       [  5.74034843e-03,  -2.20630178e-03],\n",
        "       [  9.36094104e-03,   9.12455374e-04],\n",
        "       [  7.66371070e-03,   4.22961408e-03],\n",
        "       [  9.64193412e-03,   2.44505619e-03],\n",
        "       [  7.08646478e-03,  -2.39913597e-03],\n",
        "       [  7.03696439e-03,  -4.80248270e-03],\n",
        "       [  8.97400940e-03,  -2.61991122e-04],\n",
        "       [  8.71273433e-03,  -3.96266746e-03],\n",
        "       [  5.28243026e-03,  -1.07381040e-02],\n",
        "       [ -1.38939462e-02,  -1.16553552e-02],\n",
        "       [  2.27536729e-03,  -2.79801811e-02],\n",
        "       [ -7.75284780e-02,  -8.77502928e-03],\n",
        "       [  2.75616628e-03,  -3.46609302e-03],\n",
        "       [ -4.85239072e-03,  -6.93943249e-03],\n",
        "       [  4.47578245e-03,  -2.23481456e-02],\n",
        "       [ -3.35504910e-03,  -2.12076827e-02],\n",
        "       [  3.76514927e-02,  -4.53565564e-03],\n",
        "       [ -4.66259253e-02,  -4.11249477e-02],\n",
        "       [ -1.01364337e-01,   1.52933061e-03],\n",
        "       [ -2.68634613e-03,  -3.68905161e-02],\n",
        "       [ -6.91912608e-02,  -1.56237561e-01],\n",
        "       [  8.37021955e-03,  -4.08958674e-04],\n",
        "       [  2.86156829e-02,   2.30483218e-02],\n",
        "       [  9.53136273e-03,   2.98298446e-03],\n",
        "       [ -3.09648626e-03,  -7.20814901e-02],\n",
        "       [ -3.45799862e-03,  -1.31996566e-03],\n",
        "       [  7.04235763e-03,   7.20833182e-04],\n",
        "       [  3.48596132e-03,   1.72883173e-02],\n",
        "       [  2.36870768e-03,  -2.58972976e-02],\n",
        "       [ -1.32008541e-02,  -7.22076527e-03],\n",
        "       [  5.75796903e-02,   1.77179521e-02],\n",
        "       [ -2.20909082e-03,   5.60918495e-02],\n",
        "       [  2.88130842e-05,   3.65065295e-04],\n",
        "       [ -2.48742147e-03,  -8.58242890e-03],\n",
        "       [  5.68181295e-03,  -1.65143148e-02],\n",
        "       [ -3.37885430e-03,  -1.79051544e-02],\n",
        "       [  3.06838970e-02,  -1.49482298e-03],\n",
        "       [ -4.30731357e-02,  -3.24402504e-02],\n",
        "       [ -9.73323826e-02,   4.82829416e-03],\n",
        "       [ -3.54096874e-03,  -4.03155570e-02],\n",
        "       [ -5.70569538e-02,  -1.40958282e-01],\n",
        "       [ -1.91757535e-03,  -4.79073894e-03],\n",
        "       [  1.86744251e-02,   2.52795485e-02],\n",
        "       [ -2.47507715e-03,  -6.35171692e-03],\n",
        "       [ -2.41454130e-03,  -7.26519516e-02],\n",
        "       [ -6.08630384e-03,   6.77158629e-04],\n",
        "       [  5.46937363e-04,   4.05836196e-03],\n",
        "       [ -5.89823617e-03,   2.10299327e-02],\n",
        "       [ -3.67468205e-03,  -1.92307585e-02],\n",
        "       [ -2.19176359e-04,   1.99064108e-03],\n",
        "       [  3.53798438e-02,   5.01960140e-03],\n",
        "       [  6.10791905e-02,   4.55748133e-02],\n",
        "       [  8.29297519e-03,   9.70133648e-03],\n",
        "       [ -1.44156437e-04,  -1.15728551e-03],\n",
        "       [  1.92285446e-04,  -1.19119375e-03],\n",
        "       [ -3.90975658e-04,  -2.77266692e-03],\n",
        "       [ -2.74570373e-03,   8.65414083e-04],\n",
        "       [ -1.19579125e-03,   3.86845572e-03],\n",
        "       [ -7.62001764e-04,  -2.24931425e-03],\n",
        "       [  6.49107002e-03,   9.92800040e-04],\n",
        "       [  1.56414935e-02,   9.76260582e-03],\n",
        "       [  2.71128578e-03,  -9.63471731e-03],\n",
        "       [ -2.13837233e-03,   6.00653426e-03],\n",
        "       [  7.89934706e-03,  -7.23332395e-03],\n",
        "       [  6.21110826e-03,  -1.14284391e-03],\n",
        "       [  2.40626490e-03,  -2.38411164e-03],\n",
        "       [  1.13129795e-03,  -2.54250018e-04],\n",
        "       [  3.88144755e-04,  -1.37062460e-03],\n",
        "       [  3.97515319e-04,  -2.58277267e-03],\n",
        "       [ -7.21069889e-03,   1.89133545e-02],\n",
        "       [ -5.72660141e-03,  -1.01530500e-02],\n",
        "       [ -5.54476613e-03,   1.77087125e-03],\n",
        "       [  8.65220652e-03,   1.39510254e-02],\n",
        "       [ -3.92196079e-03,  -2.62118127e-04],\n",
        "       [  4.15123686e-03,   9.55112709e-03],\n",
        "       [  4.84404017e-03,   5.52090077e-03],\n",
        "       [  8.73000204e-03,  -2.85037931e-03],\n",
        "       [  7.06038017e-03,  -2.35140110e-03],\n",
        "       [  6.55339819e-03,  -3.32869859e-03],\n",
        "       [  8.85162229e-03,  -2.19184846e-03],\n",
        "       [  7.68513446e-03,  -2.70585359e-03],\n",
        "       [  1.36561343e-02,  -3.64448040e-03],\n",
        "       [  9.07877480e-03,  -4.99110939e-04],\n",
        "       [  1.79507223e-02,  -3.52757881e-03],\n",
        "       [  9.03111341e-03,  -2.83231736e-03],\n",
        "       [  1.06589002e-02,  -8.42801608e-04],\n",
        "       [  1.01242182e-02,  -1.91618625e-03],\n",
        "       [  1.14007287e-02,   1.23208351e-03],\n",
        "       [  1.33478299e-02,   6.02966472e-05],\n",
        "       [ -1.92491023e-02,   1.70567350e-02],\n",
        "       [  2.76961615e-02,  -1.11993842e-03],\n",
        "       [  3.10825640e-03,  -3.43414154e-02],\n",
        "       [  6.15546672e-04,   5.08550826e-03],\n",
        "       [ -3.79065176e-03,  -4.13035406e-04],\n",
        "       [  4.09178610e-03,   9.45167423e-03],\n",
        "       [  4.73941975e-03,   6.06404684e-03],\n",
        "       [  8.23866206e-03,  -1.58984688e-03],\n",
        "       [  6.61149526e-03,  -1.66947279e-03],\n",
        "       [  6.79030380e-03,  -4.14935864e-03],\n",
        "       [  9.34330366e-03,  -1.99179152e-03],\n",
        "       [  8.03660915e-03,  -1.98127994e-03],\n",
        "       [  8.77767431e-03,  -7.03685542e-04],\n",
        "       [  9.14140767e-03,   1.92687417e-04],\n",
        "       [  7.70342874e-03,  -3.04140838e-03],\n",
        "       [  9.26225115e-03,  -3.84751350e-03],\n",
        "       [  1.06755529e-02,  -4.11590063e-04],\n",
        "       [  1.05382204e-02,  -5.13573311e-05],\n",
        "       [  1.02994968e-02,   2.88502699e-04],\n",
        "       [  1.27825774e-02,  -2.64967657e-03],\n",
        "       [ -9.14967944e-03,  -9.28866427e-04],\n",
        "       [  1.94402389e-02,  -2.45945915e-03],\n",
        "       [ -5.06336283e-03,  -3.43137206e-02],\n",
        "       [  4.21061760e-03,  -4.96580166e-03],\n",
        "       [ -3.11085838e-05,  -1.13928622e-04],\n",
        "       [ -7.35891952e-06,  -1.92125474e-04],\n",
        "       [  8.75678657e-04,  -3.91650736e-04],\n",
        "       [  1.63260687e-03,   2.01273388e-04],\n",
        "       [  1.91764039e-03,   3.29214381e-04],\n",
        "       [  2.07274059e-03,  -5.03701199e-05],\n",
        "       [  2.11228607e-03,   1.42653173e-04],\n",
        "       [  2.09414227e-03,   9.95792155e-05],\n",
        "       [  2.11899882e-03,   1.60249399e-04],\n",
        "       [  2.12295319e-03,   1.45910339e-04],\n",
        "       [  2.13859718e-03,   1.03149779e-04],\n",
        "       [  2.09953886e-03,   1.39938849e-04],\n",
        "       [  2.08772827e-03,   2.44526010e-04],\n",
        "       [  1.93016622e-03,   7.67149821e-04],\n",
        "       [  6.60453600e-04,   1.93950289e-03],\n",
        "       [ -5.70334237e-04,   1.46987839e-03],\n",
        "       [  5.26162510e-03,   1.67007338e-02],\n",
        "       [  8.51168839e-03,   4.23703865e-02],\n",
        "       [  2.73627393e-03,   2.62029115e-02],\n",
        "       [  3.88877542e-03,  -7.87295145e-03],\n",
        "       [  3.98314709e-04,  -4.73158332e-05],\n",
        "       [ -1.29721810e-04,   5.06050056e-04],\n",
        "       [  1.55766309e-03,   3.69843453e-04],\n",
        "       [  1.75539314e-03,   5.35963646e-04],\n",
        "       [  1.90509459e-03,   5.60575575e-05],\n",
        "       [  2.10171210e-03,  -3.71251326e-04],\n",
        "       [  2.12547064e-03,  -2.24567810e-04],\n",
        "       [  2.12603054e-03,  -2.41451697e-04],\n",
        "       [  2.12518053e-03,  -2.41259489e-04],\n",
        "       [  2.12409226e-03,  -2.41443087e-04],\n",
        "       [  2.12482771e-03,  -2.39818879e-04],\n",
        "       [  2.12582669e-03,  -2.24098238e-04],\n",
        "       [  2.11562405e-03,  -5.38099970e-05],\n",
        "       [  1.93625805e-03,   8.07568748e-04],\n",
        "       [ -5.48900612e-05,  -1.36118661e-04],\n",
        "       [ -6.65221140e-04,   3.08131101e-03],\n",
        "       [  7.01961285e-04,   2.89814037e-03],\n",
        "       [  9.92153389e-03,   2.94143607e-03],\n",
        "       [ -5.08042012e-03,  -1.45935023e-03],\n",
        "       [ -4.86539537e-04,  -2.83755754e-03],\n",
        "       [  2.00866437e-03,  -2.87159225e-04],\n",
        "       [ -1.04671133e-03,   1.44569787e-03],\n",
        "       [  2.47762035e-04,  -2.80978627e-04],\n",
        "       [  5.98224222e-04,  -2.79560386e-04],\n",
        "       [  1.73508160e-03,   2.86173686e-04],\n",
        "       [  2.14678848e-03,   7.23846181e-04],\n",
        "       [  2.21198356e-03,   4.93151274e-04],\n",
        "       [  2.21326164e-03,   5.35729200e-04],\n",
        "       [  2.21328230e-03,   5.31657758e-04],\n",
        "       [  2.21327719e-03,   5.31870713e-04],\n",
        "       [  2.21336649e-03,   5.32244445e-04],\n",
        "       [  2.21339566e-03,   5.41797502e-04],\n",
        "       [  2.20857360e-03,   6.40416058e-04],\n",
        "       [  2.17818879e-03,   1.13237997e-03],\n",
        "       [  7.60396242e-04,   1.66823727e-03],\n",
        "       [  1.84511046e-03,   3.66834912e-03],\n",
        "       [  2.92964294e-03,   2.86159646e-03],\n",
        "       [  5.20717699e-02,   7.95724806e-03],\n",
        "       [  3.64453768e-02,  -3.99045096e-05],\n",
        "       [  9.81855197e-05,   1.72113803e-04],\n",
        "       [  4.04895551e-03,  -1.80626390e-03],\n",
        "       [  4.93040105e-04,   1.33413272e-03],\n",
        "       [ -4.50203802e-04,  -2.71918024e-05],\n",
        "       [  3.52301762e-04,  -3.00504791e-04],\n",
        "       [  1.49769390e-03,   3.53397626e-04],\n",
        "       [  2.16792181e-03,   8.40999790e-04],\n",
        "       [  2.24298662e-03,   5.55134385e-04],\n",
        "       [  2.24702303e-03,   6.04910295e-04],\n",
        "       [  2.24700450e-03,   6.00344356e-04],\n",
        "       [  2.24699012e-03,   6.00585577e-04],\n",
        "       [  2.24694460e-03,   6.00923873e-04],\n",
        "       [  2.24651085e-03,   6.10006382e-04],\n",
        "       [  2.23844808e-03,   7.10334461e-04],\n",
        "       [  2.17098774e-03,   1.22402477e-03],\n",
        "       [  1.01565471e-03,   1.78360230e-03],\n",
        "       [  2.22855702e-03,   2.83256035e-03],\n",
        "       [  3.59886532e-03,   1.52775310e-03],\n",
        "       [ -4.10760212e-03,  -5.59764085e-03],\n",
        "       [ -2.53495408e-03,  -1.63639131e-04],\n",
        "       [  4.14664523e-04,   2.55460928e-05],\n",
        "       [  1.98238631e-03,  -2.01391165e-03],\n",
        "       [  8.50277006e-04,   4.93859634e-04],\n",
        "       [  1.65162340e-03,   2.19771090e-04],\n",
        "       [  1.98026837e-03,  -2.38138661e-04],\n",
        "       [  2.12832171e-03,  -1.05630815e-04],\n",
        "       [  2.18718569e-03,  -2.17094538e-04],\n",
        "       [  2.18630719e-03,  -1.89399242e-04],\n",
        "       [  2.18750714e-03,  -1.94416010e-04],\n",
        "       [  2.18746049e-03,  -1.93737411e-04],\n",
        "       [  2.18746023e-03,  -1.93809100e-04],\n",
        "       [  2.18746572e-03,  -1.94065875e-04],\n",
        "       [  2.18776369e-03,  -1.99569356e-04],\n",
        "       [  2.19059538e-03,  -2.61400627e-04],\n",
        "       [  2.16327645e-03,  -6.53041140e-04],\n",
        "       [  1.41162383e-03,  -1.67062329e-03],\n",
        "       [  1.14266092e-03,  -3.22357213e-03],\n",
        "       [  1.46840181e-03,  -2.69088711e-03],\n",
        "       [  8.89801378e-03,   9.86478174e-03],\n",
        "       [  1.42455920e-02,   1.44945962e-02],\n",
        "       [ -4.66872380e-04,  -7.73729013e-03],\n",
        "       [ -1.75788289e-03,  -6.57966193e-03],\n",
        "       [ -1.84839142e-03,  -4.12421034e-03],\n",
        "       [  2.49394088e-03,  -7.56027748e-03],\n",
        "       [  5.98652330e-03,  -4.94954504e-03],\n",
        "       [  6.93969048e-03,  -4.77134679e-03],\n",
        "       [  6.99069359e-03,  -4.93187497e-03],\n",
        "       [  7.00186485e-03,  -4.88061138e-03],\n",
        "       [  7.00163194e-03,  -4.88774615e-03],\n",
        "       [  7.00164825e-03,  -4.88708509e-03],\n",
        "       [  7.00164703e-03,  -4.88717460e-03],\n",
        "       [  7.00166237e-03,  -4.88755021e-03],\n",
        "       [  7.00132954e-03,  -4.89426434e-03],\n",
        "       [  6.99362247e-03,  -4.96481923e-03],\n",
        "       [  6.80169379e-03,  -5.45870962e-03],\n",
        "       [  3.20119786e-03,  -6.59526495e-03],\n",
        "       [ -5.88069756e-03,  -6.33499046e-03],\n",
        "       [ -7.03340435e-03,  -3.30543029e-03],\n",
        "       [  2.91829923e-03,  -8.83980263e-03],\n",
        "       [  6.18530682e-03,  -5.75606006e-03],\n",
        "       [ -7.45136288e-04,  -7.72547714e-03],\n",
        "       [ -2.22936242e-03,  -6.35360181e-03],\n",
        "       [ -1.71665924e-03,  -4.34219905e-03],\n",
        "       [  2.90213836e-03,  -7.04776450e-03],\n",
        "       [  6.12879941e-03,  -4.71381966e-03],\n",
        "       [  6.95273312e-03,  -4.98836567e-03],\n",
        "       [  6.93369505e-03,  -4.91110854e-03],\n",
        "       [  6.94288814e-03,  -4.91393098e-03],\n",
        "       [  6.94234599e-03,  -4.91469767e-03],\n",
        "       [  6.94237479e-03,  -4.91442316e-03],\n",
        "       [  6.94237264e-03,  -4.91453739e-03],\n",
        "       [  6.94234280e-03,  -4.91436876e-03],\n",
        "       [  6.94154623e-03,  -4.91206417e-03],\n",
        "       [  6.93127894e-03,  -4.89283942e-03],\n",
        "       [  6.82962986e-03,  -4.88524182e-03],\n",
        "       [  4.88866334e-03,  -6.09609157e-03],\n",
        "       [ -2.96997052e-03,  -7.76208539e-03],\n",
        "       [ -5.48842758e-03,  -4.21784645e-03],\n",
        "       [  1.18024650e-02,  -8.68741280e-03],\n",
        "       [  1.17227607e-02,  -5.29500516e-03]])"
       ]
      }
     ],
     "prompt_number": 103
    },
    {
     "cell_type": "code",
     "collapsed": false,
     "input": [
      "system"
     ],
     "language": "python",
     "metadata": {},
     "outputs": [
      {
       "metadata": {},
       "output_type": "pyout",
       "prompt_number": 104,
       "text": [
        "array([[[  2.22019882,   1.90295076],\n",
        "        [  0.13091845,   0.11136477]],\n",
        "\n",
        "       [[  3.40517798,   1.90484925],\n",
        "        [  0.14285963,   0.1129725 ]],\n",
        "\n",
        "       [[  4.450221  ,   1.86393248],\n",
        "        [  0.15187094,   0.10029654]],\n",
        "\n",
        "       ..., \n",
        "       [[ 19.40590063,  21.0923983 ],\n",
        "        [  0.13667888,   0.08906231]],\n",
        "\n",
        "       [[ 20.56370877,  21.00234209],\n",
        "        [  0.18777591,   0.08463446]],\n",
        "\n",
        "       [[ 21.41392132,  20.99420236],\n",
        "        [  0.17588082,   0.08335371]]])"
       ]
      }
     ],
     "prompt_number": 104
    },
    {
     "cell_type": "code",
     "collapsed": false,
     "input": [
      "x = []\n",
      "y = []\n",
      "for i in xrange(len(system)):\n",
      "    x.append(system[i][0][0])\n",
      "    y.append(system[i][1][1])\n",
      "plt.scatter(x,y);"
     ],
     "language": "python",
     "metadata": {},
     "outputs": [
      {
       "metadata": {},
       "output_type": "display_data",
       "png": "[encoded data removed]",
       "text": [
        "<matplotlib.figure.Figure at 0xb14c516c>"
       ]
      }
     ],
     "prompt_number": 105
    },
    {
     "cell_type": "code",
     "collapsed": false,
     "input": [],
     "language": "python",
     "metadata": {},
     "outputs": []
    }
   ],
   "metadata": {}
  }
 ]
}