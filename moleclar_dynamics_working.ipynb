{
 "metadata": {
  "name": ""
 },
 "nbformat": 3,
 "nbformat_minor": 0,
 "worksheets": [
  {
   "cells": [
    {
     "cell_type": "code",
     "collapsed": false,
     "input": [
      "import numpy as np\n",
      "import matplotlib.pyplot as plt\n",
      "from scipy.constants import nano, pico, N_A, m_p, milli, micro\n",
      "%matplotlib inline\n",
      "import time\n",
      "import scipy.spatial.distance as spd"
     ],
     "language": "python",
     "metadata": {},
     "outputs": [],
     "prompt_number": 66
    },
    {
     "cell_type": "code",
     "collapsed": false,
     "input": [
      "n = 400 # number of atoms in the system\n",
      "#e = sigma = 1.\n",
      "system = np.zeros([n,2,2])\n",
      "# initialization\n",
      "for i in xrange(n):\n",
      "    system[i][0][0] = i%20 + 15 # positions in a 3X3 lattice\n",
      "    system[i][0][1] = i/20 + 15 # 3 is the square root of 9. if n is changed, so should this value!\n",
      "    system[i][1] = np.array([np.random.normal(),np.random.normal()])"
     ],
     "language": "python",
     "metadata": {},
     "outputs": [],
     "prompt_number": 171
    },
    {
     "cell_type": "code",
     "collapsed": false,
     "input": [
      "#n = 400 # number of atoms in the system\n",
      "#e = sigma = 1.\n",
      "#system = np.zeros([n,2,2])\n",
      "# initialization\n",
      "#for i in xrange(n):\n",
      "#    system[i][0][0] = i%20 # positions in a 3X3 lattice\n",
      "#    system[i][0][1] = i/20 # 3 is the square root of 9. if n is changed, so should this value!\n",
      "    #system[i][1] = np.array([0.1,0.1]) # x & y momenta = 1\n",
      "#    system[i][1] = np.array([np.random.normal(),np.random.normal()])\n",
      "    #system[i][1][0] = 1 # positions in a 3X3 lattice\n",
      "    #system[i][1][1] = 1 # 3 is the square root of 9. if n is changed, so should this value!\n",
      "    \n",
      "n = 400 # number of atoms in the system\n",
      "#e = sigma = 1.\n",
      "system = np.zeros([n,2,2])\n",
      "# initialization\n",
      "for i in xrange(n):\n",
      "    system[i][0][0] = i%20 + 15 # positions in a 3X3 lattice\n",
      "    system[i][0][1] = i/20 + 15 # 3 is the square root of 9. if n is changed, so should this value!\n",
      "    system[i][1] = np.array([np.random.normal(),np.random.normal()])\n",
      "    \n",
      "def update_position():\n",
      "    for i in xrange(len(system)):\n",
      "        system[i][0] += system[i][1]*step\n",
      "        if system[i][0][0] > 50:\n",
      "            system[i][0][0] = system[i][0][0]%50\n",
      "        if system[i][0][1] > 50:\n",
      "            system[i][0][0] = system[i][0][0]/50\n",
      "        if system[i][0][0] < -0:\n",
      "            system[i][0][0] = system[i][0][0]%50\n",
      "        if system[i][0][1] < -0:\n",
      "            system[i][0][1] += 50\n",
      "    return system\n",
      "\n",
      "def update_momentum():\n",
      "    for i in xrange(len(system)):\n",
      "        system[i][1] += force[i]*step/2\n",
      "    return system\n",
      "\n",
      "def lennard_jones(r):\n",
      "    return (2*(1./r)**13 - (1./r)**7)*milli\n",
      "\n",
      "force = np.zeros([n,2])\n",
      "\n",
      "def update_forces():\n",
      "    for i in xrange(len(system)):\n",
      "        pxdot = 0\n",
      "        pydot = 0\n",
      "        for j in xrange(len(system)):\n",
      "            if j != i :\n",
      "                r = spd.euclidean(system[i][0],system[j][0])\n",
      "                theta = np.arctan((system[j][0][1] - system[i][0][1])/(system[j][0][0] - system[i][0][0]))\n",
      "                theta = theta*180/np.pi\n",
      "                pxdot += lennard_jones(r)*np.cos(theta)\n",
      "                pydot += lennard_jones(r)*np.sin(theta)\n",
      "        force[i] = np.array([pxdot, pydot])\n",
      "    return force\n",
      "\n",
      "def radial_number_density():\n",
      "    rad_dist = []\n",
      "    for i in xrange(len(system)):\n",
      "        for j in xrange(len(system)):\n",
      "            if i != j:\n",
      "                temp = spd.euclidean(system[i][0],system[j][0])\n",
      "                rad_dist.append(temp)\n",
      "    return rad_dist\n",
      "\n",
      "initial_dist = radial_number_density()\n",
      "\n",
      "step = 1.*milli\n",
      "#step = 1.\n",
      "total_time = time.time()\n",
      "for timestep in range(1000):\n",
      "    start_time = time.time()\n",
      "    update_momentum()\n",
      "    print \"first momemtum update %f\" %(time.time()-start_time)\n",
      "    start_time = time.time()\n",
      "    update_position()\n",
      "    print \"position update %f\" %(time.time()-start_time)\n",
      "    start_time = time.time()\n",
      "    update_forces()\n",
      "    print \"force update %f\" %(time.time()-start_time)\n",
      "    start_time = time.time()\n",
      "    update_momentum()\n",
      "    print \"second momemtum update %f\" %(time.time()-start_time)\n",
      "print \"total time %f\" %(time.time()-total_time)\n",
      "final_dist = radial_number_density()"
     ],
     "language": "python",
     "metadata": {},
     "outputs": [
      {
       "output_type": "stream",
       "stream": "stdout",
       "text": [
        "first momemtum update 0.011875\n",
        "position update 0.014543\n",
        "force update 22.741760"
       ]
      },
      {
       "output_type": "stream",
       "stream": "stdout",
       "text": [
        "\n",
        "second momemtum update 0.013523\n",
        "first momemtum update 0.012445\n",
        "position update 0.014599\n",
        "force update 22.695061"
       ]
      },
      {
       "output_type": "stream",
       "stream": "stdout",
       "text": [
        "\n",
        "second momemtum update 0.011920\n",
        "first momemtum update 0.011869\n",
        "position update 0.014675\n",
        "force update 23.103712"
       ]
      },
      {
       "output_type": "stream",
       "stream": "stdout",
       "text": [
        "\n",
        "second momemtum update 0.012774\n",
        "first momemtum update 0.012481\n",
        "position update 0.016610\n",
        "force update 24.264870"
       ]
      },
      {
       "output_type": "stream",
       "stream": "stdout",
       "text": [
        "\n",
        "second momemtum update 0.012114\n",
        "first momemtum update 0.012395\n",
        "position update 0.014803\n",
        "force update 22.801975"
       ]
      },
      {
       "output_type": "stream",
       "stream": "stdout",
       "text": [
        "\n",
        "second momemtum update 0.012528\n",
        "first momemtum update 0.011881\n",
        "position update 0.014358\n",
        "force update 23.924913"
       ]
      },
      {
       "output_type": "stream",
       "stream": "stdout",
       "text": [
        "\n",
        "second momemtum update 0.015165\n",
        "first momemtum update 0.014395\n",
        "position update 0.015688\n",
        "force update 22.305950"
       ]
      },
      {
       "output_type": "stream",
       "stream": "stdout",
       "text": [
        "\n",
        "second momemtum update 0.012122\n",
        "first momemtum update 0.012201\n",
        "position update 0.014625\n",
        "force update 22.342696"
       ]
      },
      {
       "output_type": "stream",
       "stream": "stdout",
       "text": [
        "\n",
        "second momemtum update 0.012672\n",
        "first momemtum update 0.011900\n",
        "position update 0.014512\n",
        "force update 22.560663"
       ]
      },
      {
       "output_type": "stream",
       "stream": "stdout",
       "text": [
        "\n",
        "second momemtum update 0.012015\n",
        "first momemtum update 0.012123\n",
        "position update 0.014504\n",
        "force update 22.318906"
       ]
      },
      {
       "output_type": "stream",
       "stream": "stdout",
       "text": [
        "\n",
        "second momemtum update 0.012089\n",
        "first momemtum update 0.012011\n",
        "position update 0.016145\n",
        "force update 22.276370"
       ]
      },
      {
       "output_type": "stream",
       "stream": "stdout",
       "text": [
        "\n",
        "second momemtum update 0.012022\n",
        "first momemtum update 0.012084\n",
        "position update 0.014543\n",
        "force update 22.391897"
       ]
      },
      {
       "output_type": "stream",
       "stream": "stdout",
       "text": [
        "\n",
        "second momemtum update 0.011835\n",
        "first momemtum update 0.011819\n",
        "position update 0.014597\n",
        "force update 22.361999"
       ]
      },
      {
       "output_type": "stream",
       "stream": "stdout",
       "text": [
        "\n",
        "second momemtum update 0.011905\n",
        "first momemtum update 0.011816\n",
        "position update 0.014616\n",
        "force update 22.398415"
       ]
      },
      {
       "output_type": "stream",
       "stream": "stdout",
       "text": [
        "\n",
        "second momemtum update 0.012077\n",
        "first momemtum update 0.012087\n",
        "position update 0.014466\n",
        "force update 22.448428"
       ]
      },
      {
       "output_type": "stream",
       "stream": "stdout",
       "text": [
        "\n",
        "second momemtum update 0.012081\n",
        "first momemtum update 0.012044\n",
        "position update 0.014448\n",
        "force update 22.467873"
       ]
      },
      {
       "output_type": "stream",
       "stream": "stdout",
       "text": [
        "\n",
        "second momemtum update 0.012096\n",
        "first momemtum update 0.012147\n",
        "position update 0.014590\n",
        "force update 22.407712"
       ]
      },
      {
       "output_type": "stream",
       "stream": "stdout",
       "text": [
        "\n",
        "second momemtum update 0.011819\n",
        "first momemtum update 0.012098\n",
        "position update 0.014433\n",
        "force update 22.380981"
       ]
      },
      {
       "output_type": "stream",
       "stream": "stdout",
       "text": [
        "\n",
        "second momemtum update 0.012032\n",
        "first momemtum update 0.012041\n",
        "position update 0.014469\n",
        "force update 22.247613"
       ]
      },
      {
       "output_type": "stream",
       "stream": "stdout",
       "text": [
        "\n",
        "second momemtum update 0.011900\n",
        "first momemtum update 0.011823\n",
        "position update 0.014566\n",
        "force update 22.359881"
       ]
      },
      {
       "output_type": "stream",
       "stream": "stdout",
       "text": [
        "\n",
        "second momemtum update 0.012114\n",
        "first momemtum update 0.012075\n",
        "position update 0.014398\n",
        "force update 23.593275"
       ]
      },
      {
       "output_type": "stream",
       "stream": "stdout",
       "text": [
        "\n",
        "second momemtum update 0.012675\n",
        "first momemtum update 0.012231\n",
        "position update 0.016152\n",
        "force update 24.229312"
       ]
      },
      {
       "output_type": "stream",
       "stream": "stdout",
       "text": [
        "\n",
        "second momemtum update 0.011808\n",
        "first momemtum update 0.012030\n",
        "position update 0.014508\n",
        "force update 25.328809"
       ]
      },
      {
       "output_type": "stream",
       "stream": "stdout",
       "text": [
        "\n",
        "second momemtum update 0.012084\n",
        "first momemtum update 0.012079\n",
        "position update 0.014716\n",
        "force update 27.690646"
       ]
      },
      {
       "output_type": "stream",
       "stream": "stdout",
       "text": [
        "\n",
        "second momemtum update 0.018116\n",
        "first momemtum update 0.014237\n",
        "position update 0.021308"
       ]
      },
      {
       "output_type": "stream",
       "stream": "stdout",
       "text": [
        "\n",
        "force update 25.372800"
       ]
      },
      {
       "output_type": "stream",
       "stream": "stdout",
       "text": [
        "\n",
        "second momemtum update 0.012009\n",
        "first momemtum update 0.012278\n",
        "position update 0.014805\n",
        "force update 23.635039"
       ]
      },
      {
       "output_type": "stream",
       "stream": "stdout",
       "text": [
        "\n",
        "second momemtum update 0.011833\n",
        "first momemtum update 0.011829\n",
        "position update 0.014501\n",
        "force update 24.070531"
       ]
      },
      {
       "output_type": "stream",
       "stream": "stdout",
       "text": [
        "\n",
        "second momemtum update 0.012159\n",
        "first momemtum update 0.012143\n",
        "position update 0.014446\n",
        "force update 23.270598"
       ]
      },
      {
       "output_type": "stream",
       "stream": "stdout",
       "text": [
        "\n",
        "second momemtum update 0.011821\n",
        "first momemtum update 0.011807\n",
        "position update 0.014406\n",
        "force update 23.479817"
       ]
      },
      {
       "output_type": "stream",
       "stream": "stdout",
       "text": [
        "\n",
        "second momemtum update 0.011828\n",
        "first momemtum update 0.011813\n",
        "position update 0.014579\n",
        "force update 23.019291"
       ]
      },
      {
       "output_type": "stream",
       "stream": "stdout",
       "text": [
        "\n",
        "second momemtum update 0.012053\n",
        "first momemtum update 0.012047\n",
        "position update 0.014459\n",
        "force update 25.677830"
       ]
      },
      {
       "output_type": "stream",
       "stream": "stdout",
       "text": [
        "\n",
        "second momemtum update 0.089060"
       ]
      },
      {
       "output_type": "stream",
       "stream": "stdout",
       "text": [
        "\n",
        "first momemtum update 0.012762\n",
        "position update 0.016357\n",
        "force update 26.820152"
       ]
      },
      {
       "output_type": "stream",
       "stream": "stdout",
       "text": [
        "\n",
        "second momemtum update 0.011803\n",
        "first momemtum update 0.011829\n",
        "position update 0.015137\n",
        "force update 28.641174"
       ]
      },
      {
       "output_type": "stream",
       "stream": "stdout",
       "text": [
        "\n",
        "second momemtum update 0.022267\n",
        "first momemtum update 0.021142\n",
        "position update 0.017715"
       ]
      },
      {
       "output_type": "stream",
       "stream": "stdout",
       "text": [
        "\n",
        "force update 25.064937"
       ]
      },
      {
       "output_type": "stream",
       "stream": "stdout",
       "text": [
        "\n",
        "second momemtum update 0.042561\n",
        "first momemtum update 0.012455"
       ]
      },
      {
       "output_type": "stream",
       "stream": "stdout",
       "text": [
        "\n",
        "position update 0.014483\n",
        "force update 24.432122"
       ]
      },
      {
       "output_type": "stream",
       "stream": "stdout",
       "text": [
        "\n",
        "second momemtum update 0.013550\n",
        "first momemtum update 0.011852\n",
        "position update 0.014441\n",
        "force update 23.163467"
       ]
      },
      {
       "output_type": "stream",
       "stream": "stdout",
       "text": [
        "\n",
        "second momemtum update 0.014321\n",
        "first momemtum update 0.015971\n",
        "position update 0.016821\n",
        "force update 22.958676"
       ]
      },
      {
       "output_type": "stream",
       "stream": "stdout",
       "text": [
        "\n",
        "second momemtum update 0.011788\n",
        "first momemtum update 0.011851\n",
        "position update 0.016176\n",
        "force update 22.812129"
       ]
      },
      {
       "output_type": "stream",
       "stream": "stdout",
       "text": [
        "\n",
        "second momemtum update 0.011786\n",
        "first momemtum update 0.011980\n",
        "position update 0.014514\n",
        "force update 23.052894"
       ]
      },
      {
       "output_type": "stream",
       "stream": "stdout",
       "text": [
        "\n",
        "second momemtum update 0.013817\n",
        "first momemtum update 0.012019\n",
        "position update 0.014371\n",
        "force update 23.053310"
       ]
      },
      {
       "output_type": "stream",
       "stream": "stdout",
       "text": [
        "\n",
        "second momemtum update 0.012071\n",
        "first momemtum update 0.012048\n",
        "position update 0.014439\n",
        "force update 23.279508"
       ]
      },
      {
       "output_type": "stream",
       "stream": "stdout",
       "text": [
        "\n",
        "second momemtum update 0.012677\n",
        "first momemtum update 0.012022\n",
        "position update 0.015234\n",
        "force update 23.085244"
       ]
      },
      {
       "output_type": "stream",
       "stream": "stdout",
       "text": [
        "\n",
        "second momemtum update 0.012545\n",
        "first momemtum update 0.011894\n",
        "position update 0.014547\n",
        "force update 23.379362"
       ]
      },
      {
       "output_type": "stream",
       "stream": "stdout",
       "text": [
        "\n",
        "second momemtum update 0.013077\n",
        "first momemtum update 0.013295\n",
        "position update 0.014594\n",
        "force update 22.920404"
       ]
      },
      {
       "output_type": "stream",
       "stream": "stdout",
       "text": [
        "\n",
        "second momemtum update 0.012025\n",
        "first momemtum update 0.012114\n",
        "position update 0.014581\n",
        "force update 23.884637"
       ]
      },
      {
       "output_type": "stream",
       "stream": "stdout",
       "text": [
        "\n",
        "second momemtum update 0.013993\n",
        "first momemtum update 0.015036\n",
        "position update 0.014762\n",
        "force update 23.197836"
       ]
      },
      {
       "output_type": "stream",
       "stream": "stdout",
       "text": [
        "\n",
        "second momemtum update 0.011779\n",
        "first momemtum update 0.012142\n",
        "position update 0.014446\n",
        "force update 25.423992"
       ]
      },
      {
       "output_type": "stream",
       "stream": "stdout",
       "text": [
        "\n",
        "second momemtum update 0.012324\n",
        "first momemtum update 0.013762\n",
        "position update 0.017582\n",
        "force update 23.972916"
       ]
      },
      {
       "output_type": "stream",
       "stream": "stdout",
       "text": [
        "\n",
        "second momemtum update 0.011795\n",
        "first momemtum update 0.011794\n",
        "position update 0.014473\n",
        "force update 25.469894"
       ]
      },
      {
       "output_type": "stream",
       "stream": "stdout",
       "text": [
        "\n",
        "second momemtum update 0.025913\n",
        "first momemtum update 0.012149\n",
        "position update 0.014701"
       ]
      },
      {
       "output_type": "stream",
       "stream": "stdout",
       "text": [
        "\n",
        "force update 25.592148"
       ]
      },
      {
       "output_type": "stream",
       "stream": "stdout",
       "text": [
        "\n",
        "second momemtum update 0.012798\n",
        "first momemtum update 0.012045\n",
        "position update 0.014604\n",
        "force update 24.339774"
       ]
      },
      {
       "output_type": "stream",
       "stream": "stdout",
       "text": [
        "\n",
        "second momemtum update 0.011907\n",
        "first momemtum update 0.011812\n",
        "position update 0.014506\n",
        "force update 23.673652"
       ]
      },
      {
       "output_type": "stream",
       "stream": "stdout",
       "text": [
        "\n",
        "second momemtum update 0.016417\n",
        "first momemtum update 0.015712\n",
        "position update 0.014697\n",
        "force update 30.681307"
       ]
      },
      {
       "output_type": "stream",
       "stream": "stdout",
       "text": [
        "\n",
        "second momemtum update 0.041184\n",
        "first momemtum update 0.023314"
       ]
      },
      {
       "output_type": "stream",
       "stream": "stdout",
       "text": [
        "\n",
        "position update 0.022082\n",
        "force update 26.002629"
       ]
      },
      {
       "output_type": "stream",
       "stream": "stdout",
       "text": [
        "\n",
        "second momemtum update 0.012494\n",
        "first momemtum update 0.012264\n",
        "position update 0.014534\n",
        "force update 23.976590"
       ]
      },
      {
       "output_type": "stream",
       "stream": "stdout",
       "text": [
        "\n",
        "second momemtum update 0.012321\n",
        "first momemtum update 0.012115\n",
        "position update 0.014891\n",
        "force update 24.800734"
       ]
      },
      {
       "output_type": "stream",
       "stream": "stdout",
       "text": [
        "\n",
        "second momemtum update 0.023204\n",
        "first momemtum update 0.011801\n",
        "position update 0.014320\n",
        "force update 25.665921"
       ]
      },
      {
       "output_type": "stream",
       "stream": "stdout",
       "text": [
        "\n",
        "second momemtum update 0.012109\n",
        "first momemtum update 0.013811\n",
        "position update 0.014547\n",
        "force update 28.867680"
       ]
      },
      {
       "output_type": "stream",
       "stream": "stdout",
       "text": [
        "\n",
        "second momemtum update 0.035761\n",
        "first momemtum update 0.013911\n",
        "position update 0.014851"
       ]
      },
      {
       "output_type": "stream",
       "stream": "stdout",
       "text": [
        "\n",
        "force update 27.693292"
       ]
      },
      {
       "output_type": "stream",
       "stream": "stdout",
       "text": [
        "\n",
        "second momemtum update 0.023884\n",
        "first momemtum update 0.011803\n",
        "position update 0.014628"
       ]
      },
      {
       "output_type": "stream",
       "stream": "stdout",
       "text": [
        "\n",
        "force update 23.600931"
       ]
      },
      {
       "output_type": "stream",
       "stream": "stdout",
       "text": [
        "\n",
        "second momemtum update 0.035385\n",
        "first momemtum update 0.011920\n",
        "position update 0.014674"
       ]
      },
      {
       "output_type": "stream",
       "stream": "stdout",
       "text": [
        "\n",
        "force update 23.396976"
       ]
      },
      {
       "output_type": "stream",
       "stream": "stdout",
       "text": [
        "\n",
        "second momemtum update 0.017769\n",
        "first momemtum update 0.013072\n",
        "position update 0.015471\n",
        "force update 23.505087"
       ]
      },
      {
       "output_type": "stream",
       "stream": "stdout",
       "text": [
        "\n",
        "second momemtum update 0.012628\n",
        "first momemtum update 0.011962\n",
        "position update 0.014618\n",
        "force update 23.340329"
       ]
      },
      {
       "output_type": "stream",
       "stream": "stdout",
       "text": [
        "\n",
        "second momemtum update 0.012018\n",
        "first momemtum update 0.012027\n",
        "position update 0.015866\n",
        "force update 23.219340"
       ]
      },
      {
       "output_type": "stream",
       "stream": "stdout",
       "text": [
        "\n",
        "second momemtum update 0.011983\n",
        "first momemtum update 0.011775\n",
        "position update 0.014455\n",
        "force update 23.282843"
       ]
      },
      {
       "output_type": "stream",
       "stream": "stdout",
       "text": [
        "\n",
        "second momemtum update 0.013654\n",
        "first momemtum update 0.012696\n",
        "position update 0.014845\n",
        "force update 23.293515"
       ]
      },
      {
       "output_type": "stream",
       "stream": "stdout",
       "text": [
        "\n",
        "second momemtum update 0.012160\n",
        "first momemtum update 0.011953\n",
        "position update 0.018004\n",
        "force update 23.068487"
       ]
      },
      {
       "output_type": "stream",
       "stream": "stdout",
       "text": [
        "\n",
        "second momemtum update 0.013077\n",
        "first momemtum update 0.012128\n",
        "position update 0.015415\n",
        "force update 23.036607"
       ]
      },
      {
       "output_type": "stream",
       "stream": "stdout",
       "text": [
        "\n",
        "second momemtum update 0.012632\n",
        "first momemtum update 0.012158\n",
        "position update 0.015627\n",
        "force update 23.027811"
       ]
      },
      {
       "output_type": "stream",
       "stream": "stdout",
       "text": [
        "\n",
        "second momemtum update 0.014656\n",
        "first momemtum update 0.014229\n",
        "position update 0.014689\n",
        "force update 23.063192"
       ]
      },
      {
       "output_type": "stream",
       "stream": "stdout",
       "text": [
        "\n",
        "second momemtum update 0.013705\n",
        "first momemtum update 0.016177\n",
        "position update 0.014708\n",
        "force update 23.265479"
       ]
      },
      {
       "output_type": "stream",
       "stream": "stdout",
       "text": [
        "\n",
        "second momemtum update 0.011800\n",
        "first momemtum update 0.011893\n",
        "position update 0.014540\n",
        "force update 23.234792"
       ]
      },
      {
       "output_type": "stream",
       "stream": "stdout",
       "text": [
        "\n",
        "second momemtum update 0.012328\n",
        "first momemtum update 0.012044\n",
        "position update 0.017499\n",
        "force update 23.095419"
       ]
      },
      {
       "output_type": "stream",
       "stream": "stdout",
       "text": [
        "\n",
        "second momemtum update 0.012105\n",
        "first momemtum update 0.013637\n",
        "position update 0.015392\n",
        "force update 23.180087"
       ]
      },
      {
       "output_type": "stream",
       "stream": "stdout",
       "text": [
        "\n",
        "second momemtum update 0.012181\n",
        "first momemtum update 0.012189\n",
        "position update 0.014513\n",
        "force update 23.314491"
       ]
      },
      {
       "output_type": "stream",
       "stream": "stdout",
       "text": [
        "\n",
        "second momemtum update 0.011810\n",
        "first momemtum update 0.011790\n",
        "position update 0.014474\n",
        "force update 23.389273"
       ]
      },
      {
       "output_type": "stream",
       "stream": "stdout",
       "text": [
        "\n",
        "second momemtum update 0.012403\n",
        "first momemtum update 0.012301\n",
        "position update 0.015527\n",
        "force update 23.104303"
       ]
      },
      {
       "output_type": "stream",
       "stream": "stdout",
       "text": [
        "\n",
        "second momemtum update 0.011801\n",
        "first momemtum update 0.011926\n",
        "position update 0.014423\n",
        "force update 23.210747"
       ]
      },
      {
       "output_type": "stream",
       "stream": "stdout",
       "text": [
        "\n",
        "second momemtum update 0.011797\n",
        "first momemtum update 0.012081\n",
        "position update 0.014900\n",
        "force update 23.221146"
       ]
      },
      {
       "output_type": "stream",
       "stream": "stdout",
       "text": [
        "\n",
        "second momemtum update 0.014806\n",
        "first momemtum update 0.013758\n",
        "position update 0.014953\n",
        "force update 23.283579"
       ]
      },
      {
       "output_type": "stream",
       "stream": "stdout",
       "text": [
        "\n",
        "second momemtum update 0.011770\n",
        "first momemtum update 0.013169\n",
        "position update 0.015296\n",
        "force update 23.321636"
       ]
      },
      {
       "output_type": "stream",
       "stream": "stdout",
       "text": [
        "\n",
        "second momemtum update 0.012445\n",
        "first momemtum update 0.012515\n",
        "position update 0.014442\n",
        "force update 23.184961"
       ]
      },
      {
       "output_type": "stream",
       "stream": "stdout",
       "text": [
        "\n",
        "second momemtum update 0.014140\n",
        "first momemtum update 0.012112\n",
        "position update 0.014459\n",
        "force update 23.208734"
       ]
      },
      {
       "output_type": "stream",
       "stream": "stdout",
       "text": [
        "\n",
        "second momemtum update 0.014389\n",
        "first momemtum update 0.012963\n",
        "position update 0.016687\n",
        "force update 23.472092"
       ]
      },
      {
       "output_type": "stream",
       "stream": "stdout",
       "text": [
        "\n",
        "second momemtum update 0.012134\n",
        "first momemtum update 0.013060\n",
        "position update 0.015248\n",
        "force update 23.092166"
       ]
      },
      {
       "output_type": "stream",
       "stream": "stdout",
       "text": [
        "\n",
        "second momemtum update 0.014961\n",
        "first momemtum update 0.013652\n",
        "position update 0.015405\n",
        "force update 23.149183"
       ]
      },
      {
       "output_type": "stream",
       "stream": "stdout",
       "text": [
        "\n",
        "second momemtum update 0.013766\n",
        "first momemtum update 0.011907\n",
        "position update 0.014794\n",
        "force update 23.289417"
       ]
      },
      {
       "output_type": "stream",
       "stream": "stdout",
       "text": [
        "\n",
        "second momemtum update 0.012134\n",
        "first momemtum update 0.011949\n",
        "position update 0.016859\n",
        "force update 23.190540"
       ]
      },
      {
       "output_type": "stream",
       "stream": "stdout",
       "text": [
        "\n",
        "second momemtum update 0.012175\n",
        "first momemtum update 0.013096\n",
        "position update 0.014261\n",
        "force update 23.123832"
       ]
      },
      {
       "output_type": "stream",
       "stream": "stdout",
       "text": [
        "\n",
        "second momemtum update 0.011946\n",
        "first momemtum update 0.012120\n",
        "position update 0.014514\n",
        "force update 23.316564"
       ]
      },
      {
       "output_type": "stream",
       "stream": "stdout",
       "text": [
        "\n",
        "second momemtum update 0.012011\n",
        "first momemtum update 0.012620\n",
        "position update 0.014830\n",
        "force update 23.401413"
       ]
      },
      {
       "output_type": "stream",
       "stream": "stdout",
       "text": [
        "\n",
        "second momemtum update 0.013794\n",
        "first momemtum update 0.012017\n",
        "position update 0.017472\n",
        "force update 23.481260"
       ]
      },
      {
       "output_type": "stream",
       "stream": "stdout",
       "text": [
        "\n",
        "second momemtum update 0.012595\n",
        "first momemtum update 0.011890\n",
        "position update 0.014533\n",
        "force update 23.236326"
       ]
      },
      {
       "output_type": "stream",
       "stream": "stdout",
       "text": [
        "\n",
        "second momemtum update 0.014496\n",
        "first momemtum update 0.012236\n",
        "position update 0.014882\n",
        "force update 23.794416"
       ]
      },
      {
       "output_type": "stream",
       "stream": "stdout",
       "text": [
        "\n",
        "second momemtum update 0.012320\n",
        "first momemtum update 0.012016\n",
        "position update 0.014782\n",
        "force update 23.173616"
       ]
      },
      {
       "output_type": "stream",
       "stream": "stdout",
       "text": [
        "\n",
        "second momemtum update 0.011905\n",
        "first momemtum update 0.012019\n",
        "position update 0.014449\n",
        "force update 24.746260"
       ]
      },
      {
       "output_type": "stream",
       "stream": "stdout",
       "text": [
        "\n",
        "second momemtum update 0.011859\n",
        "first momemtum update 0.011933\n",
        "position update 0.014471\n",
        "force update 23.527453"
       ]
      },
      {
       "output_type": "stream",
       "stream": "stdout",
       "text": [
        "\n",
        "second momemtum update 0.013660\n",
        "first momemtum update 0.013119\n",
        "position update 0.014692\n",
        "force update 22.807581"
       ]
      },
      {
       "output_type": "stream",
       "stream": "stdout",
       "text": [
        "\n",
        "second momemtum update 0.012245\n",
        "first momemtum update 0.012146\n",
        "position update 0.014508\n",
        "force update 22.833237"
       ]
      },
      {
       "output_type": "stream",
       "stream": "stdout",
       "text": [
        "\n",
        "second momemtum update 0.012030\n",
        "first momemtum update 0.011952\n",
        "position update 0.014641\n",
        "force update 22.650704"
       ]
      },
      {
       "output_type": "stream",
       "stream": "stdout",
       "text": [
        "\n",
        "second momemtum update 0.011986\n",
        "first momemtum update 0.012185\n",
        "position update 0.014322\n",
        "force update 22.541634"
       ]
      },
      {
       "output_type": "stream",
       "stream": "stdout",
       "text": [
        "\n",
        "second momemtum update 0.012121\n",
        "first momemtum update 0.012082\n",
        "position update 0.015087\n",
        "force update 22.581364"
       ]
      },
      {
       "output_type": "stream",
       "stream": "stdout",
       "text": [
        "\n",
        "second momemtum update 0.011812\n",
        "first momemtum update 0.012053\n",
        "position update 0.014488\n",
        "force update 22.754428"
       ]
      },
      {
       "output_type": "stream",
       "stream": "stdout",
       "text": [
        "\n",
        "second momemtum update 0.013123\n",
        "first momemtum update 0.013800\n",
        "position update 0.015593\n",
        "force update 23.091897"
       ]
      },
      {
       "output_type": "stream",
       "stream": "stdout",
       "text": [
        "\n",
        "second momemtum update 0.011880\n",
        "first momemtum update 0.011858\n",
        "position update 0.014700\n",
        "force update 22.657893"
       ]
      },
      {
       "output_type": "stream",
       "stream": "stdout",
       "text": [
        "\n",
        "second momemtum update 0.013336\n",
        "first momemtum update 0.011928\n",
        "position update 0.014528\n",
        "force update 23.013306"
       ]
      },
      {
       "output_type": "stream",
       "stream": "stdout",
       "text": [
        "\n",
        "second momemtum update 0.012267\n",
        "first momemtum update 0.012057\n",
        "position update 0.015334\n",
        "force update 22.628454"
       ]
      },
      {
       "output_type": "stream",
       "stream": "stdout",
       "text": [
        "\n",
        "second momemtum update 0.012208\n",
        "first momemtum update 0.012042\n",
        "position update 0.014631\n",
        "force update 22.914804"
       ]
      },
      {
       "output_type": "stream",
       "stream": "stdout",
       "text": [
        "\n",
        "second momemtum update 0.011968\n",
        "first momemtum update 0.011932\n",
        "position update 0.014614\n",
        "force update 24.023531"
       ]
      },
      {
       "output_type": "stream",
       "stream": "stdout",
       "text": [
        "\n",
        "second momemtum update 0.012084\n",
        "first momemtum update 0.012942\n",
        "position update 0.014646\n",
        "force update 24.255342"
       ]
      },
      {
       "output_type": "stream",
       "stream": "stdout",
       "text": [
        "\n",
        "second momemtum update 0.013150\n",
        "first momemtum update 0.012207\n",
        "position update 0.014475\n",
        "force update 25.081934"
       ]
      },
      {
       "output_type": "stream",
       "stream": "stdout",
       "text": [
        "\n",
        "second momemtum update 0.014228\n",
        "first momemtum update 0.015191\n",
        "position update 0.016052\n",
        "force update 22.831314"
       ]
      },
      {
       "output_type": "stream",
       "stream": "stdout",
       "text": [
        "\n",
        "second momemtum update 0.011874\n",
        "first momemtum update 0.011844\n",
        "position update 0.014747\n",
        "force update 22.868377"
       ]
      },
      {
       "output_type": "stream",
       "stream": "stdout",
       "text": [
        "\n",
        "second momemtum update 0.012297\n",
        "first momemtum update 0.012118\n",
        "position update 0.014389\n",
        "force update 23.115263"
       ]
      },
      {
       "output_type": "stream",
       "stream": "stdout",
       "text": [
        "\n",
        "second momemtum update 0.011773\n",
        "first momemtum update 0.011798\n",
        "position update 0.014509\n",
        "force update 22.814985"
       ]
      },
      {
       "output_type": "stream",
       "stream": "stdout",
       "text": [
        "\n",
        "second momemtum update 0.011852\n",
        "first momemtum update 0.012243\n",
        "position update 0.015831\n",
        "force update 22.767558"
       ]
      },
      {
       "output_type": "stream",
       "stream": "stdout",
       "text": [
        "\n",
        "second momemtum update 0.013111\n",
        "first momemtum update 0.011983\n",
        "position update 0.014523\n",
        "force update 24.809164"
       ]
      },
      {
       "output_type": "stream",
       "stream": "stdout",
       "text": [
        "\n",
        "second momemtum update 0.011983\n",
        "first momemtum update 0.013679\n",
        "position update 0.014453\n",
        "force update 24.686006"
       ]
      },
      {
       "output_type": "stream",
       "stream": "stdout",
       "text": [
        "\n",
        "second momemtum update 0.012416\n",
        "first momemtum update 0.012015\n",
        "position update 0.016352\n",
        "force update 22.558586"
       ]
      },
      {
       "output_type": "stream",
       "stream": "stdout",
       "text": [
        "\n",
        "second momemtum update 0.011939\n",
        "first momemtum update 0.012139\n",
        "position update 0.014505\n",
        "force update 22.434413"
       ]
      },
      {
       "output_type": "stream",
       "stream": "stdout",
       "text": [
        "\n",
        "second momemtum update 0.012055\n",
        "first momemtum update 0.012411\n",
        "position update 0.014805\n",
        "force update 22.468989"
       ]
      },
      {
       "output_type": "stream",
       "stream": "stdout",
       "text": [
        "\n",
        "second momemtum update 0.012080\n",
        "first momemtum update 0.011976\n",
        "position update 0.014374\n",
        "force update 22.541307"
       ]
      },
      {
       "output_type": "stream",
       "stream": "stdout",
       "text": [
        "\n",
        "second momemtum update 0.012048\n",
        "first momemtum update 0.011997\n",
        "position update 0.014514\n",
        "force update 22.472234"
       ]
      },
      {
       "output_type": "stream",
       "stream": "stdout",
       "text": [
        "\n",
        "second momemtum update 0.011819\n",
        "first momemtum update 0.012028\n",
        "position update 0.014503\n",
        "force update 22.453369"
       ]
      },
      {
       "output_type": "stream",
       "stream": "stdout",
       "text": [
        "\n",
        "second momemtum update 0.012232\n",
        "first momemtum update 0.012007\n",
        "position update 0.014634\n",
        "force update 22.443813"
       ]
      },
      {
       "output_type": "stream",
       "stream": "stdout",
       "text": [
        "\n",
        "second momemtum update 0.012130\n",
        "first momemtum update 0.012023\n",
        "position update 0.014619\n",
        "force update 22.453852"
       ]
      },
      {
       "output_type": "stream",
       "stream": "stdout",
       "text": [
        "\n",
        "second momemtum update 0.012058\n",
        "first momemtum update 0.012032\n",
        "position update 0.014517\n",
        "force update 22.683968"
       ]
      },
      {
       "output_type": "stream",
       "stream": "stdout",
       "text": [
        "\n",
        "second momemtum update 0.012069\n",
        "first momemtum update 0.012026\n",
        "position update 0.014475\n",
        "force update 22.481937"
       ]
      },
      {
       "output_type": "stream",
       "stream": "stdout",
       "text": [
        "\n",
        "second momemtum update 0.011918\n",
        "first momemtum update 0.011797\n",
        "position update 0.014523\n",
        "force update 22.471920"
       ]
      },
      {
       "output_type": "stream",
       "stream": "stdout",
       "text": [
        "\n",
        "second momemtum update 0.013079\n",
        "first momemtum update 0.013512\n",
        "position update 0.014511\n",
        "force update 22.539279"
       ]
      },
      {
       "output_type": "stream",
       "stream": "stdout",
       "text": [
        "\n",
        "second momemtum update 0.014242\n",
        "first momemtum update 0.012398\n",
        "position update 0.014449\n",
        "force update 22.510214"
       ]
      },
      {
       "output_type": "stream",
       "stream": "stdout",
       "text": [
        "\n",
        "second momemtum update 0.012118\n",
        "first momemtum update 0.012088\n",
        "position update 0.014444\n",
        "force update 22.457075"
       ]
      },
      {
       "output_type": "stream",
       "stream": "stdout",
       "text": [
        "\n",
        "second momemtum update 0.011867\n",
        "first momemtum update 0.012354\n",
        "position update 0.014595\n",
        "force update 22.402736"
       ]
      },
      {
       "output_type": "stream",
       "stream": "stdout",
       "text": [
        "\n",
        "second momemtum update 0.011969\n",
        "first momemtum update 0.012571\n",
        "position update 0.014558\n",
        "force update 22.689320"
       ]
      },
      {
       "output_type": "stream",
       "stream": "stdout",
       "text": [
        "\n",
        "second momemtum update 0.011830\n",
        "first momemtum update 0.012059\n",
        "position update 0.014607\n",
        "force update 22.483953"
       ]
      },
      {
       "output_type": "stream",
       "stream": "stdout",
       "text": [
        "\n",
        "second momemtum update 0.011737\n",
        "first momemtum update 0.011774\n",
        "position update 0.014628\n",
        "force update 22.681802"
       ]
      },
      {
       "output_type": "stream",
       "stream": "stdout",
       "text": [
        "\n",
        "second momemtum update 0.012153\n",
        "first momemtum update 0.012187\n",
        "position update 0.014622\n",
        "force update 22.603169"
       ]
      },
      {
       "output_type": "stream",
       "stream": "stdout",
       "text": [
        "\n",
        "second momemtum update 0.011921\n",
        "first momemtum update 0.012063\n",
        "position update 0.014386\n",
        "force update 22.486675"
       ]
      },
      {
       "output_type": "stream",
       "stream": "stdout",
       "text": [
        "\n",
        "second momemtum update 0.012020\n",
        "first momemtum update 0.011896\n",
        "position update 0.014536\n",
        "force update 22.491641"
       ]
      },
      {
       "output_type": "stream",
       "stream": "stdout",
       "text": [
        "\n",
        "second momemtum update 0.011854\n",
        "first momemtum update 0.012092\n",
        "position update 0.014614\n",
        "force update 22.648189"
       ]
      },
      {
       "output_type": "stream",
       "stream": "stdout",
       "text": [
        "\n",
        "second momemtum update 0.011939\n",
        "first momemtum update 0.011855\n",
        "position update 0.014546\n",
        "force update 22.608338"
       ]
      },
      {
       "output_type": "stream",
       "stream": "stdout",
       "text": [
        "\n",
        "second momemtum update 0.011932\n",
        "first momemtum update 0.013108\n",
        "position update 0.014544\n",
        "force update 22.470952"
       ]
      },
      {
       "output_type": "stream",
       "stream": "stdout",
       "text": [
        "\n",
        "second momemtum update 0.013396\n",
        "first momemtum update 0.011927\n",
        "position update 0.014408\n",
        "force update 22.515997"
       ]
      },
      {
       "output_type": "stream",
       "stream": "stdout",
       "text": [
        "\n",
        "second momemtum update 0.012158\n",
        "first momemtum update 0.011952\n",
        "position update 0.014477\n",
        "force update 22.441898"
       ]
      },
      {
       "output_type": "stream",
       "stream": "stdout",
       "text": [
        "\n",
        "second momemtum update 0.012041\n",
        "first momemtum update 0.012204\n",
        "position update 0.014301\n",
        "force update 22.461673"
       ]
      },
      {
       "output_type": "stream",
       "stream": "stdout",
       "text": [
        "\n",
        "second momemtum update 0.011958\n",
        "first momemtum update 0.011793\n",
        "position update 0.014625\n",
        "force update 22.621951"
       ]
      },
      {
       "output_type": "stream",
       "stream": "stdout",
       "text": [
        "\n",
        "second momemtum update 0.012987\n",
        "first momemtum update 0.012071\n",
        "position update 0.014638\n",
        "force update 22.544522"
       ]
      },
      {
       "output_type": "stream",
       "stream": "stdout",
       "text": [
        "\n",
        "second momemtum update 0.012029\n",
        "first momemtum update 0.012083\n",
        "position update 0.014431\n",
        "force update 22.519364"
       ]
      },
      {
       "output_type": "stream",
       "stream": "stdout",
       "text": [
        "\n",
        "second momemtum update 0.012183\n",
        "first momemtum update 0.012588\n",
        "position update 0.014609\n",
        "force update 22.436393"
       ]
      },
      {
       "output_type": "stream",
       "stream": "stdout",
       "text": [
        "\n",
        "second momemtum update 0.011953\n",
        "first momemtum update 0.012065\n",
        "position update 0.014547\n",
        "force update 24.330535"
       ]
      },
      {
       "output_type": "stream",
       "stream": "stdout",
       "text": [
        "\n",
        "second momemtum update 0.015238\n",
        "first momemtum update 0.012037\n",
        "position update 0.017621\n",
        "force update 25.753606"
       ]
      },
      {
       "output_type": "stream",
       "stream": "stdout",
       "text": [
        "\n",
        "second momemtum update 0.017575\n",
        "first momemtum update 0.013279\n",
        "position update 0.014637\n",
        "force update 24.254016"
       ]
      },
      {
       "output_type": "stream",
       "stream": "stdout",
       "text": [
        "\n",
        "second momemtum update 0.013755\n",
        "first momemtum update 0.011988\n",
        "position update 0.017624\n",
        "force update 24.333106"
       ]
      },
      {
       "output_type": "stream",
       "stream": "stdout",
       "text": [
        "\n",
        "second momemtum update 0.012157\n",
        "first momemtum update 0.013866\n",
        "position update 0.015173\n",
        "force update 24.328421"
       ]
      },
      {
       "output_type": "stream",
       "stream": "stdout",
       "text": [
        "\n",
        "second momemtum update 0.011985\n",
        "first momemtum update 0.012099\n",
        "position update 0.014530\n",
        "force update 24.450529"
       ]
      },
      {
       "output_type": "stream",
       "stream": "stdout",
       "text": [
        "\n",
        "second momemtum update 0.011834\n",
        "first momemtum update 0.013808\n",
        "position update 0.014547\n",
        "force update 24.086241"
       ]
      },
      {
       "output_type": "stream",
       "stream": "stdout",
       "text": [
        "\n",
        "second momemtum update 0.012517\n",
        "first momemtum update 0.012202\n",
        "position update 0.015954\n",
        "force update 24.141697"
       ]
      },
      {
       "output_type": "stream",
       "stream": "stdout",
       "text": [
        "\n",
        "second momemtum update 0.014039\n",
        "first momemtum update 0.012079\n",
        "position update 0.015154\n",
        "force update 24.085571"
       ]
      },
      {
       "output_type": "stream",
       "stream": "stdout",
       "text": [
        "\n",
        "second momemtum update 0.020899\n",
        "first momemtum update 0.020022\n",
        "position update 0.016982"
       ]
      },
      {
       "output_type": "stream",
       "stream": "stdout",
       "text": [
        "\n",
        "force update 26.272399"
       ]
      },
      {
       "output_type": "stream",
       "stream": "stdout",
       "text": [
        "\n",
        "second momemtum update 0.013351\n",
        "first momemtum update 0.012533\n",
        "position update 0.016397\n",
        "force update 25.826089"
       ]
      },
      {
       "output_type": "stream",
       "stream": "stdout",
       "text": [
        "\n",
        "second momemtum update 0.015949\n",
        "first momemtum update 0.012087\n",
        "position update 0.014583\n",
        "force update 23.752541"
       ]
      },
      {
       "output_type": "stream",
       "stream": "stdout",
       "text": [
        "\n",
        "second momemtum update 0.012092\n",
        "first momemtum update 0.014573\n",
        "position update 0.016165\n",
        "force update 24.126634"
       ]
      },
      {
       "output_type": "stream",
       "stream": "stdout",
       "text": [
        "\n",
        "second momemtum update 0.013746\n",
        "first momemtum update 0.011942\n",
        "position update 0.016115\n",
        "force update 24.775360"
       ]
      },
      {
       "output_type": "stream",
       "stream": "stdout",
       "text": [
        "\n",
        "second momemtum update 0.012108\n",
        "first momemtum update 0.012602\n",
        "position update 0.015491\n",
        "force update 25.527037"
       ]
      },
      {
       "output_type": "stream",
       "stream": "stdout",
       "text": [
        "\n",
        "second momemtum update 0.012827\n",
        "first momemtum update 0.013959\n",
        "position update 0.014932\n",
        "force update 24.481637"
       ]
      },
      {
       "output_type": "stream",
       "stream": "stdout",
       "text": [
        "\n",
        "second momemtum update 0.013346\n",
        "first momemtum update 0.012247\n",
        "position update 0.015593\n",
        "force update 27.829559"
       ]
      },
      {
       "output_type": "stream",
       "stream": "stdout",
       "text": [
        "\n",
        "second momemtum update 0.012853\n",
        "first momemtum update 0.012755\n",
        "position update 0.015459\n",
        "force update 25.975858"
       ]
      },
      {
       "output_type": "stream",
       "stream": "stdout",
       "text": [
        "\n",
        "second momemtum update 0.014035\n",
        "first momemtum update 0.011932\n",
        "position update 0.016506\n",
        "force update 24.876197"
       ]
      },
      {
       "output_type": "stream",
       "stream": "stdout",
       "text": [
        "\n",
        "second momemtum update 0.013614\n",
        "first momemtum update 0.012392\n",
        "position update 0.016536\n",
        "force update 24.874894"
       ]
      },
      {
       "output_type": "stream",
       "stream": "stdout",
       "text": [
        "\n",
        "second momemtum update 0.014283\n",
        "first momemtum update 0.012104\n",
        "position update 0.016859\n",
        "force update 24.184337"
       ]
      },
      {
       "output_type": "stream",
       "stream": "stdout",
       "text": [
        "\n",
        "second momemtum update 0.012260\n",
        "first momemtum update 0.014041\n",
        "position update 0.015898\n",
        "force update 24.802694"
       ]
      },
      {
       "output_type": "stream",
       "stream": "stdout",
       "text": [
        "\n",
        "second momemtum update 0.014208\n",
        "first momemtum update 0.014300\n",
        "position update 0.014600\n",
        "force update 24.860989"
       ]
      },
      {
       "output_type": "stream",
       "stream": "stdout",
       "text": [
        "\n",
        "second momemtum update 0.014807\n",
        "first momemtum update 0.012088\n",
        "position update 0.017185\n",
        "force update 24.472198"
       ]
      },
      {
       "output_type": "stream",
       "stream": "stdout",
       "text": [
        "\n",
        "second momemtum update 0.014516\n",
        "first momemtum update 0.012919\n",
        "position update 0.014860\n",
        "force update 25.377929"
       ]
      },
      {
       "output_type": "stream",
       "stream": "stdout",
       "text": [
        "\n",
        "second momemtum update 0.015456\n",
        "first momemtum update 0.012306\n",
        "position update 0.016214\n",
        "force update 25.261861"
       ]
      },
      {
       "output_type": "stream",
       "stream": "stdout",
       "text": [
        "\n",
        "second momemtum update 0.012456\n",
        "first momemtum update 0.015879\n",
        "position update 0.015959\n",
        "force update 25.693080"
       ]
      },
      {
       "output_type": "stream",
       "stream": "stdout",
       "text": [
        "\n",
        "second momemtum update 0.012926\n",
        "first momemtum update 0.012309\n",
        "position update 0.014706\n",
        "force update 24.277113"
       ]
      },
      {
       "output_type": "stream",
       "stream": "stdout",
       "text": [
        "\n",
        "second momemtum update 0.012338\n",
        "first momemtum update 0.012363\n",
        "position update 0.014936\n",
        "force update 24.070509"
       ]
      },
      {
       "output_type": "stream",
       "stream": "stdout",
       "text": [
        "\n",
        "second momemtum update 0.011876\n",
        "first momemtum update 0.012329\n",
        "position update 0.014785\n",
        "force update 23.915546"
       ]
      },
      {
       "output_type": "stream",
       "stream": "stdout",
       "text": [
        "\n",
        "second momemtum update 0.011988\n",
        "first momemtum update 0.012434\n",
        "position update 0.014546\n",
        "force update 23.666735"
       ]
      },
      {
       "output_type": "stream",
       "stream": "stdout",
       "text": [
        "\n",
        "second momemtum update 0.014883\n",
        "first momemtum update 0.018019\n",
        "position update 0.014290\n",
        "force update 24.461015"
       ]
      },
      {
       "output_type": "stream",
       "stream": "stdout",
       "text": [
        "\n",
        "second momemtum update 0.014184\n",
        "first momemtum update 0.012654\n",
        "position update 0.015738\n",
        "force update 24.183626"
       ]
      },
      {
       "output_type": "stream",
       "stream": "stdout",
       "text": [
        "\n",
        "second momemtum update 0.017355\n",
        "first momemtum update 0.017984\n",
        "position update 0.022082"
       ]
      },
      {
       "output_type": "stream",
       "stream": "stdout",
       "text": [
        "\n",
        "force update 25.082394"
       ]
      },
      {
       "output_type": "stream",
       "stream": "stdout",
       "text": [
        "\n",
        "second momemtum update 0.011933\n",
        "first momemtum update 0.011973\n",
        "position update 0.015942\n",
        "force update 25.076705"
       ]
      },
      {
       "output_type": "stream",
       "stream": "stdout",
       "text": [
        "\n",
        "second momemtum update 0.013281\n",
        "first momemtum update 0.014537\n",
        "position update 0.014701\n",
        "force update 25.322958"
       ]
      },
      {
       "output_type": "stream",
       "stream": "stdout",
       "text": [
        "\n",
        "second momemtum update 0.021320\n",
        "first momemtum update 0.015100\n",
        "position update 0.016006"
       ]
      },
      {
       "output_type": "stream",
       "stream": "stdout",
       "text": [
        "\n",
        "force update 26.206386"
       ]
      },
      {
       "output_type": "stream",
       "stream": "stdout",
       "text": [
        "\n",
        "second momemtum update 0.013054\n",
        "first momemtum update 0.013036\n",
        "position update 0.014510\n",
        "force update 24.220302"
       ]
      },
      {
       "output_type": "stream",
       "stream": "stdout",
       "text": [
        "\n",
        "second momemtum update 0.015897\n",
        "first momemtum update 0.012070\n",
        "position update 0.017806\n",
        "force update 24.172376"
       ]
      },
      {
       "output_type": "stream",
       "stream": "stdout",
       "text": [
        "\n",
        "second momemtum update 0.017010\n",
        "first momemtum update 0.012021\n",
        "position update 0.017096\n",
        "force update 23.349287"
       ]
      },
      {
       "output_type": "stream",
       "stream": "stdout",
       "text": [
        "\n",
        "second momemtum update 0.011855\n",
        "first momemtum update 0.011988\n",
        "position update 0.014540\n",
        "force update 23.037412"
       ]
      },
      {
       "output_type": "stream",
       "stream": "stdout",
       "text": [
        "\n",
        "second momemtum update 0.012099\n",
        "first momemtum update 0.012124\n",
        "position update 0.014609\n",
        "force update 22.634665"
       ]
      },
      {
       "output_type": "stream",
       "stream": "stdout",
       "text": [
        "\n",
        "second momemtum update 0.014718\n",
        "first momemtum update 0.012151\n",
        "position update 0.014558\n",
        "force update 22.626989"
       ]
      },
      {
       "output_type": "stream",
       "stream": "stdout",
       "text": [
        "\n",
        "second momemtum update 0.013448\n",
        "first momemtum update 0.011743\n",
        "position update 0.014535\n",
        "force update 23.628815"
       ]
      },
      {
       "output_type": "stream",
       "stream": "stdout",
       "text": [
        "\n",
        "second momemtum update 0.013967\n",
        "first momemtum update 0.011996\n",
        "position update 0.014540\n",
        "force update 24.023822"
       ]
      },
      {
       "output_type": "stream",
       "stream": "stdout",
       "text": [
        "\n",
        "second momemtum update 0.012627\n",
        "first momemtum update 0.011974\n",
        "position update 0.015568\n",
        "force update 22.710635"
       ]
      },
      {
       "output_type": "stream",
       "stream": "stdout",
       "text": [
        "\n",
        "second momemtum update 0.013876\n",
        "first momemtum update 0.012097\n",
        "position update 0.014547\n",
        "force update 22.483840"
       ]
      },
      {
       "output_type": "stream",
       "stream": "stdout",
       "text": [
        "\n",
        "second momemtum update 0.013778\n",
        "first momemtum update 0.012036\n",
        "position update 0.014522\n",
        "force update 22.410939"
       ]
      },
      {
       "output_type": "stream",
       "stream": "stdout",
       "text": [
        "\n",
        "second momemtum update 0.016506\n",
        "first momemtum update 0.017717\n",
        "position update 0.014716\n",
        "force update 22.377347"
       ]
      },
      {
       "output_type": "stream",
       "stream": "stdout",
       "text": [
        "\n",
        "second momemtum update 0.012081\n",
        "first momemtum update 0.012090\n",
        "position update 0.014613\n",
        "force update 22.373449"
       ]
      },
      {
       "output_type": "stream",
       "stream": "stdout",
       "text": [
        "\n",
        "second momemtum update 0.011822\n",
        "first momemtum update 0.011900\n",
        "position update 0.014543\n",
        "force update 22.397607"
       ]
      },
      {
       "output_type": "stream",
       "stream": "stdout",
       "text": [
        "\n",
        "second momemtum update 0.012182\n",
        "first momemtum update 0.011900\n",
        "position update 0.014437\n",
        "force update 22.671616"
       ]
      },
      {
       "output_type": "stream",
       "stream": "stdout",
       "text": [
        "\n",
        "second momemtum update 0.011897\n",
        "first momemtum update 0.011863\n",
        "position update 0.014721\n",
        "force update 22.377017"
       ]
      },
      {
       "output_type": "stream",
       "stream": "stdout",
       "text": [
        "\n",
        "second momemtum update 0.012210\n",
        "first momemtum update 0.012775\n",
        "position update 0.014655\n",
        "force update 22.448460"
       ]
      },
      {
       "output_type": "stream",
       "stream": "stdout",
       "text": [
        "\n",
        "second momemtum update 0.012146\n",
        "first momemtum update 0.012092\n",
        "position update 0.014426\n",
        "force update 23.324005"
       ]
      },
      {
       "output_type": "stream",
       "stream": "stdout",
       "text": [
        "\n",
        "second momemtum update 0.013766\n",
        "first momemtum update 0.012053\n",
        "position update 0.016356\n",
        "force update 28.093172"
       ]
      },
      {
       "output_type": "stream",
       "stream": "stdout",
       "text": [
        "\n",
        "second momemtum update 0.012573\n",
        "first momemtum update 0.013973\n",
        "position update 0.026459"
       ]
      },
      {
       "output_type": "stream",
       "stream": "stdout",
       "text": [
        "\n",
        "force update 25.818278"
       ]
      },
      {
       "output_type": "stream",
       "stream": "stdout",
       "text": [
        "\n",
        "second momemtum update 0.014887\n",
        "first momemtum update 0.012220\n",
        "position update 0.014479\n",
        "force update 24.581431"
       ]
      },
      {
       "output_type": "stream",
       "stream": "stdout",
       "text": [
        "\n",
        "second momemtum update 0.012849\n",
        "first momemtum update 0.012131\n",
        "position update 0.016248\n",
        "force update 25.506748"
       ]
      },
      {
       "output_type": "stream",
       "stream": "stdout",
       "text": [
        "\n",
        "second momemtum update 0.012163\n",
        "first momemtum update 0.012106\n",
        "position update 0.014647\n",
        "force update 23.618647"
       ]
      },
      {
       "output_type": "stream",
       "stream": "stdout",
       "text": [
        "\n",
        "second momemtum update 0.012054\n",
        "first momemtum update 0.011965\n",
        "position update 0.014303\n",
        "force update 22.622706"
       ]
      },
      {
       "output_type": "stream",
       "stream": "stdout",
       "text": [
        "\n",
        "second momemtum update 0.012237\n",
        "first momemtum update 0.012063\n",
        "position update 0.014516\n",
        "force update 22.432279"
       ]
      },
      {
       "output_type": "stream",
       "stream": "stdout",
       "text": [
        "\n",
        "second momemtum update 0.011829\n",
        "first momemtum update 0.011969\n",
        "position update 0.014567\n",
        "force update 22.593807"
       ]
      },
      {
       "output_type": "stream",
       "stream": "stdout",
       "text": [
        "\n",
        "second momemtum update 0.011961\n",
        "first momemtum update 0.012001\n",
        "position update 0.014670\n",
        "force update 22.705887"
       ]
      },
      {
       "output_type": "stream",
       "stream": "stdout",
       "text": [
        "\n",
        "second momemtum update 0.014112\n",
        "first momemtum update 0.011780\n",
        "position update 0.014407\n",
        "force update 22.579792"
       ]
      },
      {
       "output_type": "stream",
       "stream": "stdout",
       "text": [
        "\n",
        "second momemtum update 0.012700\n",
        "first momemtum update 0.012190\n",
        "position update 0.014710\n",
        "force update 23.098770"
       ]
      },
      {
       "output_type": "stream",
       "stream": "stdout",
       "text": [
        "\n",
        "second momemtum update 0.011931\n",
        "first momemtum update 0.012693\n",
        "position update 0.014443\n",
        "force update 22.468444"
       ]
      },
      {
       "output_type": "stream",
       "stream": "stdout",
       "text": [
        "\n",
        "second momemtum update 0.012051\n",
        "first momemtum update 0.012135\n",
        "position update 0.014808\n",
        "force update 22.441530"
       ]
      },
      {
       "output_type": "stream",
       "stream": "stdout",
       "text": [
        "\n",
        "second momemtum update 0.011975\n",
        "first momemtum update 0.011737\n",
        "position update 0.014433\n",
        "force update 22.586217"
       ]
      },
      {
       "output_type": "stream",
       "stream": "stdout",
       "text": [
        "\n",
        "second momemtum update 0.014967\n",
        "first momemtum update 0.014108\n",
        "position update 0.014641\n",
        "force update 23.088849"
       ]
      },
      {
       "output_type": "stream",
       "stream": "stdout",
       "text": [
        "\n",
        "second momemtum update 0.011960\n",
        "first momemtum update 0.011888\n",
        "position update 0.030859"
       ]
      },
      {
       "output_type": "stream",
       "stream": "stdout",
       "text": [
        "\n",
        "force update 23.406024"
       ]
      },
      {
       "output_type": "stream",
       "stream": "stdout",
       "text": [
        "\n",
        "second momemtum update 0.010953\n",
        "first momemtum update 0.011985\n",
        "position update 0.014555\n",
        "force update 22.526979"
       ]
      },
      {
       "output_type": "stream",
       "stream": "stdout",
       "text": [
        "\n",
        "second momemtum update 0.020438\n",
        "first momemtum update 0.014945\n",
        "position update 0.014846"
       ]
      },
      {
       "output_type": "stream",
       "stream": "stdout",
       "text": [
        "\n",
        "force update 22.651946"
       ]
      },
      {
       "output_type": "stream",
       "stream": "stdout",
       "text": [
        "\n",
        "second momemtum update 0.012294\n",
        "first momemtum update 0.012027\n",
        "position update 0.014464\n",
        "force update 25.176161"
       ]
      },
      {
       "output_type": "stream",
       "stream": "stdout",
       "text": [
        "\n",
        "second momemtum update 0.011989\n",
        "first momemtum update 0.016430\n",
        "position update 0.014644\n",
        "force update 25.165742"
       ]
      },
      {
       "output_type": "stream",
       "stream": "stdout",
       "text": [
        "\n",
        "second momemtum update 0.015211\n",
        "first momemtum update 0.012130\n",
        "position update 0.014370\n",
        "force update 24.459983"
       ]
      },
      {
       "output_type": "stream",
       "stream": "stdout",
       "text": [
        "\n",
        "second momemtum update 0.013516\n",
        "first momemtum update 0.015623\n",
        "position update 0.016128\n",
        "force update 25.406526"
       ]
      },
      {
       "output_type": "stream",
       "stream": "stdout",
       "text": [
        "\n",
        "second momemtum update 0.012276\n",
        "first momemtum update 0.013775\n",
        "position update 0.017877\n",
        "force update 25.147777"
       ]
      },
      {
       "output_type": "stream",
       "stream": "stdout",
       "text": [
        "\n",
        "second momemtum update 0.014204\n",
        "first momemtum update 0.012065\n",
        "position update 0.016248\n",
        "force update 25.159135"
       ]
      },
      {
       "output_type": "stream",
       "stream": "stdout",
       "text": [
        "\n",
        "second momemtum update 0.014586\n",
        "first momemtum update 0.011980\n",
        "position update 0.017008\n",
        "force update 25.203397"
       ]
      },
      {
       "output_type": "stream",
       "stream": "stdout",
       "text": [
        "\n",
        "second momemtum update 0.012558\n",
        "first momemtum update 0.012418\n",
        "position update 0.016071\n",
        "force update 25.054841"
       ]
      },
      {
       "output_type": "stream",
       "stream": "stdout",
       "text": [
        "\n",
        "second momemtum update 0.013668\n",
        "first momemtum update 0.012026\n",
        "position update 0.016621\n",
        "force update 24.742749"
       ]
      },
      {
       "output_type": "stream",
       "stream": "stdout",
       "text": [
        "\n",
        "second momemtum update 0.017537\n",
        "first momemtum update 0.012009\n",
        "position update 0.016297\n",
        "force update 24.020147"
       ]
      },
      {
       "output_type": "stream",
       "stream": "stdout",
       "text": [
        "\n",
        "second momemtum update 0.012688\n",
        "first momemtum update 0.012005\n",
        "position update 0.015103\n",
        "force update 23.045643"
       ]
      },
      {
       "output_type": "stream",
       "stream": "stdout",
       "text": [
        "\n",
        "second momemtum update 0.013807\n",
        "first momemtum update 0.012133\n",
        "position update 0.014655\n",
        "force update 23.724541"
       ]
      },
      {
       "output_type": "stream",
       "stream": "stdout",
       "text": [
        "\n",
        "second momemtum update 0.012962\n",
        "first momemtum update 0.011854\n",
        "position update 0.014704\n",
        "force update 23.990108"
       ]
      },
      {
       "output_type": "stream",
       "stream": "stdout",
       "text": [
        "\n",
        "second momemtum update 0.016001\n",
        "first momemtum update 0.012409\n",
        "position update 0.016693\n",
        "force update 24.642866"
       ]
      },
      {
       "output_type": "stream",
       "stream": "stdout",
       "text": [
        "\n",
        "second momemtum update 0.012033\n",
        "first momemtum update 0.011995\n",
        "position update 0.014520\n",
        "force update 23.120867"
       ]
      },
      {
       "output_type": "stream",
       "stream": "stdout",
       "text": [
        "\n",
        "second momemtum update 0.012107\n",
        "first momemtum update 0.011811\n",
        "position update 0.015376\n",
        "force update 24.015487"
       ]
      },
      {
       "output_type": "stream",
       "stream": "stdout",
       "text": [
        "\n",
        "second momemtum update 0.012321\n",
        "first momemtum update 0.013747\n",
        "position update 0.016247\n",
        "force update 25.869115"
       ]
      },
      {
       "output_type": "stream",
       "stream": "stdout",
       "text": [
        "\n",
        "second momemtum update 0.014986\n",
        "first momemtum update 0.011909\n",
        "position update 0.017005\n",
        "force update 24.365110"
       ]
      },
      {
       "output_type": "stream",
       "stream": "stdout",
       "text": [
        "\n",
        "second momemtum update 0.012880\n",
        "first momemtum update 0.012295\n",
        "position update 0.015664\n",
        "force update 24.310088"
       ]
      },
      {
       "output_type": "stream",
       "stream": "stdout",
       "text": [
        "\n",
        "second momemtum update 0.012010\n",
        "first momemtum update 0.013549\n",
        "position update 0.015067\n",
        "force update 24.197835"
       ]
      },
      {
       "output_type": "stream",
       "stream": "stdout",
       "text": [
        "\n",
        "second momemtum update 0.014277\n",
        "first momemtum update 0.011702\n",
        "position update 0.015303\n",
        "force update 23.874250"
       ]
      },
      {
       "output_type": "stream",
       "stream": "stdout",
       "text": [
        "\n",
        "second momemtum update 0.013627\n",
        "first momemtum update 0.011903\n",
        "position update 0.014811\n",
        "force update 23.790618"
       ]
      },
      {
       "output_type": "stream",
       "stream": "stdout",
       "text": [
        "\n",
        "second momemtum update 0.011991\n",
        "first momemtum update 0.013771\n",
        "position update 0.014511\n",
        "force update 24.846338"
       ]
      },
      {
       "output_type": "stream",
       "stream": "stdout",
       "text": [
        "\n",
        "second momemtum update 0.012148\n",
        "first momemtum update 0.011889\n",
        "position update 0.016166\n",
        "force update 24.124790"
       ]
      },
      {
       "output_type": "stream",
       "stream": "stdout",
       "text": [
        "\n",
        "second momemtum update 0.011794\n",
        "first momemtum update 0.017131\n",
        "position update 0.014873\n",
        "force update 24.150758"
       ]
      },
      {
       "output_type": "stream",
       "stream": "stdout",
       "text": [
        "\n",
        "second momemtum update 0.012037\n",
        "first momemtum update 0.011840\n",
        "position update 0.014827\n",
        "force update 23.950102"
       ]
      },
      {
       "output_type": "stream",
       "stream": "stdout",
       "text": [
        "\n",
        "second momemtum update 0.012214\n",
        "first momemtum update 0.015201\n",
        "position update 0.015451\n",
        "force update 25.755583"
       ]
      },
      {
       "output_type": "stream",
       "stream": "stdout",
       "text": [
        "\n",
        "second momemtum update 0.013261\n",
        "first momemtum update 0.012080\n",
        "position update 0.018186\n",
        "force update 24.662701"
       ]
      },
      {
       "output_type": "stream",
       "stream": "stdout",
       "text": [
        "\n",
        "second momemtum update 0.011937\n",
        "first momemtum update 0.012004\n",
        "position update 0.015819\n",
        "force update 24.300837"
       ]
      },
      {
       "output_type": "stream",
       "stream": "stdout",
       "text": [
        "\n",
        "second momemtum update 0.014330\n",
        "first momemtum update 0.012022\n",
        "position update 0.016652\n",
        "force update 24.242987"
       ]
      },
      {
       "output_type": "stream",
       "stream": "stdout",
       "text": [
        "\n",
        "second momemtum update 0.012964\n",
        "first momemtum update 0.013907\n",
        "position update 0.015015\n",
        "force update 23.826430"
       ]
      },
      {
       "output_type": "stream",
       "stream": "stdout",
       "text": [
        "\n",
        "second momemtum update 0.015784\n",
        "first momemtum update 0.012312\n",
        "position update 0.016612\n",
        "force update 23.007791"
       ]
      },
      {
       "output_type": "stream",
       "stream": "stdout",
       "text": [
        "\n",
        "second momemtum update 0.014043\n",
        "first momemtum update 0.012013\n",
        "position update 0.015081\n",
        "force update 24.696799"
       ]
      },
      {
       "output_type": "stream",
       "stream": "stdout",
       "text": [
        "\n",
        "second momemtum update 0.021006\n",
        "first momemtum update 0.019068\n",
        "position update 0.022060"
       ]
      },
      {
       "output_type": "stream",
       "stream": "stdout",
       "text": [
        "\n",
        "force update 24.012767"
       ]
      },
      {
       "output_type": "stream",
       "stream": "stdout",
       "text": [
        "\n",
        "second momemtum update 0.012556\n",
        "first momemtum update 0.012306\n",
        "position update 0.016844\n",
        "force update 24.436783"
       ]
      },
      {
       "output_type": "stream",
       "stream": "stdout",
       "text": [
        "\n",
        "second momemtum update 0.020871\n",
        "first momemtum update 0.021203\n",
        "position update 0.026270"
       ]
      },
      {
       "output_type": "stream",
       "stream": "stdout",
       "text": [
        "\n",
        "force update 25.004510"
       ]
      },
      {
       "output_type": "stream",
       "stream": "stdout",
       "text": [
        "\n",
        "second momemtum update 0.014159\n",
        "first momemtum update 0.011975\n",
        "position update 0.014778\n",
        "force update 26.678812"
       ]
      },
      {
       "output_type": "stream",
       "stream": "stdout",
       "text": [
        "\n",
        "second momemtum update 0.015596\n",
        "first momemtum update 0.021524\n",
        "position update 0.018343"
       ]
      },
      {
       "output_type": "stream",
       "stream": "stdout",
       "text": [
        "\n",
        "force update 25.196155"
       ]
      },
      {
       "output_type": "stream",
       "stream": "stdout",
       "text": [
        "\n",
        "second momemtum update 0.013264\n",
        "first momemtum update 0.012167\n",
        "position update 0.014870\n",
        "force update 24.633921"
       ]
      },
      {
       "output_type": "stream",
       "stream": "stdout",
       "text": [
        "\n",
        "second momemtum update 0.012925\n",
        "first momemtum update 0.015275\n",
        "position update 0.016568\n",
        "force update 25.241751"
       ]
      },
      {
       "output_type": "stream",
       "stream": "stdout",
       "text": [
        "\n",
        "second momemtum update 0.011823\n",
        "first momemtum update 0.012943\n",
        "position update 0.015457\n",
        "force update 24.451188"
       ]
      },
      {
       "output_type": "stream",
       "stream": "stdout",
       "text": [
        "\n",
        "second momemtum update 0.014648\n",
        "first momemtum update 0.014404\n",
        "position update 0.016840\n",
        "force update 24.620015"
       ]
      },
      {
       "output_type": "stream",
       "stream": "stdout",
       "text": [
        "\n",
        "second momemtum update 0.012091\n",
        "first momemtum update 0.013583\n",
        "position update 0.015127\n",
        "force update 26.588090"
       ]
      },
      {
       "output_type": "stream",
       "stream": "stdout",
       "text": [
        "\n",
        "second momemtum update 0.016094\n",
        "first momemtum update 0.013237\n",
        "position update 0.018952\n",
        "force update 25.705573"
       ]
      },
      {
       "output_type": "stream",
       "stream": "stdout",
       "text": [
        "\n",
        "second momemtum update 0.012347\n",
        "first momemtum update 0.014219\n",
        "position update 0.014876\n",
        "force update 23.944952"
       ]
      },
      {
       "output_type": "stream",
       "stream": "stdout",
       "text": [
        "\n",
        "second momemtum update 0.013951\n",
        "first momemtum update 0.011960\n",
        "position update 0.016653\n",
        "force update 24.032140"
       ]
      },
      {
       "output_type": "stream",
       "stream": "stdout",
       "text": [
        "\n",
        "second momemtum update 0.012122\n",
        "first momemtum update 0.012985\n",
        "position update 0.015024"
       ]
      },
      {
       "output_type": "stream",
       "stream": "stdout",
       "text": [
        "\n",
        "force update 23.260320"
       ]
      },
      {
       "output_type": "stream",
       "stream": "stdout",
       "text": [
        "\n",
        "second momemtum update 0.013334\n",
        "first momemtum update 0.013524\n",
        "position update 0.015299\n",
        "force update 23.171298"
       ]
      },
      {
       "output_type": "stream",
       "stream": "stdout",
       "text": [
        "\n",
        "second momemtum update 0.015142\n",
        "first momemtum update 0.011987\n",
        "position update 0.014920\n",
        "force update 22.839006"
       ]
      },
      {
       "output_type": "stream",
       "stream": "stdout",
       "text": [
        "\n",
        "second momemtum update 0.012142\n",
        "first momemtum update 0.011887\n",
        "position update 0.016953\n",
        "force update 25.003452"
       ]
      },
      {
       "output_type": "stream",
       "stream": "stdout",
       "text": [
        "\n",
        "second momemtum update 0.011995\n",
        "first momemtum update 0.011994\n",
        "position update 0.016766\n",
        "force update 24.878095"
       ]
      },
      {
       "output_type": "stream",
       "stream": "stdout",
       "text": [
        "\n",
        "second momemtum update 0.014054\n",
        "first momemtum update 0.013811\n",
        "position update 0.015255\n",
        "force update 24.633265"
       ]
      },
      {
       "output_type": "stream",
       "stream": "stdout",
       "text": [
        "\n",
        "second momemtum update 0.013761\n",
        "first momemtum update 0.011938\n",
        "position update 0.016394\n",
        "force update 24.045669"
       ]
      },
      {
       "output_type": "stream",
       "stream": "stdout",
       "text": [
        "\n",
        "second momemtum update 0.012987\n",
        "first momemtum update 0.011982\n",
        "position update 0.016843\n",
        "force update 24.389780"
       ]
      },
      {
       "output_type": "stream",
       "stream": "stdout",
       "text": [
        "\n",
        "second momemtum update 0.011893\n",
        "first momemtum update 0.012036\n",
        "position update 0.016765\n",
        "force update 24.652013"
       ]
      },
      {
       "output_type": "stream",
       "stream": "stdout",
       "text": [
        "\n",
        "second momemtum update 0.013510\n",
        "first momemtum update 0.011982\n",
        "position update 0.016669\n",
        "force update 24.324809"
       ]
      },
      {
       "output_type": "stream",
       "stream": "stdout",
       "text": [
        "\n",
        "second momemtum update 0.013804\n",
        "first momemtum update 0.011916\n",
        "position update 0.016604\n",
        "force update 24.241112"
       ]
      },
      {
       "output_type": "stream",
       "stream": "stdout",
       "text": [
        "\n",
        "second momemtum update 0.012924\n",
        "first momemtum update 0.012059\n",
        "position update 0.016728\n",
        "force update 24.300749"
       ]
      },
      {
       "output_type": "stream",
       "stream": "stdout",
       "text": [
        "\n",
        "second momemtum update 0.012108\n",
        "first momemtum update 0.011997\n",
        "position update 0.015113\n",
        "force update 23.794565"
       ]
      },
      {
       "output_type": "stream",
       "stream": "stdout",
       "text": [
        "\n",
        "second momemtum update 0.013982\n",
        "first momemtum update 0.012223\n",
        "position update 0.015133\n",
        "force update 24.025900"
       ]
      },
      {
       "output_type": "stream",
       "stream": "stdout",
       "text": [
        "\n",
        "second momemtum update 0.012251\n",
        "first momemtum update 0.014408\n",
        "position update 0.015492\n",
        "force update 24.460934"
       ]
      },
      {
       "output_type": "stream",
       "stream": "stdout",
       "text": [
        "\n",
        "second momemtum update 0.012264\n",
        "first momemtum update 0.013945\n",
        "position update 0.015020\n",
        "force update 25.179696"
       ]
      },
      {
       "output_type": "stream",
       "stream": "stdout",
       "text": [
        "\n",
        "second momemtum update 0.016091\n",
        "first momemtum update 0.011969\n",
        "position update 0.015802\n",
        "force update 24.320871"
       ]
      },
      {
       "output_type": "stream",
       "stream": "stdout",
       "text": [
        "\n",
        "second momemtum update 0.012410\n",
        "first momemtum update 0.011998\n",
        "position update 0.015198\n",
        "force update 27.014757"
       ]
      },
      {
       "output_type": "stream",
       "stream": "stdout",
       "text": [
        "\n",
        "second momemtum update 0.013486\n",
        "first momemtum update 0.022002\n",
        "position update 0.024964"
       ]
      },
      {
       "output_type": "stream",
       "stream": "stdout",
       "text": [
        "\n",
        "force update 32.177563"
       ]
      },
      {
       "output_type": "stream",
       "stream": "stdout",
       "text": [
        "\n",
        "second momemtum update 0.011887\n",
        "first momemtum update 0.011794\n",
        "position update 0.015128\n",
        "force update 25.920742"
       ]
      },
      {
       "output_type": "stream",
       "stream": "stdout",
       "text": [
        "\n",
        "second momemtum update 0.014937\n",
        "first momemtum update 0.012669\n",
        "position update 0.016522\n",
        "force update 32.326199"
       ]
      },
      {
       "output_type": "stream",
       "stream": "stdout",
       "text": [
        "\n",
        "second momemtum update 0.012995\n",
        "first momemtum update 0.013149\n",
        "position update 0.015342\n",
        "force update 28.157713"
       ]
      },
      {
       "output_type": "stream",
       "stream": "stdout",
       "text": [
        "\n",
        "second momemtum update 0.014610\n",
        "first momemtum update 0.012992\n",
        "position update 0.016781\n",
        "force update 27.212142"
       ]
      },
      {
       "output_type": "stream",
       "stream": "stdout",
       "text": [
        "\n",
        "second momemtum update 0.016548\n",
        "first momemtum update 0.012933\n",
        "position update 0.016196\n",
        "force update 27.892578"
       ]
      },
      {
       "output_type": "stream",
       "stream": "stdout",
       "text": [
        "\n",
        "second momemtum update 0.016237\n",
        "first momemtum update 0.019589\n",
        "position update 0.017823"
       ]
      },
      {
       "output_type": "stream",
       "stream": "stdout",
       "text": [
        "\n",
        "force update 26.912690"
       ]
      },
      {
       "output_type": "stream",
       "stream": "stdout",
       "text": [
        "\n",
        "second momemtum update 0.021012\n",
        "first momemtum update 0.021878\n",
        "position update 0.025927"
       ]
      },
      {
       "output_type": "stream",
       "stream": "stdout",
       "text": [
        "\n",
        "force update 25.472298"
       ]
      },
      {
       "output_type": "stream",
       "stream": "stdout",
       "text": [
        "\n",
        "second momemtum update 0.013195\n",
        "first momemtum update 0.012972\n",
        "position update 0.015169\n",
        "force update 27.770221"
       ]
      },
      {
       "output_type": "stream",
       "stream": "stdout",
       "text": [
        "\n",
        "second momemtum update 0.016905\n",
        "first momemtum update 0.012611\n",
        "position update 0.015010\n",
        "force update 26.442063"
       ]
      },
      {
       "output_type": "stream",
       "stream": "stdout",
       "text": [
        "\n",
        "second momemtum update 0.013403\n",
        "first momemtum update 0.012690\n",
        "position update 0.015262\n",
        "force update 28.265444"
       ]
      },
      {
       "output_type": "stream",
       "stream": "stdout",
       "text": [
        "\n",
        "second momemtum update 0.024473\n",
        "first momemtum update 0.024496\n",
        "position update 0.028430"
       ]
      },
      {
       "output_type": "stream",
       "stream": "stdout",
       "text": [
        "\n",
        "force update 32.874948"
       ]
      },
      {
       "output_type": "stream",
       "stream": "stdout",
       "text": [
        "\n",
        "second momemtum update 0.015350\n",
        "first momemtum update 0.012894\n",
        "position update 0.023056"
       ]
      },
      {
       "output_type": "stream",
       "stream": "stdout",
       "text": [
        "\n",
        "force update 32.281613"
       ]
      },
      {
       "output_type": "stream",
       "stream": "stdout",
       "text": [
        "\n",
        "second momemtum update 0.024659\n",
        "first momemtum update 0.017030\n",
        "position update 0.015936"
       ]
      },
      {
       "output_type": "stream",
       "stream": "stdout",
       "text": [
        "\n",
        "force update 30.450214"
       ]
      },
      {
       "output_type": "stream",
       "stream": "stdout",
       "text": [
        "\n",
        "second momemtum update 0.019251\n",
        "first momemtum update 0.013945\n",
        "position update 0.016650"
       ]
      },
      {
       "output_type": "stream",
       "stream": "stdout",
       "text": [
        "\n",
        "force update 31.412565"
       ]
      },
      {
       "output_type": "stream",
       "stream": "stdout",
       "text": [
        "\n",
        "second momemtum update 0.024938\n",
        "first momemtum update 0.013624\n",
        "position update 0.015339"
       ]
      },
      {
       "output_type": "stream",
       "stream": "stdout",
       "text": [
        "\n",
        "force update 31.555373"
       ]
      },
      {
       "output_type": "stream",
       "stream": "stdout",
       "text": [
        "\n",
        "second momemtum update 0.016162\n",
        "first momemtum update 0.013425\n",
        "position update 0.016147\n",
        "force update 31.004219"
       ]
      },
      {
       "output_type": "stream",
       "stream": "stdout",
       "text": [
        "\n",
        "second momemtum update 0.015759\n",
        "first momemtum update 0.013213\n",
        "position update 0.035144"
       ]
      },
      {
       "output_type": "stream",
       "stream": "stdout",
       "text": [
        "\n",
        "force update 31.688660"
       ]
      },
      {
       "output_type": "stream",
       "stream": "stdout",
       "text": [
        "\n",
        "second momemtum update 0.015347\n",
        "first momemtum update 0.021178\n",
        "position update 0.018069"
       ]
      },
      {
       "output_type": "stream",
       "stream": "stdout",
       "text": [
        "\n",
        "force update 32.374346"
       ]
      },
      {
       "output_type": "stream",
       "stream": "stdout",
       "text": [
        "\n",
        "second momemtum update 0.019979\n",
        "first momemtum update 0.021787\n",
        "position update 0.023010"
       ]
      },
      {
       "output_type": "stream",
       "stream": "stdout",
       "text": [
        "\n",
        "force update 35.334930"
       ]
      },
      {
       "output_type": "stream",
       "stream": "stdout",
       "text": [
        "\n",
        "second momemtum update 0.031078\n",
        "first momemtum update 0.018680\n",
        "position update 0.020256"
       ]
      },
      {
       "output_type": "stream",
       "stream": "stdout",
       "text": [
        "\n",
        "force update 30.369650"
       ]
      },
      {
       "output_type": "stream",
       "stream": "stdout",
       "text": [
        "\n",
        "second momemtum update 0.013881\n",
        "first momemtum update 0.015070\n",
        "position update 0.022249"
       ]
      },
      {
       "output_type": "stream",
       "stream": "stdout",
       "text": [
        "\n",
        "force update 33.636151"
       ]
      },
      {
       "output_type": "stream",
       "stream": "stdout",
       "text": [
        "\n",
        "second momemtum update 0.017634\n",
        "first momemtum update 0.016271\n",
        "position update 0.019571"
       ]
      },
      {
       "output_type": "stream",
       "stream": "stdout",
       "text": [
        "\n",
        "force update 31.651101"
       ]
      },
      {
       "output_type": "stream",
       "stream": "stdout",
       "text": [
        "\n",
        "second momemtum update 0.013899\n",
        "first momemtum update 0.016879\n",
        "position update 0.018779\n",
        "force update 33.429189"
       ]
      },
      {
       "output_type": "stream",
       "stream": "stdout",
       "text": [
        "\n",
        "second momemtum update 0.022811\n",
        "first momemtum update 0.021867\n",
        "position update 0.025862"
       ]
      },
      {
       "output_type": "stream",
       "stream": "stdout",
       "text": [
        "\n",
        "force update 33.029927"
       ]
      },
      {
       "output_type": "stream",
       "stream": "stdout",
       "text": [
        "\n",
        "second momemtum update 0.022941\n",
        "first momemtum update 0.022399\n",
        "position update 0.026144"
       ]
      },
      {
       "output_type": "stream",
       "stream": "stdout",
       "text": [
        "\n",
        "force update 35.361958"
       ]
      },
      {
       "output_type": "stream",
       "stream": "stdout",
       "text": [
        "\n",
        "second momemtum update 0.017485\n",
        "first momemtum update 0.023090\n",
        "position update 0.028236"
       ]
      },
      {
       "output_type": "stream",
       "stream": "stdout",
       "text": [
        "\n",
        "force update 33.114894"
       ]
      },
      {
       "output_type": "stream",
       "stream": "stdout",
       "text": [
        "\n",
        "second momemtum update 0.015036\n",
        "first momemtum update 0.013262\n",
        "position update 0.019719\n",
        "force update 34.716616"
       ]
      },
      {
       "output_type": "stream",
       "stream": "stdout",
       "text": [
        "\n",
        "second momemtum update 0.016533\n",
        "first momemtum update 0.019639\n",
        "position update 0.022727"
       ]
      },
      {
       "output_type": "stream",
       "stream": "stdout",
       "text": [
        "\n",
        "force update 32.966100"
       ]
      },
      {
       "output_type": "stream",
       "stream": "stdout",
       "text": [
        "\n",
        "second momemtum update 0.019403\n",
        "first momemtum update 0.021224\n",
        "position update 0.019357"
       ]
      },
      {
       "output_type": "stream",
       "stream": "stdout",
       "text": [
        "\n",
        "force update 33.372842"
       ]
      },
      {
       "output_type": "stream",
       "stream": "stdout",
       "text": [
        "\n",
        "second momemtum update 0.018089\n",
        "first momemtum update 0.014616\n",
        "position update 0.018887"
       ]
      },
      {
       "output_type": "stream",
       "stream": "stdout",
       "text": [
        "\n",
        "force update 32.847683"
       ]
      },
      {
       "output_type": "stream",
       "stream": "stdout",
       "text": [
        "\n",
        "second momemtum update 0.017935\n",
        "first momemtum update 0.016989\n",
        "position update 0.018297"
       ]
      },
      {
       "output_type": "stream",
       "stream": "stdout",
       "text": [
        "\n",
        "force update 30.440228"
       ]
      },
      {
       "output_type": "stream",
       "stream": "stdout",
       "text": [
        "\n",
        "second momemtum update 0.017832\n",
        "first momemtum update 0.020535\n",
        "position update 0.024612"
       ]
      },
      {
       "output_type": "stream",
       "stream": "stdout",
       "text": [
        "\n",
        "force update 32.458245"
       ]
      },
      {
       "output_type": "stream",
       "stream": "stdout",
       "text": [
        "\n",
        "second momemtum update 0.022452\n",
        "first momemtum update 0.020451\n",
        "position update 0.020868"
       ]
      },
      {
       "output_type": "stream",
       "stream": "stdout",
       "text": [
        "\n",
        "force update 34.085404"
       ]
      },
      {
       "output_type": "stream",
       "stream": "stdout",
       "text": [
        "\n",
        "second momemtum update 0.014297\n",
        "first momemtum update 0.018641\n",
        "position update 0.026704"
       ]
      },
      {
       "output_type": "stream",
       "stream": "stdout",
       "text": [
        "\n",
        "force update 30.337548"
       ]
      },
      {
       "output_type": "stream",
       "stream": "stdout",
       "text": [
        "\n",
        "second momemtum update 0.016143\n",
        "first momemtum update 0.014769\n",
        "position update 0.019595"
       ]
      },
      {
       "output_type": "stream",
       "stream": "stdout",
       "text": [
        "\n",
        "force update 30.433397"
       ]
      },
      {
       "output_type": "stream",
       "stream": "stdout",
       "text": [
        "\n",
        "second momemtum update 0.019117\n",
        "first momemtum update 0.013283\n",
        "position update 0.017823"
       ]
      },
      {
       "output_type": "stream",
       "stream": "stdout",
       "text": [
        "\n",
        "force update 31.019295"
       ]
      },
      {
       "output_type": "stream",
       "stream": "stdout",
       "text": [
        "\n",
        "second momemtum update 0.018652\n",
        "first momemtum update 0.023780\n",
        "position update 0.026425"
       ]
      },
      {
       "output_type": "stream",
       "stream": "stdout",
       "text": [
        "\n",
        "force update 31.256627"
       ]
      },
      {
       "output_type": "stream",
       "stream": "stdout",
       "text": [
        "\n",
        "second momemtum update 0.017333\n",
        "first momemtum update 0.017481\n",
        "position update 0.016504"
       ]
      },
      {
       "output_type": "stream",
       "stream": "stdout",
       "text": [
        "\n",
        "force update 30.538567"
       ]
      },
      {
       "output_type": "stream",
       "stream": "stdout",
       "text": [
        "\n",
        "second momemtum update 0.016816\n",
        "first momemtum update 0.019786\n",
        "position update 0.021254"
       ]
      },
      {
       "output_type": "stream",
       "stream": "stdout",
       "text": [
        "\n",
        "force update 32.376772"
       ]
      },
      {
       "output_type": "stream",
       "stream": "stdout",
       "text": [
        "\n",
        "second momemtum update 0.017927\n",
        "first momemtum update 0.019456\n",
        "position update 0.016497"
       ]
      },
      {
       "output_type": "stream",
       "stream": "stdout",
       "text": [
        "\n",
        "force update 33.656172"
       ]
      },
      {
       "output_type": "stream",
       "stream": "stdout",
       "text": [
        "\n",
        "second momemtum update 0.023771\n",
        "first momemtum update 0.025165"
       ]
      },
      {
       "output_type": "stream",
       "stream": "stdout",
       "text": [
        "\n",
        "position update 0.027064\n",
        "force update 33.460177"
       ]
      },
      {
       "output_type": "stream",
       "stream": "stdout",
       "text": [
        "\n",
        "second momemtum update 0.017790\n",
        "first momemtum update 0.018452\n",
        "position update 0.018223"
       ]
      },
      {
       "output_type": "stream",
       "stream": "stdout",
       "text": [
        "\n",
        "force update 34.146073"
       ]
      },
      {
       "output_type": "stream",
       "stream": "stdout",
       "text": [
        "\n",
        "second momemtum update 0.020227\n",
        "first momemtum update 0.021549\n",
        "position update 0.023438"
       ]
      },
      {
       "output_type": "stream",
       "stream": "stdout",
       "text": [
        "\n",
        "force update 33.021270"
       ]
      },
      {
       "output_type": "stream",
       "stream": "stdout",
       "text": [
        "\n",
        "second momemtum update 0.016707\n",
        "first momemtum update 0.015081\n",
        "position update 0.018011"
       ]
      },
      {
       "output_type": "stream",
       "stream": "stdout",
       "text": [
        "\n",
        "force update 34.696278"
       ]
      },
      {
       "output_type": "stream",
       "stream": "stdout",
       "text": [
        "\n",
        "second momemtum update 0.012988\n",
        "first momemtum update 0.022110\n",
        "position update 0.027920"
       ]
      },
      {
       "output_type": "stream",
       "stream": "stdout",
       "text": [
        "\n",
        "force update 35.181810"
       ]
      },
      {
       "output_type": "stream",
       "stream": "stdout",
       "text": [
        "\n",
        "second momemtum update 0.023269\n",
        "first momemtum update 0.023586\n",
        "position update 0.025214"
       ]
      },
      {
       "output_type": "stream",
       "stream": "stdout",
       "text": [
        "\n",
        "force update 33.368799"
       ]
      },
      {
       "output_type": "stream",
       "stream": "stdout",
       "text": [
        "\n",
        "second momemtum update 0.019308\n",
        "first momemtum update 0.016125\n",
        "position update 0.017275"
       ]
      },
      {
       "output_type": "stream",
       "stream": "stdout",
       "text": [
        "\n",
        "force update 33.648946"
       ]
      },
      {
       "output_type": "stream",
       "stream": "stdout",
       "text": [
        "\n",
        "second momemtum update 0.015690\n",
        "first momemtum update 0.012910\n",
        "position update 0.015125\n",
        "force update 29.475481"
       ]
      },
      {
       "output_type": "stream",
       "stream": "stdout",
       "text": [
        "\n",
        "second momemtum update 0.015511\n",
        "first momemtum update 0.014876\n",
        "position update 0.015837\n",
        "force update 30.269036"
       ]
      },
      {
       "output_type": "stream",
       "stream": "stdout",
       "text": [
        "\n",
        "second momemtum update 0.019183\n",
        "first momemtum update 0.014191\n",
        "position update 0.020085"
       ]
      },
      {
       "output_type": "stream",
       "stream": "stdout",
       "text": [
        "\n",
        "force update 31.979071"
       ]
      },
      {
       "output_type": "stream",
       "stream": "stdout",
       "text": [
        "\n",
        "second momemtum update 0.014703\n",
        "first momemtum update 0.014161\n",
        "position update 0.015300\n",
        "force update 28.790336"
       ]
      },
      {
       "output_type": "stream",
       "stream": "stdout",
       "text": [
        "\n",
        "second momemtum update 0.013099\n",
        "first momemtum update 0.012868\n",
        "position update 0.015021\n",
        "force update 25.826436"
       ]
      },
      {
       "output_type": "stream",
       "stream": "stdout",
       "text": [
        "\n",
        "second momemtum update 0.012709\n",
        "first momemtum update 0.012583\n",
        "position update 0.015166\n",
        "force update 25.343091"
       ]
      },
      {
       "output_type": "stream",
       "stream": "stdout",
       "text": [
        "\n",
        "second momemtum update 0.013108\n",
        "first momemtum update 0.014531\n",
        "position update 0.017065\n",
        "force update 25.199729"
       ]
      },
      {
       "output_type": "stream",
       "stream": "stdout",
       "text": [
        "\n",
        "second momemtum update 0.013448\n",
        "first momemtum update 0.018905\n",
        "position update 0.021249"
       ]
      },
      {
       "output_type": "stream",
       "stream": "stdout",
       "text": [
        "\n",
        "force update 25.465196"
       ]
      },
      {
       "output_type": "stream",
       "stream": "stdout",
       "text": [
        "\n",
        "second momemtum update 0.013073\n",
        "first momemtum update 0.012938\n",
        "position update 0.015638\n",
        "force update 25.588271"
       ]
      },
      {
       "output_type": "stream",
       "stream": "stdout",
       "text": [
        "\n",
        "second momemtum update 0.013185\n",
        "first momemtum update 0.013354\n",
        "position update 0.015444\n",
        "force update 24.762088"
       ]
      },
      {
       "output_type": "stream",
       "stream": "stdout",
       "text": [
        "\n",
        "second momemtum update 0.012961\n",
        "first momemtum update 0.012658\n",
        "position update 0.014946\n",
        "force update 24.602822"
       ]
      },
      {
       "output_type": "stream",
       "stream": "stdout",
       "text": [
        "\n",
        "second momemtum update 0.013027\n",
        "first momemtum update 0.013623\n",
        "position update 0.015300\n",
        "force update 24.871261"
       ]
      },
      {
       "output_type": "stream",
       "stream": "stdout",
       "text": [
        "\n",
        "second momemtum update 0.012967\n",
        "first momemtum update 0.013218\n",
        "position update 0.015660\n",
        "force update 25.708051"
       ]
      },
      {
       "output_type": "stream",
       "stream": "stdout",
       "text": [
        "\n",
        "second momemtum update 0.015580\n",
        "first momemtum update 0.012889\n",
        "position update 0.015444\n",
        "force update 25.481402"
       ]
      },
      {
       "output_type": "stream",
       "stream": "stdout",
       "text": [
        "\n",
        "second momemtum update 0.024428\n",
        "first momemtum update 0.023393\n",
        "position update 0.028908"
       ]
      },
      {
       "output_type": "stream",
       "stream": "stdout",
       "text": [
        "\n",
        "force update 26.652834"
       ]
      },
      {
       "output_type": "stream",
       "stream": "stdout",
       "text": [
        "\n",
        "second momemtum update 0.021519\n",
        "first momemtum update 0.021465\n",
        "position update 0.025652"
       ]
      },
      {
       "output_type": "stream",
       "stream": "stdout",
       "text": [
        "\n",
        "force update 24.691806"
       ]
      },
      {
       "output_type": "stream",
       "stream": "stdout",
       "text": [
        "\n",
        "second momemtum update 0.012617\n",
        "first momemtum update 0.012857\n",
        "position update 0.015292\n",
        "force update 25.146532"
       ]
      },
      {
       "output_type": "stream",
       "stream": "stdout",
       "text": [
        "\n",
        "second momemtum update 0.012762\n",
        "first momemtum update 0.012896\n",
        "position update 0.015543\n",
        "force update 26.974704"
       ]
      },
      {
       "output_type": "stream",
       "stream": "stdout",
       "text": [
        "\n",
        "second momemtum update 0.014028\n",
        "first momemtum update 0.012761\n",
        "position update 0.015187\n",
        "force update 25.215892"
       ]
      },
      {
       "output_type": "stream",
       "stream": "stdout",
       "text": [
        "\n",
        "second momemtum update 0.016518\n",
        "first momemtum update 0.012837\n",
        "position update 0.015177\n",
        "force update 27.057831"
       ]
      },
      {
       "output_type": "stream",
       "stream": "stdout",
       "text": [
        "\n",
        "second momemtum update 0.012785\n",
        "first momemtum update 0.012758\n",
        "position update 0.015185\n",
        "force update 25.640709"
       ]
      },
      {
       "output_type": "stream",
       "stream": "stdout",
       "text": [
        "\n",
        "second momemtum update 0.015400\n",
        "first momemtum update 0.013023\n",
        "position update 0.015043\n",
        "force update 25.234510"
       ]
      },
      {
       "output_type": "stream",
       "stream": "stdout",
       "text": [
        "\n",
        "second momemtum update 0.013007\n",
        "first momemtum update 0.012982\n",
        "position update 0.015123\n",
        "force update 25.658331"
       ]
      },
      {
       "output_type": "stream",
       "stream": "stdout",
       "text": [
        "\n",
        "second momemtum update 0.012840\n",
        "first momemtum update 0.013957\n",
        "position update 0.016578\n",
        "force update 25.671688"
       ]
      },
      {
       "output_type": "stream",
       "stream": "stdout",
       "text": [
        "\n",
        "second momemtum update 0.012687\n",
        "first momemtum update 0.012738\n",
        "position update 0.015255\n",
        "force update 25.947355"
       ]
      },
      {
       "output_type": "stream",
       "stream": "stdout",
       "text": [
        "\n",
        "second momemtum update 0.015907\n",
        "first momemtum update 0.013545\n",
        "position update 0.015169\n",
        "force update 24.832952"
       ]
      },
      {
       "output_type": "stream",
       "stream": "stdout",
       "text": [
        "\n",
        "second momemtum update 0.012628\n",
        "first momemtum update 0.012721\n",
        "position update 0.015094\n",
        "force update 24.220845"
       ]
      },
      {
       "output_type": "stream",
       "stream": "stdout",
       "text": [
        "\n",
        "second momemtum update 0.012778\n",
        "first momemtum update 0.012790\n",
        "position update 0.015159\n",
        "force update 25.044512"
       ]
      },
      {
       "output_type": "stream",
       "stream": "stdout",
       "text": [
        "\n",
        "second momemtum update 0.012965\n",
        "first momemtum update 0.012871\n",
        "position update 0.015035\n",
        "force update 24.212682"
       ]
      },
      {
       "output_type": "stream",
       "stream": "stdout",
       "text": [
        "\n",
        "second momemtum update 0.012896\n",
        "first momemtum update 0.012973\n",
        "position update 0.015256\n",
        "force update 24.267426"
       ]
      },
      {
       "output_type": "stream",
       "stream": "stdout",
       "text": [
        "\n",
        "second momemtum update 0.013560\n",
        "first momemtum update 0.012948\n",
        "position update 0.015343\n",
        "force update 24.332155"
       ]
      },
      {
       "output_type": "stream",
       "stream": "stdout",
       "text": [
        "\n",
        "second momemtum update 0.012862\n",
        "first momemtum update 0.012679\n",
        "position update 0.015206\n",
        "force update 25.105692"
       ]
      },
      {
       "output_type": "stream",
       "stream": "stdout",
       "text": [
        "\n",
        "second momemtum update 0.012759\n",
        "first momemtum update 0.012978\n",
        "position update 0.015169\n",
        "force update 25.915633"
       ]
      },
      {
       "output_type": "stream",
       "stream": "stdout",
       "text": [
        "\n",
        "second momemtum update 0.012662\n",
        "first momemtum update 0.012678\n",
        "position update 0.014933\n",
        "force update 25.940702"
       ]
      },
      {
       "output_type": "stream",
       "stream": "stdout",
       "text": [
        "\n",
        "second momemtum update 0.014602\n",
        "first momemtum update 0.013449\n",
        "position update 0.015333\n",
        "force update 25.409290"
       ]
      },
      {
       "output_type": "stream",
       "stream": "stdout",
       "text": [
        "\n",
        "second momemtum update 0.021899\n",
        "first momemtum update 0.020738\n",
        "position update 0.015384"
       ]
      },
      {
       "output_type": "stream",
       "stream": "stdout",
       "text": [
        "\n",
        "force update 25.385594"
       ]
      },
      {
       "output_type": "stream",
       "stream": "stdout",
       "text": [
        "\n",
        "second momemtum update 0.012688\n",
        "first momemtum update 0.012652\n",
        "position update 0.015156\n",
        "force update 25.800838"
       ]
      },
      {
       "output_type": "stream",
       "stream": "stdout",
       "text": [
        "\n",
        "second momemtum update 0.013080\n",
        "first momemtum update 0.013059\n",
        "position update 0.015090\n",
        "force update 30.899826"
       ]
      },
      {
       "output_type": "stream",
       "stream": "stdout",
       "text": [
        "\n",
        "second momemtum update 0.012951\n",
        "first momemtum update 0.012912\n",
        "position update 0.015116\n",
        "force update 26.207908"
       ]
      },
      {
       "output_type": "stream",
       "stream": "stdout",
       "text": [
        "\n",
        "second momemtum update 0.012671\n",
        "first momemtum update 0.012608\n",
        "position update 0.015080\n",
        "force update 25.198392"
       ]
      },
      {
       "output_type": "stream",
       "stream": "stdout",
       "text": [
        "\n",
        "second momemtum update 0.012677\n",
        "first momemtum update 0.012771\n",
        "position update 0.015261\n",
        "force update 25.489785"
       ]
      },
      {
       "output_type": "stream",
       "stream": "stdout",
       "text": [
        "\n",
        "second momemtum update 0.012744\n",
        "first momemtum update 0.012901\n",
        "position update 0.015188\n",
        "force update 26.163528"
       ]
      },
      {
       "output_type": "stream",
       "stream": "stdout",
       "text": [
        "\n",
        "second momemtum update 0.012727\n",
        "first momemtum update 0.012743\n",
        "position update 0.015399\n",
        "force update 25.923847"
       ]
      },
      {
       "output_type": "stream",
       "stream": "stdout",
       "text": [
        "\n",
        "second momemtum update 0.012925\n",
        "first momemtum update 0.012913\n",
        "position update 0.015048\n",
        "force update 25.375306"
       ]
      },
      {
       "output_type": "stream",
       "stream": "stdout",
       "text": [
        "\n",
        "second momemtum update 0.012982\n",
        "first momemtum update 0.012949\n",
        "position update 0.015312\n",
        "force update 25.857784"
       ]
      },
      {
       "output_type": "stream",
       "stream": "stdout",
       "text": [
        "\n",
        "second momemtum update 0.013471\n",
        "first momemtum update 0.012916\n",
        "position update 0.016795\n",
        "force update 25.314302"
       ]
      },
      {
       "output_type": "stream",
       "stream": "stdout",
       "text": [
        "\n",
        "second momemtum update 0.012749\n",
        "first momemtum update 0.012741\n",
        "position update 0.015283\n",
        "force update 24.536662"
       ]
      },
      {
       "output_type": "stream",
       "stream": "stdout",
       "text": [
        "\n",
        "second momemtum update 0.013326\n",
        "first momemtum update 0.012823\n",
        "position update 0.016029\n",
        "force update 26.311148"
       ]
      },
      {
       "output_type": "stream",
       "stream": "stdout",
       "text": [
        "\n",
        "second momemtum update 0.012844\n",
        "first momemtum update 0.012569\n",
        "position update 0.014988\n",
        "force update 27.414581"
       ]
      },
      {
       "output_type": "stream",
       "stream": "stdout",
       "text": [
        "\n",
        "second momemtum update 0.025462\n",
        "first momemtum update 0.020550\n",
        "position update 0.017063"
       ]
      },
      {
       "output_type": "stream",
       "stream": "stdout",
       "text": [
        "\n",
        "force update 25.225237"
       ]
      },
      {
       "output_type": "stream",
       "stream": "stdout",
       "text": [
        "\n",
        "second momemtum update 0.012780\n",
        "first momemtum update 0.012599\n",
        "position update 0.015057\n",
        "force update 24.515011"
       ]
      },
      {
       "output_type": "stream",
       "stream": "stdout",
       "text": [
        "\n",
        "second momemtum update 0.015603\n",
        "first momemtum update 0.012797\n",
        "position update 0.015112\n",
        "force update 24.753550"
       ]
      },
      {
       "output_type": "stream",
       "stream": "stdout",
       "text": [
        "\n",
        "second momemtum update 0.012789\n",
        "first momemtum update 0.012938\n",
        "position update 0.015090\n",
        "force update 24.361449"
       ]
      },
      {
       "output_type": "stream",
       "stream": "stdout",
       "text": [
        "\n",
        "second momemtum update 0.013617\n",
        "first momemtum update 0.012931\n",
        "position update 0.015912\n",
        "force update 24.516173"
       ]
      },
      {
       "output_type": "stream",
       "stream": "stdout",
       "text": [
        "\n",
        "second momemtum update 0.013029\n",
        "first momemtum update 0.012952\n",
        "position update 0.015292\n",
        "force update 24.324050"
       ]
      },
      {
       "output_type": "stream",
       "stream": "stdout",
       "text": [
        "\n",
        "second momemtum update 0.012641\n",
        "first momemtum update 0.012790\n",
        "position update 0.015098\n",
        "force update 24.347544"
       ]
      },
      {
       "output_type": "stream",
       "stream": "stdout",
       "text": [
        "\n",
        "second momemtum update 0.012799\n",
        "first momemtum update 0.013007\n",
        "position update 0.015035\n",
        "force update 25.051135"
       ]
      },
      {
       "output_type": "stream",
       "stream": "stdout",
       "text": [
        "\n",
        "second momemtum update 0.012700\n",
        "first momemtum update 0.012728\n",
        "position update 0.015063\n",
        "force update 24.786588"
       ]
      },
      {
       "output_type": "stream",
       "stream": "stdout",
       "text": [
        "\n",
        "second momemtum update 0.013242\n",
        "first momemtum update 0.013190\n",
        "position update 0.015773\n",
        "force update 24.615788"
       ]
      },
      {
       "output_type": "stream",
       "stream": "stdout",
       "text": [
        "\n",
        "second momemtum update 0.013015\n",
        "first momemtum update 0.013041\n",
        "position update 0.015119\n",
        "force update 24.418999"
       ]
      },
      {
       "output_type": "stream",
       "stream": "stdout",
       "text": [
        "\n",
        "second momemtum update 0.013021\n",
        "first momemtum update 0.012752\n",
        "position update 0.015236\n",
        "force update 24.673860"
       ]
      },
      {
       "output_type": "stream",
       "stream": "stdout",
       "text": [
        "\n",
        "second momemtum update 0.013053\n",
        "first momemtum update 0.012957\n",
        "position update 0.015048\n",
        "force update 24.433716"
       ]
      },
      {
       "output_type": "stream",
       "stream": "stdout",
       "text": [
        "\n",
        "second momemtum update 0.017949\n",
        "first momemtum update 0.012774\n",
        "position update 0.016745\n",
        "force update 24.385122"
       ]
      },
      {
       "output_type": "stream",
       "stream": "stdout",
       "text": [
        "\n",
        "second momemtum update 0.014647\n",
        "first momemtum update 0.013184\n",
        "position update 0.015134\n",
        "force update 24.728988"
       ]
      },
      {
       "output_type": "stream",
       "stream": "stdout",
       "text": [
        "\n",
        "second momemtum update 0.015563\n",
        "first momemtum update 0.012589\n",
        "position update 0.015038\n",
        "force update 24.580593"
       ]
      },
      {
       "output_type": "stream",
       "stream": "stdout",
       "text": [
        "\n",
        "second momemtum update 0.012877\n",
        "first momemtum update 0.012891\n",
        "position update 0.015564\n",
        "force update 24.230159"
       ]
      },
      {
       "output_type": "stream",
       "stream": "stdout",
       "text": [
        "\n",
        "second momemtum update 0.013080\n",
        "first momemtum update 0.013033\n",
        "position update 0.015623\n",
        "force update 24.327270"
       ]
      },
      {
       "output_type": "stream",
       "stream": "stdout",
       "text": [
        "\n",
        "second momemtum update 0.013441\n",
        "first momemtum update 0.013005\n",
        "position update 0.015152\n",
        "force update 24.363579"
       ]
      },
      {
       "output_type": "stream",
       "stream": "stdout",
       "text": [
        "\n",
        "second momemtum update 0.013033\n",
        "first momemtum update 0.013015\n",
        "position update 0.015250\n",
        "force update 24.319261"
       ]
      },
      {
       "output_type": "stream",
       "stream": "stdout",
       "text": [
        "\n",
        "second momemtum update 0.012931\n",
        "first momemtum update 0.012943\n",
        "position update 0.014901\n",
        "force update 24.718406"
       ]
      },
      {
       "output_type": "stream",
       "stream": "stdout",
       "text": [
        "\n",
        "second momemtum update 0.013026\n",
        "first momemtum update 0.012657\n",
        "position update 0.015176\n",
        "force update 24.632142"
       ]
      },
      {
       "output_type": "stream",
       "stream": "stdout",
       "text": [
        "\n",
        "second momemtum update 0.017557\n",
        "first momemtum update 0.013131\n",
        "position update 0.015238\n",
        "force update 24.569578"
       ]
      },
      {
       "output_type": "stream",
       "stream": "stdout",
       "text": [
        "\n",
        "second momemtum update 0.012663\n",
        "first momemtum update 0.013018\n",
        "position update 0.015087\n",
        "force update 24.437001"
       ]
      },
      {
       "output_type": "stream",
       "stream": "stdout",
       "text": [
        "\n",
        "second momemtum update 0.012953\n",
        "first momemtum update 0.012894\n",
        "position update 0.014914\n",
        "force update 24.614457"
       ]
      },
      {
       "output_type": "stream",
       "stream": "stdout",
       "text": [
        "\n",
        "second momemtum update 0.012732\n",
        "first momemtum update 0.012609\n",
        "position update 0.014966\n",
        "force update 24.296850"
       ]
      },
      {
       "output_type": "stream",
       "stream": "stdout",
       "text": [
        "\n",
        "second momemtum update 0.012682\n",
        "first momemtum update 0.012814\n",
        "position update 0.015122\n",
        "force update 24.282447"
       ]
      },
      {
       "output_type": "stream",
       "stream": "stdout",
       "text": [
        "\n",
        "second momemtum update 0.012935\n",
        "first momemtum update 0.012876\n",
        "position update 0.015055\n",
        "force update 24.342856"
       ]
      },
      {
       "output_type": "stream",
       "stream": "stdout",
       "text": [
        "\n",
        "second momemtum update 0.016041\n",
        "first momemtum update 0.012615\n",
        "position update 0.016790\n",
        "force update 24.680736"
       ]
      },
      {
       "output_type": "stream",
       "stream": "stdout",
       "text": [
        "\n",
        "second momemtum update 0.012780\n",
        "first momemtum update 0.012778\n",
        "position update 0.015180\n",
        "force update 24.452529"
       ]
      },
      {
       "output_type": "stream",
       "stream": "stdout",
       "text": [
        "\n",
        "second momemtum update 0.016278\n",
        "first momemtum update 0.013112\n",
        "position update 0.015550\n",
        "force update 24.672036"
       ]
      },
      {
       "output_type": "stream",
       "stream": "stdout",
       "text": [
        "\n",
        "second momemtum update 0.012689\n",
        "first momemtum update 0.013425\n",
        "position update 0.015252\n",
        "force update 24.682507"
       ]
      },
      {
       "output_type": "stream",
       "stream": "stdout",
       "text": [
        "\n",
        "second momemtum update 0.012679\n",
        "first momemtum update 0.012706\n",
        "position update 0.017094\n",
        "force update 24.885097"
       ]
      },
      {
       "output_type": "stream",
       "stream": "stdout",
       "text": [
        "\n",
        "second momemtum update 0.012636\n",
        "first momemtum update 0.012598\n",
        "position update 0.015485\n",
        "force update 24.443290"
       ]
      },
      {
       "output_type": "stream",
       "stream": "stdout",
       "text": [
        "\n",
        "second momemtum update 0.012658\n",
        "first momemtum update 0.014878\n",
        "position update 0.014867\n",
        "force update 24.587505"
       ]
      },
      {
       "output_type": "stream",
       "stream": "stdout",
       "text": [
        "\n",
        "second momemtum update 0.012882\n",
        "first momemtum update 0.012874\n",
        "position update 0.015274\n",
        "force update 24.406467"
       ]
      },
      {
       "output_type": "stream",
       "stream": "stdout",
       "text": [
        "\n",
        "second momemtum update 0.012955\n",
        "first momemtum update 0.012747\n",
        "position update 0.015231\n",
        "force update 24.418014"
       ]
      },
      {
       "output_type": "stream",
       "stream": "stdout",
       "text": [
        "\n",
        "second momemtum update 0.013601\n",
        "first momemtum update 0.014933\n",
        "position update 0.015633\n",
        "force update 24.753469"
       ]
      },
      {
       "output_type": "stream",
       "stream": "stdout",
       "text": [
        "\n",
        "second momemtum update 0.013627\n",
        "first momemtum update 0.015175\n",
        "position update 0.015300\n",
        "force update 24.439024"
       ]
      },
      {
       "output_type": "stream",
       "stream": "stdout",
       "text": [
        "\n",
        "second momemtum update 0.013017\n",
        "first momemtum update 0.012974\n",
        "position update 0.015218\n",
        "force update 24.717008"
       ]
      },
      {
       "output_type": "stream",
       "stream": "stdout",
       "text": [
        "\n",
        "second momemtum update 0.012977\n",
        "first momemtum update 0.013058\n",
        "position update 0.015187\n",
        "force update 24.779797"
       ]
      },
      {
       "output_type": "stream",
       "stream": "stdout",
       "text": [
        "\n",
        "second momemtum update 0.013203\n",
        "first momemtum update 0.013299\n",
        "position update 0.015364\n",
        "force update 24.693385"
       ]
      },
      {
       "output_type": "stream",
       "stream": "stdout",
       "text": [
        "\n",
        "second momemtum update 0.012925\n",
        "first momemtum update 0.012906\n",
        "position update 0.015091\n",
        "force update 24.506231"
       ]
      },
      {
       "output_type": "stream",
       "stream": "stdout",
       "text": [
        "\n",
        "second momemtum update 0.013028\n",
        "first momemtum update 0.012975\n",
        "position update 0.015297\n",
        "force update 24.351301"
       ]
      },
      {
       "output_type": "stream",
       "stream": "stdout",
       "text": [
        "\n",
        "second momemtum update 0.012833\n",
        "first momemtum update 0.012748\n",
        "position update 0.015191\n",
        "force update 24.360508"
       ]
      },
      {
       "output_type": "stream",
       "stream": "stdout",
       "text": [
        "\n",
        "second momemtum update 0.012907\n",
        "first momemtum update 0.012789\n",
        "position update 0.015144\n",
        "force update 24.611200"
       ]
      },
      {
       "output_type": "stream",
       "stream": "stdout",
       "text": [
        "\n",
        "second momemtum update 0.013014\n",
        "first momemtum update 0.014108\n",
        "position update 0.015176\n",
        "force update 24.704108"
       ]
      },
      {
       "output_type": "stream",
       "stream": "stdout",
       "text": [
        "\n",
        "second momemtum update 0.012946\n",
        "first momemtum update 0.013113\n",
        "position update 0.015291\n",
        "force update 24.668360"
       ]
      },
      {
       "output_type": "stream",
       "stream": "stdout",
       "text": [
        "\n",
        "second momemtum update 0.013168\n",
        "first momemtum update 0.013193\n",
        "position update 0.015118\n",
        "force update 24.824813"
       ]
      },
      {
       "output_type": "stream",
       "stream": "stdout",
       "text": [
        "\n",
        "second momemtum update 0.012802\n",
        "first momemtum update 0.012792\n",
        "position update 0.015605\n",
        "force update 24.767600"
       ]
      },
      {
       "output_type": "stream",
       "stream": "stdout",
       "text": [
        "\n",
        "second momemtum update 0.014227\n",
        "first momemtum update 0.012941\n",
        "position update 0.015808\n",
        "force update 24.654764"
       ]
      },
      {
       "output_type": "stream",
       "stream": "stdout",
       "text": [
        "\n",
        "second momemtum update 0.012578\n",
        "first momemtum update 0.012728\n",
        "position update 0.015239\n",
        "force update 24.865031"
       ]
      },
      {
       "output_type": "stream",
       "stream": "stdout",
       "text": [
        "\n",
        "second momemtum update 0.012750\n",
        "first momemtum update 0.012917\n",
        "position update 0.015015\n",
        "force update 24.441540"
       ]
      },
      {
       "output_type": "stream",
       "stream": "stdout",
       "text": [
        "\n",
        "second momemtum update 0.014445\n",
        "first momemtum update 0.012615\n",
        "position update 0.023643"
       ]
      },
      {
       "output_type": "stream",
       "stream": "stdout",
       "text": [
        "\n",
        "force update 24.423677"
       ]
      },
      {
       "output_type": "stream",
       "stream": "stdout",
       "text": [
        "\n",
        "second momemtum update 0.012866\n",
        "first momemtum update 0.012831\n",
        "position update 0.015455\n",
        "force update 24.700093"
       ]
      },
      {
       "output_type": "stream",
       "stream": "stdout",
       "text": [
        "\n",
        "second momemtum update 0.013181\n",
        "first momemtum update 0.012918\n",
        "position update 0.015288\n",
        "force update 24.613485"
       ]
      },
      {
       "output_type": "stream",
       "stream": "stdout",
       "text": [
        "\n",
        "second momemtum update 0.012930\n",
        "first momemtum update 0.012776\n",
        "position update 0.015310\n",
        "force update 24.704124"
       ]
      },
      {
       "output_type": "stream",
       "stream": "stdout",
       "text": [
        "\n",
        "second momemtum update 0.014107\n",
        "first momemtum update 0.016311\n",
        "position update 0.016644\n",
        "force update 24.677237"
       ]
      },
      {
       "output_type": "stream",
       "stream": "stdout",
       "text": [
        "\n",
        "second momemtum update 0.015523\n",
        "first momemtum update 0.012902\n",
        "position update 0.015122\n",
        "force update 24.643453"
       ]
      },
      {
       "output_type": "stream",
       "stream": "stdout",
       "text": [
        "\n",
        "second momemtum update 0.013971\n",
        "first momemtum update 0.013207\n",
        "position update 0.015092\n",
        "force update 24.820959"
       ]
      },
      {
       "output_type": "stream",
       "stream": "stdout",
       "text": [
        "\n",
        "second momemtum update 0.022380\n",
        "first momemtum update 0.023748\n",
        "position update 0.018715"
       ]
      },
      {
       "output_type": "stream",
       "stream": "stdout",
       "text": [
        "\n",
        "force update 24.799860"
       ]
      },
      {
       "output_type": "stream",
       "stream": "stdout",
       "text": [
        "\n",
        "second momemtum update 0.013002\n",
        "first momemtum update 0.013101\n",
        "position update 0.015456\n",
        "force update 25.471191"
       ]
      },
      {
       "output_type": "stream",
       "stream": "stdout",
       "text": [
        "\n",
        "second momemtum update 0.013603\n",
        "first momemtum update 0.013715\n",
        "position update 0.015549\n",
        "force update 25.923650"
       ]
      },
      {
       "output_type": "stream",
       "stream": "stdout",
       "text": [
        "\n",
        "second momemtum update 0.014262\n",
        "first momemtum update 0.013078\n",
        "position update 0.015143\n",
        "force update 26.097365"
       ]
      },
      {
       "output_type": "stream",
       "stream": "stdout",
       "text": [
        "\n",
        "second momemtum update 0.013016\n",
        "first momemtum update 0.012834\n",
        "position update 0.015335\n",
        "force update 26.361010"
       ]
      },
      {
       "output_type": "stream",
       "stream": "stdout",
       "text": [
        "\n",
        "second momemtum update 0.016041\n",
        "first momemtum update 0.012525\n",
        "position update 0.015120\n",
        "force update 24.475398"
       ]
      },
      {
       "output_type": "stream",
       "stream": "stdout",
       "text": [
        "\n",
        "second momemtum update 0.017166\n",
        "first momemtum update 0.012757\n",
        "position update 0.014960\n",
        "force update 24.447556"
       ]
      }
     ],
     "prompt_number": "*"
    },
    {
     "cell_type": "code",
     "collapsed": false,
     "input": [
      "plt.subplot(121)\n",
      "plt.hist(initial_dist,10);\n",
      "plt.subplot(122)\n",
      "plt.hist(final_dist,10);"
     ],
     "language": "python",
     "metadata": {},
     "outputs": [
      {
       "metadata": {},
       "output_type": "display_data",
       "png": "[encoded data removed]",
       "text": [
        "<matplotlib.figure.Figure at 0xb14a0f6c>"
       ]
      }
     ],
     "prompt_number": 177
    },
    {
     "cell_type": "code",
     "collapsed": false,
     "input": [
      "np.max(force)"
     ],
     "language": "python",
     "metadata": {},
     "outputs": [
      {
       "metadata": {},
       "output_type": "pyout",
       "prompt_number": 181,
       "text": [
        "40.654045245406941"
       ]
      }
     ],
     "prompt_number": 181
    },
    {
     "cell_type": "code",
     "collapsed": false,
     "input": [
      "system"
     ],
     "language": "python",
     "metadata": {},
     "outputs": [
      {
       "metadata": {},
       "output_type": "pyout",
       "prompt_number": 179,
       "text": [
        "array([[[  1.49691335e+01,   1.48497825e+01],\n",
        "        [ -3.08644557e-01,  -1.50214539e+00]],\n",
        "\n",
        "       [[  1.60005077e+01,   1.49944098e+01],\n",
        "        [  4.79789601e-03,  -5.60613012e-02]],\n",
        "\n",
        "       [[  1.68369956e+01,   1.49452641e+01],\n",
        "        [ -1.63031648e+00,  -5.47512444e-01]],\n",
        "\n",
        "       ..., \n",
        "       [[  3.19100117e+01,   3.38795255e+01],\n",
        "        [ -8.99880950e-01,  -1.20468483e+00]],\n",
        "\n",
        "       [[  3.30082659e+01,   3.40647643e+01],\n",
        "        [  8.26874116e-02,   6.47653335e-01]],\n",
        "\n",
        "       [[  3.39736044e+01,   3.41084113e+01],\n",
        "        [ -2.63970637e-01,   1.08417336e+00]]])"
       ]
      }
     ],
     "prompt_number": 179
    },
    {
     "cell_type": "code",
     "collapsed": false,
     "input": [
      "x = []\n",
      "y = []\n",
      "for i in xrange(len(system)):\n",
      "    x.append(system[i][0][0])\n",
      "    y.append(system[i][0][1])\n",
      "plt.scatter(x,y);\n",
      "#plt.ylim([-200,200])"
     ],
     "language": "python",
     "metadata": {},
     "outputs": [
      {
       "metadata": {},
       "output_type": "pyout",
       "prompt_number": 180,
       "text": [
        "<matplotlib.collections.PathCollection at 0xb1561d8c>"
       ]
      },
      {
       "metadata": {},
       "output_type": "display_data",
       "png": "[encoded data removed]",
       "text": [
        "<matplotlib.figure.Figure at 0xb150cd6c>"
       ]
      }
     ],
     "prompt_number": 180
    },
    {
     "cell_type": "code",
     "collapsed": false,
     "input": [],
     "language": "python",
     "metadata": {},
     "outputs": []
    }
   ],
   "metadata": {}
  }
 ]
}