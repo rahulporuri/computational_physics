{
 "metadata": {
  "name": ""
 },
 "nbformat": 3,
 "nbformat_minor": 0,
 "worksheets": [
  {
   "cells": [
    {
     "cell_type": "code",
     "collapsed": false,
     "input": [
      "import numpy as np\n",
      "import matplotlib.pyplot as plt\n",
      "from scipy.constants import nano, pico, N_A, m_p, milli, micro\n",
      "%matplotlib inline\n",
      "import time\n",
      "import scipy.spatial.distance as spd"
     ],
     "language": "python",
     "metadata": {},
     "outputs": [],
     "prompt_number": "*"
    },
    {
     "cell_type": "code",
     "collapsed": false,
     "input": [
      "n = 400 # number of atoms in the system\n",
      "#e = sigma = 1.\n",
      "system = np.zeros([n,2,2])\n",
      "# initialization\n",
      "for i in xrange(n):\n",
      "    system[i][0][0] = i%20 + 15 # positions in a 3X3 lattice\n",
      "    system[i][0][1] = i/20 + 15 # 3 is the square root of 9. if n is changed, so should this value!\n",
      "    system[i][1] = np.array([np.random.normal(),np.random.normal()])"
     ],
     "language": "python",
     "metadata": {},
     "outputs": [],
     "prompt_number": 3
    },
    {
     "cell_type": "code",
     "collapsed": false,
     "input": [
      "#n = 400 # number of atoms in the system\n",
      "#e = sigma = 1.\n",
      "#system = np.zeros([n,2,2])\n",
      "# initialization\n",
      "#for i in xrange(n):\n",
      "#    system[i][0][0] = i%20 # positions in a 3X3 lattice\n",
      "#    system[i][0][1] = i/20 # 3 is the square root of 9. if n is changed, so should this value!\n",
      "    #system[i][1] = np.array([0.1,0.1]) # x & y momenta = 1\n",
      "#    system[i][1] = np.array([np.random.normal(),np.random.normal()])\n",
      "    #system[i][1][0] = 1 # positions in a 3X3 lattice\n",
      "    #system[i][1][1] = 1 # 3 is the square root of 9. if n is changed, so should this value!\n",
      "    \n",
      "n = 400 # number of atoms in the system\n",
      "#e = sigma = 1.\n",
      "system = np.zeros([n,2,2])\n",
      "# initialization\n",
      "for i in xrange(n):\n",
      "    system[i][0][0] = i%20 + 15 # positions in a 3X3 lattice\n",
      "    system[i][0][1] = i/20 + 15 # 3 is the square root of 9. if n is changed, so should this value!\n",
      "    system[i][1] = np.array([np.random.normal(),np.random.normal()])\n",
      "    \n",
      "def update_position():\n",
      "    for i in xrange(len(system)):\n",
      "        system[i][0] += system[i][1]*step\n",
      "        if system[i][0][0] > 50:\n",
      "            system[i][0][0] = system[i][0][0]%50\n",
      "        if system[i][0][1] > 50:\n",
      "            system[i][0][0] = system[i][0][0]/50\n",
      "        if system[i][0][0] < -0:\n",
      "            system[i][0][0] = system[i][0][0]%50\n",
      "        if system[i][0][1] < -0:\n",
      "            system[i][0][1] += 50\n",
      "    return system\n",
      "\n",
      "def update_momentum():\n",
      "    for i in xrange(len(system)):\n",
      "        system[i][1] += force[i]*step/2\n",
      "    return system\n",
      "\n",
      "def lennard_jones(r):\n",
      "    return (2*(1./r)**13 - (1./r)**7)*milli\n",
      "\n",
      "force = np.zeros([n,2])\n",
      "\n",
      "def update_forces():\n",
      "    for i in xrange(len(system)):\n",
      "        pxdot = 0\n",
      "        pydot = 0\n",
      "        for j in xrange(len(system)):\n",
      "            if j != i :\n",
      "                r = spd.euclidean(system[i][0],system[j][0])\n",
      "                theta = np.arctan((system[j][0][1] - system[i][0][1])/(system[j][0][0] - system[i][0][0]))\n",
      "                theta = theta*180/np.pi\n",
      "                pxdot += lennard_jones(r)*np.cos(theta)\n",
      "                pydot += lennard_jones(r)*np.sin(theta)\n",
      "        force[i] = np.array([pxdot, pydot])\n",
      "    return force\n",
      "\n",
      "def radial_number_density():\n",
      "    rad_dist = []\n",
      "    for i in xrange(len(system)):\n",
      "        for j in xrange(len(system)):\n",
      "            if i != j:\n",
      "                temp = spd.euclidean(system[i][0],system[j][0])\n",
      "                rad_dist.append(temp)\n",
      "    return rad_dist\n",
      "\n",
      "initial_dist = radial_number_density()\n",
      "\n",
      "#step = 1./np.power(10,2) - doesnt work. NaN!!!\n",
      "step = 1.*milli - works\n",
      "#step = 1.\n",
      "total_time = time.time()\n",
      "for timestep in range(100):\n",
      "    start_time = time.time()\n",
      "    update_momentum()\n",
      "    print \"first momemtum update %f\" %(time.time()-start_time)\n",
      "    start_time = time.time()\n",
      "    update_position()\n",
      "    print \"position update %f\" %(time.time()-start_time)\n",
      "    start_time = time.time()\n",
      "    update_forces()\n",
      "    print \"force update %f\" %(time.time()-start_time)\n",
      "    start_time = time.time()\n",
      "    update_momentum()\n",
      "    print \"second momemtum update %f\" %(time.time()-start_time)\n",
      "    print timestep\n",
      "print \"total time %f\" %(time.time()-total_time)\n",
      "final_dist = radial_number_density()"
     ],
     "language": "python",
     "metadata": {},
     "outputs": [
      {
       "output_type": "stream",
       "stream": "stdout",
       "text": [
        "first momemtum update 0.004564\n",
        "position update 0.005784\n",
        "force update 8.628319"
       ]
      },
      {
       "output_type": "stream",
       "stream": "stdout",
       "text": [
        "\n",
        "second momemtum update 0.004852\n",
        "0\n",
        "first momemtum update 0.005930\n",
        "position update 0.011281\n",
        "force update 8.567598"
       ]
      },
      {
       "output_type": "stream",
       "stream": "stdout",
       "text": [
        "\n",
        "second momemtum update 0.004731\n",
        "1\n",
        "first momemtum update 0.006152\n",
        "position update 0.011081\n",
        "force update 8.563409"
       ]
      },
      {
       "output_type": "stream",
       "stream": "stdout",
       "text": [
        "\n",
        "second momemtum update 0.004396\n",
        "2\n",
        "first momemtum update 0.005695\n",
        "position update 0.011568\n",
        "force update 8.593705"
       ]
      },
      {
       "output_type": "stream",
       "stream": "stdout",
       "text": [
        "\n",
        "second momemtum update 0.004440\n",
        "3\n",
        "first momemtum update 0.004361\n",
        "position update 0.007306\n",
        "force update 8.720844"
       ]
      },
      {
       "output_type": "stream",
       "stream": "stdout",
       "text": [
        "\n",
        "second momemtum update 0.004405\n",
        "4\n",
        "first momemtum update 0.004373\n",
        "position update 0.006941\n",
        "force update 8.633832"
       ]
      },
      {
       "output_type": "stream",
       "stream": "stdout",
       "text": [
        "\n",
        "second momemtum update 0.004444\n",
        "5\n",
        "first momemtum update 0.004377\n",
        "position update 0.005886\n",
        "force update 8.575141"
       ]
      },
      {
       "output_type": "stream",
       "stream": "stdout",
       "text": [
        "\n",
        "second momemtum update 0.004378\n",
        "6\n",
        "first momemtum update 0.004368\n",
        "position update 0.006558\n",
        "force update 8.703896"
       ]
      },
      {
       "output_type": "stream",
       "stream": "stdout",
       "text": [
        "\n",
        "second momemtum update 0.004422\n",
        "7\n",
        "first momemtum update 0.004385\n",
        "position update 0.005935\n",
        "force update 8.611236"
       ]
      },
      {
       "output_type": "stream",
       "stream": "stdout",
       "text": [
        "\n",
        "second momemtum update 0.004705\n",
        "8\n",
        "first momemtum update 0.004386\n",
        "position update 0.006657\n",
        "force update 8.586366"
       ]
      },
      {
       "output_type": "stream",
       "stream": "stdout",
       "text": [
        "\n",
        "second momemtum update 0.005061\n",
        "9\n",
        "first momemtum update 0.004402\n",
        "position update 0.006849\n",
        "force update 8.628840"
       ]
      },
      {
       "output_type": "stream",
       "stream": "stdout",
       "text": [
        "\n",
        "second momemtum update 0.004491\n",
        "10\n",
        "first momemtum update 0.004446\n",
        "position update 0.006654\n",
        "force update 8.566422"
       ]
      },
      {
       "output_type": "stream",
       "stream": "stdout",
       "text": [
        "\n",
        "second momemtum update 0.004413\n",
        "11\n",
        "first momemtum update 0.004382\n",
        "position update 0.006009\n",
        "force update 8.645693"
       ]
      },
      {
       "output_type": "stream",
       "stream": "stdout",
       "text": [
        "\n",
        "second momemtum update 0.004395\n",
        "12\n",
        "first momemtum update 0.004376\n",
        "position update 0.006173\n",
        "force update 8.583191"
       ]
      },
      {
       "output_type": "stream",
       "stream": "stdout",
       "text": [
        "\n",
        "second momemtum update 0.004381\n",
        "13\n",
        "first momemtum update 0.004590\n",
        "position update 0.006026\n",
        "force update 8.711023"
       ]
      },
      {
       "output_type": "stream",
       "stream": "stdout",
       "text": [
        "\n",
        "second momemtum update 0.004424\n",
        "14\n",
        "first momemtum update 0.004347\n",
        "position update 0.005928\n",
        "force update 8.608022"
       ]
      },
      {
       "output_type": "stream",
       "stream": "stdout",
       "text": [
        "\n",
        "second momemtum update 0.004383\n",
        "15\n",
        "first momemtum update 0.004502\n",
        "position update 0.006099\n",
        "force update 8.647429"
       ]
      },
      {
       "output_type": "stream",
       "stream": "stdout",
       "text": [
        "\n",
        "second momemtum update 0.004498\n",
        "16\n",
        "first momemtum update 0.004433\n",
        "position update 0.005987\n",
        "force update 8.550091"
       ]
      },
      {
       "output_type": "stream",
       "stream": "stdout",
       "text": [
        "\n",
        "second momemtum update 0.004794\n",
        "17\n",
        "first momemtum update 0.004511\n",
        "position update 0.006010\n",
        "force update 8.684862"
       ]
      },
      {
       "output_type": "stream",
       "stream": "stdout",
       "text": [
        "\n",
        "second momemtum update 0.004445\n",
        "18\n",
        "first momemtum update 0.004367\n",
        "position update 0.005980\n",
        "force update 8.622645"
       ]
      },
      {
       "output_type": "stream",
       "stream": "stdout",
       "text": [
        "\n",
        "second momemtum update 0.004405\n",
        "19\n",
        "first momemtum update 0.004312\n",
        "position update 0.006037\n",
        "force update 8.646930"
       ]
      },
      {
       "output_type": "stream",
       "stream": "stdout",
       "text": [
        "\n",
        "second momemtum update 0.007564\n",
        "20\n",
        "first momemtum update 0.007696\n",
        "position update 0.005987\n",
        "force update 8.503291"
       ]
      },
      {
       "output_type": "stream",
       "stream": "stdout",
       "text": [
        "\n",
        "second momemtum update 0.004763\n",
        "21\n",
        "first momemtum update 0.004386\n",
        "position update 0.006031\n",
        "force update 8.491692"
       ]
      },
      {
       "output_type": "stream",
       "stream": "stdout",
       "text": [
        "\n",
        "second momemtum update 0.005062\n",
        "22\n",
        "first momemtum update 0.005604\n",
        "position update 0.006043\n",
        "force update 8.495598"
       ]
      },
      {
       "output_type": "stream",
       "stream": "stdout",
       "text": [
        "\n",
        "second momemtum update 0.004362\n",
        "23\n",
        "first momemtum update 0.004284\n",
        "position update 0.006048\n",
        "force update 8.552153"
       ]
      },
      {
       "output_type": "stream",
       "stream": "stdout",
       "text": [
        "\n",
        "second momemtum update 0.004729\n",
        "24\n",
        "first momemtum update 0.004679\n",
        "position update 0.006157\n",
        "force update 9.173180"
       ]
      },
      {
       "output_type": "stream",
       "stream": "stdout",
       "text": [
        "\n",
        "second momemtum update 0.004847\n",
        "25\n",
        "first momemtum update 0.004677\n",
        "position update 0.006257\n",
        "force update 9.198391"
       ]
      },
      {
       "output_type": "stream",
       "stream": "stdout",
       "text": [
        "\n",
        "second momemtum update 0.008060\n",
        "26\n",
        "first momemtum update 0.008172\n",
        "position update 0.006096\n",
        "force update 9.184669"
       ]
      },
      {
       "output_type": "stream",
       "stream": "stdout",
       "text": [
        "\n",
        "second momemtum update 0.004686\n",
        "27\n",
        "first momemtum update 0.004615\n",
        "position update 0.006136\n",
        "force update 9.156184"
       ]
      },
      {
       "output_type": "stream",
       "stream": "stdout",
       "text": [
        "\n",
        "second momemtum update 0.004643\n",
        "28\n",
        "first momemtum update 0.004687\n",
        "position update 0.006077\n",
        "force update 9.151360"
       ]
      },
      {
       "output_type": "stream",
       "stream": "stdout",
       "text": [
        "\n",
        "second momemtum update 0.004846\n",
        "29\n",
        "first momemtum update 0.004695\n",
        "position update 0.006085\n",
        "force update 9.187599"
       ]
      },
      {
       "output_type": "stream",
       "stream": "stdout",
       "text": [
        "\n",
        "second momemtum update 0.004685\n",
        "30\n",
        "first momemtum update 0.004641\n",
        "position update 0.006214\n",
        "force update 9.156058"
       ]
      },
      {
       "output_type": "stream",
       "stream": "stdout",
       "text": [
        "\n",
        "second momemtum update 0.004721\n",
        "31\n",
        "first momemtum update 0.004667\n",
        "position update 0.006058\n",
        "force update 9.142602"
       ]
      },
      {
       "output_type": "stream",
       "stream": "stdout",
       "text": [
        "\n",
        "second momemtum update 0.004723\n",
        "32\n",
        "first momemtum update 0.004602\n",
        "position update 0.006072\n",
        "force update 9.239284"
       ]
      },
      {
       "output_type": "stream",
       "stream": "stdout",
       "text": [
        "\n",
        "second momemtum update 0.004715\n",
        "33\n",
        "first momemtum update 0.004626\n",
        "position update 0.006406\n",
        "force update 9.284587"
       ]
      },
      {
       "output_type": "stream",
       "stream": "stdout",
       "text": [
        "\n",
        "second momemtum update 0.004731\n",
        "34\n",
        "first momemtum update 0.004655\n",
        "position update 0.006310\n",
        "force update 9.109512"
       ]
      },
      {
       "output_type": "stream",
       "stream": "stdout",
       "text": [
        "\n",
        "second momemtum update 0.004704\n",
        "35\n",
        "first momemtum update 0.004640\n",
        "position update 0.006194\n",
        "force update 9.106641"
       ]
      },
      {
       "output_type": "stream",
       "stream": "stdout",
       "text": [
        "\n",
        "second momemtum update 0.004779\n",
        "36\n",
        "first momemtum update 0.004775\n",
        "position update 0.006289\n",
        "force update 9.124270"
       ]
      },
      {
       "output_type": "stream",
       "stream": "stdout",
       "text": [
        "\n",
        "second momemtum update 0.004736\n",
        "37\n",
        "first momemtum update 0.004674\n",
        "position update 0.006238\n",
        "force update 9.069885"
       ]
      },
      {
       "output_type": "stream",
       "stream": "stdout",
       "text": [
        "\n",
        "second momemtum update 0.004711\n",
        "38\n",
        "first momemtum update 0.004593\n",
        "position update 0.006200\n",
        "force update 9.144276"
       ]
      },
      {
       "output_type": "stream",
       "stream": "stdout",
       "text": [
        "\n",
        "second momemtum update 0.004722\n",
        "39\n",
        "first momemtum update 0.004676\n",
        "position update 0.006222\n",
        "force update 9.395892"
       ]
      },
      {
       "output_type": "stream",
       "stream": "stdout",
       "text": [
        "\n",
        "second momemtum update 0.004661\n",
        "40\n",
        "first momemtum update 0.004747\n",
        "position update 0.008174\n",
        "force update 9.265868"
       ]
      },
      {
       "output_type": "stream",
       "stream": "stdout",
       "text": [
        "\n",
        "second momemtum update 0.004667\n",
        "41\n",
        "first momemtum update 0.004650\n",
        "position update 0.008348\n",
        "force update 9.175417"
       ]
      },
      {
       "output_type": "stream",
       "stream": "stdout",
       "text": [
        "\n",
        "second momemtum update 0.004634\n",
        "42\n",
        "first momemtum update 0.004636\n",
        "position update 0.008234\n",
        "force update 9.229360"
       ]
      },
      {
       "output_type": "stream",
       "stream": "stdout",
       "text": [
        "\n",
        "second momemtum update 0.004737\n",
        "43\n",
        "first momemtum update 0.004787\n",
        "position update 0.008901\n",
        "force update 9.228015"
       ]
      },
      {
       "output_type": "stream",
       "stream": "stdout",
       "text": [
        "\n",
        "second momemtum update 0.004711\n",
        "44\n",
        "first momemtum update 0.004661\n",
        "position update 0.006692\n",
        "force update 9.233230"
       ]
      },
      {
       "output_type": "stream",
       "stream": "stdout",
       "text": [
        "\n",
        "second momemtum update 0.004717\n",
        "45\n",
        "first momemtum update 0.004673\n",
        "position update 0.008273\n",
        "force update 9.163950"
       ]
      },
      {
       "output_type": "stream",
       "stream": "stdout",
       "text": [
        "\n",
        "second momemtum update 0.004627\n",
        "46\n",
        "first momemtum update 0.006260\n",
        "position update 0.009142\n",
        "force update 9.263758"
       ]
      },
      {
       "output_type": "stream",
       "stream": "stdout",
       "text": [
        "\n",
        "second momemtum update 0.004642\n",
        "47\n",
        "first momemtum update 0.004633\n",
        "position update 0.008328\n",
        "force update 9.219357"
       ]
      },
      {
       "output_type": "stream",
       "stream": "stdout",
       "text": [
        "\n",
        "second momemtum update 0.006185\n",
        "48\n",
        "first momemtum update 0.004652\n",
        "position update 0.006100\n",
        "force update 9.200114"
       ]
      },
      {
       "output_type": "stream",
       "stream": "stdout",
       "text": [
        "\n",
        "second momemtum update 0.004735\n",
        "49\n",
        "first momemtum update 0.004657\n",
        "position update 0.006222\n",
        "force update 9.268033"
       ]
      },
      {
       "output_type": "stream",
       "stream": "stdout",
       "text": [
        "\n",
        "second momemtum update 0.004687\n",
        "50\n",
        "first momemtum update 0.004645\n",
        "position update 0.006102\n",
        "force update 9.240235"
       ]
      },
      {
       "output_type": "stream",
       "stream": "stdout",
       "text": [
        "\n",
        "second momemtum update 0.004813\n",
        "51\n",
        "first momemtum update 0.004604\n",
        "position update 0.008207\n",
        "force update 9.315888"
       ]
      },
      {
       "output_type": "stream",
       "stream": "stdout",
       "text": [
        "\n",
        "second momemtum update 0.004754\n",
        "52\n",
        "first momemtum update 0.004643\n",
        "position update 0.006098\n",
        "force update 9.240593"
       ]
      },
      {
       "output_type": "stream",
       "stream": "stdout",
       "text": [
        "\n",
        "second momemtum update 0.004673\n",
        "53\n",
        "first momemtum update 0.004664\n",
        "position update 0.006069\n",
        "force update 9.184941"
       ]
      },
      {
       "output_type": "stream",
       "stream": "stdout",
       "text": [
        "\n",
        "second momemtum update 0.004707\n",
        "54\n",
        "first momemtum update 0.004693\n",
        "position update 0.006095\n",
        "force update 9.167893"
       ]
      },
      {
       "output_type": "stream",
       "stream": "stdout",
       "text": [
        "\n",
        "second momemtum update 0.004679\n",
        "55\n",
        "first momemtum update 0.004643\n",
        "position update 0.006195\n",
        "force update 9.184831"
       ]
      },
      {
       "output_type": "stream",
       "stream": "stdout",
       "text": [
        "\n",
        "second momemtum update 0.004729\n",
        "56\n",
        "first momemtum update 0.004632\n",
        "position update 0.006063\n",
        "force update 9.247682"
       ]
      },
      {
       "output_type": "stream",
       "stream": "stdout",
       "text": [
        "\n",
        "second momemtum update 0.004871\n",
        "57\n",
        "first momemtum update 0.004640\n",
        "position update 0.006104\n",
        "force update 9.212132"
       ]
      },
      {
       "output_type": "stream",
       "stream": "stdout",
       "text": [
        "\n",
        "second momemtum update 0.004722\n",
        "58\n",
        "first momemtum update 0.004614\n",
        "position update 0.006082\n",
        "force update 9.258096"
       ]
      },
      {
       "output_type": "stream",
       "stream": "stdout",
       "text": [
        "\n",
        "second momemtum update 0.004697\n",
        "59\n",
        "first momemtum update 0.004659\n",
        "position update 0.006025\n",
        "force update 9.213970"
       ]
      },
      {
       "output_type": "stream",
       "stream": "stdout",
       "text": [
        "\n",
        "second momemtum update 0.004684\n",
        "60\n",
        "first momemtum update 0.004598\n",
        "position update 0.006075\n",
        "force update 9.190897"
       ]
      },
      {
       "output_type": "stream",
       "stream": "stdout",
       "text": [
        "\n",
        "second momemtum update 0.004646\n",
        "61\n",
        "first momemtum update 0.004627\n",
        "position update 0.006050\n",
        "force update 9.177559"
       ]
      },
      {
       "output_type": "stream",
       "stream": "stdout",
       "text": [
        "\n",
        "second momemtum update 0.005001\n",
        "62\n",
        "first momemtum update 0.004976\n",
        "position update 0.006365\n",
        "force update 9.212371"
       ]
      },
      {
       "output_type": "stream",
       "stream": "stdout",
       "text": [
        "\n",
        "second momemtum update 0.004690\n",
        "63\n",
        "first momemtum update 0.004596\n",
        "position update 0.006108\n",
        "force update 9.204134"
       ]
      },
      {
       "output_type": "stream",
       "stream": "stdout",
       "text": [
        "\n",
        "second momemtum update 0.004706\n",
        "64\n",
        "first momemtum update 0.004732\n",
        "position update 0.006057\n",
        "force update 9.170642"
       ]
      },
      {
       "output_type": "stream",
       "stream": "stdout",
       "text": [
        "\n",
        "second momemtum update 0.004710\n",
        "65\n",
        "first momemtum update 0.004793\n",
        "position update 0.006014\n",
        "force update 9.318351"
       ]
      },
      {
       "output_type": "stream",
       "stream": "stdout",
       "text": [
        "\n",
        "second momemtum update 0.004674\n",
        "66\n",
        "first momemtum update 0.004636\n",
        "position update 0.006040\n",
        "force update 9.222259"
       ]
      },
      {
       "output_type": "stream",
       "stream": "stdout",
       "text": [
        "\n",
        "second momemtum update 0.004676\n",
        "67\n",
        "first momemtum update 0.004620\n",
        "position update 0.006028\n",
        "force update 9.238244"
       ]
      },
      {
       "output_type": "stream",
       "stream": "stdout",
       "text": [
        "\n",
        "second momemtum update 0.004717\n",
        "68\n",
        "first momemtum update 0.004641\n",
        "position update 0.006060\n",
        "force update 9.232926"
       ]
      },
      {
       "output_type": "stream",
       "stream": "stdout",
       "text": [
        "\n",
        "second momemtum update 0.008003\n",
        "69\n",
        "first momemtum update 0.009063\n",
        "position update 0.011315\n",
        "force update 9.194178"
       ]
      },
      {
       "output_type": "stream",
       "stream": "stdout",
       "text": [
        "\n",
        "second momemtum update 0.004728\n",
        "70\n",
        "first momemtum update 0.004712\n",
        "position update 0.006105\n",
        "force update 9.284884"
       ]
      },
      {
       "output_type": "stream",
       "stream": "stdout",
       "text": [
        "\n",
        "second momemtum update 0.004852\n",
        "71\n",
        "first momemtum update 0.004842\n",
        "position update 0.006143\n",
        "force update 9.344673"
       ]
      },
      {
       "output_type": "stream",
       "stream": "stdout",
       "text": [
        "\n",
        "second momemtum update 0.004712\n",
        "72\n",
        "first momemtum update 0.004634\n",
        "position update 0.006062\n",
        "force update 9.359020"
       ]
      },
      {
       "output_type": "stream",
       "stream": "stdout",
       "text": [
        "\n",
        "second momemtum update 0.004685\n",
        "73\n",
        "first momemtum update 0.004714\n",
        "position update 0.006104\n",
        "force update 9.265288"
       ]
      },
      {
       "output_type": "stream",
       "stream": "stdout",
       "text": [
        "\n",
        "second momemtum update 0.004868\n",
        "74\n",
        "first momemtum update 0.004747\n",
        "position update 0.006258\n",
        "force update 9.247118"
       ]
      },
      {
       "output_type": "stream",
       "stream": "stdout",
       "text": [
        "\n",
        "second momemtum update 0.004785\n",
        "75\n",
        "first momemtum update 0.004608\n",
        "position update 0.006031\n",
        "force update 9.194246"
       ]
      },
      {
       "output_type": "stream",
       "stream": "stdout",
       "text": [
        "\n",
        "second momemtum update 0.004674\n",
        "76\n",
        "first momemtum update 0.004750\n",
        "position update 0.006152\n",
        "force update 9.273884"
       ]
      },
      {
       "output_type": "stream",
       "stream": "stdout",
       "text": [
        "\n",
        "second momemtum update 0.004744\n",
        "77\n",
        "first momemtum update 0.004666\n",
        "position update 0.006020\n",
        "force update 9.257403"
       ]
      },
      {
       "output_type": "stream",
       "stream": "stdout",
       "text": [
        "\n",
        "second momemtum update 0.004721\n",
        "78\n",
        "first momemtum update 0.004661\n",
        "position update 0.006115\n",
        "force update 9.266916"
       ]
      },
      {
       "output_type": "stream",
       "stream": "stdout",
       "text": [
        "\n",
        "second momemtum update 0.005135\n",
        "79\n",
        "first momemtum update 0.004735\n",
        "position update 0.006168\n",
        "force update 9.194353"
       ]
      },
      {
       "output_type": "stream",
       "stream": "stdout",
       "text": [
        "\n",
        "second momemtum update 0.004781\n",
        "80\n",
        "first momemtum update 0.004639\n",
        "position update 0.006037\n",
        "force update 9.142701"
       ]
      },
      {
       "output_type": "stream",
       "stream": "stdout",
       "text": [
        "\n",
        "second momemtum update 0.004675\n",
        "81\n",
        "first momemtum update 0.004595\n",
        "position update 0.006039\n",
        "force update 9.086533"
       ]
      },
      {
       "output_type": "stream",
       "stream": "stdout",
       "text": [
        "\n",
        "second momemtum update 0.004694\n",
        "82\n",
        "first momemtum update 0.004615\n",
        "position update 0.006149\n",
        "force update 9.097484"
       ]
      },
      {
       "output_type": "stream",
       "stream": "stdout",
       "text": [
        "\n",
        "second momemtum update 0.004682\n",
        "83\n",
        "first momemtum update 0.004615\n",
        "position update 0.006008\n",
        "force update 9.089445"
       ]
      },
      {
       "output_type": "stream",
       "stream": "stdout",
       "text": [
        "\n",
        "second momemtum update 0.004649\n",
        "84\n",
        "first momemtum update 0.004645\n",
        "position update 0.006011\n",
        "force update 9.119290"
       ]
      },
      {
       "output_type": "stream",
       "stream": "stdout",
       "text": [
        "\n",
        "second momemtum update 0.004717\n",
        "85\n",
        "first momemtum update 0.004663\n",
        "position update 0.006122\n",
        "force update 9.080298"
       ]
      },
      {
       "output_type": "stream",
       "stream": "stdout",
       "text": [
        "\n",
        "second momemtum update 0.004662\n",
        "86\n",
        "first momemtum update 0.004640\n",
        "position update 0.006030\n",
        "force update 9.228543"
       ]
      },
      {
       "output_type": "stream",
       "stream": "stdout",
       "text": [
        "\n",
        "second momemtum update 0.008771\n",
        "87\n",
        "first momemtum update 0.008936\n",
        "position update 0.011312\n",
        "force update 10.010493"
       ]
      },
      {
       "output_type": "stream",
       "stream": "stdout",
       "text": [
        "\n",
        "second momemtum update 0.004967\n",
        "88\n",
        "first momemtum update 0.004714\n",
        "position update 0.006080\n",
        "force update 9.108819"
       ]
      },
      {
       "output_type": "stream",
       "stream": "stdout",
       "text": [
        "\n",
        "second momemtum update 0.004669\n",
        "89\n",
        "first momemtum update 0.004591\n",
        "position update 0.006093\n",
        "force update 9.088691"
       ]
      },
      {
       "output_type": "stream",
       "stream": "stdout",
       "text": [
        "\n",
        "second momemtum update 0.004713\n",
        "90\n",
        "first momemtum update 0.004610\n",
        "position update 0.006062\n",
        "force update 9.100897"
       ]
      },
      {
       "output_type": "stream",
       "stream": "stdout",
       "text": [
        "\n",
        "second momemtum update 0.004710\n",
        "91\n",
        "first momemtum update 0.004631\n",
        "position update 0.006054\n",
        "force update 9.137884"
       ]
      },
      {
       "output_type": "stream",
       "stream": "stdout",
       "text": [
        "\n",
        "second momemtum update 0.004672\n",
        "92\n",
        "first momemtum update 0.004707\n",
        "position update 0.006093\n",
        "force update 9.101396"
       ]
      },
      {
       "output_type": "stream",
       "stream": "stdout",
       "text": [
        "\n",
        "second momemtum update 0.004692\n",
        "93\n",
        "first momemtum update 0.004630\n",
        "position update 0.006046\n",
        "force update 9.070530"
       ]
      },
      {
       "output_type": "stream",
       "stream": "stdout",
       "text": [
        "\n",
        "second momemtum update 0.004652\n",
        "94\n",
        "first momemtum update 0.004658\n",
        "position update 0.006019\n",
        "force update 9.084079"
       ]
      },
      {
       "output_type": "stream",
       "stream": "stdout",
       "text": [
        "\n",
        "second momemtum update 0.004775\n",
        "95\n",
        "first momemtum update 0.005298\n",
        "position update 0.006053\n",
        "force update 9.158313"
       ]
      },
      {
       "output_type": "stream",
       "stream": "stdout",
       "text": [
        "\n",
        "second momemtum update 0.004717\n",
        "96\n",
        "first momemtum update 0.004669\n",
        "position update 0.006061\n",
        "force update 9.104210"
       ]
      },
      {
       "output_type": "stream",
       "stream": "stdout",
       "text": [
        "\n",
        "second momemtum update 0.004685\n",
        "97\n",
        "first momemtum update 0.004651\n",
        "position update 0.006015\n",
        "force update 9.110473"
       ]
      },
      {
       "output_type": "stream",
       "stream": "stdout",
       "text": [
        "\n",
        "second momemtum update 0.004701\n",
        "98\n",
        "first momemtum update 0.004584\n",
        "position update 0.006062\n",
        "force update 9.107304"
       ]
      },
      {
       "output_type": "stream",
       "stream": "stdout",
       "text": [
        "\n",
        "second momemtum update 0.004668\n",
        "99\n",
        "total time 907.026210\n"
       ]
      },
      {
       "output_type": "stream",
       "stream": "stderr",
       "text": [
        "-c:52: RuntimeWarning: invalid value encountered in double_scalars\n",
        "-c:41: RuntimeWarning: divide by zero encountered in double_scalars\n",
        "-c:41: RuntimeWarning: invalid value encountered in double_scalars\n"
       ]
      }
     ],
     "prompt_number": 10
    },
    {
     "cell_type": "code",
     "collapsed": false,
     "input": [
      "plt.subplot(121)\n",
      "plt.hist(initial_dist,10);\n",
      "plt.subplot(122)\n",
      "plt.hist(final_dist,10);"
     ],
     "language": "python",
     "metadata": {},
     "outputs": [
      {
       "ename": "AttributeError",
       "evalue": "max must be larger than min in range parameter.",
       "output_type": "pyerr",
       "traceback": [
        "\u001b[0;31m---------------------------------------------------------------------------\u001b[0m\n\u001b[0;31mAttributeError\u001b[0m                            Traceback (most recent call last)",
        "\u001b[0;32m<ipython-input-11-5d234af5dc17>\u001b[0m in \u001b[0;36m<module>\u001b[0;34m()\u001b[0m\n\u001b[1;32m      2\u001b[0m \u001b[0mplt\u001b[0m\u001b[0;34m.\u001b[0m\u001b[0mhist\u001b[0m\u001b[0;34m(\u001b[0m\u001b[0minitial_dist\u001b[0m\u001b[0;34m,\u001b[0m\u001b[0;36m10\u001b[0m\u001b[0;34m)\u001b[0m\u001b[0;34m;\u001b[0m\u001b[0;34m\u001b[0m\u001b[0m\n\u001b[1;32m      3\u001b[0m \u001b[0mplt\u001b[0m\u001b[0;34m.\u001b[0m\u001b[0msubplot\u001b[0m\u001b[0;34m(\u001b[0m\u001b[0;36m122\u001b[0m\u001b[0;34m)\u001b[0m\u001b[0;34m\u001b[0m\u001b[0m\n\u001b[0;32m----> 4\u001b[0;31m \u001b[0mplt\u001b[0m\u001b[0;34m.\u001b[0m\u001b[0mhist\u001b[0m\u001b[0;34m(\u001b[0m\u001b[0mfinal_dist\u001b[0m\u001b[0;34m,\u001b[0m\u001b[0;36m10\u001b[0m\u001b[0;34m)\u001b[0m\u001b[0;34m;\u001b[0m\u001b[0;34m\u001b[0m\u001b[0m\n\u001b[0m",
        "\u001b[0;32m/usr/local/lib/python2.7/dist-packages/matplotlib/pyplot.pyc\u001b[0m in \u001b[0;36mhist\u001b[0;34m(x, bins, range, normed, weights, cumulative, bottom, histtype, align, orientation, rwidth, log, color, label, stacked, hold, **kwargs)\u001b[0m\n\u001b[1;32m   2888\u001b[0m                       \u001b[0mhisttype\u001b[0m\u001b[0;34m=\u001b[0m\u001b[0mhisttype\u001b[0m\u001b[0;34m,\u001b[0m \u001b[0malign\u001b[0m\u001b[0;34m=\u001b[0m\u001b[0malign\u001b[0m\u001b[0;34m,\u001b[0m \u001b[0morientation\u001b[0m\u001b[0;34m=\u001b[0m\u001b[0morientation\u001b[0m\u001b[0;34m,\u001b[0m\u001b[0;34m\u001b[0m\u001b[0m\n\u001b[1;32m   2889\u001b[0m                       \u001b[0mrwidth\u001b[0m\u001b[0;34m=\u001b[0m\u001b[0mrwidth\u001b[0m\u001b[0;34m,\u001b[0m \u001b[0mlog\u001b[0m\u001b[0;34m=\u001b[0m\u001b[0mlog\u001b[0m\u001b[0;34m,\u001b[0m \u001b[0mcolor\u001b[0m\u001b[0;34m=\u001b[0m\u001b[0mcolor\u001b[0m\u001b[0;34m,\u001b[0m \u001b[0mlabel\u001b[0m\u001b[0;34m=\u001b[0m\u001b[0mlabel\u001b[0m\u001b[0;34m,\u001b[0m\u001b[0;34m\u001b[0m\u001b[0m\n\u001b[0;32m-> 2890\u001b[0;31m                       stacked=stacked, **kwargs)\n\u001b[0m\u001b[1;32m   2891\u001b[0m         \u001b[0mdraw_if_interactive\u001b[0m\u001b[0;34m(\u001b[0m\u001b[0;34m)\u001b[0m\u001b[0;34m\u001b[0m\u001b[0m\n\u001b[1;32m   2892\u001b[0m     \u001b[0;32mfinally\u001b[0m\u001b[0;34m:\u001b[0m\u001b[0;34m\u001b[0m\u001b[0m\n",
        "\u001b[0;32m/usr/local/lib/python2.7/dist-packages/matplotlib/axes/_axes.pyc\u001b[0m in \u001b[0;36mhist\u001b[0;34m(self, x, bins, range, normed, weights, cumulative, bottom, histtype, align, orientation, rwidth, log, color, label, stacked, **kwargs)\u001b[0m\n\u001b[1;32m   5634\u001b[0m             \u001b[0;31m# this will automatically overwrite bins,\u001b[0m\u001b[0;34m\u001b[0m\u001b[0;34m\u001b[0m\u001b[0m\n\u001b[1;32m   5635\u001b[0m             \u001b[0;31m# so that each histogram uses the same bins\u001b[0m\u001b[0;34m\u001b[0m\u001b[0;34m\u001b[0m\u001b[0m\n\u001b[0;32m-> 5636\u001b[0;31m             \u001b[0mm\u001b[0m\u001b[0;34m,\u001b[0m \u001b[0mbins\u001b[0m \u001b[0;34m=\u001b[0m \u001b[0mnp\u001b[0m\u001b[0;34m.\u001b[0m\u001b[0mhistogram\u001b[0m\u001b[0;34m(\u001b[0m\u001b[0mx\u001b[0m\u001b[0;34m[\u001b[0m\u001b[0mi\u001b[0m\u001b[0;34m]\u001b[0m\u001b[0;34m,\u001b[0m \u001b[0mbins\u001b[0m\u001b[0;34m,\u001b[0m \u001b[0mweights\u001b[0m\u001b[0;34m=\u001b[0m\u001b[0mw\u001b[0m\u001b[0;34m[\u001b[0m\u001b[0mi\u001b[0m\u001b[0;34m]\u001b[0m\u001b[0;34m,\u001b[0m \u001b[0;34m**\u001b[0m\u001b[0mhist_kwargs\u001b[0m\u001b[0;34m)\u001b[0m\u001b[0;34m\u001b[0m\u001b[0m\n\u001b[0m\u001b[1;32m   5637\u001b[0m             \u001b[0mm\u001b[0m \u001b[0;34m=\u001b[0m \u001b[0mm\u001b[0m\u001b[0;34m.\u001b[0m\u001b[0mastype\u001b[0m\u001b[0;34m(\u001b[0m\u001b[0mfloat\u001b[0m\u001b[0;34m)\u001b[0m  \u001b[0;31m# causes problems later if it's an int\u001b[0m\u001b[0;34m\u001b[0m\u001b[0m\n\u001b[1;32m   5638\u001b[0m             \u001b[0;32mif\u001b[0m \u001b[0mmlast\u001b[0m \u001b[0;32mis\u001b[0m \u001b[0mNone\u001b[0m\u001b[0;34m:\u001b[0m\u001b[0;34m\u001b[0m\u001b[0m\n",
        "\u001b[0;32m/usr/lib/python2.7/dist-packages/numpy/lib/function_base.pyc\u001b[0m in \u001b[0;36mhistogram\u001b[0;34m(a, bins, range, normed, weights, density)\u001b[0m\n\u001b[1;32m    163\u001b[0m         \u001b[0;32mif\u001b[0m \u001b[0;34m(\u001b[0m\u001b[0mmn\u001b[0m \u001b[0;34m>\u001b[0m \u001b[0mmx\u001b[0m\u001b[0;34m)\u001b[0m\u001b[0;34m:\u001b[0m\u001b[0;34m\u001b[0m\u001b[0m\n\u001b[1;32m    164\u001b[0m             raise AttributeError(\n\u001b[0;32m--> 165\u001b[0;31m                 'max must be larger than min in range parameter.')\n\u001b[0m\u001b[1;32m    166\u001b[0m \u001b[0;34m\u001b[0m\u001b[0m\n\u001b[1;32m    167\u001b[0m     \u001b[0;32mif\u001b[0m \u001b[0;32mnot\u001b[0m \u001b[0miterable\u001b[0m\u001b[0;34m(\u001b[0m\u001b[0mbins\u001b[0m\u001b[0;34m)\u001b[0m\u001b[0;34m:\u001b[0m\u001b[0;34m\u001b[0m\u001b[0m\n",
        "\u001b[0;31mAttributeError\u001b[0m: max must be larger than min in range parameter."
       ]
      },
      {
       "metadata": {},
       "output_type": "display_data",
       "png": "[encoded data removed]",
       "text": [
        "<matplotlib.figure.Figure at 0xb136abac>"
       ]
      }
     ],
     "prompt_number": 11
    },
    {
     "cell_type": "code",
     "collapsed": false,
     "input": [
      "np.min(force), np.max(force)"
     ],
     "language": "python",
     "metadata": {},
     "outputs": [
      {
       "metadata": {},
       "output_type": "pyout",
       "prompt_number": 12,
       "text": [
        "(nan, nan)"
       ]
      }
     ],
     "prompt_number": 12
    },
    {
     "cell_type": "code",
     "collapsed": false,
     "input": [
      "system"
     ],
     "language": "python",
     "metadata": {},
     "outputs": [
      {
       "metadata": {},
       "output_type": "pyout",
       "prompt_number": 13,
       "text": [
        "array([[[ nan,  nan],\n",
        "        [ nan,  nan]],\n",
        "\n",
        "       [[ nan,  nan],\n",
        "        [ nan,  nan]],\n",
        "\n",
        "       [[ nan,  nan],\n",
        "        [ nan,  nan]],\n",
        "\n",
        "       ..., \n",
        "       [[ nan,  nan],\n",
        "        [ nan,  nan]],\n",
        "\n",
        "       [[ nan,  nan],\n",
        "        [ nan,  nan]],\n",
        "\n",
        "       [[ nan,  nan],\n",
        "        [ nan,  nan]]])"
       ]
      }
     ],
     "prompt_number": 13
    },
    {
     "cell_type": "code",
     "collapsed": false,
     "input": [
      "x = []\n",
      "y = []\n",
      "for i in xrange(len(system)):\n",
      "    x.append(system[i][0][0])\n",
      "    y.append(system[i][0][1])\n",
      "plt.scatter(x,y);\n",
      "#plt.ylim([-200,200])"
     ],
     "language": "python",
     "metadata": {},
     "outputs": [
      {
       "metadata": {},
       "output_type": "pyout",
       "prompt_number": 8,
       "text": [
        "<matplotlib.collections.PathCollection at 0xb1442c8c>"
       ]
      },
      {
       "metadata": {},
       "output_type": "display_data",
       "png": "[encoded data removed]",
       "text": [
        "<matplotlib.figure.Figure at 0xb14b050c>"
       ]
      }
     ],
     "prompt_number": 8
    },
    {
     "cell_type": "code",
     "collapsed": false,
     "input": [],
     "language": "python",
     "metadata": {},
     "outputs": []
    }
   ],
   "metadata": {}
  }
 ]
}