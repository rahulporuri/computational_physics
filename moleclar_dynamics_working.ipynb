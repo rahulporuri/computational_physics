{
 "metadata": {
  "name": ""
 },
 "nbformat": 3,
 "nbformat_minor": 0,
 "worksheets": [
  {
   "cells": [
    {
     "cell_type": "code",
     "collapsed": false,
     "input": [
      "import numpy as np\n",
      "import matplotlib.pyplot as plt\n",
      "from scipy.constants import nano, pico, N_A, m_p, milli, micro\n",
      "%matplotlib inline\n",
      "import time\n",
      "import scipy.spatial.distance as spd"
     ],
     "language": "python",
     "metadata": {},
     "outputs": [],
     "prompt_number": 66
    },
    {
     "cell_type": "code",
     "collapsed": false,
     "input": [
      "n = 400 # number of atoms in the system\n",
      "#e = sigma = 1.\n",
      "system = np.zeros([n,2,2])\n",
      "# initialization\n",
      "for i in xrange(n):\n",
      "    system[i][0][0] = i%20 + 15 # positions in a 3X3 lattice\n",
      "    system[i][0][1] = i/20 + 15 # 3 is the square root of 9. if n is changed, so should this value!\n",
      "    system[i][1] = np.array([np.random.normal(),np.random.normal()])"
     ],
     "language": "python",
     "metadata": {},
     "outputs": [],
     "prompt_number": 171
    },
    {
     "cell_type": "code",
     "collapsed": false,
     "input": [
      "#n = 400 # number of atoms in the system\n",
      "#e = sigma = 1.\n",
      "#system = np.zeros([n,2,2])\n",
      "# initialization\n",
      "#for i in xrange(n):\n",
      "#    system[i][0][0] = i%20 # positions in a 3X3 lattice\n",
      "#    system[i][0][1] = i/20 # 3 is the square root of 9. if n is changed, so should this value!\n",
      "    #system[i][1] = np.array([0.1,0.1]) # x & y momenta = 1\n",
      "#    system[i][1] = np.array([np.random.normal(),np.random.normal()])\n",
      "    #system[i][1][0] = 1 # positions in a 3X3 lattice\n",
      "    #system[i][1][1] = 1 # 3 is the square root of 9. if n is changed, so should this value!\n",
      "    \n",
      "n = 400 # number of atoms in the system\n",
      "#e = sigma = 1.\n",
      "system = np.zeros([n,2,2])\n",
      "# initialization\n",
      "for i in xrange(n):\n",
      "    system[i][0][0] = i%20 + 15 # positions in a 3X3 lattice\n",
      "    system[i][0][1] = i/20 + 15 # 3 is the square root of 9. if n is changed, so should this value!\n",
      "    system[i][1] = np.array([np.random.normal(),np.random.normal()])\n",
      "    \n",
      "def update_position():\n",
      "    for i in xrange(len(system)):\n",
      "        system[i][0] += system[i][1]*step\n",
      "        if system[i][0][0] > 50:\n",
      "            system[i][0][0] = system[i][0][0]%50\n",
      "        if system[i][0][1] > 50:\n",
      "            system[i][0][0] = system[i][0][0]/50\n",
      "        if system[i][0][0] < -0:\n",
      "            system[i][0][0] = system[i][0][0]%50\n",
      "        if system[i][0][1] < -0:\n",
      "            system[i][0][1] += 50\n",
      "    return system\n",
      "\n",
      "def update_momentum():\n",
      "    for i in xrange(len(system)):\n",
      "        system[i][1] += force[i]*step/2\n",
      "    return system\n",
      "\n",
      "def lennard_jones(r):\n",
      "    return (2*(1./r)**13 - (1./r)**7)*milli\n",
      "\n",
      "force = np.zeros([n,2])\n",
      "\n",
      "def update_forces():\n",
      "    for i in xrange(len(system)):\n",
      "        pxdot = 0\n",
      "        pydot = 0\n",
      "        for j in xrange(len(system)):\n",
      "            if j != i :\n",
      "                r = spd.euclidean(system[i][0],system[j][0])\n",
      "                theta = np.arctan((system[j][0][1] - system[i][0][1])/(system[j][0][0] - system[i][0][0]))\n",
      "                theta = theta*180/np.pi\n",
      "                pxdot += lennard_jones(r)*np.cos(theta)\n",
      "                pydot += lennard_jones(r)*np.sin(theta)\n",
      "        force[i] = np.array([pxdot, pydot])\n",
      "    return force\n",
      "\n",
      "def radial_number_density():\n",
      "    rad_dist = []\n",
      "    for i in xrange(len(system)):\n",
      "        for j in xrange(len(system)):\n",
      "            if i != j:\n",
      "                temp = spd.euclidean(system[i][0],system[j][0])\n",
      "                rad_dist.append(temp)\n",
      "    return rad_dist\n",
      "\n",
      "initial_dist = radial_number_density()\n",
      "\n",
      "step = 1.*milli\n",
      "#step = 1.\n",
      "total_time = time.time()\n",
      "for timestep in range(1000):\n",
      "    start_time = time.time()\n",
      "    update_momentum()\n",
      "    print \"first momemtum update %f\" %(time.time()-start_time)\n",
      "    start_time = time.time()\n",
      "    update_position()\n",
      "    print \"position update %f\" %(time.time()-start_time)\n",
      "    start_time = time.time()\n",
      "    update_forces()\n",
      "    print \"force update %f\" %(time.time()-start_time)\n",
      "    start_time = time.time()\n",
      "    update_momentum()\n",
      "    print \"second momemtum update %f\" %(time.time()-start_time)\n",
      "print \"total time %f\" %(time.time()-total_time)\n",
      "final_dist = radial_number_density()"
     ],
     "language": "python",
     "metadata": {},
     "outputs": [],
     "prompt_number": "*"
    },
    {
     "cell_type": "code",
     "collapsed": false,
     "input": [
      "plt.subplot(121)\n",
      "plt.hist(initial_dist,10);\n",
      "plt.subplot(122)\n",
      "plt.hist(final_dist,10);"
     ],
     "language": "python",
     "metadata": {},
     "outputs": [
      {
       "metadata": {},
       "output_type": "display_data",
       "png": "[encoded data removed]",
       "text": [
        "<matplotlib.figure.Figure at 0xb14a0f6c>"
       ]
      }
     ],
     "prompt_number": 177
    },
    {
     "cell_type": "code",
     "collapsed": false,
     "input": [
      "np.max(force)"
     ],
     "language": "python",
     "metadata": {},
     "outputs": [
      {
       "metadata": {},
       "output_type": "pyout",
       "prompt_number": 181,
       "text": [
        "40.654045245406941"
       ]
      }
     ],
     "prompt_number": 181
    },
    {
     "cell_type": "code",
     "collapsed": false,
     "input": [
      "system"
     ],
     "language": "python",
     "metadata": {},
     "outputs": [
      {
       "metadata": {},
       "output_type": "pyout",
       "prompt_number": 179,
       "text": [
        "array([[[  1.49691335e+01,   1.48497825e+01],\n",
        "        [ -3.08644557e-01,  -1.50214539e+00]],\n",
        "\n",
        "       [[  1.60005077e+01,   1.49944098e+01],\n",
        "        [  4.79789601e-03,  -5.60613012e-02]],\n",
        "\n",
        "       [[  1.68369956e+01,   1.49452641e+01],\n",
        "        [ -1.63031648e+00,  -5.47512444e-01]],\n",
        "\n",
        "       ..., \n",
        "       [[  3.19100117e+01,   3.38795255e+01],\n",
        "        [ -8.99880950e-01,  -1.20468483e+00]],\n",
        "\n",
        "       [[  3.30082659e+01,   3.40647643e+01],\n",
        "        [  8.26874116e-02,   6.47653335e-01]],\n",
        "\n",
        "       [[  3.39736044e+01,   3.41084113e+01],\n",
        "        [ -2.63970637e-01,   1.08417336e+00]]])"
       ]
      }
     ],
     "prompt_number": 179
    },
    {
     "cell_type": "code",
     "collapsed": false,
     "input": [
      "x = []\n",
      "y = []\n",
      "for i in xrange(len(system)):\n",
      "    x.append(system[i][0][0])\n",
      "    y.append(system[i][0][1])\n",
      "plt.scatter(x,y);\n",
      "#plt.ylim([-200,200])"
     ],
     "language": "python",
     "metadata": {},
     "outputs": [
      {
       "metadata": {},
       "output_type": "pyout",
       "prompt_number": 180,
       "text": [
        "<matplotlib.collections.PathCollection at 0xb1561d8c>"
       ]
      },
      {
       "metadata": {},
       "output_type": "display_data",
       "png": "[encoded data removed]",
       "text": [
        "<matplotlib.figure.Figure at 0xb150cd6c>"
       ]
      }
     ],
     "prompt_number": 180
    },
    {
     "cell_type": "code",
     "collapsed": false,
     "input": [],
     "language": "python",
     "metadata": {},
     "outputs": []
    }
   ],
   "metadata": {}
  }
 ]
}