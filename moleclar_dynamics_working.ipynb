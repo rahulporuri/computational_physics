{
 "metadata": {
  "name": ""
 },
 "nbformat": 3,
 "nbformat_minor": 0,
 "worksheets": [
  {
   "cells": [
    {
     "cell_type": "code",
     "collapsed": false,
     "input": [
      "import numpy as np\n",
      "import matplotlib.pyplot as plt\n",
      "from scipy.constants import nano, pico, N_A, m_p, milli, micro\n",
      "%matplotlib inline\n",
      "import time\n",
      "import scipy.spatial.distance as spd"
     ],
     "language": "python",
     "metadata": {},
     "outputs": [],
     "prompt_number": 66
    },
    {
     "cell_type": "code",
     "collapsed": false,
     "input": [
      "n = 400 # number of atoms in the system\n",
      "#e = sigma = 1.\n",
      "system = np.zeros([n,2,2])\n",
      "# initialization\n",
      "for i in xrange(n):\n",
      "    system[i][0][0] = i%20 + 15 # positions in a 3X3 lattice\n",
      "    system[i][0][1] = i/20 + 15 # 3 is the square root of 9. if n is changed, so should this value!\n",
      "    system[i][1] = np.array([np.random.normal(),np.random.normal()])"
     ],
     "language": "python",
     "metadata": {},
     "outputs": [],
     "prompt_number": 171
    },
    {
     "cell_type": "code",
     "collapsed": false,
     "input": [
      "#n = 400 # number of atoms in the system\n",
      "#e = sigma = 1.\n",
      "#system = np.zeros([n,2,2])\n",
      "# initialization\n",
      "#for i in xrange(n):\n",
      "#    system[i][0][0] = i%20 # positions in a 3X3 lattice\n",
      "#    system[i][0][1] = i/20 # 3 is the square root of 9. if n is changed, so should this value!\n",
      "    #system[i][1] = np.array([0.1,0.1]) # x & y momenta = 1\n",
      "#    system[i][1] = np.array([np.random.normal(),np.random.normal()])\n",
      "    #system[i][1][0] = 1 # positions in a 3X3 lattice\n",
      "    #system[i][1][1] = 1 # 3 is the square root of 9. if n is changed, so should this value!\n",
      "    \n",
      "n = 400 # number of atoms in the system\n",
      "#e = sigma = 1.\n",
      "system = np.zeros([n,2,2])\n",
      "# initialization\n",
      "for i in xrange(n):\n",
      "    system[i][0][0] = i%20 + 15 # positions in a 3X3 lattice\n",
      "    system[i][0][1] = i/20 + 15 # 3 is the square root of 9. if n is changed, so should this value!\n",
      "    system[i][1] = np.array([np.random.normal(),np.random.normal()])\n",
      "    \n",
      "def update_position():\n",
      "    for i in xrange(len(system)):\n",
      "        system[i][0] += system[i][1]*step\n",
      "        if system[i][0][0] > 50:\n",
      "            system[i][0][0] = system[i][0][0]%50\n",
      "        if system[i][0][1] > 50:\n",
      "            system[i][0][0] = system[i][0][0]/50\n",
      "        if system[i][0][0] < -0:\n",
      "            system[i][0][0] = system[i][0][0]%50\n",
      "        if system[i][0][1] < -0:\n",
      "            system[i][0][1] += 50\n",
      "    return system\n",
      "\n",
      "def update_momentum():\n",
      "    for i in xrange(len(system)):\n",
      "        system[i][1] += force[i]*step/2\n",
      "    return system\n",
      "\n",
      "def lennard_jones(r):\n",
      "    return (2*(1./r)**13 - (1./r)**7)*milli\n",
      "\n",
      "force = np.zeros([n,2])\n",
      "\n",
      "def update_forces():\n",
      "    for i in xrange(len(system)):\n",
      "        pxdot = 0\n",
      "        pydot = 0\n",
      "        for j in xrange(len(system)):\n",
      "            if j != i :\n",
      "                r = spd.euclidean(system[i][0],system[j][0])\n",
      "                theta = np.arctan((system[j][0][1] - system[i][0][1])/(system[j][0][0] - system[i][0][0]))\n",
      "                theta = theta*180/np.pi\n",
      "                pxdot += lennard_jones(r)*np.cos(theta)\n",
      "                pydot += lennard_jones(r)*np.sin(theta)\n",
      "        force[i] = np.array([pxdot, pydot])\n",
      "    return force\n",
      "\n",
      "def radial_number_density():\n",
      "    rad_dist = []\n",
      "    for i in xrange(len(system)):\n",
      "        for j in xrange(len(system)):\n",
      "            if i != j:\n",
      "                temp = spd.euclidean(system[i][0],system[j][0])\n",
      "                rad_dist.append(temp)\n",
      "    return rad_dist\n",
      "\n",
      "initial_dist = radial_number_density()\n",
      "\n",
      "step = 1.*milli\n",
      "#step = 1.\n",
      "total_time = time.time()\n",
      "for timestep in range(1000):\n",
      "    start_time = time.time()\n",
      "    update_momentum()\n",
      "    print \"first momemtum update %f\" %(time.time()-start_time)\n",
      "    start_time = time.time()\n",
      "    update_position()\n",
      "    print \"position update %f\" %(time.time()-start_time)\n",
      "    start_time = time.time()\n",
      "    update_forces()\n",
      "    print \"force update %f\" %(time.time()-start_time)\n",
      "    start_time = time.time()\n",
      "    update_momentum()\n",
      "    print \"second momemtum update %f\" %(time.time()-start_time)\n",
      "print \"total time %f\" %(time.time()-total_time)\n",
      "final_dist = radial_number_density()"
     ],
     "language": "python",
     "metadata": {},
     "outputs": [
      {
       "output_type": "stream",
       "stream": "stdout",
       "text": [
        "first momemtum update 0.011875\n",
        "position update 0.014543\n",
        "force update 22.741760"
       ]
      },
      {
       "output_type": "stream",
       "stream": "stdout",
       "text": [
        "\n",
        "second momemtum update 0.013523\n",
        "first momemtum update 0.012445\n",
        "position update 0.014599\n",
        "force update 22.695061"
       ]
      },
      {
       "output_type": "stream",
       "stream": "stdout",
       "text": [
        "\n",
        "second momemtum update 0.011920\n",
        "first momemtum update 0.011869\n",
        "position update 0.014675\n",
        "force update 23.103712"
       ]
      },
      {
       "output_type": "stream",
       "stream": "stdout",
       "text": [
        "\n",
        "second momemtum update 0.012774\n",
        "first momemtum update 0.012481\n",
        "position update 0.016610\n",
        "force update 24.264870"
       ]
      },
      {
       "output_type": "stream",
       "stream": "stdout",
       "text": [
        "\n",
        "second momemtum update 0.012114\n",
        "first momemtum update 0.012395\n",
        "position update 0.014803\n",
        "force update 22.801975"
       ]
      },
      {
       "output_type": "stream",
       "stream": "stdout",
       "text": [
        "\n",
        "second momemtum update 0.012528\n",
        "first momemtum update 0.011881\n",
        "position update 0.014358\n",
        "force update 23.924913"
       ]
      },
      {
       "output_type": "stream",
       "stream": "stdout",
       "text": [
        "\n",
        "second momemtum update 0.015165\n",
        "first momemtum update 0.014395\n",
        "position update 0.015688\n",
        "force update 22.305950"
       ]
      },
      {
       "output_type": "stream",
       "stream": "stdout",
       "text": [
        "\n",
        "second momemtum update 0.012122\n",
        "first momemtum update 0.012201\n",
        "position update 0.014625\n",
        "force update 22.342696"
       ]
      },
      {
       "output_type": "stream",
       "stream": "stdout",
       "text": [
        "\n",
        "second momemtum update 0.012672\n",
        "first momemtum update 0.011900\n",
        "position update 0.014512\n",
        "force update 22.560663"
       ]
      },
      {
       "output_type": "stream",
       "stream": "stdout",
       "text": [
        "\n",
        "second momemtum update 0.012015\n",
        "first momemtum update 0.012123\n",
        "position update 0.014504\n",
        "force update 22.318906"
       ]
      },
      {
       "output_type": "stream",
       "stream": "stdout",
       "text": [
        "\n",
        "second momemtum update 0.012089\n",
        "first momemtum update 0.012011\n",
        "position update 0.016145\n",
        "force update 22.276370"
       ]
      },
      {
       "output_type": "stream",
       "stream": "stdout",
       "text": [
        "\n",
        "second momemtum update 0.012022\n",
        "first momemtum update 0.012084\n",
        "position update 0.014543\n",
        "force update 22.391897"
       ]
      },
      {
       "output_type": "stream",
       "stream": "stdout",
       "text": [
        "\n",
        "second momemtum update 0.011835\n",
        "first momemtum update 0.011819\n",
        "position update 0.014597\n",
        "force update 22.361999"
       ]
      },
      {
       "output_type": "stream",
       "stream": "stdout",
       "text": [
        "\n",
        "second momemtum update 0.011905\n",
        "first momemtum update 0.011816\n",
        "position update 0.014616\n",
        "force update 22.398415"
       ]
      },
      {
       "output_type": "stream",
       "stream": "stdout",
       "text": [
        "\n",
        "second momemtum update 0.012077\n",
        "first momemtum update 0.012087\n",
        "position update 0.014466\n",
        "force update 22.448428"
       ]
      },
      {
       "output_type": "stream",
       "stream": "stdout",
       "text": [
        "\n",
        "second momemtum update 0.012081\n",
        "first momemtum update 0.012044\n",
        "position update 0.014448\n",
        "force update 22.467873"
       ]
      },
      {
       "output_type": "stream",
       "stream": "stdout",
       "text": [
        "\n",
        "second momemtum update 0.012096\n",
        "first momemtum update 0.012147\n",
        "position update 0.014590\n",
        "force update 22.407712"
       ]
      },
      {
       "output_type": "stream",
       "stream": "stdout",
       "text": [
        "\n",
        "second momemtum update 0.011819\n",
        "first momemtum update 0.012098\n",
        "position update 0.014433\n",
        "force update 22.380981"
       ]
      },
      {
       "output_type": "stream",
       "stream": "stdout",
       "text": [
        "\n",
        "second momemtum update 0.012032\n",
        "first momemtum update 0.012041\n",
        "position update 0.014469\n",
        "force update 22.247613"
       ]
      },
      {
       "output_type": "stream",
       "stream": "stdout",
       "text": [
        "\n",
        "second momemtum update 0.011900\n",
        "first momemtum update 0.011823\n",
        "position update 0.014566\n",
        "force update 22.359881"
       ]
      },
      {
       "output_type": "stream",
       "stream": "stdout",
       "text": [
        "\n",
        "second momemtum update 0.012114\n",
        "first momemtum update 0.012075\n",
        "position update 0.014398\n",
        "force update 23.593275"
       ]
      },
      {
       "output_type": "stream",
       "stream": "stdout",
       "text": [
        "\n",
        "second momemtum update 0.012675\n",
        "first momemtum update 0.012231\n",
        "position update 0.016152\n",
        "force update 24.229312"
       ]
      },
      {
       "output_type": "stream",
       "stream": "stdout",
       "text": [
        "\n",
        "second momemtum update 0.011808\n",
        "first momemtum update 0.012030\n",
        "position update 0.014508\n",
        "force update 25.328809"
       ]
      },
      {
       "output_type": "stream",
       "stream": "stdout",
       "text": [
        "\n",
        "second momemtum update 0.012084\n",
        "first momemtum update 0.012079\n",
        "position update 0.014716\n",
        "force update 27.690646"
       ]
      },
      {
       "output_type": "stream",
       "stream": "stdout",
       "text": [
        "\n",
        "second momemtum update 0.018116\n",
        "first momemtum update 0.014237\n",
        "position update 0.021308"
       ]
      },
      {
       "output_type": "stream",
       "stream": "stdout",
       "text": [
        "\n",
        "force update 25.372800"
       ]
      },
      {
       "output_type": "stream",
       "stream": "stdout",
       "text": [
        "\n",
        "second momemtum update 0.012009\n",
        "first momemtum update 0.012278\n",
        "position update 0.014805\n",
        "force update 23.635039"
       ]
      },
      {
       "output_type": "stream",
       "stream": "stdout",
       "text": [
        "\n",
        "second momemtum update 0.011833\n",
        "first momemtum update 0.011829\n",
        "position update 0.014501\n",
        "force update 24.070531"
       ]
      },
      {
       "output_type": "stream",
       "stream": "stdout",
       "text": [
        "\n",
        "second momemtum update 0.012159\n",
        "first momemtum update 0.012143\n",
        "position update 0.014446\n",
        "force update 23.270598"
       ]
      },
      {
       "output_type": "stream",
       "stream": "stdout",
       "text": [
        "\n",
        "second momemtum update 0.011821\n",
        "first momemtum update 0.011807\n",
        "position update 0.014406\n",
        "force update 23.479817"
       ]
      },
      {
       "output_type": "stream",
       "stream": "stdout",
       "text": [
        "\n",
        "second momemtum update 0.011828\n",
        "first momemtum update 0.011813\n",
        "position update 0.014579\n",
        "force update 23.019291"
       ]
      },
      {
       "output_type": "stream",
       "stream": "stdout",
       "text": [
        "\n",
        "second momemtum update 0.012053\n",
        "first momemtum update 0.012047\n",
        "position update 0.014459\n",
        "force update 25.677830"
       ]
      },
      {
       "output_type": "stream",
       "stream": "stdout",
       "text": [
        "\n",
        "second momemtum update 0.089060"
       ]
      },
      {
       "output_type": "stream",
       "stream": "stdout",
       "text": [
        "\n",
        "first momemtum update 0.012762\n",
        "position update 0.016357\n",
        "force update 26.820152"
       ]
      },
      {
       "output_type": "stream",
       "stream": "stdout",
       "text": [
        "\n",
        "second momemtum update 0.011803\n",
        "first momemtum update 0.011829\n",
        "position update 0.015137\n",
        "force update 28.641174"
       ]
      },
      {
       "output_type": "stream",
       "stream": "stdout",
       "text": [
        "\n",
        "second momemtum update 0.022267\n",
        "first momemtum update 0.021142\n",
        "position update 0.017715"
       ]
      },
      {
       "output_type": "stream",
       "stream": "stdout",
       "text": [
        "\n",
        "force update 25.064937"
       ]
      },
      {
       "output_type": "stream",
       "stream": "stdout",
       "text": [
        "\n",
        "second momemtum update 0.042561\n",
        "first momemtum update 0.012455"
       ]
      },
      {
       "output_type": "stream",
       "stream": "stdout",
       "text": [
        "\n",
        "position update 0.014483\n",
        "force update 24.432122"
       ]
      },
      {
       "output_type": "stream",
       "stream": "stdout",
       "text": [
        "\n",
        "second momemtum update 0.013550\n",
        "first momemtum update 0.011852\n",
        "position update 0.014441\n",
        "force update 23.163467"
       ]
      },
      {
       "output_type": "stream",
       "stream": "stdout",
       "text": [
        "\n",
        "second momemtum update 0.014321\n",
        "first momemtum update 0.015971\n",
        "position update 0.016821\n",
        "force update 22.958676"
       ]
      },
      {
       "output_type": "stream",
       "stream": "stdout",
       "text": [
        "\n",
        "second momemtum update 0.011788\n",
        "first momemtum update 0.011851\n",
        "position update 0.016176\n",
        "force update 22.812129"
       ]
      },
      {
       "output_type": "stream",
       "stream": "stdout",
       "text": [
        "\n",
        "second momemtum update 0.011786\n",
        "first momemtum update 0.011980\n",
        "position update 0.014514\n",
        "force update 23.052894"
       ]
      },
      {
       "output_type": "stream",
       "stream": "stdout",
       "text": [
        "\n",
        "second momemtum update 0.013817\n",
        "first momemtum update 0.012019\n",
        "position update 0.014371\n",
        "force update 23.053310"
       ]
      },
      {
       "output_type": "stream",
       "stream": "stdout",
       "text": [
        "\n",
        "second momemtum update 0.012071\n",
        "first momemtum update 0.012048\n",
        "position update 0.014439\n",
        "force update 23.279508"
       ]
      },
      {
       "output_type": "stream",
       "stream": "stdout",
       "text": [
        "\n",
        "second momemtum update 0.012677\n",
        "first momemtum update 0.012022\n",
        "position update 0.015234\n",
        "force update 23.085244"
       ]
      },
      {
       "output_type": "stream",
       "stream": "stdout",
       "text": [
        "\n",
        "second momemtum update 0.012545\n",
        "first momemtum update 0.011894\n",
        "position update 0.014547\n",
        "force update 23.379362"
       ]
      },
      {
       "output_type": "stream",
       "stream": "stdout",
       "text": [
        "\n",
        "second momemtum update 0.013077\n",
        "first momemtum update 0.013295\n",
        "position update 0.014594\n",
        "force update 22.920404"
       ]
      },
      {
       "output_type": "stream",
       "stream": "stdout",
       "text": [
        "\n",
        "second momemtum update 0.012025\n",
        "first momemtum update 0.012114\n",
        "position update 0.014581\n",
        "force update 23.884637"
       ]
      },
      {
       "output_type": "stream",
       "stream": "stdout",
       "text": [
        "\n",
        "second momemtum update 0.013993\n",
        "first momemtum update 0.015036\n",
        "position update 0.014762\n",
        "force update 23.197836"
       ]
      },
      {
       "output_type": "stream",
       "stream": "stdout",
       "text": [
        "\n",
        "second momemtum update 0.011779\n",
        "first momemtum update 0.012142\n",
        "position update 0.014446\n",
        "force update 25.423992"
       ]
      },
      {
       "output_type": "stream",
       "stream": "stdout",
       "text": [
        "\n",
        "second momemtum update 0.012324\n",
        "first momemtum update 0.013762\n",
        "position update 0.017582\n",
        "force update 23.972916"
       ]
      },
      {
       "output_type": "stream",
       "stream": "stdout",
       "text": [
        "\n",
        "second momemtum update 0.011795\n",
        "first momemtum update 0.011794\n",
        "position update 0.014473\n",
        "force update 25.469894"
       ]
      },
      {
       "output_type": "stream",
       "stream": "stdout",
       "text": [
        "\n",
        "second momemtum update 0.025913\n",
        "first momemtum update 0.012149\n",
        "position update 0.014701"
       ]
      },
      {
       "output_type": "stream",
       "stream": "stdout",
       "text": [
        "\n",
        "force update 25.592148"
       ]
      },
      {
       "output_type": "stream",
       "stream": "stdout",
       "text": [
        "\n",
        "second momemtum update 0.012798\n",
        "first momemtum update 0.012045\n",
        "position update 0.014604\n",
        "force update 24.339774"
       ]
      },
      {
       "output_type": "stream",
       "stream": "stdout",
       "text": [
        "\n",
        "second momemtum update 0.011907\n",
        "first momemtum update 0.011812\n",
        "position update 0.014506\n",
        "force update 23.673652"
       ]
      },
      {
       "output_type": "stream",
       "stream": "stdout",
       "text": [
        "\n",
        "second momemtum update 0.016417\n",
        "first momemtum update 0.015712\n",
        "position update 0.014697\n",
        "force update 30.681307"
       ]
      },
      {
       "output_type": "stream",
       "stream": "stdout",
       "text": [
        "\n",
        "second momemtum update 0.041184\n",
        "first momemtum update 0.023314"
       ]
      },
      {
       "output_type": "stream",
       "stream": "stdout",
       "text": [
        "\n",
        "position update 0.022082\n",
        "force update 26.002629"
       ]
      },
      {
       "output_type": "stream",
       "stream": "stdout",
       "text": [
        "\n",
        "second momemtum update 0.012494\n",
        "first momemtum update 0.012264\n",
        "position update 0.014534\n",
        "force update 23.976590"
       ]
      },
      {
       "output_type": "stream",
       "stream": "stdout",
       "text": [
        "\n",
        "second momemtum update 0.012321\n",
        "first momemtum update 0.012115\n",
        "position update 0.014891\n",
        "force update 24.800734"
       ]
      },
      {
       "output_type": "stream",
       "stream": "stdout",
       "text": [
        "\n",
        "second momemtum update 0.023204\n",
        "first momemtum update 0.011801\n",
        "position update 0.014320\n",
        "force update 25.665921"
       ]
      },
      {
       "output_type": "stream",
       "stream": "stdout",
       "text": [
        "\n",
        "second momemtum update 0.012109\n",
        "first momemtum update 0.013811\n",
        "position update 0.014547\n",
        "force update 28.867680"
       ]
      },
      {
       "output_type": "stream",
       "stream": "stdout",
       "text": [
        "\n",
        "second momemtum update 0.035761\n",
        "first momemtum update 0.013911\n",
        "position update 0.014851"
       ]
      },
      {
       "output_type": "stream",
       "stream": "stdout",
       "text": [
        "\n",
        "force update 27.693292"
       ]
      },
      {
       "output_type": "stream",
       "stream": "stdout",
       "text": [
        "\n",
        "second momemtum update 0.023884\n",
        "first momemtum update 0.011803\n",
        "position update 0.014628"
       ]
      },
      {
       "output_type": "stream",
       "stream": "stdout",
       "text": [
        "\n",
        "force update 23.600931"
       ]
      },
      {
       "output_type": "stream",
       "stream": "stdout",
       "text": [
        "\n",
        "second momemtum update 0.035385\n",
        "first momemtum update 0.011920\n",
        "position update 0.014674"
       ]
      },
      {
       "output_type": "stream",
       "stream": "stdout",
       "text": [
        "\n",
        "force update 23.396976"
       ]
      },
      {
       "output_type": "stream",
       "stream": "stdout",
       "text": [
        "\n",
        "second momemtum update 0.017769\n",
        "first momemtum update 0.013072\n",
        "position update 0.015471\n",
        "force update 23.505087"
       ]
      },
      {
       "output_type": "stream",
       "stream": "stdout",
       "text": [
        "\n",
        "second momemtum update 0.012628\n",
        "first momemtum update 0.011962\n",
        "position update 0.014618\n",
        "force update 23.340329"
       ]
      },
      {
       "output_type": "stream",
       "stream": "stdout",
       "text": [
        "\n",
        "second momemtum update 0.012018\n",
        "first momemtum update 0.012027\n",
        "position update 0.015866\n",
        "force update 23.219340"
       ]
      },
      {
       "output_type": "stream",
       "stream": "stdout",
       "text": [
        "\n",
        "second momemtum update 0.011983\n",
        "first momemtum update 0.011775\n",
        "position update 0.014455\n",
        "force update 23.282843"
       ]
      },
      {
       "output_type": "stream",
       "stream": "stdout",
       "text": [
        "\n",
        "second momemtum update 0.013654\n",
        "first momemtum update 0.012696\n",
        "position update 0.014845\n",
        "force update 23.293515"
       ]
      },
      {
       "output_type": "stream",
       "stream": "stdout",
       "text": [
        "\n",
        "second momemtum update 0.012160\n",
        "first momemtum update 0.011953\n",
        "position update 0.018004\n",
        "force update 23.068487"
       ]
      },
      {
       "output_type": "stream",
       "stream": "stdout",
       "text": [
        "\n",
        "second momemtum update 0.013077\n",
        "first momemtum update 0.012128\n",
        "position update 0.015415\n",
        "force update 23.036607"
       ]
      },
      {
       "output_type": "stream",
       "stream": "stdout",
       "text": [
        "\n",
        "second momemtum update 0.012632\n",
        "first momemtum update 0.012158\n",
        "position update 0.015627\n",
        "force update 23.027811"
       ]
      },
      {
       "output_type": "stream",
       "stream": "stdout",
       "text": [
        "\n",
        "second momemtum update 0.014656\n",
        "first momemtum update 0.014229\n",
        "position update 0.014689\n",
        "force update 23.063192"
       ]
      },
      {
       "output_type": "stream",
       "stream": "stdout",
       "text": [
        "\n",
        "second momemtum update 0.013705\n",
        "first momemtum update 0.016177\n",
        "position update 0.014708\n",
        "force update 23.265479"
       ]
      },
      {
       "output_type": "stream",
       "stream": "stdout",
       "text": [
        "\n",
        "second momemtum update 0.011800\n",
        "first momemtum update 0.011893\n",
        "position update 0.014540\n",
        "force update 23.234792"
       ]
      },
      {
       "output_type": "stream",
       "stream": "stdout",
       "text": [
        "\n",
        "second momemtum update 0.012328\n",
        "first momemtum update 0.012044\n",
        "position update 0.017499\n",
        "force update 23.095419"
       ]
      },
      {
       "output_type": "stream",
       "stream": "stdout",
       "text": [
        "\n",
        "second momemtum update 0.012105\n",
        "first momemtum update 0.013637\n",
        "position update 0.015392\n",
        "force update 23.180087"
       ]
      },
      {
       "output_type": "stream",
       "stream": "stdout",
       "text": [
        "\n",
        "second momemtum update 0.012181\n",
        "first momemtum update 0.012189\n",
        "position update 0.014513\n",
        "force update 23.314491"
       ]
      },
      {
       "output_type": "stream",
       "stream": "stdout",
       "text": [
        "\n",
        "second momemtum update 0.011810\n",
        "first momemtum update 0.011790\n",
        "position update 0.014474\n",
        "force update 23.389273"
       ]
      },
      {
       "output_type": "stream",
       "stream": "stdout",
       "text": [
        "\n",
        "second momemtum update 0.012403\n",
        "first momemtum update 0.012301\n",
        "position update 0.015527\n",
        "force update 23.104303"
       ]
      },
      {
       "output_type": "stream",
       "stream": "stdout",
       "text": [
        "\n",
        "second momemtum update 0.011801\n",
        "first momemtum update 0.011926\n",
        "position update 0.014423\n",
        "force update 23.210747"
       ]
      },
      {
       "output_type": "stream",
       "stream": "stdout",
       "text": [
        "\n",
        "second momemtum update 0.011797\n",
        "first momemtum update 0.012081\n",
        "position update 0.014900\n",
        "force update 23.221146"
       ]
      },
      {
       "output_type": "stream",
       "stream": "stdout",
       "text": [
        "\n",
        "second momemtum update 0.014806\n",
        "first momemtum update 0.013758\n",
        "position update 0.014953\n",
        "force update 23.283579"
       ]
      },
      {
       "output_type": "stream",
       "stream": "stdout",
       "text": [
        "\n",
        "second momemtum update 0.011770\n",
        "first momemtum update 0.013169\n",
        "position update 0.015296\n",
        "force update 23.321636"
       ]
      },
      {
       "output_type": "stream",
       "stream": "stdout",
       "text": [
        "\n",
        "second momemtum update 0.012445\n",
        "first momemtum update 0.012515\n",
        "position update 0.014442\n",
        "force update 23.184961"
       ]
      },
      {
       "output_type": "stream",
       "stream": "stdout",
       "text": [
        "\n",
        "second momemtum update 0.014140\n",
        "first momemtum update 0.012112\n",
        "position update 0.014459\n",
        "force update 23.208734"
       ]
      },
      {
       "output_type": "stream",
       "stream": "stdout",
       "text": [
        "\n",
        "second momemtum update 0.014389\n",
        "first momemtum update 0.012963\n",
        "position update 0.016687\n",
        "force update 23.472092"
       ]
      },
      {
       "output_type": "stream",
       "stream": "stdout",
       "text": [
        "\n",
        "second momemtum update 0.012134\n",
        "first momemtum update 0.013060\n",
        "position update 0.015248\n",
        "force update 23.092166"
       ]
      },
      {
       "output_type": "stream",
       "stream": "stdout",
       "text": [
        "\n",
        "second momemtum update 0.014961\n",
        "first momemtum update 0.013652\n",
        "position update 0.015405\n",
        "force update 23.149183"
       ]
      },
      {
       "output_type": "stream",
       "stream": "stdout",
       "text": [
        "\n",
        "second momemtum update 0.013766\n",
        "first momemtum update 0.011907\n",
        "position update 0.014794\n",
        "force update 23.289417"
       ]
      },
      {
       "output_type": "stream",
       "stream": "stdout",
       "text": [
        "\n",
        "second momemtum update 0.012134\n",
        "first momemtum update 0.011949\n",
        "position update 0.016859\n",
        "force update 23.190540"
       ]
      },
      {
       "output_type": "stream",
       "stream": "stdout",
       "text": [
        "\n",
        "second momemtum update 0.012175\n",
        "first momemtum update 0.013096\n",
        "position update 0.014261\n",
        "force update 23.123832"
       ]
      },
      {
       "output_type": "stream",
       "stream": "stdout",
       "text": [
        "\n",
        "second momemtum update 0.011946\n",
        "first momemtum update 0.012120\n",
        "position update 0.014514\n",
        "force update 23.316564"
       ]
      },
      {
       "output_type": "stream",
       "stream": "stdout",
       "text": [
        "\n",
        "second momemtum update 0.012011\n",
        "first momemtum update 0.012620\n",
        "position update 0.014830\n",
        "force update 23.401413"
       ]
      },
      {
       "output_type": "stream",
       "stream": "stdout",
       "text": [
        "\n",
        "second momemtum update 0.013794\n",
        "first momemtum update 0.012017\n",
        "position update 0.017472\n",
        "force update 23.481260"
       ]
      },
      {
       "output_type": "stream",
       "stream": "stdout",
       "text": [
        "\n",
        "second momemtum update 0.012595\n",
        "first momemtum update 0.011890\n",
        "position update 0.014533\n",
        "force update 23.236326"
       ]
      },
      {
       "output_type": "stream",
       "stream": "stdout",
       "text": [
        "\n",
        "second momemtum update 0.014496\n",
        "first momemtum update 0.012236\n",
        "position update 0.014882\n",
        "force update 23.794416"
       ]
      },
      {
       "output_type": "stream",
       "stream": "stdout",
       "text": [
        "\n",
        "second momemtum update 0.012320\n",
        "first momemtum update 0.012016\n",
        "position update 0.014782\n",
        "force update 23.173616"
       ]
      },
      {
       "output_type": "stream",
       "stream": "stdout",
       "text": [
        "\n",
        "second momemtum update 0.011905\n",
        "first momemtum update 0.012019\n",
        "position update 0.014449\n",
        "force update 24.746260"
       ]
      },
      {
       "output_type": "stream",
       "stream": "stdout",
       "text": [
        "\n",
        "second momemtum update 0.011859\n",
        "first momemtum update 0.011933\n",
        "position update 0.014471\n",
        "force update 23.527453"
       ]
      },
      {
       "output_type": "stream",
       "stream": "stdout",
       "text": [
        "\n",
        "second momemtum update 0.013660\n",
        "first momemtum update 0.013119\n",
        "position update 0.014692\n",
        "force update 22.807581"
       ]
      },
      {
       "output_type": "stream",
       "stream": "stdout",
       "text": [
        "\n",
        "second momemtum update 0.012245\n",
        "first momemtum update 0.012146\n",
        "position update 0.014508\n",
        "force update 22.833237"
       ]
      },
      {
       "output_type": "stream",
       "stream": "stdout",
       "text": [
        "\n",
        "second momemtum update 0.012030\n",
        "first momemtum update 0.011952\n",
        "position update 0.014641\n",
        "force update 22.650704"
       ]
      },
      {
       "output_type": "stream",
       "stream": "stdout",
       "text": [
        "\n",
        "second momemtum update 0.011986\n",
        "first momemtum update 0.012185\n",
        "position update 0.014322\n",
        "force update 22.541634"
       ]
      },
      {
       "output_type": "stream",
       "stream": "stdout",
       "text": [
        "\n",
        "second momemtum update 0.012121\n",
        "first momemtum update 0.012082\n",
        "position update 0.015087\n",
        "force update 22.581364"
       ]
      },
      {
       "output_type": "stream",
       "stream": "stdout",
       "text": [
        "\n",
        "second momemtum update 0.011812\n",
        "first momemtum update 0.012053\n",
        "position update 0.014488\n",
        "force update 22.754428"
       ]
      },
      {
       "output_type": "stream",
       "stream": "stdout",
       "text": [
        "\n",
        "second momemtum update 0.013123\n",
        "first momemtum update 0.013800\n",
        "position update 0.015593\n",
        "force update 23.091897"
       ]
      },
      {
       "output_type": "stream",
       "stream": "stdout",
       "text": [
        "\n",
        "second momemtum update 0.011880\n",
        "first momemtum update 0.011858\n",
        "position update 0.014700\n",
        "force update 22.657893"
       ]
      },
      {
       "output_type": "stream",
       "stream": "stdout",
       "text": [
        "\n",
        "second momemtum update 0.013336\n",
        "first momemtum update 0.011928\n",
        "position update 0.014528\n",
        "force update 23.013306"
       ]
      },
      {
       "output_type": "stream",
       "stream": "stdout",
       "text": [
        "\n",
        "second momemtum update 0.012267\n",
        "first momemtum update 0.012057\n",
        "position update 0.015334\n",
        "force update 22.628454"
       ]
      },
      {
       "output_type": "stream",
       "stream": "stdout",
       "text": [
        "\n",
        "second momemtum update 0.012208\n",
        "first momemtum update 0.012042\n",
        "position update 0.014631\n",
        "force update 22.914804"
       ]
      },
      {
       "output_type": "stream",
       "stream": "stdout",
       "text": [
        "\n",
        "second momemtum update 0.011968\n",
        "first momemtum update 0.011932\n",
        "position update 0.014614\n",
        "force update 24.023531"
       ]
      },
      {
       "output_type": "stream",
       "stream": "stdout",
       "text": [
        "\n",
        "second momemtum update 0.012084\n",
        "first momemtum update 0.012942\n",
        "position update 0.014646\n",
        "force update 24.255342"
       ]
      },
      {
       "output_type": "stream",
       "stream": "stdout",
       "text": [
        "\n",
        "second momemtum update 0.013150\n",
        "first momemtum update 0.012207\n",
        "position update 0.014475\n",
        "force update 25.081934"
       ]
      },
      {
       "output_type": "stream",
       "stream": "stdout",
       "text": [
        "\n",
        "second momemtum update 0.014228\n",
        "first momemtum update 0.015191\n",
        "position update 0.016052\n",
        "force update 22.831314"
       ]
      },
      {
       "output_type": "stream",
       "stream": "stdout",
       "text": [
        "\n",
        "second momemtum update 0.011874\n",
        "first momemtum update 0.011844\n",
        "position update 0.014747\n",
        "force update 22.868377"
       ]
      },
      {
       "output_type": "stream",
       "stream": "stdout",
       "text": [
        "\n",
        "second momemtum update 0.012297\n",
        "first momemtum update 0.012118\n",
        "position update 0.014389\n",
        "force update 23.115263"
       ]
      },
      {
       "output_type": "stream",
       "stream": "stdout",
       "text": [
        "\n",
        "second momemtum update 0.011773\n",
        "first momemtum update 0.011798\n",
        "position update 0.014509\n",
        "force update 22.814985"
       ]
      },
      {
       "output_type": "stream",
       "stream": "stdout",
       "text": [
        "\n",
        "second momemtum update 0.011852\n",
        "first momemtum update 0.012243\n",
        "position update 0.015831\n",
        "force update 22.767558"
       ]
      },
      {
       "output_type": "stream",
       "stream": "stdout",
       "text": [
        "\n",
        "second momemtum update 0.013111\n",
        "first momemtum update 0.011983\n",
        "position update 0.014523\n",
        "force update 24.809164"
       ]
      },
      {
       "output_type": "stream",
       "stream": "stdout",
       "text": [
        "\n",
        "second momemtum update 0.011983\n",
        "first momemtum update 0.013679\n",
        "position update 0.014453\n",
        "force update 24.686006"
       ]
      },
      {
       "output_type": "stream",
       "stream": "stdout",
       "text": [
        "\n",
        "second momemtum update 0.012416\n",
        "first momemtum update 0.012015\n",
        "position update 0.016352\n",
        "force update 22.558586"
       ]
      },
      {
       "output_type": "stream",
       "stream": "stdout",
       "text": [
        "\n",
        "second momemtum update 0.011939\n",
        "first momemtum update 0.012139\n",
        "position update 0.014505\n",
        "force update 22.434413"
       ]
      },
      {
       "output_type": "stream",
       "stream": "stdout",
       "text": [
        "\n",
        "second momemtum update 0.012055\n",
        "first momemtum update 0.012411\n",
        "position update 0.014805\n",
        "force update 22.468989"
       ]
      },
      {
       "output_type": "stream",
       "stream": "stdout",
       "text": [
        "\n",
        "second momemtum update 0.012080\n",
        "first momemtum update 0.011976\n",
        "position update 0.014374\n",
        "force update 22.541307"
       ]
      },
      {
       "output_type": "stream",
       "stream": "stdout",
       "text": [
        "\n",
        "second momemtum update 0.012048\n",
        "first momemtum update 0.011997\n",
        "position update 0.014514\n",
        "force update 22.472234"
       ]
      },
      {
       "output_type": "stream",
       "stream": "stdout",
       "text": [
        "\n",
        "second momemtum update 0.011819\n",
        "first momemtum update 0.012028\n",
        "position update 0.014503\n",
        "force update 22.453369"
       ]
      },
      {
       "output_type": "stream",
       "stream": "stdout",
       "text": [
        "\n",
        "second momemtum update 0.012232\n",
        "first momemtum update 0.012007\n",
        "position update 0.014634\n",
        "force update 22.443813"
       ]
      },
      {
       "output_type": "stream",
       "stream": "stdout",
       "text": [
        "\n",
        "second momemtum update 0.012130\n",
        "first momemtum update 0.012023\n",
        "position update 0.014619\n",
        "force update 22.453852"
       ]
      },
      {
       "output_type": "stream",
       "stream": "stdout",
       "text": [
        "\n",
        "second momemtum update 0.012058\n",
        "first momemtum update 0.012032\n",
        "position update 0.014517\n",
        "force update 22.683968"
       ]
      },
      {
       "output_type": "stream",
       "stream": "stdout",
       "text": [
        "\n",
        "second momemtum update 0.012069\n",
        "first momemtum update 0.012026\n",
        "position update 0.014475\n",
        "force update 22.481937"
       ]
      },
      {
       "output_type": "stream",
       "stream": "stdout",
       "text": [
        "\n",
        "second momemtum update 0.011918\n",
        "first momemtum update 0.011797\n",
        "position update 0.014523\n",
        "force update 22.471920"
       ]
      },
      {
       "output_type": "stream",
       "stream": "stdout",
       "text": [
        "\n",
        "second momemtum update 0.013079\n",
        "first momemtum update 0.013512\n",
        "position update 0.014511\n",
        "force update 22.539279"
       ]
      },
      {
       "output_type": "stream",
       "stream": "stdout",
       "text": [
        "\n",
        "second momemtum update 0.014242\n",
        "first momemtum update 0.012398\n",
        "position update 0.014449\n",
        "force update 22.510214"
       ]
      },
      {
       "output_type": "stream",
       "stream": "stdout",
       "text": [
        "\n",
        "second momemtum update 0.012118\n",
        "first momemtum update 0.012088\n",
        "position update 0.014444\n",
        "force update 22.457075"
       ]
      },
      {
       "output_type": "stream",
       "stream": "stdout",
       "text": [
        "\n",
        "second momemtum update 0.011867\n",
        "first momemtum update 0.012354\n",
        "position update 0.014595\n",
        "force update 22.402736"
       ]
      },
      {
       "output_type": "stream",
       "stream": "stdout",
       "text": [
        "\n",
        "second momemtum update 0.011969\n",
        "first momemtum update 0.012571\n",
        "position update 0.014558\n",
        "force update 22.689320"
       ]
      },
      {
       "output_type": "stream",
       "stream": "stdout",
       "text": [
        "\n",
        "second momemtum update 0.011830\n",
        "first momemtum update 0.012059\n",
        "position update 0.014607\n",
        "force update 22.483953"
       ]
      },
      {
       "output_type": "stream",
       "stream": "stdout",
       "text": [
        "\n",
        "second momemtum update 0.011737\n",
        "first momemtum update 0.011774\n",
        "position update 0.014628\n",
        "force update 22.681802"
       ]
      },
      {
       "output_type": "stream",
       "stream": "stdout",
       "text": [
        "\n",
        "second momemtum update 0.012153\n",
        "first momemtum update 0.012187\n",
        "position update 0.014622\n",
        "force update 22.603169"
       ]
      },
      {
       "output_type": "stream",
       "stream": "stdout",
       "text": [
        "\n",
        "second momemtum update 0.011921\n",
        "first momemtum update 0.012063\n",
        "position update 0.014386\n",
        "force update 22.486675"
       ]
      },
      {
       "output_type": "stream",
       "stream": "stdout",
       "text": [
        "\n",
        "second momemtum update 0.012020\n",
        "first momemtum update 0.011896\n",
        "position update 0.014536\n",
        "force update 22.491641"
       ]
      },
      {
       "output_type": "stream",
       "stream": "stdout",
       "text": [
        "\n",
        "second momemtum update 0.011854\n",
        "first momemtum update 0.012092\n",
        "position update 0.014614\n",
        "force update 22.648189"
       ]
      },
      {
       "output_type": "stream",
       "stream": "stdout",
       "text": [
        "\n",
        "second momemtum update 0.011939\n",
        "first momemtum update 0.011855\n",
        "position update 0.014546\n",
        "force update 22.608338"
       ]
      },
      {
       "output_type": "stream",
       "stream": "stdout",
       "text": [
        "\n",
        "second momemtum update 0.011932\n",
        "first momemtum update 0.013108\n",
        "position update 0.014544\n",
        "force update 22.470952"
       ]
      },
      {
       "output_type": "stream",
       "stream": "stdout",
       "text": [
        "\n",
        "second momemtum update 0.013396\n",
        "first momemtum update 0.011927\n",
        "position update 0.014408\n",
        "force update 22.515997"
       ]
      },
      {
       "output_type": "stream",
       "stream": "stdout",
       "text": [
        "\n",
        "second momemtum update 0.012158\n",
        "first momemtum update 0.011952\n",
        "position update 0.014477\n",
        "force update 22.441898"
       ]
      },
      {
       "output_type": "stream",
       "stream": "stdout",
       "text": [
        "\n",
        "second momemtum update 0.012041\n",
        "first momemtum update 0.012204\n",
        "position update 0.014301\n",
        "force update 22.461673"
       ]
      },
      {
       "output_type": "stream",
       "stream": "stdout",
       "text": [
        "\n",
        "second momemtum update 0.011958\n",
        "first momemtum update 0.011793\n",
        "position update 0.014625\n",
        "force update 22.621951"
       ]
      },
      {
       "output_type": "stream",
       "stream": "stdout",
       "text": [
        "\n",
        "second momemtum update 0.012987\n",
        "first momemtum update 0.012071\n",
        "position update 0.014638\n",
        "force update 22.544522"
       ]
      },
      {
       "output_type": "stream",
       "stream": "stdout",
       "text": [
        "\n",
        "second momemtum update 0.012029\n",
        "first momemtum update 0.012083\n",
        "position update 0.014431\n",
        "force update 22.519364"
       ]
      },
      {
       "output_type": "stream",
       "stream": "stdout",
       "text": [
        "\n",
        "second momemtum update 0.012183\n",
        "first momemtum update 0.012588\n",
        "position update 0.014609\n",
        "force update 22.436393"
       ]
      },
      {
       "output_type": "stream",
       "stream": "stdout",
       "text": [
        "\n",
        "second momemtum update 0.011953\n",
        "first momemtum update 0.012065\n",
        "position update 0.014547\n",
        "force update 24.330535"
       ]
      },
      {
       "output_type": "stream",
       "stream": "stdout",
       "text": [
        "\n",
        "second momemtum update 0.015238\n",
        "first momemtum update 0.012037\n",
        "position update 0.017621\n",
        "force update 25.753606"
       ]
      },
      {
       "output_type": "stream",
       "stream": "stdout",
       "text": [
        "\n",
        "second momemtum update 0.017575\n",
        "first momemtum update 0.013279\n",
        "position update 0.014637\n",
        "force update 24.254016"
       ]
      },
      {
       "output_type": "stream",
       "stream": "stdout",
       "text": [
        "\n",
        "second momemtum update 0.013755\n",
        "first momemtum update 0.011988\n",
        "position update 0.017624\n",
        "force update 24.333106"
       ]
      },
      {
       "output_type": "stream",
       "stream": "stdout",
       "text": [
        "\n",
        "second momemtum update 0.012157\n",
        "first momemtum update 0.013866\n",
        "position update 0.015173\n",
        "force update 24.328421"
       ]
      },
      {
       "output_type": "stream",
       "stream": "stdout",
       "text": [
        "\n",
        "second momemtum update 0.011985\n",
        "first momemtum update 0.012099\n",
        "position update 0.014530\n",
        "force update 24.450529"
       ]
      },
      {
       "output_type": "stream",
       "stream": "stdout",
       "text": [
        "\n",
        "second momemtum update 0.011834\n",
        "first momemtum update 0.013808\n",
        "position update 0.014547\n",
        "force update 24.086241"
       ]
      },
      {
       "output_type": "stream",
       "stream": "stdout",
       "text": [
        "\n",
        "second momemtum update 0.012517\n",
        "first momemtum update 0.012202\n",
        "position update 0.015954\n",
        "force update 24.141697"
       ]
      },
      {
       "output_type": "stream",
       "stream": "stdout",
       "text": [
        "\n",
        "second momemtum update 0.014039\n",
        "first momemtum update 0.012079\n",
        "position update 0.015154\n",
        "force update 24.085571"
       ]
      },
      {
       "output_type": "stream",
       "stream": "stdout",
       "text": [
        "\n",
        "second momemtum update 0.020899\n",
        "first momemtum update 0.020022\n",
        "position update 0.016982"
       ]
      },
      {
       "output_type": "stream",
       "stream": "stdout",
       "text": [
        "\n",
        "force update 26.272399"
       ]
      },
      {
       "output_type": "stream",
       "stream": "stdout",
       "text": [
        "\n",
        "second momemtum update 0.013351\n",
        "first momemtum update 0.012533\n",
        "position update 0.016397\n",
        "force update 25.826089"
       ]
      },
      {
       "output_type": "stream",
       "stream": "stdout",
       "text": [
        "\n",
        "second momemtum update 0.015949\n",
        "first momemtum update 0.012087\n",
        "position update 0.014583\n",
        "force update 23.752541"
       ]
      },
      {
       "output_type": "stream",
       "stream": "stdout",
       "text": [
        "\n",
        "second momemtum update 0.012092\n",
        "first momemtum update 0.014573\n",
        "position update 0.016165\n",
        "force update 24.126634"
       ]
      },
      {
       "output_type": "stream",
       "stream": "stdout",
       "text": [
        "\n",
        "second momemtum update 0.013746\n",
        "first momemtum update 0.011942\n",
        "position update 0.016115\n",
        "force update 24.775360"
       ]
      },
      {
       "output_type": "stream",
       "stream": "stdout",
       "text": [
        "\n",
        "second momemtum update 0.012108\n",
        "first momemtum update 0.012602\n",
        "position update 0.015491\n",
        "force update 25.527037"
       ]
      },
      {
       "output_type": "stream",
       "stream": "stdout",
       "text": [
        "\n",
        "second momemtum update 0.012827\n",
        "first momemtum update 0.013959\n",
        "position update 0.014932\n",
        "force update 24.481637"
       ]
      },
      {
       "output_type": "stream",
       "stream": "stdout",
       "text": [
        "\n",
        "second momemtum update 0.013346\n",
        "first momemtum update 0.012247\n",
        "position update 0.015593\n",
        "force update 27.829559"
       ]
      },
      {
       "output_type": "stream",
       "stream": "stdout",
       "text": [
        "\n",
        "second momemtum update 0.012853\n",
        "first momemtum update 0.012755\n",
        "position update 0.015459\n",
        "force update 25.975858"
       ]
      },
      {
       "output_type": "stream",
       "stream": "stdout",
       "text": [
        "\n",
        "second momemtum update 0.014035\n",
        "first momemtum update 0.011932\n",
        "position update 0.016506\n",
        "force update 24.876197"
       ]
      },
      {
       "output_type": "stream",
       "stream": "stdout",
       "text": [
        "\n",
        "second momemtum update 0.013614\n",
        "first momemtum update 0.012392\n",
        "position update 0.016536\n",
        "force update 24.874894"
       ]
      },
      {
       "output_type": "stream",
       "stream": "stdout",
       "text": [
        "\n",
        "second momemtum update 0.014283\n",
        "first momemtum update 0.012104\n",
        "position update 0.016859\n",
        "force update 24.184337"
       ]
      },
      {
       "output_type": "stream",
       "stream": "stdout",
       "text": [
        "\n",
        "second momemtum update 0.012260\n",
        "first momemtum update 0.014041\n",
        "position update 0.015898\n",
        "force update 24.802694"
       ]
      },
      {
       "output_type": "stream",
       "stream": "stdout",
       "text": [
        "\n",
        "second momemtum update 0.014208\n",
        "first momemtum update 0.014300\n",
        "position update 0.014600\n",
        "force update 24.860989"
       ]
      },
      {
       "output_type": "stream",
       "stream": "stdout",
       "text": [
        "\n",
        "second momemtum update 0.014807\n",
        "first momemtum update 0.012088\n",
        "position update 0.017185\n",
        "force update 24.472198"
       ]
      },
      {
       "output_type": "stream",
       "stream": "stdout",
       "text": [
        "\n",
        "second momemtum update 0.014516\n",
        "first momemtum update 0.012919\n",
        "position update 0.014860\n",
        "force update 25.377929"
       ]
      },
      {
       "output_type": "stream",
       "stream": "stdout",
       "text": [
        "\n",
        "second momemtum update 0.015456\n",
        "first momemtum update 0.012306\n",
        "position update 0.016214\n",
        "force update 25.261861"
       ]
      },
      {
       "output_type": "stream",
       "stream": "stdout",
       "text": [
        "\n",
        "second momemtum update 0.012456\n",
        "first momemtum update 0.015879\n",
        "position update 0.015959\n",
        "force update 25.693080"
       ]
      },
      {
       "output_type": "stream",
       "stream": "stdout",
       "text": [
        "\n",
        "second momemtum update 0.012926\n",
        "first momemtum update 0.012309\n",
        "position update 0.014706\n",
        "force update 24.277113"
       ]
      },
      {
       "output_type": "stream",
       "stream": "stdout",
       "text": [
        "\n",
        "second momemtum update 0.012338\n",
        "first momemtum update 0.012363\n",
        "position update 0.014936\n",
        "force update 24.070509"
       ]
      },
      {
       "output_type": "stream",
       "stream": "stdout",
       "text": [
        "\n",
        "second momemtum update 0.011876\n",
        "first momemtum update 0.012329\n",
        "position update 0.014785\n",
        "force update 23.915546"
       ]
      },
      {
       "output_type": "stream",
       "stream": "stdout",
       "text": [
        "\n",
        "second momemtum update 0.011988\n",
        "first momemtum update 0.012434\n",
        "position update 0.014546\n",
        "force update 23.666735"
       ]
      },
      {
       "output_type": "stream",
       "stream": "stdout",
       "text": [
        "\n",
        "second momemtum update 0.014883\n",
        "first momemtum update 0.018019\n",
        "position update 0.014290\n",
        "force update 24.461015"
       ]
      },
      {
       "output_type": "stream",
       "stream": "stdout",
       "text": [
        "\n",
        "second momemtum update 0.014184\n",
        "first momemtum update 0.012654\n",
        "position update 0.015738\n",
        "force update 24.183626"
       ]
      },
      {
       "output_type": "stream",
       "stream": "stdout",
       "text": [
        "\n",
        "second momemtum update 0.017355\n",
        "first momemtum update 0.017984\n",
        "position update 0.022082"
       ]
      },
      {
       "output_type": "stream",
       "stream": "stdout",
       "text": [
        "\n",
        "force update 25.082394"
       ]
      },
      {
       "output_type": "stream",
       "stream": "stdout",
       "text": [
        "\n",
        "second momemtum update 0.011933\n",
        "first momemtum update 0.011973\n",
        "position update 0.015942\n",
        "force update 25.076705"
       ]
      },
      {
       "output_type": "stream",
       "stream": "stdout",
       "text": [
        "\n",
        "second momemtum update 0.013281\n",
        "first momemtum update 0.014537\n",
        "position update 0.014701\n",
        "force update 25.322958"
       ]
      },
      {
       "output_type": "stream",
       "stream": "stdout",
       "text": [
        "\n",
        "second momemtum update 0.021320\n",
        "first momemtum update 0.015100\n",
        "position update 0.016006"
       ]
      },
      {
       "output_type": "stream",
       "stream": "stdout",
       "text": [
        "\n",
        "force update 26.206386"
       ]
      },
      {
       "output_type": "stream",
       "stream": "stdout",
       "text": [
        "\n",
        "second momemtum update 0.013054\n",
        "first momemtum update 0.013036\n",
        "position update 0.014510\n",
        "force update 24.220302"
       ]
      },
      {
       "output_type": "stream",
       "stream": "stdout",
       "text": [
        "\n",
        "second momemtum update 0.015897\n",
        "first momemtum update 0.012070\n",
        "position update 0.017806\n",
        "force update 24.172376"
       ]
      },
      {
       "output_type": "stream",
       "stream": "stdout",
       "text": [
        "\n",
        "second momemtum update 0.017010\n",
        "first momemtum update 0.012021\n",
        "position update 0.017096\n",
        "force update 23.349287"
       ]
      },
      {
       "output_type": "stream",
       "stream": "stdout",
       "text": [
        "\n",
        "second momemtum update 0.011855\n",
        "first momemtum update 0.011988\n",
        "position update 0.014540\n",
        "force update 23.037412"
       ]
      },
      {
       "output_type": "stream",
       "stream": "stdout",
       "text": [
        "\n",
        "second momemtum update 0.012099\n",
        "first momemtum update 0.012124\n",
        "position update 0.014609\n",
        "force update 22.634665"
       ]
      },
      {
       "output_type": "stream",
       "stream": "stdout",
       "text": [
        "\n",
        "second momemtum update 0.014718\n",
        "first momemtum update 0.012151\n",
        "position update 0.014558\n",
        "force update 22.626989"
       ]
      },
      {
       "output_type": "stream",
       "stream": "stdout",
       "text": [
        "\n",
        "second momemtum update 0.013448\n",
        "first momemtum update 0.011743\n",
        "position update 0.014535\n",
        "force update 23.628815"
       ]
      },
      {
       "output_type": "stream",
       "stream": "stdout",
       "text": [
        "\n",
        "second momemtum update 0.013967\n",
        "first momemtum update 0.011996\n",
        "position update 0.014540\n",
        "force update 24.023822"
       ]
      },
      {
       "output_type": "stream",
       "stream": "stdout",
       "text": [
        "\n",
        "second momemtum update 0.012627\n",
        "first momemtum update 0.011974\n",
        "position update 0.015568\n",
        "force update 22.710635"
       ]
      },
      {
       "output_type": "stream",
       "stream": "stdout",
       "text": [
        "\n",
        "second momemtum update 0.013876\n",
        "first momemtum update 0.012097\n",
        "position update 0.014547\n",
        "force update 22.483840"
       ]
      },
      {
       "output_type": "stream",
       "stream": "stdout",
       "text": [
        "\n",
        "second momemtum update 0.013778\n",
        "first momemtum update 0.012036\n",
        "position update 0.014522\n",
        "force update 22.410939"
       ]
      },
      {
       "output_type": "stream",
       "stream": "stdout",
       "text": [
        "\n",
        "second momemtum update 0.016506\n",
        "first momemtum update 0.017717\n",
        "position update 0.014716\n",
        "force update 22.377347"
       ]
      },
      {
       "output_type": "stream",
       "stream": "stdout",
       "text": [
        "\n",
        "second momemtum update 0.012081\n",
        "first momemtum update 0.012090\n",
        "position update 0.014613\n",
        "force update 22.373449"
       ]
      },
      {
       "output_type": "stream",
       "stream": "stdout",
       "text": [
        "\n",
        "second momemtum update 0.011822\n",
        "first momemtum update 0.011900\n",
        "position update 0.014543\n",
        "force update 22.397607"
       ]
      },
      {
       "output_type": "stream",
       "stream": "stdout",
       "text": [
        "\n",
        "second momemtum update 0.012182\n",
        "first momemtum update 0.011900\n",
        "position update 0.014437\n",
        "force update 22.671616"
       ]
      },
      {
       "output_type": "stream",
       "stream": "stdout",
       "text": [
        "\n",
        "second momemtum update 0.011897\n",
        "first momemtum update 0.011863\n",
        "position update 0.014721\n",
        "force update 22.377017"
       ]
      },
      {
       "output_type": "stream",
       "stream": "stdout",
       "text": [
        "\n",
        "second momemtum update 0.012210\n",
        "first momemtum update 0.012775\n",
        "position update 0.014655\n",
        "force update 22.448460"
       ]
      },
      {
       "output_type": "stream",
       "stream": "stdout",
       "text": [
        "\n",
        "second momemtum update 0.012146\n",
        "first momemtum update 0.012092\n",
        "position update 0.014426\n",
        "force update 23.324005"
       ]
      },
      {
       "output_type": "stream",
       "stream": "stdout",
       "text": [
        "\n",
        "second momemtum update 0.013766\n",
        "first momemtum update 0.012053\n",
        "position update 0.016356\n",
        "force update 28.093172"
       ]
      },
      {
       "output_type": "stream",
       "stream": "stdout",
       "text": [
        "\n",
        "second momemtum update 0.012573\n",
        "first momemtum update 0.013973\n",
        "position update 0.026459"
       ]
      },
      {
       "output_type": "stream",
       "stream": "stdout",
       "text": [
        "\n",
        "force update 25.818278"
       ]
      },
      {
       "output_type": "stream",
       "stream": "stdout",
       "text": [
        "\n",
        "second momemtum update 0.014887\n",
        "first momemtum update 0.012220\n",
        "position update 0.014479\n",
        "force update 24.581431"
       ]
      },
      {
       "output_type": "stream",
       "stream": "stdout",
       "text": [
        "\n",
        "second momemtum update 0.012849\n",
        "first momemtum update 0.012131\n",
        "position update 0.016248\n",
        "force update 25.506748"
       ]
      },
      {
       "output_type": "stream",
       "stream": "stdout",
       "text": [
        "\n",
        "second momemtum update 0.012163\n",
        "first momemtum update 0.012106\n",
        "position update 0.014647\n",
        "force update 23.618647"
       ]
      },
      {
       "output_type": "stream",
       "stream": "stdout",
       "text": [
        "\n",
        "second momemtum update 0.012054\n",
        "first momemtum update 0.011965\n",
        "position update 0.014303\n",
        "force update 22.622706"
       ]
      },
      {
       "output_type": "stream",
       "stream": "stdout",
       "text": [
        "\n",
        "second momemtum update 0.012237\n",
        "first momemtum update 0.012063\n",
        "position update 0.014516\n",
        "force update 22.432279"
       ]
      },
      {
       "output_type": "stream",
       "stream": "stdout",
       "text": [
        "\n",
        "second momemtum update 0.011829\n",
        "first momemtum update 0.011969\n",
        "position update 0.014567\n",
        "force update 22.593807"
       ]
      },
      {
       "output_type": "stream",
       "stream": "stdout",
       "text": [
        "\n",
        "second momemtum update 0.011961\n",
        "first momemtum update 0.012001\n",
        "position update 0.014670\n",
        "force update 22.705887"
       ]
      },
      {
       "output_type": "stream",
       "stream": "stdout",
       "text": [
        "\n",
        "second momemtum update 0.014112\n",
        "first momemtum update 0.011780\n",
        "position update 0.014407\n",
        "force update 22.579792"
       ]
      },
      {
       "output_type": "stream",
       "stream": "stdout",
       "text": [
        "\n",
        "second momemtum update 0.012700\n",
        "first momemtum update 0.012190\n",
        "position update 0.014710\n",
        "force update 23.098770"
       ]
      },
      {
       "output_type": "stream",
       "stream": "stdout",
       "text": [
        "\n",
        "second momemtum update 0.011931\n",
        "first momemtum update 0.012693\n",
        "position update 0.014443\n",
        "force update 22.468444"
       ]
      },
      {
       "output_type": "stream",
       "stream": "stdout",
       "text": [
        "\n",
        "second momemtum update 0.012051\n",
        "first momemtum update 0.012135\n",
        "position update 0.014808\n",
        "force update 22.441530"
       ]
      },
      {
       "output_type": "stream",
       "stream": "stdout",
       "text": [
        "\n",
        "second momemtum update 0.011975\n",
        "first momemtum update 0.011737\n",
        "position update 0.014433\n",
        "force update 22.586217"
       ]
      },
      {
       "output_type": "stream",
       "stream": "stdout",
       "text": [
        "\n",
        "second momemtum update 0.014967\n",
        "first momemtum update 0.014108\n",
        "position update 0.014641\n",
        "force update 23.088849"
       ]
      },
      {
       "output_type": "stream",
       "stream": "stdout",
       "text": [
        "\n",
        "second momemtum update 0.011960\n",
        "first momemtum update 0.011888\n",
        "position update 0.030859"
       ]
      },
      {
       "output_type": "stream",
       "stream": "stdout",
       "text": [
        "\n",
        "force update 23.406024"
       ]
      },
      {
       "output_type": "stream",
       "stream": "stdout",
       "text": [
        "\n",
        "second momemtum update 0.010953\n",
        "first momemtum update 0.011985\n",
        "position update 0.014555\n",
        "force update 22.526979"
       ]
      },
      {
       "output_type": "stream",
       "stream": "stdout",
       "text": [
        "\n",
        "second momemtum update 0.020438\n",
        "first momemtum update 0.014945\n",
        "position update 0.014846"
       ]
      },
      {
       "output_type": "stream",
       "stream": "stdout",
       "text": [
        "\n",
        "force update 22.651946"
       ]
      },
      {
       "output_type": "stream",
       "stream": "stdout",
       "text": [
        "\n",
        "second momemtum update 0.012294\n",
        "first momemtum update 0.012027\n",
        "position update 0.014464\n",
        "force update 25.176161"
       ]
      },
      {
       "output_type": "stream",
       "stream": "stdout",
       "text": [
        "\n",
        "second momemtum update 0.011989\n",
        "first momemtum update 0.016430\n",
        "position update 0.014644\n",
        "force update 25.165742"
       ]
      },
      {
       "output_type": "stream",
       "stream": "stdout",
       "text": [
        "\n",
        "second momemtum update 0.015211\n",
        "first momemtum update 0.012130\n",
        "position update 0.014370\n",
        "force update 24.459983"
       ]
      },
      {
       "output_type": "stream",
       "stream": "stdout",
       "text": [
        "\n",
        "second momemtum update 0.013516\n",
        "first momemtum update 0.015623\n",
        "position update 0.016128\n",
        "force update 25.406526"
       ]
      },
      {
       "output_type": "stream",
       "stream": "stdout",
       "text": [
        "\n",
        "second momemtum update 0.012276\n",
        "first momemtum update 0.013775\n",
        "position update 0.017877\n",
        "force update 25.147777"
       ]
      },
      {
       "output_type": "stream",
       "stream": "stdout",
       "text": [
        "\n",
        "second momemtum update 0.014204\n",
        "first momemtum update 0.012065\n",
        "position update 0.016248\n",
        "force update 25.159135"
       ]
      },
      {
       "output_type": "stream",
       "stream": "stdout",
       "text": [
        "\n",
        "second momemtum update 0.014586\n",
        "first momemtum update 0.011980\n",
        "position update 0.017008\n",
        "force update 25.203397"
       ]
      },
      {
       "output_type": "stream",
       "stream": "stdout",
       "text": [
        "\n",
        "second momemtum update 0.012558\n",
        "first momemtum update 0.012418\n",
        "position update 0.016071\n",
        "force update 25.054841"
       ]
      },
      {
       "output_type": "stream",
       "stream": "stdout",
       "text": [
        "\n",
        "second momemtum update 0.013668\n",
        "first momemtum update 0.012026\n",
        "position update 0.016621\n",
        "force update 24.742749"
       ]
      },
      {
       "output_type": "stream",
       "stream": "stdout",
       "text": [
        "\n",
        "second momemtum update 0.017537\n",
        "first momemtum update 0.012009\n",
        "position update 0.016297\n",
        "force update 24.020147"
       ]
      },
      {
       "output_type": "stream",
       "stream": "stdout",
       "text": [
        "\n",
        "second momemtum update 0.012688\n",
        "first momemtum update 0.012005\n",
        "position update 0.015103\n",
        "force update 23.045643"
       ]
      },
      {
       "output_type": "stream",
       "stream": "stdout",
       "text": [
        "\n",
        "second momemtum update 0.013807\n",
        "first momemtum update 0.012133\n",
        "position update 0.014655\n",
        "force update 23.724541"
       ]
      },
      {
       "output_type": "stream",
       "stream": "stdout",
       "text": [
        "\n",
        "second momemtum update 0.012962\n",
        "first momemtum update 0.011854\n",
        "position update 0.014704\n",
        "force update 23.990108"
       ]
      },
      {
       "output_type": "stream",
       "stream": "stdout",
       "text": [
        "\n",
        "second momemtum update 0.016001\n",
        "first momemtum update 0.012409\n",
        "position update 0.016693\n",
        "force update 24.642866"
       ]
      },
      {
       "output_type": "stream",
       "stream": "stdout",
       "text": [
        "\n",
        "second momemtum update 0.012033\n",
        "first momemtum update 0.011995\n",
        "position update 0.014520\n",
        "force update 23.120867"
       ]
      },
      {
       "output_type": "stream",
       "stream": "stdout",
       "text": [
        "\n",
        "second momemtum update 0.012107\n",
        "first momemtum update 0.011811\n",
        "position update 0.015376\n",
        "force update 24.015487"
       ]
      },
      {
       "output_type": "stream",
       "stream": "stdout",
       "text": [
        "\n",
        "second momemtum update 0.012321\n",
        "first momemtum update 0.013747\n",
        "position update 0.016247\n",
        "force update 25.869115"
       ]
      },
      {
       "output_type": "stream",
       "stream": "stdout",
       "text": [
        "\n",
        "second momemtum update 0.014986\n",
        "first momemtum update 0.011909\n",
        "position update 0.017005\n",
        "force update 24.365110"
       ]
      },
      {
       "output_type": "stream",
       "stream": "stdout",
       "text": [
        "\n",
        "second momemtum update 0.012880\n",
        "first momemtum update 0.012295\n",
        "position update 0.015664\n",
        "force update 24.310088"
       ]
      },
      {
       "output_type": "stream",
       "stream": "stdout",
       "text": [
        "\n",
        "second momemtum update 0.012010\n",
        "first momemtum update 0.013549\n",
        "position update 0.015067\n",
        "force update 24.197835"
       ]
      },
      {
       "output_type": "stream",
       "stream": "stdout",
       "text": [
        "\n",
        "second momemtum update 0.014277\n",
        "first momemtum update 0.011702\n",
        "position update 0.015303\n",
        "force update 23.874250"
       ]
      },
      {
       "output_type": "stream",
       "stream": "stdout",
       "text": [
        "\n",
        "second momemtum update 0.013627\n",
        "first momemtum update 0.011903\n",
        "position update 0.014811\n",
        "force update 23.790618"
       ]
      },
      {
       "output_type": "stream",
       "stream": "stdout",
       "text": [
        "\n",
        "second momemtum update 0.011991\n",
        "first momemtum update 0.013771\n",
        "position update 0.014511\n",
        "force update 24.846338"
       ]
      },
      {
       "output_type": "stream",
       "stream": "stdout",
       "text": [
        "\n",
        "second momemtum update 0.012148\n",
        "first momemtum update 0.011889\n",
        "position update 0.016166\n",
        "force update 24.124790"
       ]
      },
      {
       "output_type": "stream",
       "stream": "stdout",
       "text": [
        "\n",
        "second momemtum update 0.011794\n",
        "first momemtum update 0.017131\n",
        "position update 0.014873\n",
        "force update 24.150758"
       ]
      },
      {
       "output_type": "stream",
       "stream": "stdout",
       "text": [
        "\n",
        "second momemtum update 0.012037\n",
        "first momemtum update 0.011840\n",
        "position update 0.014827\n",
        "force update 23.950102"
       ]
      },
      {
       "output_type": "stream",
       "stream": "stdout",
       "text": [
        "\n",
        "second momemtum update 0.012214\n",
        "first momemtum update 0.015201\n",
        "position update 0.015451\n",
        "force update 25.755583"
       ]
      },
      {
       "output_type": "stream",
       "stream": "stdout",
       "text": [
        "\n",
        "second momemtum update 0.013261\n",
        "first momemtum update 0.012080\n",
        "position update 0.018186\n",
        "force update 24.662701"
       ]
      },
      {
       "output_type": "stream",
       "stream": "stdout",
       "text": [
        "\n",
        "second momemtum update 0.011937\n",
        "first momemtum update 0.012004\n",
        "position update 0.015819\n",
        "force update 24.300837"
       ]
      },
      {
       "output_type": "stream",
       "stream": "stdout",
       "text": [
        "\n",
        "second momemtum update 0.014330\n",
        "first momemtum update 0.012022\n",
        "position update 0.016652\n",
        "force update 24.242987"
       ]
      },
      {
       "output_type": "stream",
       "stream": "stdout",
       "text": [
        "\n",
        "second momemtum update 0.012964\n",
        "first momemtum update 0.013907\n",
        "position update 0.015015\n",
        "force update 23.826430"
       ]
      },
      {
       "output_type": "stream",
       "stream": "stdout",
       "text": [
        "\n",
        "second momemtum update 0.015784\n",
        "first momemtum update 0.012312\n",
        "position update 0.016612\n",
        "force update 23.007791"
       ]
      },
      {
       "output_type": "stream",
       "stream": "stdout",
       "text": [
        "\n",
        "second momemtum update 0.014043\n",
        "first momemtum update 0.012013\n",
        "position update 0.015081\n",
        "force update 24.696799"
       ]
      },
      {
       "output_type": "stream",
       "stream": "stdout",
       "text": [
        "\n",
        "second momemtum update 0.021006\n",
        "first momemtum update 0.019068\n",
        "position update 0.022060"
       ]
      },
      {
       "output_type": "stream",
       "stream": "stdout",
       "text": [
        "\n",
        "force update 24.012767"
       ]
      },
      {
       "output_type": "stream",
       "stream": "stdout",
       "text": [
        "\n",
        "second momemtum update 0.012556\n",
        "first momemtum update 0.012306\n",
        "position update 0.016844\n",
        "force update 24.436783"
       ]
      },
      {
       "output_type": "stream",
       "stream": "stdout",
       "text": [
        "\n",
        "second momemtum update 0.020871\n",
        "first momemtum update 0.021203\n",
        "position update 0.026270"
       ]
      },
      {
       "output_type": "stream",
       "stream": "stdout",
       "text": [
        "\n",
        "force update 25.004510"
       ]
      },
      {
       "output_type": "stream",
       "stream": "stdout",
       "text": [
        "\n",
        "second momemtum update 0.014159\n",
        "first momemtum update 0.011975\n",
        "position update 0.014778\n",
        "force update 26.678812"
       ]
      },
      {
       "output_type": "stream",
       "stream": "stdout",
       "text": [
        "\n",
        "second momemtum update 0.015596\n",
        "first momemtum update 0.021524\n",
        "position update 0.018343"
       ]
      },
      {
       "output_type": "stream",
       "stream": "stdout",
       "text": [
        "\n",
        "force update 25.196155"
       ]
      },
      {
       "output_type": "stream",
       "stream": "stdout",
       "text": [
        "\n",
        "second momemtum update 0.013264\n",
        "first momemtum update 0.012167\n",
        "position update 0.014870\n",
        "force update 24.633921"
       ]
      },
      {
       "output_type": "stream",
       "stream": "stdout",
       "text": [
        "\n",
        "second momemtum update 0.012925\n",
        "first momemtum update 0.015275\n",
        "position update 0.016568\n",
        "force update 25.241751"
       ]
      },
      {
       "output_type": "stream",
       "stream": "stdout",
       "text": [
        "\n",
        "second momemtum update 0.011823\n",
        "first momemtum update 0.012943\n",
        "position update 0.015457\n",
        "force update 24.451188"
       ]
      },
      {
       "output_type": "stream",
       "stream": "stdout",
       "text": [
        "\n",
        "second momemtum update 0.014648\n",
        "first momemtum update 0.014404\n",
        "position update 0.016840\n",
        "force update 24.620015"
       ]
      },
      {
       "output_type": "stream",
       "stream": "stdout",
       "text": [
        "\n",
        "second momemtum update 0.012091\n",
        "first momemtum update 0.013583\n",
        "position update 0.015127\n",
        "force update 26.588090"
       ]
      },
      {
       "output_type": "stream",
       "stream": "stdout",
       "text": [
        "\n",
        "second momemtum update 0.016094\n",
        "first momemtum update 0.013237\n",
        "position update 0.018952\n",
        "force update 25.705573"
       ]
      },
      {
       "output_type": "stream",
       "stream": "stdout",
       "text": [
        "\n",
        "second momemtum update 0.012347\n",
        "first momemtum update 0.014219\n",
        "position update 0.014876\n",
        "force update 23.944952"
       ]
      },
      {
       "output_type": "stream",
       "stream": "stdout",
       "text": [
        "\n",
        "second momemtum update 0.013951\n",
        "first momemtum update 0.011960\n",
        "position update 0.016653\n",
        "force update 24.032140"
       ]
      },
      {
       "output_type": "stream",
       "stream": "stdout",
       "text": [
        "\n",
        "second momemtum update 0.012122\n",
        "first momemtum update 0.012985\n",
        "position update 0.015024"
       ]
      },
      {
       "output_type": "stream",
       "stream": "stdout",
       "text": [
        "\n",
        "force update 23.260320"
       ]
      },
      {
       "output_type": "stream",
       "stream": "stdout",
       "text": [
        "\n",
        "second momemtum update 0.013334\n",
        "first momemtum update 0.013524\n",
        "position update 0.015299\n",
        "force update 23.171298"
       ]
      },
      {
       "output_type": "stream",
       "stream": "stdout",
       "text": [
        "\n",
        "second momemtum update 0.015142\n",
        "first momemtum update 0.011987\n",
        "position update 0.014920\n",
        "force update 22.839006"
       ]
      },
      {
       "output_type": "stream",
       "stream": "stdout",
       "text": [
        "\n",
        "second momemtum update 0.012142\n",
        "first momemtum update 0.011887\n",
        "position update 0.016953\n",
        "force update 25.003452"
       ]
      },
      {
       "output_type": "stream",
       "stream": "stdout",
       "text": [
        "\n",
        "second momemtum update 0.011995\n",
        "first momemtum update 0.011994\n",
        "position update 0.016766\n",
        "force update 24.878095"
       ]
      },
      {
       "output_type": "stream",
       "stream": "stdout",
       "text": [
        "\n",
        "second momemtum update 0.014054\n",
        "first momemtum update 0.013811\n",
        "position update 0.015255\n",
        "force update 24.633265"
       ]
      },
      {
       "output_type": "stream",
       "stream": "stdout",
       "text": [
        "\n",
        "second momemtum update 0.013761\n",
        "first momemtum update 0.011938\n",
        "position update 0.016394\n",
        "force update 24.045669"
       ]
      },
      {
       "output_type": "stream",
       "stream": "stdout",
       "text": [
        "\n",
        "second momemtum update 0.012987\n",
        "first momemtum update 0.011982\n",
        "position update 0.016843\n",
        "force update 24.389780"
       ]
      },
      {
       "output_type": "stream",
       "stream": "stdout",
       "text": [
        "\n",
        "second momemtum update 0.011893\n",
        "first momemtum update 0.012036\n",
        "position update 0.016765\n",
        "force update 24.652013"
       ]
      },
      {
       "output_type": "stream",
       "stream": "stdout",
       "text": [
        "\n",
        "second momemtum update 0.013510\n",
        "first momemtum update 0.011982\n",
        "position update 0.016669\n",
        "force update 24.324809"
       ]
      },
      {
       "output_type": "stream",
       "stream": "stdout",
       "text": [
        "\n",
        "second momemtum update 0.013804\n",
        "first momemtum update 0.011916\n",
        "position update 0.016604\n",
        "force update 24.241112"
       ]
      },
      {
       "output_type": "stream",
       "stream": "stdout",
       "text": [
        "\n",
        "second momemtum update 0.012924\n",
        "first momemtum update 0.012059\n",
        "position update 0.016728\n",
        "force update 24.300749"
       ]
      },
      {
       "output_type": "stream",
       "stream": "stdout",
       "text": [
        "\n",
        "second momemtum update 0.012108\n",
        "first momemtum update 0.011997\n",
        "position update 0.015113\n",
        "force update 23.794565"
       ]
      },
      {
       "output_type": "stream",
       "stream": "stdout",
       "text": [
        "\n",
        "second momemtum update 0.013982\n",
        "first momemtum update 0.012223\n",
        "position update 0.015133\n",
        "force update 24.025900"
       ]
      },
      {
       "output_type": "stream",
       "stream": "stdout",
       "text": [
        "\n",
        "second momemtum update 0.012251\n",
        "first momemtum update 0.014408\n",
        "position update 0.015492\n",
        "force update 24.460934"
       ]
      },
      {
       "output_type": "stream",
       "stream": "stdout",
       "text": [
        "\n",
        "second momemtum update 0.012264\n",
        "first momemtum update 0.013945\n",
        "position update 0.015020\n",
        "force update 25.179696"
       ]
      },
      {
       "output_type": "stream",
       "stream": "stdout",
       "text": [
        "\n",
        "second momemtum update 0.016091\n",
        "first momemtum update 0.011969\n",
        "position update 0.015802\n",
        "force update 24.320871"
       ]
      },
      {
       "output_type": "stream",
       "stream": "stdout",
       "text": [
        "\n",
        "second momemtum update 0.012410\n",
        "first momemtum update 0.011998\n",
        "position update 0.015198\n",
        "force update 27.014757"
       ]
      },
      {
       "output_type": "stream",
       "stream": "stdout",
       "text": [
        "\n",
        "second momemtum update 0.013486\n",
        "first momemtum update 0.022002\n",
        "position update 0.024964"
       ]
      },
      {
       "output_type": "stream",
       "stream": "stdout",
       "text": [
        "\n",
        "force update 32.177563"
       ]
      },
      {
       "output_type": "stream",
       "stream": "stdout",
       "text": [
        "\n",
        "second momemtum update 0.011887\n",
        "first momemtum update 0.011794\n",
        "position update 0.015128\n",
        "force update 25.920742"
       ]
      },
      {
       "output_type": "stream",
       "stream": "stdout",
       "text": [
        "\n",
        "second momemtum update 0.014937\n",
        "first momemtum update 0.012669\n",
        "position update 0.016522\n",
        "force update 32.326199"
       ]
      },
      {
       "output_type": "stream",
       "stream": "stdout",
       "text": [
        "\n",
        "second momemtum update 0.012995\n",
        "first momemtum update 0.013149\n",
        "position update 0.015342\n",
        "force update 28.157713"
       ]
      },
      {
       "output_type": "stream",
       "stream": "stdout",
       "text": [
        "\n",
        "second momemtum update 0.014610\n",
        "first momemtum update 0.012992\n",
        "position update 0.016781\n",
        "force update 27.212142"
       ]
      },
      {
       "output_type": "stream",
       "stream": "stdout",
       "text": [
        "\n",
        "second momemtum update 0.016548\n",
        "first momemtum update 0.012933\n",
        "position update 0.016196\n",
        "force update 27.892578"
       ]
      },
      {
       "output_type": "stream",
       "stream": "stdout",
       "text": [
        "\n",
        "second momemtum update 0.016237\n",
        "first momemtum update 0.019589\n",
        "position update 0.017823"
       ]
      },
      {
       "output_type": "stream",
       "stream": "stdout",
       "text": [
        "\n",
        "force update 26.912690"
       ]
      },
      {
       "output_type": "stream",
       "stream": "stdout",
       "text": [
        "\n",
        "second momemtum update 0.021012\n",
        "first momemtum update 0.021878\n",
        "position update 0.025927"
       ]
      },
      {
       "output_type": "stream",
       "stream": "stdout",
       "text": [
        "\n",
        "force update 25.472298"
       ]
      },
      {
       "output_type": "stream",
       "stream": "stdout",
       "text": [
        "\n",
        "second momemtum update 0.013195\n",
        "first momemtum update 0.012972\n",
        "position update 0.015169\n",
        "force update 27.770221"
       ]
      },
      {
       "output_type": "stream",
       "stream": "stdout",
       "text": [
        "\n",
        "second momemtum update 0.016905\n",
        "first momemtum update 0.012611\n",
        "position update 0.015010\n",
        "force update 26.442063"
       ]
      },
      {
       "output_type": "stream",
       "stream": "stdout",
       "text": [
        "\n",
        "second momemtum update 0.013403\n",
        "first momemtum update 0.012690\n",
        "position update 0.015262\n",
        "force update 28.265444"
       ]
      },
      {
       "output_type": "stream",
       "stream": "stdout",
       "text": [
        "\n",
        "second momemtum update 0.024473\n",
        "first momemtum update 0.024496\n",
        "position update 0.028430"
       ]
      },
      {
       "output_type": "stream",
       "stream": "stdout",
       "text": [
        "\n",
        "force update 32.874948"
       ]
      },
      {
       "output_type": "stream",
       "stream": "stdout",
       "text": [
        "\n",
        "second momemtum update 0.015350\n",
        "first momemtum update 0.012894\n",
        "position update 0.023056"
       ]
      },
      {
       "output_type": "stream",
       "stream": "stdout",
       "text": [
        "\n",
        "force update 32.281613"
       ]
      },
      {
       "output_type": "stream",
       "stream": "stdout",
       "text": [
        "\n",
        "second momemtum update 0.024659\n",
        "first momemtum update 0.017030\n",
        "position update 0.015936"
       ]
      },
      {
       "output_type": "stream",
       "stream": "stdout",
       "text": [
        "\n",
        "force update 30.450214"
       ]
      },
      {
       "output_type": "stream",
       "stream": "stdout",
       "text": [
        "\n",
        "second momemtum update 0.019251\n",
        "first momemtum update 0.013945\n",
        "position update 0.016650"
       ]
      },
      {
       "output_type": "stream",
       "stream": "stdout",
       "text": [
        "\n",
        "force update 31.412565"
       ]
      },
      {
       "output_type": "stream",
       "stream": "stdout",
       "text": [
        "\n",
        "second momemtum update 0.024938\n",
        "first momemtum update 0.013624\n",
        "position update 0.015339"
       ]
      },
      {
       "output_type": "stream",
       "stream": "stdout",
       "text": [
        "\n",
        "force update 31.555373"
       ]
      },
      {
       "output_type": "stream",
       "stream": "stdout",
       "text": [
        "\n",
        "second momemtum update 0.016162\n",
        "first momemtum update 0.013425\n",
        "position update 0.016147\n",
        "force update 31.004219"
       ]
      },
      {
       "output_type": "stream",
       "stream": "stdout",
       "text": [
        "\n",
        "second momemtum update 0.015759\n",
        "first momemtum update 0.013213\n",
        "position update 0.035144"
       ]
      },
      {
       "output_type": "stream",
       "stream": "stdout",
       "text": [
        "\n",
        "force update 31.688660"
       ]
      },
      {
       "output_type": "stream",
       "stream": "stdout",
       "text": [
        "\n",
        "second momemtum update 0.015347\n",
        "first momemtum update 0.021178\n",
        "position update 0.018069"
       ]
      },
      {
       "output_type": "stream",
       "stream": "stdout",
       "text": [
        "\n",
        "force update 32.374346"
       ]
      },
      {
       "output_type": "stream",
       "stream": "stdout",
       "text": [
        "\n",
        "second momemtum update 0.019979\n",
        "first momemtum update 0.021787\n",
        "position update 0.023010"
       ]
      },
      {
       "output_type": "stream",
       "stream": "stdout",
       "text": [
        "\n",
        "force update 35.334930"
       ]
      },
      {
       "output_type": "stream",
       "stream": "stdout",
       "text": [
        "\n",
        "second momemtum update 0.031078\n",
        "first momemtum update 0.018680\n",
        "position update 0.020256"
       ]
      },
      {
       "output_type": "stream",
       "stream": "stdout",
       "text": [
        "\n",
        "force update 30.369650"
       ]
      },
      {
       "output_type": "stream",
       "stream": "stdout",
       "text": [
        "\n",
        "second momemtum update 0.013881\n",
        "first momemtum update 0.015070\n",
        "position update 0.022249"
       ]
      },
      {
       "output_type": "stream",
       "stream": "stdout",
       "text": [
        "\n",
        "force update 33.636151"
       ]
      },
      {
       "output_type": "stream",
       "stream": "stdout",
       "text": [
        "\n",
        "second momemtum update 0.017634\n",
        "first momemtum update 0.016271\n",
        "position update 0.019571"
       ]
      },
      {
       "output_type": "stream",
       "stream": "stdout",
       "text": [
        "\n",
        "force update 31.651101"
       ]
      },
      {
       "output_type": "stream",
       "stream": "stdout",
       "text": [
        "\n",
        "second momemtum update 0.013899\n",
        "first momemtum update 0.016879\n",
        "position update 0.018779\n",
        "force update 33.429189"
       ]
      },
      {
       "output_type": "stream",
       "stream": "stdout",
       "text": [
        "\n",
        "second momemtum update 0.022811\n",
        "first momemtum update 0.021867\n",
        "position update 0.025862"
       ]
      },
      {
       "output_type": "stream",
       "stream": "stdout",
       "text": [
        "\n",
        "force update 33.029927"
       ]
      },
      {
       "output_type": "stream",
       "stream": "stdout",
       "text": [
        "\n",
        "second momemtum update 0.022941\n",
        "first momemtum update 0.022399\n",
        "position update 0.026144"
       ]
      },
      {
       "output_type": "stream",
       "stream": "stdout",
       "text": [
        "\n",
        "force update 35.361958"
       ]
      },
      {
       "output_type": "stream",
       "stream": "stdout",
       "text": [
        "\n",
        "second momemtum update 0.017485\n",
        "first momemtum update 0.023090\n",
        "position update 0.028236"
       ]
      },
      {
       "output_type": "stream",
       "stream": "stdout",
       "text": [
        "\n",
        "force update 33.114894"
       ]
      },
      {
       "output_type": "stream",
       "stream": "stdout",
       "text": [
        "\n",
        "second momemtum update 0.015036\n",
        "first momemtum update 0.013262\n",
        "position update 0.019719\n",
        "force update 34.716616"
       ]
      },
      {
       "output_type": "stream",
       "stream": "stdout",
       "text": [
        "\n",
        "second momemtum update 0.016533\n",
        "first momemtum update 0.019639\n",
        "position update 0.022727"
       ]
      },
      {
       "output_type": "stream",
       "stream": "stdout",
       "text": [
        "\n",
        "force update 32.966100"
       ]
      },
      {
       "output_type": "stream",
       "stream": "stdout",
       "text": [
        "\n",
        "second momemtum update 0.019403\n",
        "first momemtum update 0.021224\n",
        "position update 0.019357"
       ]
      },
      {
       "output_type": "stream",
       "stream": "stdout",
       "text": [
        "\n",
        "force update 33.372842"
       ]
      },
      {
       "output_type": "stream",
       "stream": "stdout",
       "text": [
        "\n",
        "second momemtum update 0.018089\n",
        "first momemtum update 0.014616\n",
        "position update 0.018887"
       ]
      },
      {
       "output_type": "stream",
       "stream": "stdout",
       "text": [
        "\n",
        "force update 32.847683"
       ]
      },
      {
       "output_type": "stream",
       "stream": "stdout",
       "text": [
        "\n",
        "second momemtum update 0.017935\n",
        "first momemtum update 0.016989\n",
        "position update 0.018297"
       ]
      },
      {
       "output_type": "stream",
       "stream": "stdout",
       "text": [
        "\n",
        "force update 30.440228"
       ]
      },
      {
       "output_type": "stream",
       "stream": "stdout",
       "text": [
        "\n",
        "second momemtum update 0.017832\n",
        "first momemtum update 0.020535\n",
        "position update 0.024612"
       ]
      },
      {
       "output_type": "stream",
       "stream": "stdout",
       "text": [
        "\n",
        "force update 32.458245"
       ]
      },
      {
       "output_type": "stream",
       "stream": "stdout",
       "text": [
        "\n",
        "second momemtum update 0.022452\n",
        "first momemtum update 0.020451\n",
        "position update 0.020868"
       ]
      },
      {
       "output_type": "stream",
       "stream": "stdout",
       "text": [
        "\n",
        "force update 34.085404"
       ]
      },
      {
       "output_type": "stream",
       "stream": "stdout",
       "text": [
        "\n",
        "second momemtum update 0.014297\n",
        "first momemtum update 0.018641\n",
        "position update 0.026704"
       ]
      },
      {
       "output_type": "stream",
       "stream": "stdout",
       "text": [
        "\n",
        "force update 30.337548"
       ]
      },
      {
       "output_type": "stream",
       "stream": "stdout",
       "text": [
        "\n",
        "second momemtum update 0.016143\n",
        "first momemtum update 0.014769\n",
        "position update 0.019595"
       ]
      },
      {
       "output_type": "stream",
       "stream": "stdout",
       "text": [
        "\n",
        "force update 30.433397"
       ]
      },
      {
       "output_type": "stream",
       "stream": "stdout",
       "text": [
        "\n",
        "second momemtum update 0.019117\n",
        "first momemtum update 0.013283\n",
        "position update 0.017823"
       ]
      },
      {
       "output_type": "stream",
       "stream": "stdout",
       "text": [
        "\n",
        "force update 31.019295"
       ]
      },
      {
       "output_type": "stream",
       "stream": "stdout",
       "text": [
        "\n",
        "second momemtum update 0.018652\n",
        "first momemtum update 0.023780\n",
        "position update 0.026425"
       ]
      },
      {
       "output_type": "stream",
       "stream": "stdout",
       "text": [
        "\n",
        "force update 31.256627"
       ]
      },
      {
       "output_type": "stream",
       "stream": "stdout",
       "text": [
        "\n",
        "second momemtum update 0.017333\n",
        "first momemtum update 0.017481\n",
        "position update 0.016504"
       ]
      },
      {
       "output_type": "stream",
       "stream": "stdout",
       "text": [
        "\n",
        "force update 30.538567"
       ]
      },
      {
       "output_type": "stream",
       "stream": "stdout",
       "text": [
        "\n",
        "second momemtum update 0.016816\n",
        "first momemtum update 0.019786\n",
        "position update 0.021254"
       ]
      },
      {
       "output_type": "stream",
       "stream": "stdout",
       "text": [
        "\n",
        "force update 32.376772"
       ]
      },
      {
       "output_type": "stream",
       "stream": "stdout",
       "text": [
        "\n",
        "second momemtum update 0.017927\n",
        "first momemtum update 0.019456\n",
        "position update 0.016497"
       ]
      },
      {
       "output_type": "stream",
       "stream": "stdout",
       "text": [
        "\n",
        "force update 33.656172"
       ]
      },
      {
       "output_type": "stream",
       "stream": "stdout",
       "text": [
        "\n",
        "second momemtum update 0.023771\n",
        "first momemtum update 0.025165"
       ]
      },
      {
       "output_type": "stream",
       "stream": "stdout",
       "text": [
        "\n",
        "position update 0.027064\n",
        "force update 33.460177"
       ]
      },
      {
       "output_type": "stream",
       "stream": "stdout",
       "text": [
        "\n",
        "second momemtum update 0.017790\n",
        "first momemtum update 0.018452\n",
        "position update 0.018223"
       ]
      },
      {
       "output_type": "stream",
       "stream": "stdout",
       "text": [
        "\n",
        "force update 34.146073"
       ]
      },
      {
       "output_type": "stream",
       "stream": "stdout",
       "text": [
        "\n",
        "second momemtum update 0.020227\n",
        "first momemtum update 0.021549\n",
        "position update 0.023438"
       ]
      },
      {
       "output_type": "stream",
       "stream": "stdout",
       "text": [
        "\n",
        "force update 33.021270"
       ]
      },
      {
       "output_type": "stream",
       "stream": "stdout",
       "text": [
        "\n",
        "second momemtum update 0.016707\n",
        "first momemtum update 0.015081\n",
        "position update 0.018011"
       ]
      },
      {
       "output_type": "stream",
       "stream": "stdout",
       "text": [
        "\n",
        "force update 34.696278"
       ]
      },
      {
       "output_type": "stream",
       "stream": "stdout",
       "text": [
        "\n",
        "second momemtum update 0.012988\n",
        "first momemtum update 0.022110\n",
        "position update 0.027920"
       ]
      },
      {
       "output_type": "stream",
       "stream": "stdout",
       "text": [
        "\n",
        "force update 35.181810"
       ]
      },
      {
       "output_type": "stream",
       "stream": "stdout",
       "text": [
        "\n",
        "second momemtum update 0.023269\n",
        "first momemtum update 0.023586\n",
        "position update 0.025214"
       ]
      },
      {
       "output_type": "stream",
       "stream": "stdout",
       "text": [
        "\n",
        "force update 33.368799"
       ]
      },
      {
       "output_type": "stream",
       "stream": "stdout",
       "text": [
        "\n",
        "second momemtum update 0.019308\n",
        "first momemtum update 0.016125\n",
        "position update 0.017275"
       ]
      },
      {
       "output_type": "stream",
       "stream": "stdout",
       "text": [
        "\n",
        "force update 33.648946"
       ]
      },
      {
       "output_type": "stream",
       "stream": "stdout",
       "text": [
        "\n",
        "second momemtum update 0.015690\n",
        "first momemtum update 0.012910\n",
        "position update 0.015125\n",
        "force update 29.475481"
       ]
      },
      {
       "output_type": "stream",
       "stream": "stdout",
       "text": [
        "\n",
        "second momemtum update 0.015511\n",
        "first momemtum update 0.014876\n",
        "position update 0.015837\n",
        "force update 30.269036"
       ]
      },
      {
       "output_type": "stream",
       "stream": "stdout",
       "text": [
        "\n",
        "second momemtum update 0.019183\n",
        "first momemtum update 0.014191\n",
        "position update 0.020085"
       ]
      },
      {
       "output_type": "stream",
       "stream": "stdout",
       "text": [
        "\n",
        "force update 31.979071"
       ]
      },
      {
       "output_type": "stream",
       "stream": "stdout",
       "text": [
        "\n",
        "second momemtum update 0.014703\n",
        "first momemtum update 0.014161\n",
        "position update 0.015300\n",
        "force update 28.790336"
       ]
      },
      {
       "output_type": "stream",
       "stream": "stdout",
       "text": [
        "\n",
        "second momemtum update 0.013099\n",
        "first momemtum update 0.012868\n",
        "position update 0.015021\n",
        "force update 25.826436"
       ]
      },
      {
       "output_type": "stream",
       "stream": "stdout",
       "text": [
        "\n",
        "second momemtum update 0.012709\n",
        "first momemtum update 0.012583\n",
        "position update 0.015166\n",
        "force update 25.343091"
       ]
      },
      {
       "output_type": "stream",
       "stream": "stdout",
       "text": [
        "\n",
        "second momemtum update 0.013108\n",
        "first momemtum update 0.014531\n",
        "position update 0.017065\n",
        "force update 25.199729"
       ]
      },
      {
       "output_type": "stream",
       "stream": "stdout",
       "text": [
        "\n",
        "second momemtum update 0.013448\n",
        "first momemtum update 0.018905\n",
        "position update 0.021249"
       ]
      },
      {
       "output_type": "stream",
       "stream": "stdout",
       "text": [
        "\n",
        "force update 25.465196"
       ]
      },
      {
       "output_type": "stream",
       "stream": "stdout",
       "text": [
        "\n",
        "second momemtum update 0.013073\n",
        "first momemtum update 0.012938\n",
        "position update 0.015638\n",
        "force update 25.588271"
       ]
      },
      {
       "output_type": "stream",
       "stream": "stdout",
       "text": [
        "\n",
        "second momemtum update 0.013185\n",
        "first momemtum update 0.013354\n",
        "position update 0.015444\n",
        "force update 24.762088"
       ]
      },
      {
       "output_type": "stream",
       "stream": "stdout",
       "text": [
        "\n",
        "second momemtum update 0.012961\n",
        "first momemtum update 0.012658\n",
        "position update 0.014946\n",
        "force update 24.602822"
       ]
      },
      {
       "output_type": "stream",
       "stream": "stdout",
       "text": [
        "\n",
        "second momemtum update 0.013027\n",
        "first momemtum update 0.013623\n",
        "position update 0.015300\n",
        "force update 24.871261"
       ]
      },
      {
       "output_type": "stream",
       "stream": "stdout",
       "text": [
        "\n",
        "second momemtum update 0.012967\n",
        "first momemtum update 0.013218\n",
        "position update 0.015660\n",
        "force update 25.708051"
       ]
      },
      {
       "output_type": "stream",
       "stream": "stdout",
       "text": [
        "\n",
        "second momemtum update 0.015580\n",
        "first momemtum update 0.012889\n",
        "position update 0.015444\n",
        "force update 25.481402"
       ]
      },
      {
       "output_type": "stream",
       "stream": "stdout",
       "text": [
        "\n",
        "second momemtum update 0.024428\n",
        "first momemtum update 0.023393\n",
        "position update 0.028908"
       ]
      },
      {
       "output_type": "stream",
       "stream": "stdout",
       "text": [
        "\n",
        "force update 26.652834"
       ]
      },
      {
       "output_type": "stream",
       "stream": "stdout",
       "text": [
        "\n",
        "second momemtum update 0.021519\n",
        "first momemtum update 0.021465\n",
        "position update 0.025652"
       ]
      },
      {
       "output_type": "stream",
       "stream": "stdout",
       "text": [
        "\n",
        "force update 24.691806"
       ]
      },
      {
       "output_type": "stream",
       "stream": "stdout",
       "text": [
        "\n",
        "second momemtum update 0.012617\n",
        "first momemtum update 0.012857\n",
        "position update 0.015292\n",
        "force update 25.146532"
       ]
      },
      {
       "output_type": "stream",
       "stream": "stdout",
       "text": [
        "\n",
        "second momemtum update 0.012762\n",
        "first momemtum update 0.012896\n",
        "position update 0.015543\n",
        "force update 26.974704"
       ]
      },
      {
       "output_type": "stream",
       "stream": "stdout",
       "text": [
        "\n",
        "second momemtum update 0.014028\n",
        "first momemtum update 0.012761\n",
        "position update 0.015187\n",
        "force update 25.215892"
       ]
      },
      {
       "output_type": "stream",
       "stream": "stdout",
       "text": [
        "\n",
        "second momemtum update 0.016518\n",
        "first momemtum update 0.012837\n",
        "position update 0.015177\n",
        "force update 27.057831"
       ]
      },
      {
       "output_type": "stream",
       "stream": "stdout",
       "text": [
        "\n",
        "second momemtum update 0.012785\n",
        "first momemtum update 0.012758\n",
        "position update 0.015185\n",
        "force update 25.640709"
       ]
      },
      {
       "output_type": "stream",
       "stream": "stdout",
       "text": [
        "\n",
        "second momemtum update 0.015400\n",
        "first momemtum update 0.013023\n",
        "position update 0.015043\n",
        "force update 25.234510"
       ]
      },
      {
       "output_type": "stream",
       "stream": "stdout",
       "text": [
        "\n",
        "second momemtum update 0.013007\n",
        "first momemtum update 0.012982\n",
        "position update 0.015123\n",
        "force update 25.658331"
       ]
      },
      {
       "output_type": "stream",
       "stream": "stdout",
       "text": [
        "\n",
        "second momemtum update 0.012840\n",
        "first momemtum update 0.013957\n",
        "position update 0.016578\n",
        "force update 25.671688"
       ]
      },
      {
       "output_type": "stream",
       "stream": "stdout",
       "text": [
        "\n",
        "second momemtum update 0.012687\n",
        "first momemtum update 0.012738\n",
        "position update 0.015255\n",
        "force update 25.947355"
       ]
      },
      {
       "output_type": "stream",
       "stream": "stdout",
       "text": [
        "\n",
        "second momemtum update 0.015907\n",
        "first momemtum update 0.013545\n",
        "position update 0.015169\n",
        "force update 24.832952"
       ]
      },
      {
       "output_type": "stream",
       "stream": "stdout",
       "text": [
        "\n",
        "second momemtum update 0.012628\n",
        "first momemtum update 0.012721\n",
        "position update 0.015094\n",
        "force update 24.220845"
       ]
      },
      {
       "output_type": "stream",
       "stream": "stdout",
       "text": [
        "\n",
        "second momemtum update 0.012778\n",
        "first momemtum update 0.012790\n",
        "position update 0.015159\n",
        "force update 25.044512"
       ]
      },
      {
       "output_type": "stream",
       "stream": "stdout",
       "text": [
        "\n",
        "second momemtum update 0.012965\n",
        "first momemtum update 0.012871\n",
        "position update 0.015035\n",
        "force update 24.212682"
       ]
      },
      {
       "output_type": "stream",
       "stream": "stdout",
       "text": [
        "\n",
        "second momemtum update 0.012896\n",
        "first momemtum update 0.012973\n",
        "position update 0.015256\n",
        "force update 24.267426"
       ]
      },
      {
       "output_type": "stream",
       "stream": "stdout",
       "text": [
        "\n",
        "second momemtum update 0.013560\n",
        "first momemtum update 0.012948\n",
        "position update 0.015343\n",
        "force update 24.332155"
       ]
      },
      {
       "output_type": "stream",
       "stream": "stdout",
       "text": [
        "\n",
        "second momemtum update 0.012862\n",
        "first momemtum update 0.012679\n",
        "position update 0.015206\n",
        "force update 25.105692"
       ]
      },
      {
       "output_type": "stream",
       "stream": "stdout",
       "text": [
        "\n",
        "second momemtum update 0.012759\n",
        "first momemtum update 0.012978\n",
        "position update 0.015169\n",
        "force update 25.915633"
       ]
      },
      {
       "output_type": "stream",
       "stream": "stdout",
       "text": [
        "\n",
        "second momemtum update 0.012662\n",
        "first momemtum update 0.012678\n",
        "position update 0.014933\n",
        "force update 25.940702"
       ]
      },
      {
       "output_type": "stream",
       "stream": "stdout",
       "text": [
        "\n",
        "second momemtum update 0.014602\n",
        "first momemtum update 0.013449\n",
        "position update 0.015333\n",
        "force update 25.409290"
       ]
      },
      {
       "output_type": "stream",
       "stream": "stdout",
       "text": [
        "\n",
        "second momemtum update 0.021899\n",
        "first momemtum update 0.020738\n",
        "position update 0.015384"
       ]
      },
      {
       "output_type": "stream",
       "stream": "stdout",
       "text": [
        "\n",
        "force update 25.385594"
       ]
      },
      {
       "output_type": "stream",
       "stream": "stdout",
       "text": [
        "\n",
        "second momemtum update 0.012688\n",
        "first momemtum update 0.012652\n",
        "position update 0.015156\n",
        "force update 25.800838"
       ]
      },
      {
       "output_type": "stream",
       "stream": "stdout",
       "text": [
        "\n",
        "second momemtum update 0.013080\n",
        "first momemtum update 0.013059\n",
        "position update 0.015090\n",
        "force update 30.899826"
       ]
      },
      {
       "output_type": "stream",
       "stream": "stdout",
       "text": [
        "\n",
        "second momemtum update 0.012951\n",
        "first momemtum update 0.012912\n",
        "position update 0.015116\n",
        "force update 26.207908"
       ]
      },
      {
       "output_type": "stream",
       "stream": "stdout",
       "text": [
        "\n",
        "second momemtum update 0.012671\n",
        "first momemtum update 0.012608\n",
        "position update 0.015080\n",
        "force update 25.198392"
       ]
      },
      {
       "output_type": "stream",
       "stream": "stdout",
       "text": [
        "\n",
        "second momemtum update 0.012677\n",
        "first momemtum update 0.012771\n",
        "position update 0.015261\n",
        "force update 25.489785"
       ]
      },
      {
       "output_type": "stream",
       "stream": "stdout",
       "text": [
        "\n",
        "second momemtum update 0.012744\n",
        "first momemtum update 0.012901\n",
        "position update 0.015188\n",
        "force update 26.163528"
       ]
      },
      {
       "output_type": "stream",
       "stream": "stdout",
       "text": [
        "\n",
        "second momemtum update 0.012727\n",
        "first momemtum update 0.012743\n",
        "position update 0.015399\n",
        "force update 25.923847"
       ]
      },
      {
       "output_type": "stream",
       "stream": "stdout",
       "text": [
        "\n",
        "second momemtum update 0.012925\n",
        "first momemtum update 0.012913\n",
        "position update 0.015048\n",
        "force update 25.375306"
       ]
      },
      {
       "output_type": "stream",
       "stream": "stdout",
       "text": [
        "\n",
        "second momemtum update 0.012982\n",
        "first momemtum update 0.012949\n",
        "position update 0.015312\n",
        "force update 25.857784"
       ]
      },
      {
       "output_type": "stream",
       "stream": "stdout",
       "text": [
        "\n",
        "second momemtum update 0.013471\n",
        "first momemtum update 0.012916\n",
        "position update 0.016795\n",
        "force update 25.314302"
       ]
      },
      {
       "output_type": "stream",
       "stream": "stdout",
       "text": [
        "\n",
        "second momemtum update 0.012749\n",
        "first momemtum update 0.012741\n",
        "position update 0.015283\n",
        "force update 24.536662"
       ]
      },
      {
       "output_type": "stream",
       "stream": "stdout",
       "text": [
        "\n",
        "second momemtum update 0.013326\n",
        "first momemtum update 0.012823\n",
        "position update 0.016029\n",
        "force update 26.311148"
       ]
      },
      {
       "output_type": "stream",
       "stream": "stdout",
       "text": [
        "\n",
        "second momemtum update 0.012844\n",
        "first momemtum update 0.012569\n",
        "position update 0.014988\n",
        "force update 27.414581"
       ]
      },
      {
       "output_type": "stream",
       "stream": "stdout",
       "text": [
        "\n",
        "second momemtum update 0.025462\n",
        "first momemtum update 0.020550\n",
        "position update 0.017063"
       ]
      },
      {
       "output_type": "stream",
       "stream": "stdout",
       "text": [
        "\n",
        "force update 25.225237"
       ]
      },
      {
       "output_type": "stream",
       "stream": "stdout",
       "text": [
        "\n",
        "second momemtum update 0.012780\n",
        "first momemtum update 0.012599\n",
        "position update 0.015057\n",
        "force update 24.515011"
       ]
      },
      {
       "output_type": "stream",
       "stream": "stdout",
       "text": [
        "\n",
        "second momemtum update 0.015603\n",
        "first momemtum update 0.012797\n",
        "position update 0.015112\n",
        "force update 24.753550"
       ]
      },
      {
       "output_type": "stream",
       "stream": "stdout",
       "text": [
        "\n",
        "second momemtum update 0.012789\n",
        "first momemtum update 0.012938\n",
        "position update 0.015090\n",
        "force update 24.361449"
       ]
      },
      {
       "output_type": "stream",
       "stream": "stdout",
       "text": [
        "\n",
        "second momemtum update 0.013617\n",
        "first momemtum update 0.012931\n",
        "position update 0.015912\n",
        "force update 24.516173"
       ]
      },
      {
       "output_type": "stream",
       "stream": "stdout",
       "text": [
        "\n",
        "second momemtum update 0.013029\n",
        "first momemtum update 0.012952\n",
        "position update 0.015292\n",
        "force update 24.324050"
       ]
      },
      {
       "output_type": "stream",
       "stream": "stdout",
       "text": [
        "\n",
        "second momemtum update 0.012641\n",
        "first momemtum update 0.012790\n",
        "position update 0.015098\n",
        "force update 24.347544"
       ]
      },
      {
       "output_type": "stream",
       "stream": "stdout",
       "text": [
        "\n",
        "second momemtum update 0.012799\n",
        "first momemtum update 0.013007\n",
        "position update 0.015035\n",
        "force update 25.051135"
       ]
      },
      {
       "output_type": "stream",
       "stream": "stdout",
       "text": [
        "\n",
        "second momemtum update 0.012700\n",
        "first momemtum update 0.012728\n",
        "position update 0.015063\n",
        "force update 24.786588"
       ]
      },
      {
       "output_type": "stream",
       "stream": "stdout",
       "text": [
        "\n",
        "second momemtum update 0.013242\n",
        "first momemtum update 0.013190\n",
        "position update 0.015773\n",
        "force update 24.615788"
       ]
      },
      {
       "output_type": "stream",
       "stream": "stdout",
       "text": [
        "\n",
        "second momemtum update 0.013015\n",
        "first momemtum update 0.013041\n",
        "position update 0.015119\n",
        "force update 24.418999"
       ]
      },
      {
       "output_type": "stream",
       "stream": "stdout",
       "text": [
        "\n",
        "second momemtum update 0.013021\n",
        "first momemtum update 0.012752\n",
        "position update 0.015236\n",
        "force update 24.673860"
       ]
      },
      {
       "output_type": "stream",
       "stream": "stdout",
       "text": [
        "\n",
        "second momemtum update 0.013053\n",
        "first momemtum update 0.012957\n",
        "position update 0.015048\n",
        "force update 24.433716"
       ]
      },
      {
       "output_type": "stream",
       "stream": "stdout",
       "text": [
        "\n",
        "second momemtum update 0.017949\n",
        "first momemtum update 0.012774\n",
        "position update 0.016745\n",
        "force update 24.385122"
       ]
      },
      {
       "output_type": "stream",
       "stream": "stdout",
       "text": [
        "\n",
        "second momemtum update 0.014647\n",
        "first momemtum update 0.013184\n",
        "position update 0.015134\n",
        "force update 24.728988"
       ]
      },
      {
       "output_type": "stream",
       "stream": "stdout",
       "text": [
        "\n",
        "second momemtum update 0.015563\n",
        "first momemtum update 0.012589\n",
        "position update 0.015038\n",
        "force update 24.580593"
       ]
      },
      {
       "output_type": "stream",
       "stream": "stdout",
       "text": [
        "\n",
        "second momemtum update 0.012877\n",
        "first momemtum update 0.012891\n",
        "position update 0.015564\n",
        "force update 24.230159"
       ]
      },
      {
       "output_type": "stream",
       "stream": "stdout",
       "text": [
        "\n",
        "second momemtum update 0.013080\n",
        "first momemtum update 0.013033\n",
        "position update 0.015623\n",
        "force update 24.327270"
       ]
      },
      {
       "output_type": "stream",
       "stream": "stdout",
       "text": [
        "\n",
        "second momemtum update 0.013441\n",
        "first momemtum update 0.013005\n",
        "position update 0.015152\n",
        "force update 24.363579"
       ]
      },
      {
       "output_type": "stream",
       "stream": "stdout",
       "text": [
        "\n",
        "second momemtum update 0.013033\n",
        "first momemtum update 0.013015\n",
        "position update 0.015250\n",
        "force update 24.319261"
       ]
      },
      {
       "output_type": "stream",
       "stream": "stdout",
       "text": [
        "\n",
        "second momemtum update 0.012931\n",
        "first momemtum update 0.012943\n",
        "position update 0.014901\n",
        "force update 24.718406"
       ]
      },
      {
       "output_type": "stream",
       "stream": "stdout",
       "text": [
        "\n",
        "second momemtum update 0.013026\n",
        "first momemtum update 0.012657\n",
        "position update 0.015176\n",
        "force update 24.632142"
       ]
      },
      {
       "output_type": "stream",
       "stream": "stdout",
       "text": [
        "\n",
        "second momemtum update 0.017557\n",
        "first momemtum update 0.013131\n",
        "position update 0.015238\n",
        "force update 24.569578"
       ]
      },
      {
       "output_type": "stream",
       "stream": "stdout",
       "text": [
        "\n",
        "second momemtum update 0.012663\n",
        "first momemtum update 0.013018\n",
        "position update 0.015087\n",
        "force update 24.437001"
       ]
      },
      {
       "output_type": "stream",
       "stream": "stdout",
       "text": [
        "\n",
        "second momemtum update 0.012953\n",
        "first momemtum update 0.012894\n",
        "position update 0.014914\n",
        "force update 24.614457"
       ]
      },
      {
       "output_type": "stream",
       "stream": "stdout",
       "text": [
        "\n",
        "second momemtum update 0.012732\n",
        "first momemtum update 0.012609\n",
        "position update 0.014966\n",
        "force update 24.296850"
       ]
      },
      {
       "output_type": "stream",
       "stream": "stdout",
       "text": [
        "\n",
        "second momemtum update 0.012682\n",
        "first momemtum update 0.012814\n",
        "position update 0.015122\n",
        "force update 24.282447"
       ]
      },
      {
       "output_type": "stream",
       "stream": "stdout",
       "text": [
        "\n",
        "second momemtum update 0.012935\n",
        "first momemtum update 0.012876\n",
        "position update 0.015055\n",
        "force update 24.342856"
       ]
      },
      {
       "output_type": "stream",
       "stream": "stdout",
       "text": [
        "\n",
        "second momemtum update 0.016041\n",
        "first momemtum update 0.012615\n",
        "position update 0.016790\n",
        "force update 24.680736"
       ]
      },
      {
       "output_type": "stream",
       "stream": "stdout",
       "text": [
        "\n",
        "second momemtum update 0.012780\n",
        "first momemtum update 0.012778\n",
        "position update 0.015180\n",
        "force update 24.452529"
       ]
      },
      {
       "output_type": "stream",
       "stream": "stdout",
       "text": [
        "\n",
        "second momemtum update 0.016278\n",
        "first momemtum update 0.013112\n",
        "position update 0.015550\n",
        "force update 24.672036"
       ]
      },
      {
       "output_type": "stream",
       "stream": "stdout",
       "text": [
        "\n",
        "second momemtum update 0.012689\n",
        "first momemtum update 0.013425\n",
        "position update 0.015252\n",
        "force update 24.682507"
       ]
      },
      {
       "output_type": "stream",
       "stream": "stdout",
       "text": [
        "\n",
        "second momemtum update 0.012679\n",
        "first momemtum update 0.012706\n",
        "position update 0.017094\n",
        "force update 24.885097"
       ]
      },
      {
       "output_type": "stream",
       "stream": "stdout",
       "text": [
        "\n",
        "second momemtum update 0.012636\n",
        "first momemtum update 0.012598\n",
        "position update 0.015485\n",
        "force update 24.443290"
       ]
      },
      {
       "output_type": "stream",
       "stream": "stdout",
       "text": [
        "\n",
        "second momemtum update 0.012658\n",
        "first momemtum update 0.014878\n",
        "position update 0.014867\n",
        "force update 24.587505"
       ]
      },
      {
       "output_type": "stream",
       "stream": "stdout",
       "text": [
        "\n",
        "second momemtum update 0.012882\n",
        "first momemtum update 0.012874\n",
        "position update 0.015274\n",
        "force update 24.406467"
       ]
      },
      {
       "output_type": "stream",
       "stream": "stdout",
       "text": [
        "\n",
        "second momemtum update 0.012955\n",
        "first momemtum update 0.012747\n",
        "position update 0.015231\n",
        "force update 24.418014"
       ]
      },
      {
       "output_type": "stream",
       "stream": "stdout",
       "text": [
        "\n",
        "second momemtum update 0.013601\n",
        "first momemtum update 0.014933\n",
        "position update 0.015633\n",
        "force update 24.753469"
       ]
      },
      {
       "output_type": "stream",
       "stream": "stdout",
       "text": [
        "\n",
        "second momemtum update 0.013627\n",
        "first momemtum update 0.015175\n",
        "position update 0.015300\n",
        "force update 24.439024"
       ]
      },
      {
       "output_type": "stream",
       "stream": "stdout",
       "text": [
        "\n",
        "second momemtum update 0.013017\n",
        "first momemtum update 0.012974\n",
        "position update 0.015218\n",
        "force update 24.717008"
       ]
      },
      {
       "output_type": "stream",
       "stream": "stdout",
       "text": [
        "\n",
        "second momemtum update 0.012977\n",
        "first momemtum update 0.013058\n",
        "position update 0.015187\n",
        "force update 24.779797"
       ]
      },
      {
       "output_type": "stream",
       "stream": "stdout",
       "text": [
        "\n",
        "second momemtum update 0.013203\n",
        "first momemtum update 0.013299\n",
        "position update 0.015364\n",
        "force update 24.693385"
       ]
      },
      {
       "output_type": "stream",
       "stream": "stdout",
       "text": [
        "\n",
        "second momemtum update 0.012925\n",
        "first momemtum update 0.012906\n",
        "position update 0.015091\n",
        "force update 24.506231"
       ]
      },
      {
       "output_type": "stream",
       "stream": "stdout",
       "text": [
        "\n",
        "second momemtum update 0.013028\n",
        "first momemtum update 0.012975\n",
        "position update 0.015297\n",
        "force update 24.351301"
       ]
      },
      {
       "output_type": "stream",
       "stream": "stdout",
       "text": [
        "\n",
        "second momemtum update 0.012833\n",
        "first momemtum update 0.012748\n",
        "position update 0.015191\n",
        "force update 24.360508"
       ]
      },
      {
       "output_type": "stream",
       "stream": "stdout",
       "text": [
        "\n",
        "second momemtum update 0.012907\n",
        "first momemtum update 0.012789\n",
        "position update 0.015144\n",
        "force update 24.611200"
       ]
      },
      {
       "output_type": "stream",
       "stream": "stdout",
       "text": [
        "\n",
        "second momemtum update 0.013014\n",
        "first momemtum update 0.014108\n",
        "position update 0.015176\n",
        "force update 24.704108"
       ]
      },
      {
       "output_type": "stream",
       "stream": "stdout",
       "text": [
        "\n",
        "second momemtum update 0.012946\n",
        "first momemtum update 0.013113\n",
        "position update 0.015291\n",
        "force update 24.668360"
       ]
      },
      {
       "output_type": "stream",
       "stream": "stdout",
       "text": [
        "\n",
        "second momemtum update 0.013168\n",
        "first momemtum update 0.013193\n",
        "position update 0.015118\n",
        "force update 24.824813"
       ]
      },
      {
       "output_type": "stream",
       "stream": "stdout",
       "text": [
        "\n",
        "second momemtum update 0.012802\n",
        "first momemtum update 0.012792\n",
        "position update 0.015605\n",
        "force update 24.767600"
       ]
      },
      {
       "output_type": "stream",
       "stream": "stdout",
       "text": [
        "\n",
        "second momemtum update 0.014227\n",
        "first momemtum update 0.012941\n",
        "position update 0.015808\n",
        "force update 24.654764"
       ]
      },
      {
       "output_type": "stream",
       "stream": "stdout",
       "text": [
        "\n",
        "second momemtum update 0.012578\n",
        "first momemtum update 0.012728\n",
        "position update 0.015239\n",
        "force update 24.865031"
       ]
      },
      {
       "output_type": "stream",
       "stream": "stdout",
       "text": [
        "\n",
        "second momemtum update 0.012750\n",
        "first momemtum update 0.012917\n",
        "position update 0.015015\n",
        "force update 24.441540"
       ]
      },
      {
       "output_type": "stream",
       "stream": "stdout",
       "text": [
        "\n",
        "second momemtum update 0.014445\n",
        "first momemtum update 0.012615\n",
        "position update 0.023643"
       ]
      },
      {
       "output_type": "stream",
       "stream": "stdout",
       "text": [
        "\n",
        "force update 24.423677"
       ]
      },
      {
       "output_type": "stream",
       "stream": "stdout",
       "text": [
        "\n",
        "second momemtum update 0.012866\n",
        "first momemtum update 0.012831\n",
        "position update 0.015455\n",
        "force update 24.700093"
       ]
      },
      {
       "output_type": "stream",
       "stream": "stdout",
       "text": [
        "\n",
        "second momemtum update 0.013181\n",
        "first momemtum update 0.012918\n",
        "position update 0.015288\n",
        "force update 24.613485"
       ]
      },
      {
       "output_type": "stream",
       "stream": "stdout",
       "text": [
        "\n",
        "second momemtum update 0.012930\n",
        "first momemtum update 0.012776\n",
        "position update 0.015310\n",
        "force update 24.704124"
       ]
      },
      {
       "output_type": "stream",
       "stream": "stdout",
       "text": [
        "\n",
        "second momemtum update 0.014107\n",
        "first momemtum update 0.016311\n",
        "position update 0.016644\n",
        "force update 24.677237"
       ]
      },
      {
       "output_type": "stream",
       "stream": "stdout",
       "text": [
        "\n",
        "second momemtum update 0.015523\n",
        "first momemtum update 0.012902\n",
        "position update 0.015122\n",
        "force update 24.643453"
       ]
      },
      {
       "output_type": "stream",
       "stream": "stdout",
       "text": [
        "\n",
        "second momemtum update 0.013971\n",
        "first momemtum update 0.013207\n",
        "position update 0.015092\n",
        "force update 24.820959"
       ]
      },
      {
       "output_type": "stream",
       "stream": "stdout",
       "text": [
        "\n",
        "second momemtum update 0.022380\n",
        "first momemtum update 0.023748\n",
        "position update 0.018715"
       ]
      },
      {
       "output_type": "stream",
       "stream": "stdout",
       "text": [
        "\n",
        "force update 24.799860"
       ]
      },
      {
       "output_type": "stream",
       "stream": "stdout",
       "text": [
        "\n",
        "second momemtum update 0.013002\n",
        "first momemtum update 0.013101\n",
        "position update 0.015456\n",
        "force update 25.471191"
       ]
      },
      {
       "output_type": "stream",
       "stream": "stdout",
       "text": [
        "\n",
        "second momemtum update 0.013603\n",
        "first momemtum update 0.013715\n",
        "position update 0.015549\n",
        "force update 25.923650"
       ]
      },
      {
       "output_type": "stream",
       "stream": "stdout",
       "text": [
        "\n",
        "second momemtum update 0.014262\n",
        "first momemtum update 0.013078\n",
        "position update 0.015143\n",
        "force update 26.097365"
       ]
      },
      {
       "output_type": "stream",
       "stream": "stdout",
       "text": [
        "\n",
        "second momemtum update 0.013016\n",
        "first momemtum update 0.012834\n",
        "position update 0.015335\n",
        "force update 26.361010"
       ]
      },
      {
       "output_type": "stream",
       "stream": "stdout",
       "text": [
        "\n",
        "second momemtum update 0.016041\n",
        "first momemtum update 0.012525\n",
        "position update 0.015120\n",
        "force update 24.475398"
       ]
      },
      {
       "output_type": "stream",
       "stream": "stdout",
       "text": [
        "\n",
        "second momemtum update 0.017166\n",
        "first momemtum update 0.012757\n",
        "position update 0.014960\n",
        "force update 24.447556"
       ]
      },
      {
       "output_type": "stream",
       "stream": "stdout",
       "text": [
        "\n",
        "second momemtum update 0.012679\n",
        "first momemtum update 0.012770\n",
        "position update 0.015078\n",
        "force update 24.998191"
       ]
      },
      {
       "output_type": "stream",
       "stream": "stdout",
       "text": [
        "\n",
        "second momemtum update 0.018482\n",
        "first momemtum update 0.013630\n",
        "position update 0.015373\n",
        "force update 25.180108"
       ]
      },
      {
       "output_type": "stream",
       "stream": "stdout",
       "text": [
        "\n",
        "second momemtum update 0.012804\n",
        "first momemtum update 0.012994\n",
        "position update 0.015249\n",
        "force update 29.801458"
       ]
      },
      {
       "output_type": "stream",
       "stream": "stdout",
       "text": [
        "\n",
        "second momemtum update 0.016998\n",
        "first momemtum update 0.016895\n",
        "position update 0.015393\n",
        "force update 31.840891"
       ]
      },
      {
       "output_type": "stream",
       "stream": "stdout",
       "text": [
        "\n",
        "second momemtum update 0.023895\n",
        "first momemtum update 0.023384\n",
        "position update 0.026521"
       ]
      },
      {
       "output_type": "stream",
       "stream": "stdout",
       "text": [
        "\n",
        "force update 26.276694"
       ]
      },
      {
       "output_type": "stream",
       "stream": "stdout",
       "text": [
        "\n",
        "second momemtum update 0.012801\n",
        "first momemtum update 0.012759\n",
        "position update 0.015159\n",
        "force update 25.518263"
       ]
      },
      {
       "output_type": "stream",
       "stream": "stdout",
       "text": [
        "\n",
        "second momemtum update 0.014871\n",
        "first momemtum update 0.020906\n",
        "position update 0.024038"
       ]
      },
      {
       "output_type": "stream",
       "stream": "stdout",
       "text": [
        "\n",
        "force update 25.978880"
       ]
      },
      {
       "output_type": "stream",
       "stream": "stdout",
       "text": [
        "\n",
        "second momemtum update 0.014243\n",
        "first momemtum update 0.014539\n",
        "position update 0.015931\n",
        "force update 25.430636"
       ]
      },
      {
       "output_type": "stream",
       "stream": "stdout",
       "text": [
        "\n",
        "second momemtum update 0.012693\n",
        "first momemtum update 0.012695\n",
        "position update 0.015156\n",
        "force update 25.117663"
       ]
      },
      {
       "output_type": "stream",
       "stream": "stdout",
       "text": [
        "\n",
        "second momemtum update 0.012628\n",
        "first momemtum update 0.012604\n",
        "position update 0.015047\n",
        "force update 25.305785"
       ]
      },
      {
       "output_type": "stream",
       "stream": "stdout",
       "text": [
        "\n",
        "second momemtum update 0.013042\n",
        "first momemtum update 0.012840\n",
        "position update 0.015183\n",
        "force update 24.953649"
       ]
      },
      {
       "output_type": "stream",
       "stream": "stdout",
       "text": [
        "\n",
        "second momemtum update 0.012977\n",
        "first momemtum update 0.012926\n",
        "position update 0.015063\n",
        "force update 26.355682"
       ]
      },
      {
       "output_type": "stream",
       "stream": "stdout",
       "text": [
        "\n",
        "second momemtum update 0.014286\n",
        "first momemtum update 0.017927\n",
        "position update 0.023748"
       ]
      },
      {
       "output_type": "stream",
       "stream": "stdout",
       "text": [
        "\n",
        "force update 28.198310"
       ]
      },
      {
       "output_type": "stream",
       "stream": "stdout",
       "text": [
        "\n",
        "second momemtum update 0.013593\n",
        "first momemtum update 0.012861\n",
        "position update 0.015269\n",
        "force update 26.307514"
       ]
      },
      {
       "output_type": "stream",
       "stream": "stdout",
       "text": [
        "\n",
        "second momemtum update 0.022058\n",
        "first momemtum update 0.021766\n",
        "position update 0.026100"
       ]
      },
      {
       "output_type": "stream",
       "stream": "stdout",
       "text": [
        "\n",
        "force update 27.938727"
       ]
      },
      {
       "output_type": "stream",
       "stream": "stdout",
       "text": [
        "\n",
        "second momemtum update 0.013547\n",
        "first momemtum update 0.013322\n",
        "position update 0.017398\n",
        "force update 27.086496"
       ]
      },
      {
       "output_type": "stream",
       "stream": "stdout",
       "text": [
        "\n",
        "second momemtum update 0.013305\n",
        "first momemtum update 0.012920\n",
        "position update 0.015268\n",
        "force update 35.133432"
       ]
      },
      {
       "output_type": "stream",
       "stream": "stdout",
       "text": [
        "\n",
        "second momemtum update 0.013814\n",
        "first momemtum update 0.013015\n",
        "position update 0.015145\n",
        "force update 26.516605"
       ]
      },
      {
       "output_type": "stream",
       "stream": "stdout",
       "text": [
        "\n",
        "second momemtum update 0.013618\n",
        "first momemtum update 0.012844\n",
        "position update 0.015214\n",
        "force update 26.316988"
       ]
      },
      {
       "output_type": "stream",
       "stream": "stdout",
       "text": [
        "\n",
        "second momemtum update 0.013507\n",
        "first momemtum update 0.013708\n",
        "position update 0.019627\n",
        "force update 27.071288"
       ]
      },
      {
       "output_type": "stream",
       "stream": "stdout",
       "text": [
        "\n",
        "second momemtum update 0.013025\n",
        "first momemtum update 0.012713\n",
        "position update 0.015294\n",
        "force update 25.744773"
       ]
      },
      {
       "output_type": "stream",
       "stream": "stdout",
       "text": [
        "\n",
        "second momemtum update 0.012764\n",
        "first momemtum update 0.012935\n",
        "position update 0.015232\n",
        "force update 25.188768"
       ]
      },
      {
       "output_type": "stream",
       "stream": "stdout",
       "text": [
        "\n",
        "second momemtum update 0.013077\n",
        "first momemtum update 0.013041\n",
        "position update 0.016097\n",
        "force update 24.771775"
       ]
      },
      {
       "output_type": "stream",
       "stream": "stdout",
       "text": [
        "\n",
        "second momemtum update 0.016478\n",
        "first momemtum update 0.013233\n",
        "position update 0.016641\n",
        "force update 29.477724"
       ]
      },
      {
       "output_type": "stream",
       "stream": "stdout",
       "text": [
        "\n",
        "second momemtum update 0.012674\n",
        "first momemtum update 0.012644\n",
        "position update 0.015025\n",
        "force update 25.082232"
       ]
      },
      {
       "output_type": "stream",
       "stream": "stdout",
       "text": [
        "\n",
        "second momemtum update 0.012797\n",
        "first momemtum update 0.013573\n",
        "position update 0.015183\n",
        "force update 24.874460"
       ]
      },
      {
       "output_type": "stream",
       "stream": "stdout",
       "text": [
        "\n",
        "second momemtum update 0.016493\n",
        "first momemtum update 0.012601\n",
        "position update 0.015052\n",
        "force update 24.822898"
       ]
      },
      {
       "output_type": "stream",
       "stream": "stdout",
       "text": [
        "\n",
        "second momemtum update 0.012898\n",
        "first momemtum update 0.012989\n",
        "position update 0.015061\n",
        "force update 24.398465"
       ]
      },
      {
       "output_type": "stream",
       "stream": "stdout",
       "text": [
        "\n",
        "second momemtum update 0.012798\n",
        "first momemtum update 0.012966\n",
        "position update 0.015007\n",
        "force update 24.338453"
       ]
      },
      {
       "output_type": "stream",
       "stream": "stdout",
       "text": [
        "\n",
        "second momemtum update 0.012817\n",
        "first momemtum update 0.012896\n",
        "position update 0.015209\n",
        "force update 24.321088"
       ]
      },
      {
       "output_type": "stream",
       "stream": "stdout",
       "text": [
        "\n",
        "second momemtum update 0.012785\n",
        "first momemtum update 0.012940\n",
        "position update 0.015287\n",
        "force update 24.642453"
       ]
      },
      {
       "output_type": "stream",
       "stream": "stdout",
       "text": [
        "\n",
        "second momemtum update 0.012675\n",
        "first momemtum update 0.012711\n",
        "position update 0.015221\n",
        "force update 25.487344"
       ]
      },
      {
       "output_type": "stream",
       "stream": "stdout",
       "text": [
        "\n",
        "second momemtum update 0.014790\n",
        "first momemtum update 0.012926\n",
        "position update 0.015172\n",
        "force update 24.329372"
       ]
      },
      {
       "output_type": "stream",
       "stream": "stdout",
       "text": [
        "\n",
        "second momemtum update 0.012737\n",
        "first momemtum update 0.012739\n",
        "position update 0.015192\n",
        "force update 24.264588"
       ]
      },
      {
       "output_type": "stream",
       "stream": "stdout",
       "text": [
        "\n",
        "second momemtum update 0.012736\n",
        "first momemtum update 0.012703\n",
        "position update 0.016694\n",
        "force update 24.167319"
       ]
      },
      {
       "output_type": "stream",
       "stream": "stdout",
       "text": [
        "\n",
        "second momemtum update 0.013425\n",
        "first momemtum update 0.015557\n",
        "position update 0.015717\n",
        "force update 24.170791"
       ]
      },
      {
       "output_type": "stream",
       "stream": "stdout",
       "text": [
        "\n",
        "second momemtum update 0.013389\n",
        "first momemtum update 0.012973\n",
        "position update 0.015329\n",
        "force update 24.220659"
       ]
      },
      {
       "output_type": "stream",
       "stream": "stdout",
       "text": [
        "\n",
        "second momemtum update 0.012701\n",
        "first momemtum update 0.013321\n",
        "position update 0.014866\n",
        "force update 24.334808"
       ]
      },
      {
       "output_type": "stream",
       "stream": "stdout",
       "text": [
        "\n",
        "second momemtum update 0.013824\n",
        "first momemtum update 0.012777\n",
        "position update 0.015418\n",
        "force update 24.605732"
       ]
      },
      {
       "output_type": "stream",
       "stream": "stdout",
       "text": [
        "\n",
        "second momemtum update 0.022324\n",
        "first momemtum update 0.022174\n",
        "position update 0.026211"
       ]
      },
      {
       "output_type": "stream",
       "stream": "stdout",
       "text": [
        "\n",
        "force update 24.561173"
       ]
      },
      {
       "output_type": "stream",
       "stream": "stdout",
       "text": [
        "\n",
        "second momemtum update 0.013079\n",
        "first momemtum update 0.013644\n",
        "position update 0.015580\n",
        "force update 24.453417"
       ]
      },
      {
       "output_type": "stream",
       "stream": "stdout",
       "text": [
        "\n",
        "second momemtum update 0.012728\n",
        "first momemtum update 0.012970\n",
        "position update 0.015241\n",
        "force update 24.172152"
       ]
      },
      {
       "output_type": "stream",
       "stream": "stdout",
       "text": [
        "\n",
        "second momemtum update 0.012689\n",
        "first momemtum update 0.012867\n",
        "position update 0.016558\n",
        "force update 24.230402"
       ]
      },
      {
       "output_type": "stream",
       "stream": "stdout",
       "text": [
        "\n",
        "second momemtum update 0.016157\n",
        "first momemtum update 0.012587\n",
        "position update 0.016749\n",
        "force update 26.303922"
       ]
      },
      {
       "output_type": "stream",
       "stream": "stdout",
       "text": [
        "\n",
        "second momemtum update 0.012682\n",
        "first momemtum update 0.014479\n",
        "position update 0.015744\n",
        "force update 26.154348"
       ]
      },
      {
       "output_type": "stream",
       "stream": "stdout",
       "text": [
        "\n",
        "second momemtum update 0.021250\n",
        "first momemtum update 0.012881\n",
        "position update 0.015075\n",
        "force update 25.680062"
       ]
      },
      {
       "output_type": "stream",
       "stream": "stdout",
       "text": [
        "\n",
        "second momemtum update 0.013813\n",
        "first momemtum update 0.013826\n",
        "position update 0.015056\n",
        "force update 24.772019"
       ]
      },
      {
       "output_type": "stream",
       "stream": "stdout",
       "text": [
        "\n",
        "second momemtum update 0.012760\n",
        "first momemtum update 0.012642\n",
        "position update 0.015008\n",
        "force update 24.796353"
       ]
      },
      {
       "output_type": "stream",
       "stream": "stdout",
       "text": [
        "\n",
        "second momemtum update 0.012727\n",
        "first momemtum update 0.012782\n",
        "position update 0.015161\n",
        "force update 24.916435"
       ]
      },
      {
       "output_type": "stream",
       "stream": "stdout",
       "text": [
        "\n",
        "second momemtum update 0.013042\n",
        "first momemtum update 0.012920\n",
        "position update 0.015012\n",
        "force update 24.316243"
       ]
      },
      {
       "output_type": "stream",
       "stream": "stdout",
       "text": [
        "\n",
        "second momemtum update 0.013694\n",
        "first momemtum update 0.012619\n",
        "position update 0.015093\n",
        "force update 24.529148"
       ]
      },
      {
       "output_type": "stream",
       "stream": "stdout",
       "text": [
        "\n",
        "second momemtum update 0.016633\n",
        "first momemtum update 0.012866\n",
        "position update 0.015207\n",
        "force update 24.520265"
       ]
      },
      {
       "output_type": "stream",
       "stream": "stdout",
       "text": [
        "\n",
        "second momemtum update 0.012965\n",
        "first momemtum update 0.012979\n",
        "position update 0.015284\n",
        "force update 24.682371"
       ]
      },
      {
       "output_type": "stream",
       "stream": "stdout",
       "text": [
        "\n",
        "second momemtum update 0.012665\n",
        "first momemtum update 0.012763\n",
        "position update 0.017242\n",
        "force update 25.210274"
       ]
      },
      {
       "output_type": "stream",
       "stream": "stdout",
       "text": [
        "\n",
        "second momemtum update 0.017317\n",
        "first momemtum update 0.012689\n",
        "position update 0.015186\n",
        "force update 25.340076"
       ]
      },
      {
       "output_type": "stream",
       "stream": "stdout",
       "text": [
        "\n",
        "second momemtum update 0.013935\n",
        "first momemtum update 0.019495\n",
        "position update 0.015777\n",
        "force update 25.682013"
       ]
      },
      {
       "output_type": "stream",
       "stream": "stdout",
       "text": [
        "\n",
        "second momemtum update 0.017940\n",
        "first momemtum update 0.012927\n",
        "position update 0.015162\n",
        "force update 26.143164"
       ]
      },
      {
       "output_type": "stream",
       "stream": "stdout",
       "text": [
        "\n",
        "second momemtum update 0.019885\n",
        "first momemtum update 0.014293\n",
        "position update 0.015952"
       ]
      },
      {
       "output_type": "stream",
       "stream": "stdout",
       "text": [
        "\n",
        "force update 24.634008"
       ]
      },
      {
       "output_type": "stream",
       "stream": "stdout",
       "text": [
        "\n",
        "second momemtum update 0.012929\n",
        "first momemtum update 0.012751\n",
        "position update 0.015131\n",
        "force update 24.969623"
       ]
      },
      {
       "output_type": "stream",
       "stream": "stdout",
       "text": [
        "\n",
        "second momemtum update 0.014487\n",
        "first momemtum update 0.013078\n",
        "position update 0.022450"
       ]
      },
      {
       "output_type": "stream",
       "stream": "stdout",
       "text": [
        "\n",
        "force update 24.976294"
       ]
      },
      {
       "output_type": "stream",
       "stream": "stdout",
       "text": [
        "\n",
        "second momemtum update 0.012826\n",
        "first momemtum update 0.014757\n",
        "position update 0.017613\n",
        "force update 25.152083"
       ]
      },
      {
       "output_type": "stream",
       "stream": "stdout",
       "text": [
        "\n",
        "second momemtum update 0.013049\n",
        "first momemtum update 0.012923\n",
        "position update 0.015002\n",
        "force update 25.444840"
       ]
      },
      {
       "output_type": "stream",
       "stream": "stdout",
       "text": [
        "\n",
        "second momemtum update 0.012836\n",
        "first momemtum update 0.012739\n",
        "position update 0.015160\n",
        "force update 24.971601"
       ]
      },
      {
       "output_type": "stream",
       "stream": "stdout",
       "text": [
        "\n",
        "second momemtum update 0.013016\n",
        "first momemtum update 0.013094\n",
        "position update 0.014940\n",
        "force update 24.689160"
       ]
      },
      {
       "output_type": "stream",
       "stream": "stdout",
       "text": [
        "\n",
        "second momemtum update 0.013078\n",
        "first momemtum update 0.012936\n",
        "position update 0.015073\n",
        "force update 25.285333"
       ]
      },
      {
       "output_type": "stream",
       "stream": "stdout",
       "text": [
        "\n",
        "second momemtum update 0.013167\n",
        "first momemtum update 0.015553\n",
        "position update 0.015015\n",
        "force update 24.706057"
       ]
      },
      {
       "output_type": "stream",
       "stream": "stdout",
       "text": [
        "\n",
        "second momemtum update 0.024849\n",
        "first momemtum update 0.013059\n",
        "position update 0.015033"
       ]
      },
      {
       "output_type": "stream",
       "stream": "stdout",
       "text": [
        "\n",
        "force update 25.396601"
       ]
      },
      {
       "output_type": "stream",
       "stream": "stdout",
       "text": [
        "\n",
        "second momemtum update 0.021600\n",
        "first momemtum update 0.012885\n",
        "position update 0.024622"
       ]
      },
      {
       "output_type": "stream",
       "stream": "stdout",
       "text": [
        "\n",
        "force update 25.542404"
       ]
      },
      {
       "output_type": "stream",
       "stream": "stdout",
       "text": [
        "\n",
        "second momemtum update 0.013055\n",
        "first momemtum update 0.012914\n",
        "position update 0.015146\n",
        "force update 25.282206"
       ]
      },
      {
       "output_type": "stream",
       "stream": "stdout",
       "text": [
        "\n",
        "second momemtum update 0.018348\n",
        "first momemtum update 0.012671\n",
        "position update 0.015420\n",
        "force update 25.311999"
       ]
      },
      {
       "output_type": "stream",
       "stream": "stdout",
       "text": [
        "\n",
        "second momemtum update 0.017187\n",
        "first momemtum update 0.017763\n",
        "position update 0.015610"
       ]
      },
      {
       "output_type": "stream",
       "stream": "stdout",
       "text": [
        "\n",
        "force update 25.740515"
       ]
      },
      {
       "output_type": "stream",
       "stream": "stdout",
       "text": [
        "\n",
        "second momemtum update 0.017039\n",
        "first momemtum update 0.012727\n",
        "position update 0.015206\n",
        "force update 25.042680"
       ]
      },
      {
       "output_type": "stream",
       "stream": "stdout",
       "text": [
        "\n",
        "second momemtum update 0.018307\n",
        "first momemtum update 0.018321\n",
        "position update 0.015409"
       ]
      },
      {
       "output_type": "stream",
       "stream": "stdout",
       "text": [
        "\n",
        "force update 25.399125"
       ]
      },
      {
       "output_type": "stream",
       "stream": "stdout",
       "text": [
        "\n",
        "second momemtum update 0.012999\n",
        "first momemtum update 0.013002\n",
        "position update 0.015480\n",
        "force update 25.209494"
       ]
      },
      {
       "output_type": "stream",
       "stream": "stdout",
       "text": [
        "\n",
        "second momemtum update 0.015928\n",
        "first momemtum update 0.014280\n",
        "position update 0.015322\n",
        "force update 25.980647"
       ]
      },
      {
       "output_type": "stream",
       "stream": "stdout",
       "text": [
        "\n",
        "second momemtum update 0.013930\n",
        "first momemtum update 0.012804\n",
        "position update 0.014975\n",
        "force update 25.512194"
       ]
      },
      {
       "output_type": "stream",
       "stream": "stdout",
       "text": [
        "\n",
        "second momemtum update 0.013706\n",
        "first momemtum update 0.013217\n",
        "position update 0.015142\n",
        "force update 25.670640"
       ]
      },
      {
       "output_type": "stream",
       "stream": "stdout",
       "text": [
        "\n",
        "second momemtum update 0.023931\n",
        "first momemtum update 0.022389\n",
        "position update 0.027931"
       ]
      },
      {
       "output_type": "stream",
       "stream": "stdout",
       "text": [
        "\n",
        "force update 26.346569"
       ]
      },
      {
       "output_type": "stream",
       "stream": "stdout",
       "text": [
        "\n",
        "second momemtum update 0.012751\n",
        "first momemtum update 0.012861\n",
        "position update 0.015089\n",
        "force update 25.859970"
       ]
      },
      {
       "output_type": "stream",
       "stream": "stdout",
       "text": [
        "\n",
        "second momemtum update 0.013094\n",
        "first momemtum update 0.013160\n",
        "position update 0.015444\n",
        "force update 25.576759"
       ]
      },
      {
       "output_type": "stream",
       "stream": "stdout",
       "text": [
        "\n",
        "second momemtum update 0.020763\n",
        "first momemtum update 0.012947\n",
        "position update 0.015104\n",
        "force update 25.766340"
       ]
      },
      {
       "output_type": "stream",
       "stream": "stdout",
       "text": [
        "\n",
        "second momemtum update 0.013620\n",
        "first momemtum update 0.012795\n",
        "position update 0.015209\n",
        "force update 28.293897"
       ]
      },
      {
       "output_type": "stream",
       "stream": "stdout",
       "text": [
        "\n",
        "second momemtum update 0.017495\n",
        "first momemtum update 0.012830\n",
        "position update 0.015150\n",
        "force update 28.886516"
       ]
      },
      {
       "output_type": "stream",
       "stream": "stdout",
       "text": [
        "\n",
        "second momemtum update 0.026058\n",
        "first momemtum update 0.024122"
       ]
      },
      {
       "output_type": "stream",
       "stream": "stdout",
       "text": [
        "\n",
        "position update 0.028142\n",
        "force update 27.174661"
       ]
      },
      {
       "output_type": "stream",
       "stream": "stdout",
       "text": [
        "\n",
        "second momemtum update 0.012697\n",
        "first momemtum update 0.012740\n",
        "position update 0.015110\n",
        "force update 24.662377"
       ]
      },
      {
       "output_type": "stream",
       "stream": "stdout",
       "text": [
        "\n",
        "second momemtum update 0.015107\n",
        "first momemtum update 0.013322\n",
        "position update 0.015641\n",
        "force update 25.588025"
       ]
      },
      {
       "output_type": "stream",
       "stream": "stdout",
       "text": [
        "\n",
        "second momemtum update 0.023615\n",
        "first momemtum update 0.021089\n",
        "position update 0.024418"
       ]
      },
      {
       "output_type": "stream",
       "stream": "stdout",
       "text": [
        "\n",
        "force update 25.582922"
       ]
      },
      {
       "output_type": "stream",
       "stream": "stdout",
       "text": [
        "\n",
        "second momemtum update 0.017834\n",
        "first momemtum update 0.016823\n",
        "position update 0.016711"
       ]
      },
      {
       "output_type": "stream",
       "stream": "stdout",
       "text": [
        "\n",
        "force update 25.091945"
       ]
      },
      {
       "output_type": "stream",
       "stream": "stdout",
       "text": [
        "\n",
        "second momemtum update 0.012943\n",
        "first momemtum update 0.016096\n",
        "position update 0.016686\n",
        "force update 24.563668"
       ]
      },
      {
       "output_type": "stream",
       "stream": "stdout",
       "text": [
        "\n",
        "second momemtum update 0.012726\n",
        "first momemtum update 0.012817\n",
        "position update 0.015287\n",
        "force update 25.295594"
       ]
      },
      {
       "output_type": "stream",
       "stream": "stdout",
       "text": [
        "\n",
        "second momemtum update 0.016327\n",
        "first momemtum update 0.014365\n",
        "position update 0.019688"
       ]
      },
      {
       "output_type": "stream",
       "stream": "stdout",
       "text": [
        "\n",
        "force update 26.400546"
       ]
      },
      {
       "output_type": "stream",
       "stream": "stdout",
       "text": [
        "\n",
        "second momemtum update 0.012965\n",
        "first momemtum update 0.012898\n",
        "position update 0.015054\n",
        "force update 26.316229"
       ]
      },
      {
       "output_type": "stream",
       "stream": "stdout",
       "text": [
        "\n",
        "second momemtum update 0.013005\n",
        "first momemtum update 0.012922\n",
        "position update 0.015010\n",
        "force update 28.660625"
       ]
      },
      {
       "output_type": "stream",
       "stream": "stdout",
       "text": [
        "\n",
        "second momemtum update 0.013642\n",
        "first momemtum update 0.012759\n",
        "position update 0.015337\n",
        "force update 25.790217"
       ]
      },
      {
       "output_type": "stream",
       "stream": "stdout",
       "text": [
        "\n",
        "second momemtum update 0.023105\n",
        "first momemtum update 0.024150\n",
        "position update 0.028038"
       ]
      },
      {
       "output_type": "stream",
       "stream": "stdout",
       "text": [
        "\n",
        "force update 31.413838"
       ]
      },
      {
       "output_type": "stream",
       "stream": "stdout",
       "text": [
        "\n",
        "second momemtum update 0.016698\n",
        "first momemtum update 0.012497\n",
        "position update 0.015329\n",
        "force update 28.275735"
       ]
      },
      {
       "output_type": "stream",
       "stream": "stdout",
       "text": [
        "\n",
        "second momemtum update 0.023749\n",
        "first momemtum update 0.023762\n",
        "position update 0.027551"
       ]
      },
      {
       "output_type": "stream",
       "stream": "stdout",
       "text": [
        "\n",
        "force update 28.449076"
       ]
      },
      {
       "output_type": "stream",
       "stream": "stdout",
       "text": [
        "\n",
        "second momemtum update 0.013546\n",
        "first momemtum update 0.014060\n",
        "position update 0.015417\n",
        "force update 30.096646"
       ]
      },
      {
       "output_type": "stream",
       "stream": "stdout",
       "text": [
        "\n",
        "second momemtum update 0.012847\n",
        "first momemtum update 0.012819\n",
        "position update 0.015331\n",
        "force update 25.360992"
       ]
      },
      {
       "output_type": "stream",
       "stream": "stdout",
       "text": [
        "\n",
        "second momemtum update 0.013173\n",
        "first momemtum update 0.013081\n",
        "position update 0.015048\n",
        "force update 24.559111"
       ]
      },
      {
       "output_type": "stream",
       "stream": "stdout",
       "text": [
        "\n",
        "second momemtum update 0.013114\n",
        "first momemtum update 0.013091\n",
        "position update 0.016621\n",
        "force update 25.504571"
       ]
      },
      {
       "output_type": "stream",
       "stream": "stdout",
       "text": [
        "\n",
        "second momemtum update 0.014118\n",
        "first momemtum update 0.012867\n",
        "position update 0.016342\n",
        "force update 24.665620"
       ]
      },
      {
       "output_type": "stream",
       "stream": "stdout",
       "text": [
        "\n",
        "second momemtum update 0.012646\n",
        "first momemtum update 0.012953\n",
        "position update 0.015638\n",
        "force update 24.886735"
       ]
      },
      {
       "output_type": "stream",
       "stream": "stdout",
       "text": [
        "\n",
        "second momemtum update 0.013035\n",
        "first momemtum update 0.012895\n",
        "position update 0.016469\n",
        "force update 27.103357"
       ]
      },
      {
       "output_type": "stream",
       "stream": "stdout",
       "text": [
        "\n",
        "second momemtum update 0.020243\n",
        "first momemtum update 0.022484\n",
        "position update 0.027374"
       ]
      },
      {
       "output_type": "stream",
       "stream": "stdout",
       "text": [
        "\n",
        "force update 25.323988"
       ]
      },
      {
       "output_type": "stream",
       "stream": "stdout",
       "text": [
        "\n",
        "second momemtum update 0.012889\n",
        "first momemtum update 0.013490\n",
        "position update 0.015347\n",
        "force update 25.178037"
       ]
      },
      {
       "output_type": "stream",
       "stream": "stdout",
       "text": [
        "\n",
        "second momemtum update 0.013415\n",
        "first momemtum update 0.012963\n",
        "position update 0.015345\n",
        "force update 24.990950"
       ]
      },
      {
       "output_type": "stream",
       "stream": "stdout",
       "text": [
        "\n",
        "second momemtum update 0.012668\n",
        "first momemtum update 0.012834\n",
        "position update 0.015129\n",
        "force update 24.812441"
       ]
      },
      {
       "output_type": "stream",
       "stream": "stdout",
       "text": [
        "\n",
        "second momemtum update 0.012830\n",
        "first momemtum update 0.021923\n",
        "position update 0.027233"
       ]
      },
      {
       "output_type": "stream",
       "stream": "stdout",
       "text": [
        "\n",
        "force update 25.573613"
       ]
      },
      {
       "output_type": "stream",
       "stream": "stdout",
       "text": [
        "\n",
        "second momemtum update 0.012950\n",
        "first momemtum update 0.023977\n",
        "position update 0.017288"
       ]
      },
      {
       "output_type": "stream",
       "stream": "stdout",
       "text": [
        "\n",
        "force update 27.399520"
       ]
      },
      {
       "output_type": "stream",
       "stream": "stdout",
       "text": [
        "\n",
        "second momemtum update 0.020564\n",
        "first momemtum update 0.023337\n",
        "position update 0.026562"
       ]
      },
      {
       "output_type": "stream",
       "stream": "stdout",
       "text": [
        "\n",
        "force update 29.340562"
       ]
      },
      {
       "output_type": "stream",
       "stream": "stdout",
       "text": [
        "\n",
        "second momemtum update 0.012925\n",
        "first momemtum update 0.012839\n",
        "position update 0.015194\n",
        "force update 25.344650"
       ]
      },
      {
       "output_type": "stream",
       "stream": "stdout",
       "text": [
        "\n",
        "second momemtum update 0.014013\n",
        "first momemtum update 0.012846\n",
        "position update 0.016650\n",
        "force update 28.054646"
       ]
      },
      {
       "output_type": "stream",
       "stream": "stdout",
       "text": [
        "\n",
        "second momemtum update 0.015578\n",
        "first momemtum update 0.013159\n",
        "position update 0.015186\n",
        "force update 26.520505"
       ]
      },
      {
       "output_type": "stream",
       "stream": "stdout",
       "text": [
        "\n",
        "second momemtum update 0.025377\n",
        "first momemtum update 0.025313"
       ]
      },
      {
       "output_type": "stream",
       "stream": "stdout",
       "text": [
        "\n",
        "position update 0.029395\n",
        "force update 26.431373"
       ]
      },
      {
       "output_type": "stream",
       "stream": "stdout",
       "text": [
        "\n",
        "second momemtum update 0.016901\n",
        "first momemtum update 0.012815\n",
        "position update 0.015636\n",
        "force update 26.481834"
       ]
      },
      {
       "output_type": "stream",
       "stream": "stdout",
       "text": [
        "\n",
        "second momemtum update 0.012783\n",
        "first momemtum update 0.012696\n",
        "position update 0.017036\n",
        "force update 27.850029"
       ]
      },
      {
       "output_type": "stream",
       "stream": "stdout",
       "text": [
        "\n",
        "second momemtum update 0.019546\n",
        "first momemtum update 0.013745\n",
        "position update 0.015821\n",
        "force update 28.661257"
       ]
      },
      {
       "output_type": "stream",
       "stream": "stdout",
       "text": [
        "\n",
        "second momemtum update 0.013596\n",
        "first momemtum update 0.020952\n",
        "position update 0.019573"
       ]
      },
      {
       "output_type": "stream",
       "stream": "stdout",
       "text": [
        "\n",
        "force update 29.150676"
       ]
      },
      {
       "output_type": "stream",
       "stream": "stdout",
       "text": [
        "\n",
        "second momemtum update 0.013075\n",
        "first momemtum update 0.015540\n",
        "position update 0.034050"
       ]
      },
      {
       "output_type": "stream",
       "stream": "stdout",
       "text": [
        "\n",
        "force update 26.389303"
       ]
      },
      {
       "output_type": "stream",
       "stream": "stdout",
       "text": [
        "\n",
        "second momemtum update 0.012671\n",
        "first momemtum update 0.012731\n",
        "position update 0.015238\n",
        "force update 27.906349"
       ]
      },
      {
       "output_type": "stream",
       "stream": "stdout",
       "text": [
        "\n",
        "second momemtum update 0.015045\n",
        "first momemtum update 0.016123\n",
        "position update 0.015156\n",
        "force update 27.393088"
       ]
      },
      {
       "output_type": "stream",
       "stream": "stdout",
       "text": [
        "\n",
        "second momemtum update 0.013506\n",
        "first momemtum update 0.012884\n",
        "position update 0.015149\n",
        "force update 30.862345"
       ]
      },
      {
       "output_type": "stream",
       "stream": "stdout",
       "text": [
        "\n",
        "second momemtum update 0.029986\n",
        "first momemtum update 0.016145\n",
        "position update 0.015096"
       ]
      },
      {
       "output_type": "stream",
       "stream": "stdout",
       "text": [
        "\n",
        "force update 27.153707"
       ]
      },
      {
       "output_type": "stream",
       "stream": "stdout",
       "text": [
        "\n",
        "second momemtum update 0.014794\n",
        "first momemtum update 0.015055\n",
        "position update 0.016124\n",
        "force update 28.814198"
       ]
      },
      {
       "output_type": "stream",
       "stream": "stdout",
       "text": [
        "\n",
        "second momemtum update 0.029434\n",
        "first momemtum update 0.024893"
       ]
      },
      {
       "output_type": "stream",
       "stream": "stdout",
       "text": [
        "\n",
        "position update 0.017489\n",
        "force update 27.391143"
       ]
      },
      {
       "output_type": "stream",
       "stream": "stdout",
       "text": [
        "\n",
        "second momemtum update 0.012906\n",
        "first momemtum update 0.013818\n",
        "position update 0.015424\n",
        "force update 24.853245"
       ]
      },
      {
       "output_type": "stream",
       "stream": "stdout",
       "text": [
        "\n",
        "second momemtum update 0.014498\n",
        "first momemtum update 0.012846\n",
        "position update 0.015326"
       ]
      },
      {
       "output_type": "stream",
       "stream": "stdout",
       "text": [
        "\n",
        "force update 29.442656"
       ]
      },
      {
       "output_type": "stream",
       "stream": "stdout",
       "text": [
        "\n",
        "second momemtum update 0.015087\n",
        "first momemtum update 0.015706\n",
        "position update 0.019565"
       ]
      },
      {
       "output_type": "stream",
       "stream": "stdout",
       "text": [
        "\n",
        "force update 25.765021"
       ]
      },
      {
       "output_type": "stream",
       "stream": "stdout",
       "text": [
        "\n",
        "second momemtum update 0.013885\n",
        "first momemtum update 0.012883\n",
        "position update 0.015003\n",
        "force update 28.554246"
       ]
      },
      {
       "output_type": "stream",
       "stream": "stdout",
       "text": [
        "\n",
        "second momemtum update 0.035727\n",
        "first momemtum update 0.023187"
       ]
      },
      {
       "output_type": "stream",
       "stream": "stdout",
       "text": [
        "\n",
        "position update 0.024673\n",
        "force update 29.967291"
       ]
      },
      {
       "output_type": "stream",
       "stream": "stdout",
       "text": [
        "\n",
        "second momemtum update 0.035154\n",
        "first momemtum update 0.013606\n",
        "position update 0.020831"
       ]
      },
      {
       "output_type": "stream",
       "stream": "stdout",
       "text": [
        "\n",
        "force update 30.157736"
       ]
      },
      {
       "output_type": "stream",
       "stream": "stdout",
       "text": [
        "\n",
        "second momemtum update 0.013891\n",
        "first momemtum update 0.014816\n",
        "position update 0.022079"
       ]
      },
      {
       "output_type": "stream",
       "stream": "stdout",
       "text": [
        "\n",
        "force update 28.320615"
       ]
      },
      {
       "output_type": "stream",
       "stream": "stdout",
       "text": [
        "\n",
        "second momemtum update 0.014108\n",
        "first momemtum update 0.023487\n",
        "position update 0.023969"
       ]
      },
      {
       "output_type": "stream",
       "stream": "stdout",
       "text": [
        "\n",
        "force update 30.539055"
       ]
      },
      {
       "output_type": "stream",
       "stream": "stdout",
       "text": [
        "\n",
        "second momemtum update 0.026849\n",
        "first momemtum update 0.017363\n",
        "position update 0.020402"
       ]
      },
      {
       "output_type": "stream",
       "stream": "stdout",
       "text": [
        "\n",
        "force update 29.570310"
       ]
      },
      {
       "output_type": "stream",
       "stream": "stdout",
       "text": [
        "\n",
        "second momemtum update 0.013714\n",
        "first momemtum update 0.018170\n",
        "position update 0.019921"
       ]
      },
      {
       "output_type": "stream",
       "stream": "stdout",
       "text": [
        "\n",
        "force update 26.184153"
       ]
      },
      {
       "output_type": "stream",
       "stream": "stdout",
       "text": [
        "\n",
        "second momemtum update 0.014256\n",
        "first momemtum update 0.016414\n",
        "position update 0.020750"
       ]
      },
      {
       "output_type": "stream",
       "stream": "stdout",
       "text": [
        "\n",
        "force update 26.772855"
       ]
      },
      {
       "output_type": "stream",
       "stream": "stdout",
       "text": [
        "\n",
        "second momemtum update 0.017522\n",
        "first momemtum update 0.013432\n",
        "position update 0.015175\n",
        "force update 26.727558"
       ]
      },
      {
       "output_type": "stream",
       "stream": "stdout",
       "text": [
        "\n",
        "second momemtum update 0.012892\n",
        "first momemtum update 0.013102\n",
        "position update 0.015786\n",
        "force update 25.628570"
       ]
      },
      {
       "output_type": "stream",
       "stream": "stdout",
       "text": [
        "\n",
        "second momemtum update 0.013248\n",
        "first momemtum update 0.013375\n",
        "position update 0.015278\n",
        "force update 26.256926"
       ]
      },
      {
       "output_type": "stream",
       "stream": "stdout",
       "text": [
        "\n",
        "second momemtum update 0.012807\n",
        "first momemtum update 0.013359\n",
        "position update 0.015168\n",
        "force update 33.946696"
       ]
      },
      {
       "output_type": "stream",
       "stream": "stdout",
       "text": [
        "\n",
        "second momemtum update 0.012962\n",
        "first momemtum update 0.013391\n",
        "position update 0.016586\n",
        "force update 26.325342"
       ]
      },
      {
       "output_type": "stream",
       "stream": "stdout",
       "text": [
        "\n",
        "second momemtum update 0.018947\n",
        "first momemtum update 0.014369\n",
        "position update 0.022060"
       ]
      },
      {
       "output_type": "stream",
       "stream": "stdout",
       "text": [
        "\n",
        "force update 26.293295"
       ]
      },
      {
       "output_type": "stream",
       "stream": "stdout",
       "text": [
        "\n",
        "second momemtum update 0.014454\n",
        "first momemtum update 0.012923\n",
        "position update 0.014957\n",
        "force update 26.100020"
       ]
      },
      {
       "output_type": "stream",
       "stream": "stdout",
       "text": [
        "\n",
        "second momemtum update 0.026353\n",
        "first momemtum update 0.025982"
       ]
      },
      {
       "output_type": "stream",
       "stream": "stdout",
       "text": [
        "\n",
        "position update 0.030628\n",
        "force update 26.518953"
       ]
      },
      {
       "output_type": "stream",
       "stream": "stdout",
       "text": [
        "\n",
        "second momemtum update 0.013724\n",
        "first momemtum update 0.012748\n",
        "position update 0.015532\n",
        "force update 25.606927"
       ]
      },
      {
       "output_type": "stream",
       "stream": "stdout",
       "text": [
        "\n",
        "second momemtum update 0.013043\n",
        "first momemtum update 0.014031\n",
        "position update 0.015099\n",
        "force update 26.511153"
       ]
      },
      {
       "output_type": "stream",
       "stream": "stdout",
       "text": [
        "\n",
        "second momemtum update 0.015307\n",
        "first momemtum update 0.020903\n",
        "position update 0.026261"
       ]
      },
      {
       "output_type": "stream",
       "stream": "stdout",
       "text": [
        "\n",
        "force update 25.905320"
       ]
      },
      {
       "output_type": "stream",
       "stream": "stdout",
       "text": [
        "\n",
        "second momemtum update 0.018617\n",
        "first momemtum update 0.012638\n",
        "position update 0.015114\n",
        "force update 25.415570"
       ]
      },
      {
       "output_type": "stream",
       "stream": "stdout",
       "text": [
        "\n",
        "second momemtum update 0.015100\n",
        "first momemtum update 0.013087\n",
        "position update 0.015257\n",
        "force update 25.115338"
       ]
      },
      {
       "output_type": "stream",
       "stream": "stdout",
       "text": [
        "\n",
        "second momemtum update 0.014738\n",
        "first momemtum update 0.013276\n",
        "position update 0.015101\n",
        "force update 24.876887"
       ]
      },
      {
       "output_type": "stream",
       "stream": "stdout",
       "text": [
        "\n",
        "second momemtum update 0.017228\n",
        "first momemtum update 0.012960\n",
        "position update 0.015159\n",
        "force update 25.435461"
       ]
      },
      {
       "output_type": "stream",
       "stream": "stdout",
       "text": [
        "\n",
        "second momemtum update 0.013139\n",
        "first momemtum update 0.013585\n",
        "position update 0.014976\n",
        "force update 25.421710"
       ]
      },
      {
       "output_type": "stream",
       "stream": "stdout",
       "text": [
        "\n",
        "second momemtum update 0.025334\n",
        "first momemtum update 0.025414"
       ]
      },
      {
       "output_type": "stream",
       "stream": "stdout",
       "text": [
        "\n",
        "position update 0.029556\n",
        "force update 25.081394"
       ]
      },
      {
       "output_type": "stream",
       "stream": "stdout",
       "text": [
        "\n",
        "second momemtum update 0.012672\n",
        "first momemtum update 0.013238\n",
        "position update 0.015305\n",
        "force update 28.105784"
       ]
      },
      {
       "output_type": "stream",
       "stream": "stdout",
       "text": [
        "\n",
        "second momemtum update 0.014310\n",
        "first momemtum update 0.013918\n",
        "position update 0.016010\n",
        "force update 27.610205"
       ]
      },
      {
       "output_type": "stream",
       "stream": "stdout",
       "text": [
        "\n",
        "second momemtum update 0.018683\n",
        "first momemtum update 0.014914\n",
        "position update 0.019150"
       ]
      },
      {
       "output_type": "stream",
       "stream": "stdout",
       "text": [
        "\n",
        "force update 25.961153"
       ]
      },
      {
       "output_type": "stream",
       "stream": "stdout",
       "text": [
        "\n",
        "second momemtum update 0.013697\n",
        "first momemtum update 0.013959\n",
        "position update 0.015599\n",
        "force update 25.393143"
       ]
      },
      {
       "output_type": "stream",
       "stream": "stdout",
       "text": [
        "\n",
        "second momemtum update 0.012855\n",
        "first momemtum update 0.013032\n",
        "position update 0.015177\n",
        "force update 25.071610"
       ]
      },
      {
       "output_type": "stream",
       "stream": "stdout",
       "text": [
        "\n",
        "second momemtum update 0.014270\n",
        "first momemtum update 0.014697\n",
        "position update 0.015255\n",
        "force update 25.177967"
       ]
      },
      {
       "output_type": "stream",
       "stream": "stdout",
       "text": [
        "\n",
        "second momemtum update 0.012803\n",
        "first momemtum update 0.012798\n",
        "position update 0.015298\n",
        "force update 25.308811"
       ]
      },
      {
       "output_type": "stream",
       "stream": "stdout",
       "text": [
        "\n",
        "second momemtum update 0.012935\n",
        "first momemtum update 0.012746\n",
        "position update 0.015321\n",
        "force update 25.121365"
       ]
      },
      {
       "output_type": "stream",
       "stream": "stdout",
       "text": [
        "\n",
        "second momemtum update 0.013181\n",
        "first momemtum update 0.013121\n",
        "position update 0.016648\n",
        "force update 25.563382"
       ]
      },
      {
       "output_type": "stream",
       "stream": "stdout",
       "text": [
        "\n",
        "second momemtum update 0.020075\n",
        "first momemtum update 0.018800\n",
        "position update 0.026465"
       ]
      },
      {
       "output_type": "stream",
       "stream": "stdout",
       "text": [
        "\n",
        "force update 28.671064"
       ]
      },
      {
       "output_type": "stream",
       "stream": "stdout",
       "text": [
        "\n",
        "second momemtum update 0.013656\n",
        "first momemtum update 0.014095\n",
        "position update 0.016513\n",
        "force update 30.381720"
       ]
      },
      {
       "output_type": "stream",
       "stream": "stdout",
       "text": [
        "\n",
        "second momemtum update 0.020197\n",
        "first momemtum update 0.012780\n",
        "position update 0.015175\n",
        "force update 29.058644"
       ]
      },
      {
       "output_type": "stream",
       "stream": "stdout",
       "text": [
        "\n",
        "second momemtum update 0.023610\n",
        "first momemtum update 0.022882\n",
        "position update 0.025386"
       ]
      },
      {
       "output_type": "stream",
       "stream": "stdout",
       "text": [
        "\n",
        "force update 26.954923"
       ]
      },
      {
       "output_type": "stream",
       "stream": "stdout",
       "text": [
        "\n",
        "second momemtum update 0.024073\n",
        "first momemtum update 0.022589\n",
        "position update 0.024624"
       ]
      },
      {
       "output_type": "stream",
       "stream": "stdout",
       "text": [
        "\n",
        "force update 27.215726"
       ]
      },
      {
       "output_type": "stream",
       "stream": "stdout",
       "text": [
        "\n",
        "second momemtum update 0.014567\n",
        "first momemtum update 0.012839\n",
        "position update 0.016312\n",
        "force update 26.091286"
       ]
      },
      {
       "output_type": "stream",
       "stream": "stdout",
       "text": [
        "\n",
        "second momemtum update 0.013696\n",
        "first momemtum update 0.012995\n",
        "position update 0.015233\n",
        "force update 25.057706"
       ]
      },
      {
       "output_type": "stream",
       "stream": "stdout",
       "text": [
        "\n",
        "second momemtum update 0.012763\n",
        "first momemtum update 0.012799\n",
        "position update 0.016205\n",
        "force update 25.230652"
       ]
      },
      {
       "output_type": "stream",
       "stream": "stdout",
       "text": [
        "\n",
        "second momemtum update 0.013640\n",
        "first momemtum update 0.013002\n",
        "position update 0.015204\n",
        "force update 24.841592"
       ]
      },
      {
       "output_type": "stream",
       "stream": "stdout",
       "text": [
        "\n",
        "second momemtum update 0.013325\n",
        "first momemtum update 0.012976\n",
        "position update 0.015066\n",
        "force update 25.323174"
       ]
      },
      {
       "output_type": "stream",
       "stream": "stdout",
       "text": [
        "\n",
        "second momemtum update 0.021756\n",
        "first momemtum update 0.023299\n",
        "position update 0.026871"
       ]
      },
      {
       "output_type": "stream",
       "stream": "stdout",
       "text": [
        "\n",
        "force update 27.708228"
       ]
      },
      {
       "output_type": "stream",
       "stream": "stdout",
       "text": [
        "\n",
        "second momemtum update 0.015017\n",
        "first momemtum update 0.017350\n",
        "position update 0.018063"
       ]
      },
      {
       "output_type": "stream",
       "stream": "stdout",
       "text": [
        "\n",
        "force update 27.410759"
       ]
      },
      {
       "output_type": "stream",
       "stream": "stdout",
       "text": [
        "\n",
        "second momemtum update 0.013352\n",
        "first momemtum update 0.015090\n",
        "position update 0.015754\n",
        "force update 26.352560"
       ]
      },
      {
       "output_type": "stream",
       "stream": "stdout",
       "text": [
        "\n",
        "second momemtum update 0.014708\n",
        "first momemtum update 0.013782\n",
        "position update 0.016118\n",
        "force update 25.882395"
       ]
      },
      {
       "output_type": "stream",
       "stream": "stdout",
       "text": [
        "\n",
        "second momemtum update 0.018888\n",
        "first momemtum update 0.012795\n",
        "position update 0.015051\n",
        "force update 26.426227"
       ]
      },
      {
       "output_type": "stream",
       "stream": "stdout",
       "text": [
        "\n",
        "second momemtum update 0.013813\n",
        "first momemtum update 0.012788\n",
        "position update 0.016431\n",
        "force update 26.708059"
       ]
      },
      {
       "output_type": "stream",
       "stream": "stdout",
       "text": [
        "\n",
        "second momemtum update 0.020823\n",
        "first momemtum update 0.012885\n",
        "position update 0.015232\n",
        "force update 25.908665"
       ]
      },
      {
       "output_type": "stream",
       "stream": "stdout",
       "text": [
        "\n",
        "second momemtum update 0.019068\n",
        "first momemtum update 0.012887\n",
        "position update 0.015051\n",
        "force update 26.313862"
       ]
      },
      {
       "output_type": "stream",
       "stream": "stdout",
       "text": [
        "\n",
        "second momemtum update 0.018156\n",
        "first momemtum update 0.012821\n",
        "position update 0.014992\n",
        "force update 26.191951"
       ]
      },
      {
       "output_type": "stream",
       "stream": "stdout",
       "text": [
        "\n",
        "second momemtum update 0.012778\n",
        "first momemtum update 0.014558\n",
        "position update 0.021497\n",
        "force update 26.023736"
       ]
      },
      {
       "output_type": "stream",
       "stream": "stdout",
       "text": [
        "\n",
        "second momemtum update 0.015821\n",
        "first momemtum update 0.013268\n",
        "position update 0.016644\n",
        "force update 26.196857"
       ]
      },
      {
       "output_type": "stream",
       "stream": "stdout",
       "text": [
        "\n",
        "second momemtum update 0.020985\n",
        "first momemtum update 0.016811\n",
        "position update 0.016940"
       ]
      },
      {
       "output_type": "stream",
       "stream": "stdout",
       "text": [
        "\n",
        "force update 29.241236"
       ]
      },
      {
       "output_type": "stream",
       "stream": "stdout",
       "text": [
        "\n",
        "second momemtum update 0.015141\n",
        "first momemtum update 0.012938\n",
        "position update 0.015263\n",
        "force update 27.197847"
       ]
      },
      {
       "output_type": "stream",
       "stream": "stdout",
       "text": [
        "\n",
        "second momemtum update 0.014838\n",
        "first momemtum update 0.013083\n",
        "position update 0.021461\n",
        "force update 26.402539"
       ]
      },
      {
       "output_type": "stream",
       "stream": "stdout",
       "text": [
        "\n",
        "second momemtum update 0.013556\n",
        "first momemtum update 0.013096\n",
        "position update 0.015253\n",
        "force update 26.862429"
       ]
      },
      {
       "output_type": "stream",
       "stream": "stdout",
       "text": [
        "\n",
        "second momemtum update 0.018297\n",
        "first momemtum update 0.012982\n",
        "position update 0.015134\n",
        "force update 24.926185"
       ]
      },
      {
       "output_type": "stream",
       "stream": "stdout",
       "text": [
        "\n",
        "second momemtum update 0.019204\n",
        "first momemtum update 0.013023\n",
        "position update 0.015069\n",
        "force update 28.792844"
       ]
      },
      {
       "output_type": "stream",
       "stream": "stdout",
       "text": [
        "\n",
        "second momemtum update 0.020914\n",
        "first momemtum update 0.015508\n",
        "position update 0.028416"
       ]
      },
      {
       "output_type": "stream",
       "stream": "stdout",
       "text": [
        "\n",
        "force update 29.963706"
       ]
      },
      {
       "output_type": "stream",
       "stream": "stdout",
       "text": [
        "\n",
        "second momemtum update 0.013318\n",
        "first momemtum update 0.012975\n",
        "position update 0.015159\n",
        "force update 24.907676"
       ]
      },
      {
       "output_type": "stream",
       "stream": "stdout",
       "text": [
        "\n",
        "second momemtum update 0.013165\n",
        "first momemtum update 0.013034\n",
        "position update 0.015505\n",
        "force update 31.337291"
       ]
      },
      {
       "output_type": "stream",
       "stream": "stdout",
       "text": [
        "\n",
        "second momemtum update 0.019237\n",
        "first momemtum update 0.013580\n",
        "position update 0.015781\n",
        "force update 30.002437"
       ]
      },
      {
       "output_type": "stream",
       "stream": "stdout",
       "text": [
        "\n",
        "second momemtum update 0.012834\n",
        "first momemtum update 0.014836\n",
        "position update 0.019321\n",
        "force update 28.877861"
       ]
      },
      {
       "output_type": "stream",
       "stream": "stdout",
       "text": [
        "\n",
        "second momemtum update 0.019074\n",
        "first momemtum update 0.013707\n",
        "position update 0.015441\n",
        "force update 30.279268"
       ]
      },
      {
       "output_type": "stream",
       "stream": "stdout",
       "text": [
        "\n",
        "second momemtum update 0.018286\n",
        "first momemtum update 0.013436\n",
        "position update 0.015668\n",
        "force update 32.727249"
       ]
      },
      {
       "output_type": "stream",
       "stream": "stdout",
       "text": [
        "\n",
        "second momemtum update 0.020841\n",
        "first momemtum update 0.019520\n",
        "position update 0.023826"
       ]
      },
      {
       "output_type": "stream",
       "stream": "stdout",
       "text": [
        "\n",
        "force update 28.625088"
       ]
      },
      {
       "output_type": "stream",
       "stream": "stdout",
       "text": [
        "\n",
        "second momemtum update 0.167532"
       ]
      },
      {
       "output_type": "stream",
       "stream": "stdout",
       "text": [
        "\n",
        "first momemtum update 0.013868\n",
        "position update 0.022017"
       ]
      },
      {
       "output_type": "stream",
       "stream": "stdout",
       "text": [
        "\n",
        "force update 25.339661"
       ]
      },
      {
       "output_type": "stream",
       "stream": "stdout",
       "text": [
        "\n",
        "second momemtum update 0.013118\n",
        "first momemtum update 0.014416\n",
        "position update 0.017270\n",
        "force update 25.778550"
       ]
      },
      {
       "output_type": "stream",
       "stream": "stdout",
       "text": [
        "\n",
        "second momemtum update 0.027353\n",
        "first momemtum update 0.013923\n",
        "position update 0.019496"
       ]
      },
      {
       "output_type": "stream",
       "stream": "stdout",
       "text": [
        "\n",
        "force update 25.005764"
       ]
      },
      {
       "output_type": "stream",
       "stream": "stdout",
       "text": [
        "\n",
        "second momemtum update 0.012782\n",
        "first momemtum update 0.012963\n",
        "position update 0.015787\n",
        "force update 24.743533"
       ]
      },
      {
       "output_type": "stream",
       "stream": "stdout",
       "text": [
        "\n",
        "second momemtum update 0.013092\n",
        "first momemtum update 0.015141\n",
        "position update 0.021251\n",
        "force update 25.133801"
       ]
      },
      {
       "output_type": "stream",
       "stream": "stdout",
       "text": [
        "\n",
        "second momemtum update 0.012887\n",
        "first momemtum update 0.012991\n",
        "position update 0.016696\n",
        "force update 25.122910"
       ]
      },
      {
       "output_type": "stream",
       "stream": "stdout",
       "text": [
        "\n",
        "second momemtum update 0.015091\n",
        "first momemtum update 0.013307\n",
        "position update 0.015150\n",
        "force update 24.818252"
       ]
      },
      {
       "output_type": "stream",
       "stream": "stdout",
       "text": [
        "\n",
        "second momemtum update 0.014690\n",
        "first momemtum update 0.014672\n",
        "position update 0.015928\n",
        "force update 25.024324"
       ]
      },
      {
       "output_type": "stream",
       "stream": "stdout",
       "text": [
        "\n",
        "second momemtum update 0.013671\n",
        "first momemtum update 0.012943\n",
        "position update 0.015077\n",
        "force update 24.673991"
       ]
      },
      {
       "output_type": "stream",
       "stream": "stdout",
       "text": [
        "\n",
        "second momemtum update 0.014594\n",
        "first momemtum update 0.013622\n",
        "position update 0.016551\n",
        "force update 24.781311"
       ]
      },
      {
       "output_type": "stream",
       "stream": "stdout",
       "text": [
        "\n",
        "second momemtum update 0.020207\n",
        "first momemtum update 0.022047\n",
        "position update 0.027253"
       ]
      },
      {
       "output_type": "stream",
       "stream": "stdout",
       "text": [
        "\n",
        "force update 25.271084"
       ]
      },
      {
       "output_type": "stream",
       "stream": "stdout",
       "text": [
        "\n",
        "second momemtum update 0.013851\n",
        "first momemtum update 0.013334\n",
        "position update 0.016183"
       ]
      },
      {
       "output_type": "stream",
       "stream": "stdout",
       "text": [
        "\n",
        "force update 24.996923"
       ]
      },
      {
       "output_type": "stream",
       "stream": "stdout",
       "text": [
        "\n",
        "second momemtum update 0.015314\n",
        "first momemtum update 0.021803\n",
        "position update 0.026697"
       ]
      },
      {
       "output_type": "stream",
       "stream": "stdout",
       "text": [
        "\n",
        "force update 25.020134"
       ]
      },
      {
       "output_type": "stream",
       "stream": "stdout",
       "text": [
        "\n",
        "second momemtum update 0.013838\n",
        "first momemtum update 0.014074\n",
        "position update 0.015198\n",
        "force update 24.807561"
       ]
      },
      {
       "output_type": "stream",
       "stream": "stdout",
       "text": [
        "\n",
        "second momemtum update 0.013854\n",
        "first momemtum update 0.016338\n",
        "position update 0.015190\n",
        "force update 24.922878"
       ]
      },
      {
       "output_type": "stream",
       "stream": "stdout",
       "text": [
        "\n",
        "second momemtum update 0.012678\n",
        "first momemtum update 0.013441\n",
        "position update 0.015289\n",
        "force update 24.910091"
       ]
      },
      {
       "output_type": "stream",
       "stream": "stdout",
       "text": [
        "\n",
        "second momemtum update 0.015201\n",
        "first momemtum update 0.012749\n",
        "position update 0.017099\n",
        "force update 24.684659"
       ]
      },
      {
       "output_type": "stream",
       "stream": "stdout",
       "text": [
        "\n",
        "second momemtum update 0.013607\n",
        "first momemtum update 0.014170\n",
        "position update 0.014840\n",
        "force update 24.662226"
       ]
      },
      {
       "output_type": "stream",
       "stream": "stdout",
       "text": [
        "\n",
        "second momemtum update 0.012867\n",
        "first momemtum update 0.012742\n",
        "position update 0.023717\n",
        "force update 24.824614"
       ]
      },
      {
       "output_type": "stream",
       "stream": "stdout",
       "text": [
        "\n",
        "second momemtum update 0.014750\n",
        "first momemtum update 0.012972\n",
        "position update 0.015583\n",
        "force update 24.895684"
       ]
      },
      {
       "output_type": "stream",
       "stream": "stdout",
       "text": [
        "\n",
        "second momemtum update 0.013148\n",
        "first momemtum update 0.013031\n",
        "position update 0.015092\n",
        "force update 24.669501"
       ]
      },
      {
       "output_type": "stream",
       "stream": "stdout",
       "text": [
        "\n",
        "second momemtum update 0.014477\n",
        "first momemtum update 0.014702\n",
        "position update 0.015322\n",
        "force update 25.535839"
       ]
      },
      {
       "output_type": "stream",
       "stream": "stdout",
       "text": [
        "\n",
        "second momemtum update 0.016952\n",
        "first momemtum update 0.014273\n",
        "position update 0.020328"
       ]
      },
      {
       "output_type": "stream",
       "stream": "stdout",
       "text": [
        "\n",
        "force update 26.108039"
       ]
      },
      {
       "output_type": "stream",
       "stream": "stdout",
       "text": [
        "\n",
        "second momemtum update 0.013394\n",
        "first momemtum update 0.015370\n",
        "position update 0.017484\n",
        "force update 29.267914"
       ]
      },
      {
       "output_type": "stream",
       "stream": "stdout",
       "text": [
        "\n",
        "second momemtum update 0.018548\n",
        "first momemtum update 0.012899\n",
        "position update 0.015225\n",
        "force update 28.159501"
       ]
      },
      {
       "output_type": "stream",
       "stream": "stdout",
       "text": [
        "\n",
        "second momemtum update 0.013011\n",
        "first momemtum update 0.013694\n",
        "position update 0.014950\n",
        "force update 24.956977"
       ]
      },
      {
       "output_type": "stream",
       "stream": "stdout",
       "text": [
        "\n",
        "second momemtum update 0.013078\n",
        "first momemtum update 0.013124\n",
        "position update 0.015343\n",
        "force update 24.830775"
       ]
      },
      {
       "output_type": "stream",
       "stream": "stdout",
       "text": [
        "\n",
        "second momemtum update 0.019321\n",
        "first momemtum update 0.012922\n",
        "position update 0.016224\n",
        "force update 24.981887"
       ]
      },
      {
       "output_type": "stream",
       "stream": "stdout",
       "text": [
        "\n",
        "second momemtum update 0.017261\n",
        "first momemtum update 0.012994\n",
        "position update 0.017192\n",
        "force update 24.900145"
       ]
      },
      {
       "output_type": "stream",
       "stream": "stdout",
       "text": [
        "\n",
        "second momemtum update 0.014087\n",
        "first momemtum update 0.012891\n",
        "position update 0.015116\n",
        "force update 25.049487"
       ]
      },
      {
       "output_type": "stream",
       "stream": "stdout",
       "text": [
        "\n",
        "second momemtum update 0.013009\n",
        "first momemtum update 0.013572\n",
        "position update 0.015031\n",
        "force update 24.894759"
       ]
      },
      {
       "output_type": "stream",
       "stream": "stdout",
       "text": [
        "\n",
        "second momemtum update 0.013002\n",
        "first momemtum update 0.013026\n",
        "position update 0.015054\n",
        "force update 24.631213"
       ]
      },
      {
       "output_type": "stream",
       "stream": "stdout",
       "text": [
        "\n",
        "second momemtum update 0.013071\n",
        "first momemtum update 0.014175\n",
        "position update 0.015461\n",
        "force update 24.998831"
       ]
      },
      {
       "output_type": "stream",
       "stream": "stdout",
       "text": [
        "\n",
        "second momemtum update 0.012966\n",
        "first momemtum update 0.012644\n",
        "position update 0.015546\n",
        "force update 24.761360"
       ]
      },
      {
       "output_type": "stream",
       "stream": "stdout",
       "text": [
        "\n",
        "second momemtum update 0.013135\n",
        "first momemtum update 0.014453\n",
        "position update 0.015235\n",
        "force update 25.014928"
       ]
      },
      {
       "output_type": "stream",
       "stream": "stdout",
       "text": [
        "\n",
        "second momemtum update 0.012952\n",
        "first momemtum update 0.013791\n",
        "position update 0.016199\n",
        "force update 24.899064"
       ]
      },
      {
       "output_type": "stream",
       "stream": "stdout",
       "text": [
        "\n",
        "second momemtum update 0.015913\n",
        "first momemtum update 0.012985\n",
        "position update 0.015444\n",
        "force update 24.879507"
       ]
      },
      {
       "output_type": "stream",
       "stream": "stdout",
       "text": [
        "\n",
        "second momemtum update 0.012845\n",
        "first momemtum update 0.013810\n",
        "position update 0.015248\n",
        "force update 24.856350"
       ]
      },
      {
       "output_type": "stream",
       "stream": "stdout",
       "text": [
        "\n",
        "second momemtum update 0.014331\n",
        "first momemtum update 0.014231\n",
        "position update 0.016551\n",
        "force update 25.464989"
       ]
      },
      {
       "output_type": "stream",
       "stream": "stdout",
       "text": [
        "\n",
        "second momemtum update 0.013024\n",
        "first momemtum update 0.012967\n",
        "position update 0.015330\n",
        "force update 28.672724"
       ]
      },
      {
       "output_type": "stream",
       "stream": "stdout",
       "text": [
        "\n",
        "second momemtum update 0.013592\n",
        "first momemtum update 0.013098\n",
        "position update 0.015447\n",
        "force update 25.013796"
       ]
      },
      {
       "output_type": "stream",
       "stream": "stdout",
       "text": [
        "\n",
        "second momemtum update 0.012974\n",
        "first momemtum update 0.014280\n",
        "position update 0.015041\n",
        "force update 24.743296"
       ]
      },
      {
       "output_type": "stream",
       "stream": "stdout",
       "text": [
        "\n",
        "second momemtum update 0.013552\n",
        "first momemtum update 0.012977\n",
        "position update 0.015139\n",
        "force update 24.636706"
       ]
      },
      {
       "output_type": "stream",
       "stream": "stdout",
       "text": [
        "\n",
        "second momemtum update 0.012816\n",
        "first momemtum update 0.012873\n",
        "position update 0.015597\n",
        "force update 24.759382"
       ]
      },
      {
       "output_type": "stream",
       "stream": "stdout",
       "text": [
        "\n",
        "second momemtum update 0.012954\n",
        "first momemtum update 0.012858\n",
        "position update 0.014947\n",
        "force update 24.751616"
       ]
      },
      {
       "output_type": "stream",
       "stream": "stdout",
       "text": [
        "\n",
        "second momemtum update 0.012989\n",
        "first momemtum update 0.012682\n",
        "position update 0.014867\n",
        "force update 24.768452"
       ]
      },
      {
       "output_type": "stream",
       "stream": "stdout",
       "text": [
        "\n",
        "second momemtum update 0.018725\n",
        "first momemtum update 0.012913\n",
        "position update 0.015018\n",
        "force update 24.899704"
       ]
      },
      {
       "output_type": "stream",
       "stream": "stdout",
       "text": [
        "\n",
        "second momemtum update 0.012726\n",
        "first momemtum update 0.012905\n",
        "position update 0.016415\n",
        "force update 24.728617"
       ]
      },
      {
       "output_type": "stream",
       "stream": "stdout",
       "text": [
        "\n",
        "second momemtum update 0.012885\n",
        "first momemtum update 0.015037\n",
        "position update 0.015433\n",
        "force update 24.942811"
       ]
      },
      {
       "output_type": "stream",
       "stream": "stdout",
       "text": [
        "\n",
        "second momemtum update 0.013093\n",
        "first momemtum update 0.013119\n",
        "position update 0.015234\n",
        "force update 24.734642"
       ]
      },
      {
       "output_type": "stream",
       "stream": "stdout",
       "text": [
        "\n",
        "second momemtum update 0.014527\n",
        "first momemtum update 0.012825\n",
        "position update 0.014915\n",
        "force update 24.975046"
       ]
      },
      {
       "output_type": "stream",
       "stream": "stdout",
       "text": [
        "\n",
        "second momemtum update 0.015196\n",
        "first momemtum update 0.013063\n",
        "position update 0.016541\n",
        "force update 24.927018"
       ]
      },
      {
       "output_type": "stream",
       "stream": "stdout",
       "text": [
        "\n",
        "second momemtum update 0.012902\n",
        "first momemtum update 0.012760\n",
        "position update 0.014925\n",
        "force update 24.746196"
       ]
      },
      {
       "output_type": "stream",
       "stream": "stdout",
       "text": [
        "\n",
        "second momemtum update 0.012832\n",
        "first momemtum update 0.013000\n",
        "position update 0.015271\n",
        "force update 24.883230"
       ]
      },
      {
       "output_type": "stream",
       "stream": "stdout",
       "text": [
        "\n",
        "second momemtum update 0.012874\n",
        "first momemtum update 0.012892\n",
        "position update 0.016576\n",
        "force update 24.642863"
       ]
      },
      {
       "output_type": "stream",
       "stream": "stdout",
       "text": [
        "\n",
        "second momemtum update 0.013571\n",
        "first momemtum update 0.013060\n",
        "position update 0.016345\n",
        "force update 24.793765"
       ]
      },
      {
       "output_type": "stream",
       "stream": "stdout",
       "text": [
        "\n",
        "second momemtum update 0.012871\n",
        "first momemtum update 0.012858\n",
        "position update 0.015337\n",
        "force update 24.877661"
       ]
      },
      {
       "output_type": "stream",
       "stream": "stdout",
       "text": [
        "\n",
        "second momemtum update 0.018405\n",
        "first momemtum update 0.014241\n",
        "position update 0.015030\n",
        "force update 24.829715"
       ]
      },
      {
       "output_type": "stream",
       "stream": "stdout",
       "text": [
        "\n",
        "second momemtum update 0.012876\n",
        "first momemtum update 0.012907\n",
        "position update 0.015321\n",
        "force update 24.915975"
       ]
      },
      {
       "output_type": "stream",
       "stream": "stdout",
       "text": [
        "\n",
        "second momemtum update 0.014193\n",
        "first momemtum update 0.012985\n",
        "position update 0.015726\n",
        "force update 24.982508"
       ]
      },
      {
       "output_type": "stream",
       "stream": "stdout",
       "text": [
        "\n",
        "second momemtum update 0.012970\n",
        "first momemtum update 0.012980\n",
        "position update 0.015256\n",
        "force update 24.931684"
       ]
      },
      {
       "output_type": "stream",
       "stream": "stdout",
       "text": [
        "\n",
        "second momemtum update 0.013412\n",
        "first momemtum update 0.012876\n",
        "position update 0.015302\n",
        "force update 24.783146"
       ]
      },
      {
       "output_type": "stream",
       "stream": "stdout",
       "text": [
        "\n",
        "second momemtum update 0.019610\n",
        "first momemtum update 0.012827\n",
        "position update 0.015188\n",
        "force update 24.959763"
       ]
      },
      {
       "output_type": "stream",
       "stream": "stdout",
       "text": [
        "\n",
        "second momemtum update 0.016046\n",
        "first momemtum update 0.015017\n",
        "position update 0.015188\n",
        "force update 24.917539"
       ]
      },
      {
       "output_type": "stream",
       "stream": "stdout",
       "text": [
        "\n",
        "second momemtum update 0.013045\n",
        "first momemtum update 0.015921\n",
        "position update 0.016536\n",
        "force update 24.980671"
       ]
      },
      {
       "output_type": "stream",
       "stream": "stdout",
       "text": [
        "\n",
        "second momemtum update 0.013882\n",
        "first momemtum update 0.013027\n",
        "position update 0.015256\n",
        "force update 24.841558"
       ]
      },
      {
       "output_type": "stream",
       "stream": "stdout",
       "text": [
        "\n",
        "second momemtum update 0.014061\n",
        "first momemtum update 0.013503\n",
        "position update 0.015597\n",
        "force update 24.903903"
       ]
      },
      {
       "output_type": "stream",
       "stream": "stdout",
       "text": [
        "\n",
        "second momemtum update 0.012843\n",
        "first momemtum update 0.012865\n",
        "position update 0.016094\n",
        "force update 24.694320"
       ]
      },
      {
       "output_type": "stream",
       "stream": "stdout",
       "text": [
        "\n",
        "second momemtum update 0.012687\n",
        "first momemtum update 0.012866\n",
        "position update 0.016234\n",
        "force update 24.597131"
       ]
      },
      {
       "output_type": "stream",
       "stream": "stdout",
       "text": [
        "\n",
        "second momemtum update 0.012848\n",
        "first momemtum update 0.012962\n",
        "position update 0.015533\n",
        "force update 24.542090"
       ]
      },
      {
       "output_type": "stream",
       "stream": "stdout",
       "text": [
        "\n",
        "second momemtum update 0.012858\n",
        "first momemtum update 0.012958\n",
        "position update 0.015586\n",
        "force update 24.821216"
       ]
      },
      {
       "output_type": "stream",
       "stream": "stdout",
       "text": [
        "\n",
        "second momemtum update 0.013549\n",
        "first momemtum update 0.012696\n",
        "position update 0.015997\n",
        "force update 24.471787"
       ]
      },
      {
       "output_type": "stream",
       "stream": "stdout",
       "text": [
        "\n",
        "second momemtum update 0.012643\n",
        "first momemtum update 0.013037\n",
        "position update 0.016176\n",
        "force update 24.827531"
       ]
      },
      {
       "output_type": "stream",
       "stream": "stdout",
       "text": [
        "\n",
        "second momemtum update 0.012890\n",
        "first momemtum update 0.013634\n",
        "position update 0.017539\n",
        "force update 24.685619"
       ]
      },
      {
       "output_type": "stream",
       "stream": "stdout",
       "text": [
        "\n",
        "second momemtum update 0.012804\n",
        "first momemtum update 0.012903\n",
        "position update 0.015129\n",
        "force update 24.936834"
       ]
      },
      {
       "output_type": "stream",
       "stream": "stdout",
       "text": [
        "\n",
        "second momemtum update 0.014354\n",
        "first momemtum update 0.012742\n",
        "position update 0.016119\n",
        "force update 24.879495"
       ]
      },
      {
       "output_type": "stream",
       "stream": "stdout",
       "text": [
        "\n",
        "second momemtum update 0.012765\n",
        "first momemtum update 0.012728\n",
        "position update 0.015147\n",
        "force update 24.819734"
       ]
      },
      {
       "output_type": "stream",
       "stream": "stdout",
       "text": [
        "\n",
        "second momemtum update 0.013755\n",
        "first momemtum update 0.014366\n",
        "position update 0.015930\n",
        "force update 24.781559"
       ]
      },
      {
       "output_type": "stream",
       "stream": "stdout",
       "text": [
        "\n",
        "second momemtum update 0.012887\n",
        "first momemtum update 0.012828\n",
        "position update 0.015130\n",
        "force update 24.758507"
       ]
      },
      {
       "output_type": "stream",
       "stream": "stdout",
       "text": [
        "\n",
        "second momemtum update 0.012934\n",
        "first momemtum update 0.012898\n",
        "position update 0.015212\n",
        "force update 24.980671"
       ]
      },
      {
       "output_type": "stream",
       "stream": "stdout",
       "text": [
        "\n",
        "second momemtum update 0.013074\n",
        "first momemtum update 0.013073\n",
        "position update 0.015712\n",
        "force update 24.660263"
       ]
      },
      {
       "output_type": "stream",
       "stream": "stdout",
       "text": [
        "\n",
        "second momemtum update 0.012781\n",
        "first momemtum update 0.012845\n",
        "position update 0.015335\n",
        "force update 24.765534"
       ]
      },
      {
       "output_type": "stream",
       "stream": "stdout",
       "text": [
        "\n",
        "second momemtum update 0.012964\n",
        "first momemtum update 0.012847\n",
        "position update 0.015171\n",
        "force update 24.856234"
       ]
      },
      {
       "output_type": "stream",
       "stream": "stdout",
       "text": [
        "\n",
        "second momemtum update 0.013471\n",
        "first momemtum update 0.012675\n",
        "position update 0.015163\n",
        "force update 24.927007"
       ]
      },
      {
       "output_type": "stream",
       "stream": "stdout",
       "text": [
        "\n",
        "second momemtum update 0.013392\n",
        "first momemtum update 0.013010\n",
        "position update 0.016681\n",
        "force update 24.702932"
       ]
      },
      {
       "output_type": "stream",
       "stream": "stdout",
       "text": [
        "\n",
        "second momemtum update 0.012674\n",
        "first momemtum update 0.012793\n",
        "position update 0.016019\n",
        "force update 24.721051"
       ]
      },
      {
       "output_type": "stream",
       "stream": "stdout",
       "text": [
        "\n",
        "second momemtum update 0.014503\n",
        "first momemtum update 0.013812\n",
        "position update 0.015180\n",
        "force update 24.671670"
       ]
      },
      {
       "output_type": "stream",
       "stream": "stdout",
       "text": [
        "\n",
        "second momemtum update 0.014598\n",
        "first momemtum update 0.012734\n",
        "position update 0.015714\n",
        "force update 25.403374"
       ]
      },
      {
       "output_type": "stream",
       "stream": "stdout",
       "text": [
        "\n",
        "second momemtum update 0.012985\n",
        "first momemtum update 0.012881\n",
        "position update 0.015201\n",
        "force update 24.893711"
       ]
      },
      {
       "output_type": "stream",
       "stream": "stdout",
       "text": [
        "\n",
        "second momemtum update 0.013224\n",
        "first momemtum update 0.013272\n",
        "position update 0.016382\n",
        "force update 24.680208"
       ]
      },
      {
       "output_type": "stream",
       "stream": "stdout",
       "text": [
        "\n",
        "second momemtum update 0.013174\n",
        "first momemtum update 0.012882\n",
        "position update 0.016751\n",
        "force update 24.687606"
       ]
      },
      {
       "output_type": "stream",
       "stream": "stdout",
       "text": [
        "\n",
        "second momemtum update 0.013000\n",
        "first momemtum update 0.013033\n",
        "position update 0.015630\n",
        "force update 24.763211"
       ]
      },
      {
       "output_type": "stream",
       "stream": "stdout",
       "text": [
        "\n",
        "second momemtum update 0.014752\n",
        "first momemtum update 0.014142\n",
        "position update 0.015090\n",
        "force update 24.637825"
       ]
      },
      {
       "output_type": "stream",
       "stream": "stdout",
       "text": [
        "\n",
        "second momemtum update 0.013124\n",
        "first momemtum update 0.013313\n",
        "position update 0.015119\n",
        "force update 24.570789"
       ]
      },
      {
       "output_type": "stream",
       "stream": "stdout",
       "text": [
        "\n",
        "second momemtum update 0.020212\n",
        "first momemtum update 0.012857\n",
        "position update 0.015174\n",
        "force update 25.011301"
       ]
      },
      {
       "output_type": "stream",
       "stream": "stdout",
       "text": [
        "\n",
        "second momemtum update 0.013391\n",
        "first momemtum update 0.014653\n",
        "position update 0.016092\n",
        "force update 24.745459"
       ]
      },
      {
       "output_type": "stream",
       "stream": "stdout",
       "text": [
        "\n",
        "second momemtum update 0.013045\n",
        "first momemtum update 0.012926\n",
        "position update 0.015340\n",
        "force update 24.804022"
       ]
      },
      {
       "output_type": "stream",
       "stream": "stdout",
       "text": [
        "\n",
        "second momemtum update 0.014717\n",
        "first momemtum update 0.014614\n",
        "position update 0.015204\n",
        "force update 24.628018"
       ]
      },
      {
       "output_type": "stream",
       "stream": "stdout",
       "text": [
        "\n",
        "second momemtum update 0.012923\n",
        "first momemtum update 0.013107\n",
        "position update 0.015362\n",
        "force update 24.693223"
       ]
      },
      {
       "output_type": "stream",
       "stream": "stdout",
       "text": [
        "\n",
        "second momemtum update 0.019120\n",
        "first momemtum update 0.012787\n",
        "position update 0.015060\n",
        "force update 24.943529"
       ]
      },
      {
       "output_type": "stream",
       "stream": "stdout",
       "text": [
        "\n",
        "second momemtum update 0.013573\n",
        "first momemtum update 0.014454\n",
        "position update 0.015270\n",
        "force update 24.839517"
       ]
      },
      {
       "output_type": "stream",
       "stream": "stdout",
       "text": [
        "\n",
        "second momemtum update 0.013131\n",
        "first momemtum update 0.012897\n",
        "position update 0.015353\n",
        "force update 24.816007"
       ]
      },
      {
       "output_type": "stream",
       "stream": "stdout",
       "text": [
        "\n",
        "second momemtum update 0.014115\n",
        "first momemtum update 0.012676\n",
        "position update 0.015053\n",
        "force update 24.677165"
       ]
      },
      {
       "output_type": "stream",
       "stream": "stdout",
       "text": [
        "\n",
        "second momemtum update 0.015106\n",
        "first momemtum update 0.013119\n",
        "position update 0.019526\n",
        "force update 24.723732"
       ]
      },
      {
       "output_type": "stream",
       "stream": "stdout",
       "text": [
        "\n",
        "second momemtum update 0.014549\n",
        "first momemtum update 0.012944\n",
        "position update 0.016076\n",
        "force update 24.953996"
       ]
      },
      {
       "output_type": "stream",
       "stream": "stdout",
       "text": [
        "\n",
        "second momemtum update 0.014195\n",
        "first momemtum update 0.012900\n",
        "position update 0.022401\n",
        "force update 24.986717"
       ]
      },
      {
       "output_type": "stream",
       "stream": "stdout",
       "text": [
        "\n",
        "second momemtum update 0.020184\n",
        "first momemtum update 0.022152\n",
        "position update 0.027278"
       ]
      },
      {
       "output_type": "stream",
       "stream": "stdout",
       "text": [
        "\n",
        "force update 25.457868"
       ]
      },
      {
       "output_type": "stream",
       "stream": "stdout",
       "text": [
        "\n",
        "second momemtum update 0.013104\n",
        "first momemtum update 0.013366\n",
        "position update 0.015083\n",
        "force update 24.865446"
       ]
      },
      {
       "output_type": "stream",
       "stream": "stdout",
       "text": [
        "\n",
        "second momemtum update 0.013562\n",
        "first momemtum update 0.013173\n",
        "position update 0.015086\n",
        "force update 24.606692"
       ]
      },
      {
       "output_type": "stream",
       "stream": "stdout",
       "text": [
        "\n",
        "second momemtum update 0.017336\n",
        "first momemtum update 0.012979\n",
        "position update 0.015816\n",
        "force update 24.793654"
       ]
      },
      {
       "output_type": "stream",
       "stream": "stdout",
       "text": [
        "\n",
        "second momemtum update 0.012940\n",
        "first momemtum update 0.012901\n",
        "position update 0.015018\n",
        "force update 24.686759"
       ]
      },
      {
       "output_type": "stream",
       "stream": "stdout",
       "text": [
        "\n",
        "second momemtum update 0.012789\n",
        "first momemtum update 0.012836\n",
        "position update 0.016517\n",
        "force update 24.705273"
       ]
      },
      {
       "output_type": "stream",
       "stream": "stdout",
       "text": [
        "\n",
        "second momemtum update 0.012718\n",
        "first momemtum update 0.012930\n",
        "position update 0.015193\n",
        "force update 24.704148"
       ]
      },
      {
       "output_type": "stream",
       "stream": "stdout",
       "text": [
        "\n",
        "second momemtum update 0.012809\n",
        "first momemtum update 0.012797\n",
        "position update 0.015827\n",
        "force update 25.377228"
       ]
      },
      {
       "output_type": "stream",
       "stream": "stdout",
       "text": [
        "\n",
        "second momemtum update 0.012894\n",
        "first momemtum update 0.013515\n",
        "position update 0.015424\n",
        "force update 24.957385"
       ]
      },
      {
       "output_type": "stream",
       "stream": "stdout",
       "text": [
        "\n",
        "second momemtum update 0.013003\n",
        "first momemtum update 0.013022\n",
        "position update 0.015855\n",
        "force update 24.713150"
       ]
      },
      {
       "output_type": "stream",
       "stream": "stdout",
       "text": [
        "\n",
        "second momemtum update 0.013087\n",
        "first momemtum update 0.013489\n",
        "position update 0.015094\n",
        "force update 24.624855"
       ]
      },
      {
       "output_type": "stream",
       "stream": "stdout",
       "text": [
        "\n",
        "second momemtum update 0.012840\n",
        "first momemtum update 0.012772\n",
        "position update 0.015138\n",
        "force update 24.737078"
       ]
      },
      {
       "output_type": "stream",
       "stream": "stdout",
       "text": [
        "\n",
        "second momemtum update 0.014572\n",
        "first momemtum update 0.012970\n",
        "position update 0.016272\n",
        "force update 24.868353"
       ]
      },
      {
       "output_type": "stream",
       "stream": "stdout",
       "text": [
        "\n",
        "second momemtum update 0.013885\n",
        "first momemtum update 0.012942\n",
        "position update 0.015635\n",
        "force update 24.739080"
       ]
      },
      {
       "output_type": "stream",
       "stream": "stdout",
       "text": [
        "\n",
        "second momemtum update 0.013228\n",
        "first momemtum update 0.016609\n",
        "position update 0.015883\n",
        "force update 24.877986"
       ]
      },
      {
       "output_type": "stream",
       "stream": "stdout",
       "text": [
        "\n",
        "second momemtum update 0.012912\n",
        "first momemtum update 0.012893\n",
        "position update 0.015813\n",
        "force update 24.857414"
       ]
      },
      {
       "output_type": "stream",
       "stream": "stdout",
       "text": [
        "\n",
        "second momemtum update 0.012940\n",
        "first momemtum update 0.012837\n",
        "position update 0.015350\n",
        "force update 24.705670"
       ]
      },
      {
       "output_type": "stream",
       "stream": "stdout",
       "text": [
        "\n",
        "second momemtum update 0.012898\n",
        "first momemtum update 0.014438\n",
        "position update 0.016063\n",
        "force update 24.708736"
       ]
      },
      {
       "output_type": "stream",
       "stream": "stdout",
       "text": [
        "\n",
        "second momemtum update 0.015216\n",
        "first momemtum update 0.013721\n",
        "position update 0.015915\n",
        "force update 24.632817"
       ]
      },
      {
       "output_type": "stream",
       "stream": "stdout",
       "text": [
        "\n",
        "second momemtum update 0.012704\n",
        "first momemtum update 0.012850\n",
        "position update 0.015109\n",
        "force update 24.668236"
       ]
      },
      {
       "output_type": "stream",
       "stream": "stdout",
       "text": [
        "\n",
        "second momemtum update 0.012821\n",
        "first momemtum update 0.012938\n",
        "position update 0.019716\n",
        "force update 24.639353"
       ]
      },
      {
       "output_type": "stream",
       "stream": "stdout",
       "text": [
        "\n",
        "second momemtum update 0.019172\n",
        "first momemtum update 0.024680\n",
        "position update 0.024566"
       ]
      },
      {
       "output_type": "stream",
       "stream": "stdout",
       "text": [
        "\n",
        "force update 24.750118"
       ]
      },
      {
       "output_type": "stream",
       "stream": "stdout",
       "text": [
        "\n",
        "second momemtum update 0.013554\n",
        "first momemtum update 0.013051\n",
        "position update 0.017234\n",
        "force update 24.757398"
       ]
      },
      {
       "output_type": "stream",
       "stream": "stdout",
       "text": [
        "\n",
        "second momemtum update 0.016032\n",
        "first momemtum update 0.014598\n",
        "position update 0.017775\n",
        "force update 24.706222"
       ]
      },
      {
       "output_type": "stream",
       "stream": "stdout",
       "text": [
        "\n",
        "second momemtum update 0.012880\n",
        "first momemtum update 0.012913\n",
        "position update 0.015202\n",
        "force update 24.523520"
       ]
      },
      {
       "output_type": "stream",
       "stream": "stdout",
       "text": [
        "\n",
        "second momemtum update 0.019952\n",
        "first momemtum update 0.022323\n",
        "position update 0.027249"
       ]
      },
      {
       "output_type": "stream",
       "stream": "stdout",
       "text": [
        "\n",
        "force update 24.838657"
       ]
      },
      {
       "output_type": "stream",
       "stream": "stdout",
       "text": [
        "\n",
        "second momemtum update 0.012716\n",
        "first momemtum update 0.012673\n",
        "position update 0.015116\n",
        "force update 24.657913"
       ]
      },
      {
       "output_type": "stream",
       "stream": "stdout",
       "text": [
        "\n",
        "second momemtum update 0.013426\n",
        "first momemtum update 0.014012\n",
        "position update 0.015087\n",
        "force update 24.734545"
       ]
      },
      {
       "output_type": "stream",
       "stream": "stdout",
       "text": [
        "\n",
        "second momemtum update 0.012764\n",
        "first momemtum update 0.015898\n",
        "position update 0.017661\n",
        "force update 24.717299"
       ]
      },
      {
       "output_type": "stream",
       "stream": "stdout",
       "text": [
        "\n",
        "second momemtum update 0.012735\n",
        "first momemtum update 0.014962\n",
        "position update 0.015412\n",
        "force update 24.865718"
       ]
      },
      {
       "output_type": "stream",
       "stream": "stdout",
       "text": [
        "\n",
        "second momemtum update 0.013734\n",
        "first momemtum update 0.018223\n",
        "position update 0.027157"
       ]
      },
      {
       "output_type": "stream",
       "stream": "stdout",
       "text": [
        "\n",
        "force update 25.102832"
       ]
      },
      {
       "output_type": "stream",
       "stream": "stdout",
       "text": [
        "\n",
        "second momemtum update 0.013802\n",
        "first momemtum update 0.012783\n",
        "position update 0.015824\n",
        "force update 24.805891"
       ]
      },
      {
       "output_type": "stream",
       "stream": "stdout",
       "text": [
        "\n",
        "second momemtum update 0.020037\n",
        "first momemtum update 0.022026\n",
        "position update 0.027257"
       ]
      },
      {
       "output_type": "stream",
       "stream": "stdout",
       "text": [
        "\n",
        "force update 25.211543"
       ]
      },
      {
       "output_type": "stream",
       "stream": "stdout",
       "text": [
        "\n",
        "second momemtum update 0.013949\n",
        "first momemtum update 0.012696\n",
        "position update 0.016113\n",
        "force update 24.708199"
       ]
      },
      {
       "output_type": "stream",
       "stream": "stdout",
       "text": [
        "\n",
        "second momemtum update 0.012732\n",
        "first momemtum update 0.012801\n",
        "position update 0.014997\n",
        "force update 25.087743"
       ]
      },
      {
       "output_type": "stream",
       "stream": "stdout",
       "text": [
        "\n",
        "second momemtum update 0.012942\n",
        "first momemtum update 0.014163\n",
        "position update 0.015610\n",
        "force update 24.701526"
       ]
      },
      {
       "output_type": "stream",
       "stream": "stdout",
       "text": [
        "\n",
        "second momemtum update 0.020061\n",
        "first momemtum update 0.022085\n",
        "position update 0.027253"
       ]
      },
      {
       "output_type": "stream",
       "stream": "stdout",
       "text": [
        "\n",
        "force update 25.096437"
       ]
      },
      {
       "output_type": "stream",
       "stream": "stdout",
       "text": [
        "\n",
        "second momemtum update 0.013283\n",
        "first momemtum update 0.013442\n",
        "position update 0.016355\n",
        "force update 24.927831"
       ]
      },
      {
       "output_type": "stream",
       "stream": "stdout",
       "text": [
        "\n",
        "second momemtum update 0.013955\n",
        "first momemtum update 0.025647\n",
        "position update 0.029571"
       ]
      },
      {
       "output_type": "stream",
       "stream": "stdout",
       "text": [
        "\n",
        "force update 25.115684"
       ]
      },
      {
       "output_type": "stream",
       "stream": "stdout",
       "text": [
        "\n",
        "second momemtum update 0.013069\n",
        "first momemtum update 0.012722\n",
        "position update 0.015583\n",
        "force update 24.822129"
       ]
      },
      {
       "output_type": "stream",
       "stream": "stdout",
       "text": [
        "\n",
        "second momemtum update 0.015271\n",
        "first momemtum update 0.014288\n",
        "position update 0.016036\n",
        "force update 24.503661"
       ]
      },
      {
       "output_type": "stream",
       "stream": "stdout",
       "text": [
        "\n",
        "second momemtum update 0.013480\n",
        "first momemtum update 0.012790\n",
        "position update 0.016601\n",
        "force update 24.770242"
       ]
      },
      {
       "output_type": "stream",
       "stream": "stdout",
       "text": [
        "\n",
        "second momemtum update 0.013194\n",
        "first momemtum update 0.012863\n",
        "position update 0.016688\n",
        "force update 24.917022"
       ]
      },
      {
       "output_type": "stream",
       "stream": "stdout",
       "text": [
        "\n",
        "second momemtum update 0.012766\n",
        "first momemtum update 0.014987\n",
        "position update 0.015213\n",
        "force update 24.593731"
       ]
      },
      {
       "output_type": "stream",
       "stream": "stdout",
       "text": [
        "\n",
        "second momemtum update 0.013129\n",
        "first momemtum update 0.014638\n",
        "position update 0.018319\n",
        "force update 24.607699"
       ]
      },
      {
       "output_type": "stream",
       "stream": "stdout",
       "text": [
        "\n",
        "second momemtum update 0.013794\n",
        "first momemtum update 0.013409\n",
        "position update 0.017071\n",
        "force update 24.679472"
       ]
      },
      {
       "output_type": "stream",
       "stream": "stdout",
       "text": [
        "\n",
        "second momemtum update 0.014154\n",
        "first momemtum update 0.013099\n",
        "position update 0.015470\n",
        "force update 24.663612"
       ]
      },
      {
       "output_type": "stream",
       "stream": "stdout",
       "text": [
        "\n",
        "second momemtum update 0.012795\n",
        "first momemtum update 0.012742\n",
        "position update 0.015187\n",
        "force update 24.626452"
       ]
      },
      {
       "output_type": "stream",
       "stream": "stdout",
       "text": [
        "\n",
        "second momemtum update 0.014229\n",
        "first momemtum update 0.013403\n",
        "position update 0.015248\n",
        "force update 24.704931"
       ]
      },
      {
       "output_type": "stream",
       "stream": "stdout",
       "text": [
        "\n",
        "second momemtum update 0.013781\n",
        "first momemtum update 0.015116\n",
        "position update 0.016152\n",
        "force update 24.727815"
       ]
      },
      {
       "output_type": "stream",
       "stream": "stdout",
       "text": [
        "\n",
        "second momemtum update 0.012967\n",
        "first momemtum update 0.014635\n",
        "position update 0.016357\n",
        "force update 24.792432"
       ]
      },
      {
       "output_type": "stream",
       "stream": "stdout",
       "text": [
        "\n",
        "second momemtum update 0.013384\n",
        "first momemtum update 0.014291\n",
        "position update 0.015958\n",
        "force update 24.858685"
       ]
      },
      {
       "output_type": "stream",
       "stream": "stdout",
       "text": [
        "\n",
        "second momemtum update 0.012933\n",
        "first momemtum update 0.014289\n",
        "position update 0.015294\n",
        "force update 24.643543"
       ]
      },
      {
       "output_type": "stream",
       "stream": "stdout",
       "text": [
        "\n",
        "second momemtum update 0.013671\n",
        "first momemtum update 0.012924\n",
        "position update 0.016879\n",
        "force update 24.806750"
       ]
      },
      {
       "output_type": "stream",
       "stream": "stdout",
       "text": [
        "\n",
        "second momemtum update 0.015234\n",
        "first momemtum update 0.013247\n",
        "position update 0.015152\n",
        "force update 24.910792"
       ]
      },
      {
       "output_type": "stream",
       "stream": "stdout",
       "text": [
        "\n",
        "second momemtum update 0.013755\n",
        "first momemtum update 0.012845\n",
        "position update 0.015913\n",
        "force update 24.730708"
       ]
      },
      {
       "output_type": "stream",
       "stream": "stdout",
       "text": [
        "\n",
        "second momemtum update 0.014709\n",
        "first momemtum update 0.025434\n",
        "position update 0.029456"
       ]
      },
      {
       "output_type": "stream",
       "stream": "stdout",
       "text": [
        "\n",
        "force update 25.209599"
       ]
      },
      {
       "output_type": "stream",
       "stream": "stdout",
       "text": [
        "\n",
        "second momemtum update 0.020430\n",
        "first momemtum update 0.022068\n",
        "position update 0.027329"
       ]
      },
      {
       "output_type": "stream",
       "stream": "stdout",
       "text": [
        "\n",
        "force update 25.080412"
       ]
      },
      {
       "output_type": "stream",
       "stream": "stdout",
       "text": [
        "\n",
        "second momemtum update 0.012992\n",
        "first momemtum update 0.013043\n",
        "position update 0.015836\n",
        "force update 24.723001"
       ]
      },
      {
       "output_type": "stream",
       "stream": "stdout",
       "text": [
        "\n",
        "second momemtum update 0.012859\n",
        "first momemtum update 0.013060\n",
        "position update 0.017306\n",
        "force update 24.732368"
       ]
      },
      {
       "output_type": "stream",
       "stream": "stdout",
       "text": [
        "\n",
        "second momemtum update 0.014746\n",
        "first momemtum update 0.014791\n",
        "position update 0.015964\n",
        "force update 24.595753"
       ]
      },
      {
       "output_type": "stream",
       "stream": "stdout",
       "text": [
        "\n",
        "second momemtum update 0.020547\n",
        "first momemtum update 0.018310\n",
        "position update 0.015246"
       ]
      },
      {
       "output_type": "stream",
       "stream": "stdout",
       "text": [
        "\n",
        "force update 24.993184"
       ]
      },
      {
       "output_type": "stream",
       "stream": "stdout",
       "text": [
        "\n",
        "second momemtum update 0.013030\n",
        "first momemtum update 0.012933\n",
        "position update 0.015247\n",
        "force update 24.525851"
       ]
      },
      {
       "output_type": "stream",
       "stream": "stdout",
       "text": [
        "\n",
        "second momemtum update 0.012797\n",
        "first momemtum update 0.012738\n",
        "position update 0.015857\n",
        "force update 25.066210"
       ]
      },
      {
       "output_type": "stream",
       "stream": "stdout",
       "text": [
        "\n",
        "second momemtum update 0.014361\n",
        "first momemtum update 0.014881\n",
        "position update 0.016092\n",
        "force update 24.612158"
       ]
      },
      {
       "output_type": "stream",
       "stream": "stdout",
       "text": [
        "\n",
        "second momemtum update 0.014552\n",
        "first momemtum update 0.014806\n",
        "position update 0.014990\n",
        "force update 24.551797"
       ]
      },
      {
       "output_type": "stream",
       "stream": "stdout",
       "text": [
        "\n",
        "second momemtum update 0.013685\n",
        "first momemtum update 0.012916\n",
        "position update 0.015223\n",
        "force update 24.765010"
       ]
      },
      {
       "output_type": "stream",
       "stream": "stdout",
       "text": [
        "\n",
        "second momemtum update 0.013057\n",
        "first momemtum update 0.013275\n",
        "position update 0.015050\n",
        "force update 24.623804"
       ]
      },
      {
       "output_type": "stream",
       "stream": "stdout",
       "text": [
        "\n",
        "second momemtum update 0.013458\n",
        "first momemtum update 0.013115\n",
        "position update 0.015341\n",
        "force update 24.788343"
       ]
      },
      {
       "output_type": "stream",
       "stream": "stdout",
       "text": [
        "\n",
        "second momemtum update 0.014061\n",
        "first momemtum update 0.013790\n",
        "position update 0.019127\n",
        "force update 24.715253"
       ]
      },
      {
       "output_type": "stream",
       "stream": "stdout",
       "text": [
        "\n",
        "second momemtum update 0.014436\n",
        "first momemtum update 0.012952\n",
        "position update 0.016352\n",
        "force update 24.727717"
       ]
      },
      {
       "output_type": "stream",
       "stream": "stdout",
       "text": [
        "\n",
        "second momemtum update 0.013486\n",
        "first momemtum update 0.012907\n",
        "position update 0.016568\n",
        "force update 24.677036"
       ]
      },
      {
       "output_type": "stream",
       "stream": "stdout",
       "text": [
        "\n",
        "second momemtum update 0.012684\n",
        "first momemtum update 0.013557\n",
        "position update 0.016124\n",
        "force update 24.760853"
       ]
      },
      {
       "output_type": "stream",
       "stream": "stdout",
       "text": [
        "\n",
        "second momemtum update 0.013157\n",
        "first momemtum update 0.013060\n",
        "position update 0.015232\n",
        "force update 24.895924"
       ]
      },
      {
       "output_type": "stream",
       "stream": "stdout",
       "text": [
        "\n",
        "second momemtum update 0.012671\n",
        "first momemtum update 0.014248\n",
        "position update 0.015024\n",
        "force update 24.870209"
       ]
      },
      {
       "output_type": "stream",
       "stream": "stdout",
       "text": [
        "\n",
        "second momemtum update 0.012916\n",
        "first momemtum update 0.015161\n",
        "position update 0.015064\n",
        "force update 24.863348"
       ]
      },
      {
       "output_type": "stream",
       "stream": "stdout",
       "text": [
        "\n",
        "second momemtum update 0.013460\n",
        "first momemtum update 0.013241\n",
        "position update 0.015295\n",
        "force update 24.651997"
       ]
      },
      {
       "output_type": "stream",
       "stream": "stdout",
       "text": [
        "\n",
        "second momemtum update 0.014551\n",
        "first momemtum update 0.013144\n",
        "position update 0.016921\n",
        "force update 25.010454"
       ]
      },
      {
       "output_type": "stream",
       "stream": "stdout",
       "text": [
        "\n",
        "second momemtum update 0.013015\n",
        "first momemtum update 0.013063\n",
        "position update 0.015231\n",
        "force update 25.010632"
       ]
      },
      {
       "output_type": "stream",
       "stream": "stdout",
       "text": [
        "\n",
        "second momemtum update 0.016660\n",
        "first momemtum update 0.013458\n",
        "position update 0.015664\n",
        "force update 24.583494"
       ]
      },
      {
       "output_type": "stream",
       "stream": "stdout",
       "text": [
        "\n",
        "second momemtum update 0.014481\n",
        "first momemtum update 0.013839\n",
        "position update 0.015508\n",
        "force update 24.777287"
       ]
      },
      {
       "output_type": "stream",
       "stream": "stdout",
       "text": [
        "\n",
        "second momemtum update 0.013567\n",
        "first momemtum update 0.021053\n",
        "position update 0.021394"
       ]
      },
      {
       "output_type": "stream",
       "stream": "stdout",
       "text": [
        "\n",
        "force update 25.499198"
       ]
      },
      {
       "output_type": "stream",
       "stream": "stdout",
       "text": [
        "\n",
        "second momemtum update 0.019814\n",
        "first momemtum update 0.022026\n",
        "position update 0.027277"
       ]
      },
      {
       "output_type": "stream",
       "stream": "stdout",
       "text": [
        "\n",
        "force update 24.839957"
       ]
      },
      {
       "output_type": "stream",
       "stream": "stdout",
       "text": [
        "\n",
        "second momemtum update 0.013114\n",
        "first momemtum update 0.012700\n",
        "position update 0.015695\n",
        "force update 24.794806"
       ]
      },
      {
       "output_type": "stream",
       "stream": "stdout",
       "text": [
        "\n",
        "second momemtum update 0.014953\n",
        "first momemtum update 0.013000\n",
        "position update 0.015003\n",
        "force update 24.767572"
       ]
      },
      {
       "output_type": "stream",
       "stream": "stdout",
       "text": [
        "\n",
        "second momemtum update 0.012814\n",
        "first momemtum update 0.014715\n",
        "position update 0.015062\n",
        "force update 24.684653"
       ]
      },
      {
       "output_type": "stream",
       "stream": "stdout",
       "text": [
        "\n",
        "second momemtum update 0.012658\n",
        "first momemtum update 0.012684\n",
        "position update 0.015043\n",
        "force update 25.237641"
       ]
      },
      {
       "output_type": "stream",
       "stream": "stdout",
       "text": [
        "\n",
        "second momemtum update 0.013515\n",
        "first momemtum update 0.018948\n",
        "position update 0.027319"
       ]
      },
      {
       "output_type": "stream",
       "stream": "stdout",
       "text": [
        "\n",
        "force update 25.030148"
       ]
      },
      {
       "output_type": "stream",
       "stream": "stdout",
       "text": [
        "\n",
        "second momemtum update 0.013252\n",
        "first momemtum update 0.013458\n",
        "position update 0.015619\n",
        "force update 24.850899"
       ]
      },
      {
       "output_type": "stream",
       "stream": "stdout",
       "text": [
        "\n",
        "second momemtum update 0.013800\n",
        "first momemtum update 0.012969\n",
        "position update 0.017254\n",
        "force update 24.762827"
       ]
      },
      {
       "output_type": "stream",
       "stream": "stdout",
       "text": [
        "\n",
        "second momemtum update 0.012838\n",
        "first momemtum update 0.012799\n",
        "position update 0.015513\n",
        "force update 24.782206"
       ]
      },
      {
       "output_type": "stream",
       "stream": "stdout",
       "text": [
        "\n",
        "second momemtum update 0.013374\n",
        "first momemtum update 0.012720\n",
        "position update 0.017300\n",
        "force update 24.628904"
       ]
      },
      {
       "output_type": "stream",
       "stream": "stdout",
       "text": [
        "\n",
        "second momemtum update 0.012803\n",
        "first momemtum update 0.012705\n",
        "position update 0.015949\n",
        "force update 24.620538"
       ]
      },
      {
       "output_type": "stream",
       "stream": "stdout",
       "text": [
        "\n",
        "second momemtum update 0.012681\n",
        "first momemtum update 0.012714\n",
        "position update 0.015130\n",
        "force update 24.980170"
       ]
      },
      {
       "output_type": "stream",
       "stream": "stdout",
       "text": [
        "\n",
        "second momemtum update 0.012870\n",
        "first momemtum update 0.014074\n",
        "position update 0.017405\n",
        "force update 24.667925"
       ]
      },
      {
       "output_type": "stream",
       "stream": "stdout",
       "text": [
        "\n",
        "second momemtum update 0.012739\n",
        "first momemtum update 0.013658\n",
        "position update 0.015183\n",
        "force update 24.846362"
       ]
      },
      {
       "output_type": "stream",
       "stream": "stdout",
       "text": [
        "\n",
        "second momemtum update 0.012912\n",
        "first momemtum update 0.013807\n",
        "position update 0.018373\n",
        "force update 24.883572"
       ]
      },
      {
       "output_type": "stream",
       "stream": "stdout",
       "text": [
        "\n",
        "second momemtum update 0.012864\n",
        "first momemtum update 0.015080\n",
        "position update 0.015864\n",
        "force update 24.622377"
       ]
      },
      {
       "output_type": "stream",
       "stream": "stdout",
       "text": [
        "\n",
        "second momemtum update 0.014315\n",
        "first momemtum update 0.012946\n",
        "position update 0.015259\n",
        "force update 24.833232"
       ]
      },
      {
       "output_type": "stream",
       "stream": "stdout",
       "text": [
        "\n",
        "second momemtum update 0.014177\n",
        "first momemtum update 0.013122\n",
        "position update 0.016682\n",
        "force update 24.741696"
       ]
      },
      {
       "output_type": "stream",
       "stream": "stdout",
       "text": [
        "\n",
        "second momemtum update 0.013261\n",
        "first momemtum update 0.015341\n",
        "position update 0.017838\n",
        "force update 24.722834"
       ]
      },
      {
       "output_type": "stream",
       "stream": "stdout",
       "text": [
        "\n",
        "second momemtum update 0.020207\n",
        "first momemtum update 0.021859\n",
        "position update 0.027234"
       ]
      },
      {
       "output_type": "stream",
       "stream": "stdout",
       "text": [
        "\n",
        "force update 24.914868"
       ]
      },
      {
       "output_type": "stream",
       "stream": "stdout",
       "text": [
        "\n",
        "second momemtum update 0.013018\n",
        "first momemtum update 0.021945\n",
        "position update 0.027362"
       ]
      },
      {
       "output_type": "stream",
       "stream": "stdout",
       "text": [
        "\n",
        "force update 25.227306"
       ]
      },
      {
       "output_type": "stream",
       "stream": "stdout",
       "text": [
        "\n",
        "second momemtum update 0.013075\n",
        "first momemtum update 0.013076\n",
        "position update 0.015731\n",
        "force update 24.762178"
       ]
      },
      {
       "output_type": "stream",
       "stream": "stdout",
       "text": [
        "\n",
        "second momemtum update 0.013034\n",
        "first momemtum update 0.014404\n",
        "position update 0.015174\n",
        "force update 24.751222"
       ]
      },
      {
       "output_type": "stream",
       "stream": "stdout",
       "text": [
        "\n",
        "second momemtum update 0.012893\n",
        "first momemtum update 0.012778\n",
        "position update 0.015822\n",
        "force update 24.593777"
       ]
      },
      {
       "output_type": "stream",
       "stream": "stdout",
       "text": [
        "\n",
        "second momemtum update 0.014658\n",
        "first momemtum update 0.013114\n",
        "position update 0.015852\n",
        "force update 24.753613"
       ]
      },
      {
       "output_type": "stream",
       "stream": "stdout",
       "text": [
        "\n",
        "second momemtum update 0.012953\n",
        "first momemtum update 0.012864\n",
        "position update 0.015137\n",
        "force update 24.788498"
       ]
      },
      {
       "output_type": "stream",
       "stream": "stdout",
       "text": [
        "\n",
        "second momemtum update 0.014749\n",
        "first momemtum update 0.012992\n",
        "position update 0.015894\n",
        "force update 24.663611"
       ]
      },
      {
       "output_type": "stream",
       "stream": "stdout",
       "text": [
        "\n",
        "second momemtum update 0.012866\n",
        "first momemtum update 0.013021\n",
        "position update 0.015779\n",
        "force update 24.824473"
       ]
      },
      {
       "output_type": "stream",
       "stream": "stdout",
       "text": [
        "\n",
        "second momemtum update 0.012763\n",
        "first momemtum update 0.014825\n",
        "position update 0.015051\n",
        "force update 24.755072"
       ]
      },
      {
       "output_type": "stream",
       "stream": "stdout",
       "text": [
        "\n",
        "second momemtum update 0.013040\n",
        "first momemtum update 0.012846\n",
        "position update 0.015419\n",
        "force update 24.679055"
       ]
      },
      {
       "output_type": "stream",
       "stream": "stdout",
       "text": [
        "\n",
        "second momemtum update 0.013354\n",
        "first momemtum update 0.013292\n",
        "position update 0.016756\n",
        "force update 25.047694"
       ]
      },
      {
       "output_type": "stream",
       "stream": "stdout",
       "text": [
        "\n",
        "second momemtum update 0.013919\n",
        "first momemtum update 0.016935\n",
        "position update 0.024048"
       ]
      },
      {
       "output_type": "stream",
       "stream": "stdout",
       "text": [
        "\n",
        "force update 24.757094"
       ]
      },
      {
       "output_type": "stream",
       "stream": "stdout",
       "text": [
        "\n",
        "second momemtum update 0.014052\n",
        "first momemtum update 0.013923\n",
        "position update 0.016007\n",
        "force update 25.068895"
       ]
      },
      {
       "output_type": "stream",
       "stream": "stdout",
       "text": [
        "\n",
        "second momemtum update 0.012946\n",
        "first momemtum update 0.013083\n",
        "position update 0.016478\n",
        "force update 24.712979"
       ]
      },
      {
       "output_type": "stream",
       "stream": "stdout",
       "text": [
        "\n",
        "second momemtum update 0.013013\n",
        "first momemtum update 0.012938\n",
        "position update 0.017125\n",
        "force update 24.609373"
       ]
      },
      {
       "output_type": "stream",
       "stream": "stdout",
       "text": [
        "\n",
        "second momemtum update 0.012607\n",
        "first momemtum update 0.012759\n",
        "position update 0.016630\n",
        "force update 24.831085"
       ]
      },
      {
       "output_type": "stream",
       "stream": "stdout",
       "text": [
        "\n",
        "second momemtum update 0.012669\n",
        "first momemtum update 0.013604\n",
        "position update 0.015079\n",
        "force update 24.602672"
       ]
      },
      {
       "output_type": "stream",
       "stream": "stdout",
       "text": [
        "\n",
        "second momemtum update 0.012934\n",
        "first momemtum update 0.014670\n",
        "position update 0.016175\n",
        "force update 24.542801"
       ]
      },
      {
       "output_type": "stream",
       "stream": "stdout",
       "text": [
        "\n",
        "second momemtum update 0.013164\n",
        "first momemtum update 0.014343\n",
        "position update 0.015807\n",
        "force update 24.702526"
       ]
      },
      {
       "output_type": "stream",
       "stream": "stdout",
       "text": [
        "\n",
        "second momemtum update 0.012760\n",
        "first momemtum update 0.012774\n",
        "position update 0.015627\n",
        "force update 24.682533"
       ]
      },
      {
       "output_type": "stream",
       "stream": "stdout",
       "text": [
        "\n",
        "second momemtum update 0.019623\n",
        "first momemtum update 0.015464\n",
        "position update 0.024901"
       ]
      },
      {
       "output_type": "stream",
       "stream": "stdout",
       "text": [
        "\n",
        "force update 24.724694"
       ]
      },
      {
       "output_type": "stream",
       "stream": "stdout",
       "text": [
        "\n",
        "second momemtum update 0.014048\n",
        "first momemtum update 0.014678\n",
        "position update 0.015183\n",
        "force update 24.727238"
       ]
      },
      {
       "output_type": "stream",
       "stream": "stdout",
       "text": [
        "\n",
        "second momemtum update 0.012662\n",
        "first momemtum update 0.014099\n",
        "position update 0.017720\n",
        "force update 24.801428"
       ]
      },
      {
       "output_type": "stream",
       "stream": "stdout",
       "text": [
        "\n",
        "second momemtum update 0.012750\n",
        "first momemtum update 0.012872\n",
        "position update 0.014992\n",
        "force update 24.723886"
       ]
      },
      {
       "output_type": "stream",
       "stream": "stdout",
       "text": [
        "\n",
        "second momemtum update 0.015851\n",
        "first momemtum update 0.013732\n",
        "position update 0.015225\n",
        "force update 24.735214"
       ]
      },
      {
       "output_type": "stream",
       "stream": "stdout",
       "text": [
        "\n",
        "second momemtum update 0.013987\n",
        "first momemtum update 0.013790\n",
        "position update 0.015562\n",
        "force update 24.761732"
       ]
      },
      {
       "output_type": "stream",
       "stream": "stdout",
       "text": [
        "\n",
        "second momemtum update 0.013616\n",
        "first momemtum update 0.013319\n",
        "position update 0.015313\n",
        "force update 24.645888"
       ]
      },
      {
       "output_type": "stream",
       "stream": "stdout",
       "text": [
        "\n",
        "second momemtum update 0.014290\n",
        "first momemtum update 0.013636\n",
        "position update 0.015139\n",
        "force update 24.810227"
       ]
      },
      {
       "output_type": "stream",
       "stream": "stdout",
       "text": [
        "\n",
        "second momemtum update 0.012689\n",
        "first momemtum update 0.015271\n",
        "position update 0.015036\n",
        "force update 24.856886"
       ]
      },
      {
       "output_type": "stream",
       "stream": "stdout",
       "text": [
        "\n",
        "second momemtum update 0.012812\n",
        "first momemtum update 0.013876\n",
        "position update 0.014989\n",
        "force update 24.845729"
       ]
      },
      {
       "output_type": "stream",
       "stream": "stdout",
       "text": [
        "\n",
        "second momemtum update 0.015206\n",
        "first momemtum update 0.015524\n",
        "position update 0.018396\n",
        "force update 24.745148"
       ]
      },
      {
       "output_type": "stream",
       "stream": "stdout",
       "text": [
        "\n",
        "second momemtum update 0.014688\n",
        "first momemtum update 0.013031\n",
        "position update 0.015070\n",
        "force update 24.933256"
       ]
      },
      {
       "output_type": "stream",
       "stream": "stdout",
       "text": [
        "\n",
        "second momemtum update 0.014916\n",
        "first momemtum update 0.012945\n",
        "position update 0.015295\n",
        "force update 24.592682"
       ]
      },
      {
       "output_type": "stream",
       "stream": "stdout",
       "text": [
        "\n",
        "second momemtum update 0.012606\n",
        "first momemtum update 0.012895\n",
        "position update 0.015267\n",
        "force update 24.931235"
       ]
      },
      {
       "output_type": "stream",
       "stream": "stdout",
       "text": [
        "\n",
        "second momemtum update 0.019826\n",
        "first momemtum update 0.021945\n",
        "position update 0.027318"
       ]
      },
      {
       "output_type": "stream",
       "stream": "stdout",
       "text": [
        "\n",
        "force update 24.916279"
       ]
      },
      {
       "output_type": "stream",
       "stream": "stdout",
       "text": [
        "\n",
        "second momemtum update 0.013746\n",
        "first momemtum update 0.012755\n",
        "position update 0.016344\n",
        "force update 24.890747"
       ]
      },
      {
       "output_type": "stream",
       "stream": "stdout",
       "text": [
        "\n",
        "second momemtum update 0.012922\n",
        "first momemtum update 0.013581\n",
        "position update 0.016714\n",
        "force update 24.763450"
       ]
      },
      {
       "output_type": "stream",
       "stream": "stdout",
       "text": [
        "\n",
        "second momemtum update 0.012911\n",
        "first momemtum update 0.013050\n",
        "position update 0.015026\n",
        "force update 24.778417"
       ]
      },
      {
       "output_type": "stream",
       "stream": "stdout",
       "text": [
        "\n",
        "second momemtum update 0.013254\n",
        "first momemtum update 0.012806\n",
        "position update 0.015560\n",
        "force update 24.693875"
       ]
      },
      {
       "output_type": "stream",
       "stream": "stdout",
       "text": [
        "\n",
        "second momemtum update 0.013384\n",
        "first momemtum update 0.014141\n",
        "position update 0.017787\n",
        "force update 24.680891"
       ]
      },
      {
       "output_type": "stream",
       "stream": "stdout",
       "text": [
        "\n",
        "second momemtum update 0.020041\n",
        "first momemtum update 0.021893\n",
        "position update 0.027267"
       ]
      },
      {
       "output_type": "stream",
       "stream": "stdout",
       "text": [
        "\n",
        "force update 24.897224"
       ]
      },
      {
       "output_type": "stream",
       "stream": "stdout",
       "text": [
        "\n",
        "second momemtum update 0.012830\n",
        "first momemtum update 0.014807\n",
        "position update 0.015214\n",
        "force update 24.746710"
       ]
      },
      {
       "output_type": "stream",
       "stream": "stdout",
       "text": [
        "\n",
        "second momemtum update 0.012735\n",
        "first momemtum update 0.012763\n",
        "position update 0.015553\n",
        "force update 24.841297"
       ]
      },
      {
       "output_type": "stream",
       "stream": "stdout",
       "text": [
        "\n",
        "second momemtum update 0.013008\n",
        "first momemtum update 0.012993\n",
        "position update 0.016560\n",
        "force update 24.420949"
       ]
      },
      {
       "output_type": "stream",
       "stream": "stdout",
       "text": [
        "\n",
        "second momemtum update 0.012953\n",
        "first momemtum update 0.012804\n",
        "position update 0.015044\n",
        "force update 24.063090"
       ]
      },
      {
       "output_type": "stream",
       "stream": "stdout",
       "text": [
        "\n",
        "second momemtum update 0.012710\n",
        "first momemtum update 0.012623\n",
        "position update 0.015044\n",
        "force update 24.210958"
       ]
      },
      {
       "output_type": "stream",
       "stream": "stdout",
       "text": [
        "\n",
        "second momemtum update 0.012718\n",
        "first momemtum update 0.012907\n",
        "position update 0.015201\n",
        "force update 23.998829"
       ]
      },
      {
       "output_type": "stream",
       "stream": "stdout",
       "text": [
        "\n",
        "second momemtum update 0.019712\n",
        "first momemtum update 0.016269\n",
        "position update 0.015204"
       ]
      },
      {
       "output_type": "stream",
       "stream": "stdout",
       "text": [
        "\n",
        "force update 24.239651"
       ]
      },
      {
       "output_type": "stream",
       "stream": "stdout",
       "text": [
        "\n",
        "second momemtum update 0.012959\n",
        "first momemtum update 0.012954\n",
        "position update 0.015163\n",
        "force update 24.343120"
       ]
      },
      {
       "output_type": "stream",
       "stream": "stdout",
       "text": [
        "\n",
        "second momemtum update 0.013812\n",
        "first momemtum update 0.012821\n",
        "position update 0.014827\n",
        "force update 24.140425"
       ]
      },
      {
       "output_type": "stream",
       "stream": "stdout",
       "text": [
        "\n",
        "second momemtum update 0.012609\n",
        "first momemtum update 0.012642\n",
        "position update 0.015068\n",
        "force update 24.377410"
       ]
      },
      {
       "output_type": "stream",
       "stream": "stdout",
       "text": [
        "\n",
        "second momemtum update 0.013281\n",
        "first momemtum update 0.012889\n",
        "position update 0.015104\n",
        "force update 24.064672"
       ]
      },
      {
       "output_type": "stream",
       "stream": "stdout",
       "text": [
        "\n",
        "second momemtum update 0.013373\n",
        "first momemtum update 0.012909\n",
        "position update 0.015251\n",
        "force update 24.004233"
       ]
      },
      {
       "output_type": "stream",
       "stream": "stdout",
       "text": [
        "\n",
        "second momemtum update 0.013669\n",
        "first momemtum update 0.012711\n",
        "position update 0.015224\n",
        "force update 24.056568"
       ]
      },
      {
       "output_type": "stream",
       "stream": "stdout",
       "text": [
        "\n",
        "second momemtum update 0.012832\n",
        "first momemtum update 0.012948\n",
        "position update 0.014929\n",
        "force update 24.167221"
       ]
      },
      {
       "output_type": "stream",
       "stream": "stdout",
       "text": [
        "\n",
        "second momemtum update 0.012963\n",
        "first momemtum update 0.012685\n",
        "position update 0.015026\n",
        "force update 24.099461"
       ]
      },
      {
       "output_type": "stream",
       "stream": "stdout",
       "text": [
        "\n",
        "second momemtum update 0.012907\n",
        "first momemtum update 0.013012\n",
        "position update 0.016004\n",
        "force update 24.331622"
       ]
      },
      {
       "output_type": "stream",
       "stream": "stdout",
       "text": [
        "\n",
        "second momemtum update 0.012863\n",
        "first momemtum update 0.012729\n",
        "position update 0.015232\n",
        "force update 24.232386"
       ]
      },
      {
       "output_type": "stream",
       "stream": "stdout",
       "text": [
        "\n",
        "second momemtum update 0.012773\n",
        "first momemtum update 0.012741\n",
        "position update 0.015351\n",
        "force update 24.353345"
       ]
      },
      {
       "output_type": "stream",
       "stream": "stdout",
       "text": [
        "\n",
        "second momemtum update 0.012645\n",
        "first momemtum update 0.012775\n",
        "position update 0.015123\n",
        "force update 24.185154"
       ]
      },
      {
       "output_type": "stream",
       "stream": "stdout",
       "text": [
        "\n",
        "second momemtum update 0.012633\n",
        "first momemtum update 0.012639\n",
        "position update 0.015155\n",
        "force update 24.240731"
       ]
      },
      {
       "output_type": "stream",
       "stream": "stdout",
       "text": [
        "\n",
        "second momemtum update 0.012928\n",
        "first momemtum update 0.013018\n",
        "position update 0.015269\n",
        "force update 24.012670"
       ]
      },
      {
       "output_type": "stream",
       "stream": "stdout",
       "text": [
        "\n",
        "second momemtum update 0.012608\n",
        "first momemtum update 0.012599\n",
        "position update 0.015187\n",
        "force update 24.145679"
       ]
      },
      {
       "output_type": "stream",
       "stream": "stdout",
       "text": [
        "\n",
        "second momemtum update 0.022855\n",
        "first momemtum update 0.021371\n",
        "position update 0.018243"
       ]
      },
      {
       "output_type": "stream",
       "stream": "stdout",
       "text": [
        "\n",
        "force update 24.289582"
       ]
      },
      {
       "output_type": "stream",
       "stream": "stdout",
       "text": [
        "\n",
        "second momemtum update 0.012797\n",
        "first momemtum update 0.013178\n",
        "position update 0.015146\n",
        "force update 24.075226"
       ]
      },
      {
       "output_type": "stream",
       "stream": "stdout",
       "text": [
        "\n",
        "second momemtum update 0.012716\n",
        "first momemtum update 0.012755\n",
        "position update 0.015368\n",
        "force update 24.023782"
       ]
      },
      {
       "output_type": "stream",
       "stream": "stdout",
       "text": [
        "\n",
        "second momemtum update 0.012835\n",
        "first momemtum update 0.012792\n",
        "position update 0.014990\n",
        "force update 24.232855"
       ]
      },
      {
       "output_type": "stream",
       "stream": "stdout",
       "text": [
        "\n",
        "second momemtum update 0.012676\n",
        "first momemtum update 0.012897\n",
        "position update 0.014952\n",
        "force update 24.100262"
       ]
      },
      {
       "output_type": "stream",
       "stream": "stdout",
       "text": [
        "\n",
        "second momemtum update 0.012643\n",
        "first momemtum update 0.012694\n",
        "position update 0.015087\n",
        "force update 24.465044"
       ]
      },
      {
       "output_type": "stream",
       "stream": "stdout",
       "text": [
        "\n",
        "second momemtum update 0.019864\n",
        "first momemtum update 0.021910\n",
        "position update 0.027269"
       ]
      },
      {
       "output_type": "stream",
       "stream": "stdout",
       "text": [
        "\n",
        "force update 24.429243"
       ]
      },
      {
       "output_type": "stream",
       "stream": "stdout",
       "text": [
        "\n",
        "second momemtum update 0.012656\n",
        "first momemtum update 0.012707\n",
        "position update 0.015316\n",
        "force update 23.988322"
       ]
      },
      {
       "output_type": "stream",
       "stream": "stdout",
       "text": [
        "\n",
        "second momemtum update 0.012748\n",
        "first momemtum update 0.012714\n",
        "position update 0.015120\n",
        "force update 23.964857"
       ]
      },
      {
       "output_type": "stream",
       "stream": "stdout",
       "text": [
        "\n",
        "second momemtum update 0.012878\n",
        "first momemtum update 0.012976\n",
        "position update 0.015315\n",
        "force update 24.018312"
       ]
      },
      {
       "output_type": "stream",
       "stream": "stdout",
       "text": [
        "\n",
        "second momemtum update 0.012974\n",
        "first momemtum update 0.012736\n",
        "position update 0.015120\n",
        "force update 24.076190"
       ]
      },
      {
       "output_type": "stream",
       "stream": "stdout",
       "text": [
        "\n",
        "second momemtum update 0.012876\n",
        "first momemtum update 0.012996\n",
        "position update 0.015172\n",
        "force update 24.012706"
       ]
      },
      {
       "output_type": "stream",
       "stream": "stdout",
       "text": [
        "\n",
        "second momemtum update 0.013417\n",
        "first momemtum update 0.012942\n",
        "position update 0.015150\n",
        "force update 24.105569"
       ]
      },
      {
       "output_type": "stream",
       "stream": "stdout",
       "text": [
        "\n",
        "second momemtum update 0.012919\n",
        "first momemtum update 0.012863\n",
        "position update 0.015050\n",
        "force update 24.034577"
       ]
      },
      {
       "output_type": "stream",
       "stream": "stdout",
       "text": [
        "\n",
        "second momemtum update 0.012592\n",
        "first momemtum update 0.012671\n",
        "position update 0.015136\n",
        "force update 24.029514"
       ]
      },
      {
       "output_type": "stream",
       "stream": "stdout",
       "text": [
        "\n",
        "second momemtum update 0.012693\n",
        "first momemtum update 0.012916\n",
        "position update 0.015089\n",
        "force update 24.142187"
       ]
      },
      {
       "output_type": "stream",
       "stream": "stdout",
       "text": [
        "\n",
        "second momemtum update 0.012797\n",
        "first momemtum update 0.012726\n",
        "position update 0.015167\n",
        "force update 24.033176"
       ]
      },
      {
       "output_type": "stream",
       "stream": "stdout",
       "text": [
        "\n",
        "second momemtum update 0.020082\n",
        "first momemtum update 0.021831\n",
        "position update 0.027160"
       ]
      },
      {
       "output_type": "stream",
       "stream": "stdout",
       "text": [
        "\n",
        "force update 24.184693"
       ]
      },
      {
       "output_type": "stream",
       "stream": "stdout",
       "text": [
        "\n",
        "second momemtum update 0.013029\n",
        "first momemtum update 0.012752\n",
        "position update 0.015296\n",
        "force update 24.183186"
       ]
      },
      {
       "output_type": "stream",
       "stream": "stdout",
       "text": [
        "\n",
        "second momemtum update 0.012677\n",
        "first momemtum update 0.012744\n",
        "position update 0.015273\n",
        "force update 24.008191"
       ]
      },
      {
       "output_type": "stream",
       "stream": "stdout",
       "text": [
        "\n",
        "second momemtum update 0.012882\n",
        "first momemtum update 0.013038\n",
        "position update 0.015134\n",
        "force update 23.982538"
       ]
      },
      {
       "output_type": "stream",
       "stream": "stdout",
       "text": [
        "\n",
        "second momemtum update 0.012779\n",
        "first momemtum update 0.012715\n",
        "position update 0.015216\n",
        "force update 24.056889"
       ]
      },
      {
       "output_type": "stream",
       "stream": "stdout",
       "text": [
        "\n",
        "second momemtum update 0.012952\n",
        "first momemtum update 0.012869\n",
        "position update 0.014835\n",
        "force update 24.178593"
       ]
      },
      {
       "output_type": "stream",
       "stream": "stdout",
       "text": [
        "\n",
        "second momemtum update 0.012651\n",
        "first momemtum update 0.012708\n",
        "position update 0.015267\n",
        "force update 24.036768"
       ]
      },
      {
       "output_type": "stream",
       "stream": "stdout",
       "text": [
        "\n",
        "second momemtum update 0.012663\n",
        "first momemtum update 0.012814\n",
        "position update 0.015251\n",
        "force update 24.213790"
       ]
      },
      {
       "output_type": "stream",
       "stream": "stdout",
       "text": [
        "\n",
        "second momemtum update 0.012671\n",
        "first momemtum update 0.012705\n",
        "position update 0.015192\n",
        "force update 24.346482"
       ]
      },
      {
       "output_type": "stream",
       "stream": "stdout",
       "text": [
        "\n",
        "second momemtum update 0.012611\n",
        "first momemtum update 0.012679\n",
        "position update 0.015212\n",
        "force update 24.273191"
       ]
      },
      {
       "output_type": "stream",
       "stream": "stdout",
       "text": [
        "\n",
        "second momemtum update 0.012754\n",
        "first momemtum update 0.012933\n",
        "position update 0.015253\n",
        "force update 24.154147"
       ]
      },
      {
       "output_type": "stream",
       "stream": "stdout",
       "text": [
        "\n",
        "second momemtum update 0.012703\n",
        "first momemtum update 0.012727\n",
        "position update 0.015165\n",
        "force update 23.991691"
       ]
      },
      {
       "output_type": "stream",
       "stream": "stdout",
       "text": [
        "\n",
        "second momemtum update 0.012685\n",
        "first momemtum update 0.012736\n",
        "position update 0.015268\n",
        "force update 24.162456"
       ]
      },
      {
       "output_type": "stream",
       "stream": "stdout",
       "text": [
        "\n",
        "second momemtum update 0.019765\n",
        "first momemtum update 0.021977\n",
        "position update 0.027208"
       ]
      },
      {
       "output_type": "stream",
       "stream": "stdout",
       "text": [
        "\n",
        "force update 24.000348"
       ]
      },
      {
       "output_type": "stream",
       "stream": "stdout",
       "text": [
        "\n",
        "second momemtum update 0.012711\n",
        "first momemtum update 0.012955\n",
        "position update 0.015289\n",
        "force update 24.151740"
       ]
      },
      {
       "output_type": "stream",
       "stream": "stdout",
       "text": [
        "\n",
        "second momemtum update 0.012663\n",
        "first momemtum update 0.012764\n",
        "position update 0.015174\n",
        "force update 24.169425"
       ]
      },
      {
       "output_type": "stream",
       "stream": "stdout",
       "text": [
        "\n",
        "second momemtum update 0.012656\n",
        "first momemtum update 0.012934\n",
        "position update 0.015155\n",
        "force update 24.036824"
       ]
      },
      {
       "output_type": "stream",
       "stream": "stdout",
       "text": [
        "\n",
        "second momemtum update 0.012674\n",
        "first momemtum update 0.012719\n",
        "position update 0.015141\n",
        "force update 24.279420"
       ]
      },
      {
       "output_type": "stream",
       "stream": "stdout",
       "text": [
        "\n",
        "second momemtum update 0.012605\n",
        "first momemtum update 0.012927\n",
        "position update 0.015138\n",
        "force update 24.547149"
       ]
      },
      {
       "output_type": "stream",
       "stream": "stdout",
       "text": [
        "\n",
        "second momemtum update 0.012987\n",
        "first momemtum update 0.012725\n",
        "position update 0.015235\n",
        "force update 23.957814"
       ]
      },
      {
       "output_type": "stream",
       "stream": "stdout",
       "text": [
        "\n",
        "second momemtum update 0.012652\n",
        "first momemtum update 0.012923\n",
        "position update 0.015184\n",
        "force update 24.152516"
       ]
      },
      {
       "output_type": "stream",
       "stream": "stdout",
       "text": [
        "\n",
        "second momemtum update 0.012871\n",
        "first momemtum update 0.013006\n",
        "position update 0.015171\n",
        "force update 24.301124"
       ]
      },
      {
       "output_type": "stream",
       "stream": "stdout",
       "text": [
        "\n",
        "second momemtum update 0.012805\n",
        "first momemtum update 0.012916\n",
        "position update 0.015088\n",
        "force update 24.105327"
       ]
      },
      {
       "output_type": "stream",
       "stream": "stdout",
       "text": [
        "\n",
        "second momemtum update 0.013063\n",
        "first momemtum update 0.012984\n",
        "position update 0.015285\n",
        "force update 24.136497"
       ]
      },
      {
       "output_type": "stream",
       "stream": "stdout",
       "text": [
        "\n",
        "second momemtum update 0.013053\n",
        "first momemtum update 0.015327\n",
        "position update 0.026687"
       ]
      },
      {
       "output_type": "stream",
       "stream": "stdout",
       "text": [
        "\n",
        "force update 24.377202"
       ]
      },
      {
       "output_type": "stream",
       "stream": "stdout",
       "text": [
        "\n",
        "second momemtum update 0.012656\n",
        "first momemtum update 0.012883\n",
        "position update 0.015008\n",
        "force update 24.151677"
       ]
      },
      {
       "output_type": "stream",
       "stream": "stdout",
       "text": [
        "\n",
        "second momemtum update 0.020834\n",
        "first momemtum update 0.021943\n",
        "position update 0.027248"
       ]
      },
      {
       "output_type": "stream",
       "stream": "stdout",
       "text": [
        "\n",
        "force update 24.249416"
       ]
      },
      {
       "output_type": "stream",
       "stream": "stdout",
       "text": [
        "\n",
        "second momemtum update 0.012683\n",
        "first momemtum update 0.012726\n",
        "position update 0.015310\n",
        "force update 24.013117"
       ]
      },
      {
       "output_type": "stream",
       "stream": "stdout",
       "text": [
        "\n",
        "second momemtum update 0.012778\n",
        "first momemtum update 0.012855\n",
        "position update 0.015067\n",
        "force update 23.967403"
       ]
      },
      {
       "output_type": "stream",
       "stream": "stdout",
       "text": [
        "\n",
        "second momemtum update 0.013059\n",
        "first momemtum update 0.012879\n",
        "position update 0.015100\n",
        "force update 24.166318"
       ]
      },
      {
       "output_type": "stream",
       "stream": "stdout",
       "text": [
        "\n",
        "second momemtum update 0.013034\n",
        "first momemtum update 0.012976\n",
        "position update 0.014975\n",
        "force update 24.211846"
       ]
      },
      {
       "output_type": "stream",
       "stream": "stdout",
       "text": [
        "\n",
        "second momemtum update 0.012936\n",
        "first momemtum update 0.012781\n",
        "position update 0.015131\n",
        "force update 24.226792"
       ]
      },
      {
       "output_type": "stream",
       "stream": "stdout",
       "text": [
        "\n",
        "second momemtum update 0.012946\n",
        "first momemtum update 0.012831\n",
        "position update 0.015423\n",
        "force update 24.262504"
       ]
      },
      {
       "output_type": "stream",
       "stream": "stdout",
       "text": [
        "\n",
        "second momemtum update 0.012668\n",
        "first momemtum update 0.012706\n",
        "position update 0.015276\n",
        "force update 24.148109"
       ]
      },
      {
       "output_type": "stream",
       "stream": "stdout",
       "text": [
        "\n",
        "second momemtum update 0.012647\n",
        "first momemtum update 0.012639\n",
        "position update 0.015340\n",
        "force update 24.255350"
       ]
      },
      {
       "output_type": "stream",
       "stream": "stdout",
       "text": [
        "\n",
        "second momemtum update 0.012876\n",
        "first momemtum update 0.013059\n",
        "position update 0.015319\n",
        "force update 24.174478"
       ]
      },
      {
       "output_type": "stream",
       "stream": "stdout",
       "text": [
        "\n",
        "second momemtum update 0.012668\n",
        "first momemtum update 0.012882\n",
        "position update 0.015249\n",
        "force update 24.360290"
       ]
      },
      {
       "output_type": "stream",
       "stream": "stdout",
       "text": [
        "\n",
        "second momemtum update 0.012784\n",
        "first momemtum update 0.012741\n",
        "position update 0.015114\n",
        "force update 24.484959"
       ]
      },
      {
       "output_type": "stream",
       "stream": "stdout",
       "text": [
        "\n",
        "second momemtum update 0.012619\n",
        "first momemtum update 0.012876\n",
        "position update 0.015001\n",
        "force update 24.389187"
       ]
      },
      {
       "output_type": "stream",
       "stream": "stdout",
       "text": [
        "\n",
        "second momemtum update 0.012714\n",
        "first momemtum update 0.012743\n",
        "position update 0.015306\n",
        "force update 24.073909"
       ]
      },
      {
       "output_type": "stream",
       "stream": "stdout",
       "text": [
        "\n",
        "second momemtum update 0.012739\n",
        "first momemtum update 0.012923\n",
        "position update 0.015066\n",
        "force update 24.044513"
       ]
      },
      {
       "output_type": "stream",
       "stream": "stdout",
       "text": [
        "\n",
        "second momemtum update 0.012750\n",
        "first momemtum update 0.012936\n",
        "position update 0.015261\n",
        "force update 24.051859"
       ]
      },
      {
       "output_type": "stream",
       "stream": "stdout",
       "text": [
        "\n",
        "second momemtum update 0.012730\n",
        "first momemtum update 0.012736\n",
        "position update 0.014986\n",
        "force update 23.995333"
       ]
      },
      {
       "output_type": "stream",
       "stream": "stdout",
       "text": [
        "\n",
        "second momemtum update 0.012973\n",
        "first momemtum update 0.013031\n",
        "position update 0.015340\n",
        "force update 24.163140"
       ]
      },
      {
       "output_type": "stream",
       "stream": "stdout",
       "text": [
        "\n",
        "second momemtum update 0.012706\n",
        "first momemtum update 0.012786\n",
        "position update 0.015096\n",
        "force update 24.015365"
       ]
      },
      {
       "output_type": "stream",
       "stream": "stdout",
       "text": [
        "\n",
        "second momemtum update 0.012741\n",
        "first momemtum update 0.012855\n",
        "position update 0.015149\n",
        "force update 24.103991"
       ]
      },
      {
       "output_type": "stream",
       "stream": "stdout",
       "text": [
        "\n",
        "second momemtum update 0.021075\n",
        "first momemtum update 0.021900\n",
        "position update 0.027123"
       ]
      },
      {
       "output_type": "stream",
       "stream": "stdout",
       "text": [
        "\n",
        "force update 24.352236"
       ]
      },
      {
       "output_type": "stream",
       "stream": "stdout",
       "text": [
        "\n",
        "second momemtum update 0.012914\n",
        "first momemtum update 0.012737\n",
        "position update 0.015228\n",
        "force update 24.037577"
       ]
      },
      {
       "output_type": "stream",
       "stream": "stdout",
       "text": [
        "\n",
        "second momemtum update 0.012848\n",
        "first momemtum update 0.012665\n",
        "position update 0.015110\n",
        "force update 23.937507"
       ]
      },
      {
       "output_type": "stream",
       "stream": "stdout",
       "text": [
        "\n",
        "second momemtum update 0.012768\n",
        "first momemtum update 0.012894\n",
        "position update 0.015263\n",
        "force update 24.077172"
       ]
      },
      {
       "output_type": "stream",
       "stream": "stdout",
       "text": [
        "\n",
        "second momemtum update 0.012785\n",
        "first momemtum update 0.012826\n",
        "position update 0.015283\n",
        "force update 24.103065"
       ]
      },
      {
       "output_type": "stream",
       "stream": "stdout",
       "text": [
        "\n",
        "second momemtum update 0.012636\n",
        "first momemtum update 0.012698\n",
        "position update 0.015200\n",
        "force update 23.958161"
       ]
      },
      {
       "output_type": "stream",
       "stream": "stdout",
       "text": [
        "\n",
        "second momemtum update 0.012710\n",
        "first momemtum update 0.012840\n",
        "position update 0.015279\n",
        "force update 24.145107"
       ]
      },
      {
       "output_type": "stream",
       "stream": "stdout",
       "text": [
        "\n",
        "second momemtum update 0.012775\n",
        "first momemtum update 0.012872\n",
        "position update 0.015218\n",
        "force update 24.163316"
       ]
      },
      {
       "output_type": "stream",
       "stream": "stdout",
       "text": [
        "\n",
        "second momemtum update 0.013004\n",
        "first momemtum update 0.013013\n",
        "position update 0.015526\n",
        "force update 23.994016"
       ]
      },
      {
       "output_type": "stream",
       "stream": "stdout",
       "text": [
        "\n",
        "second momemtum update 0.012752\n",
        "first momemtum update 0.012747\n",
        "position update 0.015198\n",
        "force update 24.099005"
       ]
      },
      {
       "output_type": "stream",
       "stream": "stdout",
       "text": [
        "\n",
        "second momemtum update 0.012698\n",
        "first momemtum update 0.013006\n",
        "position update 0.015262\n",
        "force update 24.233208"
       ]
      },
      {
       "output_type": "stream",
       "stream": "stdout",
       "text": [
        "\n",
        "second momemtum update 0.012707\n",
        "first momemtum update 0.013016\n",
        "position update 0.015289\n",
        "force update 24.128971"
       ]
      },
      {
       "output_type": "stream",
       "stream": "stdout",
       "text": [
        "\n",
        "second momemtum update 0.012662\n",
        "first momemtum update 0.012722\n",
        "position update 0.015169\n",
        "force update 24.242015"
       ]
      },
      {
       "output_type": "stream",
       "stream": "stdout",
       "text": [
        "\n",
        "second momemtum update 0.012658\n",
        "first momemtum update 0.012694\n",
        "position update 0.015073\n",
        "force update 24.207991"
       ]
      },
      {
       "output_type": "stream",
       "stream": "stdout",
       "text": [
        "\n",
        "second momemtum update 0.012964\n",
        "first momemtum update 0.013075\n",
        "position update 0.015184\n",
        "force update 24.325368"
       ]
      },
      {
       "output_type": "stream",
       "stream": "stdout",
       "text": [
        "\n",
        "second momemtum update 0.020079\n",
        "first momemtum update 0.014603\n",
        "position update 0.026390"
       ]
      },
      {
       "output_type": "stream",
       "stream": "stdout",
       "text": [
        "\n",
        "force update 24.842855"
       ]
      },
      {
       "output_type": "stream",
       "stream": "stdout",
       "text": [
        "\n",
        "second momemtum update 0.021120\n",
        "first momemtum update 0.021981\n",
        "position update 0.027331"
       ]
      },
      {
       "output_type": "stream",
       "stream": "stdout",
       "text": [
        "\n",
        "force update 24.253844"
       ]
      },
      {
       "output_type": "stream",
       "stream": "stdout",
       "text": [
        "\n",
        "second momemtum update 0.012715\n",
        "first momemtum update 0.012939\n",
        "position update 0.018122\n",
        "force update 24.391480"
       ]
      },
      {
       "output_type": "stream",
       "stream": "stdout",
       "text": [
        "\n",
        "second momemtum update 0.012848\n",
        "total time 25221.586707"
       ]
      },
      {
       "output_type": "stream",
       "stream": "stdout",
       "text": [
        "\n"
       ]
      },
      {
       "output_type": "stream",
       "stream": "stderr",
       "text": [
        "-c:52: RuntimeWarning: invalid value encountered in double_scalars\n",
        "-c:41: RuntimeWarning: divide by zero encountered in double_scalars\n",
        "-c:41: RuntimeWarning: invalid value encountered in double_scalars\n"
       ]
      }
     ],
     "prompt_number": 182
    },
    {
     "cell_type": "code",
     "collapsed": false,
     "input": [
      "plt.subplot(121)\n",
      "plt.hist(initial_dist,10);\n",
      "plt.subplot(122)\n",
      "plt.hist(final_dist,10);"
     ],
     "language": "python",
     "metadata": {},
     "outputs": [
      {
       "ename": "AttributeError",
       "evalue": "max must be larger than min in range parameter.",
       "output_type": "pyerr",
       "traceback": [
        "\u001b[0;31m---------------------------------------------------------------------------\u001b[0m\n\u001b[0;31mAttributeError\u001b[0m                            Traceback (most recent call last)",
        "\u001b[0;32m<ipython-input-183-5d234af5dc17>\u001b[0m in \u001b[0;36m<module>\u001b[0;34m()\u001b[0m\n\u001b[1;32m      2\u001b[0m \u001b[0mplt\u001b[0m\u001b[0;34m.\u001b[0m\u001b[0mhist\u001b[0m\u001b[0;34m(\u001b[0m\u001b[0minitial_dist\u001b[0m\u001b[0;34m,\u001b[0m\u001b[0;36m10\u001b[0m\u001b[0;34m)\u001b[0m\u001b[0;34m;\u001b[0m\u001b[0;34m\u001b[0m\u001b[0m\n\u001b[1;32m      3\u001b[0m \u001b[0mplt\u001b[0m\u001b[0;34m.\u001b[0m\u001b[0msubplot\u001b[0m\u001b[0;34m(\u001b[0m\u001b[0;36m122\u001b[0m\u001b[0;34m)\u001b[0m\u001b[0;34m\u001b[0m\u001b[0m\n\u001b[0;32m----> 4\u001b[0;31m \u001b[0mplt\u001b[0m\u001b[0;34m.\u001b[0m\u001b[0mhist\u001b[0m\u001b[0;34m(\u001b[0m\u001b[0mfinal_dist\u001b[0m\u001b[0;34m,\u001b[0m\u001b[0;36m10\u001b[0m\u001b[0;34m)\u001b[0m\u001b[0;34m;\u001b[0m\u001b[0;34m\u001b[0m\u001b[0m\n\u001b[0m",
        "\u001b[0;32m/usr/local/lib/python2.7/dist-packages/matplotlib/pyplot.pyc\u001b[0m in \u001b[0;36mhist\u001b[0;34m(x, bins, range, normed, weights, cumulative, bottom, histtype, align, orientation, rwidth, log, color, label, stacked, hold, **kwargs)\u001b[0m\n\u001b[1;32m   2888\u001b[0m                       \u001b[0mhisttype\u001b[0m\u001b[0;34m=\u001b[0m\u001b[0mhisttype\u001b[0m\u001b[0;34m,\u001b[0m \u001b[0malign\u001b[0m\u001b[0;34m=\u001b[0m\u001b[0malign\u001b[0m\u001b[0;34m,\u001b[0m \u001b[0morientation\u001b[0m\u001b[0;34m=\u001b[0m\u001b[0morientation\u001b[0m\u001b[0;34m,\u001b[0m\u001b[0;34m\u001b[0m\u001b[0m\n\u001b[1;32m   2889\u001b[0m                       \u001b[0mrwidth\u001b[0m\u001b[0;34m=\u001b[0m\u001b[0mrwidth\u001b[0m\u001b[0;34m,\u001b[0m \u001b[0mlog\u001b[0m\u001b[0;34m=\u001b[0m\u001b[0mlog\u001b[0m\u001b[0;34m,\u001b[0m \u001b[0mcolor\u001b[0m\u001b[0;34m=\u001b[0m\u001b[0mcolor\u001b[0m\u001b[0;34m,\u001b[0m \u001b[0mlabel\u001b[0m\u001b[0;34m=\u001b[0m\u001b[0mlabel\u001b[0m\u001b[0;34m,\u001b[0m\u001b[0;34m\u001b[0m\u001b[0m\n\u001b[0;32m-> 2890\u001b[0;31m                       stacked=stacked, **kwargs)\n\u001b[0m\u001b[1;32m   2891\u001b[0m         \u001b[0mdraw_if_interactive\u001b[0m\u001b[0;34m(\u001b[0m\u001b[0;34m)\u001b[0m\u001b[0;34m\u001b[0m\u001b[0m\n\u001b[1;32m   2892\u001b[0m     \u001b[0;32mfinally\u001b[0m\u001b[0;34m:\u001b[0m\u001b[0;34m\u001b[0m\u001b[0m\n",
        "\u001b[0;32m/usr/local/lib/python2.7/dist-packages/matplotlib/axes/_axes.pyc\u001b[0m in \u001b[0;36mhist\u001b[0;34m(self, x, bins, range, normed, weights, cumulative, bottom, histtype, align, orientation, rwidth, log, color, label, stacked, **kwargs)\u001b[0m\n\u001b[1;32m   5634\u001b[0m             \u001b[0;31m# this will automatically overwrite bins,\u001b[0m\u001b[0;34m\u001b[0m\u001b[0;34m\u001b[0m\u001b[0m\n\u001b[1;32m   5635\u001b[0m             \u001b[0;31m# so that each histogram uses the same bins\u001b[0m\u001b[0;34m\u001b[0m\u001b[0;34m\u001b[0m\u001b[0m\n\u001b[0;32m-> 5636\u001b[0;31m             \u001b[0mm\u001b[0m\u001b[0;34m,\u001b[0m \u001b[0mbins\u001b[0m \u001b[0;34m=\u001b[0m \u001b[0mnp\u001b[0m\u001b[0;34m.\u001b[0m\u001b[0mhistogram\u001b[0m\u001b[0;34m(\u001b[0m\u001b[0mx\u001b[0m\u001b[0;34m[\u001b[0m\u001b[0mi\u001b[0m\u001b[0;34m]\u001b[0m\u001b[0;34m,\u001b[0m \u001b[0mbins\u001b[0m\u001b[0;34m,\u001b[0m \u001b[0mweights\u001b[0m\u001b[0;34m=\u001b[0m\u001b[0mw\u001b[0m\u001b[0;34m[\u001b[0m\u001b[0mi\u001b[0m\u001b[0;34m]\u001b[0m\u001b[0;34m,\u001b[0m \u001b[0;34m**\u001b[0m\u001b[0mhist_kwargs\u001b[0m\u001b[0;34m)\u001b[0m\u001b[0;34m\u001b[0m\u001b[0m\n\u001b[0m\u001b[1;32m   5637\u001b[0m             \u001b[0mm\u001b[0m \u001b[0;34m=\u001b[0m \u001b[0mm\u001b[0m\u001b[0;34m.\u001b[0m\u001b[0mastype\u001b[0m\u001b[0;34m(\u001b[0m\u001b[0mfloat\u001b[0m\u001b[0;34m)\u001b[0m  \u001b[0;31m# causes problems later if it's an int\u001b[0m\u001b[0;34m\u001b[0m\u001b[0m\n\u001b[1;32m   5638\u001b[0m             \u001b[0;32mif\u001b[0m \u001b[0mmlast\u001b[0m \u001b[0;32mis\u001b[0m \u001b[0mNone\u001b[0m\u001b[0;34m:\u001b[0m\u001b[0;34m\u001b[0m\u001b[0m\n",
        "\u001b[0;32m/usr/lib/python2.7/dist-packages/numpy/lib/function_base.pyc\u001b[0m in \u001b[0;36mhistogram\u001b[0;34m(a, bins, range, normed, weights, density)\u001b[0m\n\u001b[1;32m    163\u001b[0m         \u001b[0;32mif\u001b[0m \u001b[0;34m(\u001b[0m\u001b[0mmn\u001b[0m \u001b[0;34m>\u001b[0m \u001b[0mmx\u001b[0m\u001b[0;34m)\u001b[0m\u001b[0;34m:\u001b[0m\u001b[0;34m\u001b[0m\u001b[0m\n\u001b[1;32m    164\u001b[0m             raise AttributeError(\n\u001b[0;32m--> 165\u001b[0;31m                 'max must be larger than min in range parameter.')\n\u001b[0m\u001b[1;32m    166\u001b[0m \u001b[0;34m\u001b[0m\u001b[0m\n\u001b[1;32m    167\u001b[0m     \u001b[0;32mif\u001b[0m \u001b[0;32mnot\u001b[0m \u001b[0miterable\u001b[0m\u001b[0;34m(\u001b[0m\u001b[0mbins\u001b[0m\u001b[0;34m)\u001b[0m\u001b[0;34m:\u001b[0m\u001b[0;34m\u001b[0m\u001b[0m\n",
        "\u001b[0;31mAttributeError\u001b[0m: max must be larger than min in range parameter."
       ]
      },
      {
       "metadata": {},
       "output_type": "display_data",
       "png": "[encoded data removed]",
       "text": [
        "<matplotlib.figure.Figure at 0xb155ec6c>"
       ]
      }
     ],
     "prompt_number": 183
    },
    {
     "cell_type": "code",
     "collapsed": false,
     "input": [
      "force"
     ],
     "language": "python",
     "metadata": {},
     "outputs": [
      {
       "metadata": {},
       "output_type": "pyout",
       "prompt_number": 184,
       "text": [
        "array([[ nan,  nan],\n",
        "       [ nan,  nan],\n",
        "       [ nan,  nan],\n",
        "       [ nan,  nan],\n",
        "       [ nan,  nan],\n",
        "       [ nan,  nan],\n",
        "       [ nan,  nan],\n",
        "       [ nan,  nan],\n",
        "       [ nan,  nan],\n",
        "       [ nan,  nan],\n",
        "       [ nan,  nan],\n",
        "       [ nan,  nan],\n",
        "       [ nan,  nan],\n",
        "       [ nan,  nan],\n",
        "       [ nan,  nan],\n",
        "       [ nan,  nan],\n",
        "       [ nan,  nan],\n",
        "       [ nan,  nan],\n",
        "       [ nan,  nan],\n",
        "       [ nan,  nan],\n",
        "       [ nan,  nan],\n",
        "       [ nan,  nan],\n",
        "       [ nan,  nan],\n",
        "       [ nan,  nan],\n",
        "       [ nan,  nan],\n",
        "       [ nan,  nan],\n",
        "       [ nan,  nan],\n",
        "       [ nan,  nan],\n",
        "       [ nan,  nan],\n",
        "       [ nan,  nan],\n",
        "       [ nan,  nan],\n",
        "       [ nan,  nan],\n",
        "       [ nan,  nan],\n",
        "       [ nan,  nan],\n",
        "       [ nan,  nan],\n",
        "       [ nan,  nan],\n",
        "       [ nan,  nan],\n",
        "       [ nan,  nan],\n",
        "       [ nan,  nan],\n",
        "       [ nan,  nan],\n",
        "       [ nan,  nan],\n",
        "       [ nan,  nan],\n",
        "       [ nan,  nan],\n",
        "       [ nan,  nan],\n",
        "       [ nan,  nan],\n",
        "       [ nan,  nan],\n",
        "       [ nan,  nan],\n",
        "       [ nan,  nan],\n",
        "       [ nan,  nan],\n",
        "       [ nan,  nan],\n",
        "       [ nan,  nan],\n",
        "       [ nan,  nan],\n",
        "       [ nan,  nan],\n",
        "       [ nan,  nan],\n",
        "       [ nan,  nan],\n",
        "       [ nan,  nan],\n",
        "       [ nan,  nan],\n",
        "       [ nan,  nan],\n",
        "       [ nan,  nan],\n",
        "       [ nan,  nan],\n",
        "       [ nan,  nan],\n",
        "       [ nan,  nan],\n",
        "       [ nan,  nan],\n",
        "       [ nan,  nan],\n",
        "       [ nan,  nan],\n",
        "       [ nan,  nan],\n",
        "       [ nan,  nan],\n",
        "       [ nan,  nan],\n",
        "       [ nan,  nan],\n",
        "       [ nan,  nan],\n",
        "       [ nan,  nan],\n",
        "       [ nan,  nan],\n",
        "       [ nan,  nan],\n",
        "       [ nan,  nan],\n",
        "       [ nan,  nan],\n",
        "       [ nan,  nan],\n",
        "       [ nan,  nan],\n",
        "       [ nan,  nan],\n",
        "       [ nan,  nan],\n",
        "       [ nan,  nan],\n",
        "       [ nan,  nan],\n",
        "       [ nan,  nan],\n",
        "       [ nan,  nan],\n",
        "       [ nan,  nan],\n",
        "       [ nan,  nan],\n",
        "       [ nan,  nan],\n",
        "       [ nan,  nan],\n",
        "       [ nan,  nan],\n",
        "       [ nan,  nan],\n",
        "       [ nan,  nan],\n",
        "       [ nan,  nan],\n",
        "       [ nan,  nan],\n",
        "       [ nan,  nan],\n",
        "       [ nan,  nan],\n",
        "       [ nan,  nan],\n",
        "       [ nan,  nan],\n",
        "       [ nan,  nan],\n",
        "       [ nan,  nan],\n",
        "       [ nan,  nan],\n",
        "       [ nan,  nan],\n",
        "       [ nan,  nan],\n",
        "       [ nan,  nan],\n",
        "       [ nan,  nan],\n",
        "       [ nan,  nan],\n",
        "       [ nan,  nan],\n",
        "       [ nan,  nan],\n",
        "       [ nan,  nan],\n",
        "       [ nan,  nan],\n",
        "       [ nan,  nan],\n",
        "       [ nan,  nan],\n",
        "       [ nan,  nan],\n",
        "       [ nan,  nan],\n",
        "       [ nan,  nan],\n",
        "       [ nan,  nan],\n",
        "       [ nan,  nan],\n",
        "       [ nan,  nan],\n",
        "       [ nan,  nan],\n",
        "       [ nan,  nan],\n",
        "       [ nan,  nan],\n",
        "       [ nan,  nan],\n",
        "       [ nan,  nan],\n",
        "       [ nan,  nan],\n",
        "       [ nan,  nan],\n",
        "       [ nan,  nan],\n",
        "       [ nan,  nan],\n",
        "       [ nan,  nan],\n",
        "       [ nan,  nan],\n",
        "       [ nan,  nan],\n",
        "       [ nan,  nan],\n",
        "       [ nan,  nan],\n",
        "       [ nan,  nan],\n",
        "       [ nan,  nan],\n",
        "       [ nan,  nan],\n",
        "       [ nan,  nan],\n",
        "       [ nan,  nan],\n",
        "       [ nan,  nan],\n",
        "       [ nan,  nan],\n",
        "       [ nan,  nan],\n",
        "       [ nan,  nan],\n",
        "       [ nan,  nan],\n",
        "       [ nan,  nan],\n",
        "       [ nan,  nan],\n",
        "       [ nan,  nan],\n",
        "       [ nan,  nan],\n",
        "       [ nan,  nan],\n",
        "       [ nan,  nan],\n",
        "       [ nan,  nan],\n",
        "       [ nan,  nan],\n",
        "       [ nan,  nan],\n",
        "       [ nan,  nan],\n",
        "       [ nan,  nan],\n",
        "       [ nan,  nan],\n",
        "       [ nan,  nan],\n",
        "       [ nan,  nan],\n",
        "       [ nan,  nan],\n",
        "       [ nan,  nan],\n",
        "       [ nan,  nan],\n",
        "       [ nan,  nan],\n",
        "       [ nan,  nan],\n",
        "       [ nan,  nan],\n",
        "       [ nan,  nan],\n",
        "       [ nan,  nan],\n",
        "       [ nan,  nan],\n",
        "       [ nan,  nan],\n",
        "       [ nan,  nan],\n",
        "       [ nan,  nan],\n",
        "       [ nan,  nan],\n",
        "       [ nan,  nan],\n",
        "       [ nan,  nan],\n",
        "       [ nan,  nan],\n",
        "       [ nan,  nan],\n",
        "       [ nan,  nan],\n",
        "       [ nan,  nan],\n",
        "       [ nan,  nan],\n",
        "       [ nan,  nan],\n",
        "       [ nan,  nan],\n",
        "       [ nan,  nan],\n",
        "       [ nan,  nan],\n",
        "       [ nan,  nan],\n",
        "       [ nan,  nan],\n",
        "       [ nan,  nan],\n",
        "       [ nan,  nan],\n",
        "       [ nan,  nan],\n",
        "       [ nan,  nan],\n",
        "       [ nan,  nan],\n",
        "       [ nan,  nan],\n",
        "       [ nan,  nan],\n",
        "       [ nan,  nan],\n",
        "       [ nan,  nan],\n",
        "       [ nan,  nan],\n",
        "       [ nan,  nan],\n",
        "       [ nan,  nan],\n",
        "       [ nan,  nan],\n",
        "       [ nan,  nan],\n",
        "       [ nan,  nan],\n",
        "       [ nan,  nan],\n",
        "       [ nan,  nan],\n",
        "       [ nan,  nan],\n",
        "       [ nan,  nan],\n",
        "       [ nan,  nan],\n",
        "       [ nan,  nan],\n",
        "       [ nan,  nan],\n",
        "       [ nan,  nan],\n",
        "       [ nan,  nan],\n",
        "       [ nan,  nan],\n",
        "       [ nan,  nan],\n",
        "       [ nan,  nan],\n",
        "       [ nan,  nan],\n",
        "       [ nan,  nan],\n",
        "       [ nan,  nan],\n",
        "       [ nan,  nan],\n",
        "       [ nan,  nan],\n",
        "       [ nan,  nan],\n",
        "       [ nan,  nan],\n",
        "       [ nan,  nan],\n",
        "       [ nan,  nan],\n",
        "       [ nan,  nan],\n",
        "       [ nan,  nan],\n",
        "       [ nan,  nan],\n",
        "       [ nan,  nan],\n",
        "       [ nan,  nan],\n",
        "       [ nan,  nan],\n",
        "       [ nan,  nan],\n",
        "       [ nan,  nan],\n",
        "       [ nan,  nan],\n",
        "       [ nan,  nan],\n",
        "       [ nan,  nan],\n",
        "       [ nan,  nan],\n",
        "       [ nan,  nan],\n",
        "       [ nan,  nan],\n",
        "       [ nan,  nan],\n",
        "       [ nan,  nan],\n",
        "       [ nan,  nan],\n",
        "       [ nan,  nan],\n",
        "       [ nan,  nan],\n",
        "       [ nan,  nan],\n",
        "       [ nan,  nan],\n",
        "       [ nan,  nan],\n",
        "       [ nan,  nan],\n",
        "       [ nan,  nan],\n",
        "       [ nan,  nan],\n",
        "       [ nan,  nan],\n",
        "       [ nan,  nan],\n",
        "       [ nan,  nan],\n",
        "       [ nan,  nan],\n",
        "       [ nan,  nan],\n",
        "       [ nan,  nan],\n",
        "       [ nan,  nan],\n",
        "       [ nan,  nan],\n",
        "       [ nan,  nan],\n",
        "       [ nan,  nan],\n",
        "       [ nan,  nan],\n",
        "       [ nan,  nan],\n",
        "       [ nan,  nan],\n",
        "       [ nan,  nan],\n",
        "       [ nan,  nan],\n",
        "       [ nan,  nan],\n",
        "       [ nan,  nan],\n",
        "       [ nan,  nan],\n",
        "       [ nan,  nan],\n",
        "       [ nan,  nan],\n",
        "       [ nan,  nan],\n",
        "       [ nan,  nan],\n",
        "       [ nan,  nan],\n",
        "       [ nan,  nan],\n",
        "       [ nan,  nan],\n",
        "       [ nan,  nan],\n",
        "       [ nan,  nan],\n",
        "       [ nan,  nan],\n",
        "       [ nan,  nan],\n",
        "       [ nan,  nan],\n",
        "       [ nan,  nan],\n",
        "       [ nan,  nan],\n",
        "       [ nan,  nan],\n",
        "       [ nan,  nan],\n",
        "       [ nan,  nan],\n",
        "       [ nan,  nan],\n",
        "       [ nan,  nan],\n",
        "       [ nan,  nan],\n",
        "       [ nan,  nan],\n",
        "       [ nan,  nan],\n",
        "       [ nan,  nan],\n",
        "       [ nan,  nan],\n",
        "       [ nan,  nan],\n",
        "       [ nan,  nan],\n",
        "       [ nan,  nan],\n",
        "       [ nan,  nan],\n",
        "       [ nan,  nan],\n",
        "       [ nan,  nan],\n",
        "       [ nan,  nan],\n",
        "       [ nan,  nan],\n",
        "       [ nan,  nan],\n",
        "       [ nan,  nan],\n",
        "       [ nan,  nan],\n",
        "       [ nan,  nan],\n",
        "       [ nan,  nan],\n",
        "       [ nan,  nan],\n",
        "       [ nan,  nan],\n",
        "       [ nan,  nan],\n",
        "       [ nan,  nan],\n",
        "       [ nan,  nan],\n",
        "       [ nan,  nan],\n",
        "       [ nan,  nan],\n",
        "       [ nan,  nan],\n",
        "       [ nan,  nan],\n",
        "       [ nan,  nan],\n",
        "       [ nan,  nan],\n",
        "       [ nan,  nan],\n",
        "       [ nan,  nan],\n",
        "       [ nan,  nan],\n",
        "       [ nan,  nan],\n",
        "       [ nan,  nan],\n",
        "       [ nan,  nan],\n",
        "       [ nan,  nan],\n",
        "       [ nan,  nan],\n",
        "       [ nan,  nan],\n",
        "       [ nan,  nan],\n",
        "       [ nan,  nan],\n",
        "       [ nan,  nan],\n",
        "       [ nan,  nan],\n",
        "       [ nan,  nan],\n",
        "       [ nan,  nan],\n",
        "       [ nan,  nan],\n",
        "       [ nan,  nan],\n",
        "       [ nan,  nan],\n",
        "       [ nan,  nan],\n",
        "       [ nan,  nan],\n",
        "       [ nan,  nan],\n",
        "       [ nan,  nan],\n",
        "       [ nan,  nan],\n",
        "       [ nan,  nan],\n",
        "       [ nan,  nan],\n",
        "       [ nan,  nan],\n",
        "       [ nan,  nan],\n",
        "       [ nan,  nan],\n",
        "       [ nan,  nan],\n",
        "       [ nan,  nan],\n",
        "       [ nan,  nan],\n",
        "       [ nan,  nan],\n",
        "       [ nan,  nan],\n",
        "       [ nan,  nan],\n",
        "       [ nan,  nan],\n",
        "       [ nan,  nan],\n",
        "       [ nan,  nan],\n",
        "       [ nan,  nan],\n",
        "       [ nan,  nan],\n",
        "       [ nan,  nan],\n",
        "       [ nan,  nan],\n",
        "       [ nan,  nan],\n",
        "       [ nan,  nan],\n",
        "       [ nan,  nan],\n",
        "       [ nan,  nan],\n",
        "       [ nan,  nan],\n",
        "       [ nan,  nan],\n",
        "       [ nan,  nan],\n",
        "       [ nan,  nan],\n",
        "       [ nan,  nan],\n",
        "       [ nan,  nan],\n",
        "       [ nan,  nan],\n",
        "       [ nan,  nan],\n",
        "       [ nan,  nan],\n",
        "       [ nan,  nan],\n",
        "       [ nan,  nan],\n",
        "       [ nan,  nan],\n",
        "       [ nan,  nan],\n",
        "       [ nan,  nan],\n",
        "       [ nan,  nan],\n",
        "       [ nan,  nan],\n",
        "       [ nan,  nan],\n",
        "       [ nan,  nan],\n",
        "       [ nan,  nan],\n",
        "       [ nan,  nan],\n",
        "       [ nan,  nan],\n",
        "       [ nan,  nan],\n",
        "       [ nan,  nan],\n",
        "       [ nan,  nan],\n",
        "       [ nan,  nan],\n",
        "       [ nan,  nan],\n",
        "       [ nan,  nan],\n",
        "       [ nan,  nan],\n",
        "       [ nan,  nan],\n",
        "       [ nan,  nan],\n",
        "       [ nan,  nan],\n",
        "       [ nan,  nan],\n",
        "       [ nan,  nan],\n",
        "       [ nan,  nan],\n",
        "       [ nan,  nan],\n",
        "       [ nan,  nan],\n",
        "       [ nan,  nan],\n",
        "       [ nan,  nan],\n",
        "       [ nan,  nan],\n",
        "       [ nan,  nan],\n",
        "       [ nan,  nan],\n",
        "       [ nan,  nan],\n",
        "       [ nan,  nan],\n",
        "       [ nan,  nan],\n",
        "       [ nan,  nan],\n",
        "       [ nan,  nan],\n",
        "       [ nan,  nan],\n",
        "       [ nan,  nan]])"
       ]
      }
     ],
     "prompt_number": 184
    },
    {
     "cell_type": "code",
     "collapsed": false,
     "input": [
      "system"
     ],
     "language": "python",
     "metadata": {},
     "outputs": [
      {
       "metadata": {},
       "output_type": "pyout",
       "prompt_number": 185,
       "text": [
        "array([[[ nan,  nan],\n",
        "        [ nan,  nan]],\n",
        "\n",
        "       [[ nan,  nan],\n",
        "        [ nan,  nan]],\n",
        "\n",
        "       [[ nan,  nan],\n",
        "        [ nan,  nan]],\n",
        "\n",
        "       ..., \n",
        "       [[ nan,  nan],\n",
        "        [ nan,  nan]],\n",
        "\n",
        "       [[ nan,  nan],\n",
        "        [ nan,  nan]],\n",
        "\n",
        "       [[ nan,  nan],\n",
        "        [ nan,  nan]]])"
       ]
      }
     ],
     "prompt_number": 185
    },
    {
     "cell_type": "code",
     "collapsed": false,
     "input": [
      "x = []\n",
      "y = []\n",
      "for i in xrange(len(system)):\n",
      "    x.append(system[i][0][0])\n",
      "    y.append(system[i][0][1])\n",
      "plt.scatter(x,y);\n",
      "#plt.ylim([-200,200])"
     ],
     "language": "python",
     "metadata": {},
     "outputs": [
      {
       "metadata": {},
       "output_type": "pyout",
       "prompt_number": 186,
       "text": [
        "<matplotlib.collections.PathCollection at 0xb141678c>"
       ]
      },
      {
       "metadata": {},
       "output_type": "display_data",
       "png": "[encoded data removed]",
       "text": [
        "<matplotlib.figure.Figure at 0xb149040c>"
       ]
      }
     ],
     "prompt_number": 186
    },
    {
     "cell_type": "code",
     "collapsed": false,
     "input": [],
     "language": "python",
     "metadata": {},
     "outputs": []
    }
   ],
   "metadata": {}
  }
 ]
}