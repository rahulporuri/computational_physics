{
 "metadata": {
  "name": ""
 },
 "nbformat": 3,
 "nbformat_minor": 0,
 "worksheets": [
  {
   "cells": [
    {
     "cell_type": "code",
     "collapsed": false,
     "input": [
      "import numpy as np\n",
      "import matplotlib.pyplot as plt\n",
      "from scipy.constants import nano, pico, N_A, m_p\n",
      "%matplotlib inline\n",
      "import scipy.spatial.distance as spd"
     ],
     "language": "python",
     "metadata": {},
     "outputs": [],
     "prompt_number": 1
    },
    {
     "cell_type": "code",
     "collapsed": false,
     "input": [
      "n = 9 # number of atoms in the system\n",
      "#e = sigma = 1.\n",
      "system = np.zeros([n,2,2])\n",
      "# initialization\n",
      "for i in xrange(9):\n",
      "    system[i][0][0] = i%3 # positions in a 3X3 lattice\n",
      "    system[i][0][1] = i/3 # 3 is the square root of 9. if n is changed, so should this value!\n",
      "    system[i][1][0] = 1 # x & y momenta = 1\n",
      "    system[i][1][1] = 1\n",
      "    \n",
      "def update_position():\n",
      "    for i in xrange(len(system)):\n",
      "        system[i][0] += system[i][1]*step/2\n",
      "    return system\n",
      "\n",
      "def update_momentum():\n",
      "    for i in xrange(len(system)):\n",
      "        system[i][1] += force[i]*step\n",
      "    return system\n",
      "\n",
      "def lennard_jones(r):\n",
      "    return 2*(1./r)**13 - (1./r)**7\n",
      "\n",
      "force = np.zeros([n,2])\n",
      "\n",
      "def update_forces():\n",
      "    for i in xrange(len(system)):\n",
      "        pxdot = 0\n",
      "        pydot = 0\n",
      "        for j in xrange(len(system)):\n",
      "            if j != i :\n",
      "                r = spd.euclidean(system[i][0],system[j][0])\n",
      "                theta = np.arctan((system[j][0][1] - system[i][0][1])/(system[j][0][0] - system[i][0][0]))\n",
      "                theta = theta*180/np.pi\n",
      "                pxdot += lennard_jones(r)*np.cos(theta)\n",
      "                pydot += lennard_jones(r)*np.sin(theta)\n",
      "        force[i] = np.array([pxdot, pydot])\n",
      "    return force\n",
      "\n",
      "def radial_number_density():\n",
      "    rad_dist = []\n",
      "    for i in xrange(len(system)):\n",
      "        for j in xrange(len(system)):\n",
      "            if i != j:\n",
      "                temp = spd.euclidean(system[i][0],system[j][0])\n",
      "                rad_dist.append(temp)\n",
      "    return rad_dist\n",
      "\n",
      "initial_dist = radial_number_density()\n",
      "\n",
      "step = 1./np.power(10,2)\n",
      "#step = 1.\n",
      "\n",
      "for timestep in range(100):\n",
      "    update_momentum()\n",
      "    update_position()\n",
      "    update_forces()\n",
      "    update_momentum()\n",
      "\n",
      "final_dist = radial_number_density()"
     ],
     "language": "python",
     "metadata": {},
     "outputs": [
      {
       "output_type": "stream",
       "stream": "stderr",
       "text": [
        "-c:33: RuntimeWarning: divide by zero encountered in double_scalars\n"
       ]
      }
     ],
     "prompt_number": 2
    },
    {
     "cell_type": "code",
     "collapsed": false,
     "input": [
      "plt.subplot(121)\n",
      "plt.hist(initial_dist,10);\n",
      "plt.subplot(122)\n",
      "plt.hist(final_dist,10);"
     ],
     "language": "python",
     "metadata": {},
     "outputs": [
      {
       "metadata": {},
       "output_type": "display_data",
       "png": "[encoded data removed]",
       "text": [
        "<matplotlib.figure.Figure at 0xb14ee0ec>"
       ]
      }
     ],
     "prompt_number": 4
    },
    {
     "cell_type": "code",
     "collapsed": false,
     "input": [],
     "language": "python",
     "metadata": {},
     "outputs": []
    }
   ],
   "metadata": {}
  }
 ]
}