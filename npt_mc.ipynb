{
 "metadata": {
  "name": ""
 },
 "nbformat": 3,
 "nbformat_minor": 0,
 "worksheets": [
  {
   "cells": [
    {
     "cell_type": "code",
     "collapsed": false,
     "input": [],
     "language": "python",
     "metadata": {},
     "outputs": []
    },
    {
     "cell_type": "code",
     "collapsed": false,
     "input": [
      "import scipy.spatial.distance as spd\n",
      "import numpy as np\n",
      "import matplotlib.pyplot as plt\n",
      "%matplotlib inline\n",
      "\n",
      "# used to compare energy before and after a move\n",
      "# we assumed that epsilon and alpha are 1\n",
      "def local_energy(site):\n",
      "    local_sum = 0\n",
      "    for i in xrange(len(system)):\n",
      "        if site != i:\n",
      "            tempx = system[site][0] - system[i][0]\n",
      "            tempy = system[site][1] - system[i][1]\n",
      "            if tempx > 50./2:\n",
      "                tempx = 50. - tempx\n",
      "            if tempy > 50./2:\n",
      "                tempy = 50. - tempy\n",
      "            #r = spd.euclidean(system[i][0],system[j][0])\n",
      "            dist = np.sqrt(tempx**2+tempy**2)\n",
      "            #dist = spd.euclidean(system[site],system[i])\n",
      "            local_sum += -((1/dist)**12-(1/dist)**6)\n",
      "    return local_sum\n",
      "\n",
      "# total energy of the system\n",
      "def system_energy():\n",
      "    total_sum = 0\n",
      "    for i in xrange(len(system)):\n",
      "        total_sum += local_energy(i)\n",
      "    return total_sum\n",
      "\n",
      "def radial_number_density():\n",
      "    rad_dist = []\n",
      "    for i in xrange(len(system)):\n",
      "        for j in xrange(len(system)):\n",
      "            if i != j:\n",
      "                temp = spd.euclidean(system[i],system[j])\n",
      "                rad_dist.append(temp)\n",
      "    return rad_dist\n",
      "\n",
      "n = 400 # number of particles\n",
      "# initializing the system\n",
      "# the atoms occupy a square of size 10X10\n",
      "system = np.zeros([n,2])\n",
      "for i in xrange(len(system)):\n",
      "    system[i][0] = i%20 # np.sqrt(n) wont work as it will return a float\n",
      "    system[i][1] = i/20 # we need an integer denominator for this to work!\n",
      "\n",
      "global_energy = []\n",
      "accepted_moves = 0\n",
      "\n",
      "plt.subplot(131)\n",
      "alist = radial_number_density()\n",
      "anarray = np.asarray(alist)\n",
      "plt.hist(anarray,10);\n",
      "\n",
      "initial_dist = radial_number_density()\n",
      "\n",
      "T = 1.\n",
      "# T = np.array([5.,5./2,1./1./2,1./10])\n",
      "beta = 1./T\n",
      "# B = 1./T\n",
      "#for beta in B:\n",
      "for timestep in xrange(100):\n",
      "    site = np.random.choice(np.arange(n)) # atom to be moved\n",
      "    # this atom can now move in the range (-alpha,alpha) in x & y\n",
      "    #xmove = np.random.choice(np.array([-2.,-5./3,-4./3,-1,-2./3,-1./3,0,1./3,2./3,1.,4./3,5./3,2.]))\n",
      "    #ymove = np.random.choice(np.array([-2.,-5./3,-4./3,-1,-2./3,-1./3,0,1./3,2./3,1.,4./3,5./3,2.]))\n",
      "    #xmove = np.random.choice(np.array([0,1./3,2./3,1.,4./3,5./3,2.]))\n",
      "    #ymove = np.random.choice(np.array([0,1./3,2./3,1.,4./3,5./3,2.]))\n",
      "    xmove = np.random.choice(np.array([0.,1.,2.,3.,4.]))\n",
      "    ymove = np.random.choice(np.array([0.,1.,2.,3.,4.]))\n",
      "    v_ratio = np.random.choice(np.array([0.90,0.95,1.0,1.05,1.10]))\n",
      "    pre_move_e = local_energy(site)\n",
      "    system[site] = system[site] + np.array([xmove,ymove])\n",
      "    if system[site][0] > 50 :\n",
      "        system[site][0] = system[site][0]%50\n",
      "    #if system[site][0] < 0 :\n",
      "    #    system[site][0] = system[site][0]%100\n",
      "    if system[site][1] > 50 :\n",
      "        system[site][1] = system[site][1]%50\n",
      "    #if system[site][1] < 0 :\n",
      "    #    system[site][1] = system[site][1]%100\n",
      "    post_move_e = local_energy(site)\n",
      "    if post_move_e - pre_move_e < 0:\n",
      "        global_energy.append(system_energy())\n",
      "        accepted_moves += 1\n",
      "    else :\n",
      "        temp = np.random.random()\n",
      "        if temp < np.exp(-((v_ratio)**n)*beta*(post_move_e - pre_move_e)):\n",
      "            global_energy.append(system_energy())\n",
      "            accepted_moves += 1\n",
      "        else :\n",
      "            system[site] = system[site] - np.array([xmove,ymove])\n",
      "            global_energy.append(system_energy())\n",
      "    #print timestep, \"done\"\n",
      "# we get global_energy, accepted moves as the outputs here.\n",
      "plt.subplot(132)\n",
      "alist = radial_number_density()\n",
      "anarray = np.asarray(alist)\n",
      "plt.hist(anarray,10);\n",
      "plt.subplot(133)\n",
      "plt.plot(global_energy)\n",
      "print \"accepted_moves\", accepted_moves\n",
      "final_dist = radial_number_density()"
     ],
     "language": "python",
     "metadata": {},
     "outputs": [
      {
       "output_type": "stream",
       "stream": "stdout",
       "text": [
        "accepted_moves 17\n"
       ]
      },
      {
       "metadata": {},
       "output_type": "display_data",
       "png": "[encoded data removed]",
       "text": [
        "<matplotlib.figure.Figure at 0xb0f6c0cc>"
       ]
      }
     ],
     "prompt_number": 3
    },
    {
     "cell_type": "code",
     "collapsed": false,
     "input": [
      "#print plt.hist(final_dist)[0], plt.hist(final_dist)[1]\n",
      "temp_array_range_initial = plt.hist(initial_dist)[1]\n",
      "temp_array_number_initial = plt.hist(initial_dist)[0]\n",
      "for i in xrange(len(temp_array_range_initial)-1):\n",
      "    denominator = temp_array_range_initial[i+1]**2 - temp_array_range_initial[i]**2\n",
      "    temp_array_number_initial[i] = temp_array_number_initial[i]/denominator\n",
      "#######\n",
      "temp_array_range_final = plt.hist(final_dist)[1]\n",
      "temp_array_number_final = plt.hist(final_dist)[0]\n",
      "for i in xrange(len(temp_array_range_final)-1):\n",
      "    denominator = temp_array_range_final[i+1]**2 - temp_array_range_final[i]**2\n",
      "    temp_array_number_final[i] = temp_array_number_final[i]/denominator\n",
      "plt.cla()\n",
      "plt.plot(temp_array_number_initial,'o',temp_array_number_final,'.')"
     ],
     "language": "python",
     "metadata": {},
     "outputs": [
      {
       "metadata": {},
       "output_type": "pyout",
       "prompt_number": 4,
       "text": [
        "[<matplotlib.lines.Line2D at 0xb0ee51ec>,\n",
        " <matplotlib.lines.Line2D at 0xb0de238c>]"
       ]
      },
      {
       "metadata": {},
       "output_type": "display_data",
       "png": "[encoded data removed]",
       "text": [
        "<matplotlib.figure.Figure at 0xb0e4172c>"
       ]
      }
     ],
     "prompt_number": 4
    },
    {
     "cell_type": "markdown",
     "metadata": {},
     "source": [
      "work in-progress\n",
      "=========="
     ]
    },
    {
     "cell_type": "code",
     "collapsed": false,
     "input": [
      "def local_energy(site):\n",
      "    local_sum = 0\n",
      "    for i in xrange(len(system)):\n",
      "        if site != i:\n",
      "            dist = spd.euclidean(system[site],system[i])\n",
      "            local_sum += -((1/dist)**12-(1/dist)**6)\n",
      "    return np.array([local_sum])"
     ],
     "language": "python",
     "metadata": {},
     "outputs": []
    },
    {
     "cell_type": "code",
     "collapsed": false,
     "input": [
      "import time\n",
      "start_time = time.time()\n",
      "temp = system_energy()\n",
      "print time.time() - start_time"
     ],
     "language": "python",
     "metadata": {},
     "outputs": [
      {
       "output_type": "stream",
       "stream": "stdout",
       "text": [
        "5.13577103615\n"
       ]
      }
     ],
     "prompt_number": 11
    },
    {
     "cell_type": "code",
     "collapsed": false,
     "input": [
      "import multiprocessing as mp\n",
      "start_time = time.time()\n",
      "pool = mp.Pool(processes=3)\n",
      "results = [pool.apply_async(local_energy, args=(i,)) for i in range(399)]\n",
      "output = [p.get() for p in results]\n",
      "print time.time()-start_time\n",
      "#print(output)"
     ],
     "language": "python",
     "metadata": {},
     "outputs": [
      {
       "output_type": "stream",
       "stream": "stdout",
       "text": [
        "2.71200299263\n"
       ]
      }
     ],
     "prompt_number": 27
    },
    {
     "cell_type": "code",
     "collapsed": false,
     "input": [],
     "language": "python",
     "metadata": {},
     "outputs": []
    },
    {
     "cell_type": "code",
     "collapsed": false,
     "input": [],
     "language": "python",
     "metadata": {},
     "outputs": []
    },
    {
     "cell_type": "code",
     "collapsed": false,
     "input": [
      "import scipy.spatial.distance as spd\n",
      "import numpy as np\n",
      "import matplotlib.pyplot as plt\n",
      "%matplotlib inline\n",
      "\n",
      "# used to compare energy before and after a move\n",
      "# we assumed that epsilon and alpha are 1\n",
      "def local_energy(site):\n",
      "    local_sum = 0\n",
      "    for i in xrange(len(system)):\n",
      "        if site != i:\n",
      "            dist = spd.euclidean(system[site],system[i])\n",
      "            local_sum += -((1/dist)**12-(1/dist)**6)\n",
      "    return local_sum\n",
      "\n",
      "# total energy of the system\n",
      "def system_energy():\n",
      "    total_sum = 0\n",
      "    for i in xrange(len(system)):\n",
      "        total_sum += local_energy(i)\n",
      "    return total_sum\n",
      "\n",
      "def radial_number_density():\n",
      "    rad_dist = []\n",
      "    for i in xrange(len(system)):\n",
      "        for j in xrange(len(system)):\n",
      "            if i != j:\n",
      "                temp = spd.euclidean(system[i],system[j])\n",
      "                rad_dist.append(temp)\n",
      "    return rad_dist\n",
      "\n",
      "n = 400 # number of particles\n",
      "# initializing the system\n",
      "# the atoms occupy a square of size 10X10\n",
      "system = np.zeros([n,2])\n",
      "for i in xrange(len(system)):\n",
      "    system[i][0] = i%20 # np.sqrt(n) wont work as it will return a float\n",
      "    system[i][1] = i/20 # we need an integer denominator for this to work!\n",
      "\n",
      "global_energy = []\n",
      "accepted_moves = 0\n",
      "energy_now = system_energy() ####\n",
      "accepted_moves = 0\n",
      "\n",
      "plt.subplot(131)\n",
      "alist = radial_number_density()\n",
      "anarray = np.asarray(alist)\n",
      "plt.hist(anarray,10);\n",
      "\n",
      "T = 1.\n",
      "# T = np.array([5.,5./2,1./1./2,1./10])\n",
      "beta = 1./T\n",
      "# B = 1./T\n",
      "#for beta in B:\n",
      "for timestep in xrange(5000):\n",
      "    site = np.random.choice(np.arange(n)) # atom to be moved\n",
      "    # this atom can now move in the range (-alpha,alpha) in x & y\n",
      "    #xmove = np.random.choice(np.array([-2.,-5./3,-4./3,-1,-2./3,-1./3,0,1./3,2./3,1.,4./3,5./3,2.]))\n",
      "    #ymove = np.random.choice(np.array([-2.,-5./3,-4./3,-1,-2./3,-1./3,0,1./3,2./3,1.,4./3,5./3,2.]))\n",
      "    #xmove = np.random.choice(np.array([0,1./3,2./3,1.,4./3,5./3,2.]))\n",
      "    #ymove = np.random.choice(np.array([0,1./3,2./3,1.,4./3,5./3,2.]))\n",
      "    xmove = np.random.choice(np.array([0.,1.,2.,3.,4.]))\n",
      "    ymove = np.random.choice(np.array([0.,1.,2.,3.,4.]))\n",
      "    v_ratio = np.random.choice(np.array([0.90,0.95,1.0,1.05,1.10]))\n",
      "    pre_move_e = local_energy(site)\n",
      "    system[site] = system[site] + np.array([xmove,ymove])\n",
      "    if system[site][0] > 50 :\n",
      "        system[site][0] = system[site][0]%50\n",
      "    #if system[site][0] < 0 :\n",
      "    #    system[site][0] = system[site][0]%100\n",
      "    if system[site][1] > 50 :\n",
      "        system[site][1] = system[site][1]%50\n",
      "    #if system[site][1] < 0 :\n",
      "    #    system[site][1] = system[site][1]%100\n",
      "    post_move_e = local_energy(site)\n",
      "    diff = post_move_e - pre_move_e ###\n",
      "    if post_move_e - pre_move_e < 0:\n",
      "        energy_now += diff ####\n",
      "        global_energy.append(energy_now) ####\n",
      "        accepted_moves += 1\n",
      "    else :\n",
      "        temp = np.random.random()\n",
      "        if temp < np.exp(-((v_ratio)**n)*beta*(post_move_e - pre_move_e)):\n",
      "            energy_now += diff ####\n",
      "            global_energy.append(energy_now) ####\n",
      "            accepted_moves += 1\n",
      "        else :\n",
      "            system[site] = system[site] - np.array([xmove,ymove])\n",
      "            global_energy.append(energy_now)\n",
      "    #print timestep, \"done\"\n",
      "# we get global_energy, accepted moves as the outputs here.\n",
      "plt.subplot(132)\n",
      "alist = radial_number_density()\n",
      "anarray = np.asarray(alist)\n",
      "plt.hist(anarray,10);\n",
      "plt.subplot(133)\n",
      "plt.plot(global_energy)\n",
      "print \"accepted_moves\", accepted_moves"
     ],
     "language": "python",
     "metadata": {},
     "outputs": [
      {
       "output_type": "stream",
       "stream": "stdout",
       "text": [
        "accepted_moves 2266\n"
       ]
      },
      {
       "output_type": "stream",
       "stream": "stderr",
       "text": [
        "-c:13: RuntimeWarning: divide by zero encountered in double_scalars\n",
        "-c:13: RuntimeWarning: invalid value encountered in double_scalars\n"
       ]
      },
      {
       "metadata": {},
       "output_type": "display_data",
       "png": "[encoded data removed]",
       "text": [
        "<matplotlib.figure.Figure at 0xb0e0f2cc>"
       ]
      }
     ],
     "prompt_number": 2
    },
    {
     "cell_type": "code",
     "collapsed": false,
     "input": [],
     "language": "python",
     "metadata": {},
     "outputs": []
    }
   ],
   "metadata": {}
  }
 ]
}