{
 "metadata": {
  "name": ""
 },
 "nbformat": 3,
 "nbformat_minor": 0,
 "worksheets": [
  {
   "cells": [
    {
     "cell_type": "markdown",
     "metadata": {},
     "source": [
      "adaptive rk4-rk5 method\n",
      "===\n",
      "\n",
      "> in the adaptive method, we measure the values $k_1$ through $k_6$ using $(x_i, y_i)$ yielding from the 4th order RK. we measure the $y_{i+1}$ using 5th order RK just to get an estimate of the error and to change or scale the step size appropriately"
     ]
    },
    {
     "cell_type": "markdown",
     "metadata": {},
     "source": [
      "$$y_{i+1} = y_i + (a_1*k_1+a_2*k_2)*h$$\n",
      "> or in general\n",
      "\n",
      "$$y_{i+1} = y_i + (\\Sigma (a_i*k_i))*h$$\n",
      "> in the case of the adaptive RK4/5 method,\n",
      "\n",
      "> the RK 4 estimate is \n",
      "\n",
      "$$y_{i+1} = y_i + (a_1*k_1+a_2*k_2+a_3*k_3+a_4*k_4+a_5*k_5+a_6*k_6)*h$$\n",
      "where two of the $a_i$ values are zero\n",
      "> and the RK5 estimate is\n",
      "\n",
      "$$y_{i+1} = y_i + (b_1*k_1+b_2*k_2+b_3*k_3+b_4*k_4+b_5*k_5+b_6*k_6)*h$$\n",
      "where one of the $a_i$ values is zero.\n",
      "\n",
      "> If we are to use conventional methods to compute RK4 and RK5 estimate, we would need to perform 10 function evaluations per step since we will have to measure 4 values of $k_i$ for the RK4 estimate and 6 values of $k_i$ for the RK5 estimate. Instead, inorder to reduce the number of computational steps involved in one iteration, only 6 function evaluations are performed to estimate $k_1$ through $k_6$ and appropriate $a_i$ and $b_i$ values are chosen to estimate $y_i$ using the RK4 and RK5 methods correspondingly.\n",
      "\n",
      "$$k_1 = f(x_i, y_i)$$\n",
      "$$k_{l+1} = f(x_i +p_l*h, y_i +(\\Sigma_n q_{mn}*k_n))$$"
     ]
    },
    {
     "cell_type": "code",
     "collapsed": false,
     "input": [
      "import numpy as np\n",
      "import matplotlib.pyplot as plt\n",
      "%matplotlib inline\n",
      "from scipy.constants import pico, micro, nano, milli, centi, atto"
     ],
     "language": "python",
     "metadata": {},
     "outputs": []
    },
    {
     "cell_type": "code",
     "collapsed": false,
     "input": [
      "def f(x,y):\n",
      "    return 10*np.exp(-(x-2)**2/(2*(0.075**2))) - 0.6*y"
     ],
     "language": "python",
     "metadata": {},
     "outputs": []
    },
    {
     "cell_type": "markdown",
     "metadata": {},
     "source": [
      "the wrong way, using 10 function evaluations\n",
      "==="
     ]
    },
    {
     "cell_type": "code",
     "collapsed": false,
     "input": [
      "# is the wrong way of doing it\n",
      "# i am performing 10 function evaluations,\n",
      "# instead of 6 as prescribed by RK-Fehlberg\n",
      "h = 0.001\n",
      "x0 = 0\n",
      "y0 = 0.5\n",
      "# x-array\n",
      "xlist = []\n",
      "xlist.append(x0)\n",
      "# y-arrays\n",
      "adapRK5ylist = []\n",
      "adapRK5ylist.append(y0)\n",
      "adapRK4ylist = []\n",
      "adapRK4ylist.append(y0)\n",
      "xi = x0\n",
      "adapRK4yi = y0\n",
      "adapRK5yi = y0\n",
      "#rk4 estimate\n",
      "for i in xrange(4000):\n",
      "    k1 = f(xi,adapRK4yi)\n",
      "    k2 = f(xi +h/5 ,adapRK4yi +k1*h/5)\n",
      "    k3 = f(xi +3*h/10 ,adapRK4yi +(3*k1/40 +9*k2/40)*h)\n",
      "    k4 = f(xi +3*h/5 ,adapRK4yi +(3*k1/10 -9*k2/10 +6*k3/5)*h)\n",
      "    k5 = f(xi +h ,adapRK4yi +(-11*k1/54 +5*k2/2 -70*k3/27 +35*k4/27)*h)\n",
      "    k6 = f(xi +7*h/8 ,adapRK4yi +(1631*k1/55296 +175*k2/512 +575*k3/13824 +44275*k4/110592 +253*k5/4096)*h)\n",
      "    xi += h\n",
      "    xlist.append(xi)\n",
      "    adapRK4yi += (37*k1/378 +250*k3/621 +125*k4/594 +512*k6/1771)*h\n",
      "    adapRK4ylist.append(adapRK4yi)\n",
      "#rk5 estimate\n",
      "xi = x0\n",
      "for i in xrange(4000):\n",
      "    k1 = f(xi,adapRK5yi)\n",
      "    k2 = f(xi +h/5 ,adapRK5yi +k1*h/5)\n",
      "    k3 = f(xi +3*h/10 ,adapRK5yi +(3*k1/40 +9*k2/40)*h)\n",
      "    k4 = f(xi +3*h/5 ,adapRK5yi +(3*k1/10 -9*k2/10 +6*k3/5)*h)\n",
      "    k5 = f(xi +h ,adapRK5yi +(-11*k1/54 +5*k2/2 -70*k3/27 +35*k4/27)*h)\n",
      "    k6 = f(xi +7*h/8 ,adapRK5yi +(1631*k1/55296 +175*k2/512 +575*k3/13824 +44275*k4/110592 +253*k5/4096)*h)\n",
      "    xi += h\n",
      "    xlist.append(xi)\n",
      "    adapRK5yi += (2825*k1/27648 +18575*k3/48384 +13525*k4/55296 +277*k5/14336 +k6/4)*h\n",
      "    adapRK5ylist.append(adapRK5yi)"
     ],
     "language": "python",
     "metadata": {},
     "outputs": []
    },
    {
     "cell_type": "markdown",
     "metadata": {},
     "source": [
      "difference in function value estimate with  rk4 and rk5 methods for adaptive RK\n",
      "==="
     ]
    },
    {
     "cell_type": "code",
     "collapsed": false,
     "input": [
      "#xtemp = np.asarray(rk5xlist)-np.asarray(xlist)\n",
      "ytemp = np.asarray(adapRK5ylist)-np.asarray(adapRK4ylist)\n",
      "plt.plot(ytemp)\n",
      "# difference in the estimation of the function value using rk4 and rk5 methods with same step size, 0.001"
     ],
     "language": "python",
     "metadata": {},
     "outputs": []
    },
    {
     "cell_type": "markdown",
     "metadata": {},
     "source": [
      "the right way, 6 function evaluations\n",
      "===="
     ]
    },
    {
     "cell_type": "code",
     "collapsed": false,
     "input": [
      "# coefficients to estimate k1 through k6\n",
      "# coefficients were taken from the textbook 'numerical methods for engineers' by steven and raymond\n",
      "# there are various sets of coefficients mentioned in literature\n",
      "# such as that on wikipedia here - http://en.wikipedia.org/wiki/Runge%E2%80%93Kutta%E2%80%93Fehlberg_method\n",
      "p1 = 1./5\n",
      "q11 = 1./5\n",
      "p2 = 3./10\n",
      "[q21, q22] = [3./40, 9./40]\n",
      "p3 = 3./5\n",
      "[q31, q32, q33] = [3./10, -9./10, 6./5]\n",
      "p4 = 1\n",
      "[q41, q42, q43, q44] = [-11./54, 5./2, -70./27, 35./27]\n",
      "p5 = 7./8\n",
      "[q51, q52, q53, q54, q55] = [1631./55296, 175./512, 575./13824, 44275./110592, 253./4096]\n",
      "# ki values for rk4/5\n",
      "k1 = f(xi,yi)\n",
      "k2 = f(xi+p1*h, yi +q11*k1*h)\n",
      "k3 = f(xi+p2*h, yi +(q21*k1 +q22*k2)*h)\n",
      "k4 = f(xi+p3*h, yi +(q31*k1 +q32*k2 +q33*k3)*h)\n",
      "k5 = f(xi+p4*h, yi +(q41*k1 +q42*k2 +q43*k3 +q44*k4)*h)\n",
      "k6 = f(xi+p5*h, yi +(q51*k1 +q52*k2 +q53*k3 +q54*k4 +q55*k5)*h)\n",
      "# multiplicative quotients for k1 through k6\n",
      "# for ai for rk4 method and bi for rk5 method\n",
      "[a1, a2, a3, a4, a5, a6] = [37./378, 0, 250./621, 125./594, 0, 512./1771]\n",
      "[b1, b2, b3, b4, b5, b6] = [2825./27648, 0, 18575./48384, 13525./55296, 277./14336, 1./4]\n",
      "yi_est_RK4 = yi_est_RK5 = yi\n",
      "yi_RK4 += (a1*k1 +a2*k2 +a3*k3 +a4*k4 +a5*k5 +a6*k6)*h\n",
      "yi_RK5 += (b1*k1 +b2*k2 +b3*k3 +b4*k4 +b5*k5 +b6*k6)*h"
     ],
     "language": "python",
     "metadata": {},
     "outputs": []
    },
    {
     "cell_type": "markdown",
     "metadata": {},
     "source": [
      "attempt  (-1)\n",
      "==="
     ]
    },
    {
     "cell_type": "code",
     "collapsed": false,
     "input": [
      "h = 0.001\n",
      "h0 = h\n",
      "h_min = micro\n",
      "h_max = milli\n",
      "x0 = 0\n",
      "y0 = 0.5\n",
      "eps = 0.5*pico\n",
      "# x-array\n",
      "xlist = []\n",
      "#xlist.append(x0)\n",
      "xi = x0\n",
      "# y-arrays\n",
      "adapRK4ylist = []\n",
      "adapRK4ylist.append(y0)\n",
      "adapRK4yi = y0\n",
      "adapRK5yi = y0\n",
      "#rk4 estimate\n",
      "for i in xrange(4000):\n",
      "    k1 = f(xi,adapRK4yi)\n",
      "    k2 = f(xi +h/5 ,adapRK4yi +k1*h/5)\n",
      "    k3 = f(xi +3*h/10 ,adapRK4yi +(3*k1/40 +9*k2/40)*h)\n",
      "    k4 = f(xi +3*h/5 ,adapRK4yi +(3*k1/10 -9*k2/10 +6*k3/5)*h)\n",
      "    k5 = f(xi +h ,adapRK4yi +(-11*k1/54 +5*k2/2 -70*k3/27 +35*k4/27)*h)\n",
      "    k6 = f(xi +7*h/8 ,adapRK4yi +(1631*k1/55296 +175*k2/512 +575*k3/13824 +44275*k4/110592 +253*k5/4096)*h)\n",
      "    adapRK4yi += (37*k1/378 +250*k3/621 +125*k4/594 +512*k6/1771)*h\n",
      "    adapRK5yi += (2825*k1/27648 +18575*k3/48384 +13525*k4/55296 +277*k5/14336 +k6/4)*h\n",
      "    xi += h\n",
      "    xlist.append(xi)\n",
      "    adapRK4ylist.append(adapRK4yi)\n",
      "    print adapRK4yi, adapRK5yi\n",
      "    #if np.fabs(adapRK5yi - adapRK4yi) != 0:\n",
      "    print 'difference is', np.fabs(adapRK5yi - adapRK4yi)\n",
      "    #if np.fabs(adapRK5yi - adapRK4yi) > eps :\n",
      "    if h*(eps*h/np.fabs(adapRK5yi - adapRK4yi))**(1./4) > h_max:\n",
      "        h = h_max\n",
      "        print 'h value is', h, 'at', i\n",
      "    if h_max > h*(eps*h/np.fabs(adapRK5yi - adapRK4yi))**(1./4) > h_min:\n",
      "        h = h*(eps*h/(2*np.fabs(adapRK5yi - adapRK4yi)))**(1./4)\n",
      "        print 'h value is', h, 'at', i\n",
      "    if h*(eps*h/np.fabs(adapRK5yi - adapRK4yi))**(1./4) < h_min:\n",
      "        h = h_min\n",
      "        print 'h value is', h, 'at', i\n",
      "    # should come at the end of the loop as we estimate the k1-k6 values using the previous xi\n",
      "    # and this should not be before xlist.append(xi) because then we are jumping a step in xi!"
     ],
     "language": "python",
     "metadata": {},
     "outputs": []
    },
    {
     "cell_type": "markdown",
     "metadata": {},
     "source": [
      "step-halving method\n",
      "==="
     ]
    },
    {
     "cell_type": "markdown",
     "metadata": {},
     "source": [
      "compute $K_1$ through $K_6$. compute ytemp, copy of yi, using 4th order and 5th order RK methods, using said $K_i$ values. calculate the error or relative error using the two estimates. if the error is within limits, move ahead and store ytemp as yi. if the error is greater than limit, h = h/2. and reevaluate ytemp. if error is less than limit, h = 2.h and reevaluate ytemp"
     ]
    },
    {
     "cell_type": "code",
     "collapsed": false,
     "input": [
      "h0 = 0.001\n",
      "#h_min = micro\n",
      "#h_max = centi\n",
      "x0 = 0\n",
      "y0 = 0.5\n",
      "#eps_min = 0.1*pico\n",
      "eps = 0.5*pico\n",
      "# x-array\n",
      "xlist = []\n",
      "xlist.append(x0)\n",
      "xi = x0\n",
      "# y-arrays\n",
      "ylist = []\n",
      "ylist.append(y0)\n",
      "yi = y0\n",
      "#adapRK4ylist = []\n",
      "#adapRK4ylist.append(y0)\n",
      "#adapRK4yi = y0\n",
      "#adapRK5yi = y0\n",
      "#rk4 estimate\n",
      "for i in xrange(4000):\n",
      "    k1 = f(xi,y0)\n",
      "    k2 = f(xi +h0/5 ,y0 +k1*h0/5)\n",
      "    k3 = f(xi +3*h0/10 ,y0 +(3*k1/40 +9*k2/40)*h0)\n",
      "    k4 = f(xi +3*h0/5 ,y0 +(3*k1/10 -9*k2/10 +6*k3/5)*h0)\n",
      "    k5 = f(xi +h0 ,y0 +(-11*k1/54 +5*k2/2 -70*k3/27 +35*k4/27)*h0)\n",
      "    k6 = f(xi +7*h0/8 ,y0 +(1631*k1/55296 +175*k2/512 +575*k3/13824 +44275*k4/110592 +253*k5/4096)*h0)\n",
      "    #adapRK4yi += (37*k1/378 +250*k3/621 +125*k4/594 +512*k6/1771)*h0\n",
      "    #adapRK5yi += (2825*k1/27648 +18575*k3/48384 +13525*k4/55296 +277*k5/14336 +k6/4)*h0\n",
      "    RK4ytemp = y0 +(37*k1/378 +250*k3/621 +125*k4/594 +512*k6/1771)*h0\n",
      "    RK5ytemp = y0 +(2825*k1/27648 +18575*k3/48384 +13525*k4/55296 +277*k5/14336 +k6/4)*h0\n",
      "    if np.fabs(RK4ytemp - RK5ytemp) > eps:\n",
      "        h0 = h0/2.\n",
      "        print h0/2.\n",
      "    if np.fabs(RK4ytemp - RK5ytemp) < eps:\n",
      "        xi += h0\n",
      "        yi = RK4ytemp\n",
      "        xlist.append(xi)\n",
      "        ylist.append(yi)"
     ],
     "language": "python",
     "metadata": {},
     "outputs": []
    },
    {
     "cell_type": "markdown",
     "metadata": {},
     "source": [
      "adaptive step-size using $\\epsilon_{min}$ & $\\epsilon_{min}$, the maximum and minimum allowable tolerances correspondingly\n",
      "==="
     ]
    },
    {
     "cell_type": "code",
     "collapsed": false,
     "input": [
      "#eps_min = 0.1*atto\n",
      "eps_min = 0\n",
      "eps_max = 0.5*pico\n",
      "h0 = milli\n",
      "x0 = 0.\n",
      "y0 = 0.5\n",
      "hi = h0\n",
      "xi = x0\n",
      "yi = y0\n",
      "xlist = []\n",
      "ylist = []\n",
      "xlist.append(xi)\n",
      "ylist.append(yi)\n",
      "for i in range(100):\n",
      "    k1 = f(xi,yi)\n",
      "    k2 = f(xi +hi/5 ,yi +k1*hi/5)\n",
      "    k3 = f(xi +3*hi/10 ,yi +(3*k1/40 +9*k2/40)*hi)\n",
      "    k4 = f(xi +3*hi/5 ,yi +(3*k1/10 -9*k2/10 +6*k3/5)*hi)\n",
      "    k5 = f(xi +hi ,yi +(-11*k1/54 +5*k2/2 -70*k3/27 +35*k4/27)*hi)\n",
      "    k6 = f(xi +7*hi/8 ,yi +(1631*k1/55296 +175*k2/512 +575*k3/13824 +44275*k4/110592 +253*k5/4096)*hi)\n",
      "    rk4_Y_est = yi +(37*k1/378 +250*k3/621 +125*k4/594 +512*k6/1771)*hi\n",
      "    rk5_Y_est = yi +(2825*k1/27648 +18575*k3/48384 +13525*k4/55296 +277*k5/14336 +k6/4)*hi\n",
      "    if np.fabs(rk4_Y_est-rk5_Y_est) < eps_min :\n",
      "        print 'the difference is', np.fabs(rk4_Y_est-rk5_Y_est)\n",
      "        hi = hi*(eps_min*hi/np.fabs(rk4_Y_est-rk5_Y_est))**(1/4)\n",
      "        print 'we incremented step size at', i\n",
      "        print 'to', hi\n",
      "        # we increase step size\n",
      "    if np.fabs(rk4_Y_est-rk5_Y_est) > eps_max :\n",
      "        hi = hi*(eps_max*h/np.fabs(rk4_Y_est-rk5_Y_est))**(1/4)\n",
      "        print 'we decreased step size'\n",
      "        print 'to', hi\n",
      "        # we decrease step size\n",
      "    if eps_max > np.fabs(rk4_Y_est-rk5_Y_est) > eps_min :\n",
      "        yi = rk4_Y_est\n",
      "        xi = xi+hi\n",
      "        xlist.append(xi)\n",
      "        ylist.append(yi)\n",
      "        print 'the increment is', hi, 'at step', i"
     ],
     "language": "python",
     "metadata": {},
     "outputs": []
    }
   ],
   "metadata": {}
  }
 ]
}