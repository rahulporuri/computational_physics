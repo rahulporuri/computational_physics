{
 "metadata": {
  "name": "",
  "signature": "sha256:2937cfc34d52487e64609db653c96591e245c7565b17e7193bee918cf7dc562a"
 },
 "nbformat": 3,
 "nbformat_minor": 0,
 "worksheets": []
}