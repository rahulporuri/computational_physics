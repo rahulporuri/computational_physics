{
 "metadata": {
  "name": ""
 },
 "nbformat": 3,
 "nbformat_minor": 0,
 "worksheets": [
  {
   "cells": [
    {
     "cell_type": "raw",
     "metadata": {},
     "source": [
      "initialize 2 dim matrix 100X100 - with zeros\n",
      "set one corner of this array 10X10 with particles, which we want to see evolving - with one\n",
      "particle positions shown with value 1 in the 2dim matrix to visualize easier!\n",
      "define function which will measure the interaction energy - lennard jones potential\n",
      "\n",
      "md monte carlo - ising\n",
      "> one random number generator to choose a position in the matrix\n",
      "    then we check if its filled by a particle already, otherwise restart\n",
      "        another random number generator to move it somewhere in the matrix\n",
      "            check if this new position is filled\n",
      "                if free, what is the energy difference?\n",
      "                    if -ve, flip\n",
      "                    else flip with probability\n",
      "\n",
      "arena = np.zeros([12,12])\n",
      "for i in xrange(3):\n",
      "    for j in range(3):\n",
      "        arena[i,j] = 1\n",
      "\n",
      "move_posn = np.arange(144)\n",
      "for i in xrange(10):\n",
      "    site = np.random.choice(move_posn)\n",
      "    if arena[site%12,site/12] = 1\n",
      "        tmp = np.random.random()\n",
      "        if arena[tmp%12,tmp/12] != 1\n",
      "            arena[site%12,site/12] = 0\n",
      "            arena[tmp%12,tmp/12] = 1\n",
      "\n",
      "md monte carlo - taught\n",
      "> initial positions defined - [particle no., x, y] for n particles, boundary conditions defined\n",
      "> random number generator to choose a particle!\n",
      "> 2 random number generators to choose move in x and move in y,\n",
      "> if already filled, dont move\n",
      "> if not move! - hard balls\n",
      "\"\"\"\n",
      "> if moved, change in energy?\n",
      "> if energy (final-energy)< 0; flip!\n",
      "> else: flip with probability exp(energy) - lennard jones potential.\n",
      "\"\"\"\n",
      "np.zeros([n,2]) n - no. of particles, 2 x & y coordinates\n",
      "np.zeros([n,2,2])"
     ]
    },
    {
     "cell_type": "code",
     "collapsed": false,
     "input": [
      "import numpy as np\n",
      "import matplotlib.pyplot as plt\n",
      "%matplotlib inline\n",
      "\"\"\"\n",
      "arena = np.zeros([100,100])\n",
      "for i in xrange(10):\n",
      "    for j in range(10):\n",
      "        arena[i,j] = 1\n",
      "plt.imshow(arena)\n",
      "\"\"\""
     ],
     "language": "python",
     "metadata": {},
     "outputs": [
      {
       "metadata": {},
       "output_type": "pyout",
       "prompt_number": 1,
       "text": [
        "'\\narena = np.zeros([100,100])\\nfor i in xrange(10):\\n    for j in range(10):\\n        arena[i,j] = 1\\nplt.imshow(arena)\\n'"
       ]
      }
     ],
     "prompt_number": 1
    },
    {
     "cell_type": "code",
     "collapsed": false,
     "input": [
      "arena = np.zeros([12,12])\n",
      "for i in xrange(3):\n",
      "    for j in range(3):\n",
      "        arena[i,j] = 1\n",
      "plt.imshow(arena)\n",
      "        \n",
      "move_posn = np.arange(144)\n",
      "for i in xrange(10):\n",
      "    site = np.random.choice(move_posn)\n",
      "    if arena[site%12,site/12] == 1 :\n",
      "        tmp = np.random.choice(move_posn)\n",
      "        if arena[tmp%12,tmp/12] != 1:\n",
      "            arena[site%12,site/12] = 0\n",
      "            arena[tmp%12,tmp/12] = 1"
     ],
     "language": "python",
     "metadata": {},
     "outputs": [
      {
       "metadata": {},
       "output_type": "display_data",
       "png": "[encoded data removed]",
       "text": [
        "<matplotlib.figure.Figure at 0xb151172c>"
       ]
      }
     ],
     "prompt_number": 2
    },
    {
     "cell_type": "code",
     "collapsed": false,
     "input": [
      "arena = np.zeros([12,12])\n",
      "for i in xrange(3):\n",
      "    for j in xrange(3):\n",
      "        arena[i,j] = 1\n",
      "        \n",
      "#plt.imshow(arena)\n",
      "\n",
      "move_posn = np.arange(144)\n",
      "for i in xrange(100000):\n",
      "    site = np.random.choice(move_posn)\n",
      "    if (arena[site%12,site/12] == 1) :\n",
      "        #print \"yes! there's a ball at\", site\n",
      "        tmp = np.random.choice(move_posn)\n",
      "        if (arena[tmp%12,tmp/12] != 1):\n",
      "            #print \"yes, you can move\", site, \"to\", tmp\n",
      "            arena[tmp%12, tmp/12] =1\n",
      "            arena[site%12, site/12] =0"
     ],
     "language": "python",
     "metadata": {},
     "outputs": [],
     "prompt_number": 6
    },
    {
     "cell_type": "code",
     "collapsed": false,
     "input": [
      "print arena"
     ],
     "language": "python",
     "metadata": {},
     "outputs": [
      {
       "output_type": "stream",
       "stream": "stdout",
       "text": [
        "[[ 0.  0.  0.  0.  0.  0.  0.  0.  0.  0.  0.  1.]\n",
        " [ 0.  0.  0.  0.  0.  0.  0.  0.  0.  0.  0.  1.]\n",
        " [ 0.  0.  0.  0.  0.  0.  0.  0.  0.  0.  0.  0.]\n",
        " [ 0.  0.  0.  0.  0.  0.  0.  0.  0.  0.  0.  0.]\n",
        " [ 0.  0.  0.  0.  0.  0.  0.  0.  0.  0.  0.  0.]\n",
        " [ 0.  0.  0.  0.  1.  0.  0.  0.  0.  0.  0.  0.]\n",
        " [ 0.  0.  0.  0.  0.  0.  0.  0.  1.  0.  0.  0.]\n",
        " [ 0.  0.  0.  0.  0.  0.  0.  0.  0.  0.  0.  0.]\n",
        " [ 0.  0.  0.  0.  0.  0.  0.  1.  0.  0.  0.  0.]\n",
        " [ 0.  0.  0.  0.  0.  0.  0.  0.  1.  0.  0.  0.]\n",
        " [ 0.  0.  0.  0.  0.  0.  0.  0.  0.  0.  0.  0.]\n",
        " [ 1.  0.  0.  0.  0.  1.  0.  0.  0.  1.  0.  0.]]\n"
       ]
      }
     ],
     "prompt_number": 7
    },
    {
     "cell_type": "code",
     "collapsed": false,
     "input": [
      "plt.imshow(arena)"
     ],
     "language": "python",
     "metadata": {},
     "outputs": [
      {
       "metadata": {},
       "output_type": "pyout",
       "prompt_number": 8,
       "text": [
        "<matplotlib.image.AxesImage at 0xb133ac2c>"
       ]
      },
      {
       "metadata": {},
       "output_type": "display_data",
       "png": "[encoded data removed]",
       "text": [
        "<matplotlib.figure.Figure at 0xb14d30cc>"
       ]
      }
     ],
     "prompt_number": 8
    },
    {
     "cell_type": "code",
     "collapsed": false,
     "input": [],
     "language": "python",
     "metadata": {},
     "outputs": []
    },
    {
     "cell_type": "code",
     "collapsed": false,
     "input": [
      "import matplotlib.pyplot as plt\n",
      "%matplotlib inline\n",
      "arena = np.zeros([9,2])\n",
      "for i in xrange(9):\n",
      "    arena[i][1] = i%3\n",
      "    arena[i][0] = i/3\n",
      "print arena"
     ],
     "language": "python",
     "metadata": {},
     "outputs": [
      {
       "output_type": "stream",
       "stream": "stdout",
       "text": [
        "[[ 0.  0.]\n",
        " [ 0.  1.]\n",
        " [ 0.  2.]\n",
        " [ 1.  0.]\n",
        " [ 1.  1.]\n",
        " [ 1.  2.]\n",
        " [ 2.  0.]\n",
        " [ 2.  1.]\n",
        " [ 2.  2.]]\n"
       ]
      }
     ],
     "prompt_number": 93
    },
    {
     "cell_type": "code",
     "collapsed": false,
     "input": [
      "x = []\n",
      "y = []\n",
      "for i in xrange(len(arena)):\n",
      "    x.append(arena[i][0])\n",
      "    y.append(arena[i][1])\n",
      "plt.scatter(x,y)"
     ],
     "language": "python",
     "metadata": {},
     "outputs": [
      {
       "metadata": {},
       "output_type": "pyout",
       "prompt_number": 94,
       "text": [
        "<matplotlib.collections.PathCollection at 0xb00a20cc>"
       ]
      },
      {
       "metadata": {},
       "output_type": "display_data",
       "png": "[encoded data removed]",
       "text": [
        "<matplotlib.figure.Figure at 0xb0153eac>"
       ]
      }
     ],
     "prompt_number": 94
    },
    {
     "cell_type": "code",
     "collapsed": false,
     "input": [
      "atom_list = np.arange(9)\n",
      "disp = np.arange(99)\n",
      "for iterations in xrange(10):\n",
      "    atom = np.random.choice(atom_list)\n",
      "    x = np.random.choice(disp)\n",
      "    y = np.random.choice(disp)\n",
      "    if arena[:].all() != np.array([x, y]).all():\n",
      "        arena[atom] = np.array([x, y])"
     ],
     "language": "python",
     "metadata": {},
     "outputs": [],
     "prompt_number": 96
    },
    {
     "cell_type": "code",
     "collapsed": false,
     "input": [
      "print arena[:]\n",
      "print len(arena)\n",
      "x = []\n",
      "y = []\n",
      "for i in xrange(len(arena)):\n",
      "    x.append(arena[i][0])\n",
      "    y.append(arena[i][1])\n",
      "print x,y\n",
      "#plt.scatter(arena[:][0],arena[:][1])\n",
      "plt.scatter(x,y);"
     ],
     "language": "python",
     "metadata": {},
     "outputs": [
      {
       "output_type": "stream",
       "stream": "stdout",
       "text": [
        "[[ 27.  46.]\n",
        " [ 86.   8.]\n",
        " [ 29.  76.]\n",
        " [ 13.  82.]\n",
        " [  1.   1.]\n",
        " [ 81.  86.]\n",
        " [ 37.  22.]\n",
        " [  2.   1.]\n",
        " [  2.   2.]]\n",
        "9\n",
        "[27.0, 86.0, 29.0, 13.0, 1.0, 81.0, 37.0, 2.0, 2.0] [46.0, 8.0, 76.0, 82.0, 1.0, 86.0, 22.0, 1.0, 2.0]\n"
       ]
      },
      {
       "metadata": {},
       "output_type": "display_data",
       "png": "[encoded data removed]",
       "text": [
        "<matplotlib.figure.Figure at 0xb006d64c>"
       ]
      }
     ],
     "prompt_number": 97
    },
    {
     "cell_type": "code",
     "collapsed": false,
     "input": [
      "arena[i][0]"
     ],
     "language": "python",
     "metadata": {},
     "outputs": [
      {
       "metadata": {},
       "output_type": "pyout",
       "prompt_number": 88,
       "text": [
        "36.0"
       ]
      }
     ],
     "prompt_number": 88
    },
    {
     "cell_type": "code",
     "collapsed": false,
     "input": [],
     "language": "python",
     "metadata": {},
     "outputs": []
    },
    {
     "cell_type": "code",
     "collapsed": false,
     "input": [
      "if arena[0].all() == np.array([1., 1.]).all():\n",
      "    print \"ohhyeah!!!\""
     ],
     "language": "python",
     "metadata": {},
     "outputs": [
      {
       "output_type": "stream",
       "stream": "stdout",
       "text": [
        "ohhyeah!!!\n"
       ]
      }
     ],
     "prompt_number": 65
    },
    {
     "cell_type": "code",
     "collapsed": false,
     "input": [
      "if arena[:].all() != np.array([5.,5.]).all():\n",
      "    print \"ohhyeah!!!\""
     ],
     "language": "python",
     "metadata": {},
     "outputs": [
      {
       "output_type": "stream",
       "stream": "stdout",
       "text": [
        "ohhyeah!!!\n"
       ]
      }
     ],
     "prompt_number": 72
    },
    {
     "cell_type": "code",
     "collapsed": false,
     "input": [
      "arena[0] = np.array([0.,0.])\n",
      "print arena"
     ],
     "language": "python",
     "metadata": {},
     "outputs": [
      {
       "output_type": "stream",
       "stream": "stdout",
       "text": [
        "[[ 4.  4.]\n",
        " [ 0.  1.]\n",
        " [ 0.  2.]\n",
        " [ 1.  0.]\n",
        " [ 1.  1.]\n",
        " [ 1.  2.]\n",
        " [ 2.  0.]\n",
        " [ 2.  1.]\n",
        " [ 2.  2.]]\n"
       ]
      }
     ],
     "prompt_number": 75
    },
    {
     "cell_type": "code",
     "collapsed": false,
     "input": [],
     "language": "python",
     "metadata": {},
     "outputs": []
    }
   ],
   "metadata": {}
  }
 ]
}