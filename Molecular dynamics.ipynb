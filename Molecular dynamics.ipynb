{
 "metadata": {
  "name": ""
 },
 "nbformat": 3,
 "nbformat_minor": 0,
 "worksheets": [
  {
   "cells": [
    {
     "cell_type": "raw",
     "metadata": {},
     "source": [
      "first we initialize the position and momentum of the particles\n",
      "then we define an interaction potential u(r), in our case the lennard-jones potantial, and we calculate the force on particles due to a lennard-jones potential. this force is a function of r, the distance between two objects.\n",
      "\n",
      "for particle i,\n",
      "    we calculate the distances r_ij\n",
      "    we calculate the angles theta_ij\n",
      "    we measure the forces by calling the function for the values r_ij\n",
      "    we take the x, y components of these forces using cos & sin theta_ij and save them in 2 arrays i.e force in the x direction and force in the y direction. either we save them in an array and then add them up or keep adding pxdot and pydot having initialized them properly on the fly.\n",
      "we do this for all particles and save the total force pxdot and pydot for each of these particles in 2 arrays.\n",
      "\n",
      "we now update the momentum using the velocity verlet method, using the forces pxdot and pydot for px and py correspondingly. mind you, this is to be done for all particles at once. do not update the particle momenta or positions in the i loop!\n",
      "\n",
      "!! one cycle would therefore contain distance and angle measurement, force measurement and components for all particles in the system followed by an update to the positions and momenta of all particles at once !!"
     ]
    },
    {
     "cell_type": "markdown",
     "metadata": {},
     "source": [
      "http://www.sklogwiki.org/SklogWiki/index.php/Lennard-Jones_model //\n",
      "\n",
      "http://www.sklogwiki.org/SklogWiki/index.php/Argon //\n",
      "\n",
      "we intend to use \\epsilon/k_B = 119.8 K and \\sigma = 0.3405 nm\n"
     ]
    },
    {
     "cell_type": "code",
     "collapsed": false,
     "input": [
      "import numpy as np\n",
      "import matplotlib.pyplot as plt\n",
      "from scipy.constants import nano, pico, N_A, m_p\n",
      "%matplotlib inline"
     ],
     "language": "python",
     "metadata": {},
     "outputs": [],
     "prompt_number": 1
    },
    {
     "cell_type": "code",
     "collapsed": false,
     "input": [
      "atoms = np.zeros([9,2,2])\n",
      "# atoms[i] refers to the ith particle\n",
      "# atoms[i][0] refers to the particle's x,y positions : atoms[i][0][0], atoms[i][0][1]\n",
      "# atoms[i][1] refers to the particle's x,y momenta : atoms[i][1][0], atoms[i][1][1]"
     ],
     "language": "python",
     "metadata": {},
     "outputs": [],
     "prompt_number": 29
    },
    {
     "cell_type": "code",
     "collapsed": false,
     "input": [
      "for i in xrange(9):\n",
      "    atoms[i][0][0] = i%3\n",
      "    atoms[i][0][1] = i/3\n",
      "    atoms[i][1][0] = 1\n",
      "    atoms[i][1][1] = 1\n",
      "atoms = atoms*nano"
     ],
     "language": "python",
     "metadata": {},
     "outputs": [],
     "prompt_number": 30
    },
    {
     "cell_type": "code",
     "collapsed": false,
     "input": [
      "# for a potential [(alpha/r)^6-(alpha/r)^12], the force is the negative derivative of this potential.\n",
      "def force(r):\n",
      "    return 24*e*(2*(sigma/r)**13-(sigma/r)**7)/sigma"
     ],
     "language": "python",
     "metadata": {},
     "outputs": [],
     "prompt_number": 42
    },
    {
     "cell_type": "code",
     "collapsed": false,
     "input": [
      "forcex = np.zeros(len(atoms))\n",
      "forcey = np.zeros(len(atoms))\n",
      "\n",
      "sigma = 0.3405*nano\n",
      "e = 997/N_A\n",
      "#def force_all():\n",
      "for i in xrange(len(atoms)):\n",
      "#    rij = []\n",
      "#    thetaij = []\n",
      "    pxdot = 0\n",
      "    pydot = 0\n",
      "    for j in xrange(len(atoms)):\n",
      "        if j != i :\n",
      "            r = np.sqrt(np.power((atoms[i][0][0] - atoms[j][0][0]),2) + np.power((atoms[i][0][1] - atoms[j][0][1]),2))\n",
      "            theta = np.arctan((atoms[j][0][1] - atoms[i][0][1])/(atoms[j][0][0] - atoms[i][0][0]))\n",
      "            #print i, j\n",
      "            #print \"distance\", r\n",
      "            #print \"angle\", theta, theta*180/np.pi\n",
      "            #note that theta is now in radians and has to be converted to degrees before being used in np.cos or np.sin\n",
      "    #        rij.append(r)\n",
      "    #        thetaij.append(theta)\n",
      "            theta = theta*180/np.pi\n",
      "            pxdot += force(r)*np.cos(theta)\n",
      "            pydot += force(r)*np.sin(theta)\n",
      "    forcex[i] = pxdot\n",
      "    forcey[i] = pydot\n",
      "    #return forcex, forcey"
     ],
     "language": "python",
     "metadata": {},
     "outputs": [],
     "prompt_number": 48
    },
    {
     "cell_type": "code",
     "collapsed": false,
     "input": [
      "print forcex, forcey"
     ],
     "language": "python",
     "metadata": {},
     "outputs": [
      {
       "output_type": "stream",
       "stream": "stdout",
       "text": [
        "[ -3.74475435e-14  -1.01698213e-13  -3.74475435e-14  -1.27041436e-14\n",
        "  -7.96383878e-14  -1.27041436e-14  -3.74475435e-14  -1.01698213e-13\n",
        "  -3.74475435e-14] [ -6.06566019e-14  -5.56196639e-14  -5.05827259e-14   7.27231147e-30\n",
        "   5.52202634e-30   0.00000000e+00   6.06566019e-14   5.56196639e-14\n",
        "   5.05827259e-14]\n"
       ]
      }
     ],
     "prompt_number": 49
    },
    {
     "cell_type": "code",
     "collapsed": false,
     "input": [
      "step = 1.*np.power(10,6)\n",
      "#while t < np.power(10,5):\n",
      "for i in xrange(len(atoms)):\n",
      "    # first momentum half step\n",
      "    atoms[i][1][0] = atoms[i][1][0] + forcex[i]*step/2 # px update\n",
      "    atoms[i][1][1] = atoms[i][1][1] + forcey[i]*step/2 # py update\n",
      "    # position update full step\n",
      "    atoms[i][0][0] = atoms[i][0][0] + atoms[i][1][0]*step # x update\n",
      "    atoms[i][0][1] = atoms[i][0][1] + atoms[i][1][1]*step # y update\n",
      "    # second momentum half step\n",
      "    atoms[i][1][0] = atoms[i][1][0] + forcex[i]*step/2 # px update\n",
      "    atoms[i][1][1] = atoms[i][1][1] + forcey[i]*step/2 # py update"
     ],
     "language": "python",
     "metadata": {},
     "outputs": [],
     "prompt_number": 53
    },
    {
     "cell_type": "code",
     "collapsed": false,
     "input": [
      "atoms"
     ],
     "language": "python",
     "metadata": {},
     "outputs": [
      {
       "metadata": {},
       "output_type": "pyout",
       "prompt_number": 54,
       "text": [
        "array([[[ -1.77238082e-02,  -2.93283606e-02],\n",
        "        [ -3.64475810e-08,  -5.96566626e-08]],\n",
        "\n",
        "       [[ -4.98492064e-02,  -2.68098866e-02],\n",
        "        [ -1.00698315e-07,  -5.46197195e-08]],\n",
        "\n",
        "       [[ -1.77238062e-02,  -2.42914125e-02],\n",
        "        [ -3.64475810e-08,  -4.95827765e-08]],\n",
        "\n",
        "       [[ -5.35208348e-03,   1.00000200e-03],\n",
        "        [ -1.17041563e-08,   1.00000000e-09]],\n",
        "\n",
        "       [[ -3.88192716e-02,   1.00000200e-03],\n",
        "        [ -7.86384675e-08,   1.00000000e-09]],\n",
        "\n",
        "       [[ -5.35208148e-03,   1.00000200e-03],\n",
        "        [ -1.17041563e-08,   1.00000000e-09]],\n",
        "\n",
        "       [[ -1.77238082e-02,   3.13283646e-02],\n",
        "        [ -3.64475810e-08,   6.16566626e-08]],\n",
        "\n",
        "       [[ -4.98492064e-02,   2.88098906e-02],\n",
        "        [ -1.00698315e-07,   5.66197195e-08]],\n",
        "\n",
        "       [[ -1.77238062e-02,   2.62914165e-02],\n",
        "        [ -3.64475810e-08,   5.15827765e-08]]])"
       ]
      }
     ],
     "prompt_number": 54
    },
    {
     "cell_type": "code",
     "collapsed": false,
     "input": [],
     "language": "python",
     "metadata": {},
     "outputs": []
    },
    {
     "cell_type": "code",
     "collapsed": false,
     "input": [
      "def force():\n",
      "    force_matrix = np.zeros([len(atoms),2])\n",
      "    for site in xrange(len(atoms)):\n",
      "        force_matrix[site] = force_particle(site)\n",
      "    return force_matrix\n",
      "\n",
      "def force_particle(site):\n",
      "    temp = 0\n",
      "    for i in xrange(len(atoms)):\n",
      "        if i != site:\n",
      "            temp += ((a/r)**12 - (a/r)**6)\n",
      "            "
     ],
     "language": "python",
     "metadata": {},
     "outputs": []
    },
    {
     "cell_type": "code",
     "collapsed": false,
     "input": [
      "e = 119.8*1.3806488/np.power(10,23)\n",
      "#e = 1\n",
      "#e = 997/N_A\n",
      "sigma = 1\n",
      "#sigma = 0.3405 # units of nm\n",
      "#m_p = 1.67262178/np.power(10,27)\n",
      "#m = 1\n",
      "#m = np.power(10,6)*m_p\n",
      "\n",
      "r = np.linspace(0.1,10,100)\n",
      "#r = np.linspace(0.01,10,1000) # units of nm\n",
      "\n",
      "force = 24*e*(2*(sigma/r)**12-(sigma/r)**6)/r\n",
      "#acc = (24.*e**(2.*(sigma/r)**12-(sigma/r)**6)/r)/m\n",
      "#energy = 4.*e*((sigma/r)**12-(sigma/r)**6)\n",
      "\n",
      "#plt.hold(True)\n",
      "plt.plot(force)\n",
      "#plt.plot(energy)\n",
      "#plt.plot(acc)\n",
      "#plt.ylim([-10,10])\n",
      "plt.xlim([0,2])\n",
      "#print force"
     ],
     "language": "python",
     "metadata": {},
     "outputs": [
      {
       "metadata": {},
       "output_type": "pyout",
       "prompt_number": 131,
       "text": [
        "(0, 2)"
       ]
      },
      {
       "metadata": {},
       "output_type": "display_data",
       "png": "[encoded data removed]",
       "text": [
        "<matplotlib.figure.Figure at 0xaffdf74c>"
       ]
      }
     ],
     "prompt_number": 131
    },
    {
     "cell_type": "code",
     "collapsed": false,
     "input": [
      "r = np.linspace(10*pico,1*nano,100)\n",
      "sigma = 0.3405*nano\n",
      "plt.plot(24*e*((sigma/r)**13-(sigma/r)**7)/sigma)\n",
      "plt.xlim([0,2])\n",
      "#plt.ylim([-50000,50000])"
     ],
     "language": "python",
     "metadata": {},
     "outputs": [
      {
       "metadata": {},
       "output_type": "pyout",
       "prompt_number": 39,
       "text": [
        "(0, 2)"
       ]
      },
      {
       "metadata": {},
       "output_type": "display_data",
       "png": "[encoded data removed]",
       "text": [
        "<matplotlib.figure.Figure at 0xb047572c>"
       ]
      }
     ],
     "prompt_number": 39
    },
    {
     "cell_type": "code",
     "collapsed": false,
     "input": [
      "24*e*((sigma/r)**13-(sigma/r)**7)/sigma"
     ],
     "language": "python",
     "metadata": {},
     "outputs": [
      {
       "metadata": {},
       "output_type": "pyout",
       "prompt_number": 40,
       "text": [
        "array([  9.65074530e+09,   1.17806945e+06,   6.05319047e+03,\n",
        "         1.43806934e+02,   7.90581129e+00,   7.38893078e-01,\n",
        "         9.95986721e-02,   1.75516507e-02,   3.79542237e-03,\n",
        "         9.64455292e-04,   2.79229948e-04,   9.00267910e-05,\n",
        "         3.17650927e-05,   1.21002151e-05,   4.92253336e-06,\n",
        "         2.11982749e-06,   9.59281262e-07,   4.53351791e-07,\n",
        "         2.22562544e-07,   1.12969146e-07,   5.90374043e-08,\n",
        "         3.16419190e-08,   1.73282134e-08,   9.66055242e-09,\n",
        "         5.46194470e-09,   3.11863854e-09,   1.78941114e-09,\n",
        "         1.02531211e-09,   5.81579230e-10,   3.22174020e-10,\n",
        "         1.70163626e-10,   8.13617667e-11,   3.00411334e-11,\n",
        "         1.04410684e-12,  -1.46484213e-11,  -2.24451671e-11,\n",
        "        -2.56076194e-11,  -2.61079595e-11,  -2.51380516e-11,\n",
        "        -2.34146055e-11,  -2.13638273e-11,  -1.92340313e-11,\n",
        "        -1.71647575e-11,  -1.52293982e-11,  -1.34615629e-11,\n",
        "        -1.18713961e-11,  -1.04556566e-11,  -9.20390588e-12,\n",
        "        -8.10226728e-12,  -7.13566752e-12,  -6.28913229e-12,\n",
        "        -5.54849627e-12,  -4.90075432e-12,  -4.33419663e-12,\n",
        "        -3.83841742e-12,  -3.40425334e-12,  -3.02368589e-12,\n",
        "        -2.68972909e-12,  -2.39631455e-12,  -2.13818122e-12,\n",
        "        -1.91077325e-12,  -1.71014771e-12,  -1.53289255e-12,\n",
        "        -1.37605437e-12,  -1.23707550e-12,  -1.11373934e-12,\n",
        "        -1.00412315e-12,  -9.06557363e-13,  -8.19590641e-13,\n",
        "        -7.41959797e-13,  -6.72564015e-13,  -6.10442717e-13,\n",
        "        -5.54756567e-13,  -5.04771168e-13,  -4.59843048e-13,\n",
        "        -4.19407622e-13,  -3.82968829e-13,  -3.50090214e-13,\n",
        "        -3.20387232e-13,  -2.93520607e-13,  -2.69190600e-13,\n",
        "        -2.47132043e-13,  -2.27110039e-13,  -2.08916230e-13,\n",
        "        -1.92365566e-13,  -1.77293481e-13,  -1.63553443e-13,\n",
        "        -1.51014817e-13,  -1.39560998e-13,  -1.29087777e-13,\n",
        "        -1.19501918e-13,  -1.10719899e-13,  -1.02666821e-13,\n",
        "        -9.52754386e-14,  -8.84853116e-14,  -8.22420591e-14,\n",
        "        -7.64966988e-14,  -7.12050652e-14,  -6.63272951e-14,\n",
        "        -6.18273721e-14])"
       ]
      }
     ],
     "prompt_number": 40
    },
    {
     "cell_type": "code",
     "collapsed": false,
     "input": [
      "def sum_force(site):\n",
      "    for i in xrange(len(atoms)):\n",
      "        if site != i:\n",
      "            np.dist(atoms[i][0]-atoms[site][0])"
     ],
     "language": "python",
     "metadata": {},
     "outputs": []
    },
    {
     "cell_type": "code",
     "collapsed": false,
     "input": [],
     "language": "python",
     "metadata": {},
     "outputs": []
    },
    {
     "cell_type": "code",
     "collapsed": false,
     "input": [
      "import scipy.spatial.distance as spd"
     ],
     "language": "python",
     "metadata": {},
     "outputs": [],
     "prompt_number": 38
    },
    {
     "cell_type": "code",
     "collapsed": false,
     "input": [
      "atoms = np.zeros([9,2,2])\n",
      "# atoms[i] refers to the ith particle\n",
      "# atoms[i][0] refers to the particle's x,y positions : atoms[i][0][0], atoms[i][0][1]\n",
      "# atoms[i][1] refers to the particle's x,y momenta : atoms[i][1][0], atoms[i][1][1]\n",
      "for i in xrange(9):\n",
      "    atoms[i][0][0] = i%3\n",
      "    atoms[i][0][1] = i/3\n",
      "    atoms[i][1][0] = 1\n",
      "    atoms[i][1][1] = 1\n",
      "atoms = atoms*nano\n",
      "# for a potential [(alpha/r)^6-(alpha/r)^12], the force is the negative derivative of this potential.\n",
      "def force(r):\n",
      "    return 24*e*(2*(sigma/r)**13-(sigma/r)**7)/sigma\n",
      "\n",
      "forcex = np.zeros(len(atoms))\n",
      "forcey = np.zeros(len(atoms))\n",
      "\n",
      "#sigma = 0.3405*nano\n",
      "#e = 997/N_A\n",
      "#def force_all():\n",
      "for i in xrange(len(atoms)):\n",
      "#    rij = []\n",
      "#    thetaij = []\n",
      "    pxdot = 0\n",
      "    pydot = 0\n",
      "    for j in xrange(len(atoms)):\n",
      "        if j != i :\n",
      "            r = np.sqrt(np.power((atoms[i][0][0] - atoms[j][0][0]),2) + np.power((atoms[i][0][1] - atoms[j][0][1]),2))\n",
      "            theta = np.arctan((atoms[j][0][1] - atoms[i][0][1])/(atoms[j][0][0] - atoms[i][0][0]))\n",
      "            #print i, j\n",
      "            #print \"distance\", r\n",
      "            #print \"angle\", theta, theta*180/np.pi\n",
      "            #note that theta is now in radians and has to be converted to degrees before being used in np.cos or np.sin\n",
      "    #        rij.append(r)\n",
      "    #        thetaij.append(theta)\n",
      "            theta = theta*180/np.pi\n",
      "            pxdot += force(r)*np.cos(theta)\n",
      "            pydot += force(r)*np.sin(theta)\n",
      "    forcex[i] = pxdot\n",
      "    forcey[i] = pydot\n",
      "    #return forcex, forcey\n",
      "#print forcex, forcey\n",
      "step = 1.*np.power(10,6)\n",
      "#while t < np.power(10,5):\n",
      "for i in xrange(len(atoms)):\n",
      "    # first momentum half step\n",
      "    atoms[i][1][0] = atoms[i][1][0] + forcex[i]*step/2 # px update\n",
      "    atoms[i][1][1] = atoms[i][1][1] + forcey[i]*step/2 # py update\n",
      "    # position update full step\n",
      "    atoms[i][0][0] = atoms[i][0][0] + atoms[i][1][0]*step # x update\n",
      "    atoms[i][0][1] = atoms[i][0][1] + atoms[i][1][1]*step # y update\n",
      "    # second momentum half step\n",
      "    atoms[i][1][0] = atoms[i][1][0] + forcex[i]*step/2 # px update\n",
      "    atoms[i][1][1] = atoms[i][1][1] + forcey[i]*step/2 # py update\n",
      "#atoms"
     ],
     "language": "python",
     "metadata": {},
     "outputs": []
    },
    {
     "cell_type": "code",
     "collapsed": false,
     "input": [
      "n = 9 # number of atoms in the system\n",
      "#e = sigma = 1.\n",
      "system = np.zeros([n,2,2])\n",
      "# initialization\n",
      "for i in xrange(9):\n",
      "    system[i][0][0] = i%3 # positions in a 3X3 lattice\n",
      "    system[i][0][1] = i/3 # 3 is the square root of 9. if n is changed, so should this value!\n",
      "    system[i][1][0] = 1 # x & y momenta = 1\n",
      "    system[i][1][1] = 1\n",
      "    \n",
      "def update_position():\n",
      "    for i in xrange(len(system)):\n",
      "        system[i][0] += system[i][1]*step/2\n",
      "    return system\n",
      "\n",
      "def update_momentum():\n",
      "    for i in xrange(len(system)):\n",
      "        system[i][1] += force[i]*step\n",
      "    return system\n",
      "\n",
      "def lennard_jones(r):\n",
      "    return 2*(1./r)**13 - (1./r)**7\n",
      "\n",
      "force = np.zeros([n,2])\n",
      "\n",
      "def update_forces():\n",
      "    for i in xrange(len(system)):\n",
      "        pxdot = 0\n",
      "        pydot = 0\n",
      "        for j in xrange(len(system)):\n",
      "            if j != i :\n",
      "                r = spd.euclidean(system[i][0],system[j][0])\n",
      "                theta = np.arctan((system[j][0][1] - system[i][0][1])/(system[j][0][0] - system[i][0][0]))\n",
      "                theta = theta*180/np.pi\n",
      "                pxdot += lennard_jones(r)*np.cos(theta)\n",
      "                pydot += lennard_jones(r)*np.sin(theta)\n",
      "        force[i] = np.array([pxdot, pydot])\n",
      "    return force\n",
      "\n",
      "def radial_number_density():\n",
      "    rad_dist = []\n",
      "    for i in xrange(len(system)):\n",
      "        for j in xrange(len(system)):\n",
      "            if i != j:\n",
      "                temp = spd.euclidean(system[i][0],system[j][0])\n",
      "                rad_dist.append(temp)\n",
      "    return rad_dist\n",
      "\n",
      "initial_dist = radial_number_density()\n",
      "\n",
      "step = 1./np.power(10,2)\n",
      "#step = 1.\n",
      "\n",
      "for timestep in range(100):\n",
      "    update_momentum()\n",
      "    update_position()\n",
      "    update_forces()\n",
      "    update_momentum()\n",
      "\n",
      "final_dist = radial_number_density()"
     ],
     "language": "python",
     "metadata": {},
     "outputs": [],
     "prompt_number": 64
    },
    {
     "cell_type": "code",
     "collapsed": false,
     "input": [
      "plt.subplot(121)\n",
      "plt.hist(initial_dist,10)\n",
      "plt.subplot(122)\n",
      "plt.hist(final_dist,10)"
     ],
     "language": "python",
     "metadata": {},
     "outputs": [
      {
       "metadata": {},
       "output_type": "pyout",
       "prompt_number": 65,
       "text": [
        "(array([ 14.,  12.,   0.,   4.,   6.,   6.,   8.,   0.,  18.,   4.]),\n",
        " array([ 0.79236049,  1.15086462,  1.50936876,  1.8678729 ,  2.22637703,\n",
        "        2.58488117,  2.94338531,  3.30188945,  3.66039358,  4.01889772,\n",
        "        4.37740186]),\n",
        " <a list of 10 Patch objects>)"
       ]
      },
      {
       "metadata": {},
       "output_type": "display_data",
       "png": "[encoded data removed]",
       "text": [
        "<matplotlib.figure.Figure at 0xb15adaac>"
       ]
      }
     ],
     "prompt_number": 65
    },
    {
     "cell_type": "code",
     "collapsed": false,
     "input": [
      "system"
     ],
     "language": "python",
     "metadata": {},
     "outputs": [
      {
       "metadata": {},
       "output_type": "pyout",
       "prompt_number": 63,
       "text": [
        "array([[[  5.00229130e-04,   4.99727462e-04],\n",
        "        [  1.00096744e+00,   9.98527444e-01]],\n",
        "\n",
        "       [[  1.00050067e+00,   4.99755576e-04],\n",
        "        [  1.00281176e+00,   9.98646149e-01]],\n",
        "\n",
        "       [[  2.00050023e+00,   4.99783690e-04],\n",
        "        [  1.00096745e+00,   9.98764854e-01]],\n",
        "\n",
        "       [[  5.00011550e-04,   1.00050000e+00],\n",
        "        [  1.00004877e+00,   1.00000000e+00]],\n",
        "\n",
        "       [[  1.00050043e+00,   1.00050000e+00],\n",
        "        [  1.00183267e+00,   1.00000000e+00]],\n",
        "\n",
        "       [[  2.00050001e+00,   1.00050000e+00],\n",
        "        [  1.00004878e+00,   1.00000000e+00]],\n",
        "\n",
        "       [[  5.00229130e-04,   2.00050027e+00],\n",
        "        [  1.00096744e+00,   1.00147256e+00]],\n",
        "\n",
        "       [[  1.00050067e+00,   2.00050024e+00],\n",
        "        [  1.00281176e+00,   1.00135385e+00]],\n",
        "\n",
        "       [[  2.00050023e+00,   2.00050022e+00],\n",
        "        [  1.00096745e+00,   1.00123515e+00]]])"
       ]
      }
     ],
     "prompt_number": 63
    },
    {
     "cell_type": "code",
     "collapsed": false,
     "input": [],
     "language": "python",
     "metadata": {},
     "outputs": []
    }
   ],
   "metadata": {}
  }
 ]
}