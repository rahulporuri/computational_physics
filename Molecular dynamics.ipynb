{
 "metadata": {
  "name": "",
  "signature": "sha256:73219e192bce0bcc8c676ac4ad64966c64ec81adce8a76da7013bd001ecf7d30"
 },
 "nbformat": 3,
 "nbformat_minor": 0,
 "worksheets": [
  {
   "cells": [
    {
     "cell_type": "raw",
     "metadata": {},
     "source": [
      "first we initialize the position and momentum of the particles\n",
      "then we define an interaction potential u(r), in our case the lennard-jones potantial, and we calculate the force on particles due to a lennard-jones potential. this force is a function of r, the distance between two objects.\n",
      "\n",
      "for particle i,\n",
      "    we calculate the distances r_ij\n",
      "    we calculate the angles theta_ij\n",
      "    we measure the forces by calling the function for the values r_ij\n",
      "    we take the x, y components of these forces using cos & sin theta_ij and save them in 2 arrays i.e force in the x direction and force in the y direction. either we save them in an array and then add them up or keep adding pxdot and pydot having initialized them properly on the fly.\n",
      "we do this for all particles and save the total force pxdot and pydot for each of these particles in 2 arrays.\n",
      "\n",
      "we now update the momentum using the velocity verlet method, using the forces pxdot and pydot for px and py correspondingly. mind you, this is to be done for all particles at once. do not update the particle momenta or positions in the i loop!\n",
      "\n",
      "!! one cycle would therefore contain distance and angle measurement, force measurement and components for all particles in the system followed by an update to the positions and momenta of all particles at once !!"
     ]
    },
    {
     "cell_type": "markdown",
     "metadata": {},
     "source": [
      "http://www.sklogwiki.org/SklogWiki/index.php/Lennard-Jones_model //\n",
      "\n",
      "http://www.sklogwiki.org/SklogWiki/index.php/Argon //\n",
      "\n",
      "we intend to use \\epsilon/k_B = 119.8 K and \\sigma = 0.3405 nm\n"
     ]
    },
    {
     "cell_type": "code",
     "collapsed": false,
     "input": [
      "import numpy as np\n",
      "import matplotlib.pyplot as plt\n",
      "from scipy.constants import nano, pico, N_A, m_p\n",
      "%matplotlib inline"
     ],
     "language": "python",
     "metadata": {},
     "outputs": [
      {
       "ename": "ImportError",
       "evalue": "Matplotlib backend_wx and backend_wxagg require wxPython >=2.8",
       "output_type": "pyerr",
       "traceback": [
        "\u001b[1;31m---------------------------------------------------------------------------\u001b[0m\n\u001b[1;31mImportError\u001b[0m                               Traceback (most recent call last)",
        "\u001b[1;32m<ipython-input-2-a984a7372d7b>\u001b[0m in \u001b[0;36m<module>\u001b[1;34m()\u001b[0m\n\u001b[0;32m      1\u001b[0m \u001b[1;32mimport\u001b[0m \u001b[0mnumpy\u001b[0m \u001b[1;32mas\u001b[0m \u001b[0mnp\u001b[0m\u001b[1;33m\u001b[0m\u001b[0m\n\u001b[1;32m----> 2\u001b[1;33m \u001b[1;32mimport\u001b[0m \u001b[0mmatplotlib\u001b[0m\u001b[1;33m.\u001b[0m\u001b[0mpyplot\u001b[0m \u001b[1;32mas\u001b[0m \u001b[0mplt\u001b[0m\u001b[1;33m\u001b[0m\u001b[0m\n\u001b[0m\u001b[0;32m      3\u001b[0m \u001b[1;32mfrom\u001b[0m \u001b[0mscipy\u001b[0m\u001b[1;33m.\u001b[0m\u001b[0mconstants\u001b[0m \u001b[1;32mimport\u001b[0m \u001b[0mnano\u001b[0m\u001b[1;33m,\u001b[0m \u001b[0mpico\u001b[0m\u001b[1;33m,\u001b[0m \u001b[0mN_A\u001b[0m\u001b[1;33m,\u001b[0m \u001b[0mm_p\u001b[0m\u001b[1;33m\u001b[0m\u001b[0m\n\u001b[0;32m      4\u001b[0m \u001b[0mget_ipython\u001b[0m\u001b[1;33m(\u001b[0m\u001b[1;33m)\u001b[0m\u001b[1;33m.\u001b[0m\u001b[0mmagic\u001b[0m\u001b[1;33m(\u001b[0m\u001b[1;34mu'matplotlib inline'\u001b[0m\u001b[1;33m)\u001b[0m\u001b[1;33m\u001b[0m\u001b[0m\n",
        "\u001b[1;32m/home/rahulporuri/Enthought/Canopy_32bit/User/lib/python2.7/site-packages/matplotlib/pyplot.py\u001b[0m in \u001b[0;36m<module>\u001b[1;34m()\u001b[0m\n\u001b[0;32m    106\u001b[0m \u001b[1;33m\u001b[0m\u001b[0m\n\u001b[0;32m    107\u001b[0m \u001b[1;32mfrom\u001b[0m \u001b[0mmatplotlib\u001b[0m\u001b[1;33m.\u001b[0m\u001b[0mbackends\u001b[0m \u001b[1;32mimport\u001b[0m \u001b[0mpylab_setup\u001b[0m\u001b[1;33m\u001b[0m\u001b[0m\n\u001b[1;32m--> 108\u001b[1;33m \u001b[0m_backend_mod\u001b[0m\u001b[1;33m,\u001b[0m \u001b[0mnew_figure_manager\u001b[0m\u001b[1;33m,\u001b[0m \u001b[0mdraw_if_interactive\u001b[0m\u001b[1;33m,\u001b[0m \u001b[0m_show\u001b[0m \u001b[1;33m=\u001b[0m \u001b[0mpylab_setup\u001b[0m\u001b[1;33m(\u001b[0m\u001b[1;33m)\u001b[0m\u001b[1;33m\u001b[0m\u001b[0m\n\u001b[0m\u001b[0;32m    109\u001b[0m \u001b[1;33m\u001b[0m\u001b[0m\n\u001b[0;32m    110\u001b[0m \u001b[1;33m\u001b[0m\u001b[0m\n",
        "\u001b[1;32m/home/rahulporuri/Enthought/Canopy_32bit/User/lib/python2.7/site-packages/matplotlib/backends/__init__.pyc\u001b[0m in \u001b[0;36mpylab_setup\u001b[1;34m()\u001b[0m\n\u001b[0;32m     30\u001b[0m     \u001b[1;31m# imports. 0 means only perform absolute imports.\u001b[0m\u001b[1;33m\u001b[0m\u001b[1;33m\u001b[0m\u001b[0m\n\u001b[0;32m     31\u001b[0m     backend_mod = __import__(backend_name,\n\u001b[1;32m---> 32\u001b[1;33m                              globals(),locals(),[backend_name],0)\n\u001b[0m\u001b[0;32m     33\u001b[0m \u001b[1;33m\u001b[0m\u001b[0m\n\u001b[0;32m     34\u001b[0m     \u001b[1;31m# Things we pull in from all backends\u001b[0m\u001b[1;33m\u001b[0m\u001b[1;33m\u001b[0m\u001b[0m\n",
        "\u001b[1;32m/home/rahulporuri/Enthought/Canopy_32bit/User/lib/python2.7/site-packages/matplotlib/backends/backend_wxagg.py\u001b[0m in \u001b[0;36m<module>\u001b[1;34m()\u001b[0m\n\u001b[0;32m      8\u001b[0m \u001b[1;33m\u001b[0m\u001b[0m\n\u001b[0;32m      9\u001b[0m \u001b[1;32mfrom\u001b[0m \u001b[1;33m.\u001b[0m\u001b[0mbackend_agg\u001b[0m \u001b[1;32mimport\u001b[0m \u001b[0mFigureCanvasAgg\u001b[0m\u001b[1;33m\u001b[0m\u001b[0m\n\u001b[1;32m---> 10\u001b[1;33m \u001b[1;32mfrom\u001b[0m \u001b[1;33m.\u001b[0m \u001b[1;32mimport\u001b[0m \u001b[0mbackend_wx\u001b[0m    \u001b[1;31m# already uses wxversion.ensureMinimal('2.8')\u001b[0m\u001b[1;33m\u001b[0m\u001b[0m\n\u001b[0m\u001b[0;32m     11\u001b[0m \u001b[1;32mfrom\u001b[0m \u001b[1;33m.\u001b[0m\u001b[0mbackend_wx\u001b[0m \u001b[1;32mimport\u001b[0m \u001b[0mFigureManagerWx\u001b[0m\u001b[1;33m,\u001b[0m \u001b[0mFigureCanvasWx\u001b[0m\u001b[1;33m,\u001b[0m\u001b[0;31m \u001b[0m\u001b[0;31m\\\u001b[0m\u001b[1;33m\u001b[0m\u001b[0m\n\u001b[0;32m     12\u001b[0m     \u001b[0mFigureFrameWx\u001b[0m\u001b[1;33m,\u001b[0m \u001b[0mDEBUG_MSG\u001b[0m\u001b[1;33m,\u001b[0m \u001b[0mNavigationToolbar2Wx\u001b[0m\u001b[1;33m,\u001b[0m \u001b[0merror_msg_wx\u001b[0m\u001b[1;33m,\u001b[0m\u001b[0;31m \u001b[0m\u001b[0;31m\\\u001b[0m\u001b[1;33m\u001b[0m\u001b[0m\n",
        "\u001b[1;32m/home/rahulporuri/Enthought/Canopy_32bit/User/lib/python2.7/site-packages/matplotlib/backends/backend_wx.py\u001b[0m in \u001b[0;36m<module>\u001b[1;34m()\u001b[0m\n\u001b[0;32m     74\u001b[0m     \u001b[0mbackend_version\u001b[0m \u001b[1;33m=\u001b[0m \u001b[0mwx\u001b[0m\u001b[1;33m.\u001b[0m\u001b[0mVERSION_STRING\u001b[0m\u001b[1;33m\u001b[0m\u001b[0m\n\u001b[0;32m     75\u001b[0m \u001b[1;32mexcept\u001b[0m \u001b[0mImportError\u001b[0m\u001b[1;33m:\u001b[0m\u001b[1;33m\u001b[0m\u001b[0m\n\u001b[1;32m---> 76\u001b[1;33m     \u001b[1;32mraise\u001b[0m \u001b[0mImportError\u001b[0m\u001b[1;33m(\u001b[0m\u001b[0mmissingwx\u001b[0m\u001b[1;33m)\u001b[0m\u001b[1;33m\u001b[0m\u001b[0m\n\u001b[0m\u001b[0;32m     77\u001b[0m \u001b[1;33m\u001b[0m\u001b[0m\n\u001b[0;32m     78\u001b[0m \u001b[1;31m# Extra version check in case wxversion lacks AlreadyImportedError;\u001b[0m\u001b[1;33m\u001b[0m\u001b[1;33m\u001b[0m\u001b[0m\n",
        "\u001b[1;31mImportError\u001b[0m: Matplotlib backend_wx and backend_wxagg require wxPython >=2.8"
       ]
      }
     ],
     "prompt_number": 2
    },
    {
     "cell_type": "code",
     "collapsed": false,
     "input": [
      "atoms = np.zeros([9,2,2])\n",
      "# atoms[i] refers to the ith particle\n",
      "# atoms[i][0] refers to the particle's x,y positions : atoms[i][0][0], atoms[i][0][1]\n",
      "# atoms[i][1] refers to the particle's x,y momenta : atoms[i][1][0], atoms[i][1][1]"
     ],
     "language": "python",
     "metadata": {},
     "outputs": [],
     "prompt_number": 29
    },
    {
     "cell_type": "code",
     "collapsed": false,
     "input": [
      "for i in xrange(9):\n",
      "    atoms[i][0][0] = i%3\n",
      "    atoms[i][0][1] = i/3\n",
      "    atoms[i][1][0] = 1\n",
      "    atoms[i][1][1] = 1\n",
      "atoms = atoms*nano"
     ],
     "language": "python",
     "metadata": {},
     "outputs": [],
     "prompt_number": 30
    },
    {
     "cell_type": "code",
     "collapsed": false,
     "input": [
      "# for a potential [(alpha/r)^6-(alpha/r)^12], the force is the negative derivative of this potential.\n",
      "def force(r):\n",
      "    return 24*e*(2*(sigma/r)**13-(sigma/r)**7)/sigma"
     ],
     "language": "python",
     "metadata": {},
     "outputs": [],
     "prompt_number": 42
    },
    {
     "cell_type": "code",
     "collapsed": false,
     "input": [
      "forcex = np.zeros(len(atoms))\n",
      "forcey = np.zeros(len(atoms))\n",
      "\n",
      "sigma = 0.3405*nano\n",
      "e = 997/N_A\n",
      "#def force_all():\n",
      "for i in xrange(len(atoms)):\n",
      "#    rij = []\n",
      "#    thetaij = []\n",
      "    pxdot = 0\n",
      "    pydot = 0\n",
      "    for j in xrange(len(atoms)):\n",
      "        if j != i :\n",
      "            r = np.sqrt(np.power((atoms[i][0][0] - atoms[j][0][0]),2) + np.power((atoms[i][0][1] - atoms[j][0][1]),2))\n",
      "            theta = np.arctan((atoms[j][0][1] - atoms[i][0][1])/(atoms[j][0][0] - atoms[i][0][0]))\n",
      "            #print i, j\n",
      "            #print \"distance\", r\n",
      "            #print \"angle\", theta, theta*180/np.pi\n",
      "            #note that theta is now in radians and has to be converted to degrees before being used in np.cos or np.sin\n",
      "    #        rij.append(r)\n",
      "    #        thetaij.append(theta)\n",
      "            theta = theta*180/np.pi\n",
      "            pxdot += force(r)*np.cos(theta)\n",
      "            pydot += force(r)*np.sin(theta)\n",
      "    forcex[i] = pxdot\n",
      "    forcey[i] = pydot\n",
      "    #return forcex, forcey"
     ],
     "language": "python",
     "metadata": {},
     "outputs": [],
     "prompt_number": 48
    },
    {
     "cell_type": "code",
     "collapsed": false,
     "input": [
      "print forcex, forcey"
     ],
     "language": "python",
     "metadata": {},
     "outputs": [
      {
       "output_type": "stream",
       "stream": "stdout",
       "text": [
        "[ -3.74475435e-14  -1.01698213e-13  -3.74475435e-14  -1.27041436e-14\n",
        "  -7.96383878e-14  -1.27041436e-14  -3.74475435e-14  -1.01698213e-13\n",
        "  -3.74475435e-14] [ -6.06566019e-14  -5.56196639e-14  -5.05827259e-14   7.27231147e-30\n",
        "   5.52202634e-30   0.00000000e+00   6.06566019e-14   5.56196639e-14\n",
        "   5.05827259e-14]\n"
       ]
      }
     ],
     "prompt_number": 49
    },
    {
     "cell_type": "code",
     "collapsed": false,
     "input": [
      "step = 1.*np.power(10,6)\n",
      "#while t < np.power(10,5):\n",
      "for i in xrange(len(atoms)):\n",
      "    # first momentum half step\n",
      "    atoms[i][1][0] = atoms[i][1][0] + forcex[i]*step/2 # px update\n",
      "    atoms[i][1][1] = atoms[i][1][1] + forcey[i]*step/2 # py update\n",
      "    # position update full step\n",
      "    atoms[i][0][0] = atoms[i][0][0] + atoms[i][1][0]*step # x update\n",
      "    atoms[i][0][1] = atoms[i][0][1] + atoms[i][1][1]*step # y update\n",
      "    # second momentum half step\n",
      "    atoms[i][1][0] = atoms[i][1][0] + forcex[i]*step/2 # px update\n",
      "    atoms[i][1][1] = atoms[i][1][1] + forcey[i]*step/2 # py update"
     ],
     "language": "python",
     "metadata": {},
     "outputs": [],
     "prompt_number": 53
    },
    {
     "cell_type": "code",
     "collapsed": false,
     "input": [
      "atoms"
     ],
     "language": "python",
     "metadata": {},
     "outputs": [
      {
       "metadata": {},
       "output_type": "pyout",
       "prompt_number": 54,
       "text": [
        "array([[[ -1.77238082e-02,  -2.93283606e-02],\n",
        "        [ -3.64475810e-08,  -5.96566626e-08]],\n",
        "\n",
        "       [[ -4.98492064e-02,  -2.68098866e-02],\n",
        "        [ -1.00698315e-07,  -5.46197195e-08]],\n",
        "\n",
        "       [[ -1.77238062e-02,  -2.42914125e-02],\n",
        "        [ -3.64475810e-08,  -4.95827765e-08]],\n",
        "\n",
        "       [[ -5.35208348e-03,   1.00000200e-03],\n",
        "        [ -1.17041563e-08,   1.00000000e-09]],\n",
        "\n",
        "       [[ -3.88192716e-02,   1.00000200e-03],\n",
        "        [ -7.86384675e-08,   1.00000000e-09]],\n",
        "\n",
        "       [[ -5.35208148e-03,   1.00000200e-03],\n",
        "        [ -1.17041563e-08,   1.00000000e-09]],\n",
        "\n",
        "       [[ -1.77238082e-02,   3.13283646e-02],\n",
        "        [ -3.64475810e-08,   6.16566626e-08]],\n",
        "\n",
        "       [[ -4.98492064e-02,   2.88098906e-02],\n",
        "        [ -1.00698315e-07,   5.66197195e-08]],\n",
        "\n",
        "       [[ -1.77238062e-02,   2.62914165e-02],\n",
        "        [ -3.64475810e-08,   5.15827765e-08]]])"
       ]
      }
     ],
     "prompt_number": 54
    },
    {
     "cell_type": "code",
     "collapsed": false,
     "input": [],
     "language": "python",
     "metadata": {},
     "outputs": []
    },
    {
     "cell_type": "code",
     "collapsed": false,
     "input": [
      "def force():\n",
      "    force_matrix = np.zeros([len(atoms),2])\n",
      "    for site in xrange(len(atoms)):\n",
      "        force_matrix[site] = force_particle(site)\n",
      "    return force_matrix\n",
      "\n",
      "def force_particle(site):\n",
      "    temp = 0\n",
      "    for i in xrange(len(atoms)):\n",
      "        if i != site:\n",
      "            temp += ((a/r)**12 - (a/r)**6)\n",
      "            "
     ],
     "language": "python",
     "metadata": {},
     "outputs": []
    },
    {
     "cell_type": "code",
     "collapsed": false,
     "input": [
      "e = 119.8*1.3806488/np.power(10,23)\n",
      "#e = 1\n",
      "#e = 997/N_A\n",
      "sigma = 1\n",
      "#sigma = 0.3405 # units of nm\n",
      "#m_p = 1.67262178/np.power(10,27)\n",
      "#m = 1\n",
      "#m = np.power(10,6)*m_p\n",
      "\n",
      "r = np.linspace(0.1,10,100)\n",
      "#r = np.linspace(0.01,10,1000) # units of nm\n",
      "\n",
      "force = 24*e*(2*(sigma/r)**12-(sigma/r)**6)/r\n",
      "#acc = (24.*e**(2.*(sigma/r)**12-(sigma/r)**6)/r)/m\n",
      "#energy = 4.*e*((sigma/r)**12-(sigma/r)**6)\n",
      "\n",
      "#plt.hold(True)\n",
      "plt.plot(force)\n",
      "#plt.plot(energy)\n",
      "#plt.plot(acc)\n",
      "#plt.ylim([-10,10])\n",
      "plt.xlim([0,2])\n",
      "#print force"
     ],
     "language": "python",
     "metadata": {},
     "outputs": [
      {
       "metadata": {},
       "output_type": "pyout",
       "prompt_number": 131,
       "text": [
        "(0, 2)"
       ]
      },
      {
       "metadata": {},
       "output_type": "display_data",
       "png": "[encoded data removed]",
       "text": [
        "<matplotlib.figure.Figure at 0xaffdf74c>"
       ]
      }
     ],
     "prompt_number": 131
    },
    {
     "cell_type": "code",
     "collapsed": false,
     "input": [
      "# plot the force wrt r\n",
      "# we have e and sigma as the parameters in force and sigma should have the units of r.\n",
      "import IPython\n",
      "IPython.__version__"
     ],
     "language": "python",
     "metadata": {},
     "outputs": [
      {
       "metadata": {},
       "output_type": "pyout",
       "prompt_number": 1,
       "text": [
        "'2.3.0'"
       ]
      }
     ],
     "prompt_number": 1
    },
    {
     "cell_type": "code",
     "collapsed": false,
     "input": [
      "print 1./np.power(10,9)"
     ],
     "language": "python",
     "metadata": {},
     "outputs": [
      {
       "output_type": "stream",
       "stream": "stdout",
       "text": [
        "1e-09\n"
       ]
      }
     ],
     "prompt_number": 5
    },
    {
     "cell_type": "code",
     "collapsed": false,
     "input": [
      "from scipy.constants import nano, pico"
     ],
     "language": "python",
     "metadata": {},
     "outputs": [],
     "prompt_number": 9
    },
    {
     "cell_type": "code",
     "collapsed": false,
     "input": [
      "l = 50.*pico"
     ],
     "language": "python",
     "metadata": {},
     "outputs": [],
     "prompt_number": 12
    },
    {
     "cell_type": "code",
     "collapsed": false,
     "input": [
      "print l"
     ],
     "language": "python",
     "metadata": {},
     "outputs": [
      {
       "output_type": "stream",
       "stream": "stdout",
       "text": [
        "5e-11\n"
       ]
      }
     ],
     "prompt_number": 13
    },
    {
     "cell_type": "code",
     "collapsed": false,
     "input": [
      "print np.linspace(100*pico,nano,10)"
     ],
     "language": "python",
     "metadata": {},
     "outputs": [
      {
       "output_type": "stream",
       "stream": "stdout",
       "text": [
        "[  1.00000000e-10   2.00000000e-10   3.00000000e-10   4.00000000e-10\n",
        "   5.00000000e-10   6.00000000e-10   7.00000000e-10   8.00000000e-10\n",
        "   9.00000000e-10   1.00000000e-09]\n"
       ]
      }
     ],
     "prompt_number": 14
    },
    {
     "cell_type": "code",
     "collapsed": false,
     "input": [
      "sigma = 0.3405*nano\n",
      "print sigma\n",
      "e = 997/N_A\n",
      "print e"
     ],
     "language": "python",
     "metadata": {},
     "outputs": [
      {
       "output_type": "stream",
       "stream": "stdout",
       "text": [
        "3.405e-10\n",
        "1.65555730427e-21\n"
       ]
      }
     ],
     "prompt_number": 33
    },
    {
     "cell_type": "code",
     "collapsed": false,
     "input": [
      "r = np.linspace(10*pico,1*nano,100)\n",
      "sigma = 0.3405*nano\n",
      "plt.plot(24*e*((sigma/r)**13-(sigma/r)**7)/sigma)\n",
      "plt.xlim([0,2])\n",
      "#plt.ylim([-50000,50000])"
     ],
     "language": "python",
     "metadata": {},
     "outputs": [
      {
       "metadata": {},
       "output_type": "pyout",
       "prompt_number": 39,
       "text": [
        "(0, 2)"
       ]
      },
      {
       "metadata": {},
       "output_type": "display_data",
       "png": "[encoded data removed]",
       "text": [
        "<matplotlib.figure.Figure at 0xb047572c>"
       ]
      }
     ],
     "prompt_number": 39
    },
    {
     "cell_type": "code",
     "collapsed": false,
     "input": [
      "24*e*((sigma/r)**13-(sigma/r)**7)/sigma"
     ],
     "language": "python",
     "metadata": {},
     "outputs": [
      {
       "metadata": {},
       "output_type": "pyout",
       "prompt_number": 40,
       "text": [
        "array([  9.65074530e+09,   1.17806945e+06,   6.05319047e+03,\n",
        "         1.43806934e+02,   7.90581129e+00,   7.38893078e-01,\n",
        "         9.95986721e-02,   1.75516507e-02,   3.79542237e-03,\n",
        "         9.64455292e-04,   2.79229948e-04,   9.00267910e-05,\n",
        "         3.17650927e-05,   1.21002151e-05,   4.92253336e-06,\n",
        "         2.11982749e-06,   9.59281262e-07,   4.53351791e-07,\n",
        "         2.22562544e-07,   1.12969146e-07,   5.90374043e-08,\n",
        "         3.16419190e-08,   1.73282134e-08,   9.66055242e-09,\n",
        "         5.46194470e-09,   3.11863854e-09,   1.78941114e-09,\n",
        "         1.02531211e-09,   5.81579230e-10,   3.22174020e-10,\n",
        "         1.70163626e-10,   8.13617667e-11,   3.00411334e-11,\n",
        "         1.04410684e-12,  -1.46484213e-11,  -2.24451671e-11,\n",
        "        -2.56076194e-11,  -2.61079595e-11,  -2.51380516e-11,\n",
        "        -2.34146055e-11,  -2.13638273e-11,  -1.92340313e-11,\n",
        "        -1.71647575e-11,  -1.52293982e-11,  -1.34615629e-11,\n",
        "        -1.18713961e-11,  -1.04556566e-11,  -9.20390588e-12,\n",
        "        -8.10226728e-12,  -7.13566752e-12,  -6.28913229e-12,\n",
        "        -5.54849627e-12,  -4.90075432e-12,  -4.33419663e-12,\n",
        "        -3.83841742e-12,  -3.40425334e-12,  -3.02368589e-12,\n",
        "        -2.68972909e-12,  -2.39631455e-12,  -2.13818122e-12,\n",
        "        -1.91077325e-12,  -1.71014771e-12,  -1.53289255e-12,\n",
        "        -1.37605437e-12,  -1.23707550e-12,  -1.11373934e-12,\n",
        "        -1.00412315e-12,  -9.06557363e-13,  -8.19590641e-13,\n",
        "        -7.41959797e-13,  -6.72564015e-13,  -6.10442717e-13,\n",
        "        -5.54756567e-13,  -5.04771168e-13,  -4.59843048e-13,\n",
        "        -4.19407622e-13,  -3.82968829e-13,  -3.50090214e-13,\n",
        "        -3.20387232e-13,  -2.93520607e-13,  -2.69190600e-13,\n",
        "        -2.47132043e-13,  -2.27110039e-13,  -2.08916230e-13,\n",
        "        -1.92365566e-13,  -1.77293481e-13,  -1.63553443e-13,\n",
        "        -1.51014817e-13,  -1.39560998e-13,  -1.29087777e-13,\n",
        "        -1.19501918e-13,  -1.10719899e-13,  -1.02666821e-13,\n",
        "        -9.52754386e-14,  -8.84853116e-14,  -8.22420591e-14,\n",
        "        -7.64966988e-14,  -7.12050652e-14,  -6.63272951e-14,\n",
        "        -6.18273721e-14])"
       ]
      }
     ],
     "prompt_number": 40
    },
    {
     "cell_type": "code",
     "collapsed": false,
     "input": [
      "def sum_force(site):\n",
      "    for i in xrange(len(atoms)):\n",
      "        if site != i:\n",
      "            np.dist(atoms[i][0]-atoms[site][0])"
     ],
     "language": "python",
     "metadata": {},
     "outputs": []
    }
   ],
   "metadata": {}
  }
 ]
}